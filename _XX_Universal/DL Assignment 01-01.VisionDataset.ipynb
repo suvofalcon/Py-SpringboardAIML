{
 "metadata": {
  "language_info": {
   "codemirror_mode": {
    "name": "ipython",
    "version": 3
   },
   "file_extension": ".py",
   "mimetype": "text/x-python",
   "name": "python",
   "nbconvert_exporter": "python",
   "pygments_lexer": "ipython3",
   "version": "3.8.10"
  },
  "orig_nbformat": 4,
  "kernelspec": {
   "name": "python3",
   "display_name": "Python 3.8.10 64-bit ('tensorflow-gpu': conda)"
  },
  "interpreter": {
   "hash": "658eb51e50cabe43eb015cdee70e2f5d0c7abd5e29923e3e04ff83a044688658"
  }
 },
 "nbformat": 4,
 "nbformat_minor": 2,
 "cells": [
  {
   "source": [
    "# Deep Learning Assignment - 01 , Problem - 01, Group - 029\n",
    "# Vision Dataset - Animal Image Classification \n",
    "\n",
    "https://www.kaggle.com/rwt1998/animal-classification\n",
    "\n",
    "https://www.kaggle.com/bygbrains/dog-cat-pandas-image-classifier\n"
   ],
   "cell_type": "markdown",
   "metadata": {}
  },
  {
   "source": [
    "## Library Imports"
   ],
   "cell_type": "markdown",
   "metadata": {}
  },
  {
   "cell_type": "code",
   "execution_count": 20,
   "metadata": {},
   "outputs": [],
   "source": [
    "import os\n",
    "from os import listdir\n",
    "import numpy as np\n",
    "import pandas as pd\n",
    "import matplotlib.pyplot as plt\n",
    "import seaborn as sns\n",
    "from datetime import datetime\n",
    "\n",
    "import warnings\n",
    "warnings.simplefilter(\"ignore\")\n",
    "\n",
    "import tensorflow as tf\n",
    "from tensorflow.keras.preprocessing.image import ImageDataGenerator\n",
    "from tensorflow.keras.preprocessing.image import load_img\n",
    "from tensorflow.keras.preprocessing.image import img_to_array\n",
    "\n",
    "from sklearn.preprocessing import LabelEncoder\n",
    "from sklearn.metrics import confusion_matrix, classification_report, f1_score, accuracy_score\n",
    "from sklearn.model_selection import train_test_split"
   ]
  },
  {
   "source": [
    "## Validate GPU Availability"
   ],
   "cell_type": "markdown",
   "metadata": {}
  },
  {
   "cell_type": "code",
   "execution_count": 3,
   "metadata": {},
   "outputs": [
    {
     "output_type": "stream",
     "name": "stdout",
     "text": [
      "1 Physical GPUs, 1 Logical GPUs\n"
     ]
    }
   ],
   "source": [
    "# Note this code is only valid if GPU is being used for training\n",
    "\n",
    "# Before we run the parameter tuning, we will work with little gpu memory allocation\n",
    "# we will only use that much of memory of gpu as it is needed - allow the growth of gpu memory as it is needed\n",
    "gpus = tf.config.experimental.list_physical_devices('GPU')\n",
    "if gpus:\n",
    "  try:\n",
    "    # Currently, memory growth needs to be the same across GPUs\n",
    "    for gpu in gpus:\n",
    "      tf.config.experimental.set_memory_growth(gpu, True)\n",
    "    logical_gpus = tf.config.experimental.list_logical_devices('GPU')\n",
    "    print(len(gpus), \"Physical GPUs,\", len(logical_gpus), \"Logical GPUs\")\n",
    "  except RuntimeError as e:\n",
    "    # Memory growth must be set before GPUs have been initialized\n",
    "    print(e)\n",
    "else:\n",
    "    print(\"No GPU Available, switching to CPU Version\")"
   ]
  },
  {
   "source": [
    "## Load the dataset and validate the data load"
   ],
   "cell_type": "markdown",
   "metadata": {}
  },
  {
   "cell_type": "code",
   "execution_count": 4,
   "metadata": {},
   "outputs": [
    {
     "output_type": "stream",
     "name": "stdout",
     "text": [
      "Found 3000 images belonging to 3 classes.\n"
     ]
    }
   ],
   "source": [
    "train_datagen = ImageDataGenerator(rescale=1./255, shear_range=0.2, zoom_range=0.2, horizontal_flip=True)\n",
    "\n",
    "dataset = train_datagen.flow_from_directory(\"/home/suvo/Documents/LargeDatasets/CNNDatasets/Cats-Dogs-Pandas/animals\", target_size=(32, 32), batch_size=32, class_mode='binary')"
   ]
  },
  {
   "cell_type": "code",
   "execution_count": 8,
   "metadata": {},
   "outputs": [
    {
     "output_type": "execute_result",
     "data": {
      "text/plain": [
       "['cats', 'dogs', 'panda']"
      ]
     },
     "metadata": {},
     "execution_count": 8
    }
   ],
   "source": [
    "listdir(\"/home/suvo/Documents/LargeDatasets/CNNDatasets/Cats-Dogs-Pandas/animals\")"
   ]
  },
  {
   "cell_type": "code",
   "execution_count": 49,
   "metadata": {},
   "outputs": [
    {
     "output_type": "stream",
     "name": "stdout",
     "text": [
      "Length of the image list - 3000\nLength of the class list - 3000\n"
     ]
    }
   ],
   "source": [
    "folder = \"/home/suvo/Documents/LargeDatasets/CNNDatasets/Cats-Dogs-Pandas/animals\"\n",
    "# folder1 = \"/home/suvo/Documents/LargeDatasets/CNNDatasets/Cats-Dogs-Pandas/animals\"\n",
    "\n",
    "imageList=[]\n",
    "classList=[]\n",
    "\n",
    "for file1 in listdir(folder):\n",
    "    file2 = folder + \"/\" + file1\n",
    "    for file3 in listdir(file2):\n",
    "        file4 = file2 + \"/\" + file3\n",
    "        image = tf.keras.preprocessing.image.load_img(file4, target_size=(300, 300))\n",
    "        image = tf.keras.preprocessing.image.img_to_array(image)\n",
    "        imageList.append(image)\n",
    "        classList.append(file1)\n",
    "\n",
    "# Check whether all the images has been parsed\n",
    "print(f\"Length of the image list - {len(imageList)}\")\n",
    "print(f\"Length of the class list - {len(classList)}\")"
   ]
  },
  {
   "cell_type": "code",
   "execution_count": 50,
   "metadata": {},
   "outputs": [
    {
     "output_type": "stream",
     "name": "stdout",
     "text": [
      "Shape of the image numpy array - (3000, 300, 300, 3)\nShape of the class numpy array - (3000,)\n"
     ]
    }
   ],
   "source": [
    "# We will convert this list into numpy array\n",
    "imageArray = np.asarray(imageList)\n",
    "classArray = np.asarray(classList)\n",
    "\n",
    "print(f\"Shape of the image numpy array - {imageArray.shape}\")\n",
    "print(f\"Shape of the class numpy array - {classArray.shape}\")"
   ]
  },
  {
   "cell_type": "code",
   "execution_count": 52,
   "metadata": {},
   "outputs": [
    {
     "output_type": "display_data",
     "data": {
      "text/plain": "<Figure size 432x288 with 1 Axes>",
      "image/svg+xml": "<?xml version=\"1.0\" encoding=\"utf-8\" standalone=\"no\"?>\n<!DOCTYPE svg PUBLIC \"-//W3C//DTD SVG 1.1//EN\"\n  \"http://www.w3.org/Graphics/SVG/1.1/DTD/svg11.dtd\">\n<!-- Created with matplotlib (https://matplotlib.org/) -->\n<svg height=\"251.954944pt\" version=\"1.1\" viewBox=\"0 0 383.239062 251.954944\" width=\"383.239062pt\" xmlns=\"http://www.w3.org/2000/svg\" xmlns:xlink=\"http://www.w3.org/1999/xlink\">\n <metadata>\n  <rdf:RDF xmlns:cc=\"http://creativecommons.org/ns#\" xmlns:dc=\"http://purl.org/dc/elements/1.1/\" xmlns:rdf=\"http://www.w3.org/1999/02/22-rdf-syntax-ns#\">\n   <cc:Work>\n    <dc:type rdf:resource=\"http://purl.org/dc/dcmitype/StillImage\"/>\n    <dc:date>2021-06-29T21:38:35.916885</dc:date>\n    <dc:format>image/svg+xml</dc:format>\n    <dc:creator>\n     <cc:Agent>\n      <dc:title>Matplotlib v3.3.4, https://matplotlib.org/</dc:title>\n     </cc:Agent>\n    </dc:creator>\n   </cc:Work>\n  </rdf:RDF>\n </metadata>\n <defs>\n  <style type=\"text/css\">*{stroke-linecap:butt;stroke-linejoin:round;}</style>\n </defs>\n <g id=\"figure_1\">\n  <g id=\"patch_1\">\n   <path d=\"M 0 251.954944 \nL 383.239062 251.954944 \nL 383.239062 0 \nL 0 0 \nz\n\" style=\"fill:none;\"/>\n  </g>\n  <g id=\"axes_1\">\n   <g id=\"patch_2\">\n    <path d=\"M 33.2875 228.076819 \nL 368.0875 228.076819 \nL 368.0875 10.636819 \nL 33.2875 10.636819 \nz\n\" style=\"fill:#ffffff;\"/>\n   </g>\n   <g clip-path=\"url(#p1369731411)\">\n    <image height=\"218\" id=\"image349df1f1f1\" transform=\"scale(1 -1)translate(0 -218)\" width=\"335\" x=\"33.2875\" xlink:href=\"data:image/png;base64,\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\" y=\"-10.076819\"/>\n   </g>\n   <g id=\"matplotlib.axis_1\">\n    <g id=\"xtick_1\">\n     <g id=\"line2d_1\">\n      <defs>\n       <path d=\"M 0 0 \nL 0 3.5 \n\" id=\"m32e6661ed9\" style=\"stroke:#000000;stroke-width:0.8;\"/>\n      </defs>\n      <g>\n       <use style=\"stroke:#000000;stroke-width:0.8;\" x=\"33.2875\" xlink:href=\"#m32e6661ed9\" y=\"228.076819\"/>\n      </g>\n     </g>\n     <g id=\"text_1\">\n      <!-- −0.5 -->\n      <g transform=\"translate(21.146094 242.675256)scale(0.1 -0.1)\">\n       <defs>\n        <path d=\"M 10.59375 35.5 \nL 73.1875 35.5 \nL 73.1875 27.203125 \nL 10.59375 27.203125 \nz\n\" id=\"DejaVuSans-8722\"/>\n        <path d=\"M 31.78125 66.40625 \nQ 24.171875 66.40625 20.328125 58.90625 \nQ 16.5 51.421875 16.5 36.375 \nQ 16.5 21.390625 20.328125 13.890625 \nQ 24.171875 6.390625 31.78125 6.390625 \nQ 39.453125 6.390625 43.28125 13.890625 \nQ 47.125 21.390625 47.125 36.375 \nQ 47.125 51.421875 43.28125 58.90625 \nQ 39.453125 66.40625 31.78125 66.40625 \nz\nM 31.78125 74.21875 \nQ 44.046875 74.21875 50.515625 64.515625 \nQ 56.984375 54.828125 56.984375 36.375 \nQ 56.984375 17.96875 50.515625 8.265625 \nQ 44.046875 -1.421875 31.78125 -1.421875 \nQ 19.53125 -1.421875 13.0625 8.265625 \nQ 6.59375 17.96875 6.59375 36.375 \nQ 6.59375 54.828125 13.0625 64.515625 \nQ 19.53125 74.21875 31.78125 74.21875 \nz\n\" id=\"DejaVuSans-48\"/>\n        <path d=\"M 10.6875 12.40625 \nL 21 12.40625 \nL 21 0 \nL 10.6875 0 \nz\n\" id=\"DejaVuSans-46\"/>\n        <path d=\"M 10.796875 72.90625 \nL 49.515625 72.90625 \nL 49.515625 64.59375 \nL 19.828125 64.59375 \nL 19.828125 46.734375 \nQ 21.96875 47.46875 24.109375 47.828125 \nQ 26.265625 48.1875 28.421875 48.1875 \nQ 40.625 48.1875 47.75 41.5 \nQ 54.890625 34.8125 54.890625 23.390625 \nQ 54.890625 11.625 47.5625 5.09375 \nQ 40.234375 -1.421875 26.90625 -1.421875 \nQ 22.3125 -1.421875 17.546875 -0.640625 \nQ 12.796875 0.140625 7.71875 1.703125 \nL 7.71875 11.625 \nQ 12.109375 9.234375 16.796875 8.0625 \nQ 21.484375 6.890625 26.703125 6.890625 \nQ 35.15625 6.890625 40.078125 11.328125 \nQ 45.015625 15.765625 45.015625 23.390625 \nQ 45.015625 31 40.078125 35.4375 \nQ 35.15625 39.890625 26.703125 39.890625 \nQ 22.75 39.890625 18.8125 39.015625 \nQ 14.890625 38.140625 10.796875 36.28125 \nz\n\" id=\"DejaVuSans-53\"/>\n       </defs>\n       <use xlink:href=\"#DejaVuSans-8722\"/>\n       <use x=\"83.789062\" xlink:href=\"#DejaVuSans-48\"/>\n       <use x=\"147.412109\" xlink:href=\"#DejaVuSans-46\"/>\n       <use x=\"179.199219\" xlink:href=\"#DejaVuSans-53\"/>\n      </g>\n     </g>\n    </g>\n    <g id=\"xtick_2\">\n     <g id=\"line2d_2\">\n      <g>\n       <use style=\"stroke:#000000;stroke-width:0.8;\" x=\"89.0875\" xlink:href=\"#m32e6661ed9\" y=\"228.076819\"/>\n      </g>\n     </g>\n     <g id=\"text_2\">\n      <!-- 0.0 -->\n      <g transform=\"translate(81.135938 242.675256)scale(0.1 -0.1)\">\n       <use xlink:href=\"#DejaVuSans-48\"/>\n       <use x=\"63.623047\" xlink:href=\"#DejaVuSans-46\"/>\n       <use x=\"95.410156\" xlink:href=\"#DejaVuSans-48\"/>\n      </g>\n     </g>\n    </g>\n    <g id=\"xtick_3\">\n     <g id=\"line2d_3\">\n      <g>\n       <use style=\"stroke:#000000;stroke-width:0.8;\" x=\"144.8875\" xlink:href=\"#m32e6661ed9\" y=\"228.076819\"/>\n      </g>\n     </g>\n     <g id=\"text_3\">\n      <!-- 0.5 -->\n      <g transform=\"translate(136.935937 242.675256)scale(0.1 -0.1)\">\n       <use xlink:href=\"#DejaVuSans-48\"/>\n       <use x=\"63.623047\" xlink:href=\"#DejaVuSans-46\"/>\n       <use x=\"95.410156\" xlink:href=\"#DejaVuSans-53\"/>\n      </g>\n     </g>\n    </g>\n    <g id=\"xtick_4\">\n     <g id=\"line2d_4\">\n      <g>\n       <use style=\"stroke:#000000;stroke-width:0.8;\" x=\"200.6875\" xlink:href=\"#m32e6661ed9\" y=\"228.076819\"/>\n      </g>\n     </g>\n     <g id=\"text_4\">\n      <!-- 1.0 -->\n      <g transform=\"translate(192.735938 242.675256)scale(0.1 -0.1)\">\n       <defs>\n        <path d=\"M 12.40625 8.296875 \nL 28.515625 8.296875 \nL 28.515625 63.921875 \nL 10.984375 60.40625 \nL 10.984375 69.390625 \nL 28.421875 72.90625 \nL 38.28125 72.90625 \nL 38.28125 8.296875 \nL 54.390625 8.296875 \nL 54.390625 0 \nL 12.40625 0 \nz\n\" id=\"DejaVuSans-49\"/>\n       </defs>\n       <use xlink:href=\"#DejaVuSans-49\"/>\n       <use x=\"63.623047\" xlink:href=\"#DejaVuSans-46\"/>\n       <use x=\"95.410156\" xlink:href=\"#DejaVuSans-48\"/>\n      </g>\n     </g>\n    </g>\n    <g id=\"xtick_5\">\n     <g id=\"line2d_5\">\n      <g>\n       <use style=\"stroke:#000000;stroke-width:0.8;\" x=\"256.4875\" xlink:href=\"#m32e6661ed9\" y=\"228.076819\"/>\n      </g>\n     </g>\n     <g id=\"text_5\">\n      <!-- 1.5 -->\n      <g transform=\"translate(248.535937 242.675256)scale(0.1 -0.1)\">\n       <use xlink:href=\"#DejaVuSans-49\"/>\n       <use x=\"63.623047\" xlink:href=\"#DejaVuSans-46\"/>\n       <use x=\"95.410156\" xlink:href=\"#DejaVuSans-53\"/>\n      </g>\n     </g>\n    </g>\n    <g id=\"xtick_6\">\n     <g id=\"line2d_6\">\n      <g>\n       <use style=\"stroke:#000000;stroke-width:0.8;\" x=\"312.2875\" xlink:href=\"#m32e6661ed9\" y=\"228.076819\"/>\n      </g>\n     </g>\n     <g id=\"text_6\">\n      <!-- 2.0 -->\n      <g transform=\"translate(304.335938 242.675256)scale(0.1 -0.1)\">\n       <defs>\n        <path d=\"M 19.1875 8.296875 \nL 53.609375 8.296875 \nL 53.609375 0 \nL 7.328125 0 \nL 7.328125 8.296875 \nQ 12.9375 14.109375 22.625 23.890625 \nQ 32.328125 33.6875 34.8125 36.53125 \nQ 39.546875 41.84375 41.421875 45.53125 \nQ 43.3125 49.21875 43.3125 52.78125 \nQ 43.3125 58.59375 39.234375 62.25 \nQ 35.15625 65.921875 28.609375 65.921875 \nQ 23.96875 65.921875 18.8125 64.3125 \nQ 13.671875 62.703125 7.8125 59.421875 \nL 7.8125 69.390625 \nQ 13.765625 71.78125 18.9375 73 \nQ 24.125 74.21875 28.421875 74.21875 \nQ 39.75 74.21875 46.484375 68.546875 \nQ 53.21875 62.890625 53.21875 53.421875 \nQ 53.21875 48.921875 51.53125 44.890625 \nQ 49.859375 40.875 45.40625 35.40625 \nQ 44.1875 33.984375 37.640625 27.21875 \nQ 31.109375 20.453125 19.1875 8.296875 \nz\n\" id=\"DejaVuSans-50\"/>\n       </defs>\n       <use xlink:href=\"#DejaVuSans-50\"/>\n       <use x=\"63.623047\" xlink:href=\"#DejaVuSans-46\"/>\n       <use x=\"95.410156\" xlink:href=\"#DejaVuSans-48\"/>\n      </g>\n     </g>\n    </g>\n    <g id=\"xtick_7\">\n     <g id=\"line2d_7\">\n      <g>\n       <use style=\"stroke:#000000;stroke-width:0.8;\" x=\"368.0875\" xlink:href=\"#m32e6661ed9\" y=\"228.076819\"/>\n      </g>\n     </g>\n     <g id=\"text_7\">\n      <!-- 2.5 -->\n      <g transform=\"translate(360.135937 242.675256)scale(0.1 -0.1)\">\n       <use xlink:href=\"#DejaVuSans-50\"/>\n       <use x=\"63.623047\" xlink:href=\"#DejaVuSans-46\"/>\n       <use x=\"95.410156\" xlink:href=\"#DejaVuSans-53\"/>\n      </g>\n     </g>\n    </g>\n   </g>\n   <g id=\"matplotlib.axis_2\">\n    <g id=\"ytick_1\">\n     <g id=\"line2d_8\">\n      <defs>\n       <path d=\"M 0 0 \nL -3.5 0 \n\" id=\"m2eb047fb0d\" style=\"stroke:#000000;stroke-width:0.8;\"/>\n      </defs>\n      <g>\n       <use style=\"stroke:#000000;stroke-width:0.8;\" x=\"33.2875\" xlink:href=\"#m2eb047fb0d\" y=\"10.999219\"/>\n      </g>\n     </g>\n     <g id=\"text_8\">\n      <!-- 0 -->\n      <g transform=\"translate(19.925 14.798437)scale(0.1 -0.1)\">\n       <use xlink:href=\"#DejaVuSans-48\"/>\n      </g>\n     </g>\n    </g>\n    <g id=\"ytick_2\">\n     <g id=\"line2d_9\">\n      <g>\n       <use style=\"stroke:#000000;stroke-width:0.8;\" x=\"33.2875\" xlink:href=\"#m2eb047fb0d\" y=\"47.239219\"/>\n      </g>\n     </g>\n     <g id=\"text_9\">\n      <!-- 50 -->\n      <g transform=\"translate(13.5625 51.038437)scale(0.1 -0.1)\">\n       <use xlink:href=\"#DejaVuSans-53\"/>\n       <use x=\"63.623047\" xlink:href=\"#DejaVuSans-48\"/>\n      </g>\n     </g>\n    </g>\n    <g id=\"ytick_3\">\n     <g id=\"line2d_10\">\n      <g>\n       <use style=\"stroke:#000000;stroke-width:0.8;\" x=\"33.2875\" xlink:href=\"#m2eb047fb0d\" y=\"83.479219\"/>\n      </g>\n     </g>\n     <g id=\"text_10\">\n      <!-- 100 -->\n      <g transform=\"translate(7.2 87.278437)scale(0.1 -0.1)\">\n       <use xlink:href=\"#DejaVuSans-49\"/>\n       <use x=\"63.623047\" xlink:href=\"#DejaVuSans-48\"/>\n       <use x=\"127.246094\" xlink:href=\"#DejaVuSans-48\"/>\n      </g>\n     </g>\n    </g>\n    <g id=\"ytick_4\">\n     <g id=\"line2d_11\">\n      <g>\n       <use style=\"stroke:#000000;stroke-width:0.8;\" x=\"33.2875\" xlink:href=\"#m2eb047fb0d\" y=\"119.719219\"/>\n      </g>\n     </g>\n     <g id=\"text_11\">\n      <!-- 150 -->\n      <g transform=\"translate(7.2 123.518437)scale(0.1 -0.1)\">\n       <use xlink:href=\"#DejaVuSans-49\"/>\n       <use x=\"63.623047\" xlink:href=\"#DejaVuSans-53\"/>\n       <use x=\"127.246094\" xlink:href=\"#DejaVuSans-48\"/>\n      </g>\n     </g>\n    </g>\n    <g id=\"ytick_5\">\n     <g id=\"line2d_12\">\n      <g>\n       <use style=\"stroke:#000000;stroke-width:0.8;\" x=\"33.2875\" xlink:href=\"#m2eb047fb0d\" y=\"155.959219\"/>\n      </g>\n     </g>\n     <g id=\"text_12\">\n      <!-- 200 -->\n      <g transform=\"translate(7.2 159.758437)scale(0.1 -0.1)\">\n       <use xlink:href=\"#DejaVuSans-50\"/>\n       <use x=\"63.623047\" xlink:href=\"#DejaVuSans-48\"/>\n       <use x=\"127.246094\" xlink:href=\"#DejaVuSans-48\"/>\n      </g>\n     </g>\n    </g>\n    <g id=\"ytick_6\">\n     <g id=\"line2d_13\">\n      <g>\n       <use style=\"stroke:#000000;stroke-width:0.8;\" x=\"33.2875\" xlink:href=\"#m2eb047fb0d\" y=\"192.199219\"/>\n      </g>\n     </g>\n     <g id=\"text_13\">\n      <!-- 250 -->\n      <g transform=\"translate(7.2 195.998437)scale(0.1 -0.1)\">\n       <use xlink:href=\"#DejaVuSans-50\"/>\n       <use x=\"63.623047\" xlink:href=\"#DejaVuSans-53\"/>\n       <use x=\"127.246094\" xlink:href=\"#DejaVuSans-48\"/>\n      </g>\n     </g>\n    </g>\n   </g>\n   <g id=\"patch_3\">\n    <path d=\"M 33.2875 228.076819 \nL 33.2875 10.636819 \n\" style=\"fill:none;stroke:#000000;stroke-linecap:square;stroke-linejoin:miter;stroke-width:0.8;\"/>\n   </g>\n   <g id=\"patch_4\">\n    <path d=\"M 368.0875 228.076819 \nL 368.0875 10.636819 \n\" style=\"fill:none;stroke:#000000;stroke-linecap:square;stroke-linejoin:miter;stroke-width:0.8;\"/>\n   </g>\n   <g id=\"patch_5\">\n    <path d=\"M 33.2875 228.076819 \nL 368.0875 228.076819 \n\" style=\"fill:none;stroke:#000000;stroke-linecap:square;stroke-linejoin:miter;stroke-width:0.8;\"/>\n   </g>\n   <g id=\"patch_6\">\n    <path d=\"M 33.2875 10.636819 \nL 368.0875 10.636819 \n\" style=\"fill:none;stroke:#000000;stroke-linecap:square;stroke-linejoin:miter;stroke-width:0.8;\"/>\n   </g>\n  </g>\n </g>\n <defs>\n  <clipPath id=\"p1369731411\">\n   <rect height=\"217.44\" width=\"334.8\" x=\"33.2875\" y=\"10.636819\"/>\n  </clipPath>\n </defs>\n</svg>\n",
      "image/png": "[encoded data removed]"
     },
     "metadata": {
      "needs_background": "light"
     }
    }
   ],
   "source": []
  },
  {
   "cell_type": "code",
   "execution_count": null,
   "metadata": {},
   "outputs": [],
   "source": []
  }
 ]
}