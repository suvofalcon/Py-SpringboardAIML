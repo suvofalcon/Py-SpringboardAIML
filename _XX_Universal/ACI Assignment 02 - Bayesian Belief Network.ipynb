{
 "cells": [
  {
   "source": [
    "## Library Imports"
   ],
   "cell_type": "markdown",
   "metadata": {}
  },
  {
   "cell_type": "code",
   "execution_count": 1,
   "metadata": {},
   "outputs": [],
   "source": [
    "from pomegranate import *\n",
    "import pandas as pd\n",
    "\n",
    "import warnings\n",
    "warnings.simplefilter(\"ignore\")"
   ]
  },
  {
   "source": [
    "## Load the dataset and validate the data load"
   ],
   "cell_type": "markdown",
   "metadata": {}
  },
  {
   "cell_type": "code",
   "execution_count": 5,
   "metadata": {},
   "outputs": [
    {
     "output_type": "execute_result",
     "data": {
      "text/plain": [
       "   Eng_Spkr  Course_Inst  Course  Summer_Regular  Size  Class\n",
       "0         1           23       3               1    19      3\n",
       "1         2           15       3               1    17      3\n",
       "2         1           23       3               2    49      3\n",
       "3         1            5       2               2    33      3\n",
       "4         2            7      11               2    55      3"
      ],
      "text/html": "<div>\n<style scoped>\n    .dataframe tbody tr th:only-of-type {\n        vertical-align: middle;\n    }\n\n    .dataframe tbody tr th {\n        vertical-align: top;\n    }\n\n    .dataframe thead th {\n        text-align: right;\n    }\n</style>\n<table border=\"1\" class=\"dataframe\">\n  <thead>\n    <tr style=\"text-align: right;\">\n      <th></th>\n      <th>Eng_Spkr</th>\n      <th>Course_Inst</th>\n      <th>Course</th>\n      <th>Summer_Regular</th>\n      <th>Size</th>\n      <th>Class</th>\n    </tr>\n  </thead>\n  <tbody>\n    <tr>\n      <th>0</th>\n      <td>1</td>\n      <td>23</td>\n      <td>3</td>\n      <td>1</td>\n      <td>19</td>\n      <td>3</td>\n    </tr>\n    <tr>\n      <th>1</th>\n      <td>2</td>\n      <td>15</td>\n      <td>3</td>\n      <td>1</td>\n      <td>17</td>\n      <td>3</td>\n    </tr>\n    <tr>\n      <th>2</th>\n      <td>1</td>\n      <td>23</td>\n      <td>3</td>\n      <td>2</td>\n      <td>49</td>\n      <td>3</td>\n    </tr>\n    <tr>\n      <th>3</th>\n      <td>1</td>\n      <td>5</td>\n      <td>2</td>\n      <td>2</td>\n      <td>33</td>\n      <td>3</td>\n    </tr>\n    <tr>\n      <th>4</th>\n      <td>2</td>\n      <td>7</td>\n      <td>11</td>\n      <td>2</td>\n      <td>55</td>\n      <td>3</td>\n    </tr>\n  </tbody>\n</table>\n</div>"
     },
     "metadata": {},
     "execution_count": 5
    }
   ],
   "source": [
    "tae = pd.read_csv(\"dataset/tae.data\", sep=\",\", header=None, names=['Eng_Spkr', 'Course_Inst', 'Course', 'Summer_Regular', 'Size', 'Class'])\n",
    "tae.head()"
   ]
  },
  {
   "cell_type": "code",
   "execution_count": 6,
   "metadata": {},
   "outputs": [
    {
     "output_type": "stream",
     "name": "stdout",
     "text": [
      "<class 'pandas.core.frame.DataFrame'>\nRangeIndex: 151 entries, 0 to 150\nData columns (total 6 columns):\n #   Column          Non-Null Count  Dtype\n---  ------          --------------  -----\n 0   Eng_Spkr        151 non-null    int64\n 1   Course_Inst     151 non-null    int64\n 2   Course          151 non-null    int64\n 3   Summer_Regular  151 non-null    int64\n 4   Size            151 non-null    int64\n 5   Class           151 non-null    int64\ndtypes: int64(6)\nmemory usage: 7.2 KB\n"
     ]
    }
   ],
   "source": [
    "# Check the data strucure\n",
    "tae.info()"
   ]
  },
  {
   "cell_type": "code",
   "execution_count": 7,
   "metadata": {},
   "outputs": [
    {
     "output_type": "execute_result",
     "data": {
      "text/plain": [
       "Eng_Spkr           2\n",
       "Course_Inst       25\n",
       "Course            26\n",
       "Summer_Regular     2\n",
       "Size              46\n",
       "Class              3\n",
       "dtype: int64"
      ]
     },
     "metadata": {},
     "execution_count": 7
    }
   ],
   "source": [
    "# Count of unique elements across columns \n",
    "tae.nunique(axis=0)"
   ]
  },
  {
   "source": [
    "## Feature Engineering"
   ],
   "cell_type": "markdown",
   "metadata": {}
  },
  {
   "source": [
    "### Discretize 'Size' attribute"
   ],
   "cell_type": "markdown",
   "metadata": {}
  },
  {
   "cell_type": "code",
   "execution_count": 10,
   "metadata": {},
   "outputs": [
    {
     "output_type": "stream",
     "name": "stdout",
     "text": [
      "[3, 5, 7, 9, 10, 11, 12, 13, 14, 15, 16, 17, 18, 19, 20, 21, 22, 23, 24, 25, 26, 27, 28, 29, 30, 31, 32, 33, 34, 35, 36, 37, 38, 39, 42, 43, 44, 45, 46, 48, 49, 51, 54, 55, 58, 66]\n"
     ]
    }
   ],
   "source": [
    "# Check the unique values of Size attribute\n",
    "\n",
    "print(sorted(tae['Size'].unique().tolist()))\n"
   ]
  },
  {
   "cell_type": "code",
   "execution_count": 13,
   "metadata": {},
   "outputs": [
    {
     "output_type": "execute_result",
     "data": {
      "text/plain": [
       "   Eng_Spkr  Course_Inst  Course  Summer_Regular  Size  Class Size_Chg  \\\n",
       "0         1           23       3               1    19      3        1   \n",
       "1         2           15       3               1    17      3        1   \n",
       "2         1           23       3               2    49      3        3   \n",
       "3         1            5       2               2    33      3        3   \n",
       "4         2            7      11               2    55      3        3   \n",
       "\n",
       "   Size_quantile  \n",
       "0  (2.999, 20.0]  \n",
       "1  (2.999, 20.0]  \n",
       "2   (32.0, 66.0]  \n",
       "3   (32.0, 66.0]  \n",
       "4   (32.0, 66.0]  "
      ],
      "text/html": "<div>\n<style scoped>\n    .dataframe tbody tr th:only-of-type {\n        vertical-align: middle;\n    }\n\n    .dataframe tbody tr th {\n        vertical-align: top;\n    }\n\n    .dataframe thead th {\n        text-align: right;\n    }\n</style>\n<table border=\"1\" class=\"dataframe\">\n  <thead>\n    <tr style=\"text-align: right;\">\n      <th></th>\n      <th>Eng_Spkr</th>\n      <th>Course_Inst</th>\n      <th>Course</th>\n      <th>Summer_Regular</th>\n      <th>Size</th>\n      <th>Class</th>\n      <th>Size_Chg</th>\n      <th>Size_quantile</th>\n    </tr>\n  </thead>\n  <tbody>\n    <tr>\n      <th>0</th>\n      <td>1</td>\n      <td>23</td>\n      <td>3</td>\n      <td>1</td>\n      <td>19</td>\n      <td>3</td>\n      <td>1</td>\n      <td>(2.999, 20.0]</td>\n    </tr>\n    <tr>\n      <th>1</th>\n      <td>2</td>\n      <td>15</td>\n      <td>3</td>\n      <td>1</td>\n      <td>17</td>\n      <td>3</td>\n      <td>1</td>\n      <td>(2.999, 20.0]</td>\n    </tr>\n    <tr>\n      <th>2</th>\n      <td>1</td>\n      <td>23</td>\n      <td>3</td>\n      <td>2</td>\n      <td>49</td>\n      <td>3</td>\n      <td>3</td>\n      <td>(32.0, 66.0]</td>\n    </tr>\n    <tr>\n      <th>3</th>\n      <td>1</td>\n      <td>5</td>\n      <td>2</td>\n      <td>2</td>\n      <td>33</td>\n      <td>3</td>\n      <td>3</td>\n      <td>(32.0, 66.0]</td>\n    </tr>\n    <tr>\n      <th>4</th>\n      <td>2</td>\n      <td>7</td>\n      <td>11</td>\n      <td>2</td>\n      <td>55</td>\n      <td>3</td>\n      <td>3</td>\n      <td>(32.0, 66.0]</td>\n    </tr>\n  </tbody>\n</table>\n</div>"
     },
     "metadata": {},
     "execution_count": 13
    }
   ],
   "source": [
    "# Discretize the attribute\n",
    "\n",
    "bin_labels_Size = ['1', '2', '3']\n",
    "tae['Size_Chg'] = pd.qcut(tae['Size'],q=3,labels=bin_labels_Size)\n",
    "tae['Size_quantile'] = pd.qcut(tae['Size'], q=3)\n",
    "tae['Size_quantile'].value_counts()\n",
    "tae.head()"
   ]
  },
  {
   "cell_type": "code",
   "execution_count": 14,
   "metadata": {},
   "outputs": [
    {
     "output_type": "execute_result",
     "data": {
      "text/plain": [
       "   Eng_Spkr  Course_Inst  Course  Summer_Regular  Class Size_Chg\n",
       "0         1           23       3               1      3        1\n",
       "1         2           15       3               1      3        1\n",
       "2         1           23       3               2      3        3\n",
       "3         1            5       2               2      3        3\n",
       "4         2            7      11               2      3        3"
      ],
      "text/html": "<div>\n<style scoped>\n    .dataframe tbody tr th:only-of-type {\n        vertical-align: middle;\n    }\n\n    .dataframe tbody tr th {\n        vertical-align: top;\n    }\n\n    .dataframe thead th {\n        text-align: right;\n    }\n</style>\n<table border=\"1\" class=\"dataframe\">\n  <thead>\n    <tr style=\"text-align: right;\">\n      <th></th>\n      <th>Eng_Spkr</th>\n      <th>Course_Inst</th>\n      <th>Course</th>\n      <th>Summer_Regular</th>\n      <th>Class</th>\n      <th>Size_Chg</th>\n    </tr>\n  </thead>\n  <tbody>\n    <tr>\n      <th>0</th>\n      <td>1</td>\n      <td>23</td>\n      <td>3</td>\n      <td>1</td>\n      <td>3</td>\n      <td>1</td>\n    </tr>\n    <tr>\n      <th>1</th>\n      <td>2</td>\n      <td>15</td>\n      <td>3</td>\n      <td>1</td>\n      <td>3</td>\n      <td>1</td>\n    </tr>\n    <tr>\n      <th>2</th>\n      <td>1</td>\n      <td>23</td>\n      <td>3</td>\n      <td>2</td>\n      <td>3</td>\n      <td>3</td>\n    </tr>\n    <tr>\n      <th>3</th>\n      <td>1</td>\n      <td>5</td>\n      <td>2</td>\n      <td>2</td>\n      <td>3</td>\n      <td>3</td>\n    </tr>\n    <tr>\n      <th>4</th>\n      <td>2</td>\n      <td>7</td>\n      <td>11</td>\n      <td>2</td>\n      <td>3</td>\n      <td>3</td>\n    </tr>\n  </tbody>\n</table>\n</div>"
     },
     "metadata": {},
     "execution_count": 14
    }
   ],
   "source": [
    "tae = tae.drop(columns=['Size', 'Size_quantile'])\n",
    "tae.head()"
   ]
  },
  {
   "cell_type": "code",
   "execution_count": 17,
   "metadata": {},
   "outputs": [
    {
     "output_type": "stream",
     "name": "stdout",
     "text": [
      "[1, 2]\n"
     ]
    }
   ],
   "source": [
    "print(tae['Eng_Spkr'].unique().tolist())"
   ]
  },
  {
   "cell_type": "code",
   "execution_count": 19,
   "metadata": {},
   "outputs": [
    {
     "output_type": "execute_result",
     "data": {
      "text/plain": [
       "0.19205298013245034"
      ]
     },
     "metadata": {},
     "execution_count": 19
    }
   ],
   "source": [
    "ES_prob_1 = tae['Eng_Spkr'].tolist().count(1)/len(tae.Eng_Spkr)\n",
    "ES_prob_1"
   ]
  },
  {
   "cell_type": "code",
   "execution_count": 20,
   "metadata": {},
   "outputs": [
    {
     "output_type": "execute_result",
     "data": {
      "text/plain": [
       "0.8079470198675497"
      ]
     },
     "metadata": {},
     "execution_count": 20
    }
   ],
   "source": [
    "ES_prob_2 = tae['Eng_Spkr'].tolist().count(2)/len(tae.Eng_Spkr)\n",
    "ES_prob_2"
   ]
  },
  {
   "cell_type": "code",
   "execution_count": 21,
   "metadata": {},
   "outputs": [],
   "source": [
    "eng_spk = DiscreteDistribution({'1': ES_prob_1, '2': ES_prob_2})"
   ]
  },
  {
   "cell_type": "code",
   "execution_count": 22,
   "metadata": {},
   "outputs": [
    {
     "output_type": "stream",
     "name": "stdout",
     "text": [
      "[1, 2, 3, 4, 5, 6, 7, 8, 9, 10, 11, 12, 13, 14, 15, 16, 17, 18, 19, 20, 21, 22, 23, 24, 25] "
     ]
    }
   ],
   "source": [
    "print(sorted(tae['Course_Inst'].unique().tolist()),end=' ')"
   ]
  },
  {
   "cell_type": "code",
   "execution_count": 23,
   "metadata": {},
   "outputs": [
    {
     "output_type": "stream",
     "name": "stdout",
     "text": [
      "0.026490066225165563 0.026490066225165563 0.013245033112582781 0.013245033112582781 0.039735099337748346 0.052980132450331126 0.0728476821192053 0.033112582781456956 0.052980132450331126 0.052980132450331126 0.019867549668874173 0.013245033112582781 0.09271523178807947 0.052980132450331126 0.052980132450331126 0.026490066225165563 0.026490066225165563 0.052980132450331126 0.006622516556291391 0.033112582781456956 0.013245033112582781 0.07947019867549669 0.11258278145695365 0.006622516556291391 0.026490066225165563\n"
     ]
    }
   ],
   "source": [
    "C_I_p_1 =  tae['Course_Inst'].tolist().count(1)/len(tae.Course_Inst)\n",
    "C_I_p_2 =  tae['Course_Inst'].tolist().count(2)/len(tae.Course_Inst)\n",
    "C_I_p_3 =  tae['Course_Inst'].tolist().count(3)/len(tae.Course_Inst)\n",
    "C_I_p_4 =  tae['Course_Inst'].tolist().count(4)/len(tae.Course_Inst)\n",
    "C_I_p_5 =  tae['Course_Inst'].tolist().count(5)/len(tae.Course_Inst)\n",
    "C_I_p_6 =  tae['Course_Inst'].tolist().count(6)/len(tae.Course_Inst)\n",
    "C_I_p_7 =  tae['Course_Inst'].tolist().count(7)/len(tae.Course_Inst)\n",
    "C_I_p_8 =  tae['Course_Inst'].tolist().count(8)/len(tae.Course_Inst)\n",
    "C_I_p_9 =  tae['Course_Inst'].tolist().count(9)/len(tae.Course_Inst)\n",
    "C_I_p_10 =  tae['Course_Inst'].tolist().count(10)/len(tae.Course_Inst)\n",
    "C_I_p_11 =  tae['Course_Inst'].tolist().count(11)/len(tae.Course_Inst)\n",
    "C_I_p_12 =  tae['Course_Inst'].tolist().count(12)/len(tae.Course_Inst)\n",
    "C_I_p_13 =  tae['Course_Inst'].tolist().count(13)/len(tae.Course_Inst)\n",
    "C_I_p_14 =  tae['Course_Inst'].tolist().count(14)/len(tae.Course_Inst)\n",
    "C_I_p_15 =  tae['Course_Inst'].tolist().count(15)/len(tae.Course_Inst)\n",
    "C_I_p_16 =  tae['Course_Inst'].tolist().count(16)/len(tae.Course_Inst)\n",
    "C_I_p_17 =  tae['Course_Inst'].tolist().count(17)/len(tae.Course_Inst)\n",
    "C_I_p_18 =  tae['Course_Inst'].tolist().count(18)/len(tae.Course_Inst)\n",
    "C_I_p_19 =  tae['Course_Inst'].tolist().count(19)/len(tae.Course_Inst)\n",
    "C_I_p_20 =  tae['Course_Inst'].tolist().count(20)/len(tae.Course_Inst)\n",
    "C_I_p_21 =  tae['Course_Inst'].tolist().count(21)/len(tae.Course_Inst)\n",
    "C_I_p_22 =  tae['Course_Inst'].tolist().count(22)/len(tae.Course_Inst)\n",
    "C_I_p_23 =  tae['Course_Inst'].tolist().count(23)/len(tae.Course_Inst)\n",
    "C_I_p_24 =  tae['Course_Inst'].tolist().count(24)/len(tae.Course_Inst)\n",
    "C_I_p_25 =  tae['Course_Inst'].tolist().count(25)/len(tae.Course_Inst)\n",
    "print(C_I_p_1, C_I_p_2, C_I_p_3, C_I_p_4, C_I_p_5, C_I_p_6, C_I_p_7, C_I_p_8, C_I_p_9, C_I_p_10, C_I_p_11, C_I_p_12, C_I_p_13, C_I_p_14, C_I_p_15, C_I_p_16, C_I_p_17, C_I_p_18, C_I_p_19, C_I_p_20, C_I_p_21, C_I_p_22, C_I_p_23, C_I_p_24, C_I_p_25)"
   ]
  },
  {
   "cell_type": "code",
   "execution_count": 24,
   "metadata": {},
   "outputs": [],
   "source": [
    "C_I = DiscreteDistribution({'1': C_I_p_1, '2': C_I_p_2, '3': C_I_p_3, '4': C_I_p_4, '5': C_I_p_5, '6': C_I_p_6, '7': C_I_p_7, '8': C_I_p_8, '9': C_I_p_9, '10': C_I_p_10, '11': C_I_p_11, '12': C_I_p_12, '13': C_I_p_13, '14': C_I_p_14, '15': C_I_p_15, '16': C_I_p_16, '17': C_I_p_17, '18': C_I_p_18, '19': C_I_p_19, '20': C_I_p_20, '21': C_I_p_21, '22': C_I_p_22, '23': C_I_p_23, '24': C_I_p_24, '25': C_I_p_25})"
   ]
  },
  {
   "cell_type": "code",
   "execution_count": 25,
   "metadata": {},
   "outputs": [
    {
     "output_type": "stream",
     "name": "stdout",
     "text": [
      "[1, 2, 3, 4, 5, 6, 7, 8, 9, 10, 11, 12, 13, 14, 15, 16, 17, 18, 19, 20, 21, 22, 23, 24, 25, 26] "
     ]
    }
   ],
   "source": [
    "print(sorted(tae['Course'].unique().tolist()),end=' ')"
   ]
  },
  {
   "cell_type": "code",
   "execution_count": 26,
   "metadata": {},
   "outputs": [
    {
     "output_type": "stream",
     "name": "stdout",
     "text": [
      "0.09271523178807947 0.10596026490066225 0.2980132450331126 0.006622516556291391 0.033112582781456956 0.013245033112582781 0.046357615894039736 0.026490066225165563 0.019867549668874173 0.006622516556291391 0.059602649006622516 0.006622516556291391 0.019867549668874173 0.006622516556291391 0.06622516556291391 0.019867549668874173 0.06622516556291391 0.013245033112582781 0.006622516556291391 0.006622516556291391 0.019867549668874173 0.019867549668874173 0.006622516556291391 0.006622516556291391 0.019867549668874173 0.006622516556291391\n"
     ]
    }
   ],
   "source": [
    "C_p_1 =  tae['Course'].tolist().count(1)/len(tae.Course)\n",
    "C_p_2 =  tae['Course'].tolist().count(2)/len(tae.Course)\n",
    "C_p_3 =  tae['Course'].tolist().count(3)/len(tae.Course)\n",
    "C_p_4 =  tae['Course'].tolist().count(4)/len(tae.Course)\n",
    "C_p_5 =  tae['Course'].tolist().count(5)/len(tae.Course)\n",
    "C_p_6 =  tae['Course'].tolist().count(6)/len(tae.Course)\n",
    "C_p_7 =  tae['Course'].tolist().count(7)/len(tae.Course)\n",
    "C_p_8 =  tae['Course'].tolist().count(8)/len(tae.Course)\n",
    "C_p_9 =  tae['Course'].tolist().count(9)/len(tae.Course)\n",
    "C_p_10 =  tae['Course'].tolist().count(10)/len(tae.Course)\n",
    "C_p_11 =  tae['Course'].tolist().count(11)/len(tae.Course)\n",
    "C_p_12 =  tae['Course'].tolist().count(12)/len(tae.Course)\n",
    "C_p_13 =  tae['Course'].tolist().count(13)/len(tae.Course)\n",
    "C_p_14 =  tae['Course'].tolist().count(14)/len(tae.Course)\n",
    "C_p_15 =  tae['Course'].tolist().count(15)/len(tae.Course)\n",
    "C_p_16 =  tae['Course'].tolist().count(16)/len(tae.Course)\n",
    "C_p_17 =  tae['Course'].tolist().count(17)/len(tae.Course)\n",
    "C_p_18 =  tae['Course'].tolist().count(18)/len(tae.Course)\n",
    "C_p_19 =  tae['Course'].tolist().count(19)/len(tae.Course)\n",
    "C_p_20 =  tae['Course'].tolist().count(20)/len(tae.Course)\n",
    "C_p_21 =  tae['Course'].tolist().count(21)/len(tae.Course)\n",
    "C_p_22 =  tae['Course'].tolist().count(22)/len(tae.Course)\n",
    "C_p_23 =  tae['Course'].tolist().count(23)/len(tae.Course)\n",
    "C_p_24 =  tae['Course'].tolist().count(24)/len(tae.Course)\n",
    "C_p_25 =  tae['Course'].tolist().count(25)/len(tae.Course)\n",
    "C_p_26 =  tae['Course'].tolist().count(26)/len(tae.Course)\n",
    "print(C_p_1, C_p_2, C_p_3, C_p_4, C_p_5, C_p_6, C_p_7, C_p_8, C_p_9, C_p_10, C_p_11, C_p_12, C_p_13, C_p_14, C_p_15, C_p_16, C_p_17, C_p_18, C_p_19, C_p_20, C_p_21, C_p_22, C_p_23, C_p_24, C_p_25, C_p_26)"
   ]
  },
  {
   "cell_type": "code",
   "execution_count": 27,
   "metadata": {},
   "outputs": [],
   "source": [
    "course = DiscreteDistribution({'1': C_p_1, '2': C_p_2, '3': C_p_3, '4': C_p_4, '5': C_p_5, '6': C_p_6, '7': C_p_7, '8': C_p_8, '9': C_p_9, '10': C_p_10, '11': C_p_11, '12': C_p_12, '13': C_p_13, '14': C_p_14, '15': C_p_15, '16': C_p_16, '17': C_p_17, '18': C_p_18, '19': C_p_19, '20': C_p_20, '21': C_p_21, '22': C_p_22, '23': C_p_23, '24': C_p_24, '25': C_p_25, '26': C_p_26})"
   ]
  },
  {
   "cell_type": "code",
   "execution_count": 28,
   "metadata": {},
   "outputs": [
    {
     "output_type": "stream",
     "name": "stdout",
     "text": [
      "0.3708609271523179 0.2980132450331126 0.2980132450331126\n"
     ]
    }
   ],
   "source": [
    "SC_p_1 = tae['Size_Chg'].tolist().count('1')/len(tae.Size_Chg)\n",
    "SC_p_2 = tae['Size_Chg'].tolist().count('2')/len(tae.Size_Chg)\n",
    "SC_p_3 = tae['Size_Chg'].tolist().count('3')/len(tae.Size_Chg)\n",
    "print(SC_p_1, SC_p_2, SC_p_2)"
   ]
  },
  {
   "cell_type": "code",
   "execution_count": 29,
   "metadata": {},
   "outputs": [],
   "source": [
    "size_chg = DiscreteDistribution({'1': SC_p_1, '2': SC_p_2, '3': SC_p_3})"
   ]
  },
  {
   "cell_type": "code",
   "execution_count": 30,
   "metadata": {},
   "outputs": [
    {
     "output_type": "execute_result",
     "data": {
      "text/plain": [
       "array([1, 2], dtype=int64)"
      ]
     },
     "metadata": {},
     "execution_count": 30
    }
   ],
   "source": [
    "tae.Summer_Regular.unique()"
   ]
  },
  {
   "cell_type": "code",
   "execution_count": 31,
   "metadata": {},
   "outputs": [
    {
     "output_type": "stream",
     "name": "stdout",
     "text": [
      "0.152317880794702 0.847682119205298\n"
     ]
    }
   ],
   "source": [
    "SR_p_1 = tae['Summer_Regular'].tolist().count(1)/len(tae.Summer_Regular)\n",
    "SR_p_2 = tae['Summer_Regular'].tolist().count(2)/len(tae.Summer_Regular)\n",
    "print(SR_p_1, SR_p_2)"
   ]
  },
  {
   "cell_type": "code",
   "execution_count": 32,
   "metadata": {},
   "outputs": [],
   "source": [
    "summer_regular = DiscreteDistribution({'1': SR_p_1, '2': SR_p_2})"
   ]
  },
  {
   "cell_type": "code",
   "execution_count": 33,
   "metadata": {},
   "outputs": [
    {
     "output_type": "stream",
     "name": "stdout",
     "text": [
      "[1, 2, 3]\n"
     ]
    }
   ],
   "source": [
    "print(sorted(tae['Class'].unique().tolist()))\n",
    "ta"
   ]
  },
  {
   "cell_type": "code",
   "execution_count": 34,
   "metadata": {},
   "outputs": [
    {
     "output_type": "stream",
     "name": "stdout",
     "text": [
      "0.32450331125827814 0.33112582781456956 0.3443708609271523\n"
     ]
    }
   ],
   "source": [
    "Cl_p_1 = tae['Class'].tolist().count(1)/len(tae.Class)\n",
    "Cl_p_2 = tae['Class'].tolist().count(2)/len(tae.Class)\n",
    "Cl_p_3 = tae['Class'].tolist().count(3)/len(tae.Class)\n",
    "print(Cl_p_1, Cl_p_2, Cl_p_3)"
   ]
  },
  {
   "cell_type": "code",
   "execution_count": 35,
   "metadata": {},
   "outputs": [],
   "source": [
    "cl = DiscreteDistribution({'1': Cl_p_1, '2': Cl_p_2, '3': Cl_p_3})"
   ]
  },
  {
   "cell_type": "code",
   "execution_count": 36,
   "metadata": {},
   "outputs": [],
   "source": [
    "s1 = Node(eng_spk, name=\"Eng_Spkr\")\n",
    "s2 = Node(C_I, name=\"Course_Inst\")\n",
    "s3 = Node(course, name=\"Course\")\n",
    "s4 = Node(summer_regular, name=\"Summer_Regular\")\n",
    "s5 = Node(size_chg, name=\"Size\")\n",
    "s6 = Node(cl, name=\"Class\")"
   ]
  },
  {
   "cell_type": "code",
   "execution_count": 37,
   "metadata": {},
   "outputs": [],
   "source": [
    "model = BayesianNetwork(\"TA Assessment\")\n",
    "model.add_states(s1, s2, s3, s4, s5, s6)"
   ]
  },
  {
   "cell_type": "code",
   "execution_count": 38,
   "metadata": {},
   "outputs": [],
   "source": [
    "model.bake()"
   ]
  },
  {
   "cell_type": "code",
   "execution_count": 39,
   "metadata": {},
   "outputs": [
    {
     "output_type": "stream",
     "name": "stdout",
     "text": [
      "0.0002481531853905784\n"
     ]
    }
   ],
   "source": [
    "print(model.probability([['2', '15', '3', '1', '1', '3']]))"
   ]
  },
  {
   "cell_type": "code",
   "execution_count": 40,
   "metadata": {},
   "outputs": [
    {
     "output_type": "stream",
     "name": "stdout",
     "text": [
      "[array(['1', '25', '26', '2', '2', '3'], dtype=object)]\n"
     ]
    }
   ],
   "source": [
    "print(model.predict([['1', '25', '26', '2', '2', None]]))"
   ]
  },
  {
   "cell_type": "code",
   "execution_count": 41,
   "metadata": {},
   "outputs": [
    {
     "output_type": "stream",
     "name": "stdout",
     "text": [
      "5.404011960295112e-06\n"
     ]
    }
   ],
   "source": [
    "print(model.probability([['1', '20', '7', '1', '1', '1']]))"
   ]
  }
 ],
 "metadata": {
  "kernelspec": {
   "display_name": "Python 3",
   "language": "python",
   "name": "python3"
  },
  "language_info": {
   "codemirror_mode": {
    "name": "ipython",
    "version": 3
   },
   "file_extension": ".py",
   "mimetype": "text/x-python",
   "name": "python",
   "nbconvert_exporter": "python",
   "pygments_lexer": "ipython3",
   "version": "3.8.8-final"
  }
 },
 "nbformat": 4,
 "nbformat_minor": 4
}