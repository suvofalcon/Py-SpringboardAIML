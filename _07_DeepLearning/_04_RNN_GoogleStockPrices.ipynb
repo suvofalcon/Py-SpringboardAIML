{
 "cells": [
  {
   "cell_type": "markdown",
   "metadata": {},
   "source": [
    "## Implementation of LSTM (RNN) - Recurrent Neural Networks to predict stock prices for Google.\n",
    "\n",
    "\n",
    "We are going to train our LSTM model on five years of the Google stock price, and this is from the beginning of 2012 to the end of 2016 and then, based on this training, based on the correlations identified or captured by the LSTM of the Google stock price, we will try to predict the first month of 2017. We're gonna try to predict January 2017. And again, we're not going to try to predict exactly the stock price, we're gonna try to predict the trend, the upward or downward trend of the Google stock price."
   ]
  },
  {
   "cell_type": "code",
   "execution_count": 1,
   "metadata": {},
   "outputs": [],
   "source": [
    "# Necessary Library imports\n",
    "\n",
    "import numpy as np\n",
    "import pandas as pd\n",
    "import matplotlib.pyplot as plt\n",
    "%matplotlib inline"
   ]
  },
  {
   "cell_type": "markdown",
   "metadata": {},
   "source": [
    "### Load the training set"
   ]
  },
  {
   "cell_type": "code",
   "execution_count": 2,
   "metadata": {},
   "outputs": [
    {
     "data": {
      "text/html": [
       "<div>\n",
       "<style scoped>\n",
       "    .dataframe tbody tr th:only-of-type {\n",
       "        vertical-align: middle;\n",
       "    }\n",
       "\n",
       "    .dataframe tbody tr th {\n",
       "        vertical-align: top;\n",
       "    }\n",
       "\n",
       "    .dataframe thead th {\n",
       "        text-align: right;\n",
       "    }\n",
       "</style>\n",
       "<table border=\"1\" class=\"dataframe\">\n",
       "  <thead>\n",
       "    <tr style=\"text-align: right;\">\n",
       "      <th></th>\n",
       "      <th>Date</th>\n",
       "      <th>Open</th>\n",
       "      <th>High</th>\n",
       "      <th>Low</th>\n",
       "      <th>Close</th>\n",
       "      <th>Volume</th>\n",
       "    </tr>\n",
       "  </thead>\n",
       "  <tbody>\n",
       "    <tr>\n",
       "      <th>0</th>\n",
       "      <td>1/3/2012</td>\n",
       "      <td>325.25</td>\n",
       "      <td>332.83</td>\n",
       "      <td>324.97</td>\n",
       "      <td>663.59</td>\n",
       "      <td>7,380,500</td>\n",
       "    </tr>\n",
       "    <tr>\n",
       "      <th>1</th>\n",
       "      <td>1/4/2012</td>\n",
       "      <td>331.27</td>\n",
       "      <td>333.87</td>\n",
       "      <td>329.08</td>\n",
       "      <td>666.45</td>\n",
       "      <td>5,749,400</td>\n",
       "    </tr>\n",
       "    <tr>\n",
       "      <th>2</th>\n",
       "      <td>1/5/2012</td>\n",
       "      <td>329.83</td>\n",
       "      <td>330.75</td>\n",
       "      <td>326.89</td>\n",
       "      <td>657.21</td>\n",
       "      <td>6,590,300</td>\n",
       "    </tr>\n",
       "    <tr>\n",
       "      <th>3</th>\n",
       "      <td>1/6/2012</td>\n",
       "      <td>328.34</td>\n",
       "      <td>328.77</td>\n",
       "      <td>323.68</td>\n",
       "      <td>648.24</td>\n",
       "      <td>5,405,900</td>\n",
       "    </tr>\n",
       "    <tr>\n",
       "      <th>4</th>\n",
       "      <td>1/9/2012</td>\n",
       "      <td>322.04</td>\n",
       "      <td>322.29</td>\n",
       "      <td>309.46</td>\n",
       "      <td>620.76</td>\n",
       "      <td>11,688,800</td>\n",
       "    </tr>\n",
       "  </tbody>\n",
       "</table>\n",
       "</div>"
      ],
      "text/plain": [
       "       Date    Open    High     Low   Close      Volume\n",
       "0  1/3/2012  325.25  332.83  324.97  663.59   7,380,500\n",
       "1  1/4/2012  331.27  333.87  329.08  666.45   5,749,400\n",
       "2  1/5/2012  329.83  330.75  326.89  657.21   6,590,300\n",
       "3  1/6/2012  328.34  328.77  323.68  648.24   5,405,900\n",
       "4  1/9/2012  322.04  322.29  309.46  620.76  11,688,800"
      ]
     },
     "execution_count": 2,
     "metadata": {},
     "output_type": "execute_result"
    }
   ],
   "source": [
    "df_train = pd.read_csv(\"D:\\\\ML-Datasets\\\\Udemy-DeepLearning\\\\Google_Stock_Price_Train.csv\")\n",
    "\n",
    "df_train.head()"
   ]
  },
  {
   "cell_type": "code",
   "execution_count": 3,
   "metadata": {},
   "outputs": [
    {
     "data": {
      "text/html": [
       "<div>\n",
       "<style scoped>\n",
       "    .dataframe tbody tr th:only-of-type {\n",
       "        vertical-align: middle;\n",
       "    }\n",
       "\n",
       "    .dataframe tbody tr th {\n",
       "        vertical-align: top;\n",
       "    }\n",
       "\n",
       "    .dataframe thead th {\n",
       "        text-align: right;\n",
       "    }\n",
       "</style>\n",
       "<table border=\"1\" class=\"dataframe\">\n",
       "  <thead>\n",
       "    <tr style=\"text-align: right;\">\n",
       "      <th></th>\n",
       "      <th>Open</th>\n",
       "      <th>High</th>\n",
       "      <th>Low</th>\n",
       "    </tr>\n",
       "  </thead>\n",
       "  <tbody>\n",
       "    <tr>\n",
       "      <th>count</th>\n",
       "      <td>1258.000000</td>\n",
       "      <td>1258.000000</td>\n",
       "      <td>1258.000000</td>\n",
       "    </tr>\n",
       "    <tr>\n",
       "      <th>mean</th>\n",
       "      <td>533.709833</td>\n",
       "      <td>537.880223</td>\n",
       "      <td>529.007409</td>\n",
       "    </tr>\n",
       "    <tr>\n",
       "      <th>std</th>\n",
       "      <td>151.904442</td>\n",
       "      <td>153.008811</td>\n",
       "      <td>150.552807</td>\n",
       "    </tr>\n",
       "    <tr>\n",
       "      <th>min</th>\n",
       "      <td>279.120000</td>\n",
       "      <td>281.210000</td>\n",
       "      <td>277.220000</td>\n",
       "    </tr>\n",
       "    <tr>\n",
       "      <th>25%</th>\n",
       "      <td>404.115000</td>\n",
       "      <td>406.765000</td>\n",
       "      <td>401.765000</td>\n",
       "    </tr>\n",
       "    <tr>\n",
       "      <th>50%</th>\n",
       "      <td>537.470000</td>\n",
       "      <td>540.750000</td>\n",
       "      <td>532.990000</td>\n",
       "    </tr>\n",
       "    <tr>\n",
       "      <th>75%</th>\n",
       "      <td>654.922500</td>\n",
       "      <td>662.587500</td>\n",
       "      <td>644.800000</td>\n",
       "    </tr>\n",
       "    <tr>\n",
       "      <th>max</th>\n",
       "      <td>816.680000</td>\n",
       "      <td>816.680000</td>\n",
       "      <td>805.140000</td>\n",
       "    </tr>\n",
       "  </tbody>\n",
       "</table>\n",
       "</div>"
      ],
      "text/plain": [
       "              Open         High          Low\n",
       "count  1258.000000  1258.000000  1258.000000\n",
       "mean    533.709833   537.880223   529.007409\n",
       "std     151.904442   153.008811   150.552807\n",
       "min     279.120000   281.210000   277.220000\n",
       "25%     404.115000   406.765000   401.765000\n",
       "50%     537.470000   540.750000   532.990000\n",
       "75%     654.922500   662.587500   644.800000\n",
       "max     816.680000   816.680000   805.140000"
      ]
     },
     "execution_count": 3,
     "metadata": {},
     "output_type": "execute_result"
    }
   ],
   "source": [
    "# Lets do some summary statistics\n",
    "df_train.describe()"
   ]
  },
  {
   "cell_type": "code",
   "execution_count": 4,
   "metadata": {},
   "outputs": [
    {
     "data": {
      "text/plain": [
       "Date      0\n",
       "Open      0\n",
       "High      0\n",
       "Low       0\n",
       "Close     0\n",
       "Volume    0\n",
       "dtype: int64"
      ]
     },
     "execution_count": 4,
     "metadata": {},
     "output_type": "execute_result"
    }
   ],
   "source": [
    "# We will check for any missing values\n",
    "df_train.isna().sum()"
   ]
  },
  {
   "cell_type": "code",
   "execution_count": 5,
   "metadata": {},
   "outputs": [
    {
     "data": {
      "text/plain": [
       "Text(0.5, 1.0, 'Open Prices for the stock')"
      ]
     },
     "execution_count": 5,
     "metadata": {},
     "output_type": "execute_result"
    },
    {
     "data": {
      "image/png": "[encoded data removed]",
      "text/plain": [
       "<Figure size 432x288 with 1 Axes>"
      ]
     },
     "metadata": {
      "needs_background": "light"
     },
     "output_type": "display_data"
    }
   ],
   "source": [
    "# Some visualization on the open column - as that would be the variable of interest\n",
    "df_train['Open'].plot()\n",
    "plt.title(\"Open Prices for the stock\")"
   ]
  },
  {
   "cell_type": "markdown",
   "metadata": {},
   "source": [
    "There are no missing values"
   ]
  },
  {
   "cell_type": "code",
   "execution_count": 6,
   "metadata": {},
   "outputs": [],
   "source": [
    "# Now we will select the right columns - we are only interested in the Open price column\n",
    "# In order to select only column 1 - we mark it as 1:2, so that it gets returned as numpy array, else it will be retured as \n",
    "# pandas core series\n",
    "\n",
    "training_set = np.array(df_train.iloc[:,1:2])"
   ]
  },
  {
   "cell_type": "markdown",
   "metadata": {},
   "source": [
    "### Feature Scaling of the data\n",
    "\n",
    "Lets just recall, there are two ways of feature scaling - standardisation and Normalisation\n",
    "\n",
    "<img src=\"resources\\Annotation 2019-11-04 222418.png\" />\n",
    "\n",
    "Whenever we build RNN and especially if there is a sigmoid function as the activation function in the output layer of you recurrent neural network, well I recommend to apply normalization."
   ]
  },
  {
   "cell_type": "code",
   "execution_count": 7,
   "metadata": {},
   "outputs": [
    {
     "data": {
      "text/plain": [
       "array([[0.08581368],\n",
       "       [0.09701243],\n",
       "       [0.09433366],\n",
       "       ...,\n",
       "       [0.95725128],\n",
       "       [0.93796041],\n",
       "       [0.93688146]])"
      ]
     },
     "execution_count": 7,
     "metadata": {},
     "output_type": "execute_result"
    }
   ],
   "source": [
    "from sklearn.preprocessing import MinMaxScaler\n",
    "\n",
    "# all the new scaled stock prices will be between 0 and 1\n",
    "sc = MinMaxScaler(feature_range=(0, 1))\n",
    "\n",
    "# Now we apply this scaler object to our training set\n",
    "# The fit will compute the min and max from the training set and transform will scale it accordingly\n",
    "training_set_scaled = sc.fit_transform(training_set)\n",
    "\n",
    "training_set_scaled"
   ]
  },
  {
   "cell_type": "markdown",
   "metadata": {},
   "source": [
    "### Data Pre-processing\n",
    "\n",
    "As a next step, we will be about creating a specific data structure, that's the most important step actually of data\n",
    "pre-processing for recurrent neural networks. We're going to create a data structure specifying what the RNN will need to remember when predicting the next stock price. And this is called the number of time steps. This is super important to have the right number of time steps because a wrong number of time steps could lead to over fitting or nonsense predictions."
   ]
  },
  {
   "cell_type": "markdown",
   "metadata": {},
   "source": [
    "Creating a data structure with <em>60 timesteps and 1 output</em>. <br>\n",
    "Okay, so 60 timesteps means that at each time T, the RNN is going to look at the 60 stock prices before time T, that is the stock prices between 60 days before time T and time T, and based on the trends, it is capturing during these 60 previous timesteps, it will try to predict the next output. So 60 timesteps of the past information from which our RNN is gonna try to learn and understand some correlations, or some trends, and based on its understanding, it's going to try to predict the next output. That is, the stock price at time T plus one. So that's very important to understand. 60 is a number that I experimented, trying different number of time steps.<br><br>\n",
    "And the 60 timesteps correspond of course to the 60 previous financial days, and since there 20 financial days in one month,\n",
    "well 60 timesteps correspond to three months. So that means that each day we're gonna look at the three previous month to try to predict the stock price the next day."
   ]
  },
  {
   "cell_type": "markdown",
   "metadata": {},
   "source": [
    "Well since we're gonna get at each time T the 60 preview stock prices, well we can only start doing this from the 60th stock price of our dataset. That is, the stock price of the 60th financial day of 2012, because we're gonna get the 60 previews stock prices before that stock price, and therefore I need to start the for loop with 60, because then for each i, which is the index of the stock price observation, I'm gonna get the range from i minus 60 to i, which exactly contains the 60 preview stock prices efore the stock price at time T. o that's why I'm starting the range at 60, nd then good news, the upper bound\n",
    "is much more natural and easy to find. t's of course the last index of our observation, hat is 1,257, but it's not 57, it's actually 1258 because remember the upper bound is excluded in a range. So we have to go up to 1258, which is also the size of the array. <br> <br>\n",
    "So that's exactly the idea of the RNN. It is memorizing what's happening in the 60 previous timesteps to predict the next value at time T plus one, the next stock price at time T plus one."
   ]
  },
  {
   "cell_type": "code",
   "execution_count": 84,
   "metadata": {},
   "outputs": [
    {
     "name": "stdout",
     "output_type": "stream",
     "text": [
      "[[0.08581368 0.09701243 0.09433366 ... 0.07846566 0.08034452 0.08497656]\n",
      " [0.09701243 0.09433366 0.09156187 ... 0.08034452 0.08497656 0.08627874]\n",
      " [0.09433366 0.09156187 0.07984225 ... 0.08497656 0.08627874 0.08471612]\n",
      " ...\n",
      " [0.92106928 0.92438053 0.93048218 ... 0.95475854 0.95204256 0.95163331]\n",
      " [0.92438053 0.93048218 0.9299055  ... 0.95204256 0.95163331 0.95725128]\n",
      " [0.93048218 0.9299055  0.93113327 ... 0.95163331 0.95725128 0.93796041]]\n"
     ]
    }
   ],
   "source": [
    "# We need to create two entities.. So basically for each observation, that is for each financial day, \n",
    "# X_train will contain the 60 previews stock prices, before that financial day, and y_train will contain the \n",
    "# stock price the next financial day.\n",
    "# We need to do this for every Time T\n",
    "\n",
    "# Lets declare some variables now\n",
    "timestamp = 60\n",
    "upperbound = training_set_scaled.size\n",
    "\n",
    "# Inputs and output for the neural network\n",
    "X_train = []\n",
    "y_train = []\n",
    "\n",
    "for index in range(timestamp, upperbound):\n",
    "    X_train.append(training_set_scaled[index-timestamp:index, 0])\n",
    "    y_train.append(training_set_scaled[index, 0])\n",
    "\n",
    "# Now we need to convert these into numpy arrays so that it is accepted in our RNN\n",
    "X_train, y_train = np.array(X_train), np.array(y_train)\n",
    "\n",
    "# Now lets take a look at X_train\n",
    "print(X_train)\n",
    "\n",
    "# The first element corresponds to scaled stock prices from index 0 to 59,\n",
    "# The second element corresponds to scaled stock prices from index 1 to 60 and so on..."
   ]
  },
  {
   "cell_type": "markdown",
   "metadata": {},
   "source": [
    "### Reshaping\n",
    "\n",
    "Reshaping is all aboout adding some more dimensionality. And this dimension we're gonna add is exactly the unit, that is, the number of predictors we can use to predict what we want. Which is the Google Stock Price at time T plus one. So in the scope of this financial engineering problem where we try to predict the trend of the Google Stock Price,\n",
    "these predictors are indicators. <br><br>\n",
    "So that's our only indicator, but thanks to this new dimension that we're gonna add to our data structure. We will be able to add some more indicators, if you think could help predict even better the upward and downward trends of the Google Stock Price. We're not gonna do it in this implementation. We will just use the open Google Stock Price."
   ]
  },
  {
   "cell_type": "code",
   "execution_count": 85,
   "metadata": {},
   "outputs": [
    {
     "data": {
      "text/plain": [
       "(1198, 60)"
      ]
     },
     "execution_count": 85,
     "metadata": {},
     "output_type": "execute_result"
    }
   ],
   "source": [
    "X_train.shape"
   ]
  },
  {
   "cell_type": "markdown",
   "metadata": {},
   "source": [
    "First, the batch size, which will correspond to thetotal number of observations we have. That is the total number of stock prices we have from2012 to the end of 2016.<br>\n",
    "\n",
    "Then the second dimension is the time steps, the number of time steps. And that is, as you understood, 60.<br>\n",
    "\n",
    "And now the third dimension, this new one that we're adding is the one corresponding to the indicators, the predictors. So I remind, these can be some new financial indicators that could help predict the Google stock price trends. So, for example, that can be the closed Google stock price or even some other stock prices from other companies. I'll give you another example that explains this well. Take Apple and Samsung, you know that in an iPhone most of the material is coming from Samsung. And therefore Apple is highly dependent on Samsung, but at the same time, Samsung is highly dependent on Apple, because simply, Apple is their best customer. And therefore the stock prices of Apple and Samsung might be highly correlated.\n",
    "And that's exactly what you could add as a new dimension if you want to predict the Apple stock price. Because simply the Apple stock price is very likely correlated to the Samsung stock price."
   ]
  },
  {
   "cell_type": "markdown",
   "metadata": {},
   "source": [
    "So there we go, we have our three dimensions. First the number of observations, or the batch size if you do some batch training. Then the number of time steps, 60. And then the number of indicators we have, which in our case, will be one."
   ]
  },
  {
   "cell_type": "code",
   "execution_count": 86,
   "metadata": {},
   "outputs": [
    {
     "data": {
      "text/plain": [
       "(1198, 60, 1)"
      ]
     },
     "execution_count": 86,
     "metadata": {},
     "output_type": "execute_result"
    }
   ],
   "source": [
    "X_train = np.reshape(X_train, (X_train.shape[0], X_train.shape[1], 1))\n",
    "X_train.shape"
   ]
  },
  {
   "cell_type": "markdown",
   "metadata": {},
   "source": [
    "### Building the RNN"
   ]
  },
  {
   "cell_type": "code",
   "execution_count": 87,
   "metadata": {},
   "outputs": [
    {
     "name": "stdout",
     "output_type": "stream",
     "text": [
      "1 Physical GPUs, 1 Logical GPUs\n"
     ]
    }
   ],
   "source": [
    "# Note this code is only valid if GPU is being used for training\n",
    "\n",
    "# Before we run the parameter tuning, we will work with little gpu memory allocation\n",
    "# we will only use that much of memory of gpu as it is needed - allow the growth of gpu memory as it is needed\n",
    "\n",
    "import tensorflow as tf\n",
    "\n",
    "gpus = tf.config.experimental.list_physical_devices('GPU')\n",
    "if gpus:\n",
    "  try:\n",
    "    # Currently, memory growth needs to be the same across GPUs\n",
    "    for gpu in gpus:\n",
    "      tf.config.experimental.set_memory_growth(gpu, True)\n",
    "    logical_gpus = tf.config.experimental.list_logical_devices('GPU')\n",
    "    print(len(gpus), \"Physical GPUs,\", len(logical_gpus), \"Logical GPUs\")\n",
    "  except RuntimeError as e:\n",
    "    # Memory growth must be set before GPUs have been initialized\n",
    "    print(e)"
   ]
  },
  {
   "cell_type": "code",
   "execution_count": 88,
   "metadata": {},
   "outputs": [],
   "source": [
    "# Import the needed libraries\n",
    "\n",
    "from tensorflow.keras.models import Sequential\n",
    "from tensorflow.keras.layers import Dense\n",
    "from tensorflow.keras.layers import LSTM\n",
    "from tensorflow.keras.layers import Dropout\n",
    "from datetime import datetime"
   ]
  },
  {
   "cell_type": "code",
   "execution_count": 89,
   "metadata": {},
   "outputs": [],
   "source": [
    "# Initializing the RNN\n",
    "\n",
    "regressor = Sequential()"
   ]
  },
  {
   "cell_type": "markdown",
   "metadata": {},
   "source": [
    "The <em>LSTM function</em> takes various arguments\n",
    "* <em>units</em> - Number of LSTM cells or units we want to have in this LSTM layer\n",
    "* <em>returnSequences (True)</em> - because we are building a stacked LSTM which therefore will have several LSTM layers and when you add another LSTM layer after the one you are creating right now, well you have to set the return sequences argument to true. Once you are done with your LSTM layers, you are not gonna add another one after that, you will set it equal to false, but you won't even have to do this because this is the default value of the return sequences parameter.\n",
    "* input_shape - in the last step of the data preprocessing part. It's an input shape in three dimensions, in 3-D, corresponding to the observations, the time steps, and the indicators. But in this third argument of the LSTM class, we won't have to include the three dimensions, only the two last ones corresponding to the time steps and the indicators, because the first one, corresponding to the observations, it will be automatically taken into account."
   ]
  },
  {
   "cell_type": "code",
   "execution_count": 90,
   "metadata": {},
   "outputs": [],
   "source": [
    "# Adding all the LSTM Layers\n",
    "\n",
    "# Adding the first LSTM layer and some Dropout regularization \n",
    "regressor.add(LSTM(units=75, return_sequences=True, input_shape=(X_train.shape[1], X_train.shape[2])))\n",
    "regressor.add(Dropout(0.2)) # adding a 20% dropout (20% neurons will be droppped out in each iteration)\n",
    "\n",
    "# Since this is the second and third LSTM layer, we dont have to specify the input_shape argument\n",
    "regressor.add(LSTM(units=75, return_sequences=True)) \n",
    "regressor.add(Dropout(0.2))\n",
    "\n",
    "# Third LSTM layer\n",
    "regressor.add(LSTM(units=75, return_sequences=True)) \n",
    "regressor.add(Dropout(0.2))\n",
    "\n",
    "# Adding the fourth LSTM layer - Since this is the last LSTM layer, return_sequences should be False\n",
    "regressor.add(LSTM(units=75, return_sequences=False)) \n",
    "\n",
    "# Adding the output layer\n",
    "regressor.add(Dense(units=1))"
   ]
  },
  {
   "cell_type": "code",
   "execution_count": 91,
   "metadata": {},
   "outputs": [],
   "source": [
    "# Compiling the RNN\n",
    "\n",
    "regressor.compile(optimizer='adam', loss='mean_squared_error')"
   ]
  },
  {
   "cell_type": "code",
   "execution_count": 92,
   "metadata": {
    "scrolled": false
   },
   "outputs": [
    {
     "name": "stdout",
     "output_type": "stream",
     "text": [
      "Train on 1198 samples\n",
      "Epoch 1/100\n",
      "1198/1198 [==============================] - 6s 5ms/sample - loss: 0.0311\n",
      "Epoch 2/100\n",
      "1198/1198 [==============================] - 1s 564us/sample - loss: 0.0029\n",
      "Epoch 3/100\n",
      "1198/1198 [==============================] - 1s 566us/sample - loss: 0.0027\n",
      "Epoch 4/100\n",
      "1198/1198 [==============================] - 1s 573us/sample - loss: 0.0026\n",
      "Epoch 5/100\n",
      "1198/1198 [==============================] - 1s 574us/sample - loss: 0.0026\n",
      "Epoch 6/100\n",
      "1198/1198 [==============================] - 1s 569us/sample - loss: 0.0028\n",
      "Epoch 7/100\n",
      "1198/1198 [==============================] - 1s 572us/sample - loss: 0.0026\n",
      "Epoch 8/100\n",
      "1198/1198 [==============================] - 1s 568us/sample - loss: 0.0023\n",
      "Epoch 9/100\n",
      "1198/1198 [==============================] - 1s 561us/sample - loss: 0.0026\n",
      "Epoch 10/100\n",
      "1198/1198 [==============================] - 1s 565us/sample - loss: 0.0026\n",
      "Epoch 11/100\n",
      "1198/1198 [==============================] - 1s 564us/sample - loss: 0.0020\n",
      "Epoch 12/100\n",
      "1198/1198 [==============================] - 1s 564us/sample - loss: 0.0022\n",
      "Epoch 13/100\n",
      "1198/1198 [==============================] - 1s 559us/sample - loss: 0.0019\n",
      "Epoch 14/100\n",
      "1198/1198 [==============================] - 1s 550us/sample - loss: 0.0018\n",
      "Epoch 15/100\n",
      "1198/1198 [==============================] - 1s 570us/sample - loss: 0.0020\n",
      "Epoch 16/100\n",
      "1198/1198 [==============================] - 1s 564us/sample - loss: 0.0018\n",
      "Epoch 17/100\n",
      "1198/1198 [==============================] - 1s 580us/sample - loss: 0.0018\n",
      "Epoch 18/100\n",
      "1198/1198 [==============================] - 1s 569us/sample - loss: 0.0020\n",
      "Epoch 19/100\n",
      "1198/1198 [==============================] - 1s 570us/sample - loss: 0.0019\n",
      "Epoch 20/100\n",
      "1198/1198 [==============================] - 1s 583us/sample - loss: 0.0019\n",
      "Epoch 21/100\n",
      "1198/1198 [==============================] - 1s 571us/sample - loss: 0.0016\n",
      "Epoch 22/100\n",
      "1198/1198 [==============================] - 1s 571us/sample - loss: 0.0017\n",
      "Epoch 23/100\n",
      "1198/1198 [==============================] - 1s 569us/sample - loss: 0.0016\n",
      "Epoch 24/100\n",
      "1198/1198 [==============================] - 1s 567us/sample - loss: 0.0016\n",
      "Epoch 25/100\n",
      "1198/1198 [==============================] - 1s 573us/sample - loss: 0.0016\n",
      "Epoch 26/100\n",
      "1198/1198 [==============================] - 1s 584us/sample - loss: 0.0016\n",
      "Epoch 27/100\n",
      "1198/1198 [==============================] - 1s 552us/sample - loss: 0.0015\n",
      "Epoch 28/100\n",
      "1198/1198 [==============================] - 1s 572us/sample - loss: 0.0016\n",
      "Epoch 29/100\n",
      "1198/1198 [==============================] - 1s 589us/sample - loss: 0.0016\n",
      "Epoch 30/100\n",
      "1198/1198 [==============================] - 1s 583us/sample - loss: 0.0014\n",
      "Epoch 31/100\n",
      "1198/1198 [==============================] - 1s 585us/sample - loss: 0.0015\n",
      "Epoch 32/100\n",
      "1198/1198 [==============================] - 1s 608us/sample - loss: 0.0016\n",
      "Epoch 33/100\n",
      "1198/1198 [==============================] - 1s 569us/sample - loss: 0.0014\n",
      "Epoch 34/100\n",
      "1198/1198 [==============================] - 1s 578us/sample - loss: 0.0014\n",
      "Epoch 35/100\n",
      "1198/1198 [==============================] - 1s 576us/sample - loss: 0.0017\n",
      "Epoch 36/100\n",
      "1198/1198 [==============================] - 1s 557us/sample - loss: 0.0014\n",
      "Epoch 37/100\n",
      "1198/1198 [==============================] - 1s 555us/sample - loss: 0.0015\n",
      "Epoch 38/100\n",
      "1198/1198 [==============================] - 1s 564us/sample - loss: 0.0013\n",
      "Epoch 39/100\n",
      "1198/1198 [==============================] - 1s 575us/sample - loss: 0.0012\n",
      "Epoch 40/100\n",
      "1198/1198 [==============================] - 1s 563us/sample - loss: 0.0013\n",
      "Epoch 41/100\n",
      "1198/1198 [==============================] - 1s 561us/sample - loss: 0.0013\n",
      "Epoch 42/100\n",
      "1198/1198 [==============================] - 1s 565us/sample - loss: 0.0012\n",
      "Epoch 43/100\n",
      "1198/1198 [==============================] - 1s 570us/sample - loss: 0.0011\n",
      "Epoch 44/100\n",
      "1198/1198 [==============================] - 1s 573us/sample - loss: 0.0013\n",
      "Epoch 45/100\n",
      "1198/1198 [==============================] - 1s 569us/sample - loss: 0.0013\n",
      "Epoch 46/100\n",
      "1198/1198 [==============================] - 1s 565us/sample - loss: 0.0014\n",
      "Epoch 47/100\n",
      "1198/1198 [==============================] - 1s 571us/sample - loss: 0.0012\n",
      "Epoch 48/100\n",
      "1198/1198 [==============================] - 1s 574us/sample - loss: 0.0011\n",
      "Epoch 49/100\n",
      "1198/1198 [==============================] - 1s 561us/sample - loss: 0.0012\n",
      "Epoch 50/100\n",
      "1198/1198 [==============================] - 1s 572us/sample - loss: 0.0010\n",
      "Epoch 51/100\n",
      "1198/1198 [==============================] - 1s 572us/sample - loss: 0.0011\n",
      "Epoch 52/100\n",
      "1198/1198 [==============================] - 1s 562us/sample - loss: 0.0011\n",
      "Epoch 53/100\n",
      "1198/1198 [==============================] - 1s 561us/sample - loss: 0.0011\n",
      "Epoch 54/100\n",
      "1198/1198 [==============================] - 1s 565us/sample - loss: 0.0012\n",
      "Epoch 55/100\n",
      "1198/1198 [==============================] - 1s 566us/sample - loss: 9.4514e-04\n",
      "Epoch 56/100\n",
      "1198/1198 [==============================] - 1s 568us/sample - loss: 8.7444e-04\n",
      "Epoch 57/100\n",
      "1198/1198 [==============================] - 1s 572us/sample - loss: 8.7264e-04\n",
      "Epoch 58/100\n",
      "1198/1198 [==============================] - 1s 567us/sample - loss: 8.8016e-04\n",
      "Epoch 59/100\n",
      "1198/1198 [==============================] - 1s 563us/sample - loss: 8.3747e-04\n",
      "Epoch 60/100\n",
      "1198/1198 [==============================] - 1s 575us/sample - loss: 8.6950e-04\n",
      "Epoch 61/100\n",
      "1198/1198 [==============================] - 1s 567us/sample - loss: 8.6561e-04\n",
      "Epoch 62/100\n",
      "1198/1198 [==============================] - 1s 574us/sample - loss: 8.4982e-04\n",
      "Epoch 63/100\n",
      "1198/1198 [==============================] - 1s 556us/sample - loss: 7.9516e-04\n",
      "Epoch 64/100\n",
      "1198/1198 [==============================] - 1s 567us/sample - loss: 8.7858e-04\n",
      "Epoch 65/100\n",
      "1198/1198 [==============================] - 1s 569us/sample - loss: 7.9548e-04\n",
      "Epoch 66/100\n",
      "1198/1198 [==============================] - 1s 551us/sample - loss: 8.1079e-04\n",
      "Epoch 67/100\n",
      "1198/1198 [==============================] - 1s 574us/sample - loss: 0.0010\n",
      "Epoch 68/100\n",
      "1198/1198 [==============================] - 1s 552us/sample - loss: 7.2153e-04\n",
      "Epoch 69/100\n",
      "1198/1198 [==============================] - 1s 566us/sample - loss: 8.1087e-04\n",
      "Epoch 70/100\n",
      "1198/1198 [==============================] - 1s 570us/sample - loss: 7.0968e-04\n",
      "Epoch 71/100\n",
      "1198/1198 [==============================] - 1s 577us/sample - loss: 7.4712e-04\n",
      "Epoch 72/100\n",
      "1198/1198 [==============================] - 1s 556us/sample - loss: 7.5080e-04\n",
      "Epoch 73/100\n",
      "1198/1198 [==============================] - 1s 576us/sample - loss: 7.2580e-04\n",
      "Epoch 74/100\n",
      "1198/1198 [==============================] - 1s 570us/sample - loss: 8.5225e-04\n",
      "Epoch 75/100\n",
      "1198/1198 [==============================] - 1s 569us/sample - loss: 7.8293e-04\n",
      "Epoch 76/100\n",
      "1198/1198 [==============================] - 1s 576us/sample - loss: 7.0485e-04\n",
      "Epoch 77/100\n",
      "1198/1198 [==============================] - 1s 571us/sample - loss: 8.2706e-04\n",
      "Epoch 78/100\n",
      "1198/1198 [==============================] - 1s 567us/sample - loss: 7.1676e-04\n",
      "Epoch 79/100\n",
      "1198/1198 [==============================] - 1s 567us/sample - loss: 8.1754e-04\n",
      "Epoch 80/100\n",
      "1198/1198 [==============================] - 1s 571us/sample - loss: 7.1688e-04\n",
      "Epoch 81/100\n",
      "1198/1198 [==============================] - 1s 571us/sample - loss: 6.6098e-04\n",
      "Epoch 82/100\n",
      "1198/1198 [==============================] - 1s 564us/sample - loss: 6.6907e-04\n",
      "Epoch 83/100\n",
      "1198/1198 [==============================] - 1s 568us/sample - loss: 8.0403e-04\n",
      "Epoch 84/100\n",
      "1198/1198 [==============================] - 1s 554us/sample - loss: 8.0306e-04\n",
      "Epoch 85/100\n",
      "1198/1198 [==============================] - 1s 586us/sample - loss: 7.2724e-04\n",
      "Epoch 86/100\n",
      "1198/1198 [==============================] - 1s 578us/sample - loss: 7.1755e-04\n",
      "Epoch 87/100\n",
      "1198/1198 [==============================] - 1s 581us/sample - loss: 5.9231e-04\n",
      "Epoch 88/100\n",
      "1198/1198 [==============================] - 1s 577us/sample - loss: 5.9724e-04\n",
      "Epoch 89/100\n",
      "1198/1198 [==============================] - 1s 582us/sample - loss: 6.0070e-04\n",
      "Epoch 90/100\n",
      "1198/1198 [==============================] - 1s 572us/sample - loss: 6.4041e-04\n",
      "Epoch 91/100\n",
      "1198/1198 [==============================] - 1s 574us/sample - loss: 6.3393e-04\n",
      "Epoch 92/100\n",
      "1198/1198 [==============================] - 1s 564us/sample - loss: 6.5626e-04\n",
      "Epoch 93/100\n",
      "1198/1198 [==============================] - 1s 564us/sample - loss: 6.6861e-04\n",
      "Epoch 94/100\n",
      "1198/1198 [==============================] - 1s 566us/sample - loss: 8.6235e-04\n",
      "Epoch 95/100\n",
      "1198/1198 [==============================] - 1s 575us/sample - loss: 6.0010e-04\n",
      "Epoch 96/100\n",
      "1198/1198 [==============================] - 1s 562us/sample - loss: 5.9416e-04\n",
      "Epoch 97/100\n",
      "1198/1198 [==============================] - 1s 573us/sample - loss: 6.2643e-04\n",
      "Epoch 98/100\n",
      "1198/1198 [==============================] - 1s 570us/sample - loss: 6.6945e-04\n",
      "Epoch 99/100\n",
      "1198/1198 [==============================] - 1s 580us/sample - loss: 7.3605e-04\n",
      "Epoch 100/100\n",
      "1198/1198 [==============================] - 1s 605us/sample - loss: 7.1328e-04\n",
      "Time taken for training : 0:01:13.757952\n"
     ]
    }
   ],
   "source": [
    "# Fitting the RNN to the training set\n",
    "\n",
    "start = datetime.now()\n",
    "regressor.fit(X_train, y_train, epochs=100, batch_size=32)\n",
    "end = datetime.now()\n",
    "print(\"Time taken for training :\", (end-start))"
   ]
  },
  {
   "cell_type": "markdown",
   "metadata": {},
   "source": [
    "### Making the predictions and visualizing the results"
   ]
  },
  {
   "cell_type": "code",
   "execution_count": 93,
   "metadata": {},
   "outputs": [
    {
     "data": {
      "text/plain": [
       "array([[778.81],\n",
       "       [788.36],\n",
       "       [786.08],\n",
       "       [795.26],\n",
       "       [806.4 ],\n",
       "       [807.86],\n",
       "       [805.  ],\n",
       "       [807.14],\n",
       "       [807.48],\n",
       "       [807.08],\n",
       "       [805.81],\n",
       "       [805.12],\n",
       "       [806.91],\n",
       "       [807.25],\n",
       "       [822.3 ],\n",
       "       [829.62],\n",
       "       [837.81],\n",
       "       [834.71],\n",
       "       [814.66],\n",
       "       [796.86]])"
      ]
     },
     "execution_count": 93,
     "metadata": {},
     "output_type": "execute_result"
    }
   ],
   "source": [
    "# Getting the actual stock prices for 2017\n",
    "\n",
    "df_test = pd.read_csv(\"D:\\\\ML-Datasets\\\\Udemy-DeepLearning\\\\Google_Stock_Price_Test.csv\")\n",
    "test_set = np.array(df_test.iloc[:,1:2])\n",
    "\n",
    "test_set"
   ]
  },
  {
   "cell_type": "markdown",
   "metadata": {},
   "source": [
    "We have trained our model to predict the stock prices at time t+1 based on the previous 60 stock prices (t=60)\n",
    "and, therefore, to predict each stock price of each financial day of January, 2017, we will need the 60 previous stock prices\n",
    "of the 60 previous financial days, before the actual day.\n",
    "\n",
    "Now, second key point is that in order to get at each day of January, 2017, the 60 previous stock prices of the 60 previous days, well, we will need both the training set and the test set, because we will have some of the 60 days hat will be from the training set, because they will be from December 2016, and we will also have some stock prices of the test set, because some of them will come from January 2017, and, therefore, the first thing we need to do now, is some concatenation of the training set and the test set, to be able to get these 60 produced inputs,for each day of January, 2017, alright?"
   ]
  },
  {
   "cell_type": "code",
   "execution_count": 94,
   "metadata": {},
   "outputs": [
    {
     "data": {
      "text/plain": [
       "(20, 60, 1)"
      ]
     },
     "execution_count": 94,
     "metadata": {},
     "output_type": "execute_result"
    }
   ],
   "source": [
    "# Getting the predicted stock prices for Jan 2017\n",
    "\n",
    "# We need to start by concatenating the original Data Frames containing the open google stock prices9\n",
    "df = pd.concat((df_train['Open'], df_test['Open']), axis=0) # We will concatenate by rows\n",
    "\n",
    "inputs = df[len(df) - len(df_test) - 60: ].values\n",
    "inputs = inputs.reshape(-1, 1) # This will bring the numpy array in the correct format\n",
    "inputs = sc.transform(inputs)\n",
    "\n",
    "# Now in order for RNN to work, we need to create the special data structure as before\n",
    "\n",
    "# Inputs for the RNN predictions\n",
    "\n",
    "# Some constants\n",
    "timestamp = 60\n",
    "upperbound = timestamp+20 # # 20 financial days in Jan, which has to be predicted\n",
    "\n",
    "X_test = []\n",
    "\n",
    "for index in range(timestamp, upperbound):\n",
    "    X_test.append(inputs[index-timestamp: index, 0])\n",
    "\n",
    "# Now we need to convert these into numpy arrays so that it is accepted in our RNN\n",
    "X_test = np.array(X_test)\n",
    "    \n",
    "X_test = np.reshape(X_test, (X_test.shape[0], X_test.shape[1], 1))\n",
    "X_test.shape "
   ]
  },
  {
   "cell_type": "code",
   "execution_count": 95,
   "metadata": {},
   "outputs": [],
   "source": [
    "# Now we make the predictions\n",
    "predicted_stock_price = regressor.predict(X_test)"
   ]
  },
  {
   "cell_type": "code",
   "execution_count": 96,
   "metadata": {},
   "outputs": [],
   "source": [
    "# Now the predictions are in scaled values.. we need to do an inverse scaling to get the right values\n",
    "predicted_stock_price = sc.inverse_transform(predicted_stock_price)"
   ]
  },
  {
   "cell_type": "code",
   "execution_count": 97,
   "metadata": {},
   "outputs": [
    {
     "data": {
      "text/plain": [
       "array([[783.6465 ],\n",
       "       [781.0395 ],\n",
       "       [784.73444],\n",
       "       [785.77325],\n",
       "       [789.86694],\n",
       "       [796.915  ],\n",
       "       [799.8274 ],\n",
       "       [798.29443],\n",
       "       [798.2149 ],\n",
       "       [798.73395],\n",
       "       [799.0974 ],\n",
       "       [798.9114 ],\n",
       "       [798.7791 ],\n",
       "       [799.94775],\n",
       "       [800.9083 ],\n",
       "       [808.93506],\n",
       "       [816.0436 ],\n",
       "       [821.9241 ],\n",
       "       [821.5798 ],\n",
       "       [810.7938 ]], dtype=float32)"
      ]
     },
     "execution_count": 97,
     "metadata": {},
     "output_type": "execute_result"
    }
   ],
   "source": [
    "predicted_stock_price"
   ]
  },
  {
   "cell_type": "code",
   "execution_count": 98,
   "metadata": {},
   "outputs": [
    {
     "data": {
      "text/plain": [
       "<matplotlib.legend.Legend at 0x241438b4788>"
      ]
     },
     "execution_count": 98,
     "metadata": {},
     "output_type": "execute_result"
    },
    {
     "data": {
      "image/png": "[encoded data removed]",
      "text/plain": [
       "<Figure size 864x576 with 1 Axes>"
      ]
     },
     "metadata": {
      "needs_background": "light"
     },
     "output_type": "display_data"
    }
   ],
   "source": [
    "# Visualizing the results\n",
    "\n",
    "plt.figure(figsize=(12,8))\n",
    "plt.plot(test_set, color='red', label='Real Google Stock Price')\n",
    "plt.plot(predicted_stock_price, color='blue', label='Predicted Google Stock Price')\n",
    "plt.title(\"Real vs Predicted Google Stock Prices\")\n",
    "plt.xlabel(\"Time\")\n",
    "plt.ylabel(\"Google Stock Prices\")\n",
    "plt.legend()"
   ]
  },
  {
   "cell_type": "markdown",
   "metadata": {},
   "source": [
    "### Improving the RNN"
   ]
  },
  {
   "cell_type": "markdown",
   "metadata": {},
   "source": [
    "* Getting more training data: we trained our model on the past 5 years of the Google Stock Price but it would be even better to train it on the past 10 years.\n",
    "* Increasing the number of timesteps: the model remembered the stock prices from the 60 previous financial days to predict the stock price of the next day. That’s because we chose a number of 60 timesteps (3 months). You could try to increase the number of timesteps, by choosing for example 120 timesteps (6 months).\n",
    "* Adding some other indicators: if you have the financial instinct that the stock price of some other companies might be correlated to the one of Google, you could add this other stock price as a new indicator in the training data.\n",
    "* Adding more LSTM layers: we built a RNN with four LSTM layers but you could try with even more.\n",
    "* Adding more neurones in the LSTM layers: we highlighted the fact that we needed a high number of neurones in the LSTM layers to respond better to the complexity of the problem and we chose to include 50 neurones in each of our 4 LSTM layers. You could try an architecture with even more neurones in each of the 4 (or more) LSTM layers."
   ]
  },
  {
   "cell_type": "markdown",
   "metadata": {},
   "source": [
    "### Tuning the RNN"
   ]
  },
  {
   "cell_type": "markdown",
   "metadata": {},
   "source": [
    "You can do some Parameter Tuning on the RNN model we implemented. Remember, this time we are dealing with a Regression problem because we predict a continuous outcome (the Google Stock Price). Parameter Tuning for Regression is the same as Parameter Tuning for Classification which you learned in Part 1 - Artificial Neural Networks, the only difference is that you have to \n",
    "\n",
    "replace:\n",
    "scoring = 'accuracy'  \n",
    "\n",
    "by:\n",
    "scoring = 'neg_mean_squared_error' \n",
    "\n",
    "in the GridSearchCV class parameters."
   ]
  }
 ],
 "metadata": {
  "kernelspec": {
   "display_name": "Python 3",
   "language": "python",
   "name": "python3"
  },
  "language_info": {
   "codemirror_mode": {
    "name": "ipython",
    "version": 3
   },
   "file_extension": ".py",
   "mimetype": "text/x-python",
   "name": "python",
   "nbconvert_exporter": "python",
   "pygments_lexer": "ipython3",
   "version": "3.7.5"
  }
 },
 "nbformat": 4,
 "nbformat_minor": 2
}
