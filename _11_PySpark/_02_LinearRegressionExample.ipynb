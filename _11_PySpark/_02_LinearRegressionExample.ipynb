{
 "cells": [
  {
   "cell_type": "markdown",
   "metadata": {},
   "source": [
    "# Linear Regression Example\n",
    "\n",
    "Let's walk through the steps of the official documentation example. Doing this will help your ability to read from the documentation, understand it, and then apply it to your own problems (the upcoming Consulting Project)."
   ]
  },
  {
   "cell_type": "code",
   "execution_count": 2,
   "metadata": {},
   "outputs": [],
   "source": [
    "# Create and initiate the Spark Session\n",
    "\n",
    "from pyspark.sql import SparkSession\n",
    "\n",
    "spark = SparkSession.builder.appName('lr_example').getOrCreate()"
   ]
  },
  {
   "cell_type": "code",
   "execution_count": 3,
   "metadata": {},
   "outputs": [],
   "source": [
    "# Load the training data \n",
    "\n",
    "from pyspark.ml.regression import LinearRegression\n",
    "\n",
    "training = spark.read.format(\"libsvm\").load(\"resources/sample_linear_regression_data.txt\")"
   ]
  },
  {
   "cell_type": "markdown",
   "metadata": {},
   "source": [
    "Interesting! We haven't seen libsvm formats before. In fact the aren't very popular when working with datasets in Python, but the Spark Documentation makes use of them a lot because of their formatting. Let's see what the training data looks like:"
   ]
  },
  {
   "cell_type": "code",
   "execution_count": 4,
   "metadata": {},
   "outputs": [
    {
     "output_type": "stream",
     "name": "stdout",
     "text": [
      "+-------------------+--------------------+\n|              label|            features|\n+-------------------+--------------------+\n| -9.490009878824548|(10,[0,1,2,3,4,5,...|\n| 0.2577820163584905|(10,[0,1,2,3,4,5,...|\n| -4.438869807456516|(10,[0,1,2,3,4,5,...|\n|-19.782762789614537|(10,[0,1,2,3,4,5,...|\n| -7.966593841555266|(10,[0,1,2,3,4,5,...|\n| -7.896274316726144|(10,[0,1,2,3,4,5,...|\n| -8.464803554195287|(10,[0,1,2,3,4,5,...|\n| 2.1214592666251364|(10,[0,1,2,3,4,5,...|\n| 1.0720117616524107|(10,[0,1,2,3,4,5,...|\n|-13.772441561702871|(10,[0,1,2,3,4,5,...|\n| -5.082010756207233|(10,[0,1,2,3,4,5,...|\n|  7.887786536531237|(10,[0,1,2,3,4,5,...|\n| 14.323146365332388|(10,[0,1,2,3,4,5,...|\n|-20.057482615789212|(10,[0,1,2,3,4,5,...|\n|-0.8995693247765151|(10,[0,1,2,3,4,5,...|\n| -19.16829262296376|(10,[0,1,2,3,4,5,...|\n|  5.601801561245534|(10,[0,1,2,3,4,5,...|\n|-3.2256352187273354|(10,[0,1,2,3,4,5,...|\n| 1.5299675726687754|(10,[0,1,2,3,4,5,...|\n| -0.250102447941961|(10,[0,1,2,3,4,5,...|\n+-------------------+--------------------+\nonly showing top 20 rows\n\n"
     ]
    }
   ],
   "source": [
    "# Lets see the training data\n",
    "\n",
    "training.show()"
   ]
  },
  {
   "cell_type": "markdown",
   "metadata": {},
   "source": [
    "This is the format that Spark expects. Two columns with the names \"label\" and \"features\". \n",
    "\n",
    "The \"label\" column then needs to have the numerical label, either a regression numerical value, or a numerical value that matches to a classification grouping. Later on we will talk about unsupervised learning algorithms that by their nature do not use or require a label.\n",
    "\n",
    "The feature column has inside of it a vector of all the features that belong to that row. Usually what we end up doing is combining the various feature columns we have into a single 'features' column using the data transformations we've learned about.\n",
    "\n",
    "Let's continue working through this simple example!"
   ]
  },
  {
   "cell_type": "code",
   "execution_count": 5,
   "metadata": {},
   "outputs": [],
   "source": [
    "# Create an instance of the model\n",
    "\n",
    "lr = LinearRegression(featuresCol='features', labelCol='label', predictionCol='prediction')\n",
    "\n",
    "# You could also pass in additional parameters for regularization, do the reading \n",
    "# in ISLR to fully understand that, after that its just some simple parameter calls.\n",
    "# Check the documentation with Shift+Tab for more info!"
   ]
  },
  {
   "cell_type": "code",
   "execution_count": 6,
   "metadata": {},
   "outputs": [],
   "source": [
    "# fit the model\n",
    "\n",
    "lrmodel = lr.fit(training)"
   ]
  },
  {
   "cell_type": "code",
   "execution_count": 7,
   "metadata": {},
   "outputs": [
    {
     "output_type": "stream",
     "name": "stdout",
     "text": [
      "coefficients : [0.0073350710225801715,0.8313757584337543,-0.8095307954684084,2.441191686884721,0.5191713795290003,1.1534591903547016,-0.2989124112808717,-0.5128514186201779,-0.619712827067017,0.6956151804322931]\n\n\nIntercept : 0.14228558260358093\n"
     ]
    }
   ],
   "source": [
    "# Get the coefficients and intercept\n",
    "\n",
    "print(f\"coefficients : {str(lrmodel.coefficients)}\")\n",
    "print(\"\\n\")\n",
    "print(f\"Intercept : {str(lrmodel.intercept)}\")"
   ]
  },
  {
   "cell_type": "code",
   "execution_count": 8,
   "metadata": {},
   "outputs": [],
   "source": [
    "# We can check the summary for even more info\n",
    "\n",
    "trainingSummary = lrmodel.summary"
   ]
  },
  {
   "cell_type": "code",
   "execution_count": 9,
   "metadata": {},
   "outputs": [
    {
     "output_type": "stream",
     "name": "stdout",
     "text": [
      "+-------------------+\n|          residuals|\n+-------------------+\n|-11.011130022096554|\n| 0.9236590911176538|\n|-4.5957401897776675|\n|  -20.4201774575836|\n|-10.339160314788181|\n|-5.9552091439610555|\n|-10.726906349283922|\n|  2.122807193191233|\n|  4.077122222293811|\n|-17.316168071241652|\n| -4.593044343959059|\n|  6.380476690746936|\n| 11.320566035059846|\n|-20.721971774534094|\n| -2.736692773777401|\n| -16.66886934252847|\n|  8.242186378876315|\n|-1.3723486332690233|\n|-0.7060332131264666|\n|-1.1591135969994064|\n+-------------------+\nonly showing top 20 rows\n\nRMSE : 10.16309157133015\nAdjusted R2 : 0.007999162774081858\n"
     ]
    }
   ],
   "source": [
    "# Get the residuals, RMSE and Adjusted R2\n",
    "\n",
    "trainingSummary.residuals.show()\n",
    "\n",
    "print(f\"RMSE : {trainingSummary.rootMeanSquaredError}\")\n",
    "print(f\"Adjusted R2 : {trainingSummary.r2adj}\")"
   ]
  },
  {
   "cell_type": "markdown",
   "metadata": {},
   "source": [
    "## Train/Test Splits\n",
    "\n",
    "But wait! We've commited a big mistake, we never separated our data set into a training and test set. Instead we trained on ALL of the data, something we generally want to avoid doing. Read ISLR and check out the theory lecture for more info on this, but remember we won't get a fair evaluation of our model by judging how well it does again on the same data it was trained on!\n",
    "\n",
    "Luckily Spark DataFrames have an almost too convienent method of splitting the data! Let's see it:"
   ]
  },
  {
   "cell_type": "code",
   "execution_count": 10,
   "metadata": {},
   "outputs": [],
   "source": [
    "all_data = spark.read.format(\"libsvm\").load(\"resources/sample_linear_regression_data.txt\")"
   ]
  },
  {
   "cell_type": "code",
   "execution_count": 11,
   "metadata": {},
   "outputs": [],
   "source": [
    "# Pass in the split between training/test as a list.\n",
    "# No correct, but generally 70/30 or 60/40 splits are used. \n",
    "# Depending on how much data you have and how unbalanced it is.\n",
    "\n",
    "train_data, test_data = all_data.randomSplit([0.7,0.3])"
   ]
  },
  {
   "cell_type": "code",
   "execution_count": 12,
   "metadata": {},
   "outputs": [
    {
     "output_type": "stream",
     "name": "stdout",
     "text": [
      "+-------------------+--------------------+\n|              label|            features|\n+-------------------+--------------------+\n|-28.571478869743427|(10,[0,1,2,3,4,5,...|\n|-28.046018037776633|(10,[0,1,2,3,4,5,...|\n|-26.805483428483072|(10,[0,1,2,3,4,5,...|\n|-26.736207182601724|(10,[0,1,2,3,4,5,...|\n|-23.487440120936512|(10,[0,1,2,3,4,5,...|\n|-22.949825936196074|(10,[0,1,2,3,4,5,...|\n|-21.432387764165806|(10,[0,1,2,3,4,5,...|\n|-20.212077258958672|(10,[0,1,2,3,4,5,...|\n|-20.057482615789212|(10,[0,1,2,3,4,5,...|\n|-19.884560774273424|(10,[0,1,2,3,4,5,...|\n|-19.872991038068406|(10,[0,1,2,3,4,5,...|\n|-19.782762789614537|(10,[0,1,2,3,4,5,...|\n| -19.66731861537172|(10,[0,1,2,3,4,5,...|\n|-19.402336030214553|(10,[0,1,2,3,4,5,...|\n| -19.16829262296376|(10,[0,1,2,3,4,5,...|\n|-18.845922472898582|(10,[0,1,2,3,4,5,...|\n| -18.27521356600463|(10,[0,1,2,3,4,5,...|\n|-17.494200356883344|(10,[0,1,2,3,4,5,...|\n| -17.32672073267595|(10,[0,1,2,3,4,5,...|\n|-17.065399625876015|(10,[0,1,2,3,4,5,...|\n+-------------------+--------------------+\nonly showing top 20 rows\n\n"
     ]
    }
   ],
   "source": [
    "# Check the training data\n",
    "train_data.show()"
   ]
  },
  {
   "cell_type": "code",
   "execution_count": 13,
   "metadata": {},
   "outputs": [
    {
     "output_type": "stream",
     "name": "stdout",
     "text": [
      "+-------------------+--------------------+\n|              label|            features|\n+-------------------+--------------------+\n| -23.51088409032297|(10,[0,1,2,3,4,5,...|\n|-22.837460416919342|(10,[0,1,2,3,4,5,...|\n|-17.803626188664516|(10,[0,1,2,3,4,5,...|\n|-17.428674570939506|(10,[0,1,2,3,4,5,...|\n| -16.71909683360509|(10,[0,1,2,3,4,5,...|\n|-16.692207021311106|(10,[0,1,2,3,4,5,...|\n|-15.732088272239245|(10,[0,1,2,3,4,5,...|\n|-15.348871155379253|(10,[0,1,2,3,4,5,...|\n|-14.822152909751189|(10,[0,1,2,3,4,5,...|\n|-13.976130931152703|(10,[0,1,2,3,4,5,...|\n|-12.977848725392104|(10,[0,1,2,3,4,5,...|\n|-12.558575788856189|(10,[0,1,2,3,4,5,...|\n| -12.46765638103286|(10,[0,1,2,3,4,5,...|\n| -12.41094640284016|(10,[0,1,2,3,4,5,...|\n|-12.130353212287929|(10,[0,1,2,3,4,5,...|\n|-11.904986902675114|(10,[0,1,2,3,4,5,...|\n|-11.615775265015627|(10,[0,1,2,3,4,5,...|\n| -11.43180236554046|(10,[0,1,2,3,4,5,...|\n|-11.039347808253828|(10,[0,1,2,3,4,5,...|\n|-10.600130341909033|(10,[0,1,2,3,4,5,...|\n+-------------------+--------------------+\nonly showing top 20 rows\n\n"
     ]
    }
   ],
   "source": [
    "# Check the test data \n",
    "test_data.show()"
   ]
  },
  {
   "cell_type": "code",
   "execution_count": 14,
   "metadata": {},
   "outputs": [
    {
     "output_type": "stream",
     "name": "stdout",
     "text": [
      "+--------------------+\n|            features|\n+--------------------+\n|(10,[0,1,2,3,4,5,...|\n|(10,[0,1,2,3,4,5,...|\n|(10,[0,1,2,3,4,5,...|\n|(10,[0,1,2,3,4,5,...|\n|(10,[0,1,2,3,4,5,...|\n|(10,[0,1,2,3,4,5,...|\n|(10,[0,1,2,3,4,5,...|\n|(10,[0,1,2,3,4,5,...|\n|(10,[0,1,2,3,4,5,...|\n|(10,[0,1,2,3,4,5,...|\n|(10,[0,1,2,3,4,5,...|\n|(10,[0,1,2,3,4,5,...|\n|(10,[0,1,2,3,4,5,...|\n|(10,[0,1,2,3,4,5,...|\n|(10,[0,1,2,3,4,5,...|\n|(10,[0,1,2,3,4,5,...|\n|(10,[0,1,2,3,4,5,...|\n|(10,[0,1,2,3,4,5,...|\n|(10,[0,1,2,3,4,5,...|\n|(10,[0,1,2,3,4,5,...|\n+--------------------+\nonly showing top 20 rows\n\n"
     ]
    }
   ],
   "source": [
    "# We will isolate the test features\n",
    "\n",
    "unlabeled_data = test_data.select('features')\n",
    "unlabeled_data.show()"
   ]
  },
  {
   "cell_type": "code",
   "execution_count": 15,
   "metadata": {},
   "outputs": [],
   "source": [
    "# We will now fit the model on traininig data\n",
    "correct_model = lr.fit(train_data)"
   ]
  },
  {
   "cell_type": "code",
   "execution_count": 16,
   "metadata": {},
   "outputs": [],
   "source": [
    "# We will now use this model on test data to evaluate\n",
    "test_results = correct_model.evaluate(test_data)"
   ]
  },
  {
   "cell_type": "code",
   "execution_count": 17,
   "metadata": {},
   "outputs": [
    {
     "output_type": "stream",
     "name": "stdout",
     "text": [
      "+-------------------+\n|          residuals|\n+-------------------+\n|-25.288524568812747|\n| -19.50489526067892|\n|-19.642139078473267|\n|-19.204681693878396|\n|-14.149406160996024|\n|     -21.9712735593|\n| -17.35719443465719|\n|-14.597115788297408|\n|-15.895597620324072|\n|-14.905311294527591|\n| -13.85672544456759|\n| -15.62857694469184|\n|-13.791015428693518|\n| -6.998270609693759|\n| -9.546788921860385|\n|-13.658290656788186|\n|-12.999470326391084|\n|  -14.0123802005291|\n| -7.811571083275853|\n|-13.595230005220765|\n+-------------------+\nonly showing top 20 rows\n\nRMSE : 10.853842396665545\nAdj R2: -0.16981995563183916\n"
     ]
    }
   ],
   "source": [
    "# Lets see residuals, RMSE and Adj R2\n",
    "\n",
    "test_results.residuals.show()\n",
    "\n",
    "print(f\"RMSE : {test_results.rootMeanSquaredError}\")\n",
    "print(f\"Adj R2: {test_results.r2adj}\")"
   ]
  },
  {
   "cell_type": "markdown",
   "metadata": {},
   "source": [
    "Well that is nice, but realistically we will eventually want to test this model against unlabeled data, after all, that is the whole point of building the model in the first place. We can again do this with a convenient method call, in this case, transform(). Which was actually being called within the evaluate() method. Let's see it in action:"
   ]
  },
  {
   "cell_type": "code",
   "execution_count": 18,
   "metadata": {},
   "outputs": [
    {
     "output_type": "stream",
     "name": "stdout",
     "text": [
      "+--------------------+-------------------+\n|            features|         prediction|\n+--------------------+-------------------+\n|(10,[0,1,2,3,4,5,...| 1.7776404784897744|\n|(10,[0,1,2,3,4,5,...|  -3.33256515624042|\n|(10,[0,1,2,3,4,5,...| 1.8385128898087506|\n|(10,[0,1,2,3,4,5,...|  1.776007122938889|\n|(10,[0,1,2,3,4,5,...|-2.5696906726090654|\n|(10,[0,1,2,3,4,5,...|  5.279066537988893|\n|(10,[0,1,2,3,4,5,...| 1.6251061624179421|\n|(10,[0,1,2,3,4,5,...|-0.7517553670818454|\n|(10,[0,1,2,3,4,5,...| 1.0734447105728835|\n|(10,[0,1,2,3,4,5,...| 0.9291803633748879|\n|(10,[0,1,2,3,4,5,...| 0.8788767191754866|\n|(10,[0,1,2,3,4,5,...|  3.070001155835652|\n|(10,[0,1,2,3,4,5,...| 1.3233590476606572|\n|(10,[0,1,2,3,4,5,...| -5.412675793146401|\n|(10,[0,1,2,3,4,5,...|-2.5835642904275447|\n|(10,[0,1,2,3,4,5,...| 1.7533037541130716|\n|(10,[0,1,2,3,4,5,...| 1.3836950613754577|\n|(10,[0,1,2,3,4,5,...|   2.58057783498864|\n|(10,[0,1,2,3,4,5,...| -3.227776724977975|\n|(10,[0,1,2,3,4,5,...| 2.9950996633117324|\n+--------------------+-------------------+\nonly showing top 20 rows\n\n"
     ]
    }
   ],
   "source": [
    "predictions = correct_model.transform(unlabeled_data)\n",
    "predictions.show()"
   ]
  },
  {
   "cell_type": "code",
   "execution_count": null,
   "metadata": {},
   "outputs": [],
   "source": []
  }
 ],
 "metadata": {
  "kernelspec": {
   "name": "python3",
   "display_name": "Python 3.8.10 64-bit ('pyspark': conda)"
  },
  "language_info": {
   "codemirror_mode": {
    "name": "ipython",
    "version": 3
   },
   "file_extension": ".py",
   "mimetype": "text/x-python",
   "name": "python",
   "nbconvert_exporter": "python",
   "pygments_lexer": "ipython3",
   "version": "3.8.10"
  },
  "interpreter": {
   "hash": "a8606bb89ff58952fb9d896d3ff97deb9accae9cf8d913f17f7f7ec9d60aa4a4"
  }
 },
 "nbformat": 4,
 "nbformat_minor": 4
}