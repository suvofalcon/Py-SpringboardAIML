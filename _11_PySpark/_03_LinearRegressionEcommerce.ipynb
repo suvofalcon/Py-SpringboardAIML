{
 "cells": [
  {
   "cell_type": "markdown",
   "metadata": {},
   "source": [
    "# Linear Regression - ECommerce\n",
    "\n",
    "Basically what we do here is examine a dataset with Ecommerce Customer Data for a company's website and mobile app. Then we want to see if we can build a regression model that will predict the customer's yearly spend on the company's product."
   ]
  },
  {
   "cell_type": "code",
   "execution_count": 20,
   "metadata": {},
   "outputs": [],
   "source": [
    "# Lets start a Spark Session\n",
    "\n",
    "from pyspark.sql import SparkSession\n",
    "spark = SparkSession.builder.appName('lr_example').getOrCreate()"
   ]
  },
  {
   "cell_type": "code",
   "execution_count": 21,
   "metadata": {},
   "outputs": [],
   "source": [
    "# Import the Linear Regression library\n",
    "\n",
    "from pyspark.ml.regression import LinearRegression"
   ]
  },
  {
   "cell_type": "markdown",
   "metadata": {},
   "source": [
    "## Read the dataset"
   ]
  },
  {
   "cell_type": "code",
   "execution_count": 22,
   "metadata": {},
   "outputs": [
    {
     "output_type": "stream",
     "name": "stdout",
     "text": [
      "root\n |-- Email: string (nullable = true)\n |-- Address: string (nullable = true)\n |-- Avatar: string (nullable = true)\n |-- Avg Session Length: double (nullable = true)\n |-- Time on App: double (nullable = true)\n |-- Time on Website: double (nullable = true)\n |-- Length of Membership: double (nullable = true)\n |-- Yearly Amount Spent: double (nullable = true)\n\n"
     ]
    }
   ],
   "source": [
    "# We will now read the dataset\n",
    "\n",
    "data = spark.read.csv(\"resources/Ecommerce_Customers.csv\", inferSchema=True, header=True)\n",
    "\n",
    "# Print the schema of the data frame\n",
    "data.printSchema()"
   ]
  },
  {
   "cell_type": "code",
   "execution_count": 23,
   "metadata": {},
   "outputs": [
    {
     "output_type": "stream",
     "name": "stdout",
     "text": [
      "+--------------------+--------------------+----------------+------------------+------------------+------------------+--------------------+-------------------+\n|               Email|             Address|          Avatar|Avg Session Length|       Time on App|   Time on Website|Length of Membership|Yearly Amount Spent|\n+--------------------+--------------------+----------------+------------------+------------------+------------------+--------------------+-------------------+\n|mstephenson@ferna...|835 Frank TunnelW...|          Violet| 34.49726772511229| 12.65565114916675| 39.57766801952616|  4.0826206329529615|  587.9510539684005|\n|   hduke@hotmail.com|4547 Archer Commo...|       DarkGreen| 31.92627202636016|11.109460728682564|37.268958868297744|    2.66403418213262|  392.2049334443264|\n|    pallen@yahoo.com|24645 Valerie Uni...|          Bisque|33.000914755642675|11.330278057777512|37.110597442120856|   4.104543202376424| 487.54750486747207|\n|riverarebecca@gma...|1414 David Throug...|     SaddleBrown| 34.30555662975554|13.717513665142507| 36.72128267790313|   3.120178782748092|  581.8523440352177|\n|mstephens@davidso...|14023 Rodriguez P...|MediumAquaMarine| 33.33067252364639|12.795188551078114| 37.53665330059473|   4.446308318351434|  599.4060920457634|\n|alvareznancy@luca...|645 Martha Park A...|     FloralWhite|33.871037879341976|12.026925339755056| 34.47687762925054|   5.493507201364199|   637.102447915074|\n|katherine20@yahoo...|68388 Reyes Light...|   DarkSlateBlue| 32.02159550138701|11.366348309710526| 36.68377615286961|   4.685017246570912|  521.5721747578274|\n|  awatkins@yahoo.com|Unit 6538 Box 898...|            Aqua|32.739142938380326| 12.35195897300293| 37.37335885854755|  4.4342734348999375|  549.9041461052942|\n|vchurch@walter-ma...|860 Lee KeyWest D...|          Salmon| 33.98777289568564|13.386235275676436|37.534497341555735|  3.2734335777477144|  570.2004089636196|\n|    bonnie69@lin.biz|PSC 2734, Box 525...|           Brown|31.936548618448917|11.814128294972196| 37.14516822352819|   3.202806071553459|  427.1993848953282|\n+--------------------+--------------------+----------------+------------------+------------------+------------------+--------------------+-------------------+\nonly showing top 10 rows\n\n"
     ]
    }
   ],
   "source": [
    "# View the initial rows of the data\n",
    "data.show(10)"
   ]
  },
  {
   "cell_type": "code",
   "execution_count": 24,
   "metadata": {},
   "outputs": [
    {
     "output_type": "execute_result",
     "data": {
      "text/plain": [
       "Row(Email='mstephenson@fernandez.com', Address='835 Frank TunnelWrightmouth, MI 82180-9605', Avatar='Violet', Avg Session Length=34.49726772511229, Time on App=12.65565114916675, Time on Website=39.57766801952616, Length of Membership=4.0826206329529615, Yearly Amount Spent=587.9510539684005)"
      ]
     },
     "metadata": {},
     "execution_count": 24
    }
   ],
   "source": [
    "# Check the first row\n",
    "data.head()"
   ]
  },
  {
   "cell_type": "code",
   "execution_count": 25,
   "metadata": {},
   "outputs": [
    {
     "output_type": "stream",
     "name": "stdout",
     "text": [
      "mstephenson@fernandez.com\n835 Frank TunnelWrightmouth, MI 82180-9605\nViolet\n34.49726772511229\n12.65565114916675\n39.57766801952616\n4.0826206329529615\n587.9510539684005\n"
     ]
    }
   ],
   "source": [
    "# Check the individual column values from the first row\n",
    "for item in data.head():\n",
    "    print(item)"
   ]
  },
  {
   "cell_type": "markdown",
   "metadata": {},
   "source": [
    "## Setting Up the dataframe for Machine Learning"
   ]
  },
  {
   "cell_type": "markdown",
   "metadata": {},
   "source": [
    "A few things we need to do before Spark can accept the data! It needs to be in the form of two columns \n",
    "(\"label\",\"features\")"
   ]
  },
  {
   "cell_type": "code",
   "execution_count": 26,
   "metadata": {},
   "outputs": [],
   "source": [
    "# Import VectorAssembler and Vectors\n",
    "\n",
    "from pyspark.ml.linalg import Vectors\n",
    "from pyspark.ml.feature import VectorAssembler"
   ]
  },
  {
   "cell_type": "code",
   "execution_count": 27,
   "metadata": {},
   "outputs": [
    {
     "output_type": "execute_result",
     "data": {
      "text/plain": [
       "['Email',\n",
       " 'Address',\n",
       " 'Avatar',\n",
       " 'Avg Session Length',\n",
       " 'Time on App',\n",
       " 'Time on Website',\n",
       " 'Length of Membership',\n",
       " 'Yearly Amount Spent']"
      ]
     },
     "metadata": {},
     "execution_count": 27
    }
   ],
   "source": [
    "# Check the columns\n",
    "data.columns"
   ]
  },
  {
   "cell_type": "code",
   "execution_count": 28,
   "metadata": {},
   "outputs": [],
   "source": [
    "# We will use the numerical columns only for now\n",
    "\n",
    "assembler = VectorAssembler(inputCols=['Avg Session Length', 'Time on App', 'Time on Website', \n",
    "                                       'Length of Membership', 'Yearly Amount Spent'], \n",
    "                            outputCol=\"features\")\n",
    "\n",
    "# Now we will transform the data\n",
    "\n",
    "output = assembler.transform(data)"
   ]
  },
  {
   "cell_type": "code",
   "execution_count": 29,
   "metadata": {},
   "outputs": [
    {
     "output_type": "stream",
     "name": "stdout",
     "text": [
      "root\n |-- Email: string (nullable = true)\n |-- Address: string (nullable = true)\n |-- Avatar: string (nullable = true)\n |-- Avg Session Length: double (nullable = true)\n |-- Time on App: double (nullable = true)\n |-- Time on Website: double (nullable = true)\n |-- Length of Membership: double (nullable = true)\n |-- Yearly Amount Spent: double (nullable = true)\n |-- features: vector (nullable = true)\n\n"
     ]
    },
    {
     "output_type": "execute_result",
     "data": {
      "text/plain": [
       "Row(Email='mstephenson@fernandez.com', Address='835 Frank TunnelWrightmouth, MI 82180-9605', Avatar='Violet', Avg Session Length=34.49726772511229, Time on App=12.65565114916675, Time on Website=39.57766801952616, Length of Membership=4.0826206329529615, Yearly Amount Spent=587.9510539684005, features=DenseVector([34.4973, 12.6557, 39.5777, 4.0826, 587.9511]))"
      ]
     },
     "metadata": {},
     "execution_count": 29
    }
   ],
   "source": [
    "# If we do a printSchema we will see a feautures column got added which is actually a dense vector\n",
    "\n",
    "output.printSchema()\n",
    "\n",
    "# See the first row\n",
    "output.head()"
   ]
  },
  {
   "cell_type": "code",
   "execution_count": 30,
   "metadata": {},
   "outputs": [],
   "source": [
    "# Final data for regression\n",
    "\n",
    "final_data = output.select(\"features\", 'Yearly Amount Spent')"
   ]
  },
  {
   "cell_type": "code",
   "execution_count": 31,
   "metadata": {},
   "outputs": [
    {
     "output_type": "stream",
     "name": "stdout",
     "text": [
      "+--------------------+-------------------+\n|            features|Yearly Amount Spent|\n+--------------------+-------------------+\n|[34.4972677251122...|  587.9510539684005|\n|[31.9262720263601...|  392.2049334443264|\n|[33.0009147556426...| 487.54750486747207|\n|[34.3055566297555...|  581.8523440352177|\n|[33.3306725236463...|  599.4060920457634|\n|[33.8710378793419...|   637.102447915074|\n|[32.0215955013870...|  521.5721747578274|\n|[32.7391429383803...|  549.9041461052942|\n|[33.9877728956856...|  570.2004089636196|\n|[31.9365486184489...|  427.1993848953282|\n|[33.9925727749537...|  492.6060127179966|\n|[33.8793608248049...|  522.3374046069357|\n|[29.5324289670579...|  408.6403510726275|\n|[33.1903340437226...|  573.4158673313865|\n|[32.3879758531538...|  470.4527333009554|\n|[30.7377203726281...|  461.7807421962299|\n|[32.1253868972878...| 457.84769594494855|\n|[32.3388993230671...| 407.70454754954415|\n|[32.1878120459321...|  452.3156754800354|\n|[32.6178560628234...|   605.061038804892|\n+--------------------+-------------------+\nonly showing top 20 rows\n\n"
     ]
    }
   ],
   "source": [
    "final_data.show()"
   ]
  },
  {
   "cell_type": "markdown",
   "metadata": {},
   "source": [
    "## Perform the Regression"
   ]
  },
  {
   "cell_type": "code",
   "execution_count": 32,
   "metadata": {},
   "outputs": [
    {
     "output_type": "stream",
     "name": "stdout",
     "text": [
      "+-------+-------------------+\n|summary|Yearly Amount Spent|\n+-------+-------------------+\n|  count|                352|\n|   mean| 498.70051385059253|\n| stddev|  78.37051924021307|\n|    min| 256.67058229005585|\n|    max|  765.5184619388373|\n+-------+-------------------+\n\n"
     ]
    }
   ],
   "source": [
    "# Perform the train, test split\n",
    "\n",
    "train_data, test_data = final_data.randomSplit([0.7, 0.3])\n",
    "\n",
    "train_data.describe().show()"
   ]
  },
  {
   "cell_type": "code",
   "execution_count": 33,
   "metadata": {},
   "outputs": [],
   "source": [
    "# Create the Linear Regression Model Object\n",
    "\n",
    "lr = LinearRegression(labelCol='Yearly Amount Spent')\n",
    "\n",
    "# Fit the model to the data and call this model\n",
    "lrModel = lr.fit(train_data,)"
   ]
  },
  {
   "cell_type": "code",
   "execution_count": 34,
   "metadata": {},
   "outputs": [
    {
     "output_type": "stream",
     "name": "stdout",
     "text": [
      "coefficients : [3.2342318017582547e-12,4.871090514225532e-12,1.4286814154003213e-14,7.658542575150552e-12,0.9999999999998747]\n\n\nIntercept : -1.306753173580155e-10\n"
     ]
    }
   ],
   "source": [
    "# Get the coefficients and intercept\n",
    "\n",
    "print(f\"coefficients : {lrModel.coefficients}\")\n",
    "print(\"\\n\")\n",
    "print(f\"Intercept : {lrModel.intercept}\")"
   ]
  },
  {
   "cell_type": "code",
   "execution_count": 35,
   "metadata": {},
   "outputs": [],
   "source": [
    "# Now we will evaluate this model \n",
    "\n",
    "test_results = lrModel.evaluate(test_data)"
   ]
  },
  {
   "cell_type": "code",
   "execution_count": 36,
   "metadata": {},
   "outputs": [
    {
     "output_type": "stream",
     "name": "stdout",
     "text": [
      "+--------------------+\n|           residuals|\n+--------------------+\n|-6.82121026329696...|\n|1.364242052659392...|\n|-2.16004991671070...|\n|-5.11590769747272...|\n|9.663381206337363...|\n|6.821210263296962...|\n|-9.09494701772928...|\n|2.728484105318784...|\n|4.547473508864641...|\n|-7.95807864051312...|\n|-5.11590769747272...|\n|-5.11590769747272...|\n|-1.13686837721616...|\n|-6.25277607468888...|\n|9.094947017729282...|\n|-7.38964445190504...|\n|-2.21689333557151...|\n|-1.13686837721616...|\n|-2.27373675443232...|\n|-6.25277607468888...|\n+--------------------+\nonly showing top 20 rows\n\nRMSE : 1.2412063993220555e-12\nAdjusted R2 : 1.0\n"
     ]
    }
   ],
   "source": [
    "# Get the residuals, RMSE and Adjusted R2\n",
    "\n",
    "test_results.residuals.show()\n",
    "\n",
    "print(f\"RMSE : {test_results.rootMeanSquaredError}\")\n",
    "print(f\"Adjusted R2 : {test_results.r2adj}\")"
   ]
  },
  {
   "cell_type": "code",
   "execution_count": 37,
   "metadata": {},
   "outputs": [
    {
     "output_type": "stream",
     "name": "stdout",
     "text": [
      "+--------------------+------------------+\n|            features|        prediction|\n+--------------------+------------------+\n|[30.4925366965402...| 282.4712457199152|\n|[30.7377203726281...| 461.7807421962285|\n|[30.8162006488763...|266.08634094847116|\n|[30.8364326747734...| 467.5019004269901|\n|[30.9716756438877...|494.63860975689175|\n|[31.0472221394875...| 392.4973991890207|\n|[31.1280900496166...| 557.2526867470556|\n|[31.2834474760581...| 591.7810894256647|\n|[31.4459724827577...| 484.8769649351281|\n|[31.4474464941278...| 418.6027420952248|\n|[31.5147378578019...| 489.8124879964619|\n|[31.5171218025062...| 275.9184206503862|\n|[31.5761319713222...| 541.2265839893284|\n|[31.6253601348306...| 376.3369007569248|\n|[31.6548096756927...| 475.2634237275476|\n|[31.7242025238451...|503.38788728796123|\n|[31.8164283341993...| 501.1224915036586|\n|[31.8279790554652...|440.00274754694266|\n|[31.8627411090001...| 556.2981411740469|\n|[31.8745516945853...| 392.2852442462681|\n+--------------------+------------------+\nonly showing top 20 rows\n\n"
     ]
    }
   ],
   "source": [
    "# Now if we have to run these as predictions on an unseen data\n",
    "\n",
    "unlabeled_data = test_data.select('features')\n",
    "\n",
    "predictions = lrModel.transform(unlabeled_data)\n",
    "\n",
    "predictions.show()"
   ]
  },
  {
   "cell_type": "code",
   "execution_count": null,
   "metadata": {},
   "outputs": [],
   "source": []
  }
 ],
 "metadata": {
  "kernelspec": {
   "name": "python3",
   "display_name": "Python 3.8.10 64-bit ('pyspark': conda)"
  },
  "language_info": {
   "codemirror_mode": {
    "name": "ipython",
    "version": 3
   },
   "file_extension": ".py",
   "mimetype": "text/x-python",
   "name": "python",
   "nbconvert_exporter": "python",
   "pygments_lexer": "ipython3",
   "version": "3.8.10"
  },
  "interpreter": {
   "hash": "a8606bb89ff58952fb9d896d3ff97deb9accae9cf8d913f17f7f7ec9d60aa4a4"
  }
 },
 "nbformat": 4,
 "nbformat_minor": 4
}