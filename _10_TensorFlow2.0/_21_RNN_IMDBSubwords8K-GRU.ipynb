{
 "cells": [
  {
   "cell_type": "markdown",
   "source": [
    "# IMDB Subwords 8K With a Single Layer LSTM"
   ],
   "metadata": {
    "collapsed": false
   }
  },
  {
   "cell_type": "code",
   "execution_count": 12,
   "metadata": {
    "collapsed": true
   },
   "outputs": [],
   "source": [
    "import numpy as np\n",
    "import tensorflow as tf\n",
    "import tensorflow_datasets as tfds"
   ]
  },
  {
   "cell_type": "code",
   "execution_count": 13,
   "outputs": [
    {
     "name": "stderr",
     "output_type": "stream",
     "text": [
      "WARNING:absl:TFDS datasets with text encoding are deprecated and will be removed in a future version. Instead, you should use the plain text version and tokenize the text using `tensorflow_text` (See: https://www.tensorflow.org/tutorials/tensorflow_text/intro#tfdata_example)\n"
     ]
    }
   ],
   "source": [
    "# We will get the data\n",
    "dataset, info = tfds.load('imdb_reviews/subwords8k', with_info=True, as_supervised=True)\n",
    "train_dataset, test_dataset = dataset['train'], dataset['test']"
   ],
   "metadata": {
    "collapsed": false,
    "pycharm": {
     "name": "#%%\n"
    }
   }
  },
  {
   "cell_type": "code",
   "execution_count": 14,
   "outputs": [],
   "source": [
    "# Extract the relevant fields\n",
    "training_sentences = []\n",
    "training_labels = []\n",
    "\n",
    "testing_sentences = []\n",
    "testing_labels = []\n",
    "\n",
    "for s, l in train_dataset:\n",
    "    training_sentences.append(str(s.numpy()))\n",
    "    training_labels.append(l.numpy())\n",
    "\n",
    "for s, l in test_dataset:\n",
    "    testing_sentences.append(str(s.numpy()))\n",
    "    testing_labels.append(l.numpy())\n",
    "\n",
    "training_labels = np.array(training_labels)\n",
    "testing_labels = np.array(testing_labels)"
   ],
   "metadata": {
    "collapsed": false,
    "pycharm": {
     "name": "#%%\n"
    }
   }
  },
  {
   "cell_type": "code",
   "execution_count": 15,
   "outputs": [],
   "source": [
    "# We will define some tokenizing constants\n",
    "vocab_size = 10000\n",
    "embedding_dim = 16\n",
    "max_length = 120\n",
    "trunc_type='post'\n",
    "oov_tok = \"<OOV>\""
   ],
   "metadata": {
    "collapsed": false,
    "pycharm": {
     "name": "#%%\n"
    }
   }
  },
  {
   "cell_type": "code",
   "execution_count": 16,
   "outputs": [],
   "source": [
    "# We will work on tokenizing texts now\n",
    "\n",
    "from tensorflow.keras.preprocessing.text import Tokenizer\n",
    "from tensorflow.keras.preprocessing.sequence import pad_sequences\n",
    "\n",
    "tokenizer = Tokenizer(num_words=vocab_size, oov_token=oov_tok)\n",
    "tokenizer.fit_on_texts(training_sentences)\n",
    "word_index = tokenizer.word_index\n",
    "training_sequences = tokenizer.texts_to_sequences(training_sentences)\n",
    "training_padded = pad_sequences(training_sequences, maxlen=max_length, truncating=trunc_type)\n",
    "\n",
    "testing_sequences = tokenizer.texts_to_sequences(testing_sentences)\n",
    "testing_padded = pad_sequences(testing_sequences, maxlen=max_length, truncating=trunc_type)"
   ],
   "metadata": {
    "collapsed": false,
    "pycharm": {
     "name": "#%%\n"
    }
   }
  },
  {
   "cell_type": "code",
   "execution_count": 17,
   "outputs": [
    {
     "name": "stdout",
     "output_type": "stream",
     "text": [
      "12 31 93 867 7 1256 6585 7961 421 365 2 26 14 9 988 1089 7 4 6728 6 276 5760 2587 2 81 6118 8029 2 139 1892 7961 5 5402 246 25 1 1771 350 5 369 56 5397 102 4 2547 3 4001 25 14 7822 209 12 3531 6585 7961 99 1 32 18 4762 3 19 184 3223 18 5855 1045 3 4232 3337 64 1347 5 1190 3 4459 8 614 7 3129 2 26 22 84 7020 6 71 18 4924 1160 161 50 2265 3 12 3983 2 12 264 31 2545 261 6 1 66 2 26 131 393 1 5846 6 15 5 473 56 614 7 1470 6\n",
      "[  12   31   93  867    7 1256 6585 7961  421  365    2   26   14    9\n",
      "  988 1089    7    4 6728    6  276 5760 2587    2   81 6118 8029    2\n",
      "  139 1892 7961    5 5402  246   25    1 1771  350    5  369   56 5397\n",
      "  102    4 2547    3 4001   25   14 7822  209   12 3531 6585 7961   99\n",
      "    1   32   18 4762    3   19  184 3223   18 5855 1045    3 4232 3337\n",
      "   64 1347    5 1190    3 4459    8  614    7 3129    2   26   22   84\n",
      " 7020    6   71   18 4924 1160  161   50 2265    3   12 3983    2   12\n",
      "  264   31 2545  261    6    1   66    2   26  131  393    1 5846    6\n",
      "   15    5  473   56  614    7 1470    6  116  285 4755 2088 7961  273\n",
      "  119  213 3414 7961   23  332 1019    3   12 7667  505   14   32   44\n",
      "  208 7975]\n"
     ]
    }
   ],
   "source": [
    "reverse_word_index = dict([(value, key) for (key, value) in word_index.items()])\n",
    "\n",
    "def decode_review(text):\n",
    "    return ' '.join([reverse_word_index.get(i, '?') for i in text])\n",
    "\n",
    "print(decode_review(training_padded[1]))\n",
    "print(training_sentences[1])"
   ],
   "metadata": {
    "collapsed": false,
    "pycharm": {
     "name": "#%%\n"
    }
   }
  },
  {
   "cell_type": "code",
   "execution_count": 18,
   "outputs": [
    {
     "name": "stdout",
     "output_type": "stream",
     "text": [
      "Model: \"sequential_1\"\n",
      "_________________________________________________________________\n",
      "Layer (type)                 Output Shape              Param #   \n",
      "=================================================================\n",
      "embedding_1 (Embedding)      (None, 120, 16)           160000    \n",
      "_________________________________________________________________\n",
      "bidirectional_1 (Bidirection (None, 64)                9600      \n",
      "_________________________________________________________________\n",
      "dense_2 (Dense)              (None, 64)                4160      \n",
      "_________________________________________________________________\n",
      "dense_3 (Dense)              (None, 1)                 65        \n",
      "=================================================================\n",
      "Total params: 173,825\n",
      "Trainable params: 173,825\n",
      "Non-trainable params: 0\n",
      "_________________________________________________________________\n"
     ]
    }
   ],
   "source": [
    "# define the model\n",
    "model = tf.keras.Sequential([\n",
    "    tf.keras.layers.Embedding(vocab_size, embedding_dim, input_length=max_length),\n",
    "    tf.keras.layers.Bidirectional(tf.keras.layers.GRU(32)),\n",
    "    tf.keras.layers.Dense(64, activation=tf.nn.relu),\n",
    "    tf.keras.layers.Dense(1, activation=tf.nn.sigmoid)\n",
    "])\n",
    "model.compile(loss='binary_crossentropy', optimizer='adam', metrics=['accuracy'])\n",
    "model.summary()"
   ],
   "metadata": {
    "collapsed": false,
    "pycharm": {
     "name": "#%%\n"
    }
   }
  },
  {
   "cell_type": "code",
   "execution_count": 19,
   "outputs": [
    {
     "name": "stdout",
     "output_type": "stream",
     "text": [
      "Epoch 1/50\n",
      "782/782 [==============================] - 25s 27ms/step - loss: 0.5654 - accuracy: 0.6830 - val_loss: 0.4556 - val_accuracy: 0.7838\n",
      "Epoch 2/50\n",
      "782/782 [==============================] - 21s 26ms/step - loss: 0.3582 - accuracy: 0.8449 - val_loss: 0.4673 - val_accuracy: 0.7816\n",
      "Epoch 3/50\n",
      "782/782 [==============================] - 21s 27ms/step - loss: 0.2740 - accuracy: 0.8866 - val_loss: 0.5029 - val_accuracy: 0.7795\n",
      "Epoch 4/50\n",
      "782/782 [==============================] - 21s 27ms/step - loss: 0.2060 - accuracy: 0.9182 - val_loss: 0.5944 - val_accuracy: 0.7565\n",
      "Epoch 5/50\n",
      "782/782 [==============================] - 21s 26ms/step - loss: 0.1433 - accuracy: 0.9454 - val_loss: 0.7281 - val_accuracy: 0.7679\n",
      "Epoch 6/50\n",
      "782/782 [==============================] - 21s 27ms/step - loss: 0.1000 - accuracy: 0.9624 - val_loss: 0.8618 - val_accuracy: 0.7504\n",
      "Epoch 7/50\n",
      "782/782 [==============================] - 21s 27ms/step - loss: 0.0637 - accuracy: 0.9760 - val_loss: 1.0852 - val_accuracy: 0.7520\n",
      "Epoch 8/50\n",
      "782/782 [==============================] - 21s 26ms/step - loss: 0.0544 - accuracy: 0.9802 - val_loss: 1.2213 - val_accuracy: 0.7607\n",
      "Epoch 9/50\n",
      "782/782 [==============================] - 21s 27ms/step - loss: 0.0339 - accuracy: 0.9880 - val_loss: 1.4045 - val_accuracy: 0.7496\n",
      "Epoch 10/50\n",
      "782/782 [==============================] - 21s 27ms/step - loss: 0.0306 - accuracy: 0.9895 - val_loss: 1.5659 - val_accuracy: 0.7554\n",
      "Epoch 11/50\n",
      "782/782 [==============================] - 21s 26ms/step - loss: 0.0240 - accuracy: 0.9914 - val_loss: 1.6251 - val_accuracy: 0.7515\n",
      "Epoch 12/50\n",
      "782/782 [==============================] - 21s 27ms/step - loss: 0.0257 - accuracy: 0.9905 - val_loss: 1.6670 - val_accuracy: 0.7496\n",
      "Epoch 13/50\n",
      "782/782 [==============================] - 20s 26ms/step - loss: 0.0217 - accuracy: 0.9924 - val_loss: 1.6531 - val_accuracy: 0.7405\n",
      "Epoch 14/50\n",
      "782/782 [==============================] - 21s 27ms/step - loss: 0.0160 - accuracy: 0.9941 - val_loss: 1.7888 - val_accuracy: 0.7464\n",
      "Epoch 15/50\n",
      "782/782 [==============================] - 21s 27ms/step - loss: 0.0175 - accuracy: 0.9938 - val_loss: 1.8586 - val_accuracy: 0.7486\n",
      "Epoch 16/50\n",
      "782/782 [==============================] - 21s 27ms/step - loss: 0.0177 - accuracy: 0.9938 - val_loss: 1.7877 - val_accuracy: 0.7508\n",
      "Epoch 17/50\n",
      "782/782 [==============================] - 21s 27ms/step - loss: 0.0116 - accuracy: 0.9964 - val_loss: 1.8672 - val_accuracy: 0.7404\n",
      "Epoch 18/50\n",
      "782/782 [==============================] - 21s 27ms/step - loss: 0.0088 - accuracy: 0.9969 - val_loss: 2.1926 - val_accuracy: 0.7499\n",
      "Epoch 19/50\n",
      "782/782 [==============================] - 21s 27ms/step - loss: 0.0124 - accuracy: 0.9954 - val_loss: 2.0470 - val_accuracy: 0.7487\n",
      "Epoch 20/50\n",
      "782/782 [==============================] - 21s 26ms/step - loss: 0.0102 - accuracy: 0.9963 - val_loss: 2.1990 - val_accuracy: 0.7440\n",
      "Epoch 21/50\n",
      "782/782 [==============================] - 21s 26ms/step - loss: 0.0081 - accuracy: 0.9974 - val_loss: 2.0528 - val_accuracy: 0.7354\n",
      "Epoch 22/50\n",
      "782/782 [==============================] - 21s 26ms/step - loss: 0.0074 - accuracy: 0.9972 - val_loss: 2.3286 - val_accuracy: 0.7378\n",
      "Epoch 23/50\n",
      "782/782 [==============================] - 20s 26ms/step - loss: 0.0105 - accuracy: 0.9960 - val_loss: 2.1976 - val_accuracy: 0.7535\n",
      "Epoch 24/50\n",
      "782/782 [==============================] - 20s 26ms/step - loss: 0.0073 - accuracy: 0.9974 - val_loss: 2.1764 - val_accuracy: 0.7457\n",
      "Epoch 25/50\n",
      "782/782 [==============================] - 20s 26ms/step - loss: 0.0071 - accuracy: 0.9978 - val_loss: 2.3065 - val_accuracy: 0.7504\n",
      "Epoch 26/50\n",
      "782/782 [==============================] - 20s 26ms/step - loss: 0.0119 - accuracy: 0.9956 - val_loss: 2.0079 - val_accuracy: 0.7526\n",
      "Epoch 27/50\n",
      "782/782 [==============================] - 21s 27ms/step - loss: 0.0056 - accuracy: 0.9981 - val_loss: 2.2494 - val_accuracy: 0.7502\n",
      "Epoch 28/50\n",
      "782/782 [==============================] - 21s 27ms/step - loss: 0.0036 - accuracy: 0.9990 - val_loss: 2.3160 - val_accuracy: 0.7476\n",
      "Epoch 29/50\n",
      "782/782 [==============================] - 20s 26ms/step - loss: 0.0085 - accuracy: 0.9973 - val_loss: 2.1369 - val_accuracy: 0.7564\n",
      "Epoch 30/50\n",
      "782/782 [==============================] - 20s 26ms/step - loss: 0.0055 - accuracy: 0.9979 - val_loss: 2.3949 - val_accuracy: 0.7516\n",
      "Epoch 31/50\n",
      "782/782 [==============================] - 21s 27ms/step - loss: 0.0065 - accuracy: 0.9977 - val_loss: 2.1461 - val_accuracy: 0.7452\n",
      "Epoch 32/50\n",
      "782/782 [==============================] - 21s 26ms/step - loss: 0.0034 - accuracy: 0.9989 - val_loss: 2.4768 - val_accuracy: 0.7576\n",
      "Epoch 33/50\n",
      "782/782 [==============================] - 21s 27ms/step - loss: 0.0015 - accuracy: 0.9994 - val_loss: 2.7459 - val_accuracy: 0.7576\n",
      "Epoch 34/50\n",
      "782/782 [==============================] - 21s 27ms/step - loss: 0.0023 - accuracy: 0.9994 - val_loss: 2.6946 - val_accuracy: 0.7481\n",
      "Epoch 35/50\n",
      "782/782 [==============================] - 21s 27ms/step - loss: 0.0064 - accuracy: 0.9977 - val_loss: 2.5452 - val_accuracy: 0.7554\n",
      "Epoch 36/50\n",
      "782/782 [==============================] - 21s 27ms/step - loss: 0.0081 - accuracy: 0.9969 - val_loss: 2.4356 - val_accuracy: 0.7493\n",
      "Epoch 37/50\n",
      "782/782 [==============================] - 21s 26ms/step - loss: 0.0034 - accuracy: 0.9989 - val_loss: 2.5358 - val_accuracy: 0.7527\n",
      "Epoch 38/50\n",
      "782/782 [==============================] - 20s 26ms/step - loss: 0.0011 - accuracy: 0.9998 - val_loss: 2.6828 - val_accuracy: 0.7508\n",
      "Epoch 39/50\n",
      "782/782 [==============================] - 21s 27ms/step - loss: 0.0011 - accuracy: 0.9997 - val_loss: 2.7436 - val_accuracy: 0.7544\n",
      "Epoch 40/50\n",
      "782/782 [==============================] - 21s 26ms/step - loss: 4.4320e-04 - accuracy: 0.9998 - val_loss: 2.9128 - val_accuracy: 0.7525\n",
      "Epoch 41/50\n",
      "782/782 [==============================] - 21s 27ms/step - loss: 0.0010 - accuracy: 0.9997 - val_loss: 2.9938 - val_accuracy: 0.7517\n",
      "Epoch 42/50\n",
      "782/782 [==============================] - 21s 26ms/step - loss: 6.5486e-04 - accuracy: 0.9997 - val_loss: 3.2038 - val_accuracy: 0.7518\n",
      "Epoch 43/50\n",
      "782/782 [==============================] - 21s 26ms/step - loss: 0.0117 - accuracy: 0.9962 - val_loss: 2.4076 - val_accuracy: 0.7516\n",
      "Epoch 44/50\n",
      "782/782 [==============================] - 21s 27ms/step - loss: 0.0093 - accuracy: 0.9972 - val_loss: 2.2235 - val_accuracy: 0.7550\n",
      "Epoch 45/50\n",
      "782/782 [==============================] - 20s 26ms/step - loss: 0.0018 - accuracy: 0.9995 - val_loss: 2.5934 - val_accuracy: 0.7540\n",
      "Epoch 46/50\n",
      "782/782 [==============================] - 21s 27ms/step - loss: 7.2353e-04 - accuracy: 0.9998 - val_loss: 2.5522 - val_accuracy: 0.7496\n",
      "Epoch 47/50\n",
      "782/782 [==============================] - 21s 27ms/step - loss: 4.7188e-04 - accuracy: 0.9998 - val_loss: 2.6645 - val_accuracy: 0.7533\n",
      "Epoch 48/50\n",
      "782/782 [==============================] - 21s 26ms/step - loss: 3.6891e-04 - accuracy: 0.9998 - val_loss: 2.8396 - val_accuracy: 0.7531\n",
      "Epoch 49/50\n",
      "782/782 [==============================] - 21s 27ms/step - loss: 5.1425e-04 - accuracy: 0.9998 - val_loss: 2.8529 - val_accuracy: 0.7513\n",
      "Epoch 50/50\n",
      "782/782 [==============================] - 21s 27ms/step - loss: 4.0907e-04 - accuracy: 0.9998 - val_loss: 2.9734 - val_accuracy: 0.7522\n"
     ]
    }
   ],
   "source": [
    "num_epochs = 50\n",
    "history = model.fit(training_padded, training_labels, epochs=num_epochs, validation_data=(testing_padded, testing_labels))"
   ],
   "metadata": {
    "collapsed": false,
    "pycharm": {
     "name": "#%%\n"
    }
   }
  },
  {
   "cell_type": "code",
   "execution_count": 21,
   "outputs": [
    {
     "data": {
      "text/plain": "<Figure size 432x288 with 1 Axes>",
      "image/png": "[encoded data removed]"
     },
     "metadata": {
      "needs_background": "light"
     },
     "output_type": "display_data"
    },
    {
     "data": {
      "text/plain": "<Figure size 432x288 with 1 Axes>",
      "image/png": "[encoded data removed]"
     },
     "metadata": {
      "needs_background": "light"
     },
     "output_type": "display_data"
    }
   ],
   "source": [
    "# Evaluate the training accuracy and losses\n",
    "\n",
    "import matplotlib.pyplot as plt\n",
    "\n",
    "acc      = history.history['accuracy']\n",
    "val_acc  = history.history['val_accuracy']\n",
    "loss     = history.history['loss']\n",
    "val_loss = history.history['val_loss']\n",
    "\n",
    "epochs   = range(len(acc)) # Get number of epochs\n",
    "\n",
    "#------------------------------------------------\n",
    "# Plot training and validation accuracy per epoch\n",
    "#------------------------------------------------\n",
    "plt.plot  ( epochs, acc, label='Training Accuracy' )\n",
    "plt.plot  ( epochs, val_acc, label='Validation Accuracy' )\n",
    "plt.title ('Training and validation accuracy - GRU')\n",
    "plt.legend()\n",
    "plt.show()\n",
    "\n",
    "#------------------------------------------------\n",
    "# Plot training and validation loss per epoch\n",
    "#------------------------------------------------\n",
    "plt.plot  ( epochs, loss, label='Training Loss' )\n",
    "plt.plot  ( epochs, val_loss, label='Validation Loss' )\n",
    "plt.title ('Training and validation loss - GRU')\n",
    "plt.legend()\n",
    "plt.show()"
   ],
   "metadata": {
    "collapsed": false,
    "pycharm": {
     "name": "#%%\n"
    }
   }
  },
  {
   "cell_type": "code",
   "execution_count": 22,
   "outputs": [
    {
     "name": "stdout",
     "output_type": "stream",
     "text": [
      "Model: \"sequential_2\"\n",
      "_________________________________________________________________\n",
      "Layer (type)                 Output Shape              Param #   \n",
      "=================================================================\n",
      "embedding_2 (Embedding)      (None, 120, 16)           160000    \n",
      "_________________________________________________________________\n",
      "bidirectional_2 (Bidirection (None, 64)                12544     \n",
      "_________________________________________________________________\n",
      "dense_4 (Dense)              (None, 6)                 390       \n",
      "_________________________________________________________________\n",
      "dense_5 (Dense)              (None, 1)                 7         \n",
      "=================================================================\n",
      "Total params: 172,941\n",
      "Trainable params: 172,941\n",
      "Non-trainable params: 0\n",
      "_________________________________________________________________\n"
     ]
    }
   ],
   "source": [
    "# Model Definition with LSTM\n",
    "model = tf.keras.Sequential([\n",
    "    tf.keras.layers.Embedding(vocab_size, embedding_dim, input_length=max_length),\n",
    "    tf.keras.layers.Bidirectional(tf.keras.layers.LSTM(32)),\n",
    "    tf.keras.layers.Dense(6, activation='relu'),\n",
    "    tf.keras.layers.Dense(1, activation='sigmoid')\n",
    "])\n",
    "model.compile(loss='binary_crossentropy',optimizer='adam',metrics=['accuracy'])\n",
    "model.summary()"
   ],
   "metadata": {
    "collapsed": false,
    "pycharm": {
     "name": "#%%\n"
    }
   }
  },
  {
   "cell_type": "code",
   "execution_count": 23,
   "outputs": [
    {
     "name": "stdout",
     "output_type": "stream",
     "text": [
      "Model: \"sequential_3\"\n",
      "_________________________________________________________________\n",
      "Layer (type)                 Output Shape              Param #   \n",
      "=================================================================\n",
      "embedding_3 (Embedding)      (None, 120, 16)           160000    \n",
      "_________________________________________________________________\n",
      "conv1d (Conv1D)              (None, 116, 128)          10368     \n",
      "_________________________________________________________________\n",
      "global_average_pooling1d (Gl (None, 128)               0         \n",
      "_________________________________________________________________\n",
      "dense_6 (Dense)              (None, 6)                 774       \n",
      "_________________________________________________________________\n",
      "dense_7 (Dense)              (None, 1)                 7         \n",
      "=================================================================\n",
      "Total params: 171,149\n",
      "Trainable params: 171,149\n",
      "Non-trainable params: 0\n",
      "_________________________________________________________________\n"
     ]
    }
   ],
   "source": [
    "# Model Definition with Conv1D\n",
    "model = tf.keras.Sequential([\n",
    "    tf.keras.layers.Embedding(vocab_size, embedding_dim, input_length=max_length),\n",
    "    tf.keras.layers.Conv1D(128, 5, activation='relu'),\n",
    "    tf.keras.layers.GlobalAveragePooling1D(),\n",
    "    tf.keras.layers.Dense(6, activation='relu'),\n",
    "    tf.keras.layers.Dense(1, activation='sigmoid')\n",
    "])\n",
    "model.compile(loss='binary_crossentropy',optimizer='adam',metrics=['accuracy'])\n",
    "model.summary()"
   ],
   "metadata": {
    "collapsed": false,
    "pycharm": {
     "name": "#%%\n"
    }
   }
  },
  {
   "cell_type": "code",
   "execution_count": null,
   "outputs": [],
   "source": [],
   "metadata": {
    "collapsed": false,
    "pycharm": {
     "name": "#%%\n"
    }
   }
  }
 ],
 "metadata": {
  "kernelspec": {
   "display_name": "Python 3",
   "language": "python",
   "name": "python3"
  },
  "language_info": {
   "codemirror_mode": {
    "name": "ipython",
    "version": 2
   },
   "file_extension": ".py",
   "mimetype": "text/x-python",
   "name": "python",
   "nbconvert_exporter": "python",
   "pygments_lexer": "ipython2",
   "version": "2.7.6"
  }
 },
 "nbformat": 4,
 "nbformat_minor": 0
}