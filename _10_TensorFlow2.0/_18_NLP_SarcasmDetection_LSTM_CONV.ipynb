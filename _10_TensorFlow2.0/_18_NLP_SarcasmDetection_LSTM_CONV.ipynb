{
 "cells": [
  {
   "cell_type": "markdown",
   "source": [
    "# Sarcasm Detection using Tensorflow - Bidirectional LSTMs and Convolutional 1D\n",
    "\n",
    "Past studies in Sarcasm Detection mostly make use of Twitter datasets collected using hashtag based supervision but such datasets are noisy in terms of labels and language. Furthermore, many tweets are replies to other tweets and detecting sarcasm in these requires the availability of contextual tweets.\n",
    "\n",
    "To overcome the limitations related to noise in Twitter datasets, this News Headlines dataset for Sarcasm Detection is collected from two news website. TheOnion aims at producing sarcastic versions of current events and we collected all the headlines from News in Brief and News in Photos categories (which are sarcastic). We collect real (and non-sarcastic) news headlines from HuffPost.\n",
    "\n",
    "This new dataset has following advantages over the existing Twitter datasets:\n",
    "\n",
    "Since news headlines are written by professionals in a formal manner, there are no spelling mistakes and informal usage. This reduces the sparsity and also increases the chance of finding pre-trained embeddings.\n",
    "\n",
    "Furthermore, since the sole purpose of TheOnion is to publish sarcastic news, we get high-quality labels with much less noise as compared to Twitter datasets.\n",
    "\n",
    "Unlike tweets which are replies to other tweets, the news headlines we obtained are self-contained. This would help us in teasing apart the real sarcastic elements.\n",
    "\n",
    "**Content**\n",
    "Each record consists of three attributes:\n",
    "\n",
    "is_sarcastic: 1 if the record is sarcastic otherwise 0\n",
    "\n",
    "headline: the headline of the news article\n",
    "\n",
    "article_link: link to the original news article. Useful in collecting supplementary data\n",
    "\n",
    "***\n",
    "The concept is to perform tokenizing the words to get numeric values from them and then using Embeddings to group words of similar meaning,\n",
    "depending on how they are labelled resulting in a good but rough sentiment analysis\n",
    "***"
   ],
   "metadata": {
    "collapsed": false
   }
  },
  {
   "cell_type": "code",
   "execution_count": null,
   "metadata": {
    "collapsed": true
   },
   "outputs": [],
   "source": []
  }
 ],
 "metadata": {
  "kernelspec": {
   "display_name": "Python 3",
   "language": "python",
   "name": "python3"
  },
  "language_info": {
   "codemirror_mode": {
    "name": "ipython",
    "version": 2
   },
   "file_extension": ".py",
   "mimetype": "text/x-python",
   "name": "python",
   "nbconvert_exporter": "python",
   "pygments_lexer": "ipython2",
   "version": "2.7.6"
  }
 },
 "nbformat": 4,
 "nbformat_minor": 0
}