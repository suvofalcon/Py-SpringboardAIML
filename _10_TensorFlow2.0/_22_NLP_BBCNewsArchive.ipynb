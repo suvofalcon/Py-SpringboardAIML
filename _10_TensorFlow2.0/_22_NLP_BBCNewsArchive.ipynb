{
 "cells": [
  {
   "cell_type": "markdown",
   "source": [
    "# BBC News Archive Classification"
   ],
   "metadata": {
    "collapsed": false
   }
  },
  {
   "cell_type": "code",
   "execution_count": 26,
   "metadata": {
    "collapsed": true
   },
   "outputs": [],
   "source": [
    "import csv\n",
    "import numpy as np\n",
    "import pandas as pd\n",
    "import tensorflow as tf\n",
    "from tensorflow.keras.preprocessing.text import Tokenizer\n",
    "from tensorflow.keras.preprocessing.sequence import pad_sequences"
   ]
  },
  {
   "cell_type": "code",
   "execution_count": 27,
   "outputs": [],
   "source": [
    "# Define some global constants and hyper-parameters\n",
    "\n",
    "vocab_size = 1000\n",
    "embedding_dim = 16\n",
    "max_length = 120\n",
    "trunc_type = 'post'\n",
    "padding_type = 'post'\n",
    "oov_tok = \"<oov>\"\n",
    "training_portion = 0.8"
   ],
   "metadata": {
    "collapsed": false,
    "pycharm": {
     "name": "#%%\n"
    }
   }
  },
  {
   "cell_type": "code",
   "execution_count": 28,
   "outputs": [
    {
     "data": {
      "text/plain": "        category                                               text\n0           tech  tv future in the hands of viewers with home th...\n1       business  worldcom boss  left books alone  former worldc...\n2          sport  tigers wary of farrell  gamble  leicester say ...\n3          sport  yeading face newcastle in fa cup premiership s...\n4  entertainment  ocean s twelve raids box office ocean s twelve...",
      "text/html": "<div>\n<style scoped>\n    .dataframe tbody tr th:only-of-type {\n        vertical-align: middle;\n    }\n\n    .dataframe tbody tr th {\n        vertical-align: top;\n    }\n\n    .dataframe thead th {\n        text-align: right;\n    }\n</style>\n<table border=\"1\" class=\"dataframe\">\n  <thead>\n    <tr style=\"text-align: right;\">\n      <th></th>\n      <th>category</th>\n      <th>text</th>\n    </tr>\n  </thead>\n  <tbody>\n    <tr>\n      <th>0</th>\n      <td>tech</td>\n      <td>tv future in the hands of viewers with home th...</td>\n    </tr>\n    <tr>\n      <th>1</th>\n      <td>business</td>\n      <td>worldcom boss  left books alone  former worldc...</td>\n    </tr>\n    <tr>\n      <th>2</th>\n      <td>sport</td>\n      <td>tigers wary of farrell  gamble  leicester say ...</td>\n    </tr>\n    <tr>\n      <th>3</th>\n      <td>sport</td>\n      <td>yeading face newcastle in fa cup premiership s...</td>\n    </tr>\n    <tr>\n      <th>4</th>\n      <td>entertainment</td>\n      <td>ocean s twelve raids box office ocean s twelve...</td>\n    </tr>\n  </tbody>\n</table>\n</div>"
     },
     "execution_count": 28,
     "metadata": {},
     "output_type": "execute_result"
    }
   ],
   "source": [
    "# Load the data\n",
    "news = pd.read_csv('resources/bbc-text.csv')\n",
    "news.head()"
   ],
   "metadata": {
    "collapsed": false,
    "pycharm": {
     "name": "#%%\n"
    }
   }
  },
  {
   "cell_type": "code",
   "execution_count": 29,
   "outputs": [
    {
     "name": "stdout",
     "output_type": "stream",
     "text": [
      "<class 'pandas.core.frame.DataFrame'>\n",
      "RangeIndex: 2225 entries, 0 to 2224\n",
      "Data columns (total 2 columns):\n",
      " #   Column    Non-Null Count  Dtype \n",
      "---  ------    --------------  ----- \n",
      " 0   category  2225 non-null   object\n",
      " 1   text      2225 non-null   object\n",
      "dtypes: object(2)\n",
      "memory usage: 34.9+ KB\n"
     ]
    }
   ],
   "source": [
    "# Check the data structure\n",
    "news.info()"
   ],
   "metadata": {
    "collapsed": false,
    "pycharm": {
     "name": "#%%\n"
    }
   }
  },
  {
   "cell_type": "code",
   "execution_count": 30,
   "outputs": [
    {
     "data": {
      "text/plain": "array([4, 0, 3, 1, 2])"
     },
     "execution_count": 30,
     "metadata": {},
     "output_type": "execute_result"
    }
   ],
   "source": [
    "# We will do a label encoding on the target\n",
    "from sklearn.preprocessing import LabelEncoder\n",
    "encoder = LabelEncoder()\n",
    "news['category'] = encoder.fit_transform(news['category'])\n",
    "\n",
    "# Check encoding\n",
    "news['category'].unique()"
   ],
   "metadata": {
    "collapsed": false,
    "pycharm": {
     "name": "#%%\n"
    }
   }
  },
  {
   "cell_type": "code",
   "execution_count": 31,
   "outputs": [],
   "source": [
    "# Perform a train test split\n",
    "from sklearn.model_selection import train_test_split\n",
    "features = news['text']\n",
    "target = news['category']\n",
    "features_train, features_test, target_train, target_test = train_test_split(features, target, test_size=0.2,\n",
    "                                                                            random_state=101)"
   ],
   "metadata": {
    "collapsed": false,
    "pycharm": {
     "name": "#%%\n"
    }
   }
  },
  {
   "cell_type": "code",
   "execution_count": 33,
   "outputs": [],
   "source": [
    "import tensorflow as tf\n",
    "from tensorflow.keras.preprocessing.text import Tokenizer\n",
    "from tensorflow.keras.preprocessing.sequence import pad_sequences"
   ],
   "metadata": {
    "collapsed": false,
    "pycharm": {
     "name": "#%%\n"
    }
   }
  },
  {
   "cell_type": "code",
   "execution_count": 40,
   "outputs": [
    {
     "name": "stdout",
     "output_type": "stream",
     "text": [
      "718\n",
      "120\n"
     ]
    }
   ],
   "source": [
    "# Now we will build the tokenizer\n",
    "tokenizer = Tokenizer(num_words=vocab_size, oov_token=oov_tok)\n",
    "tokenizer.fit_on_texts(features_train)\n",
    "word_index = tokenizer.word_index\n",
    "\n",
    "# Build the sequences\n",
    "features_sequences = tokenizer.texts_to_sequences(features_train)\n",
    "features_padded = pad_sequences(features_sequences, padding=padding_type, maxlen=max_length)\n",
    "\n",
    "# Check some lengths\n",
    "print(len(features_sequences[0]))\n",
    "print(len(features_padded[0]))"
   ],
   "metadata": {
    "collapsed": false,
    "pycharm": {
     "name": "#%%\n"
    }
   }
  },
  {
   "cell_type": "code",
   "execution_count": 41,
   "outputs": [
    {
     "name": "stdout",
     "output_type": "stream",
     "text": [
      "333\n",
      "120\n"
     ]
    }
   ],
   "source": [
    "# Build the same tokenizers for validation/test data\n",
    "validation_sequences = tokenizer.texts_to_sequences(features_test)\n",
    "validation_padded = pad_sequences(validation_sequences, padding=padding_type, maxlen=max_length)\n",
    "\n",
    "print(len(validation_sequences[0]))\n",
    "print(len(validation_padded[0]))"
   ],
   "metadata": {
    "collapsed": false,
    "pycharm": {
     "name": "#%%\n"
    }
   }
  },
  {
   "cell_type": "code",
   "execution_count": 43,
   "outputs": [
    {
     "name": "stdout",
     "output_type": "stream",
     "text": [
      "Model: \"sequential\"\n",
      "_________________________________________________________________\n",
      "Layer (type)                 Output Shape              Param #   \n",
      "=================================================================\n",
      "embedding (Embedding)        (None, 120, 16)           16000     \n",
      "_________________________________________________________________\n",
      "global_average_pooling1d (Gl (None, 16)                0         \n",
      "_________________________________________________________________\n",
      "dense (Dense)                (None, 24)                408       \n",
      "_________________________________________________________________\n",
      "dense_1 (Dense)              (None, 5)                 125       \n",
      "=================================================================\n",
      "Total params: 16,533\n",
      "Trainable params: 16,533\n",
      "Non-trainable params: 0\n",
      "_________________________________________________________________\n"
     ]
    },
    {
     "name": "stderr",
     "output_type": "stream",
     "text": [
      "2021-12-13 10:15:11.253743: I tensorflow/core/platform/cpu_feature_guard.cc:142] This TensorFlow binary is optimized with oneAPI Deep Neural Network Library (oneDNN) to use the following CPU instructions in performance-critical operations:  SSE4.1 SSE4.2 AVX AVX2 FMA\n",
      "To enable them in other operations, rebuild TensorFlow with the appropriate compiler flags.\n"
     ]
    }
   ],
   "source": [
    "# Now we will build the model and train the Neural Network\n",
    "model = tf.keras.Sequential([\n",
    "    tf.keras.layers.Embedding(vocab_size, embedding_dim, input_length=max_length),\n",
    "    tf.keras.layers.GlobalAveragePooling1D(),\n",
    "    tf.keras.layers.Dense(24, activation=tf.nn.relu),\n",
    "    tf.keras.layers.Dense(5, activation=tf.nn.softmax)\n",
    "])\n",
    "\n",
    "model.compile(loss='sparse_categorical_crossentropy', optimizer='adam', metrics=['accuracy'])\n",
    "model.summary()"
   ],
   "metadata": {
    "collapsed": false,
    "pycharm": {
     "name": "#%%\n"
    }
   }
  },
  {
   "cell_type": "code",
   "execution_count": 46,
   "outputs": [
    {
     "name": "stdout",
     "output_type": "stream",
     "text": [
      "Epoch 1/30\n",
      "56/56 [==============================] - 0s 3ms/step - loss: 0.0929 - accuracy: 0.9899 - val_loss: 0.2807 - val_accuracy: 0.9101\n",
      "Epoch 2/30\n",
      "56/56 [==============================] - 0s 3ms/step - loss: 0.0863 - accuracy: 0.9916 - val_loss: 0.2761 - val_accuracy: 0.9056\n",
      "Epoch 3/30\n",
      "56/56 [==============================] - 0s 3ms/step - loss: 0.0798 - accuracy: 0.9916 - val_loss: 0.2739 - val_accuracy: 0.9056\n",
      "Epoch 4/30\n",
      "56/56 [==============================] - 0s 2ms/step - loss: 0.0739 - accuracy: 0.9933 - val_loss: 0.2722 - val_accuracy: 0.8989\n",
      "Epoch 5/30\n",
      "56/56 [==============================] - 0s 3ms/step - loss: 0.0691 - accuracy: 0.9933 - val_loss: 0.2708 - val_accuracy: 0.8966\n",
      "Epoch 6/30\n",
      "56/56 [==============================] - 0s 2ms/step - loss: 0.0643 - accuracy: 0.9949 - val_loss: 0.2712 - val_accuracy: 0.9034\n",
      "Epoch 7/30\n",
      "56/56 [==============================] - 0s 3ms/step - loss: 0.0598 - accuracy: 0.9955 - val_loss: 0.2722 - val_accuracy: 0.9056\n",
      "Epoch 8/30\n",
      "56/56 [==============================] - 0s 2ms/step - loss: 0.0556 - accuracy: 0.9961 - val_loss: 0.2690 - val_accuracy: 0.8989\n",
      "Epoch 9/30\n",
      "56/56 [==============================] - 0s 2ms/step - loss: 0.0523 - accuracy: 0.9966 - val_loss: 0.2698 - val_accuracy: 0.9056\n",
      "Epoch 10/30\n",
      "56/56 [==============================] - 0s 2ms/step - loss: 0.0487 - accuracy: 0.9978 - val_loss: 0.2701 - val_accuracy: 0.9011\n",
      "Epoch 11/30\n",
      "56/56 [==============================] - 0s 2ms/step - loss: 0.0451 - accuracy: 0.9983 - val_loss: 0.2709 - val_accuracy: 0.9056\n",
      "Epoch 12/30\n",
      "56/56 [==============================] - 0s 3ms/step - loss: 0.0419 - accuracy: 0.9983 - val_loss: 0.2712 - val_accuracy: 0.9056\n",
      "Epoch 13/30\n",
      "56/56 [==============================] - 0s 3ms/step - loss: 0.0386 - accuracy: 0.9994 - val_loss: 0.2765 - val_accuracy: 0.9034\n",
      "Epoch 14/30\n",
      "56/56 [==============================] - 0s 2ms/step - loss: 0.0368 - accuracy: 0.9983 - val_loss: 0.2767 - val_accuracy: 0.9079\n",
      "Epoch 15/30\n",
      "56/56 [==============================] - 0s 2ms/step - loss: 0.0345 - accuracy: 0.9989 - val_loss: 0.2776 - val_accuracy: 0.9034\n",
      "Epoch 16/30\n",
      "56/56 [==============================] - 0s 2ms/step - loss: 0.0319 - accuracy: 1.0000 - val_loss: 0.2744 - val_accuracy: 0.9056\n",
      "Epoch 17/30\n",
      "56/56 [==============================] - 0s 2ms/step - loss: 0.0296 - accuracy: 0.9994 - val_loss: 0.2752 - val_accuracy: 0.9034\n",
      "Epoch 18/30\n",
      "56/56 [==============================] - 0s 2ms/step - loss: 0.0279 - accuracy: 1.0000 - val_loss: 0.2759 - val_accuracy: 0.9056\n",
      "Epoch 19/30\n",
      "56/56 [==============================] - 0s 2ms/step - loss: 0.0257 - accuracy: 1.0000 - val_loss: 0.2787 - val_accuracy: 0.9056\n",
      "Epoch 20/30\n",
      "56/56 [==============================] - 0s 2ms/step - loss: 0.0243 - accuracy: 1.0000 - val_loss: 0.2792 - val_accuracy: 0.9034\n",
      "Epoch 21/30\n",
      "56/56 [==============================] - 0s 2ms/step - loss: 0.0226 - accuracy: 1.0000 - val_loss: 0.2828 - val_accuracy: 0.9011\n",
      "Epoch 22/30\n",
      "56/56 [==============================] - 0s 2ms/step - loss: 0.0213 - accuracy: 1.0000 - val_loss: 0.2807 - val_accuracy: 0.9034\n",
      "Epoch 23/30\n",
      "56/56 [==============================] - 0s 2ms/step - loss: 0.0199 - accuracy: 1.0000 - val_loss: 0.2828 - val_accuracy: 0.9011\n",
      "Epoch 24/30\n",
      "56/56 [==============================] - 0s 2ms/step - loss: 0.0186 - accuracy: 1.0000 - val_loss: 0.2850 - val_accuracy: 0.9056\n",
      "Epoch 25/30\n",
      "56/56 [==============================] - 0s 2ms/step - loss: 0.0176 - accuracy: 1.0000 - val_loss: 0.2870 - val_accuracy: 0.9011\n",
      "Epoch 26/30\n",
      "56/56 [==============================] - 0s 2ms/step - loss: 0.0164 - accuracy: 1.0000 - val_loss: 0.2868 - val_accuracy: 0.9034\n",
      "Epoch 27/30\n",
      "56/56 [==============================] - 0s 2ms/step - loss: 0.0156 - accuracy: 1.0000 - val_loss: 0.2890 - val_accuracy: 0.9011\n",
      "Epoch 28/30\n",
      "56/56 [==============================] - 0s 2ms/step - loss: 0.0146 - accuracy: 1.0000 - val_loss: 0.2929 - val_accuracy: 0.9034\n",
      "Epoch 29/30\n",
      "56/56 [==============================] - 0s 2ms/step - loss: 0.0138 - accuracy: 1.0000 - val_loss: 0.2926 - val_accuracy: 0.9011\n",
      "Epoch 30/30\n",
      "56/56 [==============================] - 0s 2ms/step - loss: 0.0130 - accuracy: 1.0000 - val_loss: 0.2943 - val_accuracy: 0.9034\n"
     ]
    }
   ],
   "source": [
    "num_epochs = 30\n",
    "history = model.fit(features_padded, target_train, epochs=num_epochs, validation_data=(validation_padded, target_test),\n",
    "          verbose=1)"
   ],
   "metadata": {
    "collapsed": false,
    "pycharm": {
     "name": "#%%\n"
    }
   }
  },
  {
   "cell_type": "code",
   "execution_count": 47,
   "outputs": [
    {
     "data": {
      "text/plain": "<Figure size 432x288 with 1 Axes>",
      "image/png": "[encoded data removed]"
     },
     "metadata": {
      "needs_background": "light"
     },
     "output_type": "display_data"
    },
    {
     "data": {
      "text/plain": "<Figure size 432x288 with 1 Axes>",
      "image/png": "[encoded data removed]"
     },
     "metadata": {
      "needs_background": "light"
     },
     "output_type": "display_data"
    }
   ],
   "source": [
    "# Evaluate Training Accuracy and Loss\n",
    "\n",
    "import matplotlib.pyplot as plt\n",
    "\n",
    "acc      = history.history['accuracy']\n",
    "val_acc  = history.history['val_accuracy']\n",
    "loss     = history.history['loss']\n",
    "val_loss = history.history['val_loss']\n",
    "\n",
    "epochs   = range(len(acc)) # Get number of epochs\n",
    "\n",
    "#------------------------------------------------\n",
    "# Plot training and validation accuracy per epoch\n",
    "#------------------------------------------------\n",
    "plt.plot  ( epochs, acc, label='Training Accuracy' )\n",
    "plt.plot  ( epochs, val_acc, label='Validation Accuracy' )\n",
    "plt.title ('Training and validation accuracy')\n",
    "plt.legend()\n",
    "plt.show()\n",
    "\n",
    "#------------------------------------------------\n",
    "# Plot training and validation loss per epoch\n",
    "#------------------------------------------------\n",
    "plt.plot  ( epochs, loss, label='Training Loss' )\n",
    "plt.plot  ( epochs, val_loss, label='Validation Loss' )\n",
    "plt.title ('Training and validation loss'   )\n",
    "plt.legend()\n",
    "plt.show()"
   ],
   "metadata": {
    "collapsed": false,
    "pycharm": {
     "name": "#%%\n"
    }
   }
  }
 ],
 "metadata": {
  "kernelspec": {
   "display_name": "Python 3",
   "language": "python",
   "name": "python3"
  },
  "language_info": {
   "codemirror_mode": {
    "name": "ipython",
    "version": 2
   },
   "file_extension": ".py",
   "mimetype": "text/x-python",
   "name": "python",
   "nbconvert_exporter": "python",
   "pygments_lexer": "ipython2",
   "version": "2.7.6"
  }
 },
 "nbformat": 4,
 "nbformat_minor": 0
}