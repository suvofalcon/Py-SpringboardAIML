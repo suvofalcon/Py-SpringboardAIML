{
 "cells": [
  {
   "cell_type": "markdown",
   "metadata": {},
   "source": [
    "## ANN to Predict Ice Cream Sales using outside Temperature\n",
    "\n",
    "* You own an ice cream business and you would like to create a model that could predict the daily revenue in dollars based on the outside air temperature (degC). You decided to build a simple Artificial Neural Network to solve this problem.\n",
    "\n",
    "* Data set:\n",
    "\n",
    "    * Input (X): Outside Air Temperature\n",
    "    * Output (Y): Overall daily revenue generated in dollars\n",
    "\n",
    "* This example is a regression example, we will cover regression in more details in future projects.\n",
    "\n",
    "<table>\n",
    "  <tr><td>\n",
    "    <img src=\"https://upload.wikimedia.org/wikipedia/commons/6/63/Big_Gay_Ice_Cream_Truck.jpg\"\n",
    "          width=\"600\">\n",
    "  </td></tr>\n",
    "  <tr><td align=\"center\">\n",
    "    <b>Figure 1. Predict Ice Cream Sales [Source: https://upload.wikimedia.org/wikipedia/commons/6/63/Big_Gay_Ice_Cream_Truck.jpg]\n",
    "  </td></tr>\n",
    "</table>\n",
    "\n",
    "Figure 1. Predict Ice Cream Sales [Source: https://upload.wikimedia.org/wikipedia/commons/6/63/Big_Gay_Ice_Cream_Truck.jpg]\n"
   ]
  },
  {
   "cell_type": "code",
   "execution_count": 1,
   "metadata": {},
   "outputs": [],
   "source": [
    "# Import the libraries\n",
    "\n",
    "import numpy as np\n",
    "import pandas as pd\n",
    "import matplotlib.pyplot as plt\n",
    "%matplotlib inline\n",
    "import seaborn as sns\n",
    "\n",
    "import tensorflow as tf"
   ]
  },
  {
   "cell_type": "code",
   "execution_count": 2,
   "metadata": {},
   "outputs": [],
   "source": [
    "# Note this code is only valid if GPU is being used for training\n",
    "\n",
    "# Before we run the parameter tuning, we will work with little gpu memory allocation\n",
    "# we will only use that much of memory of gpu as it is needed - allow the growth of gpu memory as it is needed\n",
    "\n",
    "gpus = tf.config.experimental.list_physical_devices('GPU')\n",
    "if gpus:\n",
    "  try:\n",
    "    # Currently, memory growth needs to be the same across GPUs\n",
    "    for gpu in gpus:\n",
    "      tf.config.experimental.set_memory_growth(gpu, True)\n",
    "    logical_gpus = tf.config.experimental.list_logical_devices('GPU')\n",
    "    print(len(gpus), \"Physical GPUs,\", len(logical_gpus), \"Logical GPUs\")\n",
    "  except RuntimeError as e:\n",
    "    # Memory growth must be set before GPUs have been initialized\n",
    "    print(e)"
   ]
  },
  {
   "cell_type": "markdown",
   "metadata": {},
   "source": [
    "### Load the dataset"
   ]
  },
  {
   "cell_type": "code",
   "execution_count": 3,
   "metadata": {},
   "outputs": [
    {
     "data": {
      "text/html": [
       "<div>\n",
       "<style scoped>\n",
       "    .dataframe tbody tr th:only-of-type {\n",
       "        vertical-align: middle;\n",
       "    }\n",
       "\n",
       "    .dataframe tbody tr th {\n",
       "        vertical-align: top;\n",
       "    }\n",
       "\n",
       "    .dataframe thead th {\n",
       "        text-align: right;\n",
       "    }\n",
       "</style>\n",
       "<table border=\"1\" class=\"dataframe\">\n",
       "  <thead>\n",
       "    <tr style=\"text-align: right;\">\n",
       "      <th></th>\n",
       "      <th>Temperature</th>\n",
       "      <th>Revenue</th>\n",
       "    </tr>\n",
       "  </thead>\n",
       "  <tbody>\n",
       "    <tr>\n",
       "      <th>0</th>\n",
       "      <td>24.566884</td>\n",
       "      <td>534.799028</td>\n",
       "    </tr>\n",
       "    <tr>\n",
       "      <th>1</th>\n",
       "      <td>26.005191</td>\n",
       "      <td>625.190122</td>\n",
       "    </tr>\n",
       "    <tr>\n",
       "      <th>2</th>\n",
       "      <td>27.790554</td>\n",
       "      <td>660.632289</td>\n",
       "    </tr>\n",
       "    <tr>\n",
       "      <th>3</th>\n",
       "      <td>20.595335</td>\n",
       "      <td>487.706960</td>\n",
       "    </tr>\n",
       "    <tr>\n",
       "      <th>4</th>\n",
       "      <td>11.503498</td>\n",
       "      <td>316.240194</td>\n",
       "    </tr>\n",
       "  </tbody>\n",
       "</table>\n",
       "</div>"
      ],
      "text/plain": [
       "   Temperature     Revenue\n",
       "0    24.566884  534.799028\n",
       "1    26.005191  625.190122\n",
       "2    27.790554  660.632289\n",
       "3    20.595335  487.706960\n",
       "4    11.503498  316.240194"
      ]
     },
     "execution_count": 3,
     "metadata": {},
     "output_type": "execute_result"
    }
   ],
   "source": [
    "# Load the data and check the initial rows\n",
    "\n",
    "sales_df = pd.read_csv(\"./resources/SalesData.csv\")\n",
    "\n",
    "sales_df.head()"
   ]
  },
  {
   "cell_type": "code",
   "execution_count": 4,
   "metadata": {},
   "outputs": [
    {
     "data": {
      "text/plain": [
       "Temperature    0\n",
       "Revenue        0\n",
       "dtype: int64"
      ]
     },
     "execution_count": 4,
     "metadata": {},
     "output_type": "execute_result"
    }
   ],
   "source": [
    "# Check for missing values\n",
    "\n",
    "sales_df.isna().sum()"
   ]
  },
  {
   "cell_type": "code",
   "execution_count": 5,
   "metadata": {},
   "outputs": [
    {
     "name": "stdout",
     "output_type": "stream",
     "text": [
      "<class 'pandas.core.frame.DataFrame'>\n",
      "RangeIndex: 500 entries, 0 to 499\n",
      "Data columns (total 2 columns):\n",
      " #   Column       Non-Null Count  Dtype  \n",
      "---  ------       --------------  -----  \n",
      " 0   Temperature  500 non-null    float64\n",
      " 1   Revenue      500 non-null    float64\n",
      "dtypes: float64(2)\n",
      "memory usage: 7.9 KB\n"
     ]
    }
   ],
   "source": [
    "# Check the data structure\n",
    "sales_df.info()"
   ]
  },
  {
   "cell_type": "code",
   "execution_count": 6,
   "metadata": {},
   "outputs": [
    {
     "data": {
      "text/html": [
       "<div>\n",
       "<style scoped>\n",
       "    .dataframe tbody tr th:only-of-type {\n",
       "        vertical-align: middle;\n",
       "    }\n",
       "\n",
       "    .dataframe tbody tr th {\n",
       "        vertical-align: top;\n",
       "    }\n",
       "\n",
       "    .dataframe thead th {\n",
       "        text-align: right;\n",
       "    }\n",
       "</style>\n",
       "<table border=\"1\" class=\"dataframe\">\n",
       "  <thead>\n",
       "    <tr style=\"text-align: right;\">\n",
       "      <th></th>\n",
       "      <th>Temperature</th>\n",
       "      <th>Revenue</th>\n",
       "    </tr>\n",
       "  </thead>\n",
       "  <tbody>\n",
       "    <tr>\n",
       "      <th>count</th>\n",
       "      <td>500.000000</td>\n",
       "      <td>500.000000</td>\n",
       "    </tr>\n",
       "    <tr>\n",
       "      <th>mean</th>\n",
       "      <td>22.232225</td>\n",
       "      <td>521.570777</td>\n",
       "    </tr>\n",
       "    <tr>\n",
       "      <th>std</th>\n",
       "      <td>8.096388</td>\n",
       "      <td>175.404751</td>\n",
       "    </tr>\n",
       "    <tr>\n",
       "      <th>min</th>\n",
       "      <td>0.000000</td>\n",
       "      <td>10.000000</td>\n",
       "    </tr>\n",
       "    <tr>\n",
       "      <th>25%</th>\n",
       "      <td>17.122258</td>\n",
       "      <td>405.558681</td>\n",
       "    </tr>\n",
       "    <tr>\n",
       "      <th>50%</th>\n",
       "      <td>22.392791</td>\n",
       "      <td>529.368565</td>\n",
       "    </tr>\n",
       "    <tr>\n",
       "      <th>75%</th>\n",
       "      <td>27.740674</td>\n",
       "      <td>642.257922</td>\n",
       "    </tr>\n",
       "    <tr>\n",
       "      <th>max</th>\n",
       "      <td>45.000000</td>\n",
       "      <td>1000.000000</td>\n",
       "    </tr>\n",
       "  </tbody>\n",
       "</table>\n",
       "</div>"
      ],
      "text/plain": [
       "       Temperature      Revenue\n",
       "count   500.000000   500.000000\n",
       "mean     22.232225   521.570777\n",
       "std       8.096388   175.404751\n",
       "min       0.000000    10.000000\n",
       "25%      17.122258   405.558681\n",
       "50%      22.392791   529.368565\n",
       "75%      27.740674   642.257922\n",
       "max      45.000000  1000.000000"
      ]
     },
     "execution_count": 6,
     "metadata": {},
     "output_type": "execute_result"
    }
   ],
   "source": [
    "# Check summary statistics\n",
    "sales_df.describe()"
   ]
  },
  {
   "cell_type": "markdown",
   "metadata": {},
   "source": [
    "### Visualize the dataset"
   ]
  },
  {
   "cell_type": "code",
   "execution_count": 7,
   "metadata": {},
   "outputs": [
    {
     "data": {
      "text/plain": [
       "Text(0, 0.5, 'Sales Revenue')"
      ]
     },
     "execution_count": 7,
     "metadata": {},
     "output_type": "execute_result"
    },
    {
     "data": {
      "image/png": "[encoded data removed]",
      "text/plain": [
       "<Figure size 720x432 with 1 Axes>"
      ]
     },
     "metadata": {
      "needs_background": "light"
     },
     "output_type": "display_data"
    }
   ],
   "source": [
    "plt.figure(figsize=(10, 6))\n",
    "plt.grid()\n",
    "sns.scatterplot(x='Temperature', y='Revenue', data=sales_df)\n",
    "plt.title(\"Revenue by Temperature\")\n",
    "plt.xlabel(\"Temperature\")\n",
    "plt.ylabel(\"Sales Revenue\")"
   ]
  },
  {
   "cell_type": "markdown",
   "metadata": {},
   "source": [
    "### Create the test and training set"
   ]
  },
  {
   "cell_type": "code",
   "execution_count": 8,
   "metadata": {},
   "outputs": [],
   "source": [
    "X_train = sales_df['Temperature']\n",
    "y_train = sales_df['Revenue']"
   ]
  },
  {
   "cell_type": "markdown",
   "metadata": {},
   "source": [
    "### Build and Train the model"
   ]
  },
  {
   "cell_type": "code",
   "execution_count": 9,
   "metadata": {},
   "outputs": [
    {
     "data": {
      "text/plain": [
       "(500,)"
      ]
     },
     "execution_count": 9,
     "metadata": {},
     "output_type": "execute_result"
    }
   ],
   "source": [
    "X_train.shape"
   ]
  },
  {
   "cell_type": "code",
   "execution_count": 10,
   "metadata": {},
   "outputs": [
    {
     "data": {
      "text/plain": [
       "(500,)"
      ]
     },
     "execution_count": 10,
     "metadata": {},
     "output_type": "execute_result"
    }
   ],
   "source": [
    "y_train.shape"
   ]
  },
  {
   "cell_type": "code",
   "execution_count": 11,
   "metadata": {},
   "outputs": [
    {
     "name": "stderr",
     "output_type": "stream",
     "text": [
      "2022-07-12 13:55:36.175910: I tensorflow/core/platform/cpu_feature_guard.cc:142] This TensorFlow binary is optimized with oneAPI Deep Neural Network Library (oneDNN) to use the following CPU instructions in performance-critical operations:  SSE4.1 SSE4.2 AVX AVX2 FMA\n",
      "To enable them in other operations, rebuild TensorFlow with the appropriate compiler flags.\n"
     ]
    }
   ],
   "source": [
    "# we will build the model\n",
    "\n",
    "model = tf.keras.Sequential()\n",
    "model.add(tf.keras.layers.Dense(units=1, input_shape=[1]))"
   ]
  },
  {
   "cell_type": "code",
   "execution_count": 12,
   "metadata": {},
   "outputs": [],
   "source": [
    "# compile the model\n",
    "\n",
    "model.compile(optimizer=tf.keras.optimizers.Adam(learning_rate=0.9), loss='mean_squared_error')"
   ]
  },
  {
   "cell_type": "code",
   "execution_count": 13,
   "metadata": {},
   "outputs": [
    {
     "name": "stdout",
     "output_type": "stream",
     "text": [
      "Model: \"sequential\"\n",
      "_________________________________________________________________\n",
      "Layer (type)                 Output Shape              Param #   \n",
      "=================================================================\n",
      "dense (Dense)                (None, 1)                 2         \n",
      "=================================================================\n",
      "Total params: 2\n",
      "Trainable params: 2\n",
      "Non-trainable params: 0\n",
      "_________________________________________________________________\n"
     ]
    }
   ],
   "source": [
    "# Visualize the model\n",
    "\n",
    "model.summary()"
   ]
  },
  {
   "cell_type": "code",
   "execution_count": 14,
   "metadata": {},
   "outputs": [
    {
     "name": "stderr",
     "output_type": "stream",
     "text": [
      "2022-07-12 13:55:47.324374: I tensorflow/compiler/mlir/mlir_graph_optimization_pass.cc:116] None of the MLIR optimization passes are enabled (registered 2)\n"
     ]
    },
    {
     "name": "stdout",
     "output_type": "stream",
     "text": [
      "Epoch 1/200\n",
      "16/16 [==============================] - 0s 637us/step - loss: 195774.7767\n",
      "Epoch 2/200\n",
      "16/16 [==============================] - 0s 641us/step - loss: 18670.4112\n",
      "Epoch 3/200\n",
      "16/16 [==============================] - 0s 616us/step - loss: 2114.6954\n",
      "Epoch 4/200\n",
      "16/16 [==============================] - 0s 597us/step - loss: 1808.4162\n",
      "Epoch 5/200\n",
      "16/16 [==============================] - 0s 734us/step - loss: 691.3052\n",
      "Epoch 6/200\n",
      "16/16 [==============================] - 0s 740us/step - loss: 704.3748\n",
      "Epoch 7/200\n",
      "16/16 [==============================] - 0s 680us/step - loss: 628.7363\n",
      "Epoch 8/200\n",
      "16/16 [==============================] - 0s 692us/step - loss: 697.9078\n",
      "Epoch 9/200\n",
      "16/16 [==============================] - 0s 942us/step - loss: 695.1639\n",
      "Epoch 10/200\n",
      "16/16 [==============================] - 0s 749us/step - loss: 695.9181\n",
      "Epoch 11/200\n",
      "16/16 [==============================] - 0s 729us/step - loss: 687.2700\n",
      "Epoch 12/200\n",
      "16/16 [==============================] - 0s 638us/step - loss: 699.3641\n",
      "Epoch 13/200\n",
      "16/16 [==============================] - 0s 634us/step - loss: 694.0758\n",
      "Epoch 14/200\n",
      "16/16 [==============================] - 0s 833us/step - loss: 702.9659\n",
      "Epoch 15/200\n",
      "16/16 [==============================] - 0s 741us/step - loss: 651.4851\n",
      "Epoch 16/200\n",
      "16/16 [==============================] - 0s 616us/step - loss: 695.8436\n",
      "Epoch 17/200\n",
      "16/16 [==============================] - 0s 640us/step - loss: 682.5400\n",
      "Epoch 18/200\n",
      "16/16 [==============================] - 0s 744us/step - loss: 632.3282\n",
      "Epoch 19/200\n",
      "16/16 [==============================] - 0s 703us/step - loss: 650.4362\n",
      "Epoch 20/200\n",
      "16/16 [==============================] - 0s 645us/step - loss: 666.9707\n",
      "Epoch 21/200\n",
      "16/16 [==============================] - 0s 606us/step - loss: 687.9033\n",
      "Epoch 22/200\n",
      "16/16 [==============================] - 0s 855us/step - loss: 691.6040\n",
      "Epoch 23/200\n",
      "16/16 [==============================] - 0s 750us/step - loss: 626.6885\n",
      "Epoch 24/200\n",
      "16/16 [==============================] - 0s 765us/step - loss: 546.4135\n",
      "Epoch 25/200\n",
      "16/16 [==============================] - 0s 629us/step - loss: 626.2072\n",
      "Epoch 26/200\n",
      "16/16 [==============================] - 0s 683us/step - loss: 670.4824\n",
      "Epoch 27/200\n",
      "16/16 [==============================] - 0s 682us/step - loss: 672.1482\n",
      "Epoch 28/200\n",
      "16/16 [==============================] - 0s 626us/step - loss: 647.3397\n",
      "Epoch 29/200\n",
      "16/16 [==============================] - 0s 604us/step - loss: 613.5250\n",
      "Epoch 30/200\n",
      "16/16 [==============================] - 0s 684us/step - loss: 669.9265\n",
      "Epoch 31/200\n",
      "16/16 [==============================] - 0s 950us/step - loss: 654.0310\n",
      "Epoch 32/200\n",
      "16/16 [==============================] - 0s 746us/step - loss: 631.4340\n",
      "Epoch 33/200\n",
      "16/16 [==============================] - 0s 653us/step - loss: 658.8412\n",
      "Epoch 34/200\n",
      "16/16 [==============================] - 0s 607us/step - loss: 643.3467\n",
      "Epoch 35/200\n",
      "16/16 [==============================] - 0s 860us/step - loss: 706.4079\n",
      "Epoch 36/200\n",
      "16/16 [==============================] - 0s 745us/step - loss: 650.4898\n",
      "Epoch 37/200\n",
      "16/16 [==============================] - 0s 627us/step - loss: 589.0009\n",
      "Epoch 38/200\n",
      "16/16 [==============================] - 0s 594us/step - loss: 595.3980\n",
      "Epoch 39/200\n",
      "16/16 [==============================] - 0s 663us/step - loss: 670.1785\n",
      "Epoch 40/200\n",
      "16/16 [==============================] - 0s 627us/step - loss: 662.2168\n",
      "Epoch 41/200\n",
      "16/16 [==============================] - 0s 598us/step - loss: 638.8480\n",
      "Epoch 42/200\n",
      "16/16 [==============================] - 0s 674us/step - loss: 672.8665\n",
      "Epoch 43/200\n",
      "16/16 [==============================] - 0s 889us/step - loss: 613.8389\n",
      "Epoch 44/200\n",
      "16/16 [==============================] - 0s 3ms/step - loss: 585.7459\n",
      "Epoch 45/200\n",
      "16/16 [==============================] - 0s 678us/step - loss: 733.9467\n",
      "Epoch 46/200\n",
      "16/16 [==============================] - 0s 661us/step - loss: 596.9997\n",
      "Epoch 47/200\n",
      "16/16 [==============================] - 0s 738us/step - loss: 598.6849\n",
      "Epoch 48/200\n",
      "16/16 [==============================] - 0s 949us/step - loss: 687.0939\n",
      "Epoch 49/200\n",
      "16/16 [==============================] - 0s 820us/step - loss: 635.8421\n",
      "Epoch 50/200\n",
      "16/16 [==============================] - 0s 765us/step - loss: 587.2342\n",
      "Epoch 51/200\n",
      "16/16 [==============================] - 0s 601us/step - loss: 657.2589\n",
      "Epoch 52/200\n",
      "16/16 [==============================] - 0s 652us/step - loss: 635.2842\n",
      "Epoch 53/200\n",
      "16/16 [==============================] - 0s 685us/step - loss: 654.2178\n",
      "Epoch 54/200\n",
      "16/16 [==============================] - 0s 676us/step - loss: 621.4812\n",
      "Epoch 55/200\n",
      "16/16 [==============================] - 0s 610us/step - loss: 647.3544\n",
      "Epoch 56/200\n",
      "16/16 [==============================] - 0s 680us/step - loss: 611.5173\n",
      "Epoch 57/200\n",
      "16/16 [==============================] - 0s 671us/step - loss: 653.7505\n",
      "Epoch 58/200\n",
      "16/16 [==============================] - 0s 602us/step - loss: 616.6662\n",
      "Epoch 59/200\n",
      "16/16 [==============================] - 0s 665us/step - loss: 603.1441\n",
      "Epoch 60/200\n",
      "16/16 [==============================] - 0s 703us/step - loss: 639.1691\n",
      "Epoch 61/200\n",
      "16/16 [==============================] - 0s 713us/step - loss: 638.9835\n",
      "Epoch 62/200\n",
      "16/16 [==============================] - 0s 606us/step - loss: 618.8246\n",
      "Epoch 63/200\n",
      "16/16 [==============================] - 0s 736us/step - loss: 584.5058\n",
      "Epoch 64/200\n",
      "16/16 [==============================] - 0s 697us/step - loss: 632.6680\n",
      "Epoch 65/200\n",
      "16/16 [==============================] - 0s 625us/step - loss: 658.0613\n",
      "Epoch 66/200\n",
      "16/16 [==============================] - 0s 597us/step - loss: 695.7999\n",
      "Epoch 67/200\n",
      "16/16 [==============================] - 0s 687us/step - loss: 626.6742\n",
      "Epoch 68/200\n",
      "16/16 [==============================] - 0s 653us/step - loss: 598.0640\n",
      "Epoch 69/200\n",
      "16/16 [==============================] - 0s 595us/step - loss: 647.1574\n",
      "Epoch 70/200\n",
      "16/16 [==============================] - 0s 636us/step - loss: 660.6780\n",
      "Epoch 71/200\n",
      "16/16 [==============================] - 0s 1ms/step - loss: 626.9333\n",
      "Epoch 72/200\n",
      "16/16 [==============================] - 0s 724us/step - loss: 662.7845\n",
      "Epoch 73/200\n",
      "16/16 [==============================] - 0s 695us/step - loss: 628.1500\n",
      "Epoch 74/200\n",
      "16/16 [==============================] - 0s 606us/step - loss: 667.9654\n",
      "Epoch 75/200\n",
      "16/16 [==============================] - 0s 648us/step - loss: 677.3648\n",
      "Epoch 76/200\n",
      "16/16 [==============================] - 0s 707us/step - loss: 614.9344\n",
      "Epoch 77/200\n",
      "16/16 [==============================] - 0s 665us/step - loss: 629.0426\n",
      "Epoch 78/200\n",
      "16/16 [==============================] - 0s 610us/step - loss: 618.9672\n",
      "Epoch 79/200\n",
      "16/16 [==============================] - 0s 629us/step - loss: 664.9983\n",
      "Epoch 80/200\n",
      "16/16 [==============================] - 0s 679us/step - loss: 679.3053\n",
      "Epoch 81/200\n",
      "16/16 [==============================] - 0s 607us/step - loss: 656.7775\n",
      "Epoch 82/200\n",
      "16/16 [==============================] - 0s 608us/step - loss: 570.0166\n",
      "Epoch 83/200\n",
      "16/16 [==============================] - 0s 685us/step - loss: 684.3954\n",
      "Epoch 84/200\n",
      "16/16 [==============================] - 0s 664us/step - loss: 672.8998\n",
      "Epoch 85/200\n",
      "16/16 [==============================] - 0s 618us/step - loss: 655.4646\n",
      "Epoch 86/200\n",
      "16/16 [==============================] - 0s 661us/step - loss: 625.0703\n",
      "Epoch 87/200\n",
      "16/16 [==============================] - 0s 756us/step - loss: 653.6463\n",
      "Epoch 88/200\n",
      "16/16 [==============================] - 0s 642us/step - loss: 660.6683\n",
      "Epoch 89/200\n",
      "16/16 [==============================] - 0s 607us/step - loss: 587.7013\n",
      "Epoch 90/200\n",
      "16/16 [==============================] - 0s 670us/step - loss: 651.0305\n",
      "Epoch 91/200\n",
      "16/16 [==============================] - 0s 625us/step - loss: 600.7943\n",
      "Epoch 92/200\n",
      "16/16 [==============================] - 0s 630us/step - loss: 615.9876\n",
      "Epoch 93/200\n",
      "16/16 [==============================] - 0s 682us/step - loss: 639.2289\n",
      "Epoch 94/200\n",
      "16/16 [==============================] - 0s 663us/step - loss: 622.3160\n",
      "Epoch 95/200\n",
      "16/16 [==============================] - 0s 583us/step - loss: 624.4074\n",
      "Epoch 96/200\n",
      "16/16 [==============================] - 0s 682us/step - loss: 613.1620\n",
      "Epoch 97/200\n",
      "16/16 [==============================] - 0s 685us/step - loss: 666.5435\n",
      "Epoch 98/200\n",
      "16/16 [==============================] - 0s 600us/step - loss: 581.3976\n",
      "Epoch 99/200\n",
      "16/16 [==============================] - 0s 617us/step - loss: 625.8272\n",
      "Epoch 100/200\n",
      "16/16 [==============================] - 0s 625us/step - loss: 579.8256\n",
      "Epoch 101/200\n",
      "16/16 [==============================] - 0s 634us/step - loss: 685.5766\n",
      "Epoch 102/200\n",
      "16/16 [==============================] - 0s 1ms/step - loss: 701.8982\n",
      "Epoch 103/200\n",
      "16/16 [==============================] - 0s 662us/step - loss: 534.3365\n",
      "Epoch 104/200\n",
      "16/16 [==============================] - 0s 627us/step - loss: 658.9679\n",
      "Epoch 105/200\n",
      "16/16 [==============================] - 0s 737us/step - loss: 590.2976\n",
      "Epoch 106/200\n",
      "16/16 [==============================] - 0s 657us/step - loss: 676.8521\n",
      "Epoch 107/200\n",
      "16/16 [==============================] - 0s 591us/step - loss: 606.1160\n",
      "Epoch 108/200\n",
      "16/16 [==============================] - 0s 651us/step - loss: 570.7092\n",
      "Epoch 109/200\n",
      "16/16 [==============================] - 0s 673us/step - loss: 671.1114\n",
      "Epoch 110/200\n",
      "16/16 [==============================] - 0s 609us/step - loss: 613.1484\n",
      "Epoch 111/200\n",
      "16/16 [==============================] - 0s 651us/step - loss: 612.9942\n",
      "Epoch 112/200\n",
      "16/16 [==============================] - 0s 702us/step - loss: 593.7628\n",
      "Epoch 113/200\n",
      "16/16 [==============================] - 0s 626us/step - loss: 631.7170\n",
      "Epoch 114/200\n",
      "16/16 [==============================] - 0s 577us/step - loss: 638.6251\n",
      "Epoch 115/200\n",
      "16/16 [==============================] - 0s 683us/step - loss: 677.5844\n",
      "Epoch 116/200\n",
      "16/16 [==============================] - 0s 689us/step - loss: 638.1622\n",
      "Epoch 117/200\n",
      "16/16 [==============================] - 0s 729us/step - loss: 609.4503\n",
      "Epoch 118/200\n",
      "16/16 [==============================] - 0s 643us/step - loss: 704.6808\n",
      "Epoch 119/200\n",
      "16/16 [==============================] - 0s 769us/step - loss: 590.2695\n",
      "Epoch 120/200\n",
      "16/16 [==============================] - 0s 740us/step - loss: 612.9508\n",
      "Epoch 121/200\n",
      "16/16 [==============================] - 0s 807us/step - loss: 711.4034\n",
      "Epoch 122/200\n",
      "16/16 [==============================] - 0s 671us/step - loss: 628.9619\n",
      "Epoch 123/200\n",
      "16/16 [==============================] - 0s 648us/step - loss: 611.0216\n",
      "Epoch 124/200\n",
      "16/16 [==============================] - 0s 917us/step - loss: 653.6648\n",
      "Epoch 125/200\n",
      "16/16 [==============================] - 0s 861us/step - loss: 651.7243\n",
      "Epoch 126/200\n",
      "16/16 [==============================] - 0s 761us/step - loss: 591.9686\n",
      "Epoch 127/200\n",
      "16/16 [==============================] - 0s 706us/step - loss: 650.0845\n",
      "Epoch 128/200\n",
      "16/16 [==============================] - 0s 802us/step - loss: 659.8587\n",
      "Epoch 129/200\n",
      "16/16 [==============================] - 0s 1ms/step - loss: 631.7990\n",
      "Epoch 130/200\n",
      "16/16 [==============================] - 0s 1ms/step - loss: 620.7959\n",
      "Epoch 131/200\n",
      "16/16 [==============================] - 0s 775us/step - loss: 559.8264\n",
      "Epoch 132/200\n",
      "16/16 [==============================] - 0s 806us/step - loss: 672.6915\n",
      "Epoch 133/200\n",
      "16/16 [==============================] - 0s 611us/step - loss: 603.6300\n",
      "Epoch 134/200\n",
      "16/16 [==============================] - 0s 703us/step - loss: 665.0570\n",
      "Epoch 135/200\n",
      "16/16 [==============================] - 0s 767us/step - loss: 588.6869\n",
      "Epoch 136/200\n",
      "16/16 [==============================] - 0s 796us/step - loss: 703.8867\n",
      "Epoch 137/200\n",
      "16/16 [==============================] - 0s 744us/step - loss: 619.0731\n",
      "Epoch 138/200\n",
      "16/16 [==============================] - 0s 711us/step - loss: 603.4232\n",
      "Epoch 139/200\n",
      "16/16 [==============================] - 0s 648us/step - loss: 602.2849\n",
      "Epoch 140/200\n",
      "16/16 [==============================] - 0s 653us/step - loss: 685.4437\n",
      "Epoch 141/200\n",
      "16/16 [==============================] - 0s 658us/step - loss: 610.9009\n",
      "Epoch 142/200\n",
      "16/16 [==============================] - 0s 619us/step - loss: 674.0660\n",
      "Epoch 143/200\n",
      "16/16 [==============================] - 0s 652us/step - loss: 646.0357\n",
      "Epoch 144/200\n",
      "16/16 [==============================] - 0s 639us/step - loss: 663.5568\n",
      "Epoch 145/200\n",
      "16/16 [==============================] - 0s 634us/step - loss: 680.6994\n",
      "Epoch 146/200\n",
      "16/16 [==============================] - 0s 614us/step - loss: 612.3909\n",
      "Epoch 147/200\n",
      "16/16 [==============================] - 0s 660us/step - loss: 650.1104\n",
      "Epoch 148/200\n",
      "16/16 [==============================] - 0s 632us/step - loss: 620.2558\n",
      "Epoch 149/200\n",
      "16/16 [==============================] - 0s 624us/step - loss: 575.9122\n",
      "Epoch 150/200\n",
      "16/16 [==============================] - 0s 694us/step - loss: 601.8264\n",
      "Epoch 151/200\n",
      "16/16 [==============================] - 0s 3ms/step - loss: 633.1241\n",
      "Epoch 152/200\n",
      "16/16 [==============================] - 0s 1ms/step - loss: 619.0336\n",
      "Epoch 153/200\n",
      "16/16 [==============================] - 0s 871us/step - loss: 681.3547\n",
      "Epoch 154/200\n",
      "16/16 [==============================] - 0s 656us/step - loss: 706.3200\n",
      "Epoch 155/200\n",
      "16/16 [==============================] - 0s 681us/step - loss: 678.0813\n",
      "Epoch 156/200\n",
      "16/16 [==============================] - 0s 725us/step - loss: 677.9367\n",
      "Epoch 157/200\n",
      "16/16 [==============================] - 0s 646us/step - loss: 619.7966\n",
      "Epoch 158/200\n",
      "16/16 [==============================] - 0s 635us/step - loss: 628.5649\n",
      "Epoch 159/200\n",
      "16/16 [==============================] - 0s 710us/step - loss: 607.4531\n",
      "Epoch 160/200\n",
      "16/16 [==============================] - 0s 701us/step - loss: 698.6076\n",
      "Epoch 161/200\n",
      "16/16 [==============================] - 0s 899us/step - loss: 739.5568\n",
      "Epoch 162/200\n",
      "16/16 [==============================] - 0s 702us/step - loss: 701.5103\n",
      "Epoch 163/200\n",
      "16/16 [==============================] - 0s 630us/step - loss: 618.6148\n",
      "Epoch 164/200\n",
      "16/16 [==============================] - 0s 795us/step - loss: 661.9318\n",
      "Epoch 165/200\n",
      "16/16 [==============================] - 0s 714us/step - loss: 618.8107\n",
      "Epoch 166/200\n",
      "16/16 [==============================] - 0s 844us/step - loss: 614.2665\n",
      "Epoch 167/200\n",
      "16/16 [==============================] - 0s 767us/step - loss: 653.0966\n",
      "Epoch 168/200\n",
      "16/16 [==============================] - 0s 622us/step - loss: 663.4256\n",
      "Epoch 169/200\n",
      "16/16 [==============================] - 0s 777us/step - loss: 674.7047\n",
      "Epoch 170/200\n",
      "16/16 [==============================] - 0s 814us/step - loss: 635.6537\n",
      "Epoch 171/200\n",
      "16/16 [==============================] - 0s 804us/step - loss: 652.5332\n",
      "Epoch 172/200\n",
      "16/16 [==============================] - 0s 600us/step - loss: 677.2597\n",
      "Epoch 173/200\n",
      "16/16 [==============================] - 0s 627us/step - loss: 642.8064\n",
      "Epoch 174/200\n",
      "16/16 [==============================] - 0s 721us/step - loss: 645.4550\n",
      "Epoch 175/200\n",
      "16/16 [==============================] - 0s 724us/step - loss: 605.4670\n",
      "Epoch 176/200\n",
      "16/16 [==============================] - 0s 785us/step - loss: 587.9486\n",
      "Epoch 177/200\n",
      "16/16 [==============================] - 0s 1ms/step - loss: 747.6833\n",
      "Epoch 178/200\n",
      "16/16 [==============================] - 0s 1ms/step - loss: 682.3232\n",
      "Epoch 179/200\n",
      "16/16 [==============================] - 0s 656us/step - loss: 615.6942\n",
      "Epoch 180/200\n",
      "16/16 [==============================] - 0s 676us/step - loss: 645.9608\n",
      "Epoch 181/200\n",
      "16/16 [==============================] - 0s 777us/step - loss: 679.0561\n",
      "Epoch 182/200\n",
      "16/16 [==============================] - 0s 842us/step - loss: 665.0752\n",
      "Epoch 183/200\n",
      "16/16 [==============================] - 0s 1ms/step - loss: 612.4494\n",
      "Epoch 184/200\n",
      "16/16 [==============================] - 0s 798us/step - loss: 640.6055\n",
      "Epoch 185/200\n",
      "16/16 [==============================] - 0s 783us/step - loss: 667.7816\n",
      "Epoch 186/200\n",
      "16/16 [==============================] - 0s 1ms/step - loss: 707.5040\n",
      "Epoch 187/200\n",
      "16/16 [==============================] - 0s 727us/step - loss: 683.2087\n",
      "Epoch 188/200\n",
      "16/16 [==============================] - 0s 730us/step - loss: 695.4257\n",
      "Epoch 189/200\n",
      "16/16 [==============================] - 0s 684us/step - loss: 694.9524\n",
      "Epoch 190/200\n",
      "16/16 [==============================] - 0s 755us/step - loss: 616.9927\n",
      "Epoch 191/200\n",
      "16/16 [==============================] - 0s 697us/step - loss: 552.3728\n",
      "Epoch 192/200\n",
      "16/16 [==============================] - 0s 619us/step - loss: 639.5267\n",
      "Epoch 193/200\n",
      "16/16 [==============================] - 0s 987us/step - loss: 636.0814\n",
      "Epoch 194/200\n",
      "16/16 [==============================] - 0s 640us/step - loss: 601.2050\n",
      "Epoch 195/200\n",
      "16/16 [==============================] - 0s 725us/step - loss: 706.3196\n",
      "Epoch 196/200\n",
      "16/16 [==============================] - 0s 716us/step - loss: 598.3044\n",
      "Epoch 197/200\n",
      "16/16 [==============================] - 0s 630us/step - loss: 692.5387\n",
      "Epoch 198/200\n",
      "16/16 [==============================] - 0s 684us/step - loss: 665.3692\n",
      "Epoch 199/200\n",
      "16/16 [==============================] - 0s 720us/step - loss: 623.5154\n",
      "Epoch 200/200\n",
      "16/16 [==============================] - 0s 720us/step - loss: 665.4762\n"
     ]
    }
   ],
   "source": [
    "epochs_hist = model.fit(X_train, y_train, epochs=200)"
   ]
  },
  {
   "cell_type": "markdown",
   "metadata": {},
   "source": [
    "### Evaluate the model"
   ]
  },
  {
   "cell_type": "code",
   "execution_count": 15,
   "metadata": {},
   "outputs": [
    {
     "data": {
      "text/plain": [
       "dict_keys(['loss'])"
      ]
     },
     "execution_count": 15,
     "metadata": {},
     "output_type": "execute_result"
    }
   ],
   "source": [
    "epochs_hist.history.keys()"
   ]
  },
  {
   "cell_type": "code",
   "execution_count": 16,
   "metadata": {},
   "outputs": [
    {
     "data": {
      "text/plain": [
       "<matplotlib.legend.Legend at 0x7f949a9094c0>"
      ]
     },
     "execution_count": 16,
     "metadata": {},
     "output_type": "execute_result"
    },
    {
     "data": {
      "image/png": "[encoded data removed]",
      "text/plain": [
       "<Figure size 720x432 with 1 Axes>"
      ]
     },
     "metadata": {
      "needs_background": "light"
     },
     "output_type": "display_data"
    }
   ],
   "source": [
    "# We will plot the loss\n",
    "plt.figure(figsize=(10, 6))\n",
    "plt.grid()\n",
    "plt.plot(epochs_hist.history['loss'])\n",
    "plt.title('Model Loss Progress During Training')\n",
    "plt.xlabel('Epochs')\n",
    "plt.ylabel('Training Loss')\n",
    "plt.legend(['Training Loss'])"
   ]
  },
  {
   "cell_type": "code",
   "execution_count": 17,
   "metadata": {},
   "outputs": [
    {
     "data": {
      "text/plain": [
       "[array([[21.361115]], dtype=float32), array([44.54227], dtype=float32)]"
      ]
     },
     "execution_count": 17,
     "metadata": {},
     "output_type": "execute_result"
    }
   ],
   "source": [
    "# get the optimum weights\n",
    "\n",
    "model.get_weights()"
   ]
  },
  {
   "cell_type": "code",
   "execution_count": 18,
   "metadata": {},
   "outputs": [
    {
     "name": "stdout",
     "output_type": "stream",
     "text": [
      "Revenue prediction using the trained ANN = [[151.34784]]\n"
     ]
    }
   ],
   "source": [
    "# Now we will use the trained model for predictions\n",
    "\n",
    "Temp = 5\n",
    "Revenue = model.predict([Temp])\n",
    "print('Revenue prediction using the trained ANN =', Revenue)"
   ]
  },
  {
   "cell_type": "code",
   "execution_count": 19,
   "metadata": {},
   "outputs": [
    {
     "data": {
      "text/plain": [
       "Text(0.5, 1.0, 'Revenue Generated vs Temperature @ IceCream Stand')"
      ]
     },
     "execution_count": 19,
     "metadata": {},
     "output_type": "execute_result"
    },
    {
     "data": {
      "image/png": "[encoded data removed]",
      "text/plain": [
       "<Figure size 720x432 with 1 Axes>"
      ]
     },
     "metadata": {
      "needs_background": "light"
     },
     "output_type": "display_data"
    }
   ],
   "source": [
    "# Now lets plot predictions vs actual\n",
    "plt.figure(figsize=(10, 6))\n",
    "plt.grid()\n",
    "plt.scatter(X_train, y_train, color='gray')\n",
    "plt.plot(X_train, model.predict(X_train), color='red')\n",
    "plt.ylabel(\"Revenue [dollars]\")\n",
    "plt.xlabel('Temperature [degC]')\n",
    "plt.title(\"Revenue Generated vs Temperature @ IceCream Stand\")"
   ]
  },
  {
   "cell_type": "markdown",
   "metadata": {},
   "source": [
    "### Now we will confirm using Scikit Learn"
   ]
  },
  {
   "cell_type": "code",
   "execution_count": 20,
   "metadata": {},
   "outputs": [
    {
     "data": {
      "text/plain": [
       "(500, 1)"
      ]
     },
     "execution_count": 20,
     "metadata": {},
     "output_type": "execute_result"
    }
   ],
   "source": [
    "X_train = X_train.values.reshape(-1, 1) # reshaping to a numpy array\n",
    "X_train.shape"
   ]
  },
  {
   "cell_type": "code",
   "execution_count": 21,
   "metadata": {},
   "outputs": [
    {
     "data": {
      "text/plain": [
       "(500, 1)"
      ]
     },
     "execution_count": 21,
     "metadata": {},
     "output_type": "execute_result"
    }
   ],
   "source": [
    "y_train = y_train.values.reshape(-1, 1)\n",
    "y_train.shape"
   ]
  },
  {
   "cell_type": "code",
   "execution_count": 22,
   "metadata": {},
   "outputs": [
    {
     "data": {
      "text/plain": [
       "LinearRegression(fit_intercept=False)"
      ]
     },
     "execution_count": 22,
     "metadata": {},
     "output_type": "execute_result"
    }
   ],
   "source": [
    "# Fit the linear regressor on our dataset\n",
    "\n",
    "from sklearn.linear_model import LinearRegression\n",
    "\n",
    "regressor = LinearRegression(fit_intercept=False)\n",
    "regressor.fit(X_train, y_train)"
   ]
  },
  {
   "cell_type": "code",
   "execution_count": 23,
   "metadata": {},
   "outputs": [
    {
     "name": "stdout",
     "output_type": "stream",
     "text": [
      "Linear Model Coeff(m) [[23.22442357]]\n",
      "Linear Model Coeff(b) 0.0\n"
     ]
    }
   ],
   "source": [
    "# Check the coefficient and intercept\n",
    "\n",
    "print('Linear Model Coeff(m)', regressor.coef_)\n",
    "print('Linear Model Coeff(b)', regressor.intercept_)"
   ]
  },
  {
   "cell_type": "code",
   "execution_count": 24,
   "metadata": {},
   "outputs": [
    {
     "data": {
      "text/plain": [
       "Text(0.5, 1.0, 'Revenue Generated vs. Temperature @Ice Cream Stand')"
      ]
     },
     "execution_count": 24,
     "metadata": {},
     "output_type": "execute_result"
    },
    {
     "data": {
      "image/png": "[encoded data removed]",
      "text/plain": [
       "<Figure size 720x432 with 1 Axes>"
      ]
     },
     "metadata": {
      "needs_background": "light"
     },
     "output_type": "display_data"
    }
   ],
   "source": [
    "# Now we will plot the actial vs predicted\n",
    "plt.figure(figsize=(10, 6))\n",
    "plt.grid()\n",
    "plt.scatter(X_train, y_train, color = 'gray')\n",
    "plt.plot(X_train, regressor.predict(X_train), color = 'red')\n",
    "plt.ylabel('Revenue [dollars]')\n",
    "plt.xlabel('Temperature [degC]')\n",
    "plt.title('Revenue Generated vs. Temperature @Ice Cream Stand')"
   ]
  }
 ],
 "metadata": {
  "kernelspec": {
   "display_name": "Python 3.9.12 ('tensorflow')",
   "language": "python",
   "name": "python3"
  },
  "language_info": {
   "codemirror_mode": {
    "name": "ipython",
    "version": 3
   },
   "file_extension": ".py",
   "mimetype": "text/x-python",
   "name": "python",
   "nbconvert_exporter": "python",
   "pygments_lexer": "ipython3",
   "version": "3.9.12"
  },
  "vscode": {
   "interpreter": {
    "hash": "36d15a43ff7fd130b7acf4067b2348996c307563590126dfcb551aae98a1a484"
   }
  }
 },
 "nbformat": 4,
 "nbformat_minor": 2
}
