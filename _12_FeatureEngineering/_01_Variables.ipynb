{
 "cells": [
  {
   "cell_type": "markdown",
   "metadata": {},
   "source": [
    "## What is a Variable?\n",
    "\n",
    "A variable is any characteristic, number, or quantity that can be measured or counted. They are called 'variables' because the value they take may vary, and it usually does. The following are examples of variables:\n",
    "\n",
    "- Age (21, 35, 62, ...)\n",
    "- Gender (male, female)\n",
    "- Income (GBP 20000, GBP 35000, GBP 45000, ...)\n",
    "- House price (GBP 350000, GBP 570000, ...)\n",
    "- Country of birth (China, Russia, Costa Rica, ...)\n",
    "- Eye colour (brown, green, blue, ...)\n",
    "- Vehicle make (Ford, Volkswagen, ...)\n",
    "\n",
    "Most variables in a data set can be classified into one of two major types:\n",
    "\n",
    "- **Numerical variables** \n",
    "- **Categorical variables**\n",
    "\n",
    "===================================================================================\n",
    "\n",
    "## Numerical Variables\n",
    "\n",
    "The values of a numerical variable are numbers. They can be further classified into:\n",
    "\n",
    "- **Discrete variables** \n",
    "- **Continuous variables**\n",
    "\n",
    "\n",
    "### Discrete Variable\n",
    "\n",
    "In a discrete variable, the values are whole numbers (counts). For example, the number of items bought by a customer in a supermarket is discrete. The customer can buy 1, 25, or 50 items, but not 3.7 items. It is always a round number. The following are examples of discrete variables:\n",
    "\n",
    "- Number of active bank accounts of a borrower (1, 4, 7, ...)\n",
    "- Number of pets in the family\n",
    "- Number of children in the family\n",
    "\n",
    "\n",
    "### Continuous Variable\n",
    "\n",
    "A variable that may contain any value within a range is continuous. For example, the total amount paid by a customer in a supermarket is continuous. The customer can pay, GBP 20.5, GBP 13.10, GBP 83.20 and so on. Other examples of continuous variables are:\n",
    "\n",
    "- House price (in principle, it can take any value) (GBP 350000, 57000, 100000, ...)\n",
    "- Time spent surfing a website (3.4 seconds, 5.10 seconds, ...)\n",
    "- Total debt as percentage of total income in the last month (0.2, 0.001, 0, 0.75, ...)\n",
    "\n",
    "=============================================================================\n",
    "\n",
    "## In this demo: Peer to peer lending (Finance)\n",
    "\n",
    "In this demo, we will use data from the peer-o-peer finance company **Lending Club** to inspect discrete and continuous numerical variables\n",
    "\n",
    "- To download the dataset, please refer to the **Datasets** lecture in **Section 1** of the course."
   ]
  },
  {
   "cell_type": "code",
   "execution_count": 1,
   "metadata": {},
   "outputs": [],
   "source": [
    "import numpy as np\n",
    "import pandas as pd\n",
    "import matplotlib.pyplot as plt\n",
    "%matplotlib inline"
   ]
  },
  {
   "cell_type": "code",
   "execution_count": 2,
   "metadata": {},
   "outputs": [
    {
     "data": {
      "text/html": [
       "<div>\n",
       "<style scoped>\n",
       "    .dataframe tbody tr th:only-of-type {\n",
       "        vertical-align: middle;\n",
       "    }\n",
       "\n",
       "    .dataframe tbody tr th {\n",
       "        vertical-align: top;\n",
       "    }\n",
       "\n",
       "    .dataframe thead th {\n",
       "        text-align: right;\n",
       "    }\n",
       "</style>\n",
       "<table border=\"1\" class=\"dataframe\">\n",
       "  <thead>\n",
       "    <tr style=\"text-align: right;\">\n",
       "      <th></th>\n",
       "      <th>loan_amnt</th>\n",
       "      <th>int_rate</th>\n",
       "      <th>annual_inc</th>\n",
       "      <th>loan_status</th>\n",
       "      <th>open_acc</th>\n",
       "      <th>open_il_12m</th>\n",
       "    </tr>\n",
       "  </thead>\n",
       "  <tbody>\n",
       "    <tr>\n",
       "      <th>70642</th>\n",
       "      <td>12000</td>\n",
       "      <td>10.33</td>\n",
       "      <td>115000.0</td>\n",
       "      <td>Current</td>\n",
       "      <td>10.0</td>\n",
       "      <td>2.0</td>\n",
       "    </tr>\n",
       "    <tr>\n",
       "      <th>490788</th>\n",
       "      <td>20000</td>\n",
       "      <td>11.99</td>\n",
       "      <td>19200.0</td>\n",
       "      <td>Current</td>\n",
       "      <td>9.0</td>\n",
       "      <td>0.0</td>\n",
       "    </tr>\n",
       "    <tr>\n",
       "      <th>2081591</th>\n",
       "      <td>35000</td>\n",
       "      <td>18.25</td>\n",
       "      <td>153619.0</td>\n",
       "      <td>Charged Off</td>\n",
       "      <td>27.0</td>\n",
       "      <td>NaN</td>\n",
       "    </tr>\n",
       "    <tr>\n",
       "      <th>900431</th>\n",
       "      <td>8000</td>\n",
       "      <td>7.99</td>\n",
       "      <td>67000.0</td>\n",
       "      <td>Fully Paid</td>\n",
       "      <td>10.0</td>\n",
       "      <td>1.0</td>\n",
       "    </tr>\n",
       "    <tr>\n",
       "      <th>781582</th>\n",
       "      <td>17000</td>\n",
       "      <td>9.16</td>\n",
       "      <td>50000.0</td>\n",
       "      <td>Fully Paid</td>\n",
       "      <td>9.0</td>\n",
       "      <td>0.0</td>\n",
       "    </tr>\n",
       "  </tbody>\n",
       "</table>\n",
       "</div>"
      ],
      "text/plain": [
       "         loan_amnt  int_rate  annual_inc  loan_status  open_acc  open_il_12m\n",
       "70642        12000     10.33    115000.0      Current      10.0          2.0\n",
       "490788       20000     11.99     19200.0      Current       9.0          0.0\n",
       "2081591      35000     18.25    153619.0  Charged Off      27.0          NaN\n",
       "900431        8000      7.99     67000.0   Fully Paid      10.0          1.0\n",
       "781582       17000      9.16     50000.0   Fully Paid       9.0          0.0"
      ]
     },
     "execution_count": 2,
     "metadata": {},
     "output_type": "execute_result"
    }
   ],
   "source": [
    "# let's load the dataset with just a few columns and a few rows\n",
    "# to speed the demo\n",
    "\n",
    "# Variable definitions:\n",
    "#-------------------------\n",
    "# loan_amnt: loan amount\n",
    "# int_rate: interest rate\n",
    "# annual_inc: annual income\n",
    "# open_acc: open accounts (more on this later)\n",
    "# loan_status: loan status(paid, defaulted, etc)\n",
    "# open_il_12m: accounts opened in the last 12 months\n",
    "\n",
    "use_cols = [\n",
    "    'loan_amnt', 'int_rate', 'annual_inc', 'open_acc', 'loan_status',\n",
    "    'open_il_12m'\n",
    "]\n",
    "\n",
    "# this dataset is very big. To speed things up for the demo\n",
    "# I will randomly select 10,000 rows when I load the dataset\n",
    "# so I upload just 10,000 rows from the full dataset\n",
    "\n",
    "data = pd.read_csv(\"D:/ML-Datasets/Kaggle-Datasets/lending-club-loan-data/loan.csv\", usecols=use_cols).sample(10000,\n",
    "                                                                                                             random_state=44)\n",
    "data.head()"
   ]
  },
  {
   "cell_type": "markdown",
   "metadata": {},
   "source": [
    "### Continuous Variables"
   ]
  },
  {
   "cell_type": "code",
   "execution_count": 3,
   "metadata": {},
   "outputs": [
    {
     "data": {
      "text/plain": [
       "Text(0, 0.5, 'Number of Loans')"
      ]
     },
     "execution_count": 3,
     "metadata": {},
     "output_type": "execute_result"
    },
    {
     "data": {
      "image/png": "[encoded data removed]",
      "text/plain": [
       "<Figure size 432x288 with 1 Axes>"
      ]
     },
     "metadata": {
      "needs_background": "light"
     },
     "output_type": "display_data"
    }
   ],
   "source": [
    "# let's look at the values of the variable loan_amnt\n",
    "# this is the amount of money requested by the borrower\n",
    "# in US dollars\n",
    "\n",
    "# this variable is continuous, it can take in principle\n",
    "# any value\n",
    "\n",
    "# let's make a histogram to get familiar with the\n",
    "# distribution of the variable\n",
    "\n",
    "fig = data.loan_amnt.hist(bins=50)\n",
    "\n",
    "fig.set_title('Loan Amount Requested')\n",
    "fig.set_xlabel('Loan Amount')\n",
    "fig.set_ylabel('Number of Loans')"
   ]
  },
  {
   "cell_type": "markdown",
   "metadata": {},
   "source": [
    "The values of the variable vary across the entire range of loan amounts typically disbursed to borrowers. This is characteristic of continuous variables.\n",
    "\n",
    "**Note**: The taller bars correspond to loan sizes of 10000, 15000, 20000, and 35000, indicating that there are more loans disbursed for those loan amount values. Likely, these particular loan amount values are offered as a default in the Lending Club website. Less frequent loan values, like 23,000 or 33,000 are typically requested by people who require a specific amount of money for a definite purpose."
   ]
  },
  {
   "cell_type": "code",
   "execution_count": 4,
   "metadata": {},
   "outputs": [
    {
     "data": {
      "text/plain": [
       "Text(0, 0.5, 'Number of Loans')"
      ]
     },
     "execution_count": 4,
     "metadata": {},
     "output_type": "execute_result"
    },
    {
     "data": {
      "image/png": "[encoded data removed]",
      "text/plain": [
       "<Figure size 432x288 with 1 Axes>"
      ]
     },
     "metadata": {
      "needs_background": "light"
     },
     "output_type": "display_data"
    }
   ],
   "source": [
    "# let's do the same exercise for the variable interest rate,\n",
    "# which is the interest charged by lending club to the borrowers\n",
    "\n",
    "# this variable is also continuous, it can take in principle\n",
    "# any value within the range\n",
    "\n",
    "fig = data.int_rate.hist(bins=30)\n",
    "\n",
    "fig.set_title('Interest Rate')\n",
    "fig.set_xlabel('Interest Rate')\n",
    "fig.set_ylabel('Number of Loans')"
   ]
  },
  {
   "cell_type": "markdown",
   "metadata": {},
   "source": [
    "We see that the values of the variable vary continuously across the variable range. The values are the interest rate charged to borrowers."
   ]
  },
  {
   "cell_type": "code",
   "execution_count": 5,
   "metadata": {},
   "outputs": [
    {
     "data": {
      "text/plain": [
       "Text(0, 0.5, 'Number of Customers')"
      ]
     },
     "execution_count": 5,
     "metadata": {},
     "output_type": "execute_result"
    },
    {
     "data": {
      "image/png": "[encoded data removed]",
      "text/plain": [
       "<Figure size 432x288 with 1 Axes>"
      ]
     },
     "metadata": {
      "needs_background": "light"
     },
     "output_type": "display_data"
    }
   ],
   "source": [
    "# Now, let's explore the income declared by the customers,\n",
    "# that is, how much they earn yearly.\n",
    "\n",
    "# this variable is also continuous\n",
    "\n",
    "fig = data.annual_inc.hist(bins=100)\n",
    "\n",
    "# for better visualisation, I display only specific\n",
    "# range in the x-axis\n",
    "fig.set_xlim(0, 400000)\n",
    "\n",
    "# title and axis legends\n",
    "fig.set_title(\"Customer's Annual Income\")\n",
    "fig.set_xlabel('Annual Income')\n",
    "fig.set_ylabel('Number of Customers')"
   ]
  },
  {
   "cell_type": "markdown",
   "metadata": {},
   "source": [
    "The majority of salaries are concentrated towards values in the range 30-70k, with only a few customers earning higher salaries. The values of the variable, vary continuously across the variable range, because this is a continuous variable."
   ]
  },
  {
   "cell_type": "markdown",
   "metadata": {},
   "source": [
    "### Discrete Variables\n",
    "\n",
    "Let's explore the variable \"Number of open credit lines in the borrower's credit file\" (open_acc in the dataset). This variable represents the total number of credit items (for example, credit cards, car loans, mortgages, etc) that is known for that borrower. By definition it is a discrete variable, because a borrower can have 1 credit card, but not 3.5 credit cards."
   ]
  },
  {
   "cell_type": "code",
   "execution_count": 6,
   "metadata": {},
   "outputs": [
    {
     "data": {
      "text/plain": [
       "array([10.,  9., 27., 12.,  5., 19., 11., 14.,  8., 24., 15.,  7., 26.,\n",
       "       22., 18., 21., 16., 17., 25., 23.,  4.,  6., 30.,  3., 31., 13.,\n",
       "       28., 20., 29., 37.,  1., 35., 36., 44.,  2., 34., 39., 33., 32.,\n",
       "       38., 40., 47., 46., 48., 43.,  0., 56., 42.])"
      ]
     },
     "execution_count": 6,
     "metadata": {},
     "output_type": "execute_result"
    }
   ],
   "source": [
    "# let's inspect the values of the variable\n",
    "\n",
    "# this is a discrete variable\n",
    "\n",
    "data.open_acc.dropna().unique() # Number of unique accounts customer has"
   ]
  },
  {
   "cell_type": "code",
   "execution_count": 7,
   "metadata": {},
   "outputs": [
    {
     "data": {
      "text/plain": [
       "Text(0, 0.5, 'Number of Customers')"
      ]
     },
     "execution_count": 7,
     "metadata": {},
     "output_type": "execute_result"
    },
    {
     "data": {
      "image/png": "[encoded data removed]",
      "text/plain": [
       "<Figure size 432x288 with 1 Axes>"
      ]
     },
     "metadata": {
      "needs_background": "light"
     },
     "output_type": "display_data"
    }
   ],
   "source": [
    "# let's make an histogram to get familiar with the\n",
    "# distribution of the variable\n",
    "\n",
    "fig = data.open_acc.hist(bins=100)\n",
    "\n",
    "# title and axis legends\n",
    "fig.set_title('Number of open accounts')\n",
    "fig.set_xlabel('Number of open accounts')\n",
    "fig.set_ylabel('Number of Customers')"
   ]
  },
  {
   "cell_type": "markdown",
   "metadata": {},
   "source": [
    "Histograms of discrete variables have this typical broken shape, as not all the values within the variable range are present in the variable. As I said, the customer can have 3 credit cards, but not 3,5 credit cards.\n",
    "\n",
    "Let's look at another example of a discrete variable in this dataset: **Number of installment accounts opened in past 12 months** (open_il_12m in the dataset). Installment accounts are those that at the moment of acquiring them, there is a set period and amount of repayments agreed between the lender and borrower. An example of this is a car loan, or a student loan. The borrower knows that they will pay a fixed amount over a fixed period, for example 36 months."
   ]
  },
  {
   "cell_type": "code",
   "execution_count": 8,
   "metadata": {},
   "outputs": [
    {
     "data": {
      "text/plain": [
       "array([ 2.,  0., nan,  1.,  3.,  5.,  4.,  6.,  7.])"
      ]
     },
     "execution_count": 8,
     "metadata": {},
     "output_type": "execute_result"
    }
   ],
   "source": [
    "# let's inspect the variable values\n",
    "\n",
    "data.open_il_12m.unique()"
   ]
  },
  {
   "cell_type": "code",
   "execution_count": 9,
   "metadata": {},
   "outputs": [
    {
     "data": {
      "text/plain": [
       "Text(0, 0.5, 'Number of Borrowers')"
      ]
     },
     "execution_count": 9,
     "metadata": {},
     "output_type": "execute_result"
    },
    {
     "data": {
      "image/png": "[encoded data removed]",
      "text/plain": [
       "<Figure size 432x288 with 1 Axes>"
      ]
     },
     "metadata": {
      "needs_background": "light"
     },
     "output_type": "display_data"
    }
   ],
   "source": [
    "# let's make a histogram to get familiar with the\n",
    "# distribution of the variable\n",
    "\n",
    "fig = data.open_il_12m.hist(bins=50)\n",
    "fig.set_title('Number of installment accounts opened in past 12 months')\n",
    "fig.set_xlabel('Number of installment accounts opened in past 12 months')\n",
    "fig.set_ylabel('Number of Borrowers')"
   ]
  },
  {
   "cell_type": "markdown",
   "metadata": {},
   "source": [
    "The majority of the borrowers have none or 1 installment account, with only a few borrowers having more than 2."
   ]
  },
  {
   "cell_type": "markdown",
   "metadata": {},
   "source": [
    "### A variation of discrete variables: the binary variable\n",
    "\n",
    "Binary variables, are discrete variables, that can take only 2 values, therefore binary.\n",
    "\n",
    "In the next cells I will create an additional variable, called defaulted, to capture the number of loans that have defaulted. A defaulted loan is a loan that a customer has failed to re-pay and the money is lost.\n",
    "\n",
    "The variable takes the values 0 where the loans are OK and being re-paid regularly, or 1, when the borrower has confirmed that will not be able to re-pay the borrowed amount."
   ]
  },
  {
   "cell_type": "code",
   "execution_count": 10,
   "metadata": {},
   "outputs": [
    {
     "data": {
      "text/plain": [
       "array(['Current', 'Charged Off', 'Fully Paid',\n",
       "       'Does not meet the credit policy. Status:Fully Paid',\n",
       "       'Late (16-30 days)', 'Late (31-120 days)', 'In Grace Period',\n",
       "       'Does not meet the credit policy. Status:Charged Off'],\n",
       "      dtype=object)"
      ]
     },
     "execution_count": 10,
     "metadata": {},
     "output_type": "execute_result"
    }
   ],
   "source": [
    "# let's inspect the values of the variable loan status\n",
    "\n",
    "data.loan_status.unique()"
   ]
  },
  {
   "cell_type": "code",
   "execution_count": 11,
   "metadata": {},
   "outputs": [
    {
     "data": {
      "text/plain": [
       "0.0"
      ]
     },
     "execution_count": 11,
     "metadata": {},
     "output_type": "execute_result"
    }
   ],
   "source": [
    "# let's create one additional variable called \"defaulted\".\n",
    "# This variable indicates if the loan has defaulted, which means,\n",
    "# if the borrower failed to re-pay the loan, and the money\n",
    "# is deemed lost.\n",
    "\n",
    "data['defaulted'] = np.where(data.loan_status.isin(['Default']), 1, 0)\n",
    "data.defaulted.mean()"
   ]
  },
  {
   "cell_type": "code",
   "execution_count": 12,
   "metadata": {},
   "outputs": [
    {
     "data": {
      "text/html": [
       "<div>\n",
       "<style scoped>\n",
       "    .dataframe tbody tr th:only-of-type {\n",
       "        vertical-align: middle;\n",
       "    }\n",
       "\n",
       "    .dataframe tbody tr th {\n",
       "        vertical-align: top;\n",
       "    }\n",
       "\n",
       "    .dataframe thead th {\n",
       "        text-align: right;\n",
       "    }\n",
       "</style>\n",
       "<table border=\"1\" class=\"dataframe\">\n",
       "  <thead>\n",
       "    <tr style=\"text-align: right;\">\n",
       "      <th></th>\n",
       "      <th>loan_amnt</th>\n",
       "      <th>int_rate</th>\n",
       "      <th>annual_inc</th>\n",
       "      <th>loan_status</th>\n",
       "      <th>open_acc</th>\n",
       "      <th>open_il_12m</th>\n",
       "      <th>defaulted</th>\n",
       "    </tr>\n",
       "  </thead>\n",
       "  <tbody>\n",
       "    <tr>\n",
       "      <th>70642</th>\n",
       "      <td>12000</td>\n",
       "      <td>10.33</td>\n",
       "      <td>115000.0</td>\n",
       "      <td>Current</td>\n",
       "      <td>10.0</td>\n",
       "      <td>2.0</td>\n",
       "      <td>0</td>\n",
       "    </tr>\n",
       "    <tr>\n",
       "      <th>490788</th>\n",
       "      <td>20000</td>\n",
       "      <td>11.99</td>\n",
       "      <td>19200.0</td>\n",
       "      <td>Current</td>\n",
       "      <td>9.0</td>\n",
       "      <td>0.0</td>\n",
       "      <td>0</td>\n",
       "    </tr>\n",
       "    <tr>\n",
       "      <th>2081591</th>\n",
       "      <td>35000</td>\n",
       "      <td>18.25</td>\n",
       "      <td>153619.0</td>\n",
       "      <td>Charged Off</td>\n",
       "      <td>27.0</td>\n",
       "      <td>NaN</td>\n",
       "      <td>0</td>\n",
       "    </tr>\n",
       "    <tr>\n",
       "      <th>900431</th>\n",
       "      <td>8000</td>\n",
       "      <td>7.99</td>\n",
       "      <td>67000.0</td>\n",
       "      <td>Fully Paid</td>\n",
       "      <td>10.0</td>\n",
       "      <td>1.0</td>\n",
       "      <td>0</td>\n",
       "    </tr>\n",
       "    <tr>\n",
       "      <th>781582</th>\n",
       "      <td>17000</td>\n",
       "      <td>9.16</td>\n",
       "      <td>50000.0</td>\n",
       "      <td>Fully Paid</td>\n",
       "      <td>9.0</td>\n",
       "      <td>0.0</td>\n",
       "      <td>0</td>\n",
       "    </tr>\n",
       "  </tbody>\n",
       "</table>\n",
       "</div>"
      ],
      "text/plain": [
       "         loan_amnt  int_rate  annual_inc  loan_status  open_acc  open_il_12m  \\\n",
       "70642        12000     10.33    115000.0      Current      10.0          2.0   \n",
       "490788       20000     11.99     19200.0      Current       9.0          0.0   \n",
       "2081591      35000     18.25    153619.0  Charged Off      27.0          NaN   \n",
       "900431        8000      7.99     67000.0   Fully Paid      10.0          1.0   \n",
       "781582       17000      9.16     50000.0   Fully Paid       9.0          0.0   \n",
       "\n",
       "         defaulted  \n",
       "70642            0  \n",
       "490788           0  \n",
       "2081591          0  \n",
       "900431           0  \n",
       "781582           0  "
      ]
     },
     "execution_count": 12,
     "metadata": {},
     "output_type": "execute_result"
    }
   ],
   "source": [
    "# the new variable takes the value of 0\n",
    "# if the loan is not defaulted\n",
    "\n",
    "data.head()"
   ]
  },
  {
   "cell_type": "markdown",
   "metadata": {},
   "source": [
    "Compare the columns 'loan_status' and 'defaulted' to convince yourself of the outcome of the previous function"
   ]
  },
  {
   "cell_type": "code",
   "execution_count": 13,
   "metadata": {},
   "outputs": [
    {
     "data": {
      "text/html": [
       "<div>\n",
       "<style scoped>\n",
       "    .dataframe tbody tr th:only-of-type {\n",
       "        vertical-align: middle;\n",
       "    }\n",
       "\n",
       "    .dataframe tbody tr th {\n",
       "        vertical-align: top;\n",
       "    }\n",
       "\n",
       "    .dataframe thead th {\n",
       "        text-align: right;\n",
       "    }\n",
       "</style>\n",
       "<table border=\"1\" class=\"dataframe\">\n",
       "  <thead>\n",
       "    <tr style=\"text-align: right;\">\n",
       "      <th></th>\n",
       "      <th>loan_amnt</th>\n",
       "      <th>int_rate</th>\n",
       "      <th>annual_inc</th>\n",
       "      <th>loan_status</th>\n",
       "      <th>open_acc</th>\n",
       "      <th>open_il_12m</th>\n",
       "      <th>defaulted</th>\n",
       "    </tr>\n",
       "  </thead>\n",
       "  <tbody>\n",
       "    <tr>\n",
       "      <th>70642</th>\n",
       "      <td>12000</td>\n",
       "      <td>10.33</td>\n",
       "      <td>115000.0</td>\n",
       "      <td>Current</td>\n",
       "      <td>10.0</td>\n",
       "      <td>2.0</td>\n",
       "      <td>0</td>\n",
       "    </tr>\n",
       "    <tr>\n",
       "      <th>490788</th>\n",
       "      <td>20000</td>\n",
       "      <td>11.99</td>\n",
       "      <td>19200.0</td>\n",
       "      <td>Current</td>\n",
       "      <td>9.0</td>\n",
       "      <td>0.0</td>\n",
       "      <td>0</td>\n",
       "    </tr>\n",
       "    <tr>\n",
       "      <th>2081591</th>\n",
       "      <td>35000</td>\n",
       "      <td>18.25</td>\n",
       "      <td>153619.0</td>\n",
       "      <td>Charged Off</td>\n",
       "      <td>27.0</td>\n",
       "      <td>NaN</td>\n",
       "      <td>0</td>\n",
       "    </tr>\n",
       "    <tr>\n",
       "      <th>900431</th>\n",
       "      <td>8000</td>\n",
       "      <td>7.99</td>\n",
       "      <td>67000.0</td>\n",
       "      <td>Fully Paid</td>\n",
       "      <td>10.0</td>\n",
       "      <td>1.0</td>\n",
       "      <td>0</td>\n",
       "    </tr>\n",
       "    <tr>\n",
       "      <th>781582</th>\n",
       "      <td>17000</td>\n",
       "      <td>9.16</td>\n",
       "      <td>50000.0</td>\n",
       "      <td>Fully Paid</td>\n",
       "      <td>9.0</td>\n",
       "      <td>0.0</td>\n",
       "      <td>0</td>\n",
       "    </tr>\n",
       "  </tbody>\n",
       "</table>\n",
       "</div>"
      ],
      "text/plain": [
       "         loan_amnt  int_rate  annual_inc  loan_status  open_acc  open_il_12m  \\\n",
       "70642        12000     10.33    115000.0      Current      10.0          2.0   \n",
       "490788       20000     11.99     19200.0      Current       9.0          0.0   \n",
       "2081591      35000     18.25    153619.0  Charged Off      27.0          NaN   \n",
       "900431        8000      7.99     67000.0   Fully Paid      10.0          1.0   \n",
       "781582       17000      9.16     50000.0   Fully Paid       9.0          0.0   \n",
       "\n",
       "         defaulted  \n",
       "70642            0  \n",
       "490788           0  \n",
       "2081591          0  \n",
       "900431           0  \n",
       "781582           0  "
      ]
     },
     "execution_count": 13,
     "metadata": {},
     "output_type": "execute_result"
    }
   ],
   "source": [
    "data.head()"
   ]
  },
  {
   "cell_type": "code",
   "execution_count": 14,
   "metadata": {},
   "outputs": [
    {
     "data": {
      "text/plain": [
       "70642      False\n",
       "490788     False\n",
       "2081591    False\n",
       "900431     False\n",
       "781582     False\n",
       "           ...  \n",
       "2257342    False\n",
       "1733591    False\n",
       "1527805    False\n",
       "548574     False\n",
       "676512     False\n",
       "Name: loan_status, Length: 10000, dtype: bool"
      ]
     },
     "execution_count": 14,
     "metadata": {},
     "output_type": "execute_result"
    }
   ],
   "source": [
    "data.loan_status.isin(['Default'])"
   ]
  },
  {
   "cell_type": "markdown",
   "metadata": {},
   "source": [
    "\n",
    "## Categorical Variables\n",
    "\n",
    "The values of a categorical variable are selected from a group of **categories**, also called **labels**. Examples are gender (male or female) and marital status (never married, married, divorced or widowed). Other examples of categorical variables include:\n",
    "\n",
    "- Intended use of loan (debt-consolidation, car purchase, wedding expenses, ...)\n",
    "- Mobile network provider (Vodafone, Orange, ...)\n",
    "- Postcode\n",
    "\n",
    "Categorical variables can be further categorised into:\n",
    "\n",
    "- **Ordinal Variables**\n",
    "- **Nominal variables**\n",
    "\n",
    "### Ordinal Variable\n",
    "\n",
    "Ordinal variables are categorical variable in which the categories can be meaningfully ordered. For example:\n",
    "\n",
    "- Student's grade in an exam (A, B, C or Fail).\n",
    "- Days of the week, where Monday = 1 and Sunday = 7.\n",
    "- Educational level, with the categories Elementary school, High school, College graduate and PhD ranked from 1 to 4. \n",
    "\n",
    "### Nominal Variable\n",
    "\n",
    "For nominal variables, there isn't an intrinsic order in the labels. For example, country of birth, with values Argentina, England, Germany, etc., is nominal. Other examples of nominal variables include:\n",
    "\n",
    "- Car colour (blue, grey, silver, ...)\n",
    "- Vehicle make (Citroen, Peugeot, ...)\n",
    "- City (Manchester, London, Chester, ...)\n",
    "\n",
    "There is nothing that indicates an intrinsic order of the labels, and in principle, they are all equal.\n",
    "\n",
    "**To be considered:**\n",
    "\n",
    "Sometimes categorical variables are coded as numbers when the data are recorded (e.g. gender may be coded as 0 for males and 1 for females). The variable is still categorical, despite the use of numbers.\n",
    "\n",
    "In a similar way, individuals in a survey may be coded with a number that uniquely identifies them (for example to avoid storing personal information for confidentiality). This number is really a label, and the variable then categorical. The number has no meaning other than making it possible to uniquely identify the observation (in this case the interviewed subject).\n",
    "\n",
    "Ideally, when we work with a dataset in a business scenario, the data will come with a dictionary that indicates if the numbers in the variables are to be considered as categories or if they are numerical. And if the numbers are categories, the dictionary would explain what each value in the variable represents.\n",
    "\n",
    "=============================================================================\n",
    "\n",
    "## In this demo: Peer to peer lending (Finance)\n",
    "\n",
    "In this demo, we will use data from the peer-o-peer finance company **Lending Club** to inspect nominal categorical variables\n",
    "\n",
    "- To download the dataset, please refer to the **Datasets** lecture in **Section 1** of the course."
   ]
  },
  {
   "cell_type": "code",
   "execution_count": 16,
   "metadata": {},
   "outputs": [],
   "source": [
    "import pandas as pd\n",
    "import matplotlib.pyplot as plt\n",
    "%matplotlib inline"
   ]
  },
  {
   "cell_type": "code",
   "execution_count": 17,
   "metadata": {},
   "outputs": [
    {
     "data": {
      "text/html": [
       "<div>\n",
       "<style scoped>\n",
       "    .dataframe tbody tr th:only-of-type {\n",
       "        vertical-align: middle;\n",
       "    }\n",
       "\n",
       "    .dataframe tbody tr th {\n",
       "        vertical-align: top;\n",
       "    }\n",
       "\n",
       "    .dataframe thead th {\n",
       "        text-align: right;\n",
       "    }\n",
       "</style>\n",
       "<table border=\"1\" class=\"dataframe\">\n",
       "  <thead>\n",
       "    <tr style=\"text-align: right;\">\n",
       "      <th></th>\n",
       "      <th>id</th>\n",
       "      <th>home_ownership</th>\n",
       "      <th>loan_status</th>\n",
       "      <th>purpose</th>\n",
       "    </tr>\n",
       "  </thead>\n",
       "  <tbody>\n",
       "    <tr>\n",
       "      <th>70642</th>\n",
       "      <td>NaN</td>\n",
       "      <td>MORTGAGE</td>\n",
       "      <td>Current</td>\n",
       "      <td>other</td>\n",
       "    </tr>\n",
       "    <tr>\n",
       "      <th>490788</th>\n",
       "      <td>NaN</td>\n",
       "      <td>MORTGAGE</td>\n",
       "      <td>Current</td>\n",
       "      <td>debt_consolidation</td>\n",
       "    </tr>\n",
       "    <tr>\n",
       "      <th>2081591</th>\n",
       "      <td>NaN</td>\n",
       "      <td>MORTGAGE</td>\n",
       "      <td>Charged Off</td>\n",
       "      <td>debt_consolidation</td>\n",
       "    </tr>\n",
       "    <tr>\n",
       "      <th>900431</th>\n",
       "      <td>NaN</td>\n",
       "      <td>MORTGAGE</td>\n",
       "      <td>Fully Paid</td>\n",
       "      <td>home_improvement</td>\n",
       "    </tr>\n",
       "    <tr>\n",
       "      <th>781582</th>\n",
       "      <td>NaN</td>\n",
       "      <td>MORTGAGE</td>\n",
       "      <td>Fully Paid</td>\n",
       "      <td>debt_consolidation</td>\n",
       "    </tr>\n",
       "  </tbody>\n",
       "</table>\n",
       "</div>"
      ],
      "text/plain": [
       "         id home_ownership  loan_status             purpose\n",
       "70642   NaN       MORTGAGE      Current               other\n",
       "490788  NaN       MORTGAGE      Current  debt_consolidation\n",
       "2081591 NaN       MORTGAGE  Charged Off  debt_consolidation\n",
       "900431  NaN       MORTGAGE   Fully Paid    home_improvement\n",
       "781582  NaN       MORTGAGE   Fully Paid  debt_consolidation"
      ]
     },
     "execution_count": 17,
     "metadata": {},
     "output_type": "execute_result"
    }
   ],
   "source": [
    "# let's load the dataset with just a few columns and a few rows,\n",
    "# to speed things up\n",
    "\n",
    "# Variable definitions:\n",
    "#-------------------------\n",
    "# purpose: intended use of the loan\n",
    "# loan_status: loan statues, defaulted, paid, etc\n",
    "# home_ownership: whether the borrower owns or rents their property\n",
    "\n",
    "use_cols = ['id', 'purpose', 'loan_status', 'home_ownership']\n",
    "\n",
    "# this dataset is very big. To speed things up for the demo\n",
    "# I will randomly select 10,000 rows when I load the dataset\n",
    "# so I upload just 10,000 rows from the full dataset\n",
    "\n",
    "data = pd.read_csv('D:/ML-Datasets/Kaggle-Datasets/lending-club-loan-data/loan.csv', usecols=use_cols).sample(\n",
    "    10000, random_state=44)  # set a seed for reproducibility\n",
    "\n",
    "data.head()"
   ]
  },
  {
   "cell_type": "code",
   "execution_count": 18,
   "metadata": {},
   "outputs": [
    {
     "data": {
      "text/plain": [
       "array(['MORTGAGE', 'RENT', 'OWN', 'ANY', 'OTHER'], dtype=object)"
      ]
     },
     "execution_count": 18,
     "metadata": {},
     "output_type": "execute_result"
    }
   ],
   "source": [
    "# let's inspect the variable home ownership,\n",
    "# which indicates whether the borrowers own their home\n",
    "# or if they are renting, among other things.\n",
    "\n",
    "data.home_ownership.unique()"
   ]
  },
  {
   "cell_type": "code",
   "execution_count": 19,
   "metadata": {},
   "outputs": [
    {
     "data": {
      "text/plain": [
       "Text(0, 0.5, 'Number of customers')"
      ]
     },
     "execution_count": 19,
     "metadata": {},
     "output_type": "execute_result"
    },
    {
     "data": {
      "image/png": "[encoded data removed]",
      "text/plain": [
       "<Figure size 432x288 with 1 Axes>"
      ]
     },
     "metadata": {
      "needs_background": "light"
     },
     "output_type": "display_data"
    }
   ],
   "source": [
    "# let's make a bar plot, with the number of loans\n",
    "# for each category of home ownership\n",
    "\n",
    "# the code below counts the number of observations (borrowers)\n",
    "# within each category and then makes a bar plot\n",
    "\n",
    "fig = data['home_ownership'].value_counts().plot.bar()\n",
    "fig.set_title('Home Ownership')\n",
    "fig.set_ylabel('Number of customers')"
   ]
  },
  {
   "cell_type": "markdown",
   "metadata": {},
   "source": [
    "The majority of the borrowers either own their house on a mortgage or rent their property. A few borrowers own their home completely. The category 'Other' seems to be empty. To be completely sure, we could print the numbers as below:"
   ]
  },
  {
   "cell_type": "code",
   "execution_count": 20,
   "metadata": {},
   "outputs": [
    {
     "data": {
      "text/plain": [
       "MORTGAGE    4937\n",
       "RENT        3980\n",
       "OWN         1075\n",
       "ANY            6\n",
       "OTHER          2\n",
       "Name: home_ownership, dtype: int64"
      ]
     },
     "execution_count": 20,
     "metadata": {},
     "output_type": "execute_result"
    }
   ],
   "source": [
    "data['home_ownership'].value_counts()"
   ]
  },
  {
   "cell_type": "code",
   "execution_count": 21,
   "metadata": {},
   "outputs": [
    {
     "data": {
      "text/plain": [
       "array(['other', 'debt_consolidation', 'home_improvement', 'credit_card',\n",
       "       'moving', 'medical', 'car', 'major_purchase', 'house',\n",
       "       'small_business', 'vacation', 'renewable_energy', 'wedding'],\n",
       "      dtype=object)"
      ]
     },
     "execution_count": 21,
     "metadata": {},
     "output_type": "execute_result"
    }
   ],
   "source": [
    "# the \"purpose\" variable is another categorical variable\n",
    "# that indicates how the borrowers intend to use the\n",
    "# money they are borrowing, for example to improve their\n",
    "# house, or to cancel previous debt.\n",
    "\n",
    "data.purpose.unique()"
   ]
  },
  {
   "cell_type": "markdown",
   "metadata": {},
   "source": [
    "Debt consolidation means that the borrower would like a loan to cancel previous debts, car means that the borrower is borrowing the money to buy a car, and so on. It gives an idea of the intended use of the loan."
   ]
  },
  {
   "cell_type": "code",
   "execution_count": 22,
   "metadata": {},
   "outputs": [
    {
     "data": {
      "text/plain": [
       "Text(0, 0.5, 'Number of customers')"
      ]
     },
     "execution_count": 22,
     "metadata": {},
     "output_type": "execute_result"
    },
    {
     "data": {
      "image/png": "[encoded data removed]",
      "text/plain": [
       "<Figure size 432x288 with 1 Axes>"
      ]
     },
     "metadata": {
      "needs_background": "light"
     },
     "output_type": "display_data"
    }
   ],
   "source": [
    "# let's make a bar plot with the number of borrowers\n",
    "# within each category\n",
    "\n",
    "# the code below counts the number of observations (borrowers)\n",
    "# within each category and then makes a plot\n",
    "\n",
    "fig = data['purpose'].value_counts().plot.bar()\n",
    "fig.set_title('Loan Purpose')\n",
    "fig.set_ylabel('Number of customers')"
   ]
  },
  {
   "cell_type": "markdown",
   "metadata": {},
   "source": [
    "The majority of the borrowers intend to use the loan for 'debt consolidation' or to repay their 'credit cards'. This is quite common. What the borrowers intend to do is, to consolidate all the debt that they have on different financial items, in one single debt, the new loan that they will take from Lending Club in this case. This loan will usually provide an advantage to the borrower, either in the form of lower interest rates than a credit card, for example, or longer repayment period."
   ]
  },
  {
   "cell_type": "code",
   "execution_count": 23,
   "metadata": {},
   "outputs": [
    {
     "data": {
      "text/plain": [
       "array(['Current', 'Charged Off', 'Fully Paid',\n",
       "       'Does not meet the credit policy. Status:Fully Paid',\n",
       "       'Late (16-30 days)', 'Late (31-120 days)', 'In Grace Period',\n",
       "       'Does not meet the credit policy. Status:Charged Off'],\n",
       "      dtype=object)"
      ]
     },
     "execution_count": 23,
     "metadata": {},
     "output_type": "execute_result"
    }
   ],
   "source": [
    "# let's look at one additional categorical variable,\n",
    "# \"loan status\", which represents the current status\n",
    "# of the loan. This is whether the loan is still active\n",
    "# and being repaid, or if it was defaulted,\n",
    "# or if it was fully paid among other things.\n",
    "\n",
    "data.loan_status.unique()"
   ]
  },
  {
   "cell_type": "code",
   "execution_count": 24,
   "metadata": {},
   "outputs": [
    {
     "data": {
      "text/plain": [
       "Text(0, 0.5, 'Number of customers')"
      ]
     },
     "execution_count": 24,
     "metadata": {},
     "output_type": "execute_result"
    },
    {
     "data": {
      "image/png": "[encoded data removed]",
      "text/plain": [
       "<Figure size 432x288 with 1 Axes>"
      ]
     },
     "metadata": {
      "needs_background": "light"
     },
     "output_type": "display_data"
    }
   ],
   "source": [
    "# let's make a bar plot with the number of borrowers\n",
    "# within each category\n",
    "\n",
    "fig = data['loan_status'].value_counts().plot.bar()\n",
    "fig.set_title('Status of the Loan')\n",
    "fig.set_ylabel('Number of customers')"
   ]
  },
  {
   "cell_type": "markdown",
   "metadata": {},
   "source": [
    "We can see that the majority of the loans are active (current) and a big number have been 'Fully paid'. The remaining labels have the following meaning:\n",
    "- Late (16-30 days): customer missed a payment\n",
    "- Late (31-120 days): customer is behind in payments for more than a month\n",
    "- Charged off: the company declared that they will not be able to recover the money for that loan ( money is typically lost)\n",
    "- Issued: loan was granted but money not yet sent to borrower\n",
    "- In Grace Period: window of time agreed with customer to wait for payment, usually, when customer is behind in their payments"
   ]
  },
  {
   "cell_type": "code",
   "execution_count": 25,
   "metadata": {},
   "outputs": [
    {
     "data": {
      "text/plain": [
       "70642     NaN\n",
       "490788    NaN\n",
       "2081591   NaN\n",
       "900431    NaN\n",
       "781582    NaN\n",
       "Name: id, dtype: float64"
      ]
     },
     "execution_count": 25,
     "metadata": {},
     "output_type": "execute_result"
    }
   ],
   "source": [
    "# finally, let's look at a variable that is numerical,\n",
    "# but its numbers have no real meaning\n",
    "# their values are more \"labels\" than real numbers\n",
    "\n",
    "data['id'].head()"
   ]
  },
  {
   "cell_type": "markdown",
   "metadata": {},
   "source": [
    "Each id represents one customer. This number is assigned to identify the customer if needed, while \n",
    "maintaining confidentiality and ensuring data protection."
   ]
  },
  {
   "cell_type": "markdown",
   "metadata": {},
   "source": [
    "## Dates and Times\n",
    "\n",
    "A special type of categorical variable are those that instead of taking traditional labels, like color (blue, red), or city (London, Manchester), take dates and / or time as values. For example, date of birth ('29-08-1987', '12-01-2012'), or date of application ('2016-Dec', '2013-March').\n",
    "\n",
    "Datetime variables can contain dates only, time only, or date and time.\n",
    "\n",
    "We don't usually work with a datetime variable in their raw format because:\n",
    "\n",
    "- Date variables contain a huge number of different categories\n",
    "- We can extract much more information from datetime variables by preprocessing them correctly\n",
    "\n",
    "In addition, often, date variables will contain dates that were not present in the dataset used to train the machine learning model. In fact, date variables will usually contain dates placed in the future, respect to the dates in the training dataset. Therefore, the machine learning model will not know what to do with them, because it never saw them while being trained. \n",
    "\n",
    "**I will cover different was of pre-processing / engineering datetime variables in the section \"Engineering Datetime Variables\". later in this course**\n",
    "\n",
    "=============================================================================\n",
    "\n",
    "## In this demo: Peer to peer lending (Finance)\n",
    "\n",
    "In this demo, we will use data from the peer-o-peer finance company **Lending Club** to inspect nominal categorical variables\n",
    "\n",
    "- To download the dataset, please refer to the **Datasets** lecture in **Section 1** of the course."
   ]
  },
  {
   "cell_type": "code",
   "execution_count": 26,
   "metadata": {},
   "outputs": [],
   "source": [
    "import pandas as pd\n",
    "import numpy as np\n",
    "\n",
    "import matplotlib.pyplot as plt"
   ]
  },
  {
   "cell_type": "code",
   "execution_count": 27,
   "metadata": {},
   "outputs": [
    {
     "data": {
      "text/html": [
       "<div>\n",
       "<style scoped>\n",
       "    .dataframe tbody tr th:only-of-type {\n",
       "        vertical-align: middle;\n",
       "    }\n",
       "\n",
       "    .dataframe tbody tr th {\n",
       "        vertical-align: top;\n",
       "    }\n",
       "\n",
       "    .dataframe thead th {\n",
       "        text-align: right;\n",
       "    }\n",
       "</style>\n",
       "<table border=\"1\" class=\"dataframe\">\n",
       "  <thead>\n",
       "    <tr style=\"text-align: right;\">\n",
       "      <th></th>\n",
       "      <th>loan_amnt</th>\n",
       "      <th>grade</th>\n",
       "      <th>issue_d</th>\n",
       "      <th>purpose</th>\n",
       "      <th>last_pymnt_d</th>\n",
       "    </tr>\n",
       "  </thead>\n",
       "  <tbody>\n",
       "    <tr>\n",
       "      <th>0</th>\n",
       "      <td>2500</td>\n",
       "      <td>C</td>\n",
       "      <td>Dec-2018</td>\n",
       "      <td>debt_consolidation</td>\n",
       "      <td>Feb-2019</td>\n",
       "    </tr>\n",
       "    <tr>\n",
       "      <th>1</th>\n",
       "      <td>30000</td>\n",
       "      <td>D</td>\n",
       "      <td>Dec-2018</td>\n",
       "      <td>debt_consolidation</td>\n",
       "      <td>Feb-2019</td>\n",
       "    </tr>\n",
       "    <tr>\n",
       "      <th>2</th>\n",
       "      <td>5000</td>\n",
       "      <td>D</td>\n",
       "      <td>Dec-2018</td>\n",
       "      <td>debt_consolidation</td>\n",
       "      <td>Feb-2019</td>\n",
       "    </tr>\n",
       "    <tr>\n",
       "      <th>3</th>\n",
       "      <td>4000</td>\n",
       "      <td>D</td>\n",
       "      <td>Dec-2018</td>\n",
       "      <td>debt_consolidation</td>\n",
       "      <td>Feb-2019</td>\n",
       "    </tr>\n",
       "    <tr>\n",
       "      <th>4</th>\n",
       "      <td>30000</td>\n",
       "      <td>C</td>\n",
       "      <td>Dec-2018</td>\n",
       "      <td>debt_consolidation</td>\n",
       "      <td>Feb-2019</td>\n",
       "    </tr>\n",
       "  </tbody>\n",
       "</table>\n",
       "</div>"
      ],
      "text/plain": [
       "   loan_amnt grade   issue_d             purpose last_pymnt_d\n",
       "0       2500     C  Dec-2018  debt_consolidation     Feb-2019\n",
       "1      30000     D  Dec-2018  debt_consolidation     Feb-2019\n",
       "2       5000     D  Dec-2018  debt_consolidation     Feb-2019\n",
       "3       4000     D  Dec-2018  debt_consolidation     Feb-2019\n",
       "4      30000     C  Dec-2018  debt_consolidation     Feb-2019"
      ]
     },
     "execution_count": 27,
     "metadata": {},
     "output_type": "execute_result"
    }
   ],
   "source": [
    "# let's load the Lending Club dataset with a few selected columns\n",
    "\n",
    "# Variable definitions:\n",
    "#-------------------------\n",
    "# loan_amnt: loan amount requested by borrower\n",
    "# grade: risk markets in which borrowers are placed\n",
    "# purpose: intended use of the loan\n",
    "# issue_d: date the loan was issued\n",
    "# last_pymnt_d: date of last payment towards repyaing the loan\n",
    "\n",
    "use_cols = ['loan_amnt', 'grade', 'purpose', 'issue_d', 'last_pymnt_d']\n",
    "\n",
    "data = pd.read_csv('D:/ML-Datasets/Kaggle-Datasets/lending-club-loan-data/loan.csv', usecols=use_cols)\n",
    "\n",
    "data.head()"
   ]
  },
  {
   "cell_type": "code",
   "execution_count": 28,
   "metadata": {},
   "outputs": [
    {
     "data": {
      "text/plain": [
       "loan_amnt        int64\n",
       "grade           object\n",
       "issue_d         object\n",
       "purpose         object\n",
       "last_pymnt_d    object\n",
       "dtype: object"
      ]
     },
     "execution_count": 28,
     "metadata": {},
     "output_type": "execute_result"
    }
   ],
   "source": [
    "# pandas assigns type 'object' when reading dates\n",
    "# and considers them strings.\n",
    "# Let's have a look\n",
    "\n",
    "data.dtypes"
   ]
  },
  {
   "cell_type": "code",
   "execution_count": 29,
   "metadata": {},
   "outputs": [
    {
     "data": {
      "text/html": [
       "<div>\n",
       "<style scoped>\n",
       "    .dataframe tbody tr th:only-of-type {\n",
       "        vertical-align: middle;\n",
       "    }\n",
       "\n",
       "    .dataframe tbody tr th {\n",
       "        vertical-align: top;\n",
       "    }\n",
       "\n",
       "    .dataframe thead th {\n",
       "        text-align: right;\n",
       "    }\n",
       "</style>\n",
       "<table border=\"1\" class=\"dataframe\">\n",
       "  <thead>\n",
       "    <tr style=\"text-align: right;\">\n",
       "      <th></th>\n",
       "      <th>issue_d</th>\n",
       "      <th>issue_dt</th>\n",
       "      <th>last_pymnt_d</th>\n",
       "      <th>last_pymnt_dt</th>\n",
       "    </tr>\n",
       "  </thead>\n",
       "  <tbody>\n",
       "    <tr>\n",
       "      <th>0</th>\n",
       "      <td>Dec-2018</td>\n",
       "      <td>2018-12-01</td>\n",
       "      <td>Feb-2019</td>\n",
       "      <td>2019-02-01</td>\n",
       "    </tr>\n",
       "    <tr>\n",
       "      <th>1</th>\n",
       "      <td>Dec-2018</td>\n",
       "      <td>2018-12-01</td>\n",
       "      <td>Feb-2019</td>\n",
       "      <td>2019-02-01</td>\n",
       "    </tr>\n",
       "    <tr>\n",
       "      <th>2</th>\n",
       "      <td>Dec-2018</td>\n",
       "      <td>2018-12-01</td>\n",
       "      <td>Feb-2019</td>\n",
       "      <td>2019-02-01</td>\n",
       "    </tr>\n",
       "    <tr>\n",
       "      <th>3</th>\n",
       "      <td>Dec-2018</td>\n",
       "      <td>2018-12-01</td>\n",
       "      <td>Feb-2019</td>\n",
       "      <td>2019-02-01</td>\n",
       "    </tr>\n",
       "    <tr>\n",
       "      <th>4</th>\n",
       "      <td>Dec-2018</td>\n",
       "      <td>2018-12-01</td>\n",
       "      <td>Feb-2019</td>\n",
       "      <td>2019-02-01</td>\n",
       "    </tr>\n",
       "  </tbody>\n",
       "</table>\n",
       "</div>"
      ],
      "text/plain": [
       "    issue_d   issue_dt last_pymnt_d last_pymnt_dt\n",
       "0  Dec-2018 2018-12-01     Feb-2019    2019-02-01\n",
       "1  Dec-2018 2018-12-01     Feb-2019    2019-02-01\n",
       "2  Dec-2018 2018-12-01     Feb-2019    2019-02-01\n",
       "3  Dec-2018 2018-12-01     Feb-2019    2019-02-01\n",
       "4  Dec-2018 2018-12-01     Feb-2019    2019-02-01"
      ]
     },
     "execution_count": 29,
     "metadata": {},
     "output_type": "execute_result"
    }
   ],
   "source": [
    "# now let's parse the dates, currently coded as strings, into datetime format\n",
    "# this will allow us to make some analysis afterwards\n",
    "\n",
    "data['issue_dt'] = pd.to_datetime(data.issue_d)\n",
    "data['last_pymnt_dt'] = pd.to_datetime(data.last_pymnt_d)\n",
    "\n",
    "data[['issue_d', 'issue_dt', 'last_pymnt_d', 'last_pymnt_dt']].head()"
   ]
  },
  {
   "cell_type": "code",
   "execution_count": 30,
   "metadata": {},
   "outputs": [
    {
     "data": {
      "text/plain": [
       "Text(0, 0.5, 'Disbursed Amount (US Dollars)')"
      ]
     },
     "execution_count": 30,
     "metadata": {},
     "output_type": "execute_result"
    },
    {
     "data": {
      "image/png": "[encoded data removed]",
      "text/plain": [
       "<Figure size 1008x576 with 1 Axes>"
      ]
     },
     "metadata": {
      "needs_background": "light"
     },
     "output_type": "display_data"
    }
   ],
   "source": [
    "# let's see how much money Lending Club has disbursed\n",
    "# (i.e., lent) over the years to the different risk\n",
    "# markets (grade variable)\n",
    "\n",
    "fig = data.groupby(['issue_dt', 'grade'])['loan_amnt'].sum().unstack().plot(\n",
    "    figsize=(14, 8), linewidth=2)\n",
    "\n",
    "fig.set_title('Disbursed amount in time')\n",
    "fig.set_ylabel('Disbursed Amount (US Dollars)')"
   ]
  },
  {
   "cell_type": "markdown",
   "metadata": {},
   "source": [
    "## Mixed Variables\n",
    "\n",
    "Mixed variables are those which values contain both numbers and labels.\n",
    "\n",
    "Variables can be mixed for a variety of reasons. For example, when credit agencies gather and store financial information of users, usually, the values of the variables they store are numbers. However, in some cases the credit agencies cannot retrieve information for a certain user for different reasons. What Credit Agencies do in these situations is to code each different reason due to which they failed to retrieve information with a different code or 'label'. Like this, they generate mixed type variables. These variables contain numbers when the value could be retrieved, or labels otherwise.\n",
    "\n",
    "As an example, think of the variable 'number_of_open_accounts'. It can take any number, representing the number of different financial accounts of the borrower. Sometimes, information may not be available for a certain borrower, for a variety of reasons. Each reason will be coded by a different letter, for example: 'A': couldn't identify the person, 'B': no relevant data, 'C': person seems not to have any open account.\n",
    "\n",
    "Another example of mixed type variables, is for example the variable missed_payment_status. This variable indicates, whether a borrower has missed a (any) payment in their financial item. For example, if the borrower has a credit card, this variable indicates whether they missed a monthly payment on it. Therefore, this variable can take values of 0, 1, 2, 3 meaning that the customer has missed 0-3 payments in their account. And it can also take the value D, if the customer defaulted on that account.\n",
    "\n",
    "Typically, once the customer has missed 3 payments, the lender declares the item defaulted (D), that is why this variable takes numerical values 0-3 and then D.\n",
    "\n",
    "For this demo, you will need to download a toy csv file called sample_s2.csv. The file comes within the folder with the Jupyter Notebooks in the lecture **\"Jupyter Notebooks\"** in **Section 1** and it is also attached as a download-able resource to the video lecture corresponding to this Notebook."
   ]
  },
  {
   "cell_type": "code",
   "execution_count": 31,
   "metadata": {},
   "outputs": [],
   "source": [
    "import pandas as pd\n",
    "import matplotlib.pyplot as plt"
   ]
  },
  {
   "cell_type": "code",
   "execution_count": 32,
   "metadata": {},
   "outputs": [
    {
     "data": {
      "text/html": [
       "<div>\n",
       "<style scoped>\n",
       "    .dataframe tbody tr th:only-of-type {\n",
       "        vertical-align: middle;\n",
       "    }\n",
       "\n",
       "    .dataframe tbody tr th {\n",
       "        vertical-align: top;\n",
       "    }\n",
       "\n",
       "    .dataframe thead th {\n",
       "        text-align: right;\n",
       "    }\n",
       "</style>\n",
       "<table border=\"1\" class=\"dataframe\">\n",
       "  <thead>\n",
       "    <tr style=\"text-align: right;\">\n",
       "      <th></th>\n",
       "      <th>id</th>\n",
       "      <th>open_il_24m</th>\n",
       "    </tr>\n",
       "  </thead>\n",
       "  <tbody>\n",
       "    <tr>\n",
       "      <th>0</th>\n",
       "      <td>1077501</td>\n",
       "      <td>C</td>\n",
       "    </tr>\n",
       "    <tr>\n",
       "      <th>1</th>\n",
       "      <td>1077430</td>\n",
       "      <td>A</td>\n",
       "    </tr>\n",
       "    <tr>\n",
       "      <th>2</th>\n",
       "      <td>1077175</td>\n",
       "      <td>A</td>\n",
       "    </tr>\n",
       "    <tr>\n",
       "      <th>3</th>\n",
       "      <td>1076863</td>\n",
       "      <td>A</td>\n",
       "    </tr>\n",
       "    <tr>\n",
       "      <th>4</th>\n",
       "      <td>1075358</td>\n",
       "      <td>A</td>\n",
       "    </tr>\n",
       "  </tbody>\n",
       "</table>\n",
       "</div>"
      ],
      "text/plain": [
       "        id open_il_24m\n",
       "0  1077501           C\n",
       "1  1077430           A\n",
       "2  1077175           A\n",
       "3  1076863           A\n",
       "4  1075358           A"
      ]
     },
     "execution_count": 32,
     "metadata": {},
     "output_type": "execute_result"
    }
   ],
   "source": [
    "# open_il_24m indicates:\n",
    "# \"Number of installment accounts opened in past 24 months\".\n",
    "# Installment accounts are those that, at the moment of acquiring them,\n",
    "# there is a set period and amount of repayments agreed between the\n",
    "# lender and borrower. An example of this is a car loan, or a student loan.\n",
    "# the borrowers know that they are going to pay a fixed amount over a fixed period\n",
    "\n",
    "data = pd.read_csv('D:\\\\ML-Datasets\\\\Udemy-FeatureEngg\\\\sample_s2.csv')\n",
    "data.head()"
   ]
  },
  {
   "cell_type": "code",
   "execution_count": 33,
   "metadata": {},
   "outputs": [
    {
     "data": {
      "text/plain": [
       "(887379, 2)"
      ]
     },
     "execution_count": 33,
     "metadata": {},
     "output_type": "execute_result"
    }
   ],
   "source": [
    "# Check the data dimensions\n",
    "data.shape"
   ]
  },
  {
   "cell_type": "code",
   "execution_count": 34,
   "metadata": {},
   "outputs": [
    {
     "data": {
      "text/plain": [
       "array(['C', 'A', 'B', '0.0', '1.0', '2.0', '4.0', '3.0', '6.0', '5.0',\n",
       "       '9.0', '7.0', '8.0', '13.0', '10.0', '19.0', '11.0', '12.0',\n",
       "       '14.0', '15.0'], dtype=object)"
      ]
     },
     "execution_count": 34,
     "metadata": {},
     "output_type": "execute_result"
    }
   ],
   "source": [
    "# Fictitious meaning of the different letters / codes\n",
    "# in the variable:\n",
    "# 'A': couldn't identify the person\n",
    "# 'B': no relevant data\n",
    "# 'C': person seems not to have any account open\n",
    "\n",
    "data.open_il_24m.unique()"
   ]
  },
  {
   "cell_type": "code",
   "execution_count": 35,
   "metadata": {},
   "outputs": [
    {
     "data": {
      "text/plain": [
       "Text(0, 0.5, 'Number of borrowers')"
      ]
     },
     "execution_count": 35,
     "metadata": {},
     "output_type": "execute_result"
    },
    {
     "data": {
      "image/png": "[encoded data removed]",
      "text/plain": [
       "<Figure size 432x288 with 1 Axes>"
      ]
     },
     "metadata": {
      "needs_background": "light"
     },
     "output_type": "display_data"
    }
   ],
   "source": [
    "# Now, let's make a bar plot showing the different number of \n",
    "# borrowers for each of the values of the mixed variable\n",
    "\n",
    "fig = data.open_il_24m.value_counts().plot.bar()\n",
    "fig.set_title('Number of installment accounts open')\n",
    "fig.set_ylabel('Number of borrowers')"
   ]
  },
  {
   "cell_type": "code",
   "execution_count": null,
   "metadata": {},
   "outputs": [],
   "source": []
  }
 ],
 "metadata": {
  "kernelspec": {
   "display_name": "Python 3",
   "language": "python",
   "name": "python3"
  },
  "language_info": {
   "codemirror_mode": {
    "name": "ipython",
    "version": 3
   },
   "file_extension": ".py",
   "mimetype": "text/x-python",
   "name": "python",
   "nbconvert_exporter": "python",
   "pygments_lexer": "ipython3",
   "version": "3.8.5"
  }
 },
 "nbformat": 4,
 "nbformat_minor": 4
}
