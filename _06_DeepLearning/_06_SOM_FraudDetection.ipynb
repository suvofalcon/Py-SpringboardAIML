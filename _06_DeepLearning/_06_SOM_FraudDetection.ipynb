{
 "cells": [
  {
   "cell_type": "markdown",
   "metadata": {},
   "source": [
    "## Implementing Self Organizing Maps for Fraud Detection\n",
    "\n",
    "Let's imagine we are deep learning scientists working for a bank and we are given a data set that contains information of customers from this bank applying for an advanced credit card.\n",
    "\n",
    "So basically, these informations are the data that customers had to provide when filling the application form. And our mission, is to detect potential fraud within these applications. So that means that by the end of the mission, we have to give the explicit list, of the customers who potentially cheated. So our goal is very explicit, we have to return something. \n",
    "\n",
    "However, to return this something, that is the list of potential fraudulent customers, we will not make a supervised deep learning model and try to predict if each customer potentially cheated, yes or no, you know, with a dependent variable that has binary values. No, this is not what we're gonna do. What we're gonna do is unsupervised deep learning, which means that we will identify some patterns in a high dimensional data sets full of nonlinear relationships.\n",
    "\n",
    "And one of these patterns will be the potential fraud. That is the customers who potentially cheated."
   ]
  },
  {
   "cell_type": "code",
   "execution_count": 78,
   "metadata": {},
   "outputs": [],
   "source": [
    "# Library imports\n",
    "import numpy as np\n",
    "import matplotlib.pyplot as plt\n",
    "%matplotlib inline\n",
    "import pandas as pd"
   ]
  },
  {
   "cell_type": "markdown",
   "metadata": {},
   "source": [
    "### Data Load"
   ]
  },
  {
   "cell_type": "code",
   "execution_count": 79,
   "metadata": {},
   "outputs": [
    {
     "data": {
      "text/html": [
       "<div>\n",
       "<style scoped>\n",
       "    .dataframe tbody tr th:only-of-type {\n",
       "        vertical-align: middle;\n",
       "    }\n",
       "\n",
       "    .dataframe tbody tr th {\n",
       "        vertical-align: top;\n",
       "    }\n",
       "\n",
       "    .dataframe thead th {\n",
       "        text-align: right;\n",
       "    }\n",
       "</style>\n",
       "<table border=\"1\" class=\"dataframe\">\n",
       "  <thead>\n",
       "    <tr style=\"text-align: right;\">\n",
       "      <th></th>\n",
       "      <th>CustomerID</th>\n",
       "      <th>A1</th>\n",
       "      <th>A2</th>\n",
       "      <th>A3</th>\n",
       "      <th>A4</th>\n",
       "      <th>A5</th>\n",
       "      <th>A6</th>\n",
       "      <th>A7</th>\n",
       "      <th>A8</th>\n",
       "      <th>A9</th>\n",
       "      <th>A10</th>\n",
       "      <th>A11</th>\n",
       "      <th>A12</th>\n",
       "      <th>A13</th>\n",
       "      <th>A14</th>\n",
       "      <th>Class</th>\n",
       "    </tr>\n",
       "  </thead>\n",
       "  <tbody>\n",
       "    <tr>\n",
       "      <th>0</th>\n",
       "      <td>15776156</td>\n",
       "      <td>1</td>\n",
       "      <td>22.08</td>\n",
       "      <td>11.46</td>\n",
       "      <td>2</td>\n",
       "      <td>4</td>\n",
       "      <td>4</td>\n",
       "      <td>1.585</td>\n",
       "      <td>0</td>\n",
       "      <td>0</td>\n",
       "      <td>0</td>\n",
       "      <td>1</td>\n",
       "      <td>2</td>\n",
       "      <td>100</td>\n",
       "      <td>1213</td>\n",
       "      <td>0</td>\n",
       "    </tr>\n",
       "    <tr>\n",
       "      <th>1</th>\n",
       "      <td>15739548</td>\n",
       "      <td>0</td>\n",
       "      <td>22.67</td>\n",
       "      <td>7.00</td>\n",
       "      <td>2</td>\n",
       "      <td>8</td>\n",
       "      <td>4</td>\n",
       "      <td>0.165</td>\n",
       "      <td>0</td>\n",
       "      <td>0</td>\n",
       "      <td>0</td>\n",
       "      <td>0</td>\n",
       "      <td>2</td>\n",
       "      <td>160</td>\n",
       "      <td>1</td>\n",
       "      <td>0</td>\n",
       "    </tr>\n",
       "    <tr>\n",
       "      <th>2</th>\n",
       "      <td>15662854</td>\n",
       "      <td>0</td>\n",
       "      <td>29.58</td>\n",
       "      <td>1.75</td>\n",
       "      <td>1</td>\n",
       "      <td>4</td>\n",
       "      <td>4</td>\n",
       "      <td>1.250</td>\n",
       "      <td>0</td>\n",
       "      <td>0</td>\n",
       "      <td>0</td>\n",
       "      <td>1</td>\n",
       "      <td>2</td>\n",
       "      <td>280</td>\n",
       "      <td>1</td>\n",
       "      <td>0</td>\n",
       "    </tr>\n",
       "    <tr>\n",
       "      <th>3</th>\n",
       "      <td>15687688</td>\n",
       "      <td>0</td>\n",
       "      <td>21.67</td>\n",
       "      <td>11.50</td>\n",
       "      <td>1</td>\n",
       "      <td>5</td>\n",
       "      <td>3</td>\n",
       "      <td>0.000</td>\n",
       "      <td>1</td>\n",
       "      <td>1</td>\n",
       "      <td>11</td>\n",
       "      <td>1</td>\n",
       "      <td>2</td>\n",
       "      <td>0</td>\n",
       "      <td>1</td>\n",
       "      <td>1</td>\n",
       "    </tr>\n",
       "    <tr>\n",
       "      <th>4</th>\n",
       "      <td>15715750</td>\n",
       "      <td>1</td>\n",
       "      <td>20.17</td>\n",
       "      <td>8.17</td>\n",
       "      <td>2</td>\n",
       "      <td>6</td>\n",
       "      <td>4</td>\n",
       "      <td>1.960</td>\n",
       "      <td>1</td>\n",
       "      <td>1</td>\n",
       "      <td>14</td>\n",
       "      <td>0</td>\n",
       "      <td>2</td>\n",
       "      <td>60</td>\n",
       "      <td>159</td>\n",
       "      <td>1</td>\n",
       "    </tr>\n",
       "  </tbody>\n",
       "</table>\n",
       "</div>"
      ],
      "text/plain": [
       "   CustomerID  A1     A2     A3  A4  A5  A6     A7  A8  A9  A10  A11  A12  \\\n",
       "0    15776156   1  22.08  11.46   2   4   4  1.585   0   0    0    1    2   \n",
       "1    15739548   0  22.67   7.00   2   8   4  0.165   0   0    0    0    2   \n",
       "2    15662854   0  29.58   1.75   1   4   4  1.250   0   0    0    1    2   \n",
       "3    15687688   0  21.67  11.50   1   5   3  0.000   1   1   11    1    2   \n",
       "4    15715750   1  20.17   8.17   2   6   4  1.960   1   1   14    0    2   \n",
       "\n",
       "   A13   A14  Class  \n",
       "0  100  1213      0  \n",
       "1  160     1      0  \n",
       "2  280     1      0  \n",
       "3    0     1      1  \n",
       "4   60   159      1  "
      ]
     },
     "execution_count": 79,
     "metadata": {},
     "output_type": "execute_result"
    }
   ],
   "source": [
    "dataset = pd.read_csv(\"D:\\\\ML-Datasets\\\\Udemy-DeepLearning\\\\Credit_Card_Applications.csv\")\n",
    "\n",
    "# Check the data load\n",
    "dataset.head()"
   ]
  },
  {
   "cell_type": "code",
   "execution_count": 80,
   "metadata": {},
   "outputs": [
    {
     "data": {
      "text/plain": [
       "CustomerID    0\n",
       "A1            0\n",
       "A2            0\n",
       "A3            0\n",
       "A4            0\n",
       "A5            0\n",
       "A6            0\n",
       "A7            0\n",
       "A8            0\n",
       "A9            0\n",
       "A10           0\n",
       "A11           0\n",
       "A12           0\n",
       "A13           0\n",
       "A14           0\n",
       "Class         0\n",
       "dtype: int64"
      ]
     },
     "execution_count": 80,
     "metadata": {},
     "output_type": "execute_result"
    }
   ],
   "source": [
    "# Check for any missing values\n",
    "dataset.isna().sum()"
   ]
  },
  {
   "cell_type": "markdown",
   "metadata": {},
   "source": [
    "### Data Preparation"
   ]
  },
  {
   "cell_type": "markdown",
   "metadata": {},
   "source": [
    "* The unsupervised deep learning model is going to identify some patterns. Well, by patterns, I mean customers, so it's going to do some kind of customer segmentation to identify segments of customers and one of the segments will contain the customers that potentially cheated.<br><br>\n",
    "\n",
    "* Now let's go deeper into the details of what this first unsupervised deep learning model is going to do, with all these customers. So first of all, all these customers are the input, these customers are the inputs of our neural network. And then what happens is that these input points are going to be mapped to a new output space. And between the input space and the output space, we have this neural network composed of neurons, each neuron being initialized as a vector of weights that is the same size as the vector of customer that is a vector of 15 elements, because we have the customer ID plus 14 attributes. And so for each observation point that is for each customer, he output of this customer, will be the neuron hat is the closest to the customer. So basically, in the network, we pick the neuron that is the closest to the customer. And remember, this neuron is called the winning node, for each customer, the winning node is the most similar neuron to the customer, then, you know, we use a neighborhood function like the galch neighborhood function, to update the weight of the neighbors of the winning node to move them closer to the point.<br><br>\n",
    "\n",
    "* And we do this for all the customers in the input space. And we'll repeat that again. We'll repeat all this many times. And each time we'll repeat it, the output space decreases and loses dimensions. It reduces its dimension little by little. And then it reaches a point where the neighborhood stops decreasing, where the output space stops decreasing. nd that's the moment where we obtained our self organizing map in two dimensions with all the winning nodes that were eventually identified. And so now we're getting closer to the frauds.<br><br>\n",
    "\n",
    "* So the frauds are actually the outlying neurons in this two dimensional self organizing map, simply because the outline neurons are far from the majority of neurons that follow the rules.<br><br>\n",
    "\n",
    "* And so now the question is, how can we detect the outline neurons in the self organizing map? Well, for this, we need the MID, the Mean Interneuron Distance. That means that in our self organizing map for each neuron, we're going to compute the mean of the Euclidean distance between this neuron and the neurons in its neighborhood. And so what neighborhood is that? Well, we have to define it manually. But we define a neighborhood for each neuron. And we compute the mean of the Euclidean distance between this neuron that we picked and all the neurons in the neighborhood that we defined. And by doing that we can detect outliers, because outliers will be far from all the neurons in its neighborhood.<br><br>\n",
    "\n",
    "* And then we'll use an inverse mapping function to identify which customers originally in the input space are associated to this winning node, that is an outlier."
   ]
  },
  {
   "cell_type": "markdown",
   "metadata": {},
   "source": [
    "Now we need to split the data sets into two subsets, the sets that contain all the variables from customer ID to attribute number 14, and the class that is the variable that tells if yes or no the application of the customer was approved. So zero is no, the application was not approved. And one means yes, the application was approved. And so we want to separate all these variables here and the variable class here, so that's on the self organizing map, we can clearly distinguish the customers who weren't approved their application and the customers who got approval, because then that will be useful, for example, if we want to detect in priority, the fraudulent customers who got their applications approved."
   ]
  },
  {
   "cell_type": "code",
   "execution_count": 81,
   "metadata": {},
   "outputs": [],
   "source": [
    "# seggregating two sets\n",
    "X = dataset.iloc[:, :-1].values\n",
    "y = dataset.iloc[:, -1].values"
   ]
  },
  {
   "cell_type": "markdown",
   "metadata": {},
   "source": [
    "So now there is an important point to make, we splited our data sets into x and y. But be careful we did not do that because we're doing some supervised learning, we're not trying to make a model that will predict zero or one in the end. We're just doing this to make the distinction in the end between the customers who were approved and the customers who were not approved. \n",
    "\n",
    "Also when we train our self organizing map we will only use x because we are doing some unsupervised deep learning, that means that no dependent variable is considered."
   ]
  },
  {
   "cell_type": "code",
   "execution_count": 82,
   "metadata": {},
   "outputs": [],
   "source": [
    "# Feature Scaling\n",
    "\n",
    "from sklearn.preprocessing import MinMaxScaler\n",
    "sc = MinMaxScaler(feature_range=(0, 1))\n",
    "X = sc.fit_transform(X)"
   ]
  },
  {
   "cell_type": "markdown",
   "metadata": {},
   "source": [
    "### Build and train the SOM"
   ]
  },
  {
   "cell_type": "markdown",
   "metadata": {},
   "source": [
    "Because we're doing some unsupervised learning. That is, we are trained to identify some patterns inside the independent variables that are contained in x and we don't use the information of the dependent variable. We don't consider that information in y here."
   ]
  },
  {
   "cell_type": "markdown",
   "metadata": {},
   "source": [
    "* The first argument is So as we can see here, the first arguments are x and y which are of course the dimensions of the gridto self-organizing map. So here the choice is pretty arbitrary. We can choose whatever dimensions we want for our self-organizing map. It must not be too small because we want to get the outliers pretty in evidence and only if you want to be very accurate with your search of outliers well, you can make a bigger map. But here, we don't have that much observations. We don't have that much customers in our dataset Credit card applications, so we're just gonna make a 10 by 10 grid and therefore, here we're going to input x equals 10 and y equals 10.<br><br>\n",
    "\n",
    "* The next parameter input_len is the number of features we have in our data <br><br>\n",
    "* The next parameter sigma is the radius of the neighbourhood - we will keep the default value <br><br>\n",
    "* and then we have the learning rate, which remember is this hyper-parameter that decides by how much the weights are updated during each iteration. So the higher is the learning rate, the faster there will be convergence and the lower is the learning rate, the longer the self-organizing map will take time to be built. And so same here, we're gonna keep it to default value 0.5<br><br>\n",
    "* Finally we have the decay function parameter that can be used to improve the convergence. But here we're going to leave it to none and not use a decay."
   ]
  },
  {
   "cell_type": "code",
   "execution_count": 83,
   "metadata": {},
   "outputs": [],
   "source": [
    "# We will use an implementation of SOM in Python and the code is present in minisom.py\n",
    "# We will import the file and class\n",
    "\n",
    "from minisom import MiniSom\n",
    "som = MiniSom(x=10, y=10, input_len=X.shape[1], sigma=1.0, learning_rate=0.5)"
   ]
  },
  {
   "cell_type": "markdown",
   "metadata": {},
   "source": [
    "A quick recap on the training steps for SOM\n",
    "\n",
    "<img src = \"resources\\Annotation 2019-11-10 200310.png\" />"
   ]
  },
  {
   "cell_type": "code",
   "execution_count": 84,
   "metadata": {},
   "outputs": [],
   "source": [
    "# Now we will initialize the weights\n",
    "som.random_weights_init(X)\n",
    "\n",
    "# Now we will train for number of iterations \n",
    "som.train_random(data=X, num_iteration=100)"
   ]
  },
  {
   "cell_type": "markdown",
   "metadata": {},
   "source": [
    "### Analyze and Visualize the results"
   ]
  },
  {
   "cell_type": "markdown",
   "metadata": {},
   "source": [
    "What we are about to see is clearly there's two dimensional grid that will contain all the final winning nodes and for each of these winning nodes we will get what is most important for us that is, the MID; the Mean Interneuron Distance. And I remind that the MID of a specific winning node is the mean of the distances of all the neurons around the winning node inside a neighborhood that we defined.\n",
    "\n",
    "And so basically the higher is the MID Then the more the winning node will be far away from it's neighbors. Inside a neighborhood. And therefore the higher is the MID, the more the winning node is an outlier."
   ]
  },
  {
   "cell_type": "code",
   "execution_count": 85,
   "metadata": {},
   "outputs": [],
   "source": [
    "# import libraries for visualizations\n",
    "from pylab import bone, pcolor, colorbar, plot, show"
   ]
  },
  {
   "cell_type": "code",
   "execution_count": 86,
   "metadata": {},
   "outputs": [
    {
     "data": {
      "image/png": "[encoded data removed]",
      "text/plain": [
       "<Figure size 720x576 with 2 Axes>"
      ]
     },
     "metadata": {
      "needs_background": "light"
     },
     "output_type": "display_data"
    }
   ],
   "source": [
    "plt.figure(figsize=(10,8))\n",
    "\n",
    "# initialize the window that will contain the map\n",
    "bone()\n",
    "\n",
    "# Then we are going to add all the mean interneron distances of the winning nodes and represent them as colors\n",
    "# to get things in right order for pcolor we need to take the transpose matrix\n",
    "pcolor(som.distance_map().T)\n",
    "\n",
    "# Now in order to understand, which color corresponds to a high or low MID\n",
    "colorbar()\n",
    "\n",
    "# Now we are going to create markers\n",
    "markers = ['o', 's'] # 'o' is for circle and 's' is for square\n",
    "colors = ['r', 'g']\n",
    "\n",
    "# now in order to establish an association between markers and colors, we are going to loop through all customers\n",
    "# and if a customer's application was not approved, we will mark it as 'red circle' and if approved 'green square'\n",
    "\n",
    "for i, j in enumerate(X): # i is the index for every customer (row) and j is the entire vector(all columns) for that row\n",
    "    w = som.winner(j) # Now we will get the winning node for that vector\n",
    "    plot(w[0] + 0.5, w[1] + 0.5, markers[y[i]], markeredgecolor =  colors[y[i]],\n",
    "        markerfacecolor = 'None', markersize = 10,\n",
    "        markeredgewidth = 2)\n",
    "show()"
   ]
  },
  {
   "cell_type": "markdown",
   "metadata": {},
   "source": [
    "So we see the white ones are the with the highest MIDs and the black ones are closest to the datapoints. Now we can get to the next step to get the explicit list of the customers, by just proceed to the inverse mapping of this winning node to see which customers are associated to this winning node.\n",
    "\n",
    "We also see that there are some white nodes, where some customers are approved credit, even if we think the white boxes are potential frauds. "
   ]
  },
  {
   "cell_type": "markdown",
   "metadata": {},
   "source": [
    "### Associating the SOM to the actual data points"
   ]
  },
  {
   "cell_type": "code",
   "execution_count": 87,
   "metadata": {},
   "outputs": [
    {
     "data": {
      "text/html": [
       "<div>\n",
       "<style scoped>\n",
       "    .dataframe tbody tr th:only-of-type {\n",
       "        vertical-align: middle;\n",
       "    }\n",
       "\n",
       "    .dataframe tbody tr th {\n",
       "        vertical-align: top;\n",
       "    }\n",
       "\n",
       "    .dataframe thead th {\n",
       "        text-align: right;\n",
       "    }\n",
       "</style>\n",
       "<table border=\"1\" class=\"dataframe\">\n",
       "  <thead>\n",
       "    <tr style=\"text-align: right;\">\n",
       "      <th></th>\n",
       "      <th>0</th>\n",
       "      <th>1</th>\n",
       "      <th>2</th>\n",
       "      <th>3</th>\n",
       "      <th>4</th>\n",
       "      <th>5</th>\n",
       "      <th>6</th>\n",
       "      <th>7</th>\n",
       "      <th>8</th>\n",
       "      <th>9</th>\n",
       "      <th>10</th>\n",
       "      <th>11</th>\n",
       "      <th>12</th>\n",
       "      <th>13</th>\n",
       "      <th>14</th>\n",
       "    </tr>\n",
       "  </thead>\n",
       "  <tbody>\n",
       "    <tr>\n",
       "      <th>0</th>\n",
       "      <td>15786237.0</td>\n",
       "      <td>0.0</td>\n",
       "      <td>19.17</td>\n",
       "      <td>0.585</td>\n",
       "      <td>1.0</td>\n",
       "      <td>6.0</td>\n",
       "      <td>4.0</td>\n",
       "      <td>0.585</td>\n",
       "      <td>1.0</td>\n",
       "      <td>0.0</td>\n",
       "      <td>0.0</td>\n",
       "      <td>1.0</td>\n",
       "      <td>2.0</td>\n",
       "      <td>160.0</td>\n",
       "      <td>1.0</td>\n",
       "    </tr>\n",
       "    <tr>\n",
       "      <th>1</th>\n",
       "      <td>15767358.0</td>\n",
       "      <td>0.0</td>\n",
       "      <td>49.83</td>\n",
       "      <td>13.585</td>\n",
       "      <td>2.0</td>\n",
       "      <td>4.0</td>\n",
       "      <td>8.0</td>\n",
       "      <td>8.500</td>\n",
       "      <td>1.0</td>\n",
       "      <td>0.0</td>\n",
       "      <td>0.0</td>\n",
       "      <td>1.0</td>\n",
       "      <td>2.0</td>\n",
       "      <td>0.0</td>\n",
       "      <td>1.0</td>\n",
       "    </tr>\n",
       "    <tr>\n",
       "      <th>2</th>\n",
       "      <td>15740487.0</td>\n",
       "      <td>0.0</td>\n",
       "      <td>49.00</td>\n",
       "      <td>1.500</td>\n",
       "      <td>2.0</td>\n",
       "      <td>5.0</td>\n",
       "      <td>3.0</td>\n",
       "      <td>0.000</td>\n",
       "      <td>1.0</td>\n",
       "      <td>0.0</td>\n",
       "      <td>0.0</td>\n",
       "      <td>1.0</td>\n",
       "      <td>2.0</td>\n",
       "      <td>100.0</td>\n",
       "      <td>28.0</td>\n",
       "    </tr>\n",
       "    <tr>\n",
       "      <th>3</th>\n",
       "      <td>15811742.0</td>\n",
       "      <td>0.0</td>\n",
       "      <td>36.75</td>\n",
       "      <td>5.125</td>\n",
       "      <td>2.0</td>\n",
       "      <td>10.0</td>\n",
       "      <td>4.0</td>\n",
       "      <td>5.000</td>\n",
       "      <td>1.0</td>\n",
       "      <td>0.0</td>\n",
       "      <td>0.0</td>\n",
       "      <td>1.0</td>\n",
       "      <td>2.0</td>\n",
       "      <td>0.0</td>\n",
       "      <td>4001.0</td>\n",
       "    </tr>\n",
       "    <tr>\n",
       "      <th>4</th>\n",
       "      <td>15802869.0</td>\n",
       "      <td>0.0</td>\n",
       "      <td>30.25</td>\n",
       "      <td>5.500</td>\n",
       "      <td>2.0</td>\n",
       "      <td>4.0</td>\n",
       "      <td>4.0</td>\n",
       "      <td>5.500</td>\n",
       "      <td>0.0</td>\n",
       "      <td>0.0</td>\n",
       "      <td>0.0</td>\n",
       "      <td>1.0</td>\n",
       "      <td>1.0</td>\n",
       "      <td>100.0</td>\n",
       "      <td>1.0</td>\n",
       "    </tr>\n",
       "  </tbody>\n",
       "</table>\n",
       "</div>"
      ],
      "text/plain": [
       "            0    1      2       3    4     5    6      7    8    9   10   11  \\\n",
       "0  15786237.0  0.0  19.17   0.585  1.0   6.0  4.0  0.585  1.0  0.0  0.0  1.0   \n",
       "1  15767358.0  0.0  49.83  13.585  2.0   4.0  8.0  8.500  1.0  0.0  0.0  1.0   \n",
       "2  15740487.0  0.0  49.00   1.500  2.0   5.0  3.0  0.000  1.0  0.0  0.0  1.0   \n",
       "3  15811742.0  0.0  36.75   5.125  2.0  10.0  4.0  5.000  1.0  0.0  0.0  1.0   \n",
       "4  15802869.0  0.0  30.25   5.500  2.0   4.0  4.0  5.500  0.0  0.0  0.0  1.0   \n",
       "\n",
       "    12     13      14  \n",
       "0  2.0  160.0     1.0  \n",
       "1  2.0    0.0     1.0  \n",
       "2  2.0  100.0    28.0  \n",
       "3  2.0    0.0  4001.0  \n",
       "4  1.0  100.0     1.0  "
      ]
     },
     "execution_count": 87,
     "metadata": {},
     "output_type": "execute_result"
    }
   ],
   "source": [
    "# Finding the frauds\n",
    "# This returns a dictionary, with the coordinates of the winning nodes and list of customers falling within that winning node\n",
    "mappings = som.win_map(data=X)\n",
    "frauds = np.concatenate((mappings[(3, 4)], mappings[(7, 7)]), axis=0)\n",
    "\n",
    "# Now we use the inverse transform to get the actual values\n",
    "frauds = sc.inverse_transform(frauds)\n",
    "# Convert to dataframe\n",
    "frauds = pd.DataFrame(frauds)\n",
    "\n",
    "# Show the dataframe\n",
    "frauds.head()"
   ]
  },
  {
   "cell_type": "code",
   "execution_count": null,
   "metadata": {},
   "outputs": [],
   "source": []
  }
 ],
 "metadata": {
  "kernelspec": {
   "display_name": "Python 3",
   "language": "python",
   "name": "python3"
  },
  "language_info": {
   "codemirror_mode": {
    "name": "ipython",
    "version": 3
   },
   "file_extension": ".py",
   "mimetype": "text/x-python",
   "name": "python",
   "nbconvert_exporter": "python",
   "pygments_lexer": "ipython3",
   "version": "3.7.5"
  }
 },
 "nbformat": 4,
 "nbformat_minor": 2
}
