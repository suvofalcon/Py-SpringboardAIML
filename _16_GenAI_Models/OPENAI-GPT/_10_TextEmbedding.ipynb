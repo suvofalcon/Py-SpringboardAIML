{
 "cells": [
  {
   "cell_type": "markdown",
   "source": [
    "# Text Embedding API\n",
    "\n",
    "Text embedding allows us to directly convert text documents to vectors with a simple API call with Open AI.\n",
    "\n",
    "Keep in mind, just like other Open AI services, it is not free and it is also important to note it has its own pricing structure (its typically much cheaper than GPT on a token basis, since the processing is simpler). You can view the pricing here: https://openai.com/api/pricing/\n",
    "<br><br><br>\n",
    "### Library Imports"
   ],
   "metadata": {
    "collapsed": false
   },
   "id": "2500deb90dcd562e"
  },
  {
   "cell_type": "code",
   "execution_count": 6,
   "outputs": [],
   "source": [
    "import os\n",
    "import ast\n",
    "import tiktoken\n",
    "import pandas as pd\n",
    "import openai"
   ],
   "metadata": {
    "collapsed": false,
    "ExecuteTime": {
     "end_time": "2023-10-12T12:24:16.928869Z",
     "start_time": "2023-10-12T12:24:16.921876Z"
    }
   },
   "id": "6ea9e63746114c12"
  },
  {
   "cell_type": "code",
   "execution_count": 2,
   "id": "initial_id",
   "metadata": {
    "collapsed": true,
    "ExecuteTime": {
     "end_time": "2023-10-12T07:09:52.007464Z",
     "start_time": "2023-10-12T07:09:52.000028Z"
    }
   },
   "outputs": [],
   "source": [
    "openai.api_key = os.getenv(\"OPENAI_API_KEY\")"
   ]
  },
  {
   "cell_type": "markdown",
   "source": [
    "### What happens when GPT doesn't know anything about a topic?\n",
    "\n",
    "For example, we know GPT is limited by its training data not being up to date to the present day (depending on the model, the cut-off can be very recent though). There are also limitations based on how esoteric the topic is. \n",
    "\n",
    "Let's ask GPT about a a \"unicorn\" company"
   ],
   "metadata": {
    "collapsed": false
   },
   "id": "80a374eebb43592c"
  },
  {
   "cell_type": "code",
   "execution_count": 3,
   "outputs": [
    {
     "name": "stdout",
     "output_type": "stream",
     "text": [
      "Pentera is a start-up company that provides software solutions to help organizations manage their employee benefits programs. The company has raised $3.5 million in seed funding from investors including Y Combinator, SV Angel, and Social Leverage.\n"
     ]
    }
   ],
   "source": [
    "prompt = \"What does the start-up company Pentera do and who invested in it?\"\n",
    "\n",
    "response = openai.Completion.create(\n",
    "    prompt=prompt,\n",
    "    temperature=0,\n",
    "    max_tokens=500,\n",
    "    model=\"text-davinci-003\"\n",
    ")\n",
    "print(response[\"choices\"][0][\"text\"].strip(\" \\n\"))"
   ],
   "metadata": {
    "collapsed": false,
    "ExecuteTime": {
     "end_time": "2023-10-12T07:10:35.654455Z",
     "start_time": "2023-10-12T07:10:34.083670Z"
    }
   },
   "id": "c0a3455725ed4698"
  },
  {
   "cell_type": "markdown",
   "source": [
    "Sometimes it might feel that the model is hallucinating! A common issue with LLMs, they are eager to please and with enough context they can make stuff up that sounds right, but actually isn't. In my personal research, it looks like Y Combinator did NOT actually invest in Pentera. Also Pentera isn't an HR company, Pentera is a penetration testing company that develops and provides an automated security validation platform to reduce cybersecurity risks.\n",
    "\n",
    "We could try to alleviate this issue with some prompt engineering:"
   ],
   "metadata": {
    "collapsed": false
   },
   "id": "8535d6a385148146"
  },
  {
   "cell_type": "code",
   "execution_count": 4,
   "outputs": [
    {
     "name": "stdout",
     "output_type": "stream",
     "text": [
      "I cannot answer this question with 100% certainty.\n"
     ]
    }
   ],
   "source": [
    "prompt = \"\"\"Only answer the question below if you have 100% certainty of the facts.\n",
    "\n",
    "Q: What does the start-up company Pentera do and who invested in it? Give its financial statistics as well\n",
    "A:\"\"\"\n",
    "\n",
    "\n",
    "response = openai.Completion.create(\n",
    "    prompt=prompt,\n",
    "    temperature=0,\n",
    "    max_tokens=500,\n",
    "    model=\"text-davinci-003\"\n",
    ")\n",
    "print(response[\"choices\"][0][\"text\"].strip(\" \\n\"))"
   ],
   "metadata": {
    "collapsed": false,
    "ExecuteTime": {
     "end_time": "2023-10-12T07:55:23.367377Z",
     "start_time": "2023-10-12T07:55:21.076477Z"
    }
   },
   "id": "869af480818772a2"
  },
  {
   "cell_type": "markdown",
   "source": [
    "#### Alright, very interesting! How can we help the model? We could input some context from our own data. In fact, we have a data set about recent Unicorn companies.  \n",
    "\n",
    "### Text Data\n",
    "\n",
    "Let's grab some text data and send it to Open AI to receive the embeddings back."
   ],
   "metadata": {
    "collapsed": false
   },
   "id": "1aca3ee0ee6af2e8"
  },
  {
   "cell_type": "code",
   "execution_count": 5,
   "outputs": [
    {
     "data": {
      "text/plain": "               Updated at     Company  \\\n0  10/31/2022, 2:37:05 AM       Esusu   \n1  10/31/2022, 2:37:05 AM  Fever Labs   \n2  10/31/2022, 2:37:04 AM       Minio   \n3  10/31/2022, 2:37:04 AM   Darwinbox   \n4  10/31/2022, 2:37:04 AM     Pentera   \n\n                                  Crunchbase Url  Last Valuation (Billion $)  \\\n0       https://www.cbinsights.com/company/esusu                         1.0   \n1  https://www.cbinsights.com/company/fever-labs                         1.0   \n2       https://www.cbinsights.com/company/minio                         1.0   \n3   https://www.cbinsights.com/company/darwinbox                         1.0   \n4      https://www.cbinsights.com/company/pcysys                         1.0   \n\n  Date Joined  Year Joined         City        Country  \\\n0   1/27/2022         2022     New York  United States   \n1   1/26/2022         2022     New York  United States   \n2   1/26/2022         2022    Palo Alto  United States   \n3   1/25/2022         2022    Hyderabad          India   \n4   1/11/2022         2022  Petah Tikva         Israel   \n\n                       Industry  \\\n0                       Fintech   \n1  Internet software & services   \n2   Data management & analytics   \n3  Internet software & services   \n4                Cybersecurity    \n\n                                           Investors  Company Website  \n0  [\"Next Play Ventures\",\"Zeal Capital Partners\",...              NaN  \n1                        [\"Accel\",\"14W\",\"GS Growth\"]              NaN  \n2  [\"General Catalyst\",\"Nexus Venture Partners\",\"...              NaN  \n3  [\"Lightspeed India Partners\",\"Sequoia Capital ...              NaN  \n4   [\"AWZ Ventures\",\"Blackstone\",\"Insight Partners\"]              NaN  ",
      "text/html": "<div>\n<style scoped>\n    .dataframe tbody tr th:only-of-type {\n        vertical-align: middle;\n    }\n\n    .dataframe tbody tr th {\n        vertical-align: top;\n    }\n\n    .dataframe thead th {\n        text-align: right;\n    }\n</style>\n<table border=\"1\" class=\"dataframe\">\n  <thead>\n    <tr style=\"text-align: right;\">\n      <th></th>\n      <th>Updated at</th>\n      <th>Company</th>\n      <th>Crunchbase Url</th>\n      <th>Last Valuation (Billion $)</th>\n      <th>Date Joined</th>\n      <th>Year Joined</th>\n      <th>City</th>\n      <th>Country</th>\n      <th>Industry</th>\n      <th>Investors</th>\n      <th>Company Website</th>\n    </tr>\n  </thead>\n  <tbody>\n    <tr>\n      <th>0</th>\n      <td>10/31/2022, 2:37:05 AM</td>\n      <td>Esusu</td>\n      <td>https://www.cbinsights.com/company/esusu</td>\n      <td>1.0</td>\n      <td>1/27/2022</td>\n      <td>2022</td>\n      <td>New York</td>\n      <td>United States</td>\n      <td>Fintech</td>\n      <td>[\"Next Play Ventures\",\"Zeal Capital Partners\",...</td>\n      <td>NaN</td>\n    </tr>\n    <tr>\n      <th>1</th>\n      <td>10/31/2022, 2:37:05 AM</td>\n      <td>Fever Labs</td>\n      <td>https://www.cbinsights.com/company/fever-labs</td>\n      <td>1.0</td>\n      <td>1/26/2022</td>\n      <td>2022</td>\n      <td>New York</td>\n      <td>United States</td>\n      <td>Internet software &amp; services</td>\n      <td>[\"Accel\",\"14W\",\"GS Growth\"]</td>\n      <td>NaN</td>\n    </tr>\n    <tr>\n      <th>2</th>\n      <td>10/31/2022, 2:37:04 AM</td>\n      <td>Minio</td>\n      <td>https://www.cbinsights.com/company/minio</td>\n      <td>1.0</td>\n      <td>1/26/2022</td>\n      <td>2022</td>\n      <td>Palo Alto</td>\n      <td>United States</td>\n      <td>Data management &amp; analytics</td>\n      <td>[\"General Catalyst\",\"Nexus Venture Partners\",\"...</td>\n      <td>NaN</td>\n    </tr>\n    <tr>\n      <th>3</th>\n      <td>10/31/2022, 2:37:04 AM</td>\n      <td>Darwinbox</td>\n      <td>https://www.cbinsights.com/company/darwinbox</td>\n      <td>1.0</td>\n      <td>1/25/2022</td>\n      <td>2022</td>\n      <td>Hyderabad</td>\n      <td>India</td>\n      <td>Internet software &amp; services</td>\n      <td>[\"Lightspeed India Partners\",\"Sequoia Capital ...</td>\n      <td>NaN</td>\n    </tr>\n    <tr>\n      <th>4</th>\n      <td>10/31/2022, 2:37:04 AM</td>\n      <td>Pentera</td>\n      <td>https://www.cbinsights.com/company/pcysys</td>\n      <td>1.0</td>\n      <td>1/11/2022</td>\n      <td>2022</td>\n      <td>Petah Tikva</td>\n      <td>Israel</td>\n      <td>Cybersecurity</td>\n      <td>[\"AWZ Ventures\",\"Blackstone\",\"Insight Partners\"]</td>\n      <td>NaN</td>\n    </tr>\n  </tbody>\n</table>\n</div>"
     },
     "execution_count": 5,
     "metadata": {},
     "output_type": "execute_result"
    }
   ],
   "source": [
    "df = pd.read_csv(\"/Volumes/Data/Datasets/genai_datasets/unicorns.csv\")\n",
    "df.head()"
   ],
   "metadata": {
    "collapsed": false,
    "ExecuteTime": {
     "end_time": "2023-10-12T08:03:09.629190Z",
     "start_time": "2023-10-12T08:03:09.592494Z"
    }
   },
   "id": "b7797b38def94b1"
  },
  {
   "cell_type": "markdown",
   "source": [
    "Now we will create a function to add a summary column, which will create a summarised content for every company and that can used for contextual training"
   ],
   "metadata": {
    "collapsed": false
   },
   "id": "91ef79b461b583a3"
  },
  {
   "cell_type": "code",
   "execution_count": 8,
   "outputs": [],
   "source": [
    "def create_summary(company, crunchbase_url, city, country, industry, investor_list):\n",
    "    investors = f\"The investors in the company are \"\n",
    "    for investor in ast.literal_eval(investor_list):\n",
    "        investors += f\"{investor}, \"\n",
    "        \n",
    "    text = f\"{company} has headquarters in {city} and is in the field of {industry}, {investors}. More information can be found at {crunchbase_url}\"\n",
    "    \n",
    "    return text"
   ],
   "metadata": {
    "collapsed": false,
    "ExecuteTime": {
     "end_time": "2023-10-12T12:33:52.382421Z",
     "start_time": "2023-10-12T12:33:52.375619Z"
    }
   },
   "id": "d503d7bcdcd0a311"
  },
  {
   "cell_type": "code",
   "execution_count": 9,
   "outputs": [],
   "source": [
    "df['summary'] = df.apply(lambda df: create_summary(df['Company'], df['Crunchbase Url'], df['City'], df['Country'], df['Industry'], df['Investors']), axis=1)"
   ],
   "metadata": {
    "collapsed": false,
    "ExecuteTime": {
     "end_time": "2023-10-12T12:34:40.561846Z",
     "start_time": "2023-10-12T12:34:40.547243Z"
    }
   },
   "id": "96ee3981e3a8a367"
  },
  {
   "cell_type": "code",
   "execution_count": 10,
   "outputs": [
    {
     "data": {
      "text/plain": "               Updated at     Company  \\\n0  10/31/2022, 2:37:05 AM       Esusu   \n1  10/31/2022, 2:37:05 AM  Fever Labs   \n2  10/31/2022, 2:37:04 AM       Minio   \n3  10/31/2022, 2:37:04 AM   Darwinbox   \n4  10/31/2022, 2:37:04 AM     Pentera   \n\n                                  Crunchbase Url  Last Valuation (Billion $)  \\\n0       https://www.cbinsights.com/company/esusu                         1.0   \n1  https://www.cbinsights.com/company/fever-labs                         1.0   \n2       https://www.cbinsights.com/company/minio                         1.0   \n3   https://www.cbinsights.com/company/darwinbox                         1.0   \n4      https://www.cbinsights.com/company/pcysys                         1.0   \n\n  Date Joined  Year Joined         City        Country  \\\n0   1/27/2022         2022     New York  United States   \n1   1/26/2022         2022     New York  United States   \n2   1/26/2022         2022    Palo Alto  United States   \n3   1/25/2022         2022    Hyderabad          India   \n4   1/11/2022         2022  Petah Tikva         Israel   \n\n                       Industry  \\\n0                       Fintech   \n1  Internet software & services   \n2   Data management & analytics   \n3  Internet software & services   \n4                Cybersecurity    \n\n                                           Investors  Company Website  \\\n0  [\"Next Play Ventures\",\"Zeal Capital Partners\",...              NaN   \n1                        [\"Accel\",\"14W\",\"GS Growth\"]              NaN   \n2  [\"General Catalyst\",\"Nexus Venture Partners\",\"...              NaN   \n3  [\"Lightspeed India Partners\",\"Sequoia Capital ...              NaN   \n4   [\"AWZ Ventures\",\"Blackstone\",\"Insight Partners\"]              NaN   \n\n                                             summary  \n0  Esusu has headquarters in New York and is in t...  \n1  Fever Labs has headquarters in New York and is...  \n2  Minio has headquarters in Palo Alto and is in ...  \n3  Darwinbox has headquarters in Hyderabad and is...  \n4  Pentera has headquarters in Petah Tikva and is...  ",
      "text/html": "<div>\n<style scoped>\n    .dataframe tbody tr th:only-of-type {\n        vertical-align: middle;\n    }\n\n    .dataframe tbody tr th {\n        vertical-align: top;\n    }\n\n    .dataframe thead th {\n        text-align: right;\n    }\n</style>\n<table border=\"1\" class=\"dataframe\">\n  <thead>\n    <tr style=\"text-align: right;\">\n      <th></th>\n      <th>Updated at</th>\n      <th>Company</th>\n      <th>Crunchbase Url</th>\n      <th>Last Valuation (Billion $)</th>\n      <th>Date Joined</th>\n      <th>Year Joined</th>\n      <th>City</th>\n      <th>Country</th>\n      <th>Industry</th>\n      <th>Investors</th>\n      <th>Company Website</th>\n      <th>summary</th>\n    </tr>\n  </thead>\n  <tbody>\n    <tr>\n      <th>0</th>\n      <td>10/31/2022, 2:37:05 AM</td>\n      <td>Esusu</td>\n      <td>https://www.cbinsights.com/company/esusu</td>\n      <td>1.0</td>\n      <td>1/27/2022</td>\n      <td>2022</td>\n      <td>New York</td>\n      <td>United States</td>\n      <td>Fintech</td>\n      <td>[\"Next Play Ventures\",\"Zeal Capital Partners\",...</td>\n      <td>NaN</td>\n      <td>Esusu has headquarters in New York and is in t...</td>\n    </tr>\n    <tr>\n      <th>1</th>\n      <td>10/31/2022, 2:37:05 AM</td>\n      <td>Fever Labs</td>\n      <td>https://www.cbinsights.com/company/fever-labs</td>\n      <td>1.0</td>\n      <td>1/26/2022</td>\n      <td>2022</td>\n      <td>New York</td>\n      <td>United States</td>\n      <td>Internet software &amp; services</td>\n      <td>[\"Accel\",\"14W\",\"GS Growth\"]</td>\n      <td>NaN</td>\n      <td>Fever Labs has headquarters in New York and is...</td>\n    </tr>\n    <tr>\n      <th>2</th>\n      <td>10/31/2022, 2:37:04 AM</td>\n      <td>Minio</td>\n      <td>https://www.cbinsights.com/company/minio</td>\n      <td>1.0</td>\n      <td>1/26/2022</td>\n      <td>2022</td>\n      <td>Palo Alto</td>\n      <td>United States</td>\n      <td>Data management &amp; analytics</td>\n      <td>[\"General Catalyst\",\"Nexus Venture Partners\",\"...</td>\n      <td>NaN</td>\n      <td>Minio has headquarters in Palo Alto and is in ...</td>\n    </tr>\n    <tr>\n      <th>3</th>\n      <td>10/31/2022, 2:37:04 AM</td>\n      <td>Darwinbox</td>\n      <td>https://www.cbinsights.com/company/darwinbox</td>\n      <td>1.0</td>\n      <td>1/25/2022</td>\n      <td>2022</td>\n      <td>Hyderabad</td>\n      <td>India</td>\n      <td>Internet software &amp; services</td>\n      <td>[\"Lightspeed India Partners\",\"Sequoia Capital ...</td>\n      <td>NaN</td>\n      <td>Darwinbox has headquarters in Hyderabad and is...</td>\n    </tr>\n    <tr>\n      <th>4</th>\n      <td>10/31/2022, 2:37:04 AM</td>\n      <td>Pentera</td>\n      <td>https://www.cbinsights.com/company/pcysys</td>\n      <td>1.0</td>\n      <td>1/11/2022</td>\n      <td>2022</td>\n      <td>Petah Tikva</td>\n      <td>Israel</td>\n      <td>Cybersecurity</td>\n      <td>[\"AWZ Ventures\",\"Blackstone\",\"Insight Partners\"]</td>\n      <td>NaN</td>\n      <td>Pentera has headquarters in Petah Tikva and is...</td>\n    </tr>\n  </tbody>\n</table>\n</div>"
     },
     "execution_count": 10,
     "metadata": {},
     "output_type": "execute_result"
    }
   ],
   "source": [
    "df.head()"
   ],
   "metadata": {
    "collapsed": false,
    "ExecuteTime": {
     "end_time": "2023-10-12T12:34:49.925221Z",
     "start_time": "2023-10-12T12:34:49.904211Z"
    }
   },
   "id": "ced08cf4adbc4bf9"
  },
  {
   "cell_type": "code",
   "execution_count": 11,
   "outputs": [
    {
     "data": {
      "text/plain": "'Esusu has headquarters in New York and is in the field of Fintech, The investors in the company are Next Play Ventures, Zeal Capital Partners, SoftBank Group, . More information can be found at https://www.cbinsights.com/company/esusu'"
     },
     "execution_count": 11,
     "metadata": {},
     "output_type": "execute_result"
    }
   ],
   "source": [
    "df['summary'][0]"
   ],
   "metadata": {
    "collapsed": false,
    "ExecuteTime": {
     "end_time": "2023-10-12T12:35:06.199423Z",
     "start_time": "2023-10-12T12:35:06.177552Z"
    }
   },
   "id": "d3aaa9f87f15b03c"
  },
  {
   "cell_type": "markdown",
   "source": [
    "#### Token Count\n",
    "\n",
    "In case you are ever worried about how many tokens your text actually has (to get an estimate of your costs) OpenAI has a library called \"tiktoken\", which allows you to estimate a cost based on token counts.\n",
    "\n",
    "Splitting text strings into tokens is useful because models like GPT-3 see text in the form of tokens. Knowing how many tokens are in a text string can tell you (a) whether the string is too long for a text model to process and (b) how much an OpenAI API call costs (as usage is priced by token). Different models use different encodings.\n",
    "\n",
    "**tiktoken** supports 3 different encodings for OpenAI models:\n",
    "\n",
    "* \"gpt2\" for most gpt-3 models\n",
    "* \"p50k_base\" for code models, and Davinci models, like \"text-davinci-003\"\n",
    "* \"cl100k_base\" for text-embedding-ada-002"
   ],
   "metadata": {
    "collapsed": false
   },
   "id": "392280bd3784703d"
  },
  {
   "cell_type": "code",
   "execution_count": 12,
   "outputs": [],
   "source": [
    "def num_tokens_from_string(string, encoding_name):\n",
    "    \"\"\"Returns the number of tokens in a text string.\"\"\"\n",
    "    encoding = tiktoken.get_encoding(encoding_name)\n",
    "    num_tokens = len(encoding.encode(string))\n",
    "    return num_tokens"
   ],
   "metadata": {
    "collapsed": false,
    "ExecuteTime": {
     "end_time": "2023-10-12T12:36:30.844319Z",
     "start_time": "2023-10-12T12:36:30.820160Z"
    }
   },
   "id": "5616299414838fdb"
  },
  {
   "cell_type": "code",
   "execution_count": 13,
   "outputs": [
    {
     "data": {
      "text/plain": "53"
     },
     "execution_count": 13,
     "metadata": {},
     "output_type": "execute_result"
    }
   ],
   "source": [
    "# Now we will run an example on a text from summary column\n",
    "num_tokens_from_string(df['summary'][0], encoding_name='cl100k_base')"
   ],
   "metadata": {
    "collapsed": false,
    "ExecuteTime": {
     "end_time": "2023-10-12T12:37:34.715803Z",
     "start_time": "2023-10-12T12:37:30.161101Z"
    }
   },
   "id": "a054a67d8b8b3645"
  },
  {
   "cell_type": "markdown",
   "source": [
    "**Note how this is higher than the actual word count, this is because OpenAI tokens are not the same as words, remember things like punctuation and word length come into play, as a rough estimate, 1000 tokens is about 750 words. But with the tool above you can check your real token count before sending text over to OpenAI. Let's get a cost estimate of vectorizing our entire data set:**"
   ],
   "metadata": {
    "collapsed": false
   },
   "id": "6be2a3ff0ae26534"
  },
  {
   "cell_type": "code",
   "execution_count": 14,
   "outputs": [
    {
     "name": "stdout",
     "output_type": "stream",
     "text": [
      "Total tokens across all entries in the dataframe - 65109\n"
     ]
    }
   ],
   "source": [
    "df['token_count'] = df['summary'].apply(lambda items: num_tokens_from_string(items, 'cl100k_base'))\n",
    "\n",
    "# return the total tokens\n",
    "print(f\"Total tokens across all entries in the dataframe - {sum(df['token_count'])}\")"
   ],
   "metadata": {
    "collapsed": false,
    "ExecuteTime": {
     "end_time": "2023-10-12T12:46:18.292772Z",
     "start_time": "2023-10-12T12:46:18.202512Z"
    }
   },
   "id": "92844839ee8cf156"
  },
  {
   "cell_type": "markdown",
   "source": [
    "#### Estimating Embedding Costs\n",
    "\n",
    "Let's now do a quick monetary estimate of how much this will all cost, currently ADA-002 embedding model costs $0.0004 / 1K tokens\n",
    "\n",
    "\n",
    "Pay careful attention, that isn't 4 cents per 1000 tokens, that would be $0.04, this is 1/100 of that cost, so quite \"inexpensive\" depending on your document workload."
   ],
   "metadata": {
    "collapsed": false
   },
   "id": "a76f542f463045e7"
  },
  {
   "cell_type": "code",
   "execution_count": 15,
   "outputs": [
    {
     "data": {
      "text/plain": "0.0260436"
     },
     "execution_count": 15,
     "metadata": {},
     "output_type": "execute_result"
    }
   ],
   "source": [
    "# Lets estimate the cost\n",
    "df['token_count'].sum() * 0.0004 / 1000"
   ],
   "metadata": {
    "collapsed": false,
    "ExecuteTime": {
     "end_time": "2023-10-12T12:59:22.730179Z",
     "start_time": "2023-10-12T12:59:22.711995Z"
    }
   },
   "id": "22ef20cabbc16ee0"
  },
  {
   "cell_type": "markdown",
   "source": [
    "Another thing to keep in mind is the size limit for embeddings, currently the ADA 002 model max token limit is 8191 tokens, let's quickly check against this limit: If there are any rows which are beyond 8191 tokens"
   ],
   "metadata": {
    "collapsed": false
   },
   "id": "ccdef7c3c980284d"
  },
  {
   "cell_type": "code",
   "execution_count": 17,
   "outputs": [
    {
     "data": {
      "text/plain": "Empty DataFrame\nColumns: [Updated at, Company, Crunchbase Url, Last Valuation (Billion $), Date Joined, Year Joined, City, Country, Industry, Investors, Company Website, summary, token_count]\nIndex: []",
      "text/html": "<div>\n<style scoped>\n    .dataframe tbody tr th:only-of-type {\n        vertical-align: middle;\n    }\n\n    .dataframe tbody tr th {\n        vertical-align: top;\n    }\n\n    .dataframe thead th {\n        text-align: right;\n    }\n</style>\n<table border=\"1\" class=\"dataframe\">\n  <thead>\n    <tr style=\"text-align: right;\">\n      <th></th>\n      <th>Updated at</th>\n      <th>Company</th>\n      <th>Crunchbase Url</th>\n      <th>Last Valuation (Billion $)</th>\n      <th>Date Joined</th>\n      <th>Year Joined</th>\n      <th>City</th>\n      <th>Country</th>\n      <th>Industry</th>\n      <th>Investors</th>\n      <th>Company Website</th>\n      <th>summary</th>\n      <th>token_count</th>\n    </tr>\n  </thead>\n  <tbody>\n  </tbody>\n</table>\n</div>"
     },
     "execution_count": 17,
     "metadata": {},
     "output_type": "execute_result"
    }
   ],
   "source": [
    "df[df['token_count'] > 8191]"
   ],
   "metadata": {
    "collapsed": false,
    "ExecuteTime": {
     "end_time": "2023-10-12T13:00:50.079496Z",
     "start_time": "2023-10-12T13:00:50.073283Z"
    }
   },
   "id": "cef969c07cc5d0ee"
  },
  {
   "cell_type": "markdown",
   "source": [
    "### Text \n",
    "\n",
    "To begin, we'll create a simple function to grab the embedding, in our case, we'll specify the ADA 002 model"
   ],
   "metadata": {
    "collapsed": false
   },
   "id": "c0b4dd9f7ab1bdce"
  },
  {
   "cell_type": "code",
   "execution_count": 18,
   "outputs": [],
   "source": [
    "def get_embedding(text):\n",
    "    # Note how this function assumes you already set your Open AI key!\n",
    "    result = openai.Embedding.create(\n",
    "        model='text-embedding-ada-002',\n",
    "        input=text\n",
    "    )\n",
    "    return result[\"data\"][0][\"embedding\"]"
   ],
   "metadata": {
    "collapsed": false,
    "ExecuteTime": {
     "end_time": "2023-10-12T13:09:37.243795Z",
     "start_time": "2023-10-12T13:09:37.222252Z"
    }
   },
   "id": "8ec8884c81e0bc68"
  },
  {
   "cell_type": "code",
   "execution_count": 19,
   "outputs": [
    {
     "data": {
      "text/plain": "[0.011609838344156742,\n -0.018315808847546577,\n -0.022067401558160782,\n -0.03170095384120941,\n -0.016051456332206726,\n 0.00987472664564848,\n -0.01946808397769928,\n 0.024251364171504974,\n 0.002823743037879467,\n -0.023166082799434662,\n 0.020338989794254303,\n -0.0147517966106534,\n 0.00715482234954834,\n -0.017351113259792328,\n 0.011750523000955582,\n -0.022991901263594627,\n 0.000826522649731487,\n -0.02159845270216465,\n 0.0180344395339489,\n 0.0051349918358027935,\n -0.023487647995352745,\n -0.016815172508358955,\n -0.00987472664564848,\n 0.01932070031762123,\n -0.0200040265917778,\n -0.0021270187571644783,\n -0.013472235761582851,\n 0.0004218447720631957,\n -0.012474044226109982,\n -0.006598782725632191,\n 0.016198839992284775,\n -0.0018506738124415278,\n -0.019025932997465134,\n -0.0036176068242639303,\n -0.012942993082106113,\n 0.010370472446084023,\n -0.022402364760637283,\n 0.02070075087249279,\n 0.0202987939119339,\n -0.005513500887900591,\n 0.030897041782736778,\n 0.009546462446451187,\n -0.013572724536061287,\n 0.006240371614694595,\n -0.028565695509314537,\n 0.00931868702173233,\n -0.006578684784471989,\n -0.0010467612883076072,\n 0.0015843778382986784,\n 0.03494340181350708,\n -0.008065923117101192,\n 0.02351444400846958,\n -0.01987004093825817,\n 0.01276211254298687,\n -0.006381056271493435,\n -0.007784553803503513,\n -0.005717828404158354,\n -0.02028539590537548,\n 0.0073357028886675835,\n -0.005550346802920103,\n 0.007818050682544708,\n 0.007663967087864876,\n -0.02126348949968815,\n -0.020861532539129257,\n -0.006468147039413452,\n 0.008213307708501816,\n -0.023474248126149178,\n -0.0016220612451434135,\n 0.0023045495618134737,\n 0.003497019875794649,\n 0.02001742459833622,\n 0.01933409832417965,\n -0.002979501150548458,\n 0.009412476792931557,\n 0.007663967087864876,\n -0.0011238028528168797,\n -0.02496148645877838,\n -0.015729891136288643,\n 0.017351113259792328,\n -2.0058561858604662e-05,\n -0.005044551566243172,\n -0.00904401671141386,\n -0.035881299525499344,\n -0.005352718289941549,\n 0.012876000255346298,\n 0.022187989205121994,\n -0.0009228247217833996,\n 0.022871313616633415,\n -0.022094199433922768,\n 0.0004848598036915064,\n 0.02867288328707218,\n 0.02125008963048458,\n -0.003123535541817546,\n -0.007369199302047491,\n -0.048395540565252304,\n 0.03719435632228851,\n -0.013358348049223423,\n 0.009928320534527302,\n -0.016493607312440872,\n -0.005587192717939615,\n 0.02477390691637993,\n 0.008394187316298485,\n -0.006206875201314688,\n -0.00557379424571991,\n -0.02387620508670807,\n 0.004270785953849554,\n -0.011562943458557129,\n -0.012969790026545525,\n 0.03521137312054634,\n -0.0023916400969028473,\n -0.012534338049590588,\n 0.01595766469836235,\n -0.020124612376093864,\n 0.014256050810217857,\n 0.027976159006357193,\n -0.012333359569311142,\n 0.022857915610074997,\n 0.011884508654475212,\n -0.016118448227643967,\n -0.0103168785572052,\n 0.026917673647403717,\n 0.021437669172883034,\n 0.025738602504134178,\n -0.010564751923084259,\n 0.01698935404419899,\n 0.004016213584691286,\n -0.01753869466483593,\n -0.01974945329129696,\n -0.0014420183142647147,\n -0.02091512642800808,\n 0.024023588746786118,\n -0.0217458363622427,\n -0.003287667641416192,\n 0.018463192507624626,\n -0.007168220821768045,\n 0.010832722298800945,\n -0.016868766397237778,\n 0.018315808847546577,\n -0.0015332958428189158,\n -0.018958939239382744,\n 0.03210291266441345,\n 0.004203793127089739,\n 0.0017401358345523477,\n 0.020754344761371613,\n -0.003294366877526045,\n 0.0016480209305882454,\n 0.012293163686990738,\n 0.023715421557426453,\n 0.009653651155531406,\n -0.004307631868869066,\n 0.017766468226909637,\n -0.030495084822177887,\n -0.0019009184325113893,\n -0.0021906618494540453,\n 0.006850005593150854,\n -0.001081094960682094,\n 0.03170095384120941,\n 0.019414490088820457,\n -0.012393653392791748,\n -0.004595700651407242,\n -0.03301401063799858,\n 0.012333359569311142,\n -0.006819858681410551,\n -0.012386953458189964,\n 0.009546462446451187,\n 0.027400022372603416,\n 0.010571450926363468,\n -0.016359621658921242,\n 0.0002635744749568403,\n -0.006940445862710476,\n -0.028806868940591812,\n 0.022549748420715332,\n -0.015448520891368389,\n -0.000286393886199221,\n 0.003878878429532051,\n 0.012065388262271881,\n 0.0019260406261309981,\n 0.021920017898082733,\n -0.026180755347013474,\n -0.022790923714637756,\n 0.039927661418914795,\n 0.013813898898661137,\n 0.025149066001176834,\n 0.016078252345323563,\n 0.008166412822902203,\n -0.011502649635076523,\n 0.012949692085385323,\n 0.0020750993862748146,\n 0.0220807995647192,\n -0.01677497662603855,\n 0.021169699728488922,\n 0.010893016122281551,\n 0.0005623201141133904,\n -0.017418107017874718,\n -0.6371275782585144,\n -0.018208621069788933,\n 0.0023648429196327925,\n 0.01004220824688673,\n 0.005225432105362415,\n 0.02138407528400421,\n 0.02484090067446232,\n 0.008300397545099258,\n 0.004622497595846653,\n -0.0031084620859473944,\n -0.014148862101137638,\n -0.015796883031725883,\n -0.017163533717393875,\n -0.010531255044043064,\n -0.016520405188202858,\n -0.01213908102363348,\n -0.004321030341088772,\n -0.049494221806526184,\n 0.003125210292637348,\n -0.008441082201898098,\n -0.005788170732557774,\n 0.016949158161878586,\n 0.009385679848492146,\n -0.01622563600540161,\n 0.02840491198003292,\n 0.010430766269564629,\n 0.003389831632375717,\n -0.01980304718017578,\n -0.020740944892168045,\n 0.013070279732346535,\n -0.028163738548755646,\n 0.04421519488096237,\n 0.024197770282626152,\n 0.024184372276067734,\n 0.03815905377268791,\n 0.00856836885213852,\n -0.01603805646300316,\n 0.014925978146493435,\n -0.004187045153230429,\n 0.025229457765817642,\n -0.005356067791581154,\n -0.025216059759259224,\n 0.008380789309740067,\n -0.012909497134387493,\n 0.009499567560851574,\n 0.039445314556360245,\n 0.02910163626074791,\n -0.03815905377268791,\n 0.0036812499165534973,\n 0.007329003419727087,\n 0.003131909528747201,\n -0.030843447893857956,\n -0.009948418475687504,\n 0.008394187316298485,\n 0.027842173352837563,\n 0.0009554836433380842,\n -0.006568636279553175,\n -0.011569642461836338,\n 0.012159178033471107,\n -0.013016684912145138,\n -0.014684803783893585,\n -0.0024636571761220694,\n -0.008065923117101192,\n -0.028699681162834167,\n -0.03764990717172623,\n 0.015783485025167465,\n -0.020111214369535446,\n 0.007262010592967272,\n 0.033603549003601074,\n -0.01258793193846941,\n 0.005493402946740389,\n 0.01802104152739048,\n 0.007094528991729021,\n 0.021343879401683807,\n 0.010738932527601719,\n 0.016547201201319695,\n 0.027266036719083786,\n -0.013653116300702095,\n -0.010202990844845772,\n 0.0027902466244995594,\n -0.011254777200520039,\n -0.012199373915791512,\n 0.002090172842144966,\n -0.03151337429881096,\n -0.0012242919765412807,\n -0.009131107479333878,\n -0.014470427297055721,\n -0.013773703016340733,\n -0.006528440397232771,\n -0.012440548278391361,\n 0.01220607291907072,\n 0.006391105242073536,\n -0.015595904551446438,\n -0.003033095272257924,\n -0.00272492878139019,\n 0.02296510338783264,\n -0.0007779529551044106,\n 0.01069873757660389,\n 0.023621631786227226,\n -0.007985532283782959,\n 0.0022660286631435156,\n -0.004197093658149242,\n 0.006310713943094015,\n 0.002453608438372612,\n 0.017779868096113205,\n 0.019588671624660492,\n 0.00044885120587423444,\n -0.014215854927897453,\n 0.03108462132513523,\n -0.05638107284903526,\n -0.009251694194972515,\n -0.03006633184850216,\n -0.018731163814663887,\n -0.0024100630544126034,\n -0.009124408476054668,\n -0.04209822416305542,\n 0.0020750993862748146,\n -0.0103168785572052,\n 0.0051349918358027935,\n -0.0028907358646392822,\n -0.002713205059990287,\n -0.015997860580682755,\n 0.003624306060373783,\n -0.014791992492973804,\n 0.013083677738904953,\n 0.010491060093045235,\n -0.008856437169015408,\n -0.005928855389356613,\n -0.014845586381852627,\n -0.0013398543233051896,\n -0.013934485614299774,\n -0.04702888801693916,\n 0.0008725801599211991,\n -0.0007327328785322607,\n 0.005945603828877211,\n -0.00658873375505209,\n 0.009090911597013474,\n -0.007295507006347179,\n 0.028699681162834167,\n -0.02297850325703621,\n -0.024720313027501106,\n -0.010879617184400558,\n 0.014604412950575352,\n -0.007007438223809004,\n 0.0005145877948962152,\n -0.021893220022320747,\n 0.016533803194761276,\n -0.008796144276857376,\n -0.00829369854182005,\n -0.016118448227643967,\n -0.0019963830709457397,\n -0.00529912393540144,\n 0.004686140455305576,\n 0.018945541232824326,\n 0.016801774501800537,\n -0.010383871383965015,\n -0.01472499966621399,\n -0.019213512539863586,\n -0.016185440123081207,\n -0.012976489961147308,\n 0.008220006711781025,\n 0.02179943025112152,\n -0.033817924559116364,\n -0.01780666410923004,\n -0.019709257408976555,\n 0.010678639635443687,\n 0.0025574469473212957,\n 0.0025139017961919308,\n -0.021518060937523842,\n 0.007382597774267197,\n -0.015729891136288643,\n 0.01000871229916811,\n -0.004508609883487225,\n 0.01678837463259697,\n 0.0319153293967247,\n 0.01530113723129034,\n -0.009646951220929623,\n 0.0006665775435976684,\n -0.0037314945366233587,\n -0.0015567432856187224,\n 0.016413215547800064,\n 0.002780197886750102,\n -0.01712333969771862,\n 0.011361964978277683,\n 0.01732431724667549,\n -0.000486115925014019,\n 0.011187784373760223,\n 0.02181283012032509,\n 0.0023933148477226496,\n -0.005932205356657505,\n -0.01747170090675354,\n 0.0133047541603446,\n -0.022375568747520447,\n 0.015917470678687096,\n 0.010933212004601955,\n 0.01973605528473854,\n 0.009713944047689438,\n 0.007255311589688063,\n 0.005225432105362415,\n 0.005888659972697496,\n 0.021678844466805458,\n 0.0027902466244995594,\n 0.021089307963848114,\n -0.018958939239382744,\n -0.008387488313019276,\n -0.028592491522431374,\n -0.0034032301045954227,\n -0.01503316592425108,\n 0.015703093260526657,\n 0.0283513180911541,\n 0.02867288328707218,\n -0.01987004093825817,\n -0.004391372669488192,\n 0.0034300272818654776,\n 0.021960213780403137,\n 0.00765056861564517,\n 0.03716756030917168,\n -0.008307097479701042,\n -0.010102502070367336,\n 0.0066490271128714085,\n -0.007034235633909702,\n -0.014966173097491264,\n 0.016694584861397743,\n -0.015622702427208424,\n -0.011770620942115784,\n 0.02406378462910652,\n 0.0448315292596817,\n 0.02635493502020836,\n 0.009003821760416031,\n -0.0003443844325374812,\n -0.003162056440487504,\n 0.030923839658498764,\n -0.016748180612921715,\n 0.002461982425302267,\n -0.0005803244421258569,\n -0.022375568747520447,\n 0.03858780488371849,\n -0.03858780488371849,\n 0.011857710778713226,\n -0.014014876447618008,\n 0.023889603093266487,\n 0.009251694194972515,\n 0.03631005436182022,\n -0.011047099716961384,\n 0.036283258348703384,\n 0.007958735339343548,\n 0.02489449456334114,\n 0.03748912364244461,\n -0.03011992573738098,\n 0.0025926181115210056,\n -0.015126955695450306,\n 0.009271792136132717,\n 0.0017334365984424949,\n -0.014349840581417084,\n 0.01995043084025383,\n -0.017096541821956635,\n 0.0017116640228778124,\n 0.01637301966547966,\n 0.019307302311062813,\n 0.005057950504124165,\n 0.0011480876710265875,\n -0.00742949265986681,\n 0.011884508654475212,\n 0.02606016770005226,\n 0.007771155331283808,\n -0.019213512539863586,\n -0.01615864410996437,\n -0.027279434725642204,\n -0.016292629763484,\n -0.02792256511747837,\n -0.01413546409457922,\n -0.014591014012694359,\n -0.003322838805615902,\n 0.009801034815609455,\n 0.017525294795632362,\n -0.013947883620858192,\n 0.014939376153051853,\n -0.019977228716015816,\n 0.014832188375294209,\n -0.026569312438368797,\n 0.00011116604582639411,\n -0.041508689522743225,\n 0.013411941938102245,\n 0.018556982278823853,\n 0.023219676688313484,\n -0.01014269795268774,\n 0.013572724536061287,\n 0.0030263960361480713,\n -0.017793266102671623,\n 0.03515777736902237,\n 0.011328469030559063,\n 0.0034769221674650908,\n -0.02482750080525875,\n -0.00210692104883492,\n -0.010678639635443687,\n 0.011201182380318642,\n 0.03727474808692932,\n -0.018396200612187386,\n -0.002806994831189513,\n -0.019776251167058945,\n 0.02269713394343853,\n -0.014550818130373955,\n -0.019910236820578575,\n -0.0014403434470295906,\n 0.054371289908885956,\n 0.018248816952109337,\n 0.002751725958660245,\n 0.0025273002684116364,\n 0.0016337849665433168,\n -0.023648429661989212,\n -0.0019310651114210486,\n -0.015770085155963898,\n -0.044268786907196045,\n 0.025363443419337273,\n -0.006240371614694595,\n 0.009486168622970581,\n -0.013606221415102482,\n -0.007161521818488836,\n 0.042125020176172256,\n 0.010417367331683636,\n -0.0005836740601807833,\n -0.030843447893857956,\n -0.02977156452834606,\n 0.02021840214729309,\n 0.12026532739400864,\n 0.004957461263984442,\n -0.009064114652574062,\n 0.018878547474741936,\n -0.0025942930951714516,\n 0.004485162440687418,\n -0.020405981689691544,\n -0.057828113436698914,\n -0.011060497723519802,\n 0.007054333109408617,\n -0.028378115966916084,\n 0.005279026459902525,\n 0.005382864736020565,\n -0.013519130647182465,\n 0.0042272405698895454,\n 0.005640787072479725,\n -0.003965968731790781,\n -0.017096541821956635,\n 0.0012862602015957236,\n -0.011160986497998238,\n -0.010712135583162308,\n 0.0065820347517728806,\n 0.020405981689691544,\n 0.03186173737049103,\n 0.03365714102983475,\n 0.017096541821956635,\n 0.017458302900195122,\n 0.036283258348703384,\n 0.0021387424785643816,\n -0.009278491139411926,\n 0.008106118999421597,\n -0.0012284789700061083,\n 0.009928320534527302,\n 0.02214779332280159,\n -0.046251773834228516,\n -0.006632279139012098,\n 0.011851011775434017,\n 0.009573259390890598,\n 0.006829907651990652,\n 0.008709053508937359,\n -0.003915724344551563,\n 0.023300068452954292,\n 0.0023815911263227463,\n -0.014282847754657269,\n -0.0010233137290924788,\n -0.02819053642451763,\n -0.001807128544896841,\n 0.01657399907708168,\n 0.003224024549126625,\n -0.0015299462247639894,\n 0.02193341590464115,\n -0.04016883298754692,\n -0.0357741117477417,\n -0.01664099097251892,\n 0.0002771823783405125,\n -0.018865149468183517,\n 0.007630470674484968,\n -0.016815172508358955,\n -0.021571654826402664,\n -0.04601059854030609,\n -0.021611850708723068,\n -0.010497759096324444,\n -0.0038721791934221983,\n -0.018396200612187386,\n 0.009693846106529236,\n -0.031004229560494423,\n -0.01327795721590519,\n 0.0007712536607868969,\n -0.023420654237270355,\n -0.0202987939119339,\n 0.024197770282626152,\n -0.013499032706022263,\n -0.01650700531899929,\n 0.018128229305148125,\n 0.05509481206536293,\n -0.006873453035950661,\n -0.0018858450930565596,\n -0.00043754620128311217,\n 0.008454481139779091,\n 0.03515777736902237,\n -0.009780936874449253,\n 0.006488244980573654,\n -0.005469955503940582,\n -0.021906619891524315,\n 0.0006653214222751558,\n 0.0008298723259940743,\n 0.020553365349769592,\n -0.0030263960361480713,\n -0.0084611801430583,\n 0.008662158623337746,\n -0.0055369483307003975,\n -0.011904606595635414,\n 0.0026294642593711615,\n -0.0005099820555187762,\n 0.006598782725632191,\n -0.007637170143425465,\n 0.02016480825841427,\n -0.005841765087097883,\n -0.0025122270453721285,\n -0.013813898898661137,\n 0.001397635554894805,\n -0.026984667405486107,\n 0.01595766469836235,\n 0.005248879548162222,\n 0.02056676521897316,\n 0.034005504101514816,\n 0.004739734809845686,\n -0.007536680903285742,\n -0.0063073644414544106,\n 0.02971797063946724,\n -0.0010023785289376974,\n -0.022991901263594627,\n 0.007710861973464489,\n -0.0010065656388178468,\n -0.009633553214371204,\n 0.012098885141313076,\n 0.009064114652574062,\n 0.01946808397769928,\n 0.0049876077100634575,\n 0.011717026121914387,\n 0.012132381089031696,\n -0.03647083789110184,\n 0.026596108451485634,\n 0.015046564862132072,\n 0.017511896789073944,\n -0.015850476920604706,\n -0.0011497625382617116,\n -0.017913853749632835,\n -0.0015215721214190125,\n 0.02392979897558689,\n -0.03403230011463165,\n 0.023822611197829247,\n -0.0030113228131085634,\n 0.004532057326287031,\n -0.02800295688211918,\n -0.012748714536428452,\n 0.00400951411575079,\n -0.0024485839530825615,\n 0.012949692085385323,\n -0.011877808719873428,\n -0.0036075578536838293,\n -0.016292629763484,\n -0.003976017702370882,\n -0.018556982278823853,\n -0.012500841170549393,\n -0.02840491198003292,\n 0.0008457830990664661,\n 0.007295507006347179,\n 0.017659280449151993,\n 0.004428218584507704,\n -0.008193209767341614,\n 0.01815502718091011,\n -0.002852214965969324,\n 0.002505527576431632,\n -0.0036912988871335983,\n -0.03424667939543724,\n -0.01642661541700363,\n -0.015555709600448608,\n 0.03011992573738098,\n 0.025818994268774986,\n 0.039096951484680176,\n 0.012574533000588417,\n 0.0017786567332223058,\n -0.002018155762925744,\n 0.00970054604113102,\n -0.004166947212070227,\n -0.0147517966106534,\n 0.01787365786731243,\n 0.008173111826181412,\n 0.018476592376828194,\n 0.017042947933077812,\n 0.0013138947542756796,\n 0.022683734074234962,\n -0.03183494135737419,\n -0.02963757887482643,\n 0.021987009793519974,\n -0.012185975909233093,\n -0.014282847754657269,\n -0.03405909985303879,\n -0.04552825167775154,\n -0.021544858813285828,\n -0.008132915943861008,\n -0.007020837161689997,\n 0.0077376589179039,\n -0.04960140958428383,\n -0.0028538897167891264,\n 0.0011388761922717094,\n 0.004029612056910992,\n 0.010926512070000172,\n -0.0071883187629282475,\n 0.022254981100559235,\n -0.01642661541700363,\n 0.030575476586818695,\n 0.005784821230918169,\n 0.009131107479333878,\n 0.005205334164202213,\n -0.0031084620859473944,\n -0.020955322310328484,\n -0.007818050682544708,\n 0.029128434136509895,\n 0.01835600472986698,\n 0.005892009474337101,\n 0.015515513718128204,\n 0.009077513590455055,\n 0.0017769818659871817,\n 0.028806868940591812,\n -0.02234877087175846,\n -0.004950761795043945,\n 0.03440745919942856,\n -0.0174047090113163,\n -0.010651842691004276,\n 0.00019344147585798055,\n -0.01733771525323391,\n -0.03657802566885948,\n 0.010718834586441517,\n 0.00350706884637475,\n -0.018958939239382744,\n 0.018865149468183517,\n -0.051289625465869904,\n 0.0006933746626600623,\n -0.0026194152887910604,\n 0.00450526038184762,\n 0.020205004140734673,\n 0.00887653511017561,\n 0.02778857946395874,\n 0.03282643109560013,\n 0.017967447638511658,\n -0.05096806213259697,\n -0.016801774501800537,\n 0.0032742691691964865,\n -0.0007432004786096513,\n 0.014698202721774578,\n 0.014403434470295906,\n -0.014282847754657269,\n -0.0019829843658953905,\n 0.011294972151517868,\n 0.014791992492973804,\n -0.019213512539863586,\n 0.0015140353934839368,\n 0.0033596849534660578,\n -0.011804116889834404,\n 0.01905272901058197,\n -0.01018289290368557,\n -0.01644001342356205,\n -0.015193948522210121,\n 0.008910031989216805,\n -0.02236216887831688,\n 0.00522878160700202,\n -0.009754139930009842,\n -0.01231326162815094,\n -0.004974209237843752,\n 0.013210964389145374,\n -0.007181619293987751,\n 0.017418107017874718,\n 0.007677365560084581,\n -0.00292423227801919,\n -0.018128229305148125,\n -0.025564420968294144,\n -0.003018022049218416,\n -0.02181283012032509,\n -0.015944266691803932,\n -0.005808268673717976,\n -0.0008801168296486139,\n 0.007543380372226238,\n 0.011663432233035564,\n 0.0050278035923838615,\n -0.013103775680065155,\n 0.0036377045325934887,\n 0.002386615611612797,\n 0.02689087763428688,\n 0.0006887688650749624,\n -0.030307505279779434,\n 0.019427888095378876,\n -0.0070610325783491135,\n 0.01004220824688673,\n -0.021209895610809326,\n -0.0206337571144104,\n -0.016882164403796196,\n -0.00672271940857172,\n -0.013612920418381691,\n 0.024720313027501106,\n 0.019628867506980896,\n -0.014658006839454174,\n 0.0012393653159961104,\n 0.0005552021320909262,\n -0.019856641069054604,\n -0.01968246139585972,\n 0.0038587807212024927,\n 0.019427888095378876,\n 0.0008336406317539513,\n -0.012239569798111916,\n -0.009847929701209068,\n 0.007436191663146019,\n 0.01946808397769928,\n -0.0018858450930565596,\n 0.025095472112298012,\n 0.008065923117101192,\n -0.0022928258404135704,\n -0.00715482234954834,\n 0.015006368979811668,\n -0.014055072329938412,\n 0.017243925482034683,\n -0.0062973154708743095,\n 0.02915523201227188,\n -0.0026110413018614054,\n -0.018932143226265907,\n 0.01543512288480997,\n -0.019414490088820457,\n 0.0026746843941509724,\n 0.010752331465482712,\n 0.006283916998654604,\n 0.0017853559693321586,\n 0.011938102543354034,\n 0.0017334365984424949,\n -0.0033211640547960997,\n -0.003414953825995326,\n 0.004619148094207048,\n -0.0008436895441263914,\n -0.007416094187647104,\n 0.013854093849658966,\n -0.0029292565304785967,\n -0.026850681751966476,\n 0.0107255345210433,\n -0.009164604358375072,\n 0.016748180612921715,\n 0.005289074964821339,\n 0.01413546409457922,\n 0.005312522407621145,\n -0.016118448227643967,\n -0.03330877795815468,\n -0.006484895013272762,\n -0.007074431050568819,\n -0.022321972995996475,\n -0.011207882314920425,\n -0.002405038569122553,\n -0.02048637345433235,\n -0.005838415585458279,\n -0.0043645757250487804,\n 0.03344276547431946,\n -0.014122065156698227,\n -0.00416024774312973,\n 0.0147517966106534,\n 0.018329208716750145,\n 0.005191935691982508,\n 0.0019176665227860212,\n -0.02283111773431301,\n -0.03196892514824867,\n -0.024639921262860298,\n -0.02977156452834606,\n -0.002125344006344676,\n -0.0015123606426641345,\n 0.04649294540286064,\n 0.007630470674484968,\n -0.024050386622548103,\n -0.032638851553201675,\n 0.0023648429196327925,\n -0.057613737881183624,\n 0.01089971512556076,\n -0.004823475610464811,\n 0.03748912364244461,\n 0.031459782272577286,\n 0.003378107910975814,\n -0.0068064602091908455,\n -0.005376165732741356,\n 0.010430766269564629,\n 0.016761578619480133,\n -0.044751137495040894,\n 0.0031436332501471043,\n 0.019508279860019684,\n -0.030173521488904953,\n 0.007402695249766111,\n -0.019561873748898506,\n -0.02848530374467373,\n -0.0024100630544126034,\n 0.021571654826402664,\n 0.0035740614403039217,\n 0.011194483377039433,\n 0.024050386622548103,\n -0.00987472664564848,\n 0.007751057390123606,\n 0.007831448689103127,\n -0.0005418036016635597,\n -0.025082074105739594,\n 0.0037884381599724293,\n 0.019226910546422005,\n -0.04370604828000069,\n 0.0011112417560070753,\n 0.03204931691288948,\n -0.019896836951375008,\n -0.026649704203009605,\n 0.013318152166903019,\n -0.009680448099970818,\n -0.006893550977110863,\n 0.0033211640547960997,\n -0.0088698361068964,\n 0.00332618854008615,\n -0.03706037253141403,\n -0.004223891068249941,\n 0.012286464683711529,\n -0.015515513718128204,\n 0.009908223524689674,\n 0.020821336656808853,\n 0.006819858681410551,\n -0.014939376153051853,\n -0.02977156452834606,\n 0.0448315292596817,\n -0.02091512642800808,\n 0.0015500440495088696,\n -0.0009504592162556946,\n -0.012085486203432083,\n 0.007529981434345245,\n -0.012467345222830772,\n -0.004508609883487225,\n 0.005747975315898657,\n -0.018597178161144257,\n -0.016118448227643967,\n 0.0006535977008752525,\n -0.016828570514917374,\n 0.004562204238027334,\n 0.003277618670836091,\n -0.013746906071901321,\n -0.026368334889411926,\n 0.02358143776655197,\n 0.014189057983458042,\n -0.020044220611453056,\n -0.010993504896759987,\n 0.011067196726799011,\n -0.02284451760351658,\n -0.0030866896267980337,\n -0.011703628115355968,\n 0.0064145526848733425,\n -0.029289215803146362,\n -0.0017451603198423982,\n 0.009687147103250027,\n -0.028029752895236015,\n 0.032022520899772644,\n 0.1949756145477295,\n 0.015126955695450306,\n 0.0028120193164795637,\n 0.03116501308977604,\n -0.0032742691691964865,\n 0.006548538338392973,\n 0.02016480825841427,\n 0.00144453055690974,\n -0.017779868096113205,\n -0.0023648429196327925,\n -0.03333557769656181,\n -0.009767538867890835,\n 0.004233940038830042,\n -0.0012879350688308477,\n 0.008179810829460621,\n -0.02179943025112152,\n -0.02544383518397808,\n -0.01433644164353609,\n -0.010651842691004276,\n 0.025135667994618416,\n 0.005687681958079338,\n -0.00621022516861558,\n 0.011201182380318642,\n -0.025470631197094917,\n 0.025095472112298012,\n 0.0028287675231695175,\n 0.004367925226688385,\n -0.00030397946829907596,\n 0.03775709494948387,\n 0.02222818322479725,\n -0.009084212593734264,\n 0.020111214369535446,\n 0.01389428973197937,\n 0.01623903587460518,\n -0.001426107482984662,\n -0.02559121884405613,\n 0.011938102543354034,\n -0.01830241084098816,\n 0.02366182766854763,\n 0.007690764032304287,\n 0.0020315542351454496,\n -0.014189057983458042,\n -0.026703298091888428,\n 0.010363773442804813,\n -0.011415558867156506,\n 0.011784018948674202,\n ...]"
     },
     "execution_count": 19,
     "metadata": {},
     "output_type": "execute_result"
    }
   ],
   "source": [
    "# Now we will call the above function to get the embeddings for the summary column\n",
    "get_embedding(df['summary'][0])"
   ],
   "metadata": {
    "collapsed": false,
    "ExecuteTime": {
     "end_time": "2023-10-12T13:10:25.255321Z",
     "start_time": "2023-10-12T13:10:24.404890Z"
    }
   },
   "id": "567e7f788ed38e16"
  },
  {
   "cell_type": "code",
   "execution_count": 22,
   "outputs": [
    {
     "ename": "RateLimitError",
     "evalue": "Rate limit reached for text-embedding-ada-002 in organization org-sVuYSPcznA6bMq4ub2FKJWEb on requests per min. Limit: 3 / min. Please try again in 20s. Contact us through our help center at help.openai.com if you continue to have issues. Please add a payment method to your account to increase your rate limit. Visit https://platform.openai.com/account/billing to add a payment method.",
     "output_type": "error",
     "traceback": [
      "\u001B[0;31m---------------------------------------------------------------------------\u001B[0m",
      "\u001B[0;31mRateLimitError\u001B[0m                            Traceback (most recent call last)",
      "Cell \u001B[0;32mIn[22], line 2\u001B[0m\n\u001B[1;32m      1\u001B[0m \u001B[38;5;66;03m# Now lets build for all the rows\u001B[39;00m\n\u001B[0;32m----> 2\u001B[0m df[\u001B[38;5;124m'\u001B[39m\u001B[38;5;124membeddings\u001B[39m\u001B[38;5;124m'\u001B[39m] \u001B[38;5;241m=\u001B[39m \u001B[43mdf\u001B[49m\u001B[43m[\u001B[49m\u001B[38;5;124;43m'\u001B[39;49m\u001B[38;5;124;43msummary\u001B[39;49m\u001B[38;5;124;43m'\u001B[39;49m\u001B[43m]\u001B[49m\u001B[38;5;241;43m.\u001B[39;49m\u001B[43mapply\u001B[49m\u001B[43m(\u001B[49m\u001B[43mget_embedding\u001B[49m\u001B[43m)\u001B[49m\n",
      "File \u001B[0;32m/usr/local/Caskroom/miniconda/base/envs/genai/lib/python3.11/site-packages/pandas/core/series.py:4760\u001B[0m, in \u001B[0;36mSeries.apply\u001B[0;34m(self, func, convert_dtype, args, by_row, **kwargs)\u001B[0m\n\u001B[1;32m   4625\u001B[0m \u001B[38;5;28;01mdef\u001B[39;00m \u001B[38;5;21mapply\u001B[39m(\n\u001B[1;32m   4626\u001B[0m     \u001B[38;5;28mself\u001B[39m,\n\u001B[1;32m   4627\u001B[0m     func: AggFuncType,\n\u001B[0;32m   (...)\u001B[0m\n\u001B[1;32m   4632\u001B[0m     \u001B[38;5;241m*\u001B[39m\u001B[38;5;241m*\u001B[39mkwargs,\n\u001B[1;32m   4633\u001B[0m ) \u001B[38;5;241m-\u001B[39m\u001B[38;5;241m>\u001B[39m DataFrame \u001B[38;5;241m|\u001B[39m Series:\n\u001B[1;32m   4634\u001B[0m \u001B[38;5;250m    \u001B[39m\u001B[38;5;124;03m\"\"\"\u001B[39;00m\n\u001B[1;32m   4635\u001B[0m \u001B[38;5;124;03m    Invoke function on values of Series.\u001B[39;00m\n\u001B[1;32m   4636\u001B[0m \n\u001B[0;32m   (...)\u001B[0m\n\u001B[1;32m   4751\u001B[0m \u001B[38;5;124;03m    dtype: float64\u001B[39;00m\n\u001B[1;32m   4752\u001B[0m \u001B[38;5;124;03m    \"\"\"\u001B[39;00m\n\u001B[1;32m   4753\u001B[0m     \u001B[38;5;28;01mreturn\u001B[39;00m \u001B[43mSeriesApply\u001B[49m\u001B[43m(\u001B[49m\n\u001B[1;32m   4754\u001B[0m \u001B[43m        \u001B[49m\u001B[38;5;28;43mself\u001B[39;49m\u001B[43m,\u001B[49m\n\u001B[1;32m   4755\u001B[0m \u001B[43m        \u001B[49m\u001B[43mfunc\u001B[49m\u001B[43m,\u001B[49m\n\u001B[1;32m   4756\u001B[0m \u001B[43m        \u001B[49m\u001B[43mconvert_dtype\u001B[49m\u001B[38;5;241;43m=\u001B[39;49m\u001B[43mconvert_dtype\u001B[49m\u001B[43m,\u001B[49m\n\u001B[1;32m   4757\u001B[0m \u001B[43m        \u001B[49m\u001B[43mby_row\u001B[49m\u001B[38;5;241;43m=\u001B[39;49m\u001B[43mby_row\u001B[49m\u001B[43m,\u001B[49m\n\u001B[1;32m   4758\u001B[0m \u001B[43m        \u001B[49m\u001B[43margs\u001B[49m\u001B[38;5;241;43m=\u001B[39;49m\u001B[43margs\u001B[49m\u001B[43m,\u001B[49m\n\u001B[1;32m   4759\u001B[0m \u001B[43m        \u001B[49m\u001B[43mkwargs\u001B[49m\u001B[38;5;241;43m=\u001B[39;49m\u001B[43mkwargs\u001B[49m\u001B[43m,\u001B[49m\n\u001B[0;32m-> 4760\u001B[0m \u001B[43m    \u001B[49m\u001B[43m)\u001B[49m\u001B[38;5;241;43m.\u001B[39;49m\u001B[43mapply\u001B[49m\u001B[43m(\u001B[49m\u001B[43m)\u001B[49m\n",
      "File \u001B[0;32m/usr/local/Caskroom/miniconda/base/envs/genai/lib/python3.11/site-packages/pandas/core/apply.py:1207\u001B[0m, in \u001B[0;36mSeriesApply.apply\u001B[0;34m(self)\u001B[0m\n\u001B[1;32m   1204\u001B[0m     \u001B[38;5;28;01mreturn\u001B[39;00m \u001B[38;5;28mself\u001B[39m\u001B[38;5;241m.\u001B[39mapply_compat()\n\u001B[1;32m   1206\u001B[0m \u001B[38;5;66;03m# self.func is Callable\u001B[39;00m\n\u001B[0;32m-> 1207\u001B[0m \u001B[38;5;28;01mreturn\u001B[39;00m \u001B[38;5;28;43mself\u001B[39;49m\u001B[38;5;241;43m.\u001B[39;49m\u001B[43mapply_standard\u001B[49m\u001B[43m(\u001B[49m\u001B[43m)\u001B[49m\n",
      "File \u001B[0;32m/usr/local/Caskroom/miniconda/base/envs/genai/lib/python3.11/site-packages/pandas/core/apply.py:1287\u001B[0m, in \u001B[0;36mSeriesApply.apply_standard\u001B[0;34m(self)\u001B[0m\n\u001B[1;32m   1281\u001B[0m \u001B[38;5;66;03m# row-wise access\u001B[39;00m\n\u001B[1;32m   1282\u001B[0m \u001B[38;5;66;03m# apply doesn't have a `na_action` keyword and for backward compat reasons\u001B[39;00m\n\u001B[1;32m   1283\u001B[0m \u001B[38;5;66;03m# we need to give `na_action=\"ignore\"` for categorical data.\u001B[39;00m\n\u001B[1;32m   1284\u001B[0m \u001B[38;5;66;03m# TODO: remove the `na_action=\"ignore\"` when that default has been changed in\u001B[39;00m\n\u001B[1;32m   1285\u001B[0m \u001B[38;5;66;03m#  Categorical (GH51645).\u001B[39;00m\n\u001B[1;32m   1286\u001B[0m action \u001B[38;5;241m=\u001B[39m \u001B[38;5;124m\"\u001B[39m\u001B[38;5;124mignore\u001B[39m\u001B[38;5;124m\"\u001B[39m \u001B[38;5;28;01mif\u001B[39;00m \u001B[38;5;28misinstance\u001B[39m(obj\u001B[38;5;241m.\u001B[39mdtype, CategoricalDtype) \u001B[38;5;28;01melse\u001B[39;00m \u001B[38;5;28;01mNone\u001B[39;00m\n\u001B[0;32m-> 1287\u001B[0m mapped \u001B[38;5;241m=\u001B[39m \u001B[43mobj\u001B[49m\u001B[38;5;241;43m.\u001B[39;49m\u001B[43m_map_values\u001B[49m\u001B[43m(\u001B[49m\n\u001B[1;32m   1288\u001B[0m \u001B[43m    \u001B[49m\u001B[43mmapper\u001B[49m\u001B[38;5;241;43m=\u001B[39;49m\u001B[43mcurried\u001B[49m\u001B[43m,\u001B[49m\u001B[43m \u001B[49m\u001B[43mna_action\u001B[49m\u001B[38;5;241;43m=\u001B[39;49m\u001B[43maction\u001B[49m\u001B[43m,\u001B[49m\u001B[43m \u001B[49m\u001B[43mconvert\u001B[49m\u001B[38;5;241;43m=\u001B[39;49m\u001B[38;5;28;43mself\u001B[39;49m\u001B[38;5;241;43m.\u001B[39;49m\u001B[43mconvert_dtype\u001B[49m\n\u001B[1;32m   1289\u001B[0m \u001B[43m\u001B[49m\u001B[43m)\u001B[49m\n\u001B[1;32m   1291\u001B[0m \u001B[38;5;28;01mif\u001B[39;00m \u001B[38;5;28mlen\u001B[39m(mapped) \u001B[38;5;129;01mand\u001B[39;00m \u001B[38;5;28misinstance\u001B[39m(mapped[\u001B[38;5;241m0\u001B[39m], ABCSeries):\n\u001B[1;32m   1292\u001B[0m     \u001B[38;5;66;03m# GH#43986 Need to do list(mapped) in order to get treated as nested\u001B[39;00m\n\u001B[1;32m   1293\u001B[0m     \u001B[38;5;66;03m#  See also GH#25959 regarding EA support\u001B[39;00m\n\u001B[1;32m   1294\u001B[0m     \u001B[38;5;28;01mreturn\u001B[39;00m obj\u001B[38;5;241m.\u001B[39m_constructor_expanddim(\u001B[38;5;28mlist\u001B[39m(mapped), index\u001B[38;5;241m=\u001B[39mobj\u001B[38;5;241m.\u001B[39mindex)\n",
      "File \u001B[0;32m/usr/local/Caskroom/miniconda/base/envs/genai/lib/python3.11/site-packages/pandas/core/base.py:921\u001B[0m, in \u001B[0;36mIndexOpsMixin._map_values\u001B[0;34m(self, mapper, na_action, convert)\u001B[0m\n\u001B[1;32m    918\u001B[0m \u001B[38;5;28;01mif\u001B[39;00m \u001B[38;5;28misinstance\u001B[39m(arr, ExtensionArray):\n\u001B[1;32m    919\u001B[0m     \u001B[38;5;28;01mreturn\u001B[39;00m arr\u001B[38;5;241m.\u001B[39mmap(mapper, na_action\u001B[38;5;241m=\u001B[39mna_action)\n\u001B[0;32m--> 921\u001B[0m \u001B[38;5;28;01mreturn\u001B[39;00m \u001B[43malgorithms\u001B[49m\u001B[38;5;241;43m.\u001B[39;49m\u001B[43mmap_array\u001B[49m\u001B[43m(\u001B[49m\u001B[43marr\u001B[49m\u001B[43m,\u001B[49m\u001B[43m \u001B[49m\u001B[43mmapper\u001B[49m\u001B[43m,\u001B[49m\u001B[43m \u001B[49m\u001B[43mna_action\u001B[49m\u001B[38;5;241;43m=\u001B[39;49m\u001B[43mna_action\u001B[49m\u001B[43m,\u001B[49m\u001B[43m \u001B[49m\u001B[43mconvert\u001B[49m\u001B[38;5;241;43m=\u001B[39;49m\u001B[43mconvert\u001B[49m\u001B[43m)\u001B[49m\n",
      "File \u001B[0;32m/usr/local/Caskroom/miniconda/base/envs/genai/lib/python3.11/site-packages/pandas/core/algorithms.py:1814\u001B[0m, in \u001B[0;36mmap_array\u001B[0;34m(arr, mapper, na_action, convert)\u001B[0m\n\u001B[1;32m   1812\u001B[0m values \u001B[38;5;241m=\u001B[39m arr\u001B[38;5;241m.\u001B[39mastype(\u001B[38;5;28mobject\u001B[39m, copy\u001B[38;5;241m=\u001B[39m\u001B[38;5;28;01mFalse\u001B[39;00m)\n\u001B[1;32m   1813\u001B[0m \u001B[38;5;28;01mif\u001B[39;00m na_action \u001B[38;5;129;01mis\u001B[39;00m \u001B[38;5;28;01mNone\u001B[39;00m:\n\u001B[0;32m-> 1814\u001B[0m     \u001B[38;5;28;01mreturn\u001B[39;00m \u001B[43mlib\u001B[49m\u001B[38;5;241;43m.\u001B[39;49m\u001B[43mmap_infer\u001B[49m\u001B[43m(\u001B[49m\u001B[43mvalues\u001B[49m\u001B[43m,\u001B[49m\u001B[43m \u001B[49m\u001B[43mmapper\u001B[49m\u001B[43m,\u001B[49m\u001B[43m \u001B[49m\u001B[43mconvert\u001B[49m\u001B[38;5;241;43m=\u001B[39;49m\u001B[43mconvert\u001B[49m\u001B[43m)\u001B[49m\n\u001B[1;32m   1815\u001B[0m \u001B[38;5;28;01melse\u001B[39;00m:\n\u001B[1;32m   1816\u001B[0m     \u001B[38;5;28;01mreturn\u001B[39;00m lib\u001B[38;5;241m.\u001B[39mmap_infer_mask(\n\u001B[1;32m   1817\u001B[0m         values, mapper, mask\u001B[38;5;241m=\u001B[39misna(values)\u001B[38;5;241m.\u001B[39mview(np\u001B[38;5;241m.\u001B[39muint8), convert\u001B[38;5;241m=\u001B[39mconvert\n\u001B[1;32m   1818\u001B[0m     )\n",
      "File \u001B[0;32mlib.pyx:2917\u001B[0m, in \u001B[0;36mpandas._libs.lib.map_infer\u001B[0;34m()\u001B[0m\n",
      "Cell \u001B[0;32mIn[18], line 3\u001B[0m, in \u001B[0;36mget_embedding\u001B[0;34m(text)\u001B[0m\n\u001B[1;32m      1\u001B[0m \u001B[38;5;28;01mdef\u001B[39;00m \u001B[38;5;21mget_embedding\u001B[39m(text):\n\u001B[1;32m      2\u001B[0m     \u001B[38;5;66;03m# Note how this function assumes you already set your Open AI key!\u001B[39;00m\n\u001B[0;32m----> 3\u001B[0m     result \u001B[38;5;241m=\u001B[39m \u001B[43mopenai\u001B[49m\u001B[38;5;241;43m.\u001B[39;49m\u001B[43mEmbedding\u001B[49m\u001B[38;5;241;43m.\u001B[39;49m\u001B[43mcreate\u001B[49m\u001B[43m(\u001B[49m\n\u001B[1;32m      4\u001B[0m \u001B[43m        \u001B[49m\u001B[43mmodel\u001B[49m\u001B[38;5;241;43m=\u001B[39;49m\u001B[38;5;124;43m'\u001B[39;49m\u001B[38;5;124;43mtext-embedding-ada-002\u001B[39;49m\u001B[38;5;124;43m'\u001B[39;49m\u001B[43m,\u001B[49m\n\u001B[1;32m      5\u001B[0m \u001B[43m        \u001B[49m\u001B[38;5;28;43minput\u001B[39;49m\u001B[38;5;241;43m=\u001B[39;49m\u001B[43mtext\u001B[49m\n\u001B[1;32m      6\u001B[0m \u001B[43m    \u001B[49m\u001B[43m)\u001B[49m\n\u001B[1;32m      7\u001B[0m     \u001B[38;5;28;01mreturn\u001B[39;00m result[\u001B[38;5;124m\"\u001B[39m\u001B[38;5;124mdata\u001B[39m\u001B[38;5;124m\"\u001B[39m][\u001B[38;5;241m0\u001B[39m][\u001B[38;5;124m\"\u001B[39m\u001B[38;5;124membedding\u001B[39m\u001B[38;5;124m\"\u001B[39m]\n",
      "File \u001B[0;32m/usr/local/Caskroom/miniconda/base/envs/genai/lib/python3.11/site-packages/openai/api_resources/embedding.py:33\u001B[0m, in \u001B[0;36mEmbedding.create\u001B[0;34m(cls, *args, **kwargs)\u001B[0m\n\u001B[1;32m     31\u001B[0m \u001B[38;5;28;01mwhile\u001B[39;00m \u001B[38;5;28;01mTrue\u001B[39;00m:\n\u001B[1;32m     32\u001B[0m     \u001B[38;5;28;01mtry\u001B[39;00m:\n\u001B[0;32m---> 33\u001B[0m         response \u001B[38;5;241m=\u001B[39m \u001B[38;5;28;43msuper\u001B[39;49m\u001B[43m(\u001B[49m\u001B[43m)\u001B[49m\u001B[38;5;241;43m.\u001B[39;49m\u001B[43mcreate\u001B[49m\u001B[43m(\u001B[49m\u001B[38;5;241;43m*\u001B[39;49m\u001B[43margs\u001B[49m\u001B[43m,\u001B[49m\u001B[43m \u001B[49m\u001B[38;5;241;43m*\u001B[39;49m\u001B[38;5;241;43m*\u001B[39;49m\u001B[43mkwargs\u001B[49m\u001B[43m)\u001B[49m\n\u001B[1;32m     35\u001B[0m         \u001B[38;5;66;03m# If a user specifies base64, we'll just return the encoded string.\u001B[39;00m\n\u001B[1;32m     36\u001B[0m         \u001B[38;5;66;03m# This is only for the default case.\u001B[39;00m\n\u001B[1;32m     37\u001B[0m         \u001B[38;5;28;01mif\u001B[39;00m \u001B[38;5;129;01mnot\u001B[39;00m user_provided_encoding_format:\n",
      "File \u001B[0;32m/usr/local/Caskroom/miniconda/base/envs/genai/lib/python3.11/site-packages/openai/api_resources/abstract/engine_api_resource.py:155\u001B[0m, in \u001B[0;36mEngineAPIResource.create\u001B[0;34m(cls, api_key, api_base, api_type, request_id, api_version, organization, **params)\u001B[0m\n\u001B[1;32m    129\u001B[0m \u001B[38;5;129m@classmethod\u001B[39m\n\u001B[1;32m    130\u001B[0m \u001B[38;5;28;01mdef\u001B[39;00m \u001B[38;5;21mcreate\u001B[39m(\n\u001B[1;32m    131\u001B[0m     \u001B[38;5;28mcls\u001B[39m,\n\u001B[0;32m   (...)\u001B[0m\n\u001B[1;32m    138\u001B[0m     \u001B[38;5;241m*\u001B[39m\u001B[38;5;241m*\u001B[39mparams,\n\u001B[1;32m    139\u001B[0m ):\n\u001B[1;32m    140\u001B[0m     (\n\u001B[1;32m    141\u001B[0m         deployment_id,\n\u001B[1;32m    142\u001B[0m         engine,\n\u001B[0;32m   (...)\u001B[0m\n\u001B[1;32m    152\u001B[0m         api_key, api_base, api_type, api_version, organization, \u001B[38;5;241m*\u001B[39m\u001B[38;5;241m*\u001B[39mparams\n\u001B[1;32m    153\u001B[0m     )\n\u001B[0;32m--> 155\u001B[0m     response, _, api_key \u001B[38;5;241m=\u001B[39m \u001B[43mrequestor\u001B[49m\u001B[38;5;241;43m.\u001B[39;49m\u001B[43mrequest\u001B[49m\u001B[43m(\u001B[49m\n\u001B[1;32m    156\u001B[0m \u001B[43m        \u001B[49m\u001B[38;5;124;43m\"\u001B[39;49m\u001B[38;5;124;43mpost\u001B[39;49m\u001B[38;5;124;43m\"\u001B[39;49m\u001B[43m,\u001B[49m\n\u001B[1;32m    157\u001B[0m \u001B[43m        \u001B[49m\u001B[43murl\u001B[49m\u001B[43m,\u001B[49m\n\u001B[1;32m    158\u001B[0m \u001B[43m        \u001B[49m\u001B[43mparams\u001B[49m\u001B[38;5;241;43m=\u001B[39;49m\u001B[43mparams\u001B[49m\u001B[43m,\u001B[49m\n\u001B[1;32m    159\u001B[0m \u001B[43m        \u001B[49m\u001B[43mheaders\u001B[49m\u001B[38;5;241;43m=\u001B[39;49m\u001B[43mheaders\u001B[49m\u001B[43m,\u001B[49m\n\u001B[1;32m    160\u001B[0m \u001B[43m        \u001B[49m\u001B[43mstream\u001B[49m\u001B[38;5;241;43m=\u001B[39;49m\u001B[43mstream\u001B[49m\u001B[43m,\u001B[49m\n\u001B[1;32m    161\u001B[0m \u001B[43m        \u001B[49m\u001B[43mrequest_id\u001B[49m\u001B[38;5;241;43m=\u001B[39;49m\u001B[43mrequest_id\u001B[49m\u001B[43m,\u001B[49m\n\u001B[1;32m    162\u001B[0m \u001B[43m        \u001B[49m\u001B[43mrequest_timeout\u001B[49m\u001B[38;5;241;43m=\u001B[39;49m\u001B[43mrequest_timeout\u001B[49m\u001B[43m,\u001B[49m\n\u001B[1;32m    163\u001B[0m \u001B[43m    \u001B[49m\u001B[43m)\u001B[49m\n\u001B[1;32m    165\u001B[0m     \u001B[38;5;28;01mif\u001B[39;00m stream:\n\u001B[1;32m    166\u001B[0m         \u001B[38;5;66;03m# must be an iterator\u001B[39;00m\n\u001B[1;32m    167\u001B[0m         \u001B[38;5;28;01massert\u001B[39;00m \u001B[38;5;129;01mnot\u001B[39;00m \u001B[38;5;28misinstance\u001B[39m(response, OpenAIResponse)\n",
      "File \u001B[0;32m/usr/local/Caskroom/miniconda/base/envs/genai/lib/python3.11/site-packages/openai/api_requestor.py:299\u001B[0m, in \u001B[0;36mAPIRequestor.request\u001B[0;34m(self, method, url, params, headers, files, stream, request_id, request_timeout)\u001B[0m\n\u001B[1;32m    278\u001B[0m \u001B[38;5;28;01mdef\u001B[39;00m \u001B[38;5;21mrequest\u001B[39m(\n\u001B[1;32m    279\u001B[0m     \u001B[38;5;28mself\u001B[39m,\n\u001B[1;32m    280\u001B[0m     method,\n\u001B[0;32m   (...)\u001B[0m\n\u001B[1;32m    287\u001B[0m     request_timeout: Optional[Union[\u001B[38;5;28mfloat\u001B[39m, Tuple[\u001B[38;5;28mfloat\u001B[39m, \u001B[38;5;28mfloat\u001B[39m]]] \u001B[38;5;241m=\u001B[39m \u001B[38;5;28;01mNone\u001B[39;00m,\n\u001B[1;32m    288\u001B[0m ) \u001B[38;5;241m-\u001B[39m\u001B[38;5;241m>\u001B[39m Tuple[Union[OpenAIResponse, Iterator[OpenAIResponse]], \u001B[38;5;28mbool\u001B[39m, \u001B[38;5;28mstr\u001B[39m]:\n\u001B[1;32m    289\u001B[0m     result \u001B[38;5;241m=\u001B[39m \u001B[38;5;28mself\u001B[39m\u001B[38;5;241m.\u001B[39mrequest_raw(\n\u001B[1;32m    290\u001B[0m         method\u001B[38;5;241m.\u001B[39mlower(),\n\u001B[1;32m    291\u001B[0m         url,\n\u001B[0;32m   (...)\u001B[0m\n\u001B[1;32m    297\u001B[0m         request_timeout\u001B[38;5;241m=\u001B[39mrequest_timeout,\n\u001B[1;32m    298\u001B[0m     )\n\u001B[0;32m--> 299\u001B[0m     resp, got_stream \u001B[38;5;241m=\u001B[39m \u001B[38;5;28;43mself\u001B[39;49m\u001B[38;5;241;43m.\u001B[39;49m\u001B[43m_interpret_response\u001B[49m\u001B[43m(\u001B[49m\u001B[43mresult\u001B[49m\u001B[43m,\u001B[49m\u001B[43m \u001B[49m\u001B[43mstream\u001B[49m\u001B[43m)\u001B[49m\n\u001B[1;32m    300\u001B[0m     \u001B[38;5;28;01mreturn\u001B[39;00m resp, got_stream, \u001B[38;5;28mself\u001B[39m\u001B[38;5;241m.\u001B[39mapi_key\n",
      "File \u001B[0;32m/usr/local/Caskroom/miniconda/base/envs/genai/lib/python3.11/site-packages/openai/api_requestor.py:710\u001B[0m, in \u001B[0;36mAPIRequestor._interpret_response\u001B[0;34m(self, result, stream)\u001B[0m\n\u001B[1;32m    702\u001B[0m     \u001B[38;5;28;01mreturn\u001B[39;00m (\n\u001B[1;32m    703\u001B[0m         \u001B[38;5;28mself\u001B[39m\u001B[38;5;241m.\u001B[39m_interpret_response_line(\n\u001B[1;32m    704\u001B[0m             line, result\u001B[38;5;241m.\u001B[39mstatus_code, result\u001B[38;5;241m.\u001B[39mheaders, stream\u001B[38;5;241m=\u001B[39m\u001B[38;5;28;01mTrue\u001B[39;00m\n\u001B[1;32m    705\u001B[0m         )\n\u001B[1;32m    706\u001B[0m         \u001B[38;5;28;01mfor\u001B[39;00m line \u001B[38;5;129;01min\u001B[39;00m parse_stream(result\u001B[38;5;241m.\u001B[39miter_lines())\n\u001B[1;32m    707\u001B[0m     ), \u001B[38;5;28;01mTrue\u001B[39;00m\n\u001B[1;32m    708\u001B[0m \u001B[38;5;28;01melse\u001B[39;00m:\n\u001B[1;32m    709\u001B[0m     \u001B[38;5;28;01mreturn\u001B[39;00m (\n\u001B[0;32m--> 710\u001B[0m         \u001B[38;5;28;43mself\u001B[39;49m\u001B[38;5;241;43m.\u001B[39;49m\u001B[43m_interpret_response_line\u001B[49m\u001B[43m(\u001B[49m\n\u001B[1;32m    711\u001B[0m \u001B[43m            \u001B[49m\u001B[43mresult\u001B[49m\u001B[38;5;241;43m.\u001B[39;49m\u001B[43mcontent\u001B[49m\u001B[38;5;241;43m.\u001B[39;49m\u001B[43mdecode\u001B[49m\u001B[43m(\u001B[49m\u001B[38;5;124;43m\"\u001B[39;49m\u001B[38;5;124;43mutf-8\u001B[39;49m\u001B[38;5;124;43m\"\u001B[39;49m\u001B[43m)\u001B[49m\u001B[43m,\u001B[49m\n\u001B[1;32m    712\u001B[0m \u001B[43m            \u001B[49m\u001B[43mresult\u001B[49m\u001B[38;5;241;43m.\u001B[39;49m\u001B[43mstatus_code\u001B[49m\u001B[43m,\u001B[49m\n\u001B[1;32m    713\u001B[0m \u001B[43m            \u001B[49m\u001B[43mresult\u001B[49m\u001B[38;5;241;43m.\u001B[39;49m\u001B[43mheaders\u001B[49m\u001B[43m,\u001B[49m\n\u001B[1;32m    714\u001B[0m \u001B[43m            \u001B[49m\u001B[43mstream\u001B[49m\u001B[38;5;241;43m=\u001B[39;49m\u001B[38;5;28;43;01mFalse\u001B[39;49;00m\u001B[43m,\u001B[49m\n\u001B[1;32m    715\u001B[0m \u001B[43m        \u001B[49m\u001B[43m)\u001B[49m,\n\u001B[1;32m    716\u001B[0m         \u001B[38;5;28;01mFalse\u001B[39;00m,\n\u001B[1;32m    717\u001B[0m     )\n",
      "File \u001B[0;32m/usr/local/Caskroom/miniconda/base/envs/genai/lib/python3.11/site-packages/openai/api_requestor.py:775\u001B[0m, in \u001B[0;36mAPIRequestor._interpret_response_line\u001B[0;34m(self, rbody, rcode, rheaders, stream)\u001B[0m\n\u001B[1;32m    773\u001B[0m stream_error \u001B[38;5;241m=\u001B[39m stream \u001B[38;5;129;01mand\u001B[39;00m \u001B[38;5;124m\"\u001B[39m\u001B[38;5;124merror\u001B[39m\u001B[38;5;124m\"\u001B[39m \u001B[38;5;129;01min\u001B[39;00m resp\u001B[38;5;241m.\u001B[39mdata\n\u001B[1;32m    774\u001B[0m \u001B[38;5;28;01mif\u001B[39;00m stream_error \u001B[38;5;129;01mor\u001B[39;00m \u001B[38;5;129;01mnot\u001B[39;00m \u001B[38;5;241m200\u001B[39m \u001B[38;5;241m<\u001B[39m\u001B[38;5;241m=\u001B[39m rcode \u001B[38;5;241m<\u001B[39m \u001B[38;5;241m300\u001B[39m:\n\u001B[0;32m--> 775\u001B[0m     \u001B[38;5;28;01mraise\u001B[39;00m \u001B[38;5;28mself\u001B[39m\u001B[38;5;241m.\u001B[39mhandle_error_response(\n\u001B[1;32m    776\u001B[0m         rbody, rcode, resp\u001B[38;5;241m.\u001B[39mdata, rheaders, stream_error\u001B[38;5;241m=\u001B[39mstream_error\n\u001B[1;32m    777\u001B[0m     )\n\u001B[1;32m    778\u001B[0m \u001B[38;5;28;01mreturn\u001B[39;00m resp\n",
      "\u001B[0;31mRateLimitError\u001B[0m: Rate limit reached for text-embedding-ada-002 in organization org-sVuYSPcznA6bMq4ub2FKJWEb on requests per min. Limit: 3 / min. Please try again in 20s. Contact us through our help center at help.openai.com if you continue to have issues. Please add a payment method to your account to increase your rate limit. Visit https://platform.openai.com/account/billing to add a payment method."
     ]
    }
   ],
   "source": [
    "# Now lets build for all the rows\n",
    "df['embeddings'] = df['summary'].apply(get_embedding)"
   ],
   "metadata": {
    "collapsed": false,
    "ExecuteTime": {
     "end_time": "2023-10-12T13:12:43.327695Z",
     "start_time": "2023-10-12T13:12:41.602890Z"
    }
   },
   "id": "7af1319b30d29b53"
  },
  {
   "cell_type": "code",
   "execution_count": 21,
   "outputs": [
    {
     "data": {
      "text/plain": "               Updated at     Company  \\\n0  10/31/2022, 2:37:05 AM       Esusu   \n1  10/31/2022, 2:37:05 AM  Fever Labs   \n2  10/31/2022, 2:37:04 AM       Minio   \n3  10/31/2022, 2:37:04 AM   Darwinbox   \n4  10/31/2022, 2:37:04 AM     Pentera   \n\n                                  Crunchbase Url  Last Valuation (Billion $)  \\\n0       https://www.cbinsights.com/company/esusu                         1.0   \n1  https://www.cbinsights.com/company/fever-labs                         1.0   \n2       https://www.cbinsights.com/company/minio                         1.0   \n3   https://www.cbinsights.com/company/darwinbox                         1.0   \n4      https://www.cbinsights.com/company/pcysys                         1.0   \n\n  Date Joined  Year Joined         City        Country  \\\n0   1/27/2022         2022     New York  United States   \n1   1/26/2022         2022     New York  United States   \n2   1/26/2022         2022    Palo Alto  United States   \n3   1/25/2022         2022    Hyderabad          India   \n4   1/11/2022         2022  Petah Tikva         Israel   \n\n                       Industry  \\\n0                       Fintech   \n1  Internet software & services   \n2   Data management & analytics   \n3  Internet software & services   \n4                Cybersecurity    \n\n                                           Investors  Company Website  \\\n0  [\"Next Play Ventures\",\"Zeal Capital Partners\",...              NaN   \n1                        [\"Accel\",\"14W\",\"GS Growth\"]              NaN   \n2  [\"General Catalyst\",\"Nexus Venture Partners\",\"...              NaN   \n3  [\"Lightspeed India Partners\",\"Sequoia Capital ...              NaN   \n4   [\"AWZ Ventures\",\"Blackstone\",\"Insight Partners\"]              NaN   \n\n                                             summary  token_count  \n0  Esusu has headquarters in New York and is in t...           53  \n1  Fever Labs has headquarters in New York and is...           55  \n2  Minio has headquarters in Palo Alto and is in ...           52  \n3  Darwinbox has headquarters in Hyderabad and is...           58  \n4  Pentera has headquarters in Petah Tikva and is...           54  ",
      "text/html": "<div>\n<style scoped>\n    .dataframe tbody tr th:only-of-type {\n        vertical-align: middle;\n    }\n\n    .dataframe tbody tr th {\n        vertical-align: top;\n    }\n\n    .dataframe thead th {\n        text-align: right;\n    }\n</style>\n<table border=\"1\" class=\"dataframe\">\n  <thead>\n    <tr style=\"text-align: right;\">\n      <th></th>\n      <th>Updated at</th>\n      <th>Company</th>\n      <th>Crunchbase Url</th>\n      <th>Last Valuation (Billion $)</th>\n      <th>Date Joined</th>\n      <th>Year Joined</th>\n      <th>City</th>\n      <th>Country</th>\n      <th>Industry</th>\n      <th>Investors</th>\n      <th>Company Website</th>\n      <th>summary</th>\n      <th>token_count</th>\n    </tr>\n  </thead>\n  <tbody>\n    <tr>\n      <th>0</th>\n      <td>10/31/2022, 2:37:05 AM</td>\n      <td>Esusu</td>\n      <td>https://www.cbinsights.com/company/esusu</td>\n      <td>1.0</td>\n      <td>1/27/2022</td>\n      <td>2022</td>\n      <td>New York</td>\n      <td>United States</td>\n      <td>Fintech</td>\n      <td>[\"Next Play Ventures\",\"Zeal Capital Partners\",...</td>\n      <td>NaN</td>\n      <td>Esusu has headquarters in New York and is in t...</td>\n      <td>53</td>\n    </tr>\n    <tr>\n      <th>1</th>\n      <td>10/31/2022, 2:37:05 AM</td>\n      <td>Fever Labs</td>\n      <td>https://www.cbinsights.com/company/fever-labs</td>\n      <td>1.0</td>\n      <td>1/26/2022</td>\n      <td>2022</td>\n      <td>New York</td>\n      <td>United States</td>\n      <td>Internet software &amp; services</td>\n      <td>[\"Accel\",\"14W\",\"GS Growth\"]</td>\n      <td>NaN</td>\n      <td>Fever Labs has headquarters in New York and is...</td>\n      <td>55</td>\n    </tr>\n    <tr>\n      <th>2</th>\n      <td>10/31/2022, 2:37:04 AM</td>\n      <td>Minio</td>\n      <td>https://www.cbinsights.com/company/minio</td>\n      <td>1.0</td>\n      <td>1/26/2022</td>\n      <td>2022</td>\n      <td>Palo Alto</td>\n      <td>United States</td>\n      <td>Data management &amp; analytics</td>\n      <td>[\"General Catalyst\",\"Nexus Venture Partners\",\"...</td>\n      <td>NaN</td>\n      <td>Minio has headquarters in Palo Alto and is in ...</td>\n      <td>52</td>\n    </tr>\n    <tr>\n      <th>3</th>\n      <td>10/31/2022, 2:37:04 AM</td>\n      <td>Darwinbox</td>\n      <td>https://www.cbinsights.com/company/darwinbox</td>\n      <td>1.0</td>\n      <td>1/25/2022</td>\n      <td>2022</td>\n      <td>Hyderabad</td>\n      <td>India</td>\n      <td>Internet software &amp; services</td>\n      <td>[\"Lightspeed India Partners\",\"Sequoia Capital ...</td>\n      <td>NaN</td>\n      <td>Darwinbox has headquarters in Hyderabad and is...</td>\n      <td>58</td>\n    </tr>\n    <tr>\n      <th>4</th>\n      <td>10/31/2022, 2:37:04 AM</td>\n      <td>Pentera</td>\n      <td>https://www.cbinsights.com/company/pcysys</td>\n      <td>1.0</td>\n      <td>1/11/2022</td>\n      <td>2022</td>\n      <td>Petah Tikva</td>\n      <td>Israel</td>\n      <td>Cybersecurity</td>\n      <td>[\"AWZ Ventures\",\"Blackstone\",\"Insight Partners\"]</td>\n      <td>NaN</td>\n      <td>Pentera has headquarters in Petah Tikva and is...</td>\n      <td>54</td>\n    </tr>\n  </tbody>\n</table>\n</div>"
     },
     "execution_count": 21,
     "metadata": {},
     "output_type": "execute_result"
    }
   ],
   "source": [
    "df.head()"
   ],
   "metadata": {
    "collapsed": false,
    "ExecuteTime": {
     "end_time": "2023-10-12T13:12:18.692565Z",
     "start_time": "2023-10-12T13:12:18.666404Z"
    }
   },
   "id": "89b02f3ae07d5d70"
  },
  {
   "cell_type": "code",
   "execution_count": null,
   "outputs": [],
   "source": [],
   "metadata": {
    "collapsed": false
   },
   "id": "4c87455d3d70d279"
  }
 ],
 "metadata": {
  "kernelspec": {
   "display_name": "Python 3",
   "language": "python",
   "name": "python3"
  },
  "language_info": {
   "codemirror_mode": {
    "name": "ipython",
    "version": 2
   },
   "file_extension": ".py",
   "mimetype": "text/x-python",
   "name": "python",
   "nbconvert_exporter": "python",
   "pygments_lexer": "ipython2",
   "version": "2.7.6"
  }
 },
 "nbformat": 4,
 "nbformat_minor": 5
}
