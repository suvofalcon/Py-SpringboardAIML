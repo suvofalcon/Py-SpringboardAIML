{
 "cells": [
  {
   "cell_type": "markdown",
   "metadata": {},
   "source": [
    "# Demonstration on How to Connect ChatGPT 3.5 using API"
   ]
  },
  {
   "cell_type": "code",
   "execution_count": 1,
   "metadata": {},
   "outputs": [],
   "source": [
    "import os\n",
    "import openai\n",
    "\n",
    "openai.api_key = os.environ[\"OPENAI_API_KEY\"]"
   ]
  },
  {
   "cell_type": "code",
   "execution_count": 2,
   "metadata": {},
   "outputs": [],
   "source": [
    "response = openai.ChatCompletion.create(\n",
    "  model=\"gpt-3.5-turbo\",\n",
    "  messages=[\n",
    "    {\n",
    "      \"role\": \"user\",\n",
    "      \"content\": \"Give me Two reasons to use OpenAI API with Python?\"\n",
    "    }\n",
    "  ],\n",
    "  temperature=1,\n",
    "  max_tokens=300,\n",
    "  top_p=1,\n",
    "  frequency_penalty=0,\n",
    "  presence_penalty=0\n",
    ")"
   ]
  },
  {
   "cell_type": "code",
   "execution_count": 6,
   "metadata": {},
   "outputs": [
    {
     "data": {
      "text/plain": [
       "<OpenAIObject chat.completion id=chatcmpl-83P5DI4Qu9OlAtmCPuDMtOEU3XIAj at 0x7fd23a3ebb00> JSON: {\n",
       "  \"id\": \"chatcmpl-83P5DI4Qu9OlAtmCPuDMtOEU3XIAj\",\n",
       "  \"object\": \"chat.completion\",\n",
       "  \"created\": 1695822095,\n",
       "  \"model\": \"gpt-3.5-turbo-0613\",\n",
       "  \"choices\": [\n",
       "    {\n",
       "      \"index\": 0,\n",
       "      \"message\": {\n",
       "        \"role\": \"assistant\",\n",
       "        \"content\": \"1. Pre-trained Models: OpenAI API provides access to powerful pre-trained models such as GPT-3, which can be used for various natural language processing (NLP) tasks. These models have been trained on vast amounts of data and can generate human-like text, summarize articles, answer questions, translate languages, and much more. By leveraging these pre-trained models, you can save significant time and effort in building your own models from scratch.\\n\\n2. Ease of Integration: OpenAI API can be seamlessly integrated into your Python projects. The API provides a straightforward interface for making requests and receiving responses, allowing you to quickly incorporate the capabilities of OpenAI's models into your applications. Whether you want to develop a chatbot, automate text generation, or enhance your existing NLP pipelines, using OpenAI API with Python simplifies the integration process and enables you to leverage the advanced NLP capabilities of the models.\"\n",
       "      },\n",
       "      \"finish_reason\": \"stop\"\n",
       "    }\n",
       "  ],\n",
       "  \"usage\": {\n",
       "    \"prompt_tokens\": 19,\n",
       "    \"completion_tokens\": 183,\n",
       "    \"total_tokens\": 202\n",
       "  }\n",
       "}"
      ]
     },
     "execution_count": 6,
     "metadata": {},
     "output_type": "execute_result"
    }
   ],
   "source": [
    "# to view the response object\n",
    "response"
   ]
  },
  {
   "cell_type": "code",
   "execution_count": 13,
   "metadata": {},
   "outputs": [
    {
     "data": {
      "text/plain": [
       "\"1. Pre-trained Models: OpenAI API provides access to powerful pre-trained models such as GPT-3, which can be used for various natural language processing (NLP) tasks. These models have been trained on vast amounts of data and can generate human-like text, summarize articles, answer questions, translate languages, and much more. By leveraging these pre-trained models, you can save significant time and effort in building your own models from scratch.\\n\\n2. Ease of Integration: OpenAI API can be seamlessly integrated into your Python projects. The API provides a straightforward interface for making requests and receiving responses, allowing you to quickly incorporate the capabilities of OpenAI's models into your applications. Whether you want to develop a chatbot, automate text generation, or enhance your existing NLP pipelines, using OpenAI API with Python simplifies the integration process and enables you to leverage the advanced NLP capabilities of the models.\""
      ]
     },
     "execution_count": 13,
     "metadata": {},
     "output_type": "execute_result"
    }
   ],
   "source": [
    "# to extract the exact response\n",
    "response['choices'][0]['message']['content']"
   ]
  },
  {
   "cell_type": "code",
   "execution_count": 14,
   "metadata": {},
   "outputs": [
    {
     "name": "stdout",
     "output_type": "stream",
     "text": [
      "1. Pre-trained Models: OpenAI API provides access to powerful pre-trained models such as GPT-3, which can be used for various natural language processing (NLP) tasks. These models have been trained on vast amounts of data and can generate human-like text, summarize articles, answer questions, translate languages, and much more. By leveraging these pre-trained models, you can save significant time and effort in building your own models from scratch.\n",
      "\n",
      "2. Ease of Integration: OpenAI API can be seamlessly integrated into your Python projects. The API provides a straightforward interface for making requests and receiving responses, allowing you to quickly incorporate the capabilities of OpenAI's models into your applications. Whether you want to develop a chatbot, automate text generation, or enhance your existing NLP pipelines, using OpenAI API with Python simplifies the integration process and enables you to leverage the advanced NLP capabilities of the models.\n"
     ]
    }
   ],
   "source": [
    "print(response['choices'][0]['message']['content'])"
   ]
  },
  {
   "cell_type": "code",
   "execution_count": null,
   "metadata": {},
   "outputs": [],
   "source": []
  }
 ],
 "metadata": {
  "kernelspec": {
   "display_name": "tensorflow",
   "language": "python",
   "name": "python3"
  },
  "language_info": {
   "codemirror_mode": {
    "name": "ipython",
    "version": 3
   },
   "file_extension": ".py",
   "mimetype": "text/x-python",
   "name": "python",
   "nbconvert_exporter": "python",
   "pygments_lexer": "ipython3",
   "version": "3.10.12"
  },
  "orig_nbformat": 4
 },
 "nbformat": 4,
 "nbformat_minor": 2
}
