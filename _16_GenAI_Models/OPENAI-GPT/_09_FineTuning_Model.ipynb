{
 "cells": [
  {
   "cell_type": "markdown",
   "source": [
    "# Fine-Tuning a Model - ChatBot Example\n",
    "\n",
    "In this project, we'll explore how to fine-tune a GPT model such as text-babbage model with our own data set. You should note, this may not be needed for more advanced text-davinci models or future GPT-4 models, but let's explore the process of creating our \n",
    "own custom fine-tuning data set, formatting it for OpenAI, and then training and calling our own custom model."
   ],
   "metadata": {
    "collapsed": false
   },
   "id": "8226b80dd5d52778"
  },
  {
   "cell_type": "markdown",
   "source": [
    "### Library Imports"
   ],
   "metadata": {
    "collapsed": false
   },
   "id": "4e7a7e68414cade9"
  },
  {
   "cell_type": "code",
   "execution_count": 1,
   "id": "initial_id",
   "metadata": {
    "collapsed": true,
    "ExecuteTime": {
     "end_time": "2023-10-10T12:53:09.774505Z",
     "start_time": "2023-10-10T12:53:08.993548Z"
    }
   },
   "outputs": [],
   "source": [
    "import os\n",
    "import json\n",
    "import pandas as pd\n",
    "import tiktoken\n",
    "import openai"
   ]
  },
  {
   "cell_type": "markdown",
   "source": [
    "### Load the Q&A Data"
   ],
   "metadata": {
    "collapsed": false
   },
   "id": "d121c2cd3a5e2254"
  },
  {
   "cell_type": "code",
   "execution_count": 2,
   "outputs": [
    {
     "data": {
      "text/plain": "      Id  OwnerUserId          CreationDate            ClosedDate  Score  \\\n0  11060        912.0  2008-08-14T13:59:21Z                   NaN     18   \n1  17250        394.0  2008-08-20T00:16:40Z                   NaN     24   \n2  31340     242853.0  2008-08-27T23:44:47Z                   NaN     71   \n3  34020       3561.0  2008-08-29T05:43:16Z                   NaN     17   \n4  34570        577.0  2008-08-29T16:10:41Z  2011-11-08T16:11:43Z     13   \n\n                                               Title  \\\n0           How should I unit test a code-generator?   \n1             Create an encrypted ZIP file in Python   \n2  How do threads work in Python, and what are co...   \n3                          Are Python threads buggy?   \n4  What is the best quick-read Python book out th...   \n\n                                                Body  ParentId  \\\n0  This is a difficult and open-ended question I ...     11060   \n1  I'm creating an ZIP file with ZipFile in Pytho...     17250   \n2  I've been trying to wrap my head around how th...     31340   \n3  A reliable coder friend told me that Python's ...     34020   \n4  I am taking a class that requires Python. We w...     34570   \n\n                                              Answer  \n0  I started writing up a summary of my experienc...  \n1  I created a simple library to create a passwor...  \n2  Yes, because of the Global Interpreter Lock (G...  \n3  Python threads are good for concurrent I/O pro...  \n4  I loved Dive Into Python, especially if you're...  ",
      "text/html": "<div>\n<style scoped>\n    .dataframe tbody tr th:only-of-type {\n        vertical-align: middle;\n    }\n\n    .dataframe tbody tr th {\n        vertical-align: top;\n    }\n\n    .dataframe thead th {\n        text-align: right;\n    }\n</style>\n<table border=\"1\" class=\"dataframe\">\n  <thead>\n    <tr style=\"text-align: right;\">\n      <th></th>\n      <th>Id</th>\n      <th>OwnerUserId</th>\n      <th>CreationDate</th>\n      <th>ClosedDate</th>\n      <th>Score</th>\n      <th>Title</th>\n      <th>Body</th>\n      <th>ParentId</th>\n      <th>Answer</th>\n    </tr>\n  </thead>\n  <tbody>\n    <tr>\n      <th>0</th>\n      <td>11060</td>\n      <td>912.0</td>\n      <td>2008-08-14T13:59:21Z</td>\n      <td>NaN</td>\n      <td>18</td>\n      <td>How should I unit test a code-generator?</td>\n      <td>This is a difficult and open-ended question I ...</td>\n      <td>11060</td>\n      <td>I started writing up a summary of my experienc...</td>\n    </tr>\n    <tr>\n      <th>1</th>\n      <td>17250</td>\n      <td>394.0</td>\n      <td>2008-08-20T00:16:40Z</td>\n      <td>NaN</td>\n      <td>24</td>\n      <td>Create an encrypted ZIP file in Python</td>\n      <td>I'm creating an ZIP file with ZipFile in Pytho...</td>\n      <td>17250</td>\n      <td>I created a simple library to create a passwor...</td>\n    </tr>\n    <tr>\n      <th>2</th>\n      <td>31340</td>\n      <td>242853.0</td>\n      <td>2008-08-27T23:44:47Z</td>\n      <td>NaN</td>\n      <td>71</td>\n      <td>How do threads work in Python, and what are co...</td>\n      <td>I've been trying to wrap my head around how th...</td>\n      <td>31340</td>\n      <td>Yes, because of the Global Interpreter Lock (G...</td>\n    </tr>\n    <tr>\n      <th>3</th>\n      <td>34020</td>\n      <td>3561.0</td>\n      <td>2008-08-29T05:43:16Z</td>\n      <td>NaN</td>\n      <td>17</td>\n      <td>Are Python threads buggy?</td>\n      <td>A reliable coder friend told me that Python's ...</td>\n      <td>34020</td>\n      <td>Python threads are good for concurrent I/O pro...</td>\n    </tr>\n    <tr>\n      <th>4</th>\n      <td>34570</td>\n      <td>577.0</td>\n      <td>2008-08-29T16:10:41Z</td>\n      <td>2011-11-08T16:11:43Z</td>\n      <td>13</td>\n      <td>What is the best quick-read Python book out th...</td>\n      <td>I am taking a class that requires Python. We w...</td>\n      <td>34570</td>\n      <td>I loved Dive Into Python, especially if you're...</td>\n    </tr>\n  </tbody>\n</table>\n</div>"
     },
     "execution_count": 2,
     "metadata": {},
     "output_type": "execute_result"
    }
   ],
   "source": [
    "data_frame = pd.read_csv(\"/Volumes/Data/Datasets/genai_datasets/python_qa.csv\")\n",
    "data_frame.head()"
   ],
   "metadata": {
    "collapsed": false,
    "ExecuteTime": {
     "end_time": "2023-10-10T13:02:02.345439Z",
     "start_time": "2023-10-10T13:02:02.064035Z"
    }
   },
   "id": "b151fe293ced5a56"
  },
  {
   "cell_type": "markdown",
   "source": [
    "### Formatting for Fine Tuning\n",
    "\n",
    "The formatting for a fine-tuning data set involves a prompt and expected completion. This leads fine-tuning to be a great choice for dialogue instances, such as question and answer or customer support.\n",
    "\n",
    "The format should look like the following (a list of dictionaries): <br><br>\n",
    "\n",
    "    [{\"prompt\": \"some prompt string\",\"completion\":\"the best completed text option given the prompt\"},]\n",
    "    \n",
    "\n",
    "Convert the information from CSV to the fine tuning format"
   ],
   "metadata": {
    "collapsed": false
   },
   "id": "3f39f4e766578e86"
  },
  {
   "cell_type": "code",
   "execution_count": 3,
   "outputs": [],
   "source": [
    "questions, answers = data_frame[\"Body\"], data_frame[\"Answer\"] # Use tuple Unpacking"
   ],
   "metadata": {
    "collapsed": false,
    "ExecuteTime": {
     "end_time": "2023-10-10T13:14:54.123144Z",
     "start_time": "2023-10-10T13:14:54.115561Z"
    }
   },
   "id": "9aa23c5646778716"
  },
  {
   "cell_type": "code",
   "execution_count": 5,
   "outputs": [
    {
     "data": {
      "text/plain": "0    This is a difficult and open-ended question I ...\n1    I'm creating an ZIP file with ZipFile in Pytho...\n2    I've been trying to wrap my head around how th...\n3    A reliable coder friend told me that Python's ...\n4    I am taking a class that requires Python. We w...\nName: Body, dtype: object"
     },
     "execution_count": 5,
     "metadata": {},
     "output_type": "execute_result"
    }
   ],
   "source": [
    "questions.head()"
   ],
   "metadata": {
    "collapsed": false,
    "ExecuteTime": {
     "end_time": "2023-10-10T13:15:18.535479Z",
     "start_time": "2023-10-10T13:15:18.528510Z"
    }
   },
   "id": "2b6294e43d07a857"
  },
  {
   "cell_type": "code",
   "execution_count": 6,
   "outputs": [
    {
     "data": {
      "text/plain": "0    I started writing up a summary of my experienc...\n1    I created a simple library to create a passwor...\n2    Yes, because of the Global Interpreter Lock (G...\n3    Python threads are good for concurrent I/O pro...\n4    I loved Dive Into Python, especially if you're...\nName: Answer, dtype: object"
     },
     "execution_count": 6,
     "metadata": {},
     "output_type": "execute_result"
    }
   ],
   "source": [
    "answers.head()"
   ],
   "metadata": {
    "collapsed": false,
    "ExecuteTime": {
     "end_time": "2023-10-10T13:15:27.430394Z",
     "start_time": "2023-10-10T13:15:27.412904Z"
    }
   },
   "id": "1dd7b202df1fdd4a"
  },
  {
   "cell_type": "code",
   "execution_count": 11,
   "outputs": [
    {
     "data": {
      "text/plain": "{'prompt': \"I am starting to use Python (specifically because of Django) and I would like to remove the burden for exhaustive testing by performing some static analysis.  What tools/parameters/etc. exist to detect issues at compile time that would otherwise show up during runtime? (type errors are probably the most obvious case of this, but undefined variables are another big one that could be avoided with an in-depth analysis of the AST.)\\n\\nObviously testing is important, and I don't imply that tests can be obviated entirely; however, there are many runtime errors in python that are not possible in other languages that perform stricter run-time checking -- I'm hoping that there are tools to bring at least some of these capabilities to python as well.\\n\",\n 'completion': \"pylint is the best such tool I've found. Due to Python's nature it's difficult to statically analyze it, but it will catch undefined variables, basic type errors, unused code, etc. You'll want to tweak the configuration file, as by default it outputs many warnings I consider useless or harmful.\\n\\nHere's part of my .pylintrc dealing with warning silencing:\\n\\n[MESSAGES CONTROL]\\n\\n# Brain-dead errors regarding standard language features\\n#   W0142 = *args and **kwargs support\\n#   W0403 = Relative imports\\n\\n# Pointless whinging\\n#   R0201 = Method could be a function\\n#   W0212 = Accessing protected attribute of client class\\n#   W0613 = Unused argument\\n#   W0232 = Class has no __init__ method\\n#   R0903 = Too few public methods\\n#   C0301 = Line too long\\n#   R0913 = Too many arguments\\n#   C0103 = Invalid name\\n#   R0914 = Too many local variables\\n\\n# PyLint's module importation is unreliable\\n#   F0401 = Unable to import module\\n#   W0402 = Uses of a deprecated module\\n\\n# Already an error when wildcard imports are used\\n#   W0614 = Unused import from wildcard\\n\\n# Sometimes disabled depending on how bad a module is\\n#   C0111 = Missing docstring\\n\\n# Disable the message(s) with the given id(s).\\ndisable=W0142,W0403,R0201,W0212,W0613,W0232,R0903,W0614,C0111,C0301,R0913,C0103,F0401,W0402,R0914\\n\\n\"}"
     },
     "execution_count": 11,
     "metadata": {},
     "output_type": "execute_result"
    }
   ],
   "source": [
    "# Now we will create the list of dictionary in the format\n",
    "qa_openai_format = [{\"prompt\": q, \"completion\": a} for q, a in zip(questions, answers)]\n",
    "qa_openai_format[5]"
   ],
   "metadata": {
    "collapsed": false,
    "ExecuteTime": {
     "end_time": "2023-10-10T13:20:25.437911Z",
     "start_time": "2023-10-10T13:20:25.425926Z"
    }
   },
   "id": "96f4882c4ed4f235"
  },
  {
   "cell_type": "code",
   "execution_count": 12,
   "outputs": [
    {
     "data": {
      "text/plain": "4429"
     },
     "execution_count": 12,
     "metadata": {},
     "output_type": "execute_result"
    }
   ],
   "source": [
    "# Check the length of the training prompt\n",
    "len(qa_openai_format)"
   ],
   "metadata": {
    "collapsed": false,
    "ExecuteTime": {
     "end_time": "2023-10-10T13:21:09.893618Z",
     "start_time": "2023-10-10T13:21:09.887743Z"
    }
   },
   "id": "8de0f8671a219c17"
  },
  {
   "cell_type": "markdown",
   "source": [
    "### Price Estimation\n",
    "\n",
    "In case you are ever worried about how many tokens your text actually has (to get an estimate of your costs) OpenAI has a library called \"tiktoken\", which allows you to estimate a cost based on token counts.\n",
    "\n",
    "Splitting text strings into tokens is useful because models like GPT-3 see text in the form of tokens. Knowing how many tokens are in a text string can tell you (a) whether the string is too long for a text model to process and (b) how much an OpenAI API call costs (as usage is priced by token). Different models use different encodings.\n",
    "\n",
    "**tiktoken** supports 3 different encodings for OpenAI models:\n",
    "\n",
    "* \"gpt2\" for most gpt-3 models\n",
    "* \"p50k_base\" for code models, and Davinci models, like \"text-davinci-003\"\n",
    "* \"cl100k_base\" for text-embedding-ada-002\n",
    "\n",
    "Make sure to view the pricing page on the OpenAI page for full information, for now, we'll cut down the data size so we don't spend too much money during training."
   ],
   "metadata": {
    "collapsed": false
   },
   "id": "ae5af145c1470f10"
  },
  {
   "cell_type": "code",
   "execution_count": 13,
   "outputs": [],
   "source": [
    "def num_tokens_from_string(string, encoding_name):\n",
    "    \"\"\"Returns the number of tokens in a text string.\"\"\"\n",
    "    encoding = tiktoken.get_encoding(encoding_name)\n",
    "    num_tokens = len(encoding.encode(string))\n",
    "    return num_tokens"
   ],
   "metadata": {
    "collapsed": false,
    "ExecuteTime": {
     "end_time": "2023-10-10T13:32:35.115452Z",
     "start_time": "2023-10-10T13:32:35.099625Z"
    }
   },
   "id": "b1b67fc8066364f3"
  },
  {
   "cell_type": "code",
   "execution_count": 15,
   "outputs": [],
   "source": [
    "# In order to minimize cost, we would just consider the first 500 entries from our openai format and dump it in a json file\n",
    "dataset_size = 500"
   ],
   "metadata": {
    "collapsed": false,
    "ExecuteTime": {
     "end_time": "2023-10-10T13:51:43.176764Z",
     "start_time": "2023-10-10T13:51:43.171410Z"
    }
   },
   "id": "aff752e138b02875"
  },
  {
   "cell_type": "code",
   "execution_count": null,
   "outputs": [],
   "source": [],
   "metadata": {
    "collapsed": false
   },
   "id": "b184e18a7c1a46e3"
  }
 ],
 "metadata": {
  "kernelspec": {
   "display_name": "Python 3",
   "language": "python",
   "name": "python3"
  },
  "language_info": {
   "codemirror_mode": {
    "name": "ipython",
    "version": 2
   },
   "file_extension": ".py",
   "mimetype": "text/x-python",
   "name": "python",
   "nbconvert_exporter": "python",
   "pygments_lexer": "ipython2",
   "version": "2.7.6"
  }
 },
 "nbformat": 4,
 "nbformat_minor": 5
}
