{
 "cells": [
  {
   "cell_type": "markdown",
   "source": [
    "# Perform Sentiment Analysis on Reddit Posts\n",
    "\n",
    "Reddit API:\n",
    "\n",
    "Go to https://www.reddit.com/prefs/apps\n",
    "Click \"create application\"\n",
    "Name: My Sentiment Example\n",
    "Choose script\n",
    "Leave description and about url blank\n",
    "Add http://www.example.com/unused/redirect/uri to redirect uri"
   ],
   "metadata": {
    "collapsed": false
   },
   "id": "3bfb5bbf3588e758"
  },
  {
   "cell_type": "markdown",
   "source": [
    "## Library Imports"
   ],
   "metadata": {
    "collapsed": false
   },
   "id": "a552c597754344d5"
  },
  {
   "cell_type": "code",
   "execution_count": 1,
   "id": "initial_id",
   "metadata": {
    "collapsed": true,
    "ExecuteTime": {
     "end_time": "2023-10-05T14:08:32.958468Z",
     "start_time": "2023-10-05T14:08:32.617487Z"
    }
   },
   "outputs": [],
   "source": [
    "import os\n",
    "import praw\n",
    "import openai"
   ]
  },
  {
   "cell_type": "code",
   "execution_count": 3,
   "outputs": [],
   "source": [
    "reddit_client_id = os.environ[\"REDDIT_CLIENT_ID\"]\n",
    "reddit_secret_key = os.environ[\"REDDIT_SECRET_KEY\"]\n",
    "\n",
    "openai.api_key = os.environ[\"OPENAI_API_KEY\"]"
   ],
   "metadata": {
    "collapsed": false,
    "ExecuteTime": {
     "end_time": "2023-10-05T14:09:08.113556Z",
     "start_time": "2023-10-05T14:09:08.103102Z"
    }
   },
   "id": "d590513025f5f88f"
  },
  {
   "cell_type": "code",
   "execution_count": 4,
   "outputs": [],
   "source": [
    "'''\n",
    "Initialize the Reddit API\n",
    "'''\n",
    "reddit = praw.Reddit(client_id=reddit_client_id,\n",
    "                     client_secret=reddit_secret_key,\n",
    "                     user_agent=\"Sentiment Analysis test by suvofalcon\")"
   ],
   "metadata": {
    "collapsed": false,
    "ExecuteTime": {
     "end_time": "2023-10-05T14:10:50.484978Z",
     "start_time": "2023-10-05T14:10:50.305457Z"
    }
   },
   "id": "fc95acef18094ac9"
  },
  {
   "cell_type": "code",
   "execution_count": 24,
   "outputs": [
    {
     "name": "stdout",
     "output_type": "stream",
     "text": [
      "Title - Rate My Portfolio - r/Stocks Quarterly Thread September 2023\n",
      "My [last post](https://www.reddit.com/r/stocks/comments/11ezwar/rate_my_portfolio_rstocks_quarterly_thread_march/jah0b73/) was 6 months ago.\n",
      "\n",
      "To recap, a brief overview of my strategy, that has not since changed:\n",
      "\n",
      "> I am 26, so I have several decades until retirement. My goal is to hold the stocks in my portfolio perpetually, though I'm not reserved to make adjustments and sell when a) I see an opportunity to take profits b) my thesis changes. My long term goal is passive income generation, though I don't chase yields. I don't pay much attention to valuation or macro, as I think that since I plan on holding these stocks for decades while buying every month, those don't matter to me much.\n",
      "\n",
      "> I invest regularly every month, so I'm okay with buying at a higher valuation at times and lower valuation at other times. In my opinion, buying at the best possible time is more difficult than buying a good company. That said, if I see an undervalued stock I like, I don't hesitate to buy more and when I make my regular contributions, I try weigh towards stocks that might have been beaten down or seem undervalued.\n",
      "\n",
      "> I like stocks that are quality companies with:\n",
      "\n",
      "> -\tA sustainable business model - high cash flow generation, high ROIC / ROCE, good balance sheet. Bonus points for recurring, diversified revenue, and optionality.\n",
      "> -\tBusiness model and products I understand, or at least understand their value. I don't think I'll ever understand ASML's machines, but I understand why it's one of a kind company.\n",
      "> -\tA wide moat. Bonus points are for brand value, network effect, IP, barriers to entry / high switching costs, supply chain, etc. I am okay with paying a high multiple for a company that cannot be replicated by throwing money at the problem. Almost every company I own scores very high in this regard in my own checklist.\n",
      "> -\tHigh margins. I focus mostly on gross margin, but consider other margin metrics, too.\n",
      "> -\tSustainable buybacks and dividend growth.\n",
      "> -\tGreat management.\n",
      "\n",
      "I made some changes to my portfolio:\n",
      "\n",
      "- I no longer own the CARB carbon allowance ETF. It was good for some hedging but I wanted to simplify my approach a bit.\n",
      "- I no longer own small cap and EM ETFs. I only have MSCI World ETF (15%) and MSCI World Quality ETF (10%). I wanted to intensify my focus on quality companies and simplify my approach.\n",
      "\n",
      "- I sold BN & BAM, UNP, LMT, ADBE, JNJ. I was no longer comfortable with Brookfield's structure and my lack of understanding it, so I sold all my Brookfield holdings after almost 4 years I've held them. ADBE had really nice growth and I felt better taking the profits. I like that they will probably adapt to generative AI pretty well. I love the company and might buy back later. UNP, LMT, JNJ are all good but I think I wanted to focus on more innovative (less so with LMT) and consumer oriented businesses (less so with JNJ).\n",
      "\n",
      "- I bought LVMH, LLY, PM, IDXX, ZTS, L'oreal, META. I briefly held EL which I sold (at loss) and bought L'oreal instead.\n",
      "\n",
      "- I increased the weights of my core holdings. 6 of my stocks (MSFT, AAPL, ASML, V, MA, NVO) account for >50% of my stocks, 9 (+ LVMH, GOOG, COST) account for 50% of my overall portfolio.\n",
      "\n",
      "My current holdings:\n",
      "\n",
      "| **Name**                        | Ticker | Return | Weight | Target weight |\n",
      "|---------------------------------|--------|-------:|-------:|--------------:|\n",
      "| **MSCI World**                  |        |  23,7% |  14,6% |         15,0% |\n",
      "| **MSCI World Quality**          |        |  31,9% |   9,8% |         10,0% |\n",
      "| **Microsoft**                   | MSFT   |  51,9% |   7,6% |          6,5% |\n",
      "| **Apple**                       | AAPL   |  48,2% |   6,8% |          6,5% |\n",
      "| **ASML Holding**                | ASML   |   9,7% |   6,4% |          6,5% |\n",
      "| **Visa**                        | V      |  15,1% |   6,2% |          6,0% |\n",
      "| **MasterCard**                  | MA     |  20,1% |   5,8% |          6,0% |\n",
      "| **Novo Nordisk**                | NVO    |  31,1% |   5,2% |          5,5% |\n",
      "| **LVMH**                        | EPA:MC |  -5,9% |   5,0% |          4,5% |\n",
      "| **Costco**                      | COST   |   6,8% |   3,8% |          4,0% |\n",
      "| **Alphabet**                    | GOOG   |  33,3% |   4,5% |          3,5% |\n",
      "| **Eli Lilly**                   | LLY    |  15,1% |   1,9% |          3,5% |\n",
      "| **The Home Depot**              | HD     |  13,1% |   4,4% |          3,0% |\n",
      "| **Ulta Beauty**                 | ULTA   |   3,9% |   3,8% |          3,0% |\n",
      "| **Intuitive Surgical**          | ISRG   |  71,7% |   3,4% |          3,0% |\n",
      "| **Meta Platforms**              | META   |  51,3% |   2,9% |          3,0% |\n",
      "| **L'Oreal**                     | EPA:OR |   2,1% |   1,5% |          3,0% |\n",
      "| **Philip Morris International** | PM     |   1,2% |   2,7% |          2,5% |\n",
      "| **Zoetis**                      | ZTS    |  14,6% |   2,1% |          2,5% |\n",
      "| **Idexx Laboratories**          | IDXX   |   5,1% |   1,4% |          2,5% |\n",
      "\n",
      "I view all of these as great companies with a history of compounding and a great future driven by secular trends. I think the themes of my portfolio are pretty clear:\n",
      "\n",
      "- Big tech with massive cash flows and wide moat (AAPL, MSFT, ASML, GOOG, META). I was hesitant about buying Meta, but the numbers are so good. The semiconductor business is too complicated for my liking, so I tend to avoid those companies (I briefly owned AMD and NVDA a few years ago). ASML is even more complicated, but that's part of the monopoly and it seems like they are decades ahead of any competition, especially with protectionist policies from the US and EU. NVDA matches a lot of what I look for in the company, but I think there is and will be too much volatility, so I'm not buying it.\n",
      "\n",
      "- Toll booth companies for a world with growing cashless payments (MA, V). Some of the greatest businesses in the world. Not much more to say. There might be competition in the future, but their scale gives them so many advantages.\n",
      "\n",
      "- Aging society, obesity, diabetes (NVO, LLY, ISRG). NVO and LLY are probably the two best pharma companies in the world. They might seem overvalued, but once you look into the companies, you realize they really are that great. NVO and LLY now also pretty much make miracle drugs with an ever increasing number of patients. Even without Wegovy / Ozempic / Mounjaro they have amazing numbers. Now they'll have walking happy advertisements walking around. The benefits of the drugs clearly outsize the side effects, so once it becomes accessible, it will be great business.\n",
      "\n",
      "- Quality retail / consumer stocks with loyal customers, good business models, high market share (LVMH, COST, HD, ULTA).\n",
      "\n",
      "- Luxury, beauty, cosmetics (LVMH, ULTA, L'oreal). LVMH is an incredibly well managed conglomerate, probably one of the greatest in the world. There are companies that are centuries old and it's unbelievable how huge they made the luxury market. I recommend the [Acquired podcast episode](https://open.spotify.com/episode/7lMY1C8AMFinpVMTgAH9D9) about the company. ULTA has incredible customer loyalty and growth. I'm curious if they can expand internationally sometime later. L'Oreal is similarly a giant conglomerate. I at first went with Estee Lauder, but it seems like the next few years will be volatile. I believe EL will be very strong in the future, but I don't want to risk the short term volatility. L'Oreal is very similar and the entire beauty industry is very hard to penetrate because these two companies and a few other have consolidated so much of the market and they will buy out any potentially large competitor. I can't see it ever changing. I can't imagine a future where this trend of skincare, beauty is ever reversed, and it only stands to grow as these generations grow older and healthspans grow longer all around the world. I am sure ULTA and Sephora (within LVMH) benefit from this as well.\n",
      "\n",
      "- A growing market of pet owners who grow ever closer to their companions (ZTS, IDXX). It's crazy how close millenials and gen Z are to their pets. They are part of family. They are already willing to spend so much on their pets at the expense of their own comfort. As their pets grow older, they will be even closer and they will need to spend a lot on their care. IDEXX has the benefit that diagnostics is much more important with pets as they cannot communicate their symptoms.\n",
      "\n",
      "- Not really a theme, but for some nice dividends I got a nicotine holding, I went with PM. This is one I've hesitated about a lot. I'm not going to write a whole analysis, since it's such a small holding, but I don't see our society ever leaving nicotine and I expect we will see a huge continuing growth in smokeless nicotine products. This might sound contrarian, but I wouldn't be surprised if nicotine was much more normalized in the future (in decades time) as a supplement similar to caffeine. The winners will almost certainly be big tobacco companies as it is and likely will remain a highly regulated market with high entry barriers. Even if that doesn't happen, I think there is still money to be made in cigarettes, as even though the number of smokers decreases in most of the world, the revenue is not dropping yet. And I think there is a generation of nicotine addicts growing up in most of the world due to flavored vapes and nicotine pouches.\n",
      "My Portfolio; I haven't changed it much but over about 2 years I've had a 44% gain.  \n",
      "AMD: 17%  \n",
      "GOOGL: 4%  \n",
      "F: 2%  \n",
      "INTC: 10%  \n",
      "MSFT: 24%  \n",
      "NVDA: 35%  \n",
      "ORA: 8%\n",
      "My recent additions last quarter are First Pacific Co and Corticeira Amorim. First Pacific was on my radar for a couple years. I waited to see how the company performed post-covid and post-reorganization, and finally felt comfortable opening a position in it. Corticeria Amorim had been on my radar for over a year. I would've bought this company in a heartbeat over a year ago, but Interactive Brokers had clearing issues with the stock until recently.\n",
      "\n",
      "&#x200B;\n",
      "\n",
      "|Stock|Ticker|Country|MCap|Weight|Return|\n",
      "|:-|:-|:-|:-|:-|:-|\n",
      "|ESGV|ESGV|US||46.19%|9.32%|\n",
      "|Ahold Delhaize|ADRNY|Netherlands|$31.15B|4.93%|12.65%|\n",
      "|Jerónimo Martins|JRONY|Portugal|$15.60B|4.74%|12.93%|\n",
      "|Mytilineos|MYH|Greece|$5.59B|4.70%|37.39%|\n",
      "|ASMPT|ASMVY|Singapore|$4.28B|4.59%|25.29%|\n",
      "|Van de Velde|VAN|Belgium|$485.75M|4.16%|0.77%|\n",
      "|Corticeira Amorim|COR|Portugal|$1.43B|4.00%|4.12%|\n",
      "|Clínica Baviera|CBAV|Spain|$377.5M|3.99%|12.70%|\n",
      "|cotta Co ltd|3359|Japan|$30.73M|3.95%|60.52%|\n",
      "|Eiffage|FGR|France|$9.29B|3.51%|\\-5.30%|\n",
      "|Jardine Matheson|JMHLY|Hong Kong|$13.77B|3.33%|\\-7.93%|\n",
      "|The Hour Glass|AGS|Singapore|$888.7M|3.32%|\\-4.39%|\n",
      "|MTN Group|MTNOY|South Africa|$11.52B|3.28%|\\-16.49%|\n",
      "|Bank of Greenland|GRLA|Greenland|$164.1M|3.22%|0.83%|\n",
      "|First Pacific Co|FPAFY|Hong Kong|$1.82B|2.08%|4.52%|\n",
      "\n",
      "&#x200B;\n",
      "\n",
      "For my portfolio there are four themes for my investing:\n",
      "\n",
      "1. EM Growth (First Pacific, Mtn Group, Hourglass, Jerónimo Martins): All four of these companies are well run companies showing both past growth and future growth potential in emerging markets. First Pacific is a highly diversified consumer staples conglomerate that has exposure to SE Asia, the Middle East, and Africa. MTN Group gives me exposure to the growing African telecom and fintech industries. Hourglass gives me exposure to the luxury watch market in the APAC region. Jerónimo Martins is a vertically integrated consumer staples retailer that gives me exposure to LATAM and EM in Europe.\n",
      "2. Industry Growth (Clínica Baviera, ASMPT, Mytilineos): These companies give me exposure to industries that should have good growth in the future. Clínica Baviera is the largest eye care clinic company in Europe. They should have good future growth as demand for eye health procedures increase  due to aging populations and increases in myopia. ASMPT is a semiconductor equipment company, and should continue to see good growth as semiconductors continue to be important to everyday life. Mytilineos is an integrated energy/utility company. They should see good future growth as they build and operate renewable energy projects. These projects will continue to grow in importance as the world tries to reduce carbon emissions and as Europe tries to break away from dependence on Russian energy.\n",
      "3. Defensive Necessities (Ahold, Eiffage): These companies provide services that are necessary for everyday life. Ahold is the 2nd largest grocery company in the world. Eiffage builds and operates infrastructure concessions.\n",
      "4. \"Forever\" Companies (Jardine, Bank of Greenland, cotta, Amorim, Van de Velde): These are companies that I really like and theoretically wouldn't mind holding forever, even if they aren't likely to go to the moon. Jardine is essentially like an Asian Berkshire, with a huge presence in SE Asia. For example: they own a large portion of the retail market in Hong Kong (they own all the KFC's, Starbucks, 7-11s, Pizza Huts, IKEAS), they're a huge landlord throughout SE Asia, and they own the largest automotive conglomerate in Indonesia. The Bank of Greenland is a well run bank with a large moat as they are the dominant bank of Greenland.  cotta Co is a confectionary materials company that operates the largest e-commerce site for confectionary materials in Japan. They have good management that has been able to navigate the various economic crises Japan has had over the last decade plus, allowing them to continue to grow and expand. Corticeira Amorim is the largest cork company in the world. Because of the time consuming and climate dependent nature of the cork industry, they virtually dominate the cork market and have a large economic moat. I especially like them because they're the dominant player in an industry that plays a role in everyday life, despite most people not knowing it. For example cork is used in: housing materials, sports equipment, wine stoppers, clothing, spacecrafts, printers, transportation, the energy grid, etc. Van de Velde is a well run family business that makes luxury lingerie. They have a track record of good management and growth.\n",
      "Title - r/Stocks Daily Discussion & Options Trading Thursday - Oct 05, 2023\n",
      "US Initial Jobless Claims Sep 30: 207K (est 210K; prev 204K)\n",
      "\n",
      "US Continuing Claims Sep 23: 1664K (est 1671K; prev 1670K)\n",
      "PAC taking a hit pre market as the Mexican government announced tariff changes. Unknown how it effects them yet. \n",
      "\n",
      "https://finance.yahoo.com/news/grupo-aeroportuario-del-pacifico-announces-003900644.html\n",
      "Ahhh I see Nextera preparing for the next -5% day.\n",
      "Title - Forbes - Walmart Says Ozempic Could Be Impacting Food Sales: ‘Slight Pullback In Overall Basket’\n",
      "Maybe its the fact that prices for everything has shot up and we are buying less because it's considered frivolous\n",
      "people that can afford ozempic not shopping at Walmart\n",
      "lol the average person  isn’t eating less because they’re on ozempic.. they’re eating less because everything is absurdly expensive\n"
     ]
    }
   ],
   "source": [
    "'''\n",
    "Make a call to Reddit to test\n",
    "'''\n",
    "for post in reddit.subreddit(\"Stocks\").hot(limit=3):\n",
    "    print (f\"Title - {post.title}\")\n",
    "    submission = reddit.submission(post.id)\n",
    "    counter = 0\n",
    "    for comment in submission.comments:\n",
    "        comment = comment.body\n",
    "        if not comment == \"[deleted]\":\n",
    "            print(comment)\n",
    "            counter += 1\n",
    "        if counter == 3:\n",
    "            break\n",
    "    "
   ],
   "metadata": {
    "collapsed": false,
    "ExecuteTime": {
     "end_time": "2023-10-05T14:53:40.301950Z",
     "start_time": "2023-10-05T14:53:36.358197Z"
    }
   },
   "id": "b2548fdc20718ac7"
  },
  {
   "cell_type": "code",
   "execution_count": 20,
   "outputs": [],
   "source": [],
   "metadata": {
    "collapsed": false,
    "ExecuteTime": {
     "end_time": "2023-10-05T14:27:38.328312Z",
     "start_time": "2023-10-05T14:27:38.320533Z"
    }
   },
   "id": "c3759a1a495ca5c6"
  },
  {
   "cell_type": "code",
   "execution_count": null,
   "outputs": [],
   "source": [],
   "metadata": {
    "collapsed": false
   },
   "id": "eb8ae580031cac9f"
  }
 ],
 "metadata": {
  "kernelspec": {
   "display_name": "Python 3",
   "language": "python",
   "name": "python3"
  },
  "language_info": {
   "codemirror_mode": {
    "name": "ipython",
    "version": 2
   },
   "file_extension": ".py",
   "mimetype": "text/x-python",
   "name": "python",
   "nbconvert_exporter": "python",
   "pygments_lexer": "ipython2",
   "version": "2.7.6"
  }
 },
 "nbformat": 4,
 "nbformat_minor": 5
}
