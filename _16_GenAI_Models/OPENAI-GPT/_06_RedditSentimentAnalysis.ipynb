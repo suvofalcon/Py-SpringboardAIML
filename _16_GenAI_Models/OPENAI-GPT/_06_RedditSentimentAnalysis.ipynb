{
 "cells": [
  {
   "cell_type": "markdown",
   "source": [
    "# Perform Sentiment Analysis on Reddit Posts\n",
    "\n",
    "Reddit API:\n",
    "\n",
    "Go to https://www.reddit.com/prefs/apps\n",
    "Click \"create application\"\n",
    "Name: My Sentiment Example\n",
    "Choose script\n",
    "Leave description and about url blank\n",
    "Add http://www.example.com/unused/redirect/uri to redirect uri"
   ],
   "metadata": {
    "collapsed": false
   },
   "id": "3bfb5bbf3588e758"
  },
  {
   "cell_type": "markdown",
   "source": [
    "### Library Imports"
   ],
   "metadata": {
    "collapsed": false
   },
   "id": "a552c597754344d5"
  },
  {
   "cell_type": "code",
   "execution_count": 13,
   "id": "initial_id",
   "metadata": {
    "collapsed": true,
    "ExecuteTime": {
     "end_time": "2023-10-06T11:50:15.255201Z",
     "start_time": "2023-10-06T11:50:15.252043Z"
    }
   },
   "outputs": [],
   "source": [
    "import os\n",
    "import praw\n",
    "import openai"
   ]
  },
  {
   "cell_type": "code",
   "execution_count": 14,
   "outputs": [],
   "source": [
    "reddit_client_id = os.environ[\"REDDIT_CLIENT_ID\"]\n",
    "reddit_secret_key = os.environ[\"REDDIT_SECRET_KEY\"]\n",
    "\n",
    "openai.api_key = os.environ[\"OPENAI_API_KEY\"]"
   ],
   "metadata": {
    "collapsed": false,
    "ExecuteTime": {
     "end_time": "2023-10-06T11:50:16.449961Z",
     "start_time": "2023-10-06T11:50:16.446069Z"
    }
   },
   "id": "d590513025f5f88f"
  },
  {
   "cell_type": "code",
   "execution_count": 15,
   "outputs": [],
   "source": [
    "'''\n",
    "Initialize the Reddit API\n",
    "'''\n",
    "reddit = praw.Reddit(client_id=reddit_client_id,\n",
    "                     client_secret=reddit_secret_key,\n",
    "                     user_agent=\"Sentiment Analysis test by suvofalcon\")"
   ],
   "metadata": {
    "collapsed": false,
    "ExecuteTime": {
     "end_time": "2023-10-06T11:50:17.669202Z",
     "start_time": "2023-10-06T11:50:17.662360Z"
    }
   },
   "id": "fc95acef18094ac9"
  },
  {
   "cell_type": "code",
   "execution_count": 16,
   "outputs": [
    {
     "name": "stdout",
     "output_type": "stream",
     "text": [
      "Display name for the subreddit - cricket\n",
      "Title Name of the Subreddit - Cricket\n",
      "Number of accounts active on this subreddit - 4871\n"
     ]
    }
   ],
   "source": [
    "# We will access hot subreddits\n",
    "subreddit_cricket = reddit.subreddit(\"cricket\")\n",
    "print(f\"Display name for the subreddit - {subreddit_cricket.display_name}\")\n",
    "print(f\"Title Name of the Subreddit - {subreddit_cricket.title}\")\n",
    "print(f\"Number of accounts active on this subreddit - {subreddit_cricket.accounts_active}\")"
   ],
   "metadata": {
    "collapsed": false,
    "ExecuteTime": {
     "end_time": "2023-10-06T11:50:20.203510Z",
     "start_time": "2023-10-06T11:50:19.225775Z"
    }
   },
   "id": "5f268963e5d7d71a"
  },
  {
   "cell_type": "code",
   "execution_count": 49,
   "outputs": [],
   "source": [
    "# Function to create a list of comments for a given topic\n",
    "def create_list_of_comments(topic, num_of_hot_topics, num_of_comments):\n",
    "    list_comments = []\n",
    "    for post in reddit.subreddit(topic).hot(limit=num_of_hot_topics):\n",
    "        print (f\"Title - {post.title}\")\n",
    "        print(\"\\n\")\n",
    "        submission = reddit.submission(post.id)\n",
    "        counter = 0\n",
    "        for comment in submission.comments:\n",
    "            comment = comment.body\n",
    "            if not comment == \"[deleted]\":\n",
    "                list_comments.append(comment)\n",
    "                counter += 1\n",
    "            if counter == num_of_comments:\n",
    "                break\n",
    "    return list_comments"
   ],
   "metadata": {
    "collapsed": false,
    "ExecuteTime": {
     "end_time": "2023-10-06T13:50:20.967994Z",
     "start_time": "2023-10-06T13:50:20.957956Z"
    }
   },
   "id": "343201483ecb0063"
  },
  {
   "cell_type": "code",
   "execution_count": 53,
   "outputs": [
    {
     "name": "stdout",
     "output_type": "stream",
     "text": [
      "Title - Daily General Discussion and Match Links Thread - October 06, 2023\n",
      "\n",
      "Title - ICC Cricket World Cup Hub- Group Stage Thread\n",
      "\n",
      "Title - Afghanistan beat Pakistan by 4 wickets to set up Asian Games cricket final with India\n",
      "\n",
      "['Belated thoughts from last night’s game:\\n\\nI’m feeling unbelievably smug that the entire world is now beating the ‘Ravindra needs to bat up the order’ drum. He’s serviceable as a lower order slogger and part-time bowler, but we have other guys who can do that better. As we saw yesterday, Ravindra’s talents lie elsewhere \\n\\nI can’t really believe we got away with three frontline bowlers against an extra-stacked England batting lineup. A lot of stuff had to go right for that to work. None of the frontliners could afford to have anything other than a really good performance, and all 3 nailed it. Boult/Henry/Santner are top bowlers, but we can’t realistically expect them all to turn in <5RPO plus wickets every single match, so I don’t think this strategy is going to be very sustainable\\n\\nGP’s performance has gone largely unnoticed but he was pretty close to bowling MVP for me. Took two huge wickets at huge times: Moeen when they still had a lot of left-arm spin to get through, and getting Root at that stage broke the England innings. \\n\\nWe shouldn’t get too carried away: remember that NZ turned in arguably the best performance of last year’s T20 World Cup in the first match against the pre-tournament favourites before going on to be bang average for the rest of the competition. But I’m allowing myself to buy into the hype a little bit for now: that was a seriously dominant performance from a very makeshift side against a near-full-strength England.', '2 AM thoughts be like does the A in Rachin come from Rahul or Sachin', 'Please let me know any ways to improve it', 'Love this. Glad the thread got pinned. Hope it stays that way all through the group stage.', \"Pakistan's Kryptonite is any team who are ranked lower than them and India and England's Kryptonite is any European team, while for NZ it's Pakistan and for India it's New Zealand and for Aussies it's South Africa.\", '\"NO INDIA PAK FINALS\" is probably the war cry of the remaining Asian teams']\n",
      "\n",
      "\n",
      "Number of elements in the list - 6\n"
     ]
    }
   ],
   "source": [
    "# We will create a list of comments by making the function call \n",
    "list_comments = create_list_of_comments('cricket', 3, 2)\n",
    "# We will check the list\n",
    "print(list_comments)\n",
    "print(\"\\n\")\n",
    "print(f\"Number of elements in the list - {len(list_comments)}\")"
   ],
   "metadata": {
    "collapsed": false,
    "ExecuteTime": {
     "end_time": "2023-10-06T13:58:03.482831Z",
     "start_time": "2023-10-06T13:57:59.938431Z"
    }
   },
   "id": "a80ee04de5248f8a"
  },
  {
   "cell_type": "code",
   "execution_count": 56,
   "outputs": [],
   "source": [
    "# Create a function to arrange the comments in bullets\n",
    "def arrange_comments(list_of_comments):\n",
    "    str_comments = ''\n",
    "    counter = 1\n",
    "    for index in list_of_comments:\n",
    "        str_comments = str_comments + f\"{counter}. {index} \\n\"\n",
    "        counter +=1\n",
    "    return str_comments"
   ],
   "metadata": {
    "collapsed": false,
    "ExecuteTime": {
     "end_time": "2023-10-06T14:03:36.231882Z",
     "start_time": "2023-10-06T14:03:36.220985Z"
    }
   },
   "id": "9d1b707cef24afe8"
  },
  {
   "cell_type": "code",
   "execution_count": 58,
   "outputs": [
    {
     "name": "stdout",
     "output_type": "stream",
     "text": [
      "1. Belated thoughts from last night’s game:\n",
      "\n",
      "I’m feeling unbelievably smug that the entire world is now beating the ‘Ravindra needs to bat up the order’ drum. He’s serviceable as a lower order slogger and part-time bowler, but we have other guys who can do that better. As we saw yesterday, Ravindra’s talents lie elsewhere \n",
      "\n",
      "I can’t really believe we got away with three frontline bowlers against an extra-stacked England batting lineup. A lot of stuff had to go right for that to work. None of the frontliners could afford to have anything other than a really good performance, and all 3 nailed it. Boult/Henry/Santner are top bowlers, but we can’t realistically expect them all to turn in <5RPO plus wickets every single match, so I don’t think this strategy is going to be very sustainable\n",
      "\n",
      "GP’s performance has gone largely unnoticed but he was pretty close to bowling MVP for me. Took two huge wickets at huge times: Moeen when they still had a lot of left-arm spin to get through, and getting Root at that stage broke the England innings. \n",
      "\n",
      "We shouldn’t get too carried away: remember that NZ turned in arguably the best performance of last year’s T20 World Cup in the first match against the pre-tournament favourites before going on to be bang average for the rest of the competition. But I’m allowing myself to buy into the hype a little bit for now: that was a seriously dominant performance from a very makeshift side against a near-full-strength England. \n",
      "2. 2 AM thoughts be like does the A in Rachin come from Rahul or Sachin \n",
      "3. Please let me know any ways to improve it \n",
      "4. Love this. Glad the thread got pinned. Hope it stays that way all through the group stage. \n",
      "5. Pakistan's Kryptonite is any team who are ranked lower than them and India and England's Kryptonite is any European team, while for NZ it's Pakistan and for India it's New Zealand and for Aussies it's South Africa. \n",
      "6. \"NO INDIA PAK FINALS\" is probably the war cry of the remaining Asian teams \n"
     ]
    }
   ],
   "source": [
    "arranged_comments = arrange_comments(list_comments)\n",
    "print(arranged_comments)"
   ],
   "metadata": {
    "collapsed": false,
    "ExecuteTime": {
     "end_time": "2023-10-06T14:03:49.798167Z",
     "start_time": "2023-10-06T14:03:49.786113Z"
    }
   },
   "id": "443507a78bf12e9c"
  },
  {
   "cell_type": "markdown",
   "source": [
    "### Prompt Generation\n",
    "\n",
    "First we will create a function which generates a prompt"
   ],
   "metadata": {
    "collapsed": false
   },
   "id": "4fdc25e2977a7519"
  },
  {
   "cell_type": "code",
   "execution_count": 59,
   "outputs": [],
   "source": [
    "def create_prompt(arranged_comments):\n",
    "    prompt = (f\"Give the Sentiment of each of the comments below as either 'Positive', 'Negative' or 'Neutral' \\n\"\n",
    "              f\"{arranged_comments}\")\n",
    "    return prompt"
   ],
   "metadata": {
    "collapsed": false,
    "ExecuteTime": {
     "end_time": "2023-10-06T14:04:43.760784Z",
     "start_time": "2023-10-06T14:04:43.750935Z"
    }
   },
   "id": "c3759a1a495ca5c6"
  },
  {
   "cell_type": "code",
   "execution_count": 60,
   "outputs": [
    {
     "name": "stdout",
     "output_type": "stream",
     "text": [
      "Give the Sentiment of each of the comments below as either 'Positive', 'Negative' or 'Neutral' \n",
      "1. Belated thoughts from last night’s game:\n",
      "\n",
      "I’m feeling unbelievably smug that the entire world is now beating the ‘Ravindra needs to bat up the order’ drum. He’s serviceable as a lower order slogger and part-time bowler, but we have other guys who can do that better. As we saw yesterday, Ravindra’s talents lie elsewhere \n",
      "\n",
      "I can’t really believe we got away with three frontline bowlers against an extra-stacked England batting lineup. A lot of stuff had to go right for that to work. None of the frontliners could afford to have anything other than a really good performance, and all 3 nailed it. Boult/Henry/Santner are top bowlers, but we can’t realistically expect them all to turn in <5RPO plus wickets every single match, so I don’t think this strategy is going to be very sustainable\n",
      "\n",
      "GP’s performance has gone largely unnoticed but he was pretty close to bowling MVP for me. Took two huge wickets at huge times: Moeen when they still had a lot of left-arm spin to get through, and getting Root at that stage broke the England innings. \n",
      "\n",
      "We shouldn’t get too carried away: remember that NZ turned in arguably the best performance of last year’s T20 World Cup in the first match against the pre-tournament favourites before going on to be bang average for the rest of the competition. But I’m allowing myself to buy into the hype a little bit for now: that was a seriously dominant performance from a very makeshift side against a near-full-strength England. \n",
      "2. 2 AM thoughts be like does the A in Rachin come from Rahul or Sachin \n",
      "3. Please let me know any ways to improve it \n",
      "4. Love this. Glad the thread got pinned. Hope it stays that way all through the group stage. \n",
      "5. Pakistan's Kryptonite is any team who are ranked lower than them and India and England's Kryptonite is any European team, while for NZ it's Pakistan and for India it's New Zealand and for Aussies it's South Africa. \n",
      "6. \"NO INDIA PAK FINALS\" is probably the war cry of the remaining Asian teams \n"
     ]
    }
   ],
   "source": [
    "print(create_prompt((arranged_comments)))"
   ],
   "metadata": {
    "collapsed": false,
    "ExecuteTime": {
     "end_time": "2023-10-06T14:05:25.350241Z",
     "start_time": "2023-10-06T14:05:25.344213Z"
    }
   },
   "id": "eb8ae580031cac9f"
  },
  {
   "cell_type": "code",
   "execution_count": 61,
   "outputs": [
    {
     "data": {
      "text/plain": "<OpenAIObject text_completion id=cmpl-86fxJjigQNG17CYo22WKznDiUUL3X at 0x10fa046b0> JSON: {\n  \"warning\": \"This model version is deprecated. Migrate before January 4, 2024 to avoid disruption of service. Learn more https://platform.openai.com/docs/deprecations\",\n  \"id\": \"cmpl-86fxJjigQNG17CYo22WKznDiUUL3X\",\n  \"object\": \"text_completion\",\n  \"created\": 1696601937,\n  \"model\": \"text-davinci-003\",\n  \"choices\": [\n    {\n      \"text\": \"\\n1. Neutral\\n2. Neutral\\n3. Neutral\\n4. Positive\\n5. Neutral\\n6. Negative\",\n      \"index\": 0,\n      \"logprobs\": null,\n      \"finish_reason\": \"stop\"\n    }\n  ],\n  \"usage\": {\n    \"prompt_tokens\": 524,\n    \"completion_tokens\": 24,\n    \"total_tokens\": 548\n  }\n}"
     },
     "execution_count": 61,
     "metadata": {},
     "output_type": "execute_result"
    }
   ],
   "source": [
    "# Pass to Open AI\n",
    "response = openai.Completion.create(engine=\"text-davinci-003\",\n",
    "                                    prompt = create_prompt(arranged_comments),\n",
    "                                    max_tokens=256,\n",
    "                                    temperature=0,\n",
    "                                    top_p=1.0)\n",
    "response"
   ],
   "metadata": {
    "collapsed": false,
    "ExecuteTime": {
     "end_time": "2023-10-06T14:18:58.426442Z",
     "start_time": "2023-10-06T14:18:56.828153Z"
    }
   },
   "id": "20ffe8177e495a44"
  },
  {
   "cell_type": "code",
   "execution_count": 62,
   "outputs": [
    {
     "data": {
      "text/plain": "'\\n1. Neutral\\n2. Neutral\\n3. Neutral\\n4. Positive\\n5. Neutral\\n6. Negative'"
     },
     "execution_count": 62,
     "metadata": {},
     "output_type": "execute_result"
    }
   ],
   "source": [
    "# Check the response text\n",
    "response['choices'][0]['text']"
   ],
   "metadata": {
    "collapsed": false,
    "ExecuteTime": {
     "end_time": "2023-10-06T14:19:31.807864Z",
     "start_time": "2023-10-06T14:19:31.790386Z"
    }
   },
   "id": "f80a07bbcb717c21"
  },
  {
   "cell_type": "code",
   "execution_count": null,
   "outputs": [],
   "source": [],
   "metadata": {
    "collapsed": false
   },
   "id": "f36884859b394a33"
  }
 ],
 "metadata": {
  "kernelspec": {
   "display_name": "Python 3",
   "language": "python",
   "name": "python3"
  },
  "language_info": {
   "codemirror_mode": {
    "name": "ipython",
    "version": 2
   },
   "file_extension": ".py",
   "mimetype": "text/x-python",
   "name": "python",
   "nbconvert_exporter": "python",
   "pygments_lexer": "ipython2",
   "version": "2.7.6"
  }
 },
 "nbformat": 4,
 "nbformat_minor": 5
}
