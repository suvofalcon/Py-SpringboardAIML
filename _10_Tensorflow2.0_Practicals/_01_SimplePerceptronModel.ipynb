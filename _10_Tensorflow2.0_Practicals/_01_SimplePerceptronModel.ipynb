{
 "cells": [
  {
   "cell_type": "markdown",
   "metadata": {},
   "source": [
    "# Demonstrate a Simple Perceptron Model\n",
    "\n",
    "We will demonstrate this with a conversion of Celcius to Farenheit\n",
    "\n",
    "- In this project, we will build a simple machine learning model to convert from celsius to fahrenheit. \n",
    "- The equation is as follows: **T(°F) = T(°C) × 9/5 + 32**\n",
    "- For Example, let's convert 0°C celsius temperature to Fahrenheit:  **(0°C × 9/5) + 32 = 32°F**\n",
    "\n",
    "![thermometer](resources/thermometer.png)"
   ]
  },
  {
   "cell_type": "markdown",
   "metadata": {},
   "source": [
    "## Library Imports"
   ]
  },
  {
   "cell_type": "code",
   "execution_count": 1,
   "metadata": {},
   "outputs": [
    {
     "name": "stderr",
     "output_type": "stream",
     "text": [
      "2023-07-25 18:53:20.900388: I tensorflow/core/platform/cpu_feature_guard.cc:182] This TensorFlow binary is optimized to use available CPU instructions in performance-critical operations.\n",
      "To enable the following instructions: AVX2 FMA, in other operations, rebuild TensorFlow with the appropriate compiler flags.\n",
      "2023-07-25 18:53:21.601556: W tensorflow/compiler/tf2tensorrt/utils/py_utils.cc:38] TF-TRT Warning: Could not find TensorRT\n"
     ]
    },
    {
     "name": "stdout",
     "output_type": "stream",
     "text": [
      "Tensorflow Version - 2.12.0\n"
     ]
    }
   ],
   "source": [
    "import numpy as np\n",
    "import pandas as pd\n",
    "import matplotlib.pyplot as plt\n",
    "import seaborn as sns\n",
    "\n",
    "import tensorflow as tf\n",
    "print(f\"Tensorflow Version - {tf.__version__}\")"
   ]
  },
  {
   "cell_type": "markdown",
   "metadata": {},
   "source": [
    "## Load the Dataset"
   ]
  },
  {
   "cell_type": "code",
   "execution_count": 2,
   "metadata": {},
   "outputs": [
    {
     "data": {
      "text/html": [
       "<div>\n",
       "<style scoped>\n",
       "    .dataframe tbody tr th:only-of-type {\n",
       "        vertical-align: middle;\n",
       "    }\n",
       "\n",
       "    .dataframe tbody tr th {\n",
       "        vertical-align: top;\n",
       "    }\n",
       "\n",
       "    .dataframe thead th {\n",
       "        text-align: right;\n",
       "    }\n",
       "</style>\n",
       "<table border=\"1\" class=\"dataframe\">\n",
       "  <thead>\n",
       "    <tr style=\"text-align: right;\">\n",
       "      <th></th>\n",
       "      <th>Celsius</th>\n",
       "      <th>Fahrenheit</th>\n",
       "    </tr>\n",
       "  </thead>\n",
       "  <tbody>\n",
       "    <tr>\n",
       "      <th>0</th>\n",
       "      <td>-50</td>\n",
       "      <td>-58.0</td>\n",
       "    </tr>\n",
       "    <tr>\n",
       "      <th>1</th>\n",
       "      <td>-40</td>\n",
       "      <td>-40.0</td>\n",
       "    </tr>\n",
       "    <tr>\n",
       "      <th>2</th>\n",
       "      <td>-30</td>\n",
       "      <td>-22.0</td>\n",
       "    </tr>\n",
       "    <tr>\n",
       "      <th>3</th>\n",
       "      <td>-20</td>\n",
       "      <td>-4.0</td>\n",
       "    </tr>\n",
       "    <tr>\n",
       "      <th>4</th>\n",
       "      <td>-10</td>\n",
       "      <td>14.0</td>\n",
       "    </tr>\n",
       "  </tbody>\n",
       "</table>\n",
       "</div>"
      ],
      "text/plain": [
       "   Celsius  Fahrenheit\n",
       "0      -50       -58.0\n",
       "1      -40       -40.0\n",
       "2      -30       -22.0\n",
       "3      -20        -4.0\n",
       "4      -10        14.0"
      ]
     },
     "execution_count": 2,
     "metadata": {},
     "output_type": "execute_result"
    }
   ],
   "source": [
    "# Load the data as dataframe\n",
    "df = pd.read_csv(\"resources/Celsius_to_Fahrenheit.csv\")\n",
    "# Check few initial rowa\n",
    "df.head()"
   ]
  },
  {
   "cell_type": "code",
   "execution_count": 3,
   "metadata": {},
   "outputs": [
    {
     "name": "stdout",
     "output_type": "stream",
     "text": [
      "<class 'pandas.core.frame.DataFrame'>\n",
      "RangeIndex: 30 entries, 0 to 29\n",
      "Data columns (total 2 columns):\n",
      " #   Column      Non-Null Count  Dtype  \n",
      "---  ------      --------------  -----  \n",
      " 0   Celsius     30 non-null     int64  \n",
      " 1   Fahrenheit  30 non-null     float64\n",
      "dtypes: float64(1), int64(1)\n",
      "memory usage: 608.0 bytes\n"
     ]
    }
   ],
   "source": [
    "# See the structure of the dataset\n",
    "df.info()"
   ]
  },
  {
   "cell_type": "markdown",
   "metadata": {},
   "source": [
    "## Visualize the data"
   ]
  },
  {
   "cell_type": "code",
   "execution_count": 4,
   "metadata": {},
   "outputs": [
    {
     "data": {
      "image/png": "[encoded data removed]",
      "text/plain": [
       "<Figure size 1000x600 with 1 Axes>"
      ]
     },
     "metadata": {},
     "output_type": "display_data"
    }
   ],
   "source": [
    "# Visualize the two attributes\n",
    "plt.figure(figsize=(10, 6))\n",
    "sns.scatterplot(x='Celsius', y='Fahrenheit', data=df)\n",
    "plt.title('Celcius vs Farenheit Plot')\n",
    "plt.grid(True)"
   ]
  },
  {
   "cell_type": "markdown",
   "metadata": {},
   "source": [
    "## Create Test and Training Set"
   ]
  },
  {
   "cell_type": "code",
   "execution_count": 5,
   "metadata": {},
   "outputs": [
    {
     "name": "stdout",
     "output_type": "stream",
     "text": [
      "Shape of Training Feature - (30,)\n",
      "Shape of target feature - (30,)\n"
     ]
    }
   ],
   "source": [
    "X_train = df['Celsius']\n",
    "y_train = df['Fahrenheit']\n",
    "\n",
    "print(f\"Shape of Training Feature - {X_train.shape}\")\n",
    "print(f\"Shape of target feature - {y_train.shape}\")"
   ]
  },
  {
   "cell_type": "markdown",
   "metadata": {},
   "source": [
    "## Build and Train the Model"
   ]
  },
  {
   "cell_type": "code",
   "execution_count": 6,
   "metadata": {},
   "outputs": [
    {
     "name": "stdout",
     "output_type": "stream",
     "text": [
      "Model: \"sequential\"\n",
      "_________________________________________________________________\n",
      " Layer (type)                Output Shape              Param #   \n",
      "=================================================================\n",
      " dense (Dense)               (None, 1)                 2         \n",
      "                                                                 \n",
      "=================================================================\n",
      "Total params: 2\n",
      "Trainable params: 2\n",
      "Non-trainable params: 0\n",
      "_________________________________________________________________\n"
     ]
    },
    {
     "name": "stderr",
     "output_type": "stream",
     "text": [
      "2023-07-25 18:53:32.574511: I tensorflow/compiler/xla/stream_executor/cuda/cuda_gpu_executor.cc:982] could not open file to read NUMA node: /sys/bus/pci/devices/0000:01:00.0/numa_node\n",
      "Your kernel may have been built without NUMA support.\n",
      "2023-07-25 18:53:32.610919: I tensorflow/compiler/xla/stream_executor/cuda/cuda_gpu_executor.cc:982] could not open file to read NUMA node: /sys/bus/pci/devices/0000:01:00.0/numa_node\n",
      "Your kernel may have been built without NUMA support.\n",
      "2023-07-25 18:53:32.610988: I tensorflow/compiler/xla/stream_executor/cuda/cuda_gpu_executor.cc:982] could not open file to read NUMA node: /sys/bus/pci/devices/0000:01:00.0/numa_node\n",
      "Your kernel may have been built without NUMA support.\n",
      "2023-07-25 18:53:32.614786: I tensorflow/compiler/xla/stream_executor/cuda/cuda_gpu_executor.cc:982] could not open file to read NUMA node: /sys/bus/pci/devices/0000:01:00.0/numa_node\n",
      "Your kernel may have been built without NUMA support.\n",
      "2023-07-25 18:53:32.614869: I tensorflow/compiler/xla/stream_executor/cuda/cuda_gpu_executor.cc:982] could not open file to read NUMA node: /sys/bus/pci/devices/0000:01:00.0/numa_node\n",
      "Your kernel may have been built without NUMA support.\n",
      "2023-07-25 18:53:32.614916: I tensorflow/compiler/xla/stream_executor/cuda/cuda_gpu_executor.cc:982] could not open file to read NUMA node: /sys/bus/pci/devices/0000:01:00.0/numa_node\n",
      "Your kernel may have been built without NUMA support.\n",
      "2023-07-25 18:53:33.564698: I tensorflow/compiler/xla/stream_executor/cuda/cuda_gpu_executor.cc:982] could not open file to read NUMA node: /sys/bus/pci/devices/0000:01:00.0/numa_node\n",
      "Your kernel may have been built without NUMA support.\n",
      "2023-07-25 18:53:33.564802: I tensorflow/compiler/xla/stream_executor/cuda/cuda_gpu_executor.cc:982] could not open file to read NUMA node: /sys/bus/pci/devices/0000:01:00.0/numa_node\n",
      "Your kernel may have been built without NUMA support.\n",
      "2023-07-25 18:53:33.564814: I tensorflow/core/common_runtime/gpu/gpu_device.cc:1722] Could not identify NUMA node of platform GPU id 0, defaulting to 0.  Your kernel may not have been built with NUMA support.\n",
      "2023-07-25 18:53:33.564864: I tensorflow/compiler/xla/stream_executor/cuda/cuda_gpu_executor.cc:982] could not open file to read NUMA node: /sys/bus/pci/devices/0000:01:00.0/numa_node\n",
      "Your kernel may have been built without NUMA support.\n",
      "2023-07-25 18:53:33.564895: I tensorflow/core/common_runtime/gpu/gpu_device.cc:1635] Created device /job:localhost/replica:0/task:0/device:GPU:0 with 5875 MB memory:  -> device: 0, name: NVIDIA GeForce RTX 2070 SUPER, pci bus id: 0000:01:00.0, compute capability: 7.5\n"
     ]
    }
   ],
   "source": [
    "model = tf.keras.Sequential()\n",
    "model.add(tf.keras.layers.Dense(units =1, input_shape=[1])) # We will just use one neuron network\n",
    "\n",
    "# Compile the model\n",
    "model.compile(optimizer=tf.keras.optimizers.Adam(0.6), loss='mean_squared_error')\n",
    "model.summary()"
   ]
  },
  {
   "cell_type": "code",
   "execution_count": 7,
   "metadata": {},
   "outputs": [
    {
     "name": "stdout",
     "output_type": "stream",
     "text": [
      "Epoch 1/100\n"
     ]
    },
    {
     "name": "stderr",
     "output_type": "stream",
     "text": [
      "2023-07-25 18:53:38.710331: I tensorflow/compiler/xla/service/service.cc:169] XLA service 0x7f5fcc03c9c0 initialized for platform CUDA (this does not guarantee that XLA will be used). Devices:\n",
      "2023-07-25 18:53:38.710381: I tensorflow/compiler/xla/service/service.cc:177]   StreamExecutor device (0): NVIDIA GeForce RTX 2070 SUPER, Compute Capability 7.5\n",
      "2023-07-25 18:53:38.716545: I tensorflow/compiler/mlir/tensorflow/utils/dump_mlir_util.cc:269] disabling MLIR crash reproducer, set env var `MLIR_CRASH_REPRODUCER_DIRECTORY` to enable.\n",
      "2023-07-25 18:53:38.891744: I tensorflow/compiler/xla/stream_executor/cuda/cuda_dnn.cc:424] Loaded cuDNN version 8600\n"
     ]
    },
    {
     "name": "stdout",
     "output_type": "stream",
     "text": [
      "1/1 [==============================] - 2s 2s/step - loss: 1101.8782\n",
      "Epoch 2/100\n",
      "1/1 [==============================] - 0s 8ms/step - loss: 996.4222\n",
      "Epoch 3/100\n",
      "1/1 [==============================] - 0s 8ms/step - loss: 1010.6335\n",
      "Epoch 4/100\n",
      "1/1 [==============================] - 0s 8ms/step - loss: 933.4466\n",
      "Epoch 5/100\n",
      "1/1 [==============================] - 0s 9ms/step - loss: 869.6183\n",
      "Epoch 6/100\n",
      "1/1 [==============================] - 0s 12ms/step - loss: 853.7159\n",
      "Epoch 7/100\n",
      "1/1 [==============================] - 0s 9ms/step - loss: 836.2742\n",
      "Epoch 8/100\n",
      "1/1 [==============================] - 0s 9ms/step - loss: 789.7877\n",
      "Epoch 9/100\n",
      "1/1 [==============================] - 0s 10ms/step - loss: 738.3703\n",
      "Epoch 10/100\n"
     ]
    },
    {
     "name": "stderr",
     "output_type": "stream",
     "text": [
      "2023-07-25 18:53:39.157043: I ./tensorflow/compiler/jit/device_compiler.h:180] Compiled cluster using XLA!  This line is logged at most once for the lifetime of the process.\n"
     ]
    },
    {
     "name": "stdout",
     "output_type": "stream",
     "text": [
      "1/1 [==============================] - 0s 11ms/step - loss: 706.1303\n",
      "Epoch 11/100\n",
      "1/1 [==============================] - 0s 9ms/step - loss: 688.0240\n",
      "Epoch 12/100\n",
      "1/1 [==============================] - 0s 9ms/step - loss: 662.8682\n",
      "Epoch 13/100\n",
      "1/1 [==============================] - 0s 9ms/step - loss: 625.0114\n",
      "Epoch 14/100\n",
      "1/1 [==============================] - 0s 7ms/step - loss: 586.9265\n",
      "Epoch 15/100\n",
      "1/1 [==============================] - 0s 8ms/step - loss: 559.6861\n",
      "Epoch 16/100\n",
      "1/1 [==============================] - 0s 11ms/step - loss: 540.1332\n",
      "Epoch 17/100\n",
      "1/1 [==============================] - 0s 10ms/step - loss: 517.2114\n",
      "Epoch 18/100\n",
      "1/1 [==============================] - 0s 8ms/step - loss: 487.3529\n",
      "Epoch 19/100\n",
      "1/1 [==============================] - 0s 8ms/step - loss: 457.2672\n",
      "Epoch 20/100\n",
      "1/1 [==============================] - 0s 8ms/step - loss: 433.7433\n",
      "Epoch 21/100\n",
      "1/1 [==============================] - 0s 11ms/step - loss: 415.3769\n",
      "Epoch 22/100\n",
      "1/1 [==============================] - 0s 9ms/step - loss: 395.5813\n",
      "Epoch 23/100\n",
      "1/1 [==============================] - 0s 8ms/step - loss: 371.7898\n",
      "Epoch 24/100\n",
      "1/1 [==============================] - 0s 10ms/step - loss: 347.9505\n",
      "Epoch 25/100\n",
      "1/1 [==============================] - 0s 8ms/step - loss: 328.4147\n",
      "Epoch 26/100\n",
      "1/1 [==============================] - 0s 9ms/step - loss: 312.3534\n",
      "Epoch 27/100\n",
      "1/1 [==============================] - 0s 9ms/step - loss: 295.5877\n",
      "Epoch 28/100\n",
      "1/1 [==============================] - 0s 9ms/step - loss: 276.5740\n",
      "Epoch 29/100\n",
      "1/1 [==============================] - 0s 9ms/step - loss: 257.9763\n",
      "Epoch 30/100\n",
      "1/1 [==============================] - 0s 7ms/step - loss: 242.4559\n",
      "Epoch 31/100\n",
      "1/1 [==============================] - 0s 10ms/step - loss: 229.1126\n",
      "Epoch 32/100\n",
      "1/1 [==============================] - 0s 8ms/step - loss: 215.2124\n",
      "Epoch 33/100\n",
      "1/1 [==============================] - 0s 9ms/step - loss: 200.1839\n",
      "Epoch 34/100\n",
      "1/1 [==============================] - 0s 9ms/step - loss: 186.0335\n",
      "Epoch 35/100\n",
      "1/1 [==============================] - 0s 9ms/step - loss: 174.1451\n",
      "Epoch 36/100\n",
      "1/1 [==============================] - 0s 7ms/step - loss: 163.4176\n",
      "Epoch 37/100\n",
      "1/1 [==============================] - 0s 10ms/step - loss: 152.1749\n",
      "Epoch 38/100\n",
      "1/1 [==============================] - 0s 8ms/step - loss: 140.6241\n",
      "Epoch 39/100\n",
      "1/1 [==============================] - 0s 8ms/step - loss: 130.2337\n",
      "Epoch 40/100\n",
      "1/1 [==============================] - 0s 10ms/step - loss: 121.3805\n",
      "Epoch 41/100\n",
      "1/1 [==============================] - 0s 8ms/step - loss: 112.9364\n",
      "Epoch 42/100\n",
      "1/1 [==============================] - 0s 11ms/step - loss: 104.1443\n",
      "Epoch 43/100\n",
      "1/1 [==============================] - 0s 9ms/step - loss: 95.6613\n",
      "Epoch 44/100\n",
      "1/1 [==============================] - 0s 10ms/step - loss: 88.3181\n",
      "Epoch 45/100\n",
      "1/1 [==============================] - 0s 8ms/step - loss: 81.8019\n",
      "Epoch 46/100\n",
      "1/1 [==============================] - 0s 9ms/step - loss: 75.2848\n",
      "Epoch 47/100\n",
      "1/1 [==============================] - 0s 11ms/step - loss: 68.7568\n",
      "Epoch 48/100\n",
      "1/1 [==============================] - 0s 8ms/step - loss: 62.8818\n",
      "Epoch 49/100\n",
      "1/1 [==============================] - 0s 9ms/step - loss: 57.8179\n",
      "Epoch 50/100\n",
      "1/1 [==============================] - 0s 8ms/step - loss: 53.0178\n",
      "Epoch 51/100\n",
      "1/1 [==============================] - 0s 9ms/step - loss: 48.1868\n",
      "Epoch 52/100\n",
      "1/1 [==============================] - 0s 13ms/step - loss: 43.6884\n",
      "Epoch 53/100\n",
      "1/1 [==============================] - 0s 8ms/step - loss: 39.8202\n",
      "Epoch 54/100\n",
      "1/1 [==============================] - 0s 7ms/step - loss: 36.3094\n",
      "Epoch 55/100\n",
      "1/1 [==============================] - 0s 9ms/step - loss: 32.8270\n",
      "Epoch 56/100\n",
      "1/1 [==============================] - 0s 8ms/step - loss: 29.5168\n",
      "Epoch 57/100\n",
      "1/1 [==============================] - 0s 9ms/step - loss: 26.6511\n",
      "Epoch 58/100\n",
      "1/1 [==============================] - 0s 8ms/step - loss: 24.1250\n",
      "Epoch 59/100\n",
      "1/1 [==============================] - 0s 8ms/step - loss: 21.6706\n",
      "Epoch 60/100\n",
      "1/1 [==============================] - 0s 8ms/step - loss: 19.3173\n",
      "Epoch 61/100\n",
      "1/1 [==============================] - 0s 7ms/step - loss: 17.2687\n",
      "Epoch 62/100\n",
      "1/1 [==============================] - 0s 8ms/step - loss: 15.4976\n",
      "Epoch 63/100\n",
      "1/1 [==============================] - 0s 12ms/step - loss: 13.8091\n",
      "Epoch 64/100\n",
      "1/1 [==============================] - 0s 9ms/step - loss: 12.1896\n",
      "Epoch 65/100\n",
      "1/1 [==============================] - 0s 7ms/step - loss: 10.7799\n",
      "Epoch 66/100\n",
      "1/1 [==============================] - 0s 7ms/step - loss: 9.5791\n",
      "Epoch 67/100\n",
      "1/1 [==============================] - 0s 7ms/step - loss: 8.4503\n",
      "Epoch 68/100\n",
      "1/1 [==============================] - 0s 7ms/step - loss: 7.3724\n",
      "Epoch 69/100\n",
      "1/1 [==============================] - 0s 10ms/step - loss: 6.4414\n",
      "Epoch 70/100\n",
      "1/1 [==============================] - 0s 7ms/step - loss: 5.6592\n",
      "Epoch 71/100\n",
      "1/1 [==============================] - 0s 7ms/step - loss: 4.9298\n",
      "Epoch 72/100\n",
      "1/1 [==============================] - 0s 8ms/step - loss: 4.2387\n",
      "Epoch 73/100\n",
      "1/1 [==============================] - 0s 7ms/step - loss: 3.6518\n",
      "Epoch 74/100\n",
      "1/1 [==============================] - 0s 7ms/step - loss: 3.1655\n",
      "Epoch 75/100\n",
      "1/1 [==============================] - 0s 7ms/step - loss: 2.7126\n",
      "Epoch 76/100\n",
      "1/1 [==============================] - 0s 9ms/step - loss: 2.2887\n",
      "Epoch 77/100\n",
      "1/1 [==============================] - 0s 7ms/step - loss: 1.9388\n",
      "Epoch 78/100\n",
      "1/1 [==============================] - 0s 8ms/step - loss: 1.6528\n",
      "Epoch 79/100\n",
      "1/1 [==============================] - 0s 7ms/step - loss: 1.3846\n",
      "Epoch 80/100\n",
      "1/1 [==============================] - 0s 7ms/step - loss: 1.1387\n",
      "Epoch 81/100\n",
      "1/1 [==============================] - 0s 7ms/step - loss: 0.9445\n",
      "Epoch 82/100\n",
      "1/1 [==============================] - 0s 8ms/step - loss: 0.7872\n",
      "Epoch 83/100\n",
      "1/1 [==============================] - 0s 7ms/step - loss: 0.6374\n",
      "Epoch 84/100\n",
      "1/1 [==============================] - 0s 7ms/step - loss: 0.5053\n",
      "Epoch 85/100\n",
      "1/1 [==============================] - 0s 7ms/step - loss: 0.4078\n",
      "Epoch 86/100\n",
      "1/1 [==============================] - 0s 7ms/step - loss: 0.3283\n",
      "Epoch 87/100\n",
      "1/1 [==============================] - 0s 8ms/step - loss: 0.2508\n",
      "Epoch 88/100\n",
      "1/1 [==============================] - 0s 9ms/step - loss: 0.1878\n",
      "Epoch 89/100\n",
      "1/1 [==============================] - 0s 7ms/step - loss: 0.1459\n",
      "Epoch 90/100\n",
      "1/1 [==============================] - 0s 9ms/step - loss: 0.1100\n",
      "Epoch 91/100\n",
      "1/1 [==============================] - 0s 7ms/step - loss: 0.0745\n",
      "Epoch 92/100\n",
      "1/1 [==============================] - 0s 7ms/step - loss: 0.0504\n",
      "Epoch 93/100\n",
      "1/1 [==============================] - 0s 7ms/step - loss: 0.0371\n",
      "Epoch 94/100\n",
      "1/1 [==============================] - 0s 8ms/step - loss: 0.0235\n",
      "Epoch 95/100\n",
      "1/1 [==============================] - 0s 8ms/step - loss: 0.0108\n",
      "Epoch 96/100\n",
      "1/1 [==============================] - 0s 8ms/step - loss: 0.0062\n",
      "Epoch 97/100\n",
      "1/1 [==============================] - 0s 7ms/step - loss: 0.0052\n",
      "Epoch 98/100\n",
      "1/1 [==============================] - 0s 9ms/step - loss: 0.0018\n",
      "Epoch 99/100\n",
      "1/1 [==============================] - 0s 7ms/step - loss: 2.4914e-04\n",
      "Epoch 100/100\n",
      "1/1 [==============================] - 0s 7ms/step - loss: 0.0033\n"
     ]
    }
   ],
   "source": [
    "# Train the model\n",
    "epochs_hist = model.fit(X_train, y_train, epochs=100)"
   ]
  },
  {
   "cell_type": "markdown",
   "metadata": {},
   "source": [
    "## Evaluating the Model"
   ]
  },
  {
   "cell_type": "code",
   "execution_count": 8,
   "metadata": {},
   "outputs": [
    {
     "data": {
      "text/plain": [
       "dict_keys(['loss'])"
      ]
     },
     "execution_count": 8,
     "metadata": {},
     "output_type": "execute_result"
    }
   ],
   "source": [
    "# The tained model object has many keys - which is a dictionary\n",
    "epochs_hist.history.keys()"
   ]
  },
  {
   "cell_type": "code",
   "execution_count": 9,
   "metadata": {},
   "outputs": [
    {
     "data": {
      "text/plain": [
       "<matplotlib.legend.Legend at 0x7f60f81eb670>"
      ]
     },
     "execution_count": 9,
     "metadata": {},
     "output_type": "execute_result"
    },
    {
     "data": {
      "image/png": "[encoded data removed]",
      "text/plain": [
       "<Figure size 1000x600 with 1 Axes>"
      ]
     },
     "metadata": {},
     "output_type": "display_data"
    }
   ],
   "source": [
    "# Plot the Loss progress during training\n",
    "plt.figure(figsize=(10, 6))\n",
    "plt.plot(epochs_hist.history['loss'])\n",
    "plt.title('Model Loss During Training')\n",
    "plt.xlabel('Epochs')\n",
    "plt.ylabel('Training Loss')\n",
    "plt.legend(['Training Loss'])"
   ]
  },
  {
   "cell_type": "code",
   "execution_count": 10,
   "metadata": {},
   "outputs": [
    {
     "data": {
      "text/plain": [
       "[array([[1.7976339]], dtype=float32), array([32.058598], dtype=float32)]"
      ]
     },
     "execution_count": 10,
     "metadata": {},
     "output_type": "execute_result"
    }
   ],
   "source": [
    "# Check the weights\n",
    "model.get_weights()"
   ]
  },
  {
   "cell_type": "code",
   "execution_count": 11,
   "metadata": {},
   "outputs": [
    {
     "name": "stdout",
     "output_type": "stream",
     "text": [
      "1/1 [==============================] - 0s 56ms/step\n"
     ]
    },
    {
     "data": {
      "image/png": "[encoded data removed]",
      "text/plain": [
       "<Figure size 1000x600 with 1 Axes>"
      ]
     },
     "metadata": {},
     "output_type": "display_data"
    }
   ],
   "source": [
    "predictions = model.predict([X_train])\n",
    "\n",
    "# We will plot the predictions vs actuals\n",
    "plt.figure(figsize=(10, 6))\n",
    "plt.plot(y_train, color='b')\n",
    "plt.plot(predictions, color='r')\n",
    "plt.legend(['actuals', 'predictions'])\n",
    "plt.title('Actual vs Predictions')\n",
    "plt.grid(True)"
   ]
  },
  {
   "cell_type": "code",
   "execution_count": 12,
   "metadata": {},
   "outputs": [
    {
     "name": "stdout",
     "output_type": "stream",
     "text": [
      "1/1 [==============================] - 0s 47ms/step\n",
      "Prediction using the trained Model - [[-25.465687]]\n"
     ]
    }
   ],
   "source": [
    "# We will use the trained model to perform predictions\n",
    "Temp_C = -32\n",
    "Temp_F = model.predict([Temp_C])\n",
    "print(f\"Prediction using the trained Model - {Temp_F}\")"
   ]
  },
  {
   "cell_type": "code",
   "execution_count": 13,
   "metadata": {},
   "outputs": [
    {
     "name": "stdout",
     "output_type": "stream",
     "text": [
      "Prediction using the equation - -25.6\n"
     ]
    }
   ],
   "source": [
    "# Lets verify this with the equation\n",
    "Temp_F = 9/5 * Temp_C + 32\n",
    "print(f\"Prediction using the equation - {Temp_F}\")"
   ]
  }
 ],
 "metadata": {
  "kernelspec": {
   "display_name": "Python 3.9.12 ('tensorflow-gpu')",
   "language": "python",
   "name": "python3"
  },
  "language_info": {
   "codemirror_mode": {
    "name": "ipython",
    "version": 3
   },
   "file_extension": ".py",
   "mimetype": "text/x-python",
   "name": "python",
   "nbconvert_exporter": "python",
   "pygments_lexer": "ipython3",
   "version": "3.10.12"
  },
  "orig_nbformat": 4,
  "vscode": {
   "interpreter": {
    "hash": "e2b6a0854d3e486355aa730ef2c4309aea53da46b71110e983718c32f548066a"
   }
  }
 },
 "nbformat": 4,
 "nbformat_minor": 2
}
