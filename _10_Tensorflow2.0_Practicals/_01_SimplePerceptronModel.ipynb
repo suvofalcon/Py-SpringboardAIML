{
 "cells": [
  {
   "cell_type": "markdown",
   "metadata": {},
   "source": [
    "# Demonstrate a Simple Perceptron Model\n",
    "\n",
    "We will demonstrate this with a conversion of Celcius to Farenheit\n",
    "\n",
    "- In this project, we will build a simple machine learning model to convert from celsius to fahrenheit. \n",
    "- The equation is as follows: **T(°F) = T(°C) × 9/5 + 32**\n",
    "- For Example, let's convert 0°C celsius temperature to Fahrenheit:  **(0°C × 9/5) + 32 = 32°F**\n",
    "\n",
    "![thermometer](resources/thermometer.png)"
   ]
  },
  {
   "cell_type": "markdown",
   "metadata": {},
   "source": [
    "## Library Imports"
   ]
  },
  {
   "cell_type": "code",
   "execution_count": 32,
   "metadata": {},
   "outputs": [],
   "source": [
    "import numpy as np\n",
    "import pandas as pd\n",
    "import matplotlib.pyplot as plt\n",
    "import seaborn as sns\n",
    "\n",
    "import tensorflow as tf"
   ]
  },
  {
   "cell_type": "markdown",
   "metadata": {},
   "source": [
    "## Load the Dataset"
   ]
  },
  {
   "cell_type": "code",
   "execution_count": 33,
   "metadata": {},
   "outputs": [
    {
     "data": {
      "text/html": [
       "<div>\n",
       "<style scoped>\n",
       "    .dataframe tbody tr th:only-of-type {\n",
       "        vertical-align: middle;\n",
       "    }\n",
       "\n",
       "    .dataframe tbody tr th {\n",
       "        vertical-align: top;\n",
       "    }\n",
       "\n",
       "    .dataframe thead th {\n",
       "        text-align: right;\n",
       "    }\n",
       "</style>\n",
       "<table border=\"1\" class=\"dataframe\">\n",
       "  <thead>\n",
       "    <tr style=\"text-align: right;\">\n",
       "      <th></th>\n",
       "      <th>Celsius</th>\n",
       "      <th>Fahrenheit</th>\n",
       "    </tr>\n",
       "  </thead>\n",
       "  <tbody>\n",
       "    <tr>\n",
       "      <th>0</th>\n",
       "      <td>-50</td>\n",
       "      <td>-58.0</td>\n",
       "    </tr>\n",
       "    <tr>\n",
       "      <th>1</th>\n",
       "      <td>-40</td>\n",
       "      <td>-40.0</td>\n",
       "    </tr>\n",
       "    <tr>\n",
       "      <th>2</th>\n",
       "      <td>-30</td>\n",
       "      <td>-22.0</td>\n",
       "    </tr>\n",
       "    <tr>\n",
       "      <th>3</th>\n",
       "      <td>-20</td>\n",
       "      <td>-4.0</td>\n",
       "    </tr>\n",
       "    <tr>\n",
       "      <th>4</th>\n",
       "      <td>-10</td>\n",
       "      <td>14.0</td>\n",
       "    </tr>\n",
       "  </tbody>\n",
       "</table>\n",
       "</div>"
      ],
      "text/plain": [
       "   Celsius  Fahrenheit\n",
       "0      -50       -58.0\n",
       "1      -40       -40.0\n",
       "2      -30       -22.0\n",
       "3      -20        -4.0\n",
       "4      -10        14.0"
      ]
     },
     "execution_count": 33,
     "metadata": {},
     "output_type": "execute_result"
    }
   ],
   "source": [
    "# Load the data as dataframe\n",
    "df = pd.read_csv(\"resources/Celsius_to_Fahrenheit.csv\")\n",
    "# Check few initial rowa\n",
    "df.head()"
   ]
  },
  {
   "cell_type": "code",
   "execution_count": 34,
   "metadata": {},
   "outputs": [
    {
     "name": "stdout",
     "output_type": "stream",
     "text": [
      "<class 'pandas.core.frame.DataFrame'>\n",
      "RangeIndex: 30 entries, 0 to 29\n",
      "Data columns (total 2 columns):\n",
      " #   Column      Non-Null Count  Dtype  \n",
      "---  ------      --------------  -----  \n",
      " 0   Celsius     30 non-null     int64  \n",
      " 1   Fahrenheit  30 non-null     float64\n",
      "dtypes: float64(1), int64(1)\n",
      "memory usage: 608.0 bytes\n"
     ]
    }
   ],
   "source": [
    "# See the structure of the dataset\n",
    "df.info()"
   ]
  },
  {
   "cell_type": "markdown",
   "metadata": {},
   "source": [
    "## Visualize the data"
   ]
  },
  {
   "cell_type": "code",
   "execution_count": 35,
   "metadata": {},
   "outputs": [
    {
     "data": {
      "image/png": "[encoded data removed]",
      "text/plain": [
       "<Figure size 720x432 with 1 Axes>"
      ]
     },
     "metadata": {
      "needs_background": "light"
     },
     "output_type": "display_data"
    }
   ],
   "source": [
    "# Visualize the two attributes\n",
    "plt.figure(figsize=(10, 6))\n",
    "sns.scatterplot(x='Celsius', y='Fahrenheit', data=df)\n",
    "plt.title('Celcius vs Farenheit Plot')\n",
    "plt.grid(True)"
   ]
  },
  {
   "cell_type": "markdown",
   "metadata": {},
   "source": [
    "## Create Test and Training Set"
   ]
  },
  {
   "cell_type": "code",
   "execution_count": 36,
   "metadata": {},
   "outputs": [
    {
     "name": "stdout",
     "output_type": "stream",
     "text": [
      "Shape of Training Feature - (30,)\n",
      "Shape of target feature - (30,)\n"
     ]
    }
   ],
   "source": [
    "X_train = df['Celsius']\n",
    "y_train = df['Fahrenheit']\n",
    "\n",
    "print(f\"Shape of Training Feature - {X_train.shape}\")\n",
    "print(f\"Shape of target feature - {y_train.shape}\")"
   ]
  },
  {
   "cell_type": "markdown",
   "metadata": {},
   "source": [
    "## Build and Train the Model"
   ]
  },
  {
   "cell_type": "code",
   "execution_count": 37,
   "metadata": {},
   "outputs": [
    {
     "name": "stdout",
     "output_type": "stream",
     "text": [
      "Model: \"sequential_3\"\n",
      "_________________________________________________________________\n",
      " Layer (type)                Output Shape              Param #   \n",
      "=================================================================\n",
      " dense_3 (Dense)             (None, 1)                 2         \n",
      "                                                                 \n",
      "=================================================================\n",
      "Total params: 2\n",
      "Trainable params: 2\n",
      "Non-trainable params: 0\n",
      "_________________________________________________________________\n"
     ]
    }
   ],
   "source": [
    "model = tf.keras.Sequential()\n",
    "model.add(tf.keras.layers.Dense(units =1, input_shape=[1])) # We will just use one neuron network\n",
    "\n",
    "# Compile the model\n",
    "model.compile(optimizer=tf.keras.optimizers.Adam(0.6), loss='mean_squared_error')\n",
    "model.summary()"
   ]
  },
  {
   "cell_type": "code",
   "execution_count": 38,
   "metadata": {},
   "outputs": [
    {
     "name": "stdout",
     "output_type": "stream",
     "text": [
      "Epoch 1/100\n",
      "1/1 [==============================] - 0s 222ms/step - loss: 4842.2427\n",
      "Epoch 2/100\n",
      "1/1 [==============================] - 0s 4ms/step - loss: 3312.1555\n",
      "Epoch 3/100\n",
      "1/1 [==============================] - 0s 5ms/step - loss: 2162.8701\n",
      "Epoch 4/100\n",
      "1/1 [==============================] - 0s 6ms/step - loss: 1388.8729\n",
      "Epoch 5/100\n",
      "1/1 [==============================] - 0s 6ms/step - loss: 964.9504\n",
      "Epoch 6/100\n",
      "1/1 [==============================] - 0s 5ms/step - loss: 837.0940\n",
      "Epoch 7/100\n",
      "1/1 [==============================] - 0s 5ms/step - loss: 918.4572\n",
      "Epoch 8/100\n",
      "1/1 [==============================] - 0s 5ms/step - loss: 1100.0392\n",
      "Epoch 9/100\n",
      "1/1 [==============================] - 0s 5ms/step - loss: 1277.9918\n",
      "Epoch 10/100\n",
      "1/1 [==============================] - 0s 5ms/step - loss: 1381.8083\n",
      "Epoch 11/100\n",
      "1/1 [==============================] - 0s 5ms/step - loss: 1384.6583\n",
      "Epoch 12/100\n",
      "1/1 [==============================] - 0s 10ms/step - loss: 1295.0891\n",
      "Epoch 13/100\n",
      "1/1 [==============================] - 0s 5ms/step - loss: 1141.7970\n",
      "Epoch 14/100\n",
      "1/1 [==============================] - 0s 7ms/step - loss: 960.3342\n",
      "Epoch 15/100\n",
      "1/1 [==============================] - 0s 6ms/step - loss: 784.1075\n",
      "Epoch 16/100\n",
      "1/1 [==============================] - 0s 5ms/step - loss: 638.9212\n",
      "Epoch 17/100\n",
      "1/1 [==============================] - 0s 5ms/step - loss: 539.9919\n",
      "Epoch 18/100\n",
      "1/1 [==============================] - 0s 5ms/step - loss: 490.9206\n",
      "Epoch 19/100\n",
      "1/1 [==============================] - 0s 10ms/step - loss: 484.5943\n",
      "Epoch 20/100\n",
      "1/1 [==============================] - 0s 6ms/step - loss: 506.0396\n",
      "Epoch 21/100\n",
      "1/1 [==============================] - 0s 5ms/step - loss: 536.8053\n",
      "Epoch 22/100\n",
      "1/1 [==============================] - 0s 5ms/step - loss: 559.7952\n",
      "Epoch 23/100\n",
      "1/1 [==============================] - 0s 6ms/step - loss: 563.1699\n",
      "Epoch 24/100\n",
      "1/1 [==============================] - 0s 4ms/step - loss: 542.2928\n",
      "Epoch 25/100\n",
      "1/1 [==============================] - 0s 4ms/step - loss: 499.5139\n",
      "Epoch 26/100\n",
      "1/1 [==============================] - 0s 4ms/step - loss: 442.3113\n",
      "Epoch 27/100\n",
      "1/1 [==============================] - 0s 5ms/step - loss: 380.6149\n",
      "Epoch 28/100\n",
      "1/1 [==============================] - 0s 4ms/step - loss: 324.0873\n",
      "Epoch 29/100\n",
      "1/1 [==============================] - 0s 5ms/step - loss: 279.9239\n",
      "Epoch 30/100\n",
      "1/1 [==============================] - 0s 7ms/step - loss: 251.5249\n",
      "Epoch 31/100\n",
      "1/1 [==============================] - 0s 4ms/step - loss: 238.2060\n",
      "Epoch 32/100\n",
      "1/1 [==============================] - 0s 5ms/step - loss: 235.9143\n",
      "Epoch 33/100\n",
      "1/1 [==============================] - 0s 6ms/step - loss: 238.6999\n",
      "Epoch 34/100\n",
      "1/1 [==============================] - 0s 5ms/step - loss: 240.5030\n",
      "Epoch 35/100\n",
      "1/1 [==============================] - 0s 11ms/step - loss: 236.7435\n",
      "Epoch 36/100\n",
      "1/1 [==============================] - 0s 5ms/step - loss: 225.2940\n",
      "Epoch 37/100\n",
      "1/1 [==============================] - 0s 5ms/step - loss: 206.6528\n",
      "Epoch 38/100\n",
      "1/1 [==============================] - 0s 4ms/step - loss: 183.3859\n",
      "Epoch 39/100\n",
      "1/1 [==============================] - 0s 10ms/step - loss: 159.1056\n",
      "Epoch 40/100\n",
      "1/1 [==============================] - 0s 4ms/step - loss: 137.3275\n",
      "Epoch 41/100\n",
      "1/1 [==============================] - 0s 8ms/step - loss: 120.5209\n",
      "Epoch 42/100\n",
      "1/1 [==============================] - 0s 5ms/step - loss: 109.5782\n",
      "Epoch 43/100\n",
      "1/1 [==============================] - 0s 4ms/step - loss: 103.7896\n",
      "Epoch 44/100\n",
      "1/1 [==============================] - 0s 4ms/step - loss: 101.2708\n",
      "Epoch 45/100\n",
      "1/1 [==============================] - 0s 5ms/step - loss: 99.6686\n",
      "Epoch 46/100\n",
      "1/1 [==============================] - 0s 4ms/step - loss: 96.9065\n",
      "Epoch 47/100\n",
      "1/1 [==============================] - 0s 7ms/step - loss: 91.7442\n",
      "Epoch 48/100\n",
      "1/1 [==============================] - 0s 4ms/step - loss: 84.0075\n",
      "Epoch 49/100\n",
      "1/1 [==============================] - 0s 7ms/step - loss: 74.4662\n",
      "Epoch 50/100\n",
      "1/1 [==============================] - 0s 4ms/step - loss: 64.4480\n",
      "Epoch 51/100\n",
      "1/1 [==============================] - 0s 7ms/step - loss: 55.3412\n",
      "Epoch 52/100\n",
      "1/1 [==============================] - 0s 4ms/step - loss: 48.1539\n",
      "Epoch 53/100\n",
      "1/1 [==============================] - 0s 7ms/step - loss: 43.2548\n",
      "Epoch 54/100\n",
      "1/1 [==============================] - 0s 4ms/step - loss: 40.3500\n",
      "Epoch 55/100\n",
      "1/1 [==============================] - 0s 11ms/step - loss: 38.6719\n",
      "Epoch 56/100\n",
      "1/1 [==============================] - 0s 4ms/step - loss: 37.2906\n",
      "Epoch 57/100\n",
      "1/1 [==============================] - 0s 6ms/step - loss: 35.4316\n",
      "Epoch 58/100\n",
      "1/1 [==============================] - 0s 4ms/step - loss: 32.6968\n",
      "Epoch 59/100\n",
      "1/1 [==============================] - 0s 7ms/step - loss: 29.1284\n",
      "Epoch 60/100\n",
      "1/1 [==============================] - 0s 5ms/step - loss: 25.1198\n",
      "Epoch 61/100\n",
      "1/1 [==============================] - 0s 6ms/step - loss: 21.2231\n",
      "Epoch 62/100\n",
      "1/1 [==============================] - 0s 5ms/step - loss: 17.9344\n",
      "Epoch 63/100\n",
      "1/1 [==============================] - 0s 9ms/step - loss: 15.5302\n",
      "Epoch 64/100\n",
      "1/1 [==============================] - 0s 4ms/step - loss: 14.0043\n",
      "Epoch 65/100\n",
      "1/1 [==============================] - 0s 8ms/step - loss: 13.1100\n",
      "Epoch 66/100\n",
      "1/1 [==============================] - 0s 5ms/step - loss: 12.4799\n",
      "Epoch 67/100\n",
      "1/1 [==============================] - 0s 4ms/step - loss: 11.7692\n",
      "Epoch 68/100\n",
      "1/1 [==============================] - 0s 5ms/step - loss: 10.7685\n",
      "Epoch 69/100\n",
      "1/1 [==============================] - 0s 5ms/step - loss: 9.4527\n",
      "Epoch 70/100\n",
      "1/1 [==============================] - 0s 4ms/step - loss: 7.9558\n",
      "Epoch 71/100\n",
      "1/1 [==============================] - 0s 8ms/step - loss: 6.4938\n",
      "Epoch 72/100\n",
      "1/1 [==============================] - 0s 4ms/step - loss: 5.2697\n",
      "Epoch 73/100\n",
      "1/1 [==============================] - 0s 7ms/step - loss: 4.3991\n",
      "Epoch 74/100\n",
      "1/1 [==============================] - 0s 4ms/step - loss: 3.8791\n",
      "Epoch 75/100\n",
      "1/1 [==============================] - 0s 7ms/step - loss: 3.6063\n",
      "Epoch 76/100\n",
      "1/1 [==============================] - 0s 5ms/step - loss: 3.4287\n",
      "Epoch 77/100\n",
      "1/1 [==============================] - 0s 7ms/step - loss: 3.2087\n",
      "Epoch 78/100\n",
      "1/1 [==============================] - 0s 5ms/step - loss: 2.8700\n",
      "Epoch 79/100\n",
      "1/1 [==============================] - 0s 9ms/step - loss: 2.4141\n",
      "Epoch 80/100\n",
      "1/1 [==============================] - 0s 5ms/step - loss: 1.9051\n",
      "Epoch 81/100\n",
      "1/1 [==============================] - 0s 7ms/step - loss: 1.4330\n",
      "Epoch 82/100\n",
      "1/1 [==============================] - 0s 4ms/step - loss: 1.0725\n",
      "Epoch 83/100\n",
      "1/1 [==============================] - 0s 8ms/step - loss: 0.8554\n",
      "Epoch 84/100\n",
      "1/1 [==============================] - 0s 4ms/step - loss: 0.7636\n",
      "Epoch 85/100\n",
      "1/1 [==============================] - 0s 8ms/step - loss: 0.7436\n",
      "Epoch 86/100\n",
      "1/1 [==============================] - 0s 4ms/step - loss: 0.7320\n",
      "Epoch 87/100\n",
      "1/1 [==============================] - 0s 8ms/step - loss: 0.6816\n",
      "Epoch 88/100\n",
      "1/1 [==============================] - 0s 6ms/step - loss: 0.5762\n",
      "Epoch 89/100\n",
      "1/1 [==============================] - 0s 7ms/step - loss: 0.4316\n",
      "Epoch 90/100\n",
      "1/1 [==============================] - 0s 5ms/step - loss: 0.2822\n",
      "Epoch 91/100\n",
      "1/1 [==============================] - 0s 5ms/step - loss: 0.1638\n",
      "Epoch 92/100\n",
      "1/1 [==============================] - 0s 5ms/step - loss: 0.0974\n",
      "Epoch 93/100\n",
      "1/1 [==============================] - 0s 5ms/step - loss: 0.0831\n",
      "Epoch 94/100\n",
      "1/1 [==============================] - 0s 5ms/step - loss: 0.1022\n",
      "Epoch 95/100\n",
      "1/1 [==============================] - 0s 4ms/step - loss: 0.1286\n",
      "Epoch 96/100\n",
      "1/1 [==============================] - 0s 4ms/step - loss: 0.1398\n",
      "Epoch 97/100\n",
      "1/1 [==============================] - 0s 6ms/step - loss: 0.1259\n",
      "Epoch 98/100\n",
      "1/1 [==============================] - 0s 4ms/step - loss: 0.0911\n",
      "Epoch 99/100\n",
      "1/1 [==============================] - 0s 6ms/step - loss: 0.0490\n",
      "Epoch 100/100\n",
      "1/1 [==============================] - 0s 3ms/step - loss: 0.0155\n"
     ]
    }
   ],
   "source": [
    "# Train the model\n",
    "epochs_hist = model.fit(X_train, y_train, epochs=100)"
   ]
  },
  {
   "cell_type": "markdown",
   "metadata": {},
   "source": [
    "## Evaluating the Model"
   ]
  },
  {
   "cell_type": "code",
   "execution_count": 39,
   "metadata": {},
   "outputs": [
    {
     "data": {
      "text/plain": [
       "dict_keys(['loss'])"
      ]
     },
     "execution_count": 39,
     "metadata": {},
     "output_type": "execute_result"
    }
   ],
   "source": [
    "# The tained model object has many keys - which is a dictionary\n",
    "epochs_hist.history.keys()"
   ]
  },
  {
   "cell_type": "code",
   "execution_count": 40,
   "metadata": {},
   "outputs": [
    {
     "data": {
      "text/plain": [
       "<matplotlib.legend.Legend at 0x231f0c82370>"
      ]
     },
     "execution_count": 40,
     "metadata": {},
     "output_type": "execute_result"
    },
    {
     "data": {
      "image/png": "[encoded data removed]",
      "text/plain": [
       "<Figure size 720x432 with 1 Axes>"
      ]
     },
     "metadata": {
      "needs_background": "light"
     },
     "output_type": "display_data"
    }
   ],
   "source": [
    "# Plot the Loss progress during training\n",
    "plt.figure(figsize=(10, 6))\n",
    "plt.plot(epochs_hist.history['loss'])\n",
    "plt.title('Model Loss During Training')\n",
    "plt.xlabel('Epochs')\n",
    "plt.ylabel('Training Loss')\n",
    "plt.legend(['Training Loss'])"
   ]
  },
  {
   "cell_type": "code",
   "execution_count": 41,
   "metadata": {},
   "outputs": [
    {
     "data": {
      "text/plain": [
       "[array([[1.8010323]], dtype=float32), array([32.006775], dtype=float32)]"
      ]
     },
     "execution_count": 41,
     "metadata": {},
     "output_type": "execute_result"
    }
   ],
   "source": [
    "# Check the weights\n",
    "model.get_weights()"
   ]
  },
  {
   "cell_type": "code",
   "execution_count": 44,
   "metadata": {},
   "outputs": [
    {
     "name": "stdout",
     "output_type": "stream",
     "text": [
      "1/1 [==============================] - 0s 31ms/step\n",
      "Prediction using the trained Model - [[-25.626259]]\n"
     ]
    }
   ],
   "source": [
    "# We will use the trained model to perform predictions\n",
    "Temp_C = -32\n",
    "Temp_F = model.predict([Temp_C])\n",
    "print(f\"Prediction using the trained Model - {Temp_F}\")"
   ]
  },
  {
   "cell_type": "code",
   "execution_count": 45,
   "metadata": {},
   "outputs": [
    {
     "name": "stdout",
     "output_type": "stream",
     "text": [
      "Prediction using the equation - -25.6\n"
     ]
    }
   ],
   "source": [
    "# Lets verify this with the equation\n",
    "Temp_F = 9/5 * Temp_C + 32\n",
    "print(f\"Prediction using the equation - {Temp_F}\")"
   ]
  },
  {
   "cell_type": "code",
   "execution_count": null,
   "metadata": {},
   "outputs": [],
   "source": []
  }
 ],
 "metadata": {
  "kernelspec": {
   "display_name": "Python 3.9.12 ('tensorflow-gpu')",
   "language": "python",
   "name": "python3"
  },
  "language_info": {
   "codemirror_mode": {
    "name": "ipython",
    "version": 3
   },
   "file_extension": ".py",
   "mimetype": "text/x-python",
   "name": "python",
   "nbconvert_exporter": "python",
   "pygments_lexer": "ipython3",
   "version": "3.9.12"
  },
  "orig_nbformat": 4,
  "vscode": {
   "interpreter": {
    "hash": "e2b6a0854d3e486355aa730ef2c4309aea53da46b71110e983718c32f548066a"
   }
  }
 },
 "nbformat": 4,
 "nbformat_minor": 2
}
