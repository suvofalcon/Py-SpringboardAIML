{
 "cells": [
  {
   "cell_type": "markdown",
   "metadata": {},
   "source": [
    "# Text Classification (Sentiment Classification) - Amazon Alexa Reviews\n",
    "\n",
    "- Dataset consists of 3000 Amazon customer reviews, star ratings, date of review, variant and feedback of various amazon Alexa products like Alexa Echo, Echo dots.\n",
    "- The objective is to discover insights into consumer reviews and perfrom sentiment analysis on the data.\n",
    "- Dataset: www.kaggle.com/sid321axn/amazon-alexa-reviews\n",
    "---\n",
    "\n",
    "<table>\n",
    "  <tr><td>\n",
    "    <img src=\"https://upload.wikimedia.org/wikipedia/commons/1/14/Amazon_Echo_Dot_%28black%29_on_a_wood_surface.jpg\"\n",
    "alt=\"Fashion MNIST sprite\"  length = \"600\" width=\"800\">\n",
    "  </td></tr>\n",
    "  <tr><td align=\"center\">\n",
    "    <b>Figure 1. Amazon Alexa Reviews Classification [Source: https://en.wikipedia.org/wiki/Amazon_Echo]\n",
    "  </td></tr>\n",
    "</table>"
   ]
  },
  {
   "cell_type": "markdown",
   "metadata": {},
   "source": [
    "## Library Imports"
   ]
  },
  {
   "cell_type": "code",
   "execution_count": 1,
   "metadata": {},
   "outputs": [
    {
     "name": "stdout",
     "output_type": "stream",
     "text": [
      "Using Tensorflow version as - 2.9.1\n"
     ]
    }
   ],
   "source": [
    "import numpy as np\n",
    "import pandas as pd\n",
    "import matplotlib.pyplot as plt\n",
    "import seaborn as sns\n",
    "\n",
    "import tensorflow as tf\n",
    "\n",
    "from sklearn.feature_extraction.text import CountVectorizer\n",
    "from sklearn.model_selection import train_test_split\n",
    "from sklearn.metrics import confusion_matrix, accuracy_score, classification_report\n",
    "\n",
    "print(f\"Using Tensorflow version as - {tf.__version__}\")"
   ]
  },
  {
   "cell_type": "code",
   "execution_count": 2,
   "metadata": {},
   "outputs": [
    {
     "name": "stdout",
     "output_type": "stream",
     "text": [
      "1 Physical GPUs, 1 Logical GPUs\n"
     ]
    }
   ],
   "source": [
    "# Verify GPU availability and Usage\n",
    "\n",
    "# Note this code is only valid if GPU is being used for training\n",
    "\n",
    "# Before we run the parameter tuning, we will work with little gpu memory allocation\n",
    "# we will only use that much of memory of gpu as it is needed - allow the growth of gpu memory as it is needed\n",
    "\n",
    "gpus = tf.config.experimental.list_physical_devices('GPU')\n",
    "if gpus:\n",
    "    try:\n",
    "        # Currently, memory growth needs to be the same across GPUs\n",
    "        for gpu in gpus:\n",
    "            tf.config.experimental.set_memory_growth(gpu, True)\n",
    "        logical_gpus = tf.config.experimental.list_logical_devices('GPU')\n",
    "        print(len(gpus), \"Physical GPUs,\", len(logical_gpus), \"Logical GPUs\")\n",
    "    except RuntimeError as e:\n",
    "        # Memory growth must be set before GPUs have been initialized\n",
    "        print(e)"
   ]
  },
  {
   "cell_type": "markdown",
   "metadata": {},
   "source": [
    "## Load the Dataset"
   ]
  },
  {
   "cell_type": "code",
   "execution_count": 3,
   "metadata": {},
   "outputs": [
    {
     "data": {
      "text/html": [
       "<div>\n",
       "<style scoped>\n",
       "    .dataframe tbody tr th:only-of-type {\n",
       "        vertical-align: middle;\n",
       "    }\n",
       "\n",
       "    .dataframe tbody tr th {\n",
       "        vertical-align: top;\n",
       "    }\n",
       "\n",
       "    .dataframe thead th {\n",
       "        text-align: right;\n",
       "    }\n",
       "</style>\n",
       "<table border=\"1\" class=\"dataframe\">\n",
       "  <thead>\n",
       "    <tr style=\"text-align: right;\">\n",
       "      <th></th>\n",
       "      <th>rating</th>\n",
       "      <th>date</th>\n",
       "      <th>variation</th>\n",
       "      <th>verified_reviews</th>\n",
       "      <th>feedback</th>\n",
       "    </tr>\n",
       "  </thead>\n",
       "  <tbody>\n",
       "    <tr>\n",
       "      <th>0</th>\n",
       "      <td>5</td>\n",
       "      <td>31-Jul-18</td>\n",
       "      <td>Charcoal Fabric</td>\n",
       "      <td>Love my Echo!</td>\n",
       "      <td>1</td>\n",
       "    </tr>\n",
       "    <tr>\n",
       "      <th>1</th>\n",
       "      <td>5</td>\n",
       "      <td>31-Jul-18</td>\n",
       "      <td>Charcoal Fabric</td>\n",
       "      <td>Loved it!</td>\n",
       "      <td>1</td>\n",
       "    </tr>\n",
       "    <tr>\n",
       "      <th>2</th>\n",
       "      <td>4</td>\n",
       "      <td>31-Jul-18</td>\n",
       "      <td>Walnut Finish</td>\n",
       "      <td>Sometimes while playing a game, you can answer...</td>\n",
       "      <td>1</td>\n",
       "    </tr>\n",
       "    <tr>\n",
       "      <th>3</th>\n",
       "      <td>5</td>\n",
       "      <td>31-Jul-18</td>\n",
       "      <td>Charcoal Fabric</td>\n",
       "      <td>I have had a lot of fun with this thing. My 4 ...</td>\n",
       "      <td>1</td>\n",
       "    </tr>\n",
       "    <tr>\n",
       "      <th>4</th>\n",
       "      <td>5</td>\n",
       "      <td>31-Jul-18</td>\n",
       "      <td>Charcoal Fabric</td>\n",
       "      <td>Music</td>\n",
       "      <td>1</td>\n",
       "    </tr>\n",
       "  </tbody>\n",
       "</table>\n",
       "</div>"
      ],
      "text/plain": [
       "   rating       date         variation  \\\n",
       "0       5  31-Jul-18  Charcoal Fabric    \n",
       "1       5  31-Jul-18  Charcoal Fabric    \n",
       "2       4  31-Jul-18    Walnut Finish    \n",
       "3       5  31-Jul-18  Charcoal Fabric    \n",
       "4       5  31-Jul-18  Charcoal Fabric    \n",
       "\n",
       "                                    verified_reviews  feedback  \n",
       "0                                      Love my Echo!         1  \n",
       "1                                          Loved it!         1  \n",
       "2  Sometimes while playing a game, you can answer...         1  \n",
       "3  I have had a lot of fun with this thing. My 4 ...         1  \n",
       "4                                              Music         1  "
      ]
     },
     "execution_count": 3,
     "metadata": {},
     "output_type": "execute_result"
    }
   ],
   "source": [
    "reviews = pd.read_csv('resources/amazon_alexa.tsv', sep=\"\\t\")\n",
    "\n",
    "# Check the load\n",
    "reviews.head()"
   ]
  },
  {
   "cell_type": "code",
   "execution_count": 4,
   "metadata": {},
   "outputs": [
    {
     "name": "stdout",
     "output_type": "stream",
     "text": [
      "<class 'pandas.core.frame.DataFrame'>\n",
      "RangeIndex: 3150 entries, 0 to 3149\n",
      "Data columns (total 5 columns):\n",
      " #   Column            Non-Null Count  Dtype \n",
      "---  ------            --------------  ----- \n",
      " 0   rating            3150 non-null   int64 \n",
      " 1   date              3150 non-null   object\n",
      " 2   variation         3150 non-null   object\n",
      " 3   verified_reviews  3150 non-null   object\n",
      " 4   feedback          3150 non-null   int64 \n",
      "dtypes: int64(2), object(3)\n",
      "memory usage: 123.2+ KB\n"
     ]
    }
   ],
   "source": [
    "# Check the data structure\n",
    "reviews.info()"
   ]
  },
  {
   "cell_type": "code",
   "execution_count": 5,
   "metadata": {},
   "outputs": [
    {
     "data": {
      "text/plain": [
       "0"
      ]
     },
     "execution_count": 5,
     "metadata": {},
     "output_type": "execute_result"
    }
   ],
   "source": [
    "# Check for missing values\n",
    "sum(reviews.isna().sum())"
   ]
  },
  {
   "cell_type": "code",
   "execution_count": 6,
   "metadata": {},
   "outputs": [
    {
     "data": {
      "text/plain": [
       "0                                        Love my Echo!\n",
       "1                                            Loved it!\n",
       "2    Sometimes while playing a game, you can answer...\n",
       "3    I have had a lot of fun with this thing. My 4 ...\n",
       "4                                                Music\n",
       "Name: verified_reviews, dtype: object"
      ]
     },
     "execution_count": 6,
     "metadata": {},
     "output_type": "execute_result"
    }
   ],
   "source": [
    "# Lets Check some positive reviews\n",
    "reviews[reviews['feedback'] == 1]['verified_reviews'].head()"
   ]
  },
  {
   "cell_type": "code",
   "execution_count": 7,
   "metadata": {},
   "outputs": [
    {
     "data": {
      "text/plain": [
       "46     It's like Siri, in fact, Siri answers more acc...\n",
       "111    Sound is terrible if u want good music too get...\n",
       "141                                   Not much features.\n",
       "162    Stopped working after 2 weeks ,didn't follow c...\n",
       "176                                 Sad joke. Worthless.\n",
       "Name: verified_reviews, dtype: object"
      ]
     },
     "execution_count": 7,
     "metadata": {},
     "output_type": "execute_result"
    }
   ],
   "source": [
    "# Lets Check some negative reviews\n",
    "reviews[reviews['feedback'] == 0]['verified_reviews'].head()"
   ]
  },
  {
   "cell_type": "markdown",
   "metadata": {},
   "source": [
    "## Data Exploration"
   ]
  },
  {
   "cell_type": "code",
   "execution_count": 8,
   "metadata": {},
   "outputs": [
    {
     "name": "stdout",
     "output_type": "stream",
     "text": [
      "1    2893\n",
      "0     257\n",
      "Name: feedback, dtype: int64\n"
     ]
    },
    {
     "data": {
      "text/plain": [
       "<AxesSubplot:xlabel='feedback', ylabel='count'>"
      ]
     },
     "execution_count": 8,
     "metadata": {},
     "output_type": "execute_result"
    },
    {
     "data": {
      "image/png": "[encoded data removed]",
      "text/plain": [
       "<Figure size 576x360 with 1 Axes>"
      ]
     },
     "metadata": {
      "needs_background": "light"
     },
     "output_type": "display_data"
    }
   ],
   "source": [
    "# Lets study the target variable\n",
    "print(reviews['feedback'].value_counts())\n",
    "\n",
    "# Check the distribution\n",
    "plt.figure(figsize=(8, 5))\n",
    "sns.countplot(x='feedback', data=reviews)"
   ]
  },
  {
   "cell_type": "code",
   "execution_count": 9,
   "metadata": {},
   "outputs": [
    {
     "data": {
      "text/plain": [
       "<AxesSubplot:xlabel='rating', ylabel='count'>"
      ]
     },
     "execution_count": 9,
     "metadata": {},
     "output_type": "execute_result"
    },
    {
     "data": {
      "image/png": "[encoded data removed]",
      "text/plain": [
       "<Figure size 576x360 with 1 Axes>"
      ]
     },
     "metadata": {
      "needs_background": "light"
     },
     "output_type": "display_data"
    }
   ],
   "source": [
    "# Study the rating attribute\n",
    "plt.figure(figsize=(8, 5))\n",
    "sns.countplot(x='rating', data=reviews, hue='feedback')"
   ]
  },
  {
   "cell_type": "code",
   "execution_count": 10,
   "metadata": {},
   "outputs": [
    {
     "name": "stdout",
     "output_type": "stream",
     "text": [
      "Black  Dot                      516\n",
      "Charcoal Fabric                 430\n",
      "Configuration: Fire TV Stick    350\n",
      "Black  Plus                     270\n",
      "Black  Show                     265\n",
      "Black                           261\n",
      "Black  Spot                     241\n",
      "White  Dot                      184\n",
      "Heather Gray Fabric             157\n",
      "White  Spot                     109\n",
      "White                            91\n",
      "Sandstone Fabric                 90\n",
      "White  Show                      85\n",
      "White  Plus                      78\n",
      "Oak Finish                       14\n",
      "Walnut Finish                     9\n",
      "Name: variation, dtype: int64\n"
     ]
    },
    {
     "data": {
      "text/plain": [
       "<AxesSubplot:xlabel='variation', ylabel='count'>"
      ]
     },
     "execution_count": 10,
     "metadata": {},
     "output_type": "execute_result"
    },
    {
     "data": {
      "image/png": "[encoded data removed]",
      "text/plain": [
       "<Figure size 1584x360 with 1 Axes>"
      ]
     },
     "metadata": {
      "needs_background": "light"
     },
     "output_type": "display_data"
    }
   ],
   "source": [
    "# Study the variation\n",
    "\n",
    "# understand which variant how many reviews\n",
    "print(reviews['variation'].value_counts())\n",
    "\n",
    "# Variation by feedback\n",
    "plt.figure(figsize=(22, 5))\n",
    "sns.countplot(x='variation', data=reviews, hue='feedback')"
   ]
  },
  {
   "cell_type": "markdown",
   "metadata": {},
   "source": [
    "## Data Preparation"
   ]
  },
  {
   "cell_type": "code",
   "execution_count": 11,
   "metadata": {},
   "outputs": [
    {
     "data": {
      "text/html": [
       "<div>\n",
       "<style scoped>\n",
       "    .dataframe tbody tr th:only-of-type {\n",
       "        vertical-align: middle;\n",
       "    }\n",
       "\n",
       "    .dataframe tbody tr th {\n",
       "        vertical-align: top;\n",
       "    }\n",
       "\n",
       "    .dataframe thead th {\n",
       "        text-align: right;\n",
       "    }\n",
       "</style>\n",
       "<table border=\"1\" class=\"dataframe\">\n",
       "  <thead>\n",
       "    <tr style=\"text-align: right;\">\n",
       "      <th></th>\n",
       "      <th>variation</th>\n",
       "      <th>verified_reviews</th>\n",
       "      <th>feedback</th>\n",
       "    </tr>\n",
       "  </thead>\n",
       "  <tbody>\n",
       "    <tr>\n",
       "      <th>0</th>\n",
       "      <td>Charcoal Fabric</td>\n",
       "      <td>Love my Echo!</td>\n",
       "      <td>1</td>\n",
       "    </tr>\n",
       "    <tr>\n",
       "      <th>1</th>\n",
       "      <td>Charcoal Fabric</td>\n",
       "      <td>Loved it!</td>\n",
       "      <td>1</td>\n",
       "    </tr>\n",
       "    <tr>\n",
       "      <th>2</th>\n",
       "      <td>Walnut Finish</td>\n",
       "      <td>Sometimes while playing a game, you can answer...</td>\n",
       "      <td>1</td>\n",
       "    </tr>\n",
       "    <tr>\n",
       "      <th>3</th>\n",
       "      <td>Charcoal Fabric</td>\n",
       "      <td>I have had a lot of fun with this thing. My 4 ...</td>\n",
       "      <td>1</td>\n",
       "    </tr>\n",
       "    <tr>\n",
       "      <th>4</th>\n",
       "      <td>Charcoal Fabric</td>\n",
       "      <td>Music</td>\n",
       "      <td>1</td>\n",
       "    </tr>\n",
       "  </tbody>\n",
       "</table>\n",
       "</div>"
      ],
      "text/plain": [
       "          variation                                   verified_reviews  \\\n",
       "0  Charcoal Fabric                                       Love my Echo!   \n",
       "1  Charcoal Fabric                                           Loved it!   \n",
       "2    Walnut Finish   Sometimes while playing a game, you can answer...   \n",
       "3  Charcoal Fabric   I have had a lot of fun with this thing. My 4 ...   \n",
       "4  Charcoal Fabric                                               Music   \n",
       "\n",
       "   feedback  \n",
       "0         1  \n",
       "1         1  \n",
       "2         1  \n",
       "3         1  \n",
       "4         1  "
      ]
     },
     "execution_count": 11,
     "metadata": {},
     "output_type": "execute_result"
    }
   ],
   "source": [
    "# we will drop the date and rating attribute\n",
    "reviews = reviews.drop(labels=['date', 'rating'], axis=1)\n",
    "\n",
    "reviews.head()"
   ]
  },
  {
   "cell_type": "code",
   "execution_count": 12,
   "metadata": {},
   "outputs": [
    {
     "data": {
      "text/html": [
       "<div>\n",
       "<style scoped>\n",
       "    .dataframe tbody tr th:only-of-type {\n",
       "        vertical-align: middle;\n",
       "    }\n",
       "\n",
       "    .dataframe tbody tr th {\n",
       "        vertical-align: top;\n",
       "    }\n",
       "\n",
       "    .dataframe thead th {\n",
       "        text-align: right;\n",
       "    }\n",
       "</style>\n",
       "<table border=\"1\" class=\"dataframe\">\n",
       "  <thead>\n",
       "    <tr style=\"text-align: right;\">\n",
       "      <th></th>\n",
       "      <th>variation</th>\n",
       "      <th>verified_reviews</th>\n",
       "      <th>feedback</th>\n",
       "    </tr>\n",
       "  </thead>\n",
       "  <tbody>\n",
       "    <tr>\n",
       "      <th>0</th>\n",
       "      <td>Charcoal Fabric</td>\n",
       "      <td>Love my Echo!</td>\n",
       "      <td>1</td>\n",
       "    </tr>\n",
       "    <tr>\n",
       "      <th>1</th>\n",
       "      <td>Charcoal Fabric</td>\n",
       "      <td>Loved it!</td>\n",
       "      <td>1</td>\n",
       "    </tr>\n",
       "    <tr>\n",
       "      <th>2</th>\n",
       "      <td>Walnut Finish</td>\n",
       "      <td>Sometimes while playing a game, you can answer...</td>\n",
       "      <td>1</td>\n",
       "    </tr>\n",
       "    <tr>\n",
       "      <th>3</th>\n",
       "      <td>Charcoal Fabric</td>\n",
       "      <td>I have had a lot of fun with this thing. My 4 ...</td>\n",
       "      <td>1</td>\n",
       "    </tr>\n",
       "    <tr>\n",
       "      <th>4</th>\n",
       "      <td>Charcoal Fabric</td>\n",
       "      <td>Music</td>\n",
       "      <td>1</td>\n",
       "    </tr>\n",
       "  </tbody>\n",
       "</table>\n",
       "</div>"
      ],
      "text/plain": [
       "          variation                                   verified_reviews  \\\n",
       "0  Charcoal Fabric                                       Love my Echo!   \n",
       "1  Charcoal Fabric                                           Loved it!   \n",
       "2    Walnut Finish   Sometimes while playing a game, you can answer...   \n",
       "3  Charcoal Fabric   I have had a lot of fun with this thing. My 4 ...   \n",
       "4  Charcoal Fabric                                               Music   \n",
       "\n",
       "   feedback  \n",
       "0         1  \n",
       "1         1  \n",
       "2         1  \n",
       "3         1  \n",
       "4         1  "
      ]
     },
     "execution_count": 12,
     "metadata": {},
     "output_type": "execute_result"
    }
   ],
   "source": [
    "reviews.head()"
   ]
  },
  {
   "cell_type": "code",
   "execution_count": 13,
   "metadata": {},
   "outputs": [
    {
     "data": {
      "text/html": [
       "<div>\n",
       "<style scoped>\n",
       "    .dataframe tbody tr th:only-of-type {\n",
       "        vertical-align: middle;\n",
       "    }\n",
       "\n",
       "    .dataframe tbody tr th {\n",
       "        vertical-align: top;\n",
       "    }\n",
       "\n",
       "    .dataframe thead th {\n",
       "        text-align: right;\n",
       "    }\n",
       "</style>\n",
       "<table border=\"1\" class=\"dataframe\">\n",
       "  <thead>\n",
       "    <tr style=\"text-align: right;\">\n",
       "      <th></th>\n",
       "      <th>verified_reviews</th>\n",
       "      <th>feedback</th>\n",
       "      <th>Black  Dot</th>\n",
       "      <th>Black  Plus</th>\n",
       "      <th>Black  Show</th>\n",
       "      <th>Black  Spot</th>\n",
       "      <th>Charcoal Fabric</th>\n",
       "      <th>Configuration: Fire TV Stick</th>\n",
       "      <th>Heather Gray Fabric</th>\n",
       "      <th>Oak Finish</th>\n",
       "      <th>Sandstone Fabric</th>\n",
       "      <th>Walnut Finish</th>\n",
       "      <th>White</th>\n",
       "      <th>White  Dot</th>\n",
       "      <th>White  Plus</th>\n",
       "      <th>White  Show</th>\n",
       "      <th>White  Spot</th>\n",
       "    </tr>\n",
       "  </thead>\n",
       "  <tbody>\n",
       "    <tr>\n",
       "      <th>0</th>\n",
       "      <td>Love my Echo!</td>\n",
       "      <td>1</td>\n",
       "      <td>0</td>\n",
       "      <td>0</td>\n",
       "      <td>0</td>\n",
       "      <td>0</td>\n",
       "      <td>1</td>\n",
       "      <td>0</td>\n",
       "      <td>0</td>\n",
       "      <td>0</td>\n",
       "      <td>0</td>\n",
       "      <td>0</td>\n",
       "      <td>0</td>\n",
       "      <td>0</td>\n",
       "      <td>0</td>\n",
       "      <td>0</td>\n",
       "      <td>0</td>\n",
       "    </tr>\n",
       "    <tr>\n",
       "      <th>1</th>\n",
       "      <td>Loved it!</td>\n",
       "      <td>1</td>\n",
       "      <td>0</td>\n",
       "      <td>0</td>\n",
       "      <td>0</td>\n",
       "      <td>0</td>\n",
       "      <td>1</td>\n",
       "      <td>0</td>\n",
       "      <td>0</td>\n",
       "      <td>0</td>\n",
       "      <td>0</td>\n",
       "      <td>0</td>\n",
       "      <td>0</td>\n",
       "      <td>0</td>\n",
       "      <td>0</td>\n",
       "      <td>0</td>\n",
       "      <td>0</td>\n",
       "    </tr>\n",
       "    <tr>\n",
       "      <th>2</th>\n",
       "      <td>Sometimes while playing a game, you can answer...</td>\n",
       "      <td>1</td>\n",
       "      <td>0</td>\n",
       "      <td>0</td>\n",
       "      <td>0</td>\n",
       "      <td>0</td>\n",
       "      <td>0</td>\n",
       "      <td>0</td>\n",
       "      <td>0</td>\n",
       "      <td>0</td>\n",
       "      <td>0</td>\n",
       "      <td>1</td>\n",
       "      <td>0</td>\n",
       "      <td>0</td>\n",
       "      <td>0</td>\n",
       "      <td>0</td>\n",
       "      <td>0</td>\n",
       "    </tr>\n",
       "    <tr>\n",
       "      <th>3</th>\n",
       "      <td>I have had a lot of fun with this thing. My 4 ...</td>\n",
       "      <td>1</td>\n",
       "      <td>0</td>\n",
       "      <td>0</td>\n",
       "      <td>0</td>\n",
       "      <td>0</td>\n",
       "      <td>1</td>\n",
       "      <td>0</td>\n",
       "      <td>0</td>\n",
       "      <td>0</td>\n",
       "      <td>0</td>\n",
       "      <td>0</td>\n",
       "      <td>0</td>\n",
       "      <td>0</td>\n",
       "      <td>0</td>\n",
       "      <td>0</td>\n",
       "      <td>0</td>\n",
       "    </tr>\n",
       "    <tr>\n",
       "      <th>4</th>\n",
       "      <td>Music</td>\n",
       "      <td>1</td>\n",
       "      <td>0</td>\n",
       "      <td>0</td>\n",
       "      <td>0</td>\n",
       "      <td>0</td>\n",
       "      <td>1</td>\n",
       "      <td>0</td>\n",
       "      <td>0</td>\n",
       "      <td>0</td>\n",
       "      <td>0</td>\n",
       "      <td>0</td>\n",
       "      <td>0</td>\n",
       "      <td>0</td>\n",
       "      <td>0</td>\n",
       "      <td>0</td>\n",
       "      <td>0</td>\n",
       "    </tr>\n",
       "  </tbody>\n",
       "</table>\n",
       "</div>"
      ],
      "text/plain": [
       "                                    verified_reviews  feedback  Black  Dot  \\\n",
       "0                                      Love my Echo!         1           0   \n",
       "1                                          Loved it!         1           0   \n",
       "2  Sometimes while playing a game, you can answer...         1           0   \n",
       "3  I have had a lot of fun with this thing. My 4 ...         1           0   \n",
       "4                                              Music         1           0   \n",
       "\n",
       "   Black  Plus  Black  Show  Black  Spot  Charcoal Fabric   \\\n",
       "0            0            0            0                 1   \n",
       "1            0            0            0                 1   \n",
       "2            0            0            0                 0   \n",
       "3            0            0            0                 1   \n",
       "4            0            0            0                 1   \n",
       "\n",
       "   Configuration: Fire TV Stick  Heather Gray Fabric   Oak Finish   \\\n",
       "0                             0                     0            0   \n",
       "1                             0                     0            0   \n",
       "2                             0                     0            0   \n",
       "3                             0                     0            0   \n",
       "4                             0                     0            0   \n",
       "\n",
       "   Sandstone Fabric   Walnut Finish   White  White  Dot  White  Plus  \\\n",
       "0                  0               0      0           0            0   \n",
       "1                  0               0      0           0            0   \n",
       "2                  0               1      0           0            0   \n",
       "3                  0               0      0           0            0   \n",
       "4                  0               0      0           0            0   \n",
       "\n",
       "   White  Show  White  Spot  \n",
       "0            0            0  \n",
       "1            0            0  \n",
       "2            0            0  \n",
       "3            0            0  \n",
       "4            0            0  "
      ]
     },
     "execution_count": 13,
     "metadata": {},
     "output_type": "execute_result"
    }
   ],
   "source": [
    "# Now we will onehot encode or create dummy variables for the variation attribute\n",
    "variation_dummies = pd.get_dummies(reviews['variation'], drop_first=True)\n",
    "\n",
    "# Now we will concatenate with the original dataframe\n",
    "reviews = pd.concat([reviews, variation_dummies], axis=1)\n",
    "\n",
    "# Also we will drop the variation attribute which has been one hot encoded\n",
    "reviews = reviews.drop(labels=['variation'], axis=1)\n",
    "reviews.head()"
   ]
  },
  {
   "cell_type": "markdown",
   "metadata": {},
   "source": [
    "### Demonstrate Count Vectorizer and Tokenization example"
   ]
  },
  {
   "cell_type": "code",
   "execution_count": 14,
   "metadata": {},
   "outputs": [
    {
     "name": "stdout",
     "output_type": "stream",
     "text": [
      "['and' 'document' 'first' 'is' 'one' 'second' 'the' 'third' 'this']\n",
      "[[0 1 1 1 0 0 1 0 1]\n",
      " [0 2 0 1 0 1 1 0 1]\n",
      " [1 0 0 1 1 0 1 1 1]\n",
      " [0 1 1 1 0 0 1 0 1]]\n"
     ]
    }
   ],
   "source": [
    "sample_data = ['This is the first document.', 'This document is the second document.', 'And this is the third one.', \n",
    "               'Is this the first document?']\n",
    "\n",
    "# extract the unique feature from the sample_data\n",
    "vectorizer = CountVectorizer()\n",
    "X = vectorizer.fit_transform(sample_data)\n",
    "\n",
    "# Get the feature names\n",
    "print(vectorizer.get_feature_names_out())\n",
    "\n",
    "# The tokenizer array as per the feature names\n",
    "print(X.toarray())\n"
   ]
  },
  {
   "cell_type": "markdown",
   "metadata": {},
   "source": [
    "### Implement Count Vectorizer and feature extractor for the verified reviews column"
   ]
  },
  {
   "cell_type": "code",
   "execution_count": 15,
   "metadata": {},
   "outputs": [
    {
     "name": "stdout",
     "output_type": "stream",
     "text": [
      "Shape of the vectorizer - (3150, 4044)\n"
     ]
    }
   ],
   "source": [
    "vectorizer = CountVectorizer() # what gets returned after implementing a vectorizer is a sparse matrix\n",
    "reviews_vectorizer = vectorizer.fit_transform(reviews['verified_reviews'])\n",
    "\n",
    "print(f'Shape of the vectorizer - {reviews_vectorizer.shape}')"
   ]
  },
  {
   "cell_type": "code",
   "execution_count": 16,
   "metadata": {},
   "outputs": [
    {
     "name": "stdout",
     "output_type": "stream",
     "text": [
      "['00' '000' '07' ... 'zzzz' 'zzzzzzz' 'útil']\n"
     ]
    }
   ],
   "source": [
    "# Check the feature names\n",
    "print(vectorizer.get_feature_names_out())"
   ]
  },
  {
   "cell_type": "code",
   "execution_count": 17,
   "metadata": {},
   "outputs": [
    {
     "data": {
      "text/plain": [
       "array([[0, 0, 0, ..., 0, 0, 0],\n",
       "       [0, 0, 0, ..., 0, 0, 0],\n",
       "       [0, 0, 0, ..., 0, 0, 0],\n",
       "       ...,\n",
       "       [0, 0, 0, ..., 0, 0, 0],\n",
       "       [0, 0, 0, ..., 0, 0, 0],\n",
       "       [0, 0, 0, ..., 0, 0, 0]], dtype=int64)"
      ]
     },
     "execution_count": 17,
     "metadata": {},
     "output_type": "execute_result"
    }
   ],
   "source": [
    "# Convert the sparse martrix to array\n",
    "reviews_vectorizer = reviews_vectorizer.toarray()\n",
    "reviews_vectorizer"
   ]
  },
  {
   "cell_type": "code",
   "execution_count": 18,
   "metadata": {},
   "outputs": [
    {
     "data": {
      "text/html": [
       "<div>\n",
       "<style scoped>\n",
       "    .dataframe tbody tr th:only-of-type {\n",
       "        vertical-align: middle;\n",
       "    }\n",
       "\n",
       "    .dataframe tbody tr th {\n",
       "        vertical-align: top;\n",
       "    }\n",
       "\n",
       "    .dataframe thead th {\n",
       "        text-align: right;\n",
       "    }\n",
       "</style>\n",
       "<table border=\"1\" class=\"dataframe\">\n",
       "  <thead>\n",
       "    <tr style=\"text-align: right;\">\n",
       "      <th></th>\n",
       "      <th>0</th>\n",
       "      <th>1</th>\n",
       "      <th>2</th>\n",
       "      <th>3</th>\n",
       "      <th>4</th>\n",
       "      <th>5</th>\n",
       "      <th>6</th>\n",
       "      <th>7</th>\n",
       "      <th>8</th>\n",
       "      <th>9</th>\n",
       "      <th>...</th>\n",
       "      <th>Configuration: Fire TV Stick</th>\n",
       "      <th>Heather Gray Fabric</th>\n",
       "      <th>Oak Finish</th>\n",
       "      <th>Sandstone Fabric</th>\n",
       "      <th>Walnut Finish</th>\n",
       "      <th>White</th>\n",
       "      <th>White  Dot</th>\n",
       "      <th>White  Plus</th>\n",
       "      <th>White  Show</th>\n",
       "      <th>White  Spot</th>\n",
       "    </tr>\n",
       "  </thead>\n",
       "  <tbody>\n",
       "    <tr>\n",
       "      <th>0</th>\n",
       "      <td>0</td>\n",
       "      <td>0</td>\n",
       "      <td>0</td>\n",
       "      <td>0</td>\n",
       "      <td>0</td>\n",
       "      <td>0</td>\n",
       "      <td>0</td>\n",
       "      <td>0</td>\n",
       "      <td>0</td>\n",
       "      <td>0</td>\n",
       "      <td>...</td>\n",
       "      <td>0</td>\n",
       "      <td>0</td>\n",
       "      <td>0</td>\n",
       "      <td>0</td>\n",
       "      <td>0</td>\n",
       "      <td>0</td>\n",
       "      <td>0</td>\n",
       "      <td>0</td>\n",
       "      <td>0</td>\n",
       "      <td>0</td>\n",
       "    </tr>\n",
       "    <tr>\n",
       "      <th>1</th>\n",
       "      <td>0</td>\n",
       "      <td>0</td>\n",
       "      <td>0</td>\n",
       "      <td>0</td>\n",
       "      <td>0</td>\n",
       "      <td>0</td>\n",
       "      <td>0</td>\n",
       "      <td>0</td>\n",
       "      <td>0</td>\n",
       "      <td>0</td>\n",
       "      <td>...</td>\n",
       "      <td>0</td>\n",
       "      <td>0</td>\n",
       "      <td>0</td>\n",
       "      <td>0</td>\n",
       "      <td>0</td>\n",
       "      <td>0</td>\n",
       "      <td>0</td>\n",
       "      <td>0</td>\n",
       "      <td>0</td>\n",
       "      <td>0</td>\n",
       "    </tr>\n",
       "    <tr>\n",
       "      <th>2</th>\n",
       "      <td>0</td>\n",
       "      <td>0</td>\n",
       "      <td>0</td>\n",
       "      <td>0</td>\n",
       "      <td>0</td>\n",
       "      <td>0</td>\n",
       "      <td>0</td>\n",
       "      <td>0</td>\n",
       "      <td>0</td>\n",
       "      <td>0</td>\n",
       "      <td>...</td>\n",
       "      <td>0</td>\n",
       "      <td>0</td>\n",
       "      <td>0</td>\n",
       "      <td>0</td>\n",
       "      <td>1</td>\n",
       "      <td>0</td>\n",
       "      <td>0</td>\n",
       "      <td>0</td>\n",
       "      <td>0</td>\n",
       "      <td>0</td>\n",
       "    </tr>\n",
       "    <tr>\n",
       "      <th>3</th>\n",
       "      <td>0</td>\n",
       "      <td>0</td>\n",
       "      <td>0</td>\n",
       "      <td>0</td>\n",
       "      <td>0</td>\n",
       "      <td>0</td>\n",
       "      <td>0</td>\n",
       "      <td>0</td>\n",
       "      <td>0</td>\n",
       "      <td>0</td>\n",
       "      <td>...</td>\n",
       "      <td>0</td>\n",
       "      <td>0</td>\n",
       "      <td>0</td>\n",
       "      <td>0</td>\n",
       "      <td>0</td>\n",
       "      <td>0</td>\n",
       "      <td>0</td>\n",
       "      <td>0</td>\n",
       "      <td>0</td>\n",
       "      <td>0</td>\n",
       "    </tr>\n",
       "    <tr>\n",
       "      <th>4</th>\n",
       "      <td>0</td>\n",
       "      <td>0</td>\n",
       "      <td>0</td>\n",
       "      <td>0</td>\n",
       "      <td>0</td>\n",
       "      <td>0</td>\n",
       "      <td>0</td>\n",
       "      <td>0</td>\n",
       "      <td>0</td>\n",
       "      <td>0</td>\n",
       "      <td>...</td>\n",
       "      <td>0</td>\n",
       "      <td>0</td>\n",
       "      <td>0</td>\n",
       "      <td>0</td>\n",
       "      <td>0</td>\n",
       "      <td>0</td>\n",
       "      <td>0</td>\n",
       "      <td>0</td>\n",
       "      <td>0</td>\n",
       "      <td>0</td>\n",
       "    </tr>\n",
       "  </tbody>\n",
       "</table>\n",
       "<p>5 rows × 4060 columns</p>\n",
       "</div>"
      ],
      "text/plain": [
       "   0  1  2  3  4  5  6  7  8  9  ...  Configuration: Fire TV Stick  \\\n",
       "0  0  0  0  0  0  0  0  0  0  0  ...                             0   \n",
       "1  0  0  0  0  0  0  0  0  0  0  ...                             0   \n",
       "2  0  0  0  0  0  0  0  0  0  0  ...                             0   \n",
       "3  0  0  0  0  0  0  0  0  0  0  ...                             0   \n",
       "4  0  0  0  0  0  0  0  0  0  0  ...                             0   \n",
       "\n",
       "   Heather Gray Fabric   Oak Finish   Sandstone Fabric   Walnut Finish   \\\n",
       "0                     0            0                  0               0   \n",
       "1                     0            0                  0               0   \n",
       "2                     0            0                  0               1   \n",
       "3                     0            0                  0               0   \n",
       "4                     0            0                  0               0   \n",
       "\n",
       "   White  White  Dot  White  Plus  White  Show  White  Spot  \n",
       "0      0           0            0            0            0  \n",
       "1      0           0            0            0            0  \n",
       "2      0           0            0            0            0  \n",
       "3      0           0            0            0            0  \n",
       "4      0           0            0            0            0  \n",
       "\n",
       "[5 rows x 4060 columns]"
      ]
     },
     "execution_count": 18,
     "metadata": {},
     "output_type": "execute_result"
    }
   ],
   "source": [
    "# Convert it to dataframe and concatenate with main dataframe\n",
    "reviews_vectorizer = pd.DataFrame(reviews_vectorizer)\n",
    "reviews = pd.concat([reviews_vectorizer, reviews], axis = 1)\n",
    "\n",
    "# Drop the verified reviews attribute\n",
    "reviews = reviews.drop(labels=['verified_reviews'], axis=1)\n",
    "\n",
    "reviews.head()"
   ]
  },
  {
   "cell_type": "code",
   "execution_count": 19,
   "metadata": {},
   "outputs": [
    {
     "name": "stdout",
     "output_type": "stream",
     "text": [
      "Shape of the final dataframe - (3150, 4060)\n"
     ]
    }
   ],
   "source": [
    "print(f\"Shape of the final dataframe - {reviews.shape}\")"
   ]
  },
  {
   "cell_type": "markdown",
   "metadata": {},
   "source": [
    "## Perform train-test split"
   ]
  },
  {
   "cell_type": "code",
   "execution_count": 20,
   "metadata": {},
   "outputs": [],
   "source": [
    "X = reviews.drop(labels=['feedback'], axis=1).values\n",
    "y = reviews['feedback'].values\n",
    "\n",
    "# reshape target for neural network feeding\n",
    "y = y.reshape(-1, 1)"
   ]
  },
  {
   "cell_type": "code",
   "execution_count": 21,
   "metadata": {},
   "outputs": [],
   "source": [
    "X_train, X_test, y_train, y_test = train_test_split(X, y, test_size=0.2, stratify=y, random_state=101)"
   ]
  },
  {
   "cell_type": "markdown",
   "metadata": {},
   "source": [
    "## Build and Train the Model"
   ]
  },
  {
   "cell_type": "code",
   "execution_count": 22,
   "metadata": {},
   "outputs": [
    {
     "name": "stdout",
     "output_type": "stream",
     "text": [
      "Model: \"sequential\"\n",
      "_________________________________________________________________\n",
      " Layer (type)                Output Shape              Param #   \n",
      "=================================================================\n",
      " dense (Dense)               (None, 120)               487200    \n",
      "                                                                 \n",
      " dropout (Dropout)           (None, 120)               0         \n",
      "                                                                 \n",
      " dense_1 (Dense)             (None, 120)               14520     \n",
      "                                                                 \n",
      " dense_2 (Dense)             (None, 1)                 121       \n",
      "                                                                 \n",
      "=================================================================\n",
      "Total params: 501,841\n",
      "Trainable params: 501,841\n",
      "Non-trainable params: 0\n",
      "_________________________________________________________________\n"
     ]
    }
   ],
   "source": [
    "model = tf.keras.models.Sequential()\n",
    "model.add(tf.keras.layers.Dense(units=120, activation=tf.keras.activations.relu, input_shape=(X_train.shape[1], )))\n",
    "model.add(tf.keras.layers.Dropout(rate=0.2))\n",
    "model.add(tf.keras.layers.Dense(units=120, activation=tf.keras.activations.relu))\n",
    "model.add(tf.keras.layers.Dense(units=1, activation=tf.keras.activations.sigmoid))\n",
    "\n",
    "# Compile the model\n",
    "model.compile(optimizer=tf.keras.optimizers.Adam(), loss=tf.keras.losses.BinaryCrossentropy(), metrics=[tf.keras.metrics.BinaryAccuracy()])\n",
    "\n",
    "# Check the model summary\n",
    "model.summary()"
   ]
  },
  {
   "cell_type": "code",
   "execution_count": 23,
   "metadata": {},
   "outputs": [
    {
     "name": "stdout",
     "output_type": "stream",
     "text": [
      "Epoch 1/70\n",
      "23/23 [==============================] - 1s 12ms/step - loss: 0.4897 - binary_accuracy: 0.8977 - val_loss: 0.3769 - val_binary_accuracy: 0.9206\n",
      "Epoch 2/70\n",
      "23/23 [==============================] - 0s 5ms/step - loss: 0.2550 - binary_accuracy: 0.9180 - val_loss: 0.2107 - val_binary_accuracy: 0.9206\n",
      "Epoch 3/70\n",
      "23/23 [==============================] - 0s 6ms/step - loss: 0.1462 - binary_accuracy: 0.9242 - val_loss: 0.1889 - val_binary_accuracy: 0.9246\n",
      "Epoch 4/70\n",
      "23/23 [==============================] - 0s 5ms/step - loss: 0.0996 - binary_accuracy: 0.9550 - val_loss: 0.1758 - val_binary_accuracy: 0.9365\n",
      "Epoch 5/70\n",
      "23/23 [==============================] - 0s 5ms/step - loss: 0.0665 - binary_accuracy: 0.9740 - val_loss: 0.2007 - val_binary_accuracy: 0.9325\n",
      "Epoch 6/70\n",
      "23/23 [==============================] - 0s 5ms/step - loss: 0.0438 - binary_accuracy: 0.9854 - val_loss: 0.2171 - val_binary_accuracy: 0.9246\n",
      "Epoch 7/70\n",
      "23/23 [==============================] - 0s 5ms/step - loss: 0.0304 - binary_accuracy: 0.9912 - val_loss: 0.2418 - val_binary_accuracy: 0.9286\n",
      "Epoch 8/70\n",
      "23/23 [==============================] - 0s 6ms/step - loss: 0.0236 - binary_accuracy: 0.9934 - val_loss: 0.2835 - val_binary_accuracy: 0.9286\n",
      "Epoch 9/70\n",
      "23/23 [==============================] - 0s 5ms/step - loss: 0.0196 - binary_accuracy: 0.9943 - val_loss: 0.2928 - val_binary_accuracy: 0.9286\n",
      "Epoch 10/70\n",
      "23/23 [==============================] - 0s 5ms/step - loss: 0.0184 - binary_accuracy: 0.9938 - val_loss: 0.2970 - val_binary_accuracy: 0.9286\n",
      "Epoch 11/70\n",
      "23/23 [==============================] - 0s 6ms/step - loss: 0.0165 - binary_accuracy: 0.9943 - val_loss: 0.3355 - val_binary_accuracy: 0.9286\n",
      "Epoch 12/70\n",
      "23/23 [==============================] - 0s 5ms/step - loss: 0.0143 - binary_accuracy: 0.9943 - val_loss: 0.3490 - val_binary_accuracy: 0.9286\n",
      "Epoch 13/70\n",
      "23/23 [==============================] - 0s 5ms/step - loss: 0.0144 - binary_accuracy: 0.9943 - val_loss: 0.3315 - val_binary_accuracy: 0.9325\n",
      "Epoch 14/70\n",
      "23/23 [==============================] - 0s 5ms/step - loss: 0.0136 - binary_accuracy: 0.9938 - val_loss: 0.3397 - val_binary_accuracy: 0.9286\n",
      "Epoch 15/70\n",
      "23/23 [==============================] - 0s 5ms/step - loss: 0.0128 - binary_accuracy: 0.9956 - val_loss: 0.3602 - val_binary_accuracy: 0.9325\n",
      "Epoch 16/70\n",
      "23/23 [==============================] - 0s 6ms/step - loss: 0.0129 - binary_accuracy: 0.9925 - val_loss: 0.3441 - val_binary_accuracy: 0.9246\n",
      "Epoch 17/70\n",
      "23/23 [==============================] - 0s 6ms/step - loss: 0.0127 - binary_accuracy: 0.9925 - val_loss: 0.3727 - val_binary_accuracy: 0.9286\n",
      "Epoch 18/70\n",
      "23/23 [==============================] - 0s 6ms/step - loss: 0.0128 - binary_accuracy: 0.9934 - val_loss: 0.3869 - val_binary_accuracy: 0.9325\n",
      "Epoch 19/70\n",
      "23/23 [==============================] - 0s 6ms/step - loss: 0.0123 - binary_accuracy: 0.9960 - val_loss: 0.3563 - val_binary_accuracy: 0.9246\n",
      "Epoch 20/70\n",
      "23/23 [==============================] - 0s 6ms/step - loss: 0.0122 - binary_accuracy: 0.9947 - val_loss: 0.3729 - val_binary_accuracy: 0.9246\n",
      "Epoch 21/70\n",
      "23/23 [==============================] - 0s 6ms/step - loss: 0.0115 - binary_accuracy: 0.9938 - val_loss: 0.3941 - val_binary_accuracy: 0.9286\n",
      "Epoch 22/70\n",
      "23/23 [==============================] - 0s 6ms/step - loss: 0.0122 - binary_accuracy: 0.9947 - val_loss: 0.3805 - val_binary_accuracy: 0.9246\n",
      "Epoch 23/70\n",
      "23/23 [==============================] - 0s 6ms/step - loss: 0.0119 - binary_accuracy: 0.9938 - val_loss: 0.3568 - val_binary_accuracy: 0.9206\n",
      "Epoch 24/70\n",
      "23/23 [==============================] - 0s 6ms/step - loss: 0.0118 - binary_accuracy: 0.9943 - val_loss: 0.3794 - val_binary_accuracy: 0.9206\n",
      "Epoch 25/70\n",
      "23/23 [==============================] - 0s 6ms/step - loss: 0.0113 - binary_accuracy: 0.9956 - val_loss: 0.3813 - val_binary_accuracy: 0.9206\n",
      "Epoch 26/70\n",
      "23/23 [==============================] - 0s 6ms/step - loss: 0.0122 - binary_accuracy: 0.9947 - val_loss: 0.3812 - val_binary_accuracy: 0.9206\n",
      "Epoch 27/70\n",
      "23/23 [==============================] - 0s 6ms/step - loss: 0.0111 - binary_accuracy: 0.9947 - val_loss: 0.3784 - val_binary_accuracy: 0.9246\n",
      "Epoch 28/70\n",
      "23/23 [==============================] - 0s 6ms/step - loss: 0.0120 - binary_accuracy: 0.9925 - val_loss: 0.4089 - val_binary_accuracy: 0.9325\n",
      "Epoch 29/70\n",
      "23/23 [==============================] - 0s 6ms/step - loss: 0.0124 - binary_accuracy: 0.9947 - val_loss: 0.4168 - val_binary_accuracy: 0.9325\n",
      "Epoch 30/70\n",
      "23/23 [==============================] - 0s 6ms/step - loss: 0.0118 - binary_accuracy: 0.9938 - val_loss: 0.3789 - val_binary_accuracy: 0.9206\n",
      "Epoch 31/70\n",
      "23/23 [==============================] - 0s 6ms/step - loss: 0.0114 - binary_accuracy: 0.9938 - val_loss: 0.4029 - val_binary_accuracy: 0.9325\n",
      "Epoch 32/70\n",
      "23/23 [==============================] - 0s 6ms/step - loss: 0.0119 - binary_accuracy: 0.9938 - val_loss: 0.3692 - val_binary_accuracy: 0.9405\n",
      "Epoch 33/70\n",
      "23/23 [==============================] - 0s 6ms/step - loss: 0.0158 - binary_accuracy: 0.9921 - val_loss: 0.3789 - val_binary_accuracy: 0.9325\n",
      "Epoch 34/70\n",
      "23/23 [==============================] - 0s 6ms/step - loss: 0.0242 - binary_accuracy: 0.9916 - val_loss: 0.3705 - val_binary_accuracy: 0.9405\n",
      "Epoch 35/70\n",
      "23/23 [==============================] - 0s 6ms/step - loss: 0.0175 - binary_accuracy: 0.9916 - val_loss: 0.3581 - val_binary_accuracy: 0.9246\n",
      "Epoch 36/70\n",
      "23/23 [==============================] - 0s 6ms/step - loss: 0.0144 - binary_accuracy: 0.9934 - val_loss: 0.3698 - val_binary_accuracy: 0.9325\n",
      "Epoch 37/70\n",
      "23/23 [==============================] - 0s 6ms/step - loss: 0.0125 - binary_accuracy: 0.9929 - val_loss: 0.3913 - val_binary_accuracy: 0.9286\n",
      "Epoch 38/70\n",
      "23/23 [==============================] - 0s 6ms/step - loss: 0.0118 - binary_accuracy: 0.9934 - val_loss: 0.4054 - val_binary_accuracy: 0.9286\n",
      "Epoch 39/70\n",
      "23/23 [==============================] - 0s 6ms/step - loss: 0.0121 - binary_accuracy: 0.9934 - val_loss: 0.4042 - val_binary_accuracy: 0.9325\n",
      "Epoch 40/70\n",
      "23/23 [==============================] - 0s 6ms/step - loss: 0.0111 - binary_accuracy: 0.9947 - val_loss: 0.4059 - val_binary_accuracy: 0.9286\n",
      "Epoch 41/70\n",
      "23/23 [==============================] - 0s 6ms/step - loss: 0.0116 - binary_accuracy: 0.9929 - val_loss: 0.4118 - val_binary_accuracy: 0.9325\n",
      "Epoch 42/70\n",
      "23/23 [==============================] - 0s 6ms/step - loss: 0.0135 - binary_accuracy: 0.9943 - val_loss: 0.4135 - val_binary_accuracy: 0.9365\n",
      "Epoch 43/70\n",
      "23/23 [==============================] - 0s 6ms/step - loss: 0.0116 - binary_accuracy: 0.9947 - val_loss: 0.4111 - val_binary_accuracy: 0.9325\n",
      "Epoch 44/70\n",
      "23/23 [==============================] - 0s 6ms/step - loss: 0.0119 - binary_accuracy: 0.9934 - val_loss: 0.4142 - val_binary_accuracy: 0.9286\n",
      "Epoch 45/70\n",
      "23/23 [==============================] - 0s 6ms/step - loss: 0.0113 - binary_accuracy: 0.9943 - val_loss: 0.4164 - val_binary_accuracy: 0.9286\n",
      "Epoch 46/70\n",
      "23/23 [==============================] - 0s 6ms/step - loss: 0.0117 - binary_accuracy: 0.9938 - val_loss: 0.4227 - val_binary_accuracy: 0.9286\n",
      "Epoch 47/70\n",
      "23/23 [==============================] - 0s 6ms/step - loss: 0.0113 - binary_accuracy: 0.9943 - val_loss: 0.4262 - val_binary_accuracy: 0.9365\n",
      "Epoch 48/70\n",
      "23/23 [==============================] - 0s 6ms/step - loss: 0.0116 - binary_accuracy: 0.9947 - val_loss: 0.4120 - val_binary_accuracy: 0.9325\n",
      "Epoch 49/70\n",
      "23/23 [==============================] - 0s 6ms/step - loss: 0.0115 - binary_accuracy: 0.9943 - val_loss: 0.4148 - val_binary_accuracy: 0.9325\n",
      "Epoch 50/70\n",
      "23/23 [==============================] - 0s 6ms/step - loss: 0.0116 - binary_accuracy: 0.9925 - val_loss: 0.4207 - val_binary_accuracy: 0.9365\n",
      "Epoch 51/70\n",
      "23/23 [==============================] - 0s 6ms/step - loss: 0.0117 - binary_accuracy: 0.9947 - val_loss: 0.4263 - val_binary_accuracy: 0.9365\n",
      "Epoch 52/70\n",
      "23/23 [==============================] - 0s 6ms/step - loss: 0.0111 - binary_accuracy: 0.9938 - val_loss: 0.4233 - val_binary_accuracy: 0.9405\n",
      "Epoch 53/70\n",
      "23/23 [==============================] - 0s 6ms/step - loss: 0.0102 - binary_accuracy: 0.9951 - val_loss: 0.4122 - val_binary_accuracy: 0.9325\n",
      "Epoch 54/70\n",
      "23/23 [==============================] - 0s 6ms/step - loss: 0.0116 - binary_accuracy: 0.9934 - val_loss: 0.4178 - val_binary_accuracy: 0.9365\n",
      "Epoch 55/70\n",
      "23/23 [==============================] - 0s 6ms/step - loss: 0.0108 - binary_accuracy: 0.9956 - val_loss: 0.4212 - val_binary_accuracy: 0.9405\n",
      "Epoch 56/70\n",
      "23/23 [==============================] - 0s 6ms/step - loss: 0.0117 - binary_accuracy: 0.9938 - val_loss: 0.4204 - val_binary_accuracy: 0.9405\n",
      "Epoch 57/70\n",
      "23/23 [==============================] - 0s 6ms/step - loss: 0.0110 - binary_accuracy: 0.9947 - val_loss: 0.4214 - val_binary_accuracy: 0.9365\n",
      "Epoch 58/70\n",
      "23/23 [==============================] - 0s 6ms/step - loss: 0.0116 - binary_accuracy: 0.9943 - val_loss: 0.4142 - val_binary_accuracy: 0.9405\n",
      "Epoch 59/70\n",
      "23/23 [==============================] - 0s 6ms/step - loss: 0.0119 - binary_accuracy: 0.9934 - val_loss: 0.4122 - val_binary_accuracy: 0.9365\n",
      "Epoch 60/70\n",
      "23/23 [==============================] - 0s 6ms/step - loss: 0.0115 - binary_accuracy: 0.9947 - val_loss: 0.4135 - val_binary_accuracy: 0.9365\n",
      "Epoch 61/70\n",
      "23/23 [==============================] - 0s 6ms/step - loss: 0.0117 - binary_accuracy: 0.9943 - val_loss: 0.4143 - val_binary_accuracy: 0.9365\n",
      "Epoch 62/70\n",
      "23/23 [==============================] - 0s 8ms/step - loss: 0.0108 - binary_accuracy: 0.9938 - val_loss: 0.4162 - val_binary_accuracy: 0.9365\n",
      "Epoch 63/70\n",
      "23/23 [==============================] - 0s 7ms/step - loss: 0.0115 - binary_accuracy: 0.9938 - val_loss: 0.4176 - val_binary_accuracy: 0.9365\n",
      "Epoch 64/70\n",
      "23/23 [==============================] - 0s 6ms/step - loss: 0.0111 - binary_accuracy: 0.9951 - val_loss: 0.4217 - val_binary_accuracy: 0.9405\n",
      "Epoch 65/70\n",
      "23/23 [==============================] - 0s 6ms/step - loss: 0.0112 - binary_accuracy: 0.9943 - val_loss: 0.4121 - val_binary_accuracy: 0.9365\n",
      "Epoch 66/70\n",
      "23/23 [==============================] - 0s 6ms/step - loss: 0.0113 - binary_accuracy: 0.9951 - val_loss: 0.5658 - val_binary_accuracy: 0.9444\n",
      "Epoch 67/70\n",
      "23/23 [==============================] - 0s 6ms/step - loss: 0.0123 - binary_accuracy: 0.9938 - val_loss: 0.4272 - val_binary_accuracy: 0.9365\n",
      "Epoch 68/70\n",
      "23/23 [==============================] - 0s 6ms/step - loss: 0.0113 - binary_accuracy: 0.9947 - val_loss: 0.4035 - val_binary_accuracy: 0.9325\n",
      "Epoch 69/70\n",
      "23/23 [==============================] - 0s 6ms/step - loss: 0.0115 - binary_accuracy: 0.9943 - val_loss: 0.3950 - val_binary_accuracy: 0.9365\n",
      "Epoch 70/70\n",
      "23/23 [==============================] - 0s 6ms/step - loss: 0.0120 - binary_accuracy: 0.9934 - val_loss: 0.3955 - val_binary_accuracy: 0.9325\n"
     ]
    }
   ],
   "source": [
    "# train the model\n",
    "epochs_hist = model.fit(X_train, y_train, epochs=70, validation_split=0.1, batch_size=100)"
   ]
  },
  {
   "cell_type": "markdown",
   "metadata": {},
   "source": [
    "## Evaluating the Model"
   ]
  },
  {
   "cell_type": "code",
   "execution_count": 24,
   "metadata": {},
   "outputs": [
    {
     "data": {
      "text/plain": [
       "<matplotlib.legend.Legend at 0x291958a5670>"
      ]
     },
     "execution_count": 24,
     "metadata": {},
     "output_type": "execute_result"
    },
    {
     "data": {
      "image/png": "[encoded data removed]",
      "text/plain": [
       "<Figure size 720x432 with 1 Axes>"
      ]
     },
     "metadata": {
      "needs_background": "light"
     },
     "output_type": "display_data"
    }
   ],
   "source": [
    "# Visualize the Model Loss\n",
    "plt.figure(figsize=(10, 6))\n",
    "plt.grid()\n",
    "plt.plot(epochs_hist.history['loss'])\n",
    "plt.plot(epochs_hist.history['val_loss'])\n",
    "plt.title(\"Model Loss progress during training\")\n",
    "plt.xlabel(\"Number of Epochs\")\n",
    "plt.ylabel(\"Training and Validation Loss\")\n",
    "plt.legend(['Training Loss', 'Validation Loss'])"
   ]
  },
  {
   "cell_type": "code",
   "execution_count": 25,
   "metadata": {},
   "outputs": [
    {
     "data": {
      "text/plain": [
       "<matplotlib.legend.Legend at 0x29199e7ebe0>"
      ]
     },
     "execution_count": 25,
     "metadata": {},
     "output_type": "execute_result"
    },
    {
     "data": {
      "image/png": "[encoded data removed]",
      "text/plain": [
       "<Figure size 720x432 with 1 Axes>"
      ]
     },
     "metadata": {
      "needs_background": "light"
     },
     "output_type": "display_data"
    }
   ],
   "source": [
    "# Visualize the Model Accuracy\n",
    "plt.figure(figsize=(10, 6))\n",
    "plt.grid()\n",
    "plt.plot(epochs_hist.history['binary_accuracy'])\n",
    "plt.title(\"Model Accuracy during training\")\n",
    "plt.xlabel(\"Number of Epochs\")\n",
    "plt.ylabel(\"Training Accuracy\")\n",
    "plt.legend(['Training Accuracy'])"
   ]
  },
  {
   "cell_type": "code",
   "execution_count": 26,
   "metadata": {},
   "outputs": [
    {
     "name": "stdout",
     "output_type": "stream",
     "text": [
      "20/20 [==============================] - 0s 2ms/step\n"
     ]
    }
   ],
   "source": [
    "# We will predict the test features\n",
    "predictions = model.predict(X_test)"
   ]
  },
  {
   "cell_type": "code",
   "execution_count": 27,
   "metadata": {},
   "outputs": [
    {
     "name": "stdout",
     "output_type": "stream",
     "text": [
      "Confusion Matrix\n",
      "[[ 31  20]\n",
      " [ 21 558]]\n",
      "\n",
      "\n",
      "Accuracy Score\n",
      "0.9349206349206349\n",
      "\n",
      "\n",
      "Classification Report\n",
      "              precision    recall  f1-score   support\n",
      "\n",
      "           0       0.60      0.61      0.60        51\n",
      "           1       0.97      0.96      0.96       579\n",
      "\n",
      "    accuracy                           0.93       630\n",
      "   macro avg       0.78      0.79      0.78       630\n",
      "weighted avg       0.94      0.93      0.94       630\n",
      "\n"
     ]
    }
   ],
   "source": [
    "# So the target_predictions has probabilities, in order to use it in confusion matrix\n",
    "\n",
    "predictions = (predictions > 0.5)\n",
    "\n",
    "print('Confusion Matrix')\n",
    "print(confusion_matrix(y_test, predictions))\n",
    "print(\"\\n\")\n",
    "print(\"Accuracy Score\")\n",
    "print(accuracy_score(y_test, predictions))\n",
    "print(\"\\n\")\n",
    "print(\"Classification Report\")\n",
    "print(classification_report(y_test, predictions))"
   ]
  },
  {
   "cell_type": "code",
   "execution_count": null,
   "metadata": {},
   "outputs": [],
   "source": []
  }
 ],
 "metadata": {
  "kernelspec": {
   "display_name": "Python 3.9.12 ('tensorflow-gpu')",
   "language": "python",
   "name": "python3"
  },
  "language_info": {
   "codemirror_mode": {
    "name": "ipython",
    "version": 3
   },
   "file_extension": ".py",
   "mimetype": "text/x-python",
   "name": "python",
   "nbconvert_exporter": "python",
   "pygments_lexer": "ipython3",
   "version": "3.9.12"
  },
  "orig_nbformat": 4,
  "vscode": {
   "interpreter": {
    "hash": "e2b6a0854d3e486355aa730ef2c4309aea53da46b71110e983718c32f548066a"
   }
  }
 },
 "nbformat": 4,
 "nbformat_minor": 2
}
