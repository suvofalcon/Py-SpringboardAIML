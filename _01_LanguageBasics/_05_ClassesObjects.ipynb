{
 "cells": [
  {
   "cell_type": "markdown",
   "metadata": {},
   "source": [
    "# Python 3 - Classes and Objects"
   ]
  },
  {
   "cell_type": "code",
   "execution_count": 3,
   "metadata": {},
   "outputs": [],
   "source": [
    "# Lets define a class\n",
    "\n",
    "class MyRouter(object): # This means this class inherits from default class object\n",
    "    \"\"\"\n",
    "    This is a class that describes the characteristics of a Router\n",
    "    \"\"\"\n",
    "    \"\"\"\n",
    "    init method gets called, whenver a class gets initialized\n",
    "    self - has to be the first parameter for every method in this class\n",
    "    self - refers to the current instance of the class\n",
    "    \"\"\"\n",
    "    def __init__(self, routername, model, serialno, iOS):\n",
    "        self.routername = routername\n",
    "        self.model = model\n",
    "        self.serialno = serialno\n",
    "        self.iOS = iOS\n",
    "    \n",
    "    \"\"\"\n",
    "    Print the attributes\n",
    "    \"\"\"\n",
    "    def print_router(self, manuf_date):\n",
    "        print(f\"The Router Name is : {self.routername}\")\n",
    "        print(f\"The Router Model is : {self.model}\")\n",
    "        print(f\"The Router Serial No is : {self.serialno}\")\n",
    "        print(f\"The iOS Version is : {self.iOS}\")\n",
    "        print(f\"The router Model and Date Combined : {self.model + manuf_date}\")"
   ]
  },
  {
   "cell_type": "code",
   "execution_count": 4,
   "metadata": {},
   "outputs": [
    {
     "data": {
      "text/plain": [
       "<__main__.MyRouter at 0x1f65b5b6088>"
      ]
     },
     "execution_count": 4,
     "metadata": {},
     "output_type": "execute_result"
    }
   ],
   "source": [
    "router1 = MyRouter('R1', '2600', '123456', '12.4')\n",
    "router1"
   ]
  },
  {
   "cell_type": "code",
   "execution_count": 7,
   "metadata": {},
   "outputs": [
    {
     "data": {
      "text/plain": [
       "'12.4'"
      ]
     },
     "execution_count": 7,
     "metadata": {},
     "output_type": "execute_result"
    }
   ],
   "source": [
    "# Accessing the attributes of this object\n",
    "router1.model"
   ]
  },
  {
   "cell_type": "code",
   "execution_count": 8,
   "metadata": {},
   "outputs": [
    {
     "data": {
      "text/plain": [
       "'12.4'"
      ]
     },
     "execution_count": 8,
     "metadata": {},
     "output_type": "execute_result"
    }
   ],
   "source": [
    "router1.iOS"
   ]
  },
  {
   "cell_type": "code",
   "execution_count": 9,
   "metadata": {},
   "outputs": [
    {
     "name": "stdout",
     "output_type": "stream",
     "text": [
      "The Router Name is : R1\n",
      "The Router Model is : 2600\n",
      "The Router Serial No is : 123456\n",
      "The iOS Version is : 12.4\n",
      "The router Model and Date Combined : 260020181010\n"
     ]
    }
   ],
   "source": [
    "# Now we will call the method\n",
    "router1.print_router(\"20181010\")"
   ]
  },
  {
   "cell_type": "code",
   "execution_count": 12,
   "metadata": {},
   "outputs": [
    {
     "data": {
      "text/plain": [
       "'123456'"
      ]
     },
     "execution_count": 12,
     "metadata": {},
     "output_type": "execute_result"
    }
   ],
   "source": [
    "# we can also get the attribute in a differnt manner\n",
    "getattr(router1, \"serialno\")"
   ]
  },
  {
   "cell_type": "code",
   "execution_count": 13,
   "metadata": {},
   "outputs": [],
   "source": [
    "# We can set the attribute as well\n",
    "setattr(router1, \"iOS\", \"13.5.1\")"
   ]
  },
  {
   "cell_type": "code",
   "execution_count": 14,
   "metadata": {},
   "outputs": [
    {
     "name": "stdout",
     "output_type": "stream",
     "text": [
      "The Router Name is : R1\n",
      "The Router Model is : 2600\n",
      "The Router Serial No is : 123456\n",
      "The iOS Version is : 13.5.1\n",
      "The router Model and Date Combined : 260020181010\n"
     ]
    }
   ],
   "source": [
    "# Now we check whether the value has beeen set\n",
    "router1.print_router(\"20181010\")"
   ]
  },
  {
   "cell_type": "code",
   "execution_count": 15,
   "metadata": {},
   "outputs": [
    {
     "data": {
      "text/plain": [
       "True"
      ]
     },
     "execution_count": 15,
     "metadata": {},
     "output_type": "execute_result"
    }
   ],
   "source": [
    "# to check whether an object attribute exists\n",
    "hasattr(router1, \"model\")"
   ]
  },
  {
   "cell_type": "code",
   "execution_count": 16,
   "metadata": {},
   "outputs": [],
   "source": [
    "# An attribute can be deleted using \n",
    "# delattr(router1, \"iOS\")"
   ]
  },
  {
   "cell_type": "code",
   "execution_count": 17,
   "metadata": {},
   "outputs": [],
   "source": [
    "# Now we will create another class which will inherit from MyRouter\n",
    "class MyNewRouter(MyRouter):\n",
    "    def __init__(self, routername, model, serialno, iOS, portsno):\n",
    "        MyRouter.__init__(self, routername, model, serialno, iOS)\n",
    "        self.portsno = portsno\n",
    "    \n",
    "    def print_new_router(self, string):\n",
    "        print(string + self.model)"
   ]
  },
  {
   "cell_type": "code",
   "execution_count": 18,
   "metadata": {},
   "outputs": [],
   "source": [
    "new_router1 = MyNewRouter(\"newr1\", \"1800\", \"111111\", \"12.2\", \"10\")"
   ]
  },
  {
   "cell_type": "code",
   "execution_count": 19,
   "metadata": {},
   "outputs": [
    {
     "data": {
      "text/plain": [
       "'10'"
      ]
     },
     "execution_count": 19,
     "metadata": {},
     "output_type": "execute_result"
    }
   ],
   "source": [
    "new_router1.portsno"
   ]
  },
  {
   "cell_type": "code",
   "execution_count": 20,
   "metadata": {},
   "outputs": [
    {
     "data": {
      "text/plain": [
       "'1800'"
      ]
     },
     "execution_count": 20,
     "metadata": {},
     "output_type": "execute_result"
    }
   ],
   "source": [
    "new_router1.model"
   ]
  },
  {
   "cell_type": "code",
   "execution_count": 21,
   "metadata": {},
   "outputs": [
    {
     "name": "stdout",
     "output_type": "stream",
     "text": [
      "The Router Name is : newr1\n",
      "The Router Model is : 1800\n",
      "The Router Serial No is : 111111\n",
      "The iOS Version is : 12.2\n",
      "The router Model and Date Combined : 180010052005\n"
     ]
    }
   ],
   "source": [
    "# We will use the child object to call the function of the parent object, since child object inherits from the parent\n",
    "new_router1.print_router(\"10052005\")"
   ]
  },
  {
   "cell_type": "code",
   "execution_count": 22,
   "metadata": {},
   "outputs": [
    {
     "name": "stdout",
     "output_type": "stream",
     "text": [
      "100520051800\n"
     ]
    }
   ],
   "source": [
    "# Now call the current object method\n",
    "new_router1.print_new_router(\"10052005\")"
   ]
  },
  {
   "cell_type": "code",
   "execution_count": 23,
   "metadata": {},
   "outputs": [
    {
     "data": {
      "text/plain": [
       "True"
      ]
     },
     "execution_count": 23,
     "metadata": {},
     "output_type": "execute_result"
    }
   ],
   "source": [
    "# to check whether the current class is the child of another class or not\n",
    "issubclass(MyNewRouter, MyRouter)"
   ]
  },
  {
   "cell_type": "code",
   "execution_count": null,
   "metadata": {},
   "outputs": [],
   "source": []
  }
 ],
 "metadata": {
  "kernelspec": {
   "display_name": "Python 3",
   "language": "python",
   "name": "python3"
  },
  "language_info": {
   "codemirror_mode": {
    "name": "ipython",
    "version": 3
   },
   "file_extension": ".py",
   "mimetype": "text/x-python",
   "name": "python",
   "nbconvert_exporter": "python",
   "pygments_lexer": "ipython3",
   "version": "3.7.7"
  }
 },
 "nbformat": 4,
 "nbformat_minor": 4
}
