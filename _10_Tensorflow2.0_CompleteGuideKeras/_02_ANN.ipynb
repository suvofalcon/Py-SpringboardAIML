{
 "cells": [
  {
   "cell_type": "markdown",
   "source": [
    "# Building an Artificial Neural Network using Tensorflow 2.0\n",
    "\n",
    "We will use the fashion mnist dataset in tensorflow keras"
   ],
   "metadata": {
    "collapsed": false,
    "pycharm": {
     "name": "#%% md\n"
    }
   }
  },
  {
   "cell_type": "markdown",
   "source": [
    "## Library Imports"
   ],
   "metadata": {
    "collapsed": false,
    "pycharm": {
     "name": "#%% md\n"
    }
   }
  },
  {
   "cell_type": "code",
   "execution_count": 1,
   "outputs": [],
   "source": [
    "import numpy as np\n",
    "import matplotlib.pyplot as plt\n",
    "\n",
    "import tensorflow as tf\n",
    "from tensorflow.keras.datasets import fashion_mnist\n",
    "\n",
    "from sklearn.metrics import confusion_matrix, classification_report"
   ],
   "metadata": {
    "collapsed": false,
    "pycharm": {
     "name": "#%%\n"
    }
   }
  },
  {
   "cell_type": "markdown",
   "source": [
    "## Load the Dataset"
   ],
   "metadata": {
    "collapsed": false,
    "pycharm": {
     "name": "#%% md\n"
    }
   }
  },
  {
   "cell_type": "code",
   "execution_count": 2,
   "outputs": [],
   "source": [
    "(features_train, target_train), (features_test, target_test) = fashion_mnist.load_data()"
   ],
   "metadata": {
    "collapsed": false,
    "pycharm": {
     "name": "#%%\n"
    }
   }
  },
  {
   "cell_type": "code",
   "execution_count": 3,
   "outputs": [
    {
     "name": "stdout",
     "output_type": "stream",
     "text": [
      "Training data shape - (60000, 28, 28)\n",
      "Test data shape - (10000, 28, 28)\n",
      "Target train data shape - (60000,)\n",
      "Target test data shape - (10000,)\n"
     ]
    }
   ],
   "source": [
    "# We will check the shapes\n",
    "print(f\"Training data shape - {features_train.shape}\")\n",
    "print(f\"Test data shape - {features_test.shape}\")\n",
    "print(f\"Target train data shape - {target_train.shape}\")\n",
    "print(f\"Target test data shape - {target_test.shape}\")"
   ],
   "metadata": {
    "collapsed": false,
    "pycharm": {
     "name": "#%%\n"
    }
   }
  },
  {
   "cell_type": "code",
   "execution_count": 4,
   "outputs": [
    {
     "data": {
      "text/plain": "numpy.ndarray"
     },
     "execution_count": 4,
     "metadata": {},
     "output_type": "execute_result"
    }
   ],
   "source": [
    "# Each of this is a numpy array\n",
    "type(features_train)"
   ],
   "metadata": {
    "collapsed": false,
    "pycharm": {
     "name": "#%%\n"
    }
   }
  },
  {
   "cell_type": "code",
   "execution_count": 5,
   "outputs": [
    {
     "data": {
      "text/plain": "array([[  0,   0,   0,   0,   0,   0,   0,   0,   0,   0,   0,   0,   0,\n          0,   0,   0,   0,   0,   0,   0,   0,   0,   0,   0,   0,   0,\n          0,   0],\n       [  0,   0,   0,   0,   0,   0,   0,   0,   0,   0,   0,   0,   0,\n          0,   0,   0,   0,   0,   0,   0,   0,   0,   0,   0,   0,   0,\n          0,   0],\n       [  0,   0,   0,   0,   0,   0,   0,   0,   0,   0,   0,   0,   0,\n          0,   0,   0,   0,   0,   0,   0,   0,   0,   0,   0,   0,   0,\n          0,   0],\n       [  0,   0,   0,   0,   0,   0,   0,   0,   0,   0,   0,   0,   1,\n          0,   0,  13,  73,   0,   0,   1,   4,   0,   0,   0,   0,   1,\n          1,   0],\n       [  0,   0,   0,   0,   0,   0,   0,   0,   0,   0,   0,   0,   3,\n          0,  36, 136, 127,  62,  54,   0,   0,   0,   1,   3,   4,   0,\n          0,   3],\n       [  0,   0,   0,   0,   0,   0,   0,   0,   0,   0,   0,   0,   6,\n          0, 102, 204, 176, 134, 144, 123,  23,   0,   0,   0,   0,  12,\n         10,   0],\n       [  0,   0,   0,   0,   0,   0,   0,   0,   0,   0,   0,   0,   0,\n          0, 155, 236, 207, 178, 107, 156, 161, 109,  64,  23,  77, 130,\n         72,  15],\n       [  0,   0,   0,   0,   0,   0,   0,   0,   0,   0,   0,   1,   0,\n         69, 207, 223, 218, 216, 216, 163, 127, 121, 122, 146, 141,  88,\n        172,  66],\n       [  0,   0,   0,   0,   0,   0,   0,   0,   0,   1,   1,   1,   0,\n        200, 232, 232, 233, 229, 223, 223, 215, 213, 164, 127, 123, 196,\n        229,   0],\n       [  0,   0,   0,   0,   0,   0,   0,   0,   0,   0,   0,   0,   0,\n        183, 225, 216, 223, 228, 235, 227, 224, 222, 224, 221, 223, 245,\n        173,   0],\n       [  0,   0,   0,   0,   0,   0,   0,   0,   0,   0,   0,   0,   0,\n        193, 228, 218, 213, 198, 180, 212, 210, 211, 213, 223, 220, 243,\n        202,   0],\n       [  0,   0,   0,   0,   0,   0,   0,   0,   0,   1,   3,   0,  12,\n        219, 220, 212, 218, 192, 169, 227, 208, 218, 224, 212, 226, 197,\n        209,  52],\n       [  0,   0,   0,   0,   0,   0,   0,   0,   0,   0,   6,   0,  99,\n        244, 222, 220, 218, 203, 198, 221, 215, 213, 222, 220, 245, 119,\n        167,  56],\n       [  0,   0,   0,   0,   0,   0,   0,   0,   0,   4,   0,   0,  55,\n        236, 228, 230, 228, 240, 232, 213, 218, 223, 234, 217, 217, 209,\n         92,   0],\n       [  0,   0,   1,   4,   6,   7,   2,   0,   0,   0,   0,   0, 237,\n        226, 217, 223, 222, 219, 222, 221, 216, 223, 229, 215, 218, 255,\n         77,   0],\n       [  0,   3,   0,   0,   0,   0,   0,   0,   0,  62, 145, 204, 228,\n        207, 213, 221, 218, 208, 211, 218, 224, 223, 219, 215, 224, 244,\n        159,   0],\n       [  0,   0,   0,   0,  18,  44,  82, 107, 189, 228, 220, 222, 217,\n        226, 200, 205, 211, 230, 224, 234, 176, 188, 250, 248, 233, 238,\n        215,   0],\n       [  0,  57, 187, 208, 224, 221, 224, 208, 204, 214, 208, 209, 200,\n        159, 245, 193, 206, 223, 255, 255, 221, 234, 221, 211, 220, 232,\n        246,   0],\n       [  3, 202, 228, 224, 221, 211, 211, 214, 205, 205, 205, 220, 240,\n         80, 150, 255, 229, 221, 188, 154, 191, 210, 204, 209, 222, 228,\n        225,   0],\n       [ 98, 233, 198, 210, 222, 229, 229, 234, 249, 220, 194, 215, 217,\n        241,  65,  73, 106, 117, 168, 219, 221, 215, 217, 223, 223, 224,\n        229,  29],\n       [ 75, 204, 212, 204, 193, 205, 211, 225, 216, 185, 197, 206, 198,\n        213, 240, 195, 227, 245, 239, 223, 218, 212, 209, 222, 220, 221,\n        230,  67],\n       [ 48, 203, 183, 194, 213, 197, 185, 190, 194, 192, 202, 214, 219,\n        221, 220, 236, 225, 216, 199, 206, 186, 181, 177, 172, 181, 205,\n        206, 115],\n       [  0, 122, 219, 193, 179, 171, 183, 196, 204, 210, 213, 207, 211,\n        210, 200, 196, 194, 191, 195, 191, 198, 192, 176, 156, 167, 177,\n        210,  92],\n       [  0,   0,  74, 189, 212, 191, 175, 172, 175, 181, 185, 188, 189,\n        188, 193, 198, 204, 209, 210, 210, 211, 188, 188, 194, 192, 216,\n        170,   0],\n       [  2,   0,   0,   0,  66, 200, 222, 237, 239, 242, 246, 243, 244,\n        221, 220, 193, 191, 179, 182, 182, 181, 176, 166, 168,  99,  58,\n          0,   0],\n       [  0,   0,   0,   0,   0,   0,   0,  40,  61,  44,  72,  41,  35,\n          0,   0,   0,   0,   0,   0,   0,   0,   0,   0,   0,   0,   0,\n          0,   0],\n       [  0,   0,   0,   0,   0,   0,   0,   0,   0,   0,   0,   0,   0,\n          0,   0,   0,   0,   0,   0,   0,   0,   0,   0,   0,   0,   0,\n          0,   0],\n       [  0,   0,   0,   0,   0,   0,   0,   0,   0,   0,   0,   0,   0,\n          0,   0,   0,   0,   0,   0,   0,   0,   0,   0,   0,   0,   0,\n          0,   0]], dtype=uint8)"
     },
     "execution_count": 5,
     "metadata": {},
     "output_type": "execute_result"
    }
   ],
   "source": [
    "# Check the first element\n",
    "features_train[0]  # Each image is a 28 x 28 pixels image"
   ],
   "metadata": {
    "collapsed": false,
    "pycharm": {
     "name": "#%%\n"
    }
   }
  },
  {
   "cell_type": "markdown",
   "source": [
    "### Do some visualizations"
   ],
   "metadata": {
    "collapsed": false,
    "pycharm": {
     "name": "#%% md\n"
    }
   }
  },
  {
   "cell_type": "markdown",
   "source": [
    "To verify that the data is in the correct format and that you’re ready to build and train the network, let’s display the first 25 images from the training set and display the class name below each image."
   ],
   "metadata": {
    "collapsed": false,
    "pycharm": {
     "name": "#%% md\n"
    }
   }
  },
  {
   "cell_type": "code",
   "execution_count": 6,
   "outputs": [
    {
     "data": {
      "text/plain": "<Figure size 576x360 with 2 Axes>",
      "image/png": "[encoded data removed]"
     },
     "metadata": {
      "needs_background": "light"
     },
     "output_type": "display_data"
    }
   ],
   "source": [
    "# We will try to visualize the image\n",
    "plt.figure(figsize=(8, 5))\n",
    "plt.imshow(features_train[0])\n",
    "plt.colorbar()\n",
    "plt.show()"
   ],
   "metadata": {
    "collapsed": false,
    "pycharm": {
     "name": "#%%\n"
    }
   }
  },
  {
   "cell_type": "code",
   "execution_count": 7,
   "outputs": [
    {
     "data": {
      "text/plain": "<Figure size 720x720 with 25 Axes>",
      "image/png": "[encoded data removed]"
     },
     "metadata": {},
     "output_type": "display_data"
    }
   ],
   "source": [
    "class_names = ['T-shirt/top', 'Trouser', 'Pullover', 'Dress', 'Coat',\n",
    "               'Sandal', 'Shirt', 'Sneaker', 'Bag', 'Ankle boot']\n",
    "\n",
    "plt.figure(figsize=(10, 10))\n",
    "for index in range(25):\n",
    "    plt.subplot(5, 5, index+1)\n",
    "    plt.xticks([])\n",
    "    plt.yticks([])\n",
    "    plt.imshow(features_train[index], cmap=plt.cm.binary)\n",
    "    plt.xlabel(class_names[target_train[index]])\n",
    "\n",
    "plt.show()"
   ],
   "metadata": {
    "collapsed": false,
    "pycharm": {
     "name": "#%%\n"
    }
   }
  },
  {
   "cell_type": "markdown",
   "source": [
    "## Normalizing the images"
   ],
   "metadata": {
    "collapsed": false,
    "pycharm": {
     "name": "#%% md\n"
    }
   }
  },
  {
   "cell_type": "code",
   "execution_count": 8,
   "outputs": [],
   "source": [
    "# We want all our pixel values to be between 0 and 1 (normalized) in order for the neural net to train faster\n",
    "features_train = features_train/255.0\n",
    "features_test = features_test/255.0"
   ],
   "metadata": {
    "collapsed": false,
    "pycharm": {
     "name": "#%%\n"
    }
   }
  },
  {
   "cell_type": "markdown",
   "source": [
    "## Reshaping the dataset"
   ],
   "metadata": {
    "collapsed": false,
    "pycharm": {
     "name": "#%% md\n"
    }
   }
  },
  {
   "cell_type": "code",
   "execution_count": 9,
   "outputs": [
    {
     "data": {
      "text/plain": "(60000, 28, 28)"
     },
     "execution_count": 9,
     "metadata": {},
     "output_type": "execute_result"
    }
   ],
   "source": [
    "# remember the training set is a 3-D tensor, where the first dimension gives the index of the images and the other\n",
    "# two dimensions are the dimensions of the arrays which contain the pixels of the images (length and width)\n",
    "features_train.shape"
   ],
   "metadata": {
    "collapsed": false,
    "pycharm": {
     "name": "#%%\n"
    }
   }
  },
  {
   "cell_type": "markdown",
   "source": [
    "And so what we want to do now is flatten basically every image meaning we’re going to transform each of the dimensions of the image for all the images of the array by flattening all the pixels into a single one vector and we will do that through reshape"
   ],
   "metadata": {
    "collapsed": false,
    "pycharm": {
     "name": "#%% md\n"
    }
   }
  },
  {
   "cell_type": "code",
   "execution_count": 10,
   "outputs": [
    {
     "data": {
      "text/plain": "(60000, 784)"
     },
     "execution_count": 10,
     "metadata": {},
     "output_type": "execute_result"
    }
   ],
   "source": [
    "# -1 stands for all elements (all elements of the first dimensions will be taken) - all images\n",
    "features_train = features_train.reshape(-1, features_train.shape[1]*features_train.shape[2])\n",
    "features_train.shape"
   ],
   "metadata": {
    "collapsed": false,
    "pycharm": {
     "name": "#%%\n"
    }
   }
  },
  {
   "cell_type": "code",
   "execution_count": 11,
   "outputs": [
    {
     "data": {
      "text/plain": "(10000, 784)"
     },
     "execution_count": 11,
     "metadata": {},
     "output_type": "execute_result"
    }
   ],
   "source": [
    "# We will reshape the test features in the similar manner\n",
    "features_test = features_test.reshape(-1, features_test.shape[1]*features_test.shape[2])\n",
    "features_test.shape"
   ],
   "metadata": {
    "collapsed": false,
    "pycharm": {
     "name": "#%%\n"
    }
   }
  },
  {
   "cell_type": "code",
   "execution_count": 12,
   "outputs": [
    {
     "data": {
      "text/plain": "array([0.        , 0.        , 0.        , 0.        , 0.        ,\n       0.        , 0.        , 0.        , 0.        , 0.        ,\n       0.        , 0.        , 0.        , 0.        , 0.        ,\n       0.        , 0.        , 0.        , 0.        , 0.        ,\n       0.        , 0.        , 0.        , 0.        , 0.        ,\n       0.        , 0.        , 0.        , 0.        , 0.        ,\n       0.        , 0.        , 0.        , 0.        , 0.        ,\n       0.        , 0.        , 0.        , 0.        , 0.        ,\n       0.        , 0.        , 0.        , 0.        , 0.        ,\n       0.        , 0.        , 0.        , 0.        , 0.        ,\n       0.        , 0.        , 0.        , 0.        , 0.        ,\n       0.        , 0.        , 0.        , 0.        , 0.        ,\n       0.        , 0.        , 0.        , 0.        , 0.        ,\n       0.        , 0.        , 0.        , 0.        , 0.        ,\n       0.        , 0.        , 0.        , 0.        , 0.        ,\n       0.        , 0.        , 0.        , 0.        , 0.        ,\n       0.        , 0.        , 0.        , 0.        , 0.        ,\n       0.        , 0.        , 0.        , 0.        , 0.        ,\n       0.        , 0.        , 0.        , 0.        , 0.        ,\n       0.        , 0.00392157, 0.        , 0.        , 0.05098039,\n       0.28627451, 0.        , 0.        , 0.00392157, 0.01568627,\n       0.        , 0.        , 0.        , 0.        , 0.00392157,\n       0.00392157, 0.        , 0.        , 0.        , 0.        ,\n       0.        , 0.        , 0.        , 0.        , 0.        ,\n       0.        , 0.        , 0.        , 0.        , 0.01176471,\n       0.        , 0.14117647, 0.53333333, 0.49803922, 0.24313725,\n       0.21176471, 0.        , 0.        , 0.        , 0.00392157,\n       0.01176471, 0.01568627, 0.        , 0.        , 0.01176471,\n       0.        , 0.        , 0.        , 0.        , 0.        ,\n       0.        , 0.        , 0.        , 0.        , 0.        ,\n       0.        , 0.        , 0.02352941, 0.        , 0.4       ,\n       0.8       , 0.69019608, 0.5254902 , 0.56470588, 0.48235294,\n       0.09019608, 0.        , 0.        , 0.        , 0.        ,\n       0.04705882, 0.03921569, 0.        , 0.        , 0.        ,\n       0.        , 0.        , 0.        , 0.        , 0.        ,\n       0.        , 0.        , 0.        , 0.        , 0.        ,\n       0.        , 0.        , 0.60784314, 0.9254902 , 0.81176471,\n       0.69803922, 0.41960784, 0.61176471, 0.63137255, 0.42745098,\n       0.25098039, 0.09019608, 0.30196078, 0.50980392, 0.28235294,\n       0.05882353, 0.        , 0.        , 0.        , 0.        ,\n       0.        , 0.        , 0.        , 0.        , 0.        ,\n       0.        , 0.        , 0.00392157, 0.        , 0.27058824,\n       0.81176471, 0.8745098 , 0.85490196, 0.84705882, 0.84705882,\n       0.63921569, 0.49803922, 0.4745098 , 0.47843137, 0.57254902,\n       0.55294118, 0.34509804, 0.6745098 , 0.25882353, 0.        ,\n       0.        , 0.        , 0.        , 0.        , 0.        ,\n       0.        , 0.        , 0.        , 0.00392157, 0.00392157,\n       0.00392157, 0.        , 0.78431373, 0.90980392, 0.90980392,\n       0.91372549, 0.89803922, 0.8745098 , 0.8745098 , 0.84313725,\n       0.83529412, 0.64313725, 0.49803922, 0.48235294, 0.76862745,\n       0.89803922, 0.        , 0.        , 0.        , 0.        ,\n       0.        , 0.        , 0.        , 0.        , 0.        ,\n       0.        , 0.        , 0.        , 0.        , 0.        ,\n       0.71764706, 0.88235294, 0.84705882, 0.8745098 , 0.89411765,\n       0.92156863, 0.89019608, 0.87843137, 0.87058824, 0.87843137,\n       0.86666667, 0.8745098 , 0.96078431, 0.67843137, 0.        ,\n       0.        , 0.        , 0.        , 0.        , 0.        ,\n       0.        , 0.        , 0.        , 0.        , 0.        ,\n       0.        , 0.        , 0.        , 0.75686275, 0.89411765,\n       0.85490196, 0.83529412, 0.77647059, 0.70588235, 0.83137255,\n       0.82352941, 0.82745098, 0.83529412, 0.8745098 , 0.8627451 ,\n       0.95294118, 0.79215686, 0.        , 0.        , 0.        ,\n       0.        , 0.        , 0.        , 0.        , 0.        ,\n       0.        , 0.        , 0.00392157, 0.01176471, 0.        ,\n       0.04705882, 0.85882353, 0.8627451 , 0.83137255, 0.85490196,\n       0.75294118, 0.6627451 , 0.89019608, 0.81568627, 0.85490196,\n       0.87843137, 0.83137255, 0.88627451, 0.77254902, 0.81960784,\n       0.20392157, 0.        , 0.        , 0.        , 0.        ,\n       0.        , 0.        , 0.        , 0.        , 0.        ,\n       0.        , 0.02352941, 0.        , 0.38823529, 0.95686275,\n       0.87058824, 0.8627451 , 0.85490196, 0.79607843, 0.77647059,\n       0.86666667, 0.84313725, 0.83529412, 0.87058824, 0.8627451 ,\n       0.96078431, 0.46666667, 0.65490196, 0.21960784, 0.        ,\n       0.        , 0.        , 0.        , 0.        , 0.        ,\n       0.        , 0.        , 0.        , 0.01568627, 0.        ,\n       0.        , 0.21568627, 0.9254902 , 0.89411765, 0.90196078,\n       0.89411765, 0.94117647, 0.90980392, 0.83529412, 0.85490196,\n       0.8745098 , 0.91764706, 0.85098039, 0.85098039, 0.81960784,\n       0.36078431, 0.        , 0.        , 0.        , 0.00392157,\n       0.01568627, 0.02352941, 0.02745098, 0.00784314, 0.        ,\n       0.        , 0.        , 0.        , 0.        , 0.92941176,\n       0.88627451, 0.85098039, 0.8745098 , 0.87058824, 0.85882353,\n       0.87058824, 0.86666667, 0.84705882, 0.8745098 , 0.89803922,\n       0.84313725, 0.85490196, 1.        , 0.30196078, 0.        ,\n       0.        , 0.01176471, 0.        , 0.        , 0.        ,\n       0.        , 0.        , 0.        , 0.        , 0.24313725,\n       0.56862745, 0.8       , 0.89411765, 0.81176471, 0.83529412,\n       0.86666667, 0.85490196, 0.81568627, 0.82745098, 0.85490196,\n       0.87843137, 0.8745098 , 0.85882353, 0.84313725, 0.87843137,\n       0.95686275, 0.62352941, 0.        , 0.        , 0.        ,\n       0.        , 0.        , 0.07058824, 0.17254902, 0.32156863,\n       0.41960784, 0.74117647, 0.89411765, 0.8627451 , 0.87058824,\n       0.85098039, 0.88627451, 0.78431373, 0.80392157, 0.82745098,\n       0.90196078, 0.87843137, 0.91764706, 0.69019608, 0.7372549 ,\n       0.98039216, 0.97254902, 0.91372549, 0.93333333, 0.84313725,\n       0.        , 0.        , 0.22352941, 0.73333333, 0.81568627,\n       0.87843137, 0.86666667, 0.87843137, 0.81568627, 0.8       ,\n       0.83921569, 0.81568627, 0.81960784, 0.78431373, 0.62352941,\n       0.96078431, 0.75686275, 0.80784314, 0.8745098 , 1.        ,\n       1.        , 0.86666667, 0.91764706, 0.86666667, 0.82745098,\n       0.8627451 , 0.90980392, 0.96470588, 0.        , 0.01176471,\n       0.79215686, 0.89411765, 0.87843137, 0.86666667, 0.82745098,\n       0.82745098, 0.83921569, 0.80392157, 0.80392157, 0.80392157,\n       0.8627451 , 0.94117647, 0.31372549, 0.58823529, 1.        ,\n       0.89803922, 0.86666667, 0.7372549 , 0.60392157, 0.74901961,\n       0.82352941, 0.8       , 0.81960784, 0.87058824, 0.89411765,\n       0.88235294, 0.        , 0.38431373, 0.91372549, 0.77647059,\n       0.82352941, 0.87058824, 0.89803922, 0.89803922, 0.91764706,\n       0.97647059, 0.8627451 , 0.76078431, 0.84313725, 0.85098039,\n       0.94509804, 0.25490196, 0.28627451, 0.41568627, 0.45882353,\n       0.65882353, 0.85882353, 0.86666667, 0.84313725, 0.85098039,\n       0.8745098 , 0.8745098 , 0.87843137, 0.89803922, 0.11372549,\n       0.29411765, 0.8       , 0.83137255, 0.8       , 0.75686275,\n       0.80392157, 0.82745098, 0.88235294, 0.84705882, 0.7254902 ,\n       0.77254902, 0.80784314, 0.77647059, 0.83529412, 0.94117647,\n       0.76470588, 0.89019608, 0.96078431, 0.9372549 , 0.8745098 ,\n       0.85490196, 0.83137255, 0.81960784, 0.87058824, 0.8627451 ,\n       0.86666667, 0.90196078, 0.2627451 , 0.18823529, 0.79607843,\n       0.71764706, 0.76078431, 0.83529412, 0.77254902, 0.7254902 ,\n       0.74509804, 0.76078431, 0.75294118, 0.79215686, 0.83921569,\n       0.85882353, 0.86666667, 0.8627451 , 0.9254902 , 0.88235294,\n       0.84705882, 0.78039216, 0.80784314, 0.72941176, 0.70980392,\n       0.69411765, 0.6745098 , 0.70980392, 0.80392157, 0.80784314,\n       0.45098039, 0.        , 0.47843137, 0.85882353, 0.75686275,\n       0.70196078, 0.67058824, 0.71764706, 0.76862745, 0.8       ,\n       0.82352941, 0.83529412, 0.81176471, 0.82745098, 0.82352941,\n       0.78431373, 0.76862745, 0.76078431, 0.74901961, 0.76470588,\n       0.74901961, 0.77647059, 0.75294118, 0.69019608, 0.61176471,\n       0.65490196, 0.69411765, 0.82352941, 0.36078431, 0.        ,\n       0.        , 0.29019608, 0.74117647, 0.83137255, 0.74901961,\n       0.68627451, 0.6745098 , 0.68627451, 0.70980392, 0.7254902 ,\n       0.7372549 , 0.74117647, 0.7372549 , 0.75686275, 0.77647059,\n       0.8       , 0.81960784, 0.82352941, 0.82352941, 0.82745098,\n       0.7372549 , 0.7372549 , 0.76078431, 0.75294118, 0.84705882,\n       0.66666667, 0.        , 0.00784314, 0.        , 0.        ,\n       0.        , 0.25882353, 0.78431373, 0.87058824, 0.92941176,\n       0.9372549 , 0.94901961, 0.96470588, 0.95294118, 0.95686275,\n       0.86666667, 0.8627451 , 0.75686275, 0.74901961, 0.70196078,\n       0.71372549, 0.71372549, 0.70980392, 0.69019608, 0.65098039,\n       0.65882353, 0.38823529, 0.22745098, 0.        , 0.        ,\n       0.        , 0.        , 0.        , 0.        , 0.        ,\n       0.        , 0.        , 0.15686275, 0.23921569, 0.17254902,\n       0.28235294, 0.16078431, 0.1372549 , 0.        , 0.        ,\n       0.        , 0.        , 0.        , 0.        , 0.        ,\n       0.        , 0.        , 0.        , 0.        , 0.        ,\n       0.        , 0.        , 0.        , 0.        , 0.        ,\n       0.        , 0.        , 0.        , 0.        , 0.        ,\n       0.        , 0.        , 0.        , 0.        , 0.        ,\n       0.        , 0.        , 0.        , 0.        , 0.        ,\n       0.        , 0.        , 0.        , 0.        , 0.        ,\n       0.        , 0.        , 0.        , 0.        , 0.        ,\n       0.        , 0.        , 0.        , 0.        , 0.        ,\n       0.        , 0.        , 0.        , 0.        , 0.        ,\n       0.        , 0.        , 0.        , 0.        , 0.        ,\n       0.        , 0.        , 0.        , 0.        , 0.        ,\n       0.        , 0.        , 0.        , 0.        , 0.        ,\n       0.        , 0.        , 0.        , 0.        ])"
     },
     "execution_count": 12,
     "metadata": {},
     "output_type": "execute_result"
    }
   ],
   "source": [
    "# We will check the first element of the flatted / reshaped training set\n",
    "features_train[0]"
   ],
   "metadata": {
    "collapsed": false,
    "pycharm": {
     "name": "#%%\n"
    }
   }
  },
  {
   "cell_type": "markdown",
   "source": [
    "## Building the Artificial Neural Network"
   ],
   "metadata": {
    "collapsed": false,
    "pycharm": {
     "name": "#%% md\n"
    }
   }
  },
  {
   "cell_type": "markdown",
   "source": [
    "### Defining the model"
   ],
   "metadata": {
    "collapsed": false,
    "pycharm": {
     "name": "#%% md\n"
    }
   }
  },
  {
   "cell_type": "code",
   "execution_count": 13,
   "outputs": [
    {
     "name": "stderr",
     "output_type": "stream",
     "text": [
      "2022-07-15 19:34:13.648454: I tensorflow/core/platform/cpu_feature_guard.cc:142] This TensorFlow binary is optimized with oneAPI Deep Neural Network Library (oneDNN) to use the following CPU instructions in performance-critical operations:  SSE4.1 SSE4.2 AVX AVX2 FMA\n",
      "To enable them in other operations, rebuild TensorFlow with the appropriate compiler flags.\n"
     ]
    }
   ],
   "source": [
    "# The model would be completely sequential - series of neurons connected\n",
    "model = tf.keras.models.Sequential()"
   ],
   "metadata": {
    "collapsed": false,
    "pycharm": {
     "name": "#%%\n"
    }
   }
  },
  {
   "cell_type": "markdown",
   "source": [
    "**Adding the first fully connected hidden layer**\n",
    "Hidden Layer hyper-parameters:\n",
    "number of units/neuron - 128\n",
    "activation function - ReLu\n",
    "input_shape - (784, )"
   ],
   "metadata": {
    "collapsed": false,
    "pycharm": {
     "name": "#%% md\n"
    }
   }
  },
  {
   "cell_type": "code",
   "execution_count": 14,
   "outputs": [],
   "source": [
    "# Some Global Model Constants\n",
    "\n",
    "HIDDEN_LAYER_UNITS = 128\n",
    "OUTPUT_LAYER_UNITS = 10\n",
    "HIDDEN_LAYER_ACTIVATION_FUNCTION = tf.nn.relu\n",
    "OUTPUT_LAYER_ACTIVATION_FUNCTION = tf.nn.softmax\n",
    "INPUT_SHAPE = (784, )\n",
    "DROPOUT_RATE = 0.2\n",
    "OPTIMIZER_FUNCTION = tf.keras.optimizers.Adam()\n",
    "LOSS_FUNCTION = 'sparse_categorical_crossentropy'\n",
    "ACCURACY_METRICS = ['accuracy']"
   ],
   "metadata": {
    "collapsed": false,
    "pycharm": {
     "name": "#%%\n"
    }
   }
  },
  {
   "cell_type": "code",
   "execution_count": 15,
   "outputs": [],
   "source": [
    "model.add(tf.keras.layers.Dense(units=HIDDEN_LAYER_UNITS, activation=HIDDEN_LAYER_ACTIVATION_FUNCTION, input_shape=INPUT_SHAPE))"
   ],
   "metadata": {
    "collapsed": false,
    "pycharm": {
     "name": "#%%\n"
    }
   }
  },
  {
   "cell_type": "markdown",
   "source": [
    "#### Adding a Dropout Layer\n",
    "Dropout is a Regularization technique where we randomly set neurons in a layer to zero. In this way, while training those neurons won't be updated. Because some percentage of neurons won't be updated the whole training process is long and we have less chance for overfitting."
   ],
   "metadata": {
    "collapsed": false,
    "pycharm": {
     "name": "#%% md\n"
    }
   }
  },
  {
   "cell_type": "code",
   "execution_count": 16,
   "outputs": [],
   "source": [
    "model.add(tf.keras.layers.Dropout(DROPOUT_RATE))"
   ],
   "metadata": {
    "collapsed": false,
    "pycharm": {
     "name": "#%%\n"
    }
   }
  },
  {
   "cell_type": "markdown",
   "source": [
    "### Adding the second layer / Output Layer\n",
    "\n",
    "- units - number of classes (10 in the Fasion MNIST dataset)\n",
    "- activation - Sparse softmax (categorical) crossentropy <br>\n",
    "We’re actually using the soft Max activation function in order to get probabilities for each of the class."
   ],
   "metadata": {
    "collapsed": false,
    "pycharm": {
     "name": "#%% md\n"
    }
   }
  },
  {
   "cell_type": "code",
   "execution_count": 17,
   "outputs": [],
   "source": [
    "model.add(tf.keras.layers.Dense(units=OUTPUT_LAYER_UNITS, activation=OUTPUT_LAYER_ACTIVATION_FUNCTION))"
   ],
   "metadata": {
    "collapsed": false,
    "pycharm": {
     "name": "#%%\n"
    }
   }
  },
  {
   "cell_type": "markdown",
   "source": [
    "### Compiling the Model\n",
    "compiling the model means we need to connect it to an optimizer and chose a loss function.\n",
    "optimiser will update the weights during stochastic gradient descent when back propagating and minimise the loss function"
   ],
   "metadata": {
    "collapsed": false,
    "pycharm": {
     "name": "#%% md\n"
    }
   }
  },
  {
   "cell_type": "code",
   "execution_count": 18,
   "outputs": [],
   "source": [
    "model.compile(optimizer=OPTIMIZER_FUNCTION, loss=LOSS_FUNCTION, metrics=ACCURACY_METRICS)"
   ],
   "metadata": {
    "collapsed": false,
    "pycharm": {
     "name": "#%%\n"
    }
   }
  },
  {
   "cell_type": "code",
   "execution_count": 19,
   "outputs": [
    {
     "name": "stdout",
     "output_type": "stream",
     "text": [
      "Model: \"sequential\"\n",
      "_________________________________________________________________\n",
      "Layer (type)                 Output Shape              Param #   \n",
      "=================================================================\n",
      "dense (Dense)                (None, 128)               100480    \n",
      "_________________________________________________________________\n",
      "dropout (Dropout)            (None, 128)               0         \n",
      "_________________________________________________________________\n",
      "dense_1 (Dense)              (None, 10)                1290      \n",
      "=================================================================\n",
      "Total params: 101,770\n",
      "Trainable params: 101,770\n",
      "Non-trainable params: 0\n",
      "_________________________________________________________________\n"
     ]
    }
   ],
   "source": [
    "# Check the model now\n",
    "model.summary()"
   ],
   "metadata": {
    "collapsed": false,
    "pycharm": {
     "name": "#%%\n"
    }
   }
  },
  {
   "cell_type": "markdown",
   "source": [
    "So all parameters we have this all number of parameters that's interesting and that corresponds to all the weights inside your neural network. Then trainable parameters you know meaning the parameters you can update through the training. In other words the weights are the same because indeed in our new network we don't have any hyper parameter you know hyper parameter is something that is not obtained through the training but which you can tune then by experimenting several trainings of your neural network. But here we don't have any anyway and there we go yes non trainable parameters these are the hyper parameters zero."
   ],
   "metadata": {
    "collapsed": false,
    "pycharm": {
     "name": "#%% md\n"
    }
   }
  },
  {
   "cell_type": "markdown",
   "source": [
    "## Introducing Callbacks\n",
    "\n",
    "Training will stop, when specific threshold is reached"
   ],
   "metadata": {
    "collapsed": false,
    "pycharm": {
     "name": "#%% md\n"
    }
   }
  },
  {
   "cell_type": "code",
   "execution_count": 20,
   "outputs": [],
   "source": [
    "class MyCallback(tf.keras.callbacks.Callback):\n",
    "    def on_epoch_end(self, epochs, logs=None):\n",
    "        if logs is None:\n",
    "            logs = {}\n",
    "        if logs.get('accuracy') > 0.94:\n",
    "            print('Reached threshold limit and hence cancelling the training')\n",
    "            self.model.stop_training = True"
   ],
   "metadata": {
    "collapsed": false,
    "pycharm": {
     "name": "#%%\n"
    }
   }
  },
  {
   "cell_type": "markdown",
   "source": [
    "### Training the Model"
   ],
   "metadata": {
    "collapsed": false,
    "pycharm": {
     "name": "#%% md\n"
    }
   }
  },
  {
   "cell_type": "code",
   "execution_count": 21,
   "outputs": [
    {
     "name": "stdout",
     "output_type": "stream",
     "text": [
      "Epoch 1/100\n"
     ]
    },
    {
     "name": "stderr",
     "output_type": "stream",
     "text": [
      "2022-07-15 19:34:13.875216: I tensorflow/compiler/mlir/mlir_graph_optimization_pass.cc:116] None of the MLIR optimization passes are enabled (registered 2)\n"
     ]
    },
    {
     "name": "stdout",
     "output_type": "stream",
     "text": [
      "1875/1875 [==============================] - 2s 898us/step - loss: 0.6850 - accuracy: 0.7614\n",
      "Epoch 2/100\n",
      "1875/1875 [==============================] - 2s 934us/step - loss: 0.4122 - accuracy: 0.8525\n",
      "Epoch 3/100\n",
      "1875/1875 [==============================] - 2s 864us/step - loss: 0.3655 - accuracy: 0.8657\n",
      "Epoch 4/100\n",
      "1875/1875 [==============================] - 1s 634us/step - loss: 0.3481 - accuracy: 0.8727\n",
      "Epoch 5/100\n",
      "1875/1875 [==============================] - 1s 685us/step - loss: 0.3351 - accuracy: 0.8755\n",
      "Epoch 6/100\n",
      "1875/1875 [==============================] - 1s 789us/step - loss: 0.3165 - accuracy: 0.8840\n",
      "Epoch 7/100\n",
      "1875/1875 [==============================] - 1s 640us/step - loss: 0.3091 - accuracy: 0.8858\n",
      "Epoch 8/100\n",
      "1875/1875 [==============================] - 1s 623us/step - loss: 0.2995 - accuracy: 0.8895\n",
      "Epoch 9/100\n",
      "1875/1875 [==============================] - 1s 655us/step - loss: 0.2861 - accuracy: 0.8924\n",
      "Epoch 10/100\n",
      "1875/1875 [==============================] - 1s 688us/step - loss: 0.2858 - accuracy: 0.8941\n",
      "Epoch 11/100\n",
      "1875/1875 [==============================] - 1s 668us/step - loss: 0.2762 - accuracy: 0.8963\n",
      "Epoch 12/100\n",
      "1875/1875 [==============================] - 1s 665us/step - loss: 0.2729 - accuracy: 0.8971\n",
      "Epoch 13/100\n",
      "1875/1875 [==============================] - 1s 668us/step - loss: 0.2635 - accuracy: 0.9013\n",
      "Epoch 14/100\n",
      "1875/1875 [==============================] - 1s 614us/step - loss: 0.2596 - accuracy: 0.9034\n",
      "Epoch 15/100\n",
      "1875/1875 [==============================] - 1s 624us/step - loss: 0.2621 - accuracy: 0.9011\n",
      "Epoch 16/100\n",
      "1875/1875 [==============================] - 1s 653us/step - loss: 0.2471 - accuracy: 0.9066\n",
      "Epoch 17/100\n",
      "1875/1875 [==============================] - 1s 669us/step - loss: 0.2496 - accuracy: 0.9060\n",
      "Epoch 18/100\n",
      "1875/1875 [==============================] - 1s 621us/step - loss: 0.2471 - accuracy: 0.9074\n",
      "Epoch 19/100\n",
      "1875/1875 [==============================] - 1s 658us/step - loss: 0.2369 - accuracy: 0.9110\n",
      "Epoch 20/100\n",
      "1875/1875 [==============================] - 1s 645us/step - loss: 0.2357 - accuracy: 0.9113\n",
      "Epoch 21/100\n",
      "1875/1875 [==============================] - 1s 628us/step - loss: 0.2322 - accuracy: 0.9133\n",
      "Epoch 22/100\n",
      "1875/1875 [==============================] - 1s 705us/step - loss: 0.2298 - accuracy: 0.9152\n",
      "Epoch 23/100\n",
      "1875/1875 [==============================] - 1s 617us/step - loss: 0.2298 - accuracy: 0.9124\n",
      "Epoch 24/100\n",
      "1875/1875 [==============================] - 1s 627us/step - loss: 0.2220 - accuracy: 0.9180\n",
      "Epoch 25/100\n",
      "1875/1875 [==============================] - 1s 628us/step - loss: 0.2210 - accuracy: 0.9166\n",
      "Epoch 26/100\n",
      "1875/1875 [==============================] - 1s 629us/step - loss: 0.2171 - accuracy: 0.9173\n",
      "Epoch 27/100\n",
      "1875/1875 [==============================] - 1s 684us/step - loss: 0.2106 - accuracy: 0.9202\n",
      "Epoch 28/100\n",
      "1875/1875 [==============================] - 1s 650us/step - loss: 0.2128 - accuracy: 0.9188\n",
      "Epoch 29/100\n",
      "1875/1875 [==============================] - 1s 615us/step - loss: 0.2107 - accuracy: 0.9197\n",
      "Epoch 30/100\n",
      "1875/1875 [==============================] - 1s 619us/step - loss: 0.2069 - accuracy: 0.9214\n",
      "Epoch 31/100\n",
      "1875/1875 [==============================] - 1s 622us/step - loss: 0.2041 - accuracy: 0.9224\n",
      "Epoch 32/100\n",
      "1875/1875 [==============================] - 1s 640us/step - loss: 0.2016 - accuracy: 0.9225\n",
      "Epoch 33/100\n",
      "1875/1875 [==============================] - 1s 670us/step - loss: 0.1991 - accuracy: 0.9234\n",
      "Epoch 34/100\n",
      "1875/1875 [==============================] - 1s 613us/step - loss: 0.1975 - accuracy: 0.9252\n",
      "Epoch 35/100\n",
      "1875/1875 [==============================] - 1s 617us/step - loss: 0.2044 - accuracy: 0.9223\n",
      "Epoch 36/100\n",
      "1875/1875 [==============================] - 1s 620us/step - loss: 0.1893 - accuracy: 0.9274\n",
      "Epoch 37/100\n",
      "1875/1875 [==============================] - 1s 714us/step - loss: 0.1931 - accuracy: 0.9263\n",
      "Epoch 38/100\n",
      "1875/1875 [==============================] - 1s 689us/step - loss: 0.1921 - accuracy: 0.9271\n",
      "Epoch 39/100\n",
      "1875/1875 [==============================] - 1s 628us/step - loss: 0.1922 - accuracy: 0.9270\n",
      "Epoch 40/100\n",
      "1875/1875 [==============================] - 1s 613us/step - loss: 0.1903 - accuracy: 0.9266\n",
      "Epoch 41/100\n",
      "1875/1875 [==============================] - 1s 617us/step - loss: 0.1852 - accuracy: 0.9299\n",
      "Epoch 42/100\n",
      "1875/1875 [==============================] - 1s 621us/step - loss: 0.1769 - accuracy: 0.9324\n",
      "Epoch 43/100\n",
      "1875/1875 [==============================] - 1s 671us/step - loss: 0.1801 - accuracy: 0.9314\n",
      "Epoch 44/100\n",
      "1875/1875 [==============================] - 1s 666us/step - loss: 0.1831 - accuracy: 0.9305\n",
      "Epoch 45/100\n",
      "1875/1875 [==============================] - 1s 618us/step - loss: 0.1822 - accuracy: 0.9304\n",
      "Epoch 46/100\n",
      "1875/1875 [==============================] - 1s 615us/step - loss: 0.1801 - accuracy: 0.9309\n",
      "Epoch 47/100\n",
      "1875/1875 [==============================] - 1s 616us/step - loss: 0.1734 - accuracy: 0.9326\n",
      "Epoch 48/100\n",
      "1875/1875 [==============================] - 1s 658us/step - loss: 0.1768 - accuracy: 0.9322\n",
      "Epoch 49/100\n",
      "1875/1875 [==============================] - 1s 685us/step - loss: 0.1710 - accuracy: 0.9348\n",
      "Epoch 50/100\n",
      "1875/1875 [==============================] - 1s 616us/step - loss: 0.1701 - accuracy: 0.9346\n",
      "Epoch 51/100\n",
      "1875/1875 [==============================] - 1s 636us/step - loss: 0.1701 - accuracy: 0.9334\n",
      "Epoch 52/100\n",
      "1875/1875 [==============================] - 1s 613us/step - loss: 0.1724 - accuracy: 0.9337\n",
      "Epoch 53/100\n",
      "1875/1875 [==============================] - 1s 672us/step - loss: 0.1677 - accuracy: 0.9359\n",
      "Epoch 54/100\n",
      "1875/1875 [==============================] - 1s 711us/step - loss: 0.1659 - accuracy: 0.9379\n",
      "Epoch 55/100\n",
      "1875/1875 [==============================] - 1s 624us/step - loss: 0.1593 - accuracy: 0.9378\n",
      "Epoch 56/100\n",
      "1875/1875 [==============================] - 1s 624us/step - loss: 0.1702 - accuracy: 0.9358\n",
      "Epoch 57/100\n",
      "1875/1875 [==============================] - 1s 614us/step - loss: 0.1615 - accuracy: 0.9366\n",
      "Epoch 58/100\n",
      "1875/1875 [==============================] - 1s 613us/step - loss: 0.1564 - accuracy: 0.9409\n",
      "Epoch 59/100\n",
      "1875/1875 [==============================] - 1s 660us/step - loss: 0.1587 - accuracy: 0.9380\n",
      "Epoch 60/100\n",
      "1875/1875 [==============================] - 1s 661us/step - loss: 0.1573 - accuracy: 0.9400\n",
      "Epoch 61/100\n",
      "1875/1875 [==============================] - 1s 620us/step - loss: 0.1633 - accuracy: 0.9372\n",
      "Epoch 62/100\n",
      "1875/1875 [==============================] - 1s 618us/step - loss: 0.1593 - accuracy: 0.9380\n",
      "Epoch 63/100\n",
      "1875/1875 [==============================] - 1s 616us/step - loss: 0.1575 - accuracy: 0.9398\n",
      "Epoch 64/100\n",
      "1875/1875 [==============================] - 1s 712us/step - loss: 0.1556 - accuracy: 0.9392\n",
      "Epoch 65/100\n",
      "1875/1875 [==============================] - 1s 675us/step - loss: 0.1611 - accuracy: 0.9389\n",
      "Reached threshold limit and hence cancelling the training\n"
     ]
    }
   ],
   "source": [
    "callbacks = MyCallback()\n",
    "epochs_history = model.fit(features_train, target_train, epochs=100, callbacks=[callbacks])"
   ],
   "metadata": {
    "collapsed": false,
    "pycharm": {
     "name": "#%%\n"
    }
   }
  },
  {
   "cell_type": "code",
   "execution_count": 22,
   "outputs": [
    {
     "data": {
      "text/plain": "<matplotlib.legend.Legend at 0x7fa409883eb0>"
     },
     "execution_count": 22,
     "metadata": {},
     "output_type": "execute_result"
    },
    {
     "data": {
      "text/plain": "<Figure size 432x288 with 1 Axes>",
      "image/png": "[encoded data removed]"
     },
     "metadata": {
      "needs_background": "light"
     },
     "output_type": "display_data"
    }
   ],
   "source": [
    "# Visualize the Model Loss during training\n",
    "plt.plot(epochs_history.history['loss'])\n",
    "plt.title(\"Model Loss during training\")\n",
    "plt.xlabel(\"Number of Epochs\")\n",
    "plt.ylabel(\"Training Loss\")\n",
    "plt.legend(['Training Loss'])"
   ],
   "metadata": {
    "collapsed": false,
    "pycharm": {
     "name": "#%%\n"
    }
   }
  },
  {
   "cell_type": "code",
   "execution_count": 23,
   "outputs": [
    {
     "data": {
      "text/plain": "<matplotlib.legend.Legend at 0x7fa403769730>"
     },
     "execution_count": 23,
     "metadata": {},
     "output_type": "execute_result"
    },
    {
     "data": {
      "text/plain": "<Figure size 432x288 with 1 Axes>",
      "image/png": "[encoded data removed]"
     },
     "metadata": {
      "needs_background": "light"
     },
     "output_type": "display_data"
    }
   ],
   "source": [
    "# Visualize the Model Accuracy during training\n",
    "plt.plot(epochs_history.history['accuracy'])\n",
    "plt.title(\"Model Accuracy during training\")\n",
    "plt.xlabel(\"Number of Epochs\")\n",
    "plt.ylabel(\"Training Accuracy\")\n",
    "plt.legend(['Training Accuracy'])"
   ],
   "metadata": {
    "collapsed": false,
    "pycharm": {
     "name": "#%%\n"
    }
   }
  },
  {
   "cell_type": "markdown",
   "source": [
    "## Model Evaluation and Prediction"
   ],
   "metadata": {
    "collapsed": false,
    "pycharm": {
     "name": "#%% md\n"
    }
   }
  },
  {
   "cell_type": "code",
   "execution_count": 24,
   "outputs": [
    {
     "name": "stdout",
     "output_type": "stream",
     "text": [
      "313/313 [==============================] - 0s 476us/step - loss: 0.4224 - accuracy: 0.8905\n",
      "Test Accuracy - 0.890500009059906\n"
     ]
    }
   ],
   "source": [
    "# Let's use the model to predict on the test set\n",
    "test_loss, test_accuracy = model.evaluate(features_test, target_test, verbose=1)\n",
    "print(f\"Test Accuracy - {test_accuracy}\")"
   ],
   "metadata": {
    "collapsed": false,
    "pycharm": {
     "name": "#%%\n"
    }
   }
  },
  {
   "cell_type": "markdown",
   "source": [
    "### Confusion Matrix and Classification Report"
   ],
   "metadata": {
    "collapsed": false,
    "pycharm": {
     "name": "#%% md\n"
    }
   }
  },
  {
   "cell_type": "code",
   "execution_count": 25,
   "outputs": [
    {
     "data": {
      "text/plain": "array([9, 2, 1, ..., 8, 1, 5])"
     },
     "execution_count": 25,
     "metadata": {},
     "output_type": "execute_result"
    }
   ],
   "source": [
    "target_pred = model.predict(features_test)\n",
    "# In order to use it in Confusion Matrix because its a multiclass prediction\n",
    "target_pred = np.argmax(target_pred, axis=1) # Will return the class with the highest probability\n",
    "target_pred"
   ],
   "metadata": {
    "collapsed": false,
    "pycharm": {
     "name": "#%%\n"
    }
   }
  },
  {
   "cell_type": "code",
   "execution_count": 26,
   "outputs": [
    {
     "name": "stdout",
     "output_type": "stream",
     "text": [
      "Confusion Matrix\n",
      "\n",
      "\n",
      "[[842   1  16  23   4   0 112   0   2   0]\n",
      " [  4 969   1  18   4   0   3   0   1   0]\n",
      " [ 14   0 841  10  64   0  70   0   1   0]\n",
      " [ 20   3   9 911  26   0  27   0   4   0]\n",
      " [  0   0 137  36 770   0  57   0   0   0]\n",
      " [  0   0   0   1   0 969   0  20   1   9]\n",
      " [114   1 101  25  55   1 698   0   5   0]\n",
      " [  0   0   0   0   0   9   0 969   0  22]\n",
      " [  5   0   5   3   1   2   9   4 971   0]\n",
      " [  0   0   0   0   0   6   1  28   0 965]]\n",
      "\n",
      "\n",
      "Classification Report\n",
      "\n",
      "\n",
      "              precision    recall  f1-score   support\n",
      "\n",
      "           0       0.84      0.84      0.84      1000\n",
      "           1       0.99      0.97      0.98      1000\n",
      "           2       0.76      0.84      0.80      1000\n",
      "           3       0.89      0.91      0.90      1000\n",
      "           4       0.83      0.77      0.80      1000\n",
      "           5       0.98      0.97      0.98      1000\n",
      "           6       0.71      0.70      0.71      1000\n",
      "           7       0.95      0.97      0.96      1000\n",
      "           8       0.99      0.97      0.98      1000\n",
      "           9       0.97      0.96      0.97      1000\n",
      "\n",
      "    accuracy                           0.89     10000\n",
      "   macro avg       0.89      0.89      0.89     10000\n",
      "weighted avg       0.89      0.89      0.89     10000\n",
      "\n"
     ]
    }
   ],
   "source": [
    "print(\"Confusion Matrix\")\n",
    "print(\"\\n\")\n",
    "print(confusion_matrix(target_test, target_pred))\n",
    "print(\"\\n\")\n",
    "print('Classification Report')\n",
    "print(\"\\n\")\n",
    "print(classification_report(target_test, target_pred))"
   ],
   "metadata": {
    "collapsed": false,
    "pycharm": {
     "name": "#%%\n"
    }
   }
  },
  {
   "cell_type": "code",
   "execution_count": 26,
   "outputs": [],
   "source": [],
   "metadata": {
    "collapsed": false,
    "pycharm": {
     "name": "#%%\n"
    }
   }
  }
 ],
 "metadata": {
  "kernelspec": {
   "display_name": "Python 3",
   "language": "python",
   "name": "python3"
  },
  "language_info": {
   "codemirror_mode": {
    "name": "ipython",
    "version": 2
   },
   "file_extension": ".py",
   "mimetype": "text/x-python",
   "name": "python",
   "nbconvert_exporter": "python",
   "pygments_lexer": "ipython2",
   "version": "2.7.6"
  }
 },
 "nbformat": 4,
 "nbformat_minor": 0
}