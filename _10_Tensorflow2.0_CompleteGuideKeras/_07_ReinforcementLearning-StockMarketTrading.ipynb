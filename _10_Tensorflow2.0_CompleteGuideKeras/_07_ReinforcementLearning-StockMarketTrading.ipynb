{
 "cells": [
  {
   "cell_type": "markdown",
   "source": [
    "# Reinforcement Learning - Develop a Stock Market Trading Agent\n",
    "\n",
    "We will develop a trading bot using Deep Q Learning Network. The Bot will make the decision to buy, sell and hold"
   ],
   "metadata": {
    "collapsed": false,
    "pycharm": {
     "name": "#%% md\n"
    }
   }
  },
  {
   "cell_type": "markdown",
   "source": [
    "## Library Imports"
   ],
   "metadata": {
    "collapsed": false,
    "pycharm": {
     "name": "#%% md\n"
    }
   }
  },
  {
   "cell_type": "code",
   "execution_count": 1,
   "outputs": [],
   "source": [
    "import math\n",
    "import random\n",
    "import numpy as np\n",
    "import pandas_datareader as data_reader\n",
    "import matplotlib.pyplot as plt\n",
    "from tqdm import tqdm\n",
    "from collections import deque\n",
    "\n",
    "import tensorflow as tf"
   ],
   "metadata": {
    "collapsed": false,
    "pycharm": {
     "name": "#%%\n"
    }
   }
  },
  {
   "cell_type": "markdown",
   "source": [
    "## Building the AI Trader Network"
   ],
   "metadata": {
    "collapsed": false,
    "pycharm": {
     "name": "#%% md\n"
    }
   }
  },
  {
   "cell_type": "code",
   "execution_count": 2,
   "outputs": [],
   "source": [
    "# Deep Q Network Model for AITrader\n",
    "\n",
    "class AI_Trader:\n",
    "    def __init__(self, state_size, action_space=3, model_name='AITrader'): # We have default three actions - stay, buy and sell\n",
    "\n",
    "        # define hyperparamters of the network - also the attribute of this class\n",
    "        self.state_size = state_size\n",
    "        self.action_space = action_space\n",
    "        self.memory = deque(maxlen=2000) # Experience replay memory\n",
    "        self.inventory = [] # This list will hold all bought stocks, since we cannot sell a stock which we have not bought before\n",
    "        self.model_name = model_name\n",
    "        # This is that constant in the bellman's equation which tells how closer are we to the objective. This helps us to maximise the current reward over a long term reward.\n",
    "        # The value can be set between 0.1 to 0.9\n",
    "        self.gamma = 0.95\n",
    "        # Epsilon parameter helps us to understand whether we will choose a random action or use the model for the same\n",
    "        self.epsilon = 1.0 # This begins at the very beginning of the training process when our network is not trained, all actions are performed randomly\n",
    "        # Over a period of time, when our network is trained, we would want the model to take actions and not random.. However we would still need sometimes some random action to be taken\n",
    "        # By the agent, for environment exploration\n",
    "        self.epsilon_final = 0.01\n",
    "        # argument to denote, how fast the epsilon will reduce\n",
    "        self.epsilon_decay = 0.995\n",
    "\n",
    "        self.model = self.model_builder() # initialize the model and store it in model attribute of AITrader Class\n",
    "\n",
    "    # Build the neural network model\n",
    "    def model_builder(self):\n",
    "\n",
    "        model = tf.keras.models.Sequential()\n",
    "        model.add(tf.keras.layers.Dense(units=32, activation=tf.keras.activations.relu, input_dim=self.state_size))\n",
    "        model.add(tf.keras.layers.Dense(units=64, activation=tf.keras.activations.relu))\n",
    "        model.add(tf.keras.layers.Dense(units=128, activation=tf.keras.activations.relu))\n",
    "        model.add(tf.keras.layers.Dense(units=self.action_space, activation=tf.keras.activations.linear))\n",
    "\n",
    "        model.compile(loss=tf.keras.losses.mean_squared_error, optimizer=tf.keras.optimizers.Adam(lr=0.001))\n",
    "\n",
    "        return model\n",
    "\n",
    "    '''\n",
    "    Takes state as an input and spells out an action in that particular state\n",
    "    '''\n",
    "    def trade(self, state):\n",
    "        # Should we use a random generated action, or we use our model to get the action\n",
    "        # If random generated number is less than our epsilon we would return a state random from the available state space\n",
    "        # During initial part of the training, this will always be true and as the decay will be applied in the training function, more and more predictions from the model will be taken\n",
    "        if random.random() <= self.epsilon:\n",
    "            return random.randrange(self.action_space)\n",
    "\n",
    "        actions = self.model.predict(state)\n",
    "        return np.argmax(actions[0])\n",
    "\n",
    "    '''\n",
    "    Our custom training function\n",
    "    '''\n",
    "    def batch_train(self, batch_size):\n",
    "        batch = []\n",
    "        # Basically we are selecting data from the experience memory in batches\n",
    "        for index in range(len(self.memory) - batch_size + 1, len(self.memory)): # This range ensures we always take data from the end of the memory queue\n",
    "            batch.append(self.memory[index])\n",
    "\n",
    "        # Now we will iterate through it and train the model for each sample from the batch\n",
    "        for state, action, reward, next_state, done in batch:\n",
    "            reward = reward\n",
    "            if not done: # We will continue till the agent is in the terminal state\n",
    "                reward = reward + self.gamma * np.max(self.model.predict(next_state)[0]) # bellman's equation (discounted reward)\n",
    "\n",
    "            target =  self.model.predict(state) # Now we will predict the target\n",
    "            target[0][action] = reward # Associate the reward with target for the action it has performed\n",
    "\n",
    "            self.model.fit(state, target, epochs=1, verbose=0) # Epochs = 1 mean, we will train the model very often for each of the sample from the batch\n",
    "\n",
    "        # Now we will decrease the epsilon parameter\n",
    "        if self.epsilon > self.epsilon_final:\n",
    "            self.epsilon *= self.epsilon_decay"
   ],
   "metadata": {
    "collapsed": false,
    "pycharm": {
     "name": "#%%\n"
    }
   }
  },
  {
   "cell_type": "markdown",
   "source": [
    "## Data Preprocessing"
   ],
   "metadata": {
    "collapsed": false,
    "pycharm": {
     "name": "#%% md\n"
    }
   }
  },
  {
   "cell_type": "code",
   "execution_count": 3,
   "outputs": [],
   "source": [
    "# We will define our own sigmoid function for scaling purposes\n",
    "def sigmoid(x):\n",
    "    return 1 / (1 + math.exp(-x))"
   ],
   "metadata": {
    "collapsed": false,
    "pycharm": {
     "name": "#%%\n"
    }
   }
  },
  {
   "cell_type": "code",
   "execution_count": 4,
   "outputs": [],
   "source": [
    "# We will define our own price format function\n",
    "def stocks_price_format(n):\n",
    "    if n < 0:\n",
    "        return \"- $ {0:2f}\".format(abs(n))\n",
    "    else:\n",
    "        return \"$ {0:2f}\".format(abs(n))"
   ],
   "metadata": {
    "collapsed": false,
    "pycharm": {
     "name": "#%%\n"
    }
   }
  },
  {
   "cell_type": "markdown",
   "source": [
    "## Loading the dataset"
   ],
   "metadata": {
    "collapsed": false,
    "pycharm": {
     "name": "#%% md\n"
    }
   }
  },
  {
   "cell_type": "code",
   "execution_count": 5,
   "outputs": [
    {
     "data": {
      "text/plain": "                 High        Low       Open      Close       Volume  Adj Close\nDate                                                                          \n2017-07-24  38.110001  37.474998  37.645000  38.022499   85972800.0  35.994610\n2017-07-25  38.459999  37.950001  37.950001  38.185001   75415600.0  36.148449\n2017-07-26  38.482498  38.264999  38.337502  38.365002   63124000.0  36.318855\n2017-07-27  38.497501  36.825001  38.437500  37.639999  129905200.0  35.632511\n2017-07-28  37.557499  37.297501  37.472500  37.375000   68854800.0  35.381645",
      "text/html": "<div>\n<style scoped>\n    .dataframe tbody tr th:only-of-type {\n        vertical-align: middle;\n    }\n\n    .dataframe tbody tr th {\n        vertical-align: top;\n    }\n\n    .dataframe thead th {\n        text-align: right;\n    }\n</style>\n<table border=\"1\" class=\"dataframe\">\n  <thead>\n    <tr style=\"text-align: right;\">\n      <th></th>\n      <th>High</th>\n      <th>Low</th>\n      <th>Open</th>\n      <th>Close</th>\n      <th>Volume</th>\n      <th>Adj Close</th>\n    </tr>\n    <tr>\n      <th>Date</th>\n      <th></th>\n      <th></th>\n      <th></th>\n      <th></th>\n      <th></th>\n      <th></th>\n    </tr>\n  </thead>\n  <tbody>\n    <tr>\n      <th>2017-07-24</th>\n      <td>38.110001</td>\n      <td>37.474998</td>\n      <td>37.645000</td>\n      <td>38.022499</td>\n      <td>85972800.0</td>\n      <td>35.994610</td>\n    </tr>\n    <tr>\n      <th>2017-07-25</th>\n      <td>38.459999</td>\n      <td>37.950001</td>\n      <td>37.950001</td>\n      <td>38.185001</td>\n      <td>75415600.0</td>\n      <td>36.148449</td>\n    </tr>\n    <tr>\n      <th>2017-07-26</th>\n      <td>38.482498</td>\n      <td>38.264999</td>\n      <td>38.337502</td>\n      <td>38.365002</td>\n      <td>63124000.0</td>\n      <td>36.318855</td>\n    </tr>\n    <tr>\n      <th>2017-07-27</th>\n      <td>38.497501</td>\n      <td>36.825001</td>\n      <td>38.437500</td>\n      <td>37.639999</td>\n      <td>129905200.0</td>\n      <td>35.632511</td>\n    </tr>\n    <tr>\n      <th>2017-07-28</th>\n      <td>37.557499</td>\n      <td>37.297501</td>\n      <td>37.472500</td>\n      <td>37.375000</td>\n      <td>68854800.0</td>\n      <td>35.381645</td>\n    </tr>\n  </tbody>\n</table>\n</div>"
     },
     "execution_count": 5,
     "metadata": {},
     "output_type": "execute_result"
    }
   ],
   "source": [
    "# Just to check the stock we will be trading\n",
    "stock_data = data_reader.DataReader(\"AAPL\", data_source=\"yahoo\")\n",
    "stock_data.head()"
   ],
   "metadata": {
    "collapsed": false,
    "pycharm": {
     "name": "#%%\n"
    }
   }
  },
  {
   "cell_type": "code",
   "execution_count": 6,
   "outputs": [
    {
     "data": {
      "text/plain": "Text(0.5, 1.0, 'APPL Stock Close Price Trend')"
     },
     "execution_count": 6,
     "metadata": {},
     "output_type": "execute_result"
    },
    {
     "data": {
      "text/plain": "<Figure size 864x576 with 1 Axes>",
      "image/png": "[encoded data removed]"
     },
     "metadata": {},
     "output_type": "display_data"
    }
   ],
   "source": [
    "# Visualize the trend of Apple Stock\n",
    "plt.figure(figsize=(12, 8))\n",
    "plt.plot(\"Close\", data=stock_data)\n",
    "plt.title(\"APPL Stock Close Price Trend\")"
   ],
   "metadata": {
    "collapsed": false,
    "pycharm": {
     "name": "#%%\n"
    }
   }
  },
  {
   "cell_type": "code",
   "execution_count": 7,
   "outputs": [],
   "source": [
    "# Now we will have our dataset loader function\n",
    "\n",
    "def dataset_loader(stock_name):\n",
    "    dataset = data_reader.DataReader(stock_name, data_source=\"yahoo\")\n",
    "\n",
    "    start_date = str(dataset.index[0]).split()[0]\n",
    "    end_date = str(dataset.index[-1]).split()[0]\n",
    "\n",
    "    return dataset['Close']"
   ],
   "metadata": {
    "collapsed": false,
    "pycharm": {
     "name": "#%%\n"
    }
   }
  },
  {
   "cell_type": "code",
   "execution_count": 8,
   "outputs": [
    {
     "data": {
      "text/plain": "Date\n2017-07-24    38.022499\n2017-07-25    38.185001\n2017-07-26    38.365002\n2017-07-27    37.639999\n2017-07-28    37.375000\nName: Close, dtype: float64"
     },
     "execution_count": 8,
     "metadata": {},
     "output_type": "execute_result"
    }
   ],
   "source": [
    "stock_name = \"AAPL\"\n",
    "data = dataset_loader(stock_name)\n",
    "data.head()"
   ],
   "metadata": {
    "collapsed": false,
    "pycharm": {
     "name": "#%%\n"
    }
   }
  },
  {
   "cell_type": "markdown",
   "source": [
    "## State Creator"
   ],
   "metadata": {
    "collapsed": false,
    "pycharm": {
     "name": "#%% md\n"
    }
   }
  },
  {
   "cell_type": "code",
   "execution_count": 9,
   "outputs": [],
   "source": [
    "# We have created the dataset from datareader - which looks up a finance data and brings back information on a particular stock\n",
    "# Now we will create a state from it\n",
    "'''\n",
    "window_size - how many previous day we consider before we predict the current one\n",
    "data - stock market data downloaded with the dataset loader function\n",
    "timestep - day in the dataset in which we want to predict for\n",
    "'''\n",
    "def state_creator(data, timestep, window_size):\n",
    "    starting_id = timestep-window_size + 1\n",
    "\n",
    "    if starting_id >= 0:\n",
    "        windowed_data = data[starting_id:timestep + 1]\n",
    "    else:\n",
    "        windowed_data = - starting_id * [data[0]] + list(data[0:timestep+1])\n",
    "\n",
    "    state = []\n",
    "    # iterating through the whole window of data\n",
    "    for index in range(window_size - 1):\n",
    "        # Normalize the difference between the next day and current day and considering only the difference of value of stocks\n",
    "        state.append(sigmoid(windowed_data[index + 1] - windowed_data[index]))\n",
    "\n",
    "    return np.array([state])"
   ],
   "metadata": {
    "collapsed": false,
    "pycharm": {
     "name": "#%%\n"
    }
   }
  },
  {
   "cell_type": "markdown",
   "source": [
    "## Define the Trader Model and Setting the Hyper Parameter"
   ],
   "metadata": {
    "collapsed": false,
    "pycharm": {
     "name": "#%% md\n"
    }
   }
  },
  {
   "cell_type": "code",
   "execution_count": 10,
   "outputs": [],
   "source": [
    "# Hyperparameters\n",
    "window_size = 10 # we will use 10 previous days to predict the correct one\n",
    "episodes = 1000\n",
    "\n",
    "batch_size = 32\n",
    "data_samples = len(data) - 1"
   ],
   "metadata": {
    "collapsed": false,
    "pycharm": {
     "name": "#%%\n"
    }
   }
  },
  {
   "cell_type": "code",
   "execution_count": 11,
   "outputs": [
    {
     "name": "stdout",
     "output_type": "stream",
     "text": [
      "Model: \"sequential\"\n",
      "_________________________________________________________________\n",
      "Layer (type)                 Output Shape              Param #   \n",
      "=================================================================\n",
      "dense (Dense)                (None, 32)                352       \n",
      "_________________________________________________________________\n",
      "dense_1 (Dense)              (None, 64)                2112      \n",
      "_________________________________________________________________\n",
      "dense_2 (Dense)              (None, 128)               8320      \n",
      "_________________________________________________________________\n",
      "dense_3 (Dense)              (None, 3)                 387       \n",
      "=================================================================\n",
      "Total params: 11,171\n",
      "Trainable params: 11,171\n",
      "Non-trainable params: 0\n",
      "_________________________________________________________________\n"
     ]
    },
    {
     "name": "stderr",
     "output_type": "stream",
     "text": [
      "2022-07-23 21:13:37.720391: I tensorflow/core/platform/cpu_feature_guard.cc:142] This TensorFlow binary is optimized with oneAPI Deep Neural Network Library (oneDNN) to use the following CPU instructions in performance-critical operations:  SSE4.1 SSE4.2 AVX AVX2 FMA\n",
      "To enable them in other operations, rebuild TensorFlow with the appropriate compiler flags.\n"
     ]
    }
   ],
   "source": [
    "# Define the model\n",
    "trader = AI_Trader(state_size=window_size)\n",
    "trader.model.summary()"
   ],
   "metadata": {
    "collapsed": false,
    "pycharm": {
     "name": "#%%\n"
    }
   }
  },
  {
   "cell_type": "markdown",
   "source": [
    "## Training Loop"
   ],
   "metadata": {
    "collapsed": false,
    "pycharm": {
     "name": "#%% md\n"
    }
   }
  },
  {
   "cell_type": "code",
   "execution_count": 12,
   "outputs": [
    {
     "name": "stdout",
     "output_type": "stream",
     "text": [
      "Episodes - 1 of 1000\n"
     ]
    },
    {
     "name": "stderr",
     "output_type": "stream",
     "text": [
      "  0%|          | 0/1258 [00:00<?, ?it/s]2022-07-23 21:13:37.842873: I tensorflow/compiler/mlir/mlir_graph_optimization_pass.cc:116] None of the MLIR optimization passes are enabled (registered 2)\n"
     ]
    },
    {
     "name": "stdout",
     "output_type": "stream",
     "text": [
      "AI Trader Bought - $ 39.285000\n",
      "AI Trader Bought - $ 38.892502\n",
      "AI Trader Bought - $ 39.097500\n",
      "AI Trader Bought - $ 39.702499\n",
      "AI Trader Sold - $ 40.020000, Profit - $ 0.735001\n",
      "AI Trader Bought - $ 40.264999\n",
      "AI Trader Sold - $ 38.830002, Profit - - $ 0.062500\n",
      "AI Trader Bought - $ 39.369999\n",
      "AI Trader Bought - $ 39.962502\n",
      "AI Trader Sold - $ 40.400002, Profit - $ 1.302502\n",
      "AI Trader Sold - $ 39.465000, Profit - - $ 0.237499\n",
      "AI Trader Bought - $ 39.375000\n",
      "AI Trader Sold - $ 39.302502, Profit - - $ 0.962498\n",
      "AI Trader Sold - $ 39.945000, Profit - $ 0.575001\n",
      "AI Trader Bought - $ 39.994999\n",
      "AI Trader Bought - $ 40.367500\n",
      "AI Trader Sold - $ 40.727501, Profit - $ 0.764999\n",
      "AI Trader Sold - $ 40.837502, Profit - $ 1.462502\n",
      "AI Trader Bought - $ 40.520000\n",
      "AI Trader Bought - $ 40.477501\n"
     ]
    },
    {
     "name": "stderr",
     "output_type": "stream",
     "text": [
      "  3%|▎         | 33/1258 [00:02<01:39, 12.36it/s]"
     ]
    },
    {
     "name": "stdout",
     "output_type": "stream",
     "text": [
      "AI Trader Bought - $ 39.657501\n",
      "AI Trader Sold - $ 40.375000, Profit - $ 0.380001\n"
     ]
    },
    {
     "name": "stderr",
     "output_type": "stream",
     "text": [
      "  3%|▎         | 35/1258 [00:07<05:11,  3.93it/s]"
     ]
    },
    {
     "name": "stdout",
     "output_type": "stream",
     "text": [
      "AI Trader Sold - $ 40.215000, Profit - - $ 0.152500\n"
     ]
    },
    {
     "name": "stderr",
     "output_type": "stream",
     "text": [
      "  3%|▎         | 36/1258 [00:09<07:11,  2.83it/s]"
     ]
    },
    {
     "name": "stdout",
     "output_type": "stream",
     "text": [
      "AI Trader Bought - $ 39.912498\n"
     ]
    },
    {
     "name": "stderr",
     "output_type": "stream",
     "text": [
      "  3%|▎         | 37/1258 [00:11<10:06,  2.01it/s]"
     ]
    },
    {
     "name": "stdout",
     "output_type": "stream",
     "text": [
      "AI Trader Sold - $ 39.570000, Profit - - $ 0.950001\n"
     ]
    },
    {
     "name": "stderr",
     "output_type": "stream",
     "text": [
      "  3%|▎         | 38/1258 [00:13<13:18,  1.53it/s]"
     ]
    },
    {
     "name": "stdout",
     "output_type": "stream",
     "text": [
      "AI Trader Bought - $ 39.970001\n"
     ]
    },
    {
     "name": "stderr",
     "output_type": "stream",
     "text": [
      "  3%|▎         | 39/1258 [00:16<17:12,  1.18it/s]"
     ]
    },
    {
     "name": "stdout",
     "output_type": "stream",
     "text": [
      "AI Trader Bought - $ 39.667500\n"
     ]
    },
    {
     "name": "stderr",
     "output_type": "stream",
     "text": [
      "  3%|▎         | 41/1258 [00:20<25:42,  1.27s/it]"
     ]
    },
    {
     "name": "stdout",
     "output_type": "stream",
     "text": [
      "AI Trader Sold - $ 39.017502, Profit - - $ 1.459999\n"
     ]
    },
    {
     "name": "stderr",
     "output_type": "stream",
     "text": [
      "  3%|▎         | 42/1258 [00:22<29:02,  1.43s/it]"
     ]
    },
    {
     "name": "stdout",
     "output_type": "stream",
     "text": [
      "AI Trader Bought - $ 38.347500\n"
     ]
    },
    {
     "name": "stderr",
     "output_type": "stream",
     "text": [
      "  3%|▎         | 43/1258 [00:25<32:13,  1.59s/it]"
     ]
    },
    {
     "name": "stdout",
     "output_type": "stream",
     "text": [
      "AI Trader Bought - $ 37.972500\n"
     ]
    },
    {
     "name": "stderr",
     "output_type": "stream",
     "text": [
      "  4%|▎         | 46/1258 [00:31<38:39,  1.91s/it]"
     ]
    },
    {
     "name": "stdout",
     "output_type": "stream",
     "text": [
      "AI Trader Sold - $ 38.557499, Profit - - $ 1.100002\n"
     ]
    },
    {
     "name": "stderr",
     "output_type": "stream",
     "text": [
      "  4%|▎         | 47/1258 [00:33<40:53,  2.03s/it]"
     ]
    },
    {
     "name": "stdout",
     "output_type": "stream",
     "text": [
      "AI Trader Bought - $ 38.320000\n"
     ]
    },
    {
     "name": "stderr",
     "output_type": "stream",
     "text": [
      "  4%|▍         | 48/1258 [00:36<42:10,  2.09s/it]"
     ]
    },
    {
     "name": "stdout",
     "output_type": "stream",
     "text": [
      "AI Trader Bought - $ 38.529999\n"
     ]
    },
    {
     "name": "stderr",
     "output_type": "stream",
     "text": [
      "Exception ignored in: <function ScopedTFGraph.__del__ at 0x7fefd5518af0>\n",
      "Traceback (most recent call last):\n",
      "  File \"/Users/suvosmac/opt/miniconda3/envs/tensorflow/lib/python3.9/site-packages/tensorflow/python/framework/c_api_util.py\", line 58, in __del__\n",
      "    self.deleter(self.graph)\n",
      "KeyboardInterrupt: \n",
      "  4%|▍         | 49/1258 [00:38<43:00,  2.13s/it]"
     ]
    },
    {
     "name": "stdout",
     "output_type": "stream",
     "text": [
      "AI Trader Sold - $ 38.452499, Profit - - $ 1.459999\n"
     ]
    },
    {
     "name": "stderr",
     "output_type": "stream",
     "text": [
      "  4%|▍         | 50/1258 [00:40<42:40,  2.12s/it]"
     ]
    },
    {
     "name": "stdout",
     "output_type": "stream",
     "text": [
      "AI Trader Sold - $ 38.619999, Profit - - $ 1.350002\n"
     ]
    },
    {
     "name": "stderr",
     "output_type": "stream",
     "text": [
      "  4%|▍         | 51/1258 [00:42<44:23,  2.21s/it]"
     ]
    },
    {
     "name": "stdout",
     "output_type": "stream",
     "text": [
      "AI Trader Bought - $ 38.369999\n"
     ]
    },
    {
     "name": "stderr",
     "output_type": "stream",
     "text": [
      "  4%|▍         | 52/1258 [00:45<44:36,  2.22s/it]"
     ]
    },
    {
     "name": "stdout",
     "output_type": "stream",
     "text": [
      "AI Trader Sold - $ 38.847500, Profit - - $ 0.820000\n"
     ]
    },
    {
     "name": "stderr",
     "output_type": "stream",
     "text": [
      "  4%|▍         | 52/1258 [00:45<17:34,  1.14it/s]\n",
      "\n",
      "KeyboardInterrupt\n",
      "\n"
     ]
    }
   ],
   "source": [
    "for episode in range(1, episodes + 1):\n",
    "    print(f\"Episodes - {episode} of {episodes}\")\n",
    "\n",
    "    state = state_creator(data, 0, window_size + 1)\n",
    "\n",
    "    total_profit = 0\n",
    "    trader.inventory = []\n",
    "\n",
    "    for t in tqdm(range(data_samples)):\n",
    "        action = trader.trade(state)\n",
    "\n",
    "        next_state = state_creator(data, t+1, window_size + 1)\n",
    "        reward = 0\n",
    "\n",
    "        if action == 1: # Buying\n",
    "            trader.inventory.append(data[t])\n",
    "            print(f\"AI Trader Bought - {stocks_price_format(data[t])}\")\n",
    "\n",
    "        elif action == 2 and len(trader.inventory) > 0: # Selling\n",
    "            buy_price = trader.inventory.pop(0)\n",
    "\n",
    "            reward = max(data[t] - buy_price, 0)\n",
    "            total_profit += data[t] - buy_price\n",
    "            print(f\"AI Trader Sold - {stocks_price_format(data[t])}, Profit - {stocks_price_format(data[t] - buy_price)}\")\n",
    "\n",
    "        if t == data_samples - 1:\n",
    "            done = True\n",
    "        else:\n",
    "            done = False\n",
    "\n",
    "        trader.memory.append((state, action, reward, next_state, done))\n",
    "\n",
    "        state = next_state\n",
    "\n",
    "        if done:\n",
    "            print(\"###############################################\")\n",
    "            print(f\"Total Profit - {total_profit}\")\n",
    "            print(\"###############################################\")\n",
    "\n",
    "        if len(trader.memory) > batch_size:\n",
    "            trader.batch_train(batch_size)\n",
    "\n",
    "    if episode % 10 == 0:\n",
    "        trader.model.save(\"ai_trader_{}.h5\".format(episode))"
   ],
   "metadata": {
    "collapsed": false,
    "pycharm": {
     "name": "#%%\n"
    }
   }
  },
  {
   "cell_type": "code",
   "execution_count": null,
   "outputs": [],
   "source": [],
   "metadata": {
    "collapsed": false,
    "pycharm": {
     "name": "#%%\n"
    }
   }
  }
 ],
 "metadata": {
  "kernelspec": {
   "display_name": "Python 3",
   "language": "python",
   "name": "python3"
  },
  "language_info": {
   "codemirror_mode": {
    "name": "ipython",
    "version": 2
   },
   "file_extension": ".py",
   "mimetype": "text/x-python",
   "name": "python",
   "nbconvert_exporter": "python",
   "pygments_lexer": "ipython2",
   "version": "2.7.6"
  }
 },
 "nbformat": 4,
 "nbformat_minor": 0
}