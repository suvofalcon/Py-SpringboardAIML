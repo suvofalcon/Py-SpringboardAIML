{
 "cells": [
  {
   "cell_type": "markdown",
   "source": [
    "# Data Validation with Tensorflow Data Validation\n",
    "\n",
    "Data Validation is a part of the extension of Tensorflow called Tensorflow extended. Tensorflow extended works around doing everything to put any model into production, starting from data validation\n",
    "to serving it in a server"
   ],
   "metadata": {
    "collapsed": false,
    "pycharm": {
     "name": "#%% md\n"
    }
   }
  },
  {
   "cell_type": "markdown",
   "source": [
    "## Library Imports"
   ],
   "metadata": {
    "collapsed": false,
    "pycharm": {
     "name": "#%% md\n"
    }
   }
  },
  {
   "cell_type": "code",
   "execution_count": 1,
   "outputs": [],
   "source": [
    "import pandas as pd\n",
    "import tensorflow_data_validation as tfdv"
   ],
   "metadata": {
    "collapsed": false,
    "pycharm": {
     "name": "#%%\n"
    }
   }
  },
  {
   "cell_type": "markdown",
   "source": [
    "## Load the dataset"
   ],
   "metadata": {
    "collapsed": false,
    "pycharm": {
     "name": "#%% md\n"
    }
   }
  },
  {
   "cell_type": "code",
   "execution_count": 2,
   "outputs": [
    {
     "data": {
      "text/plain": "       Date   pm10    no2    so2   soot\n0  1/1/2009  98.67  14.10  44.38  34.81\n1  1/2/2009  52.33  14.10  29.75  33.06\n2  1/3/2009  74.67  20.50  36.25  39.25\n3  1/4/2009  72.00  17.30  46.44  34.38\n4  1/5/2009  81.00  25.64  56.56  45.59",
      "text/html": "<div>\n<style scoped>\n    .dataframe tbody tr th:only-of-type {\n        vertical-align: middle;\n    }\n\n    .dataframe tbody tr th {\n        vertical-align: top;\n    }\n\n    .dataframe thead th {\n        text-align: right;\n    }\n</style>\n<table border=\"1\" class=\"dataframe\">\n  <thead>\n    <tr style=\"text-align: right;\">\n      <th></th>\n      <th>Date</th>\n      <th>pm10</th>\n      <th>no2</th>\n      <th>so2</th>\n      <th>soot</th>\n    </tr>\n  </thead>\n  <tbody>\n    <tr>\n      <th>0</th>\n      <td>1/1/2009</td>\n      <td>98.67</td>\n      <td>14.10</td>\n      <td>44.38</td>\n      <td>34.81</td>\n    </tr>\n    <tr>\n      <th>1</th>\n      <td>1/2/2009</td>\n      <td>52.33</td>\n      <td>14.10</td>\n      <td>29.75</td>\n      <td>33.06</td>\n    </tr>\n    <tr>\n      <th>2</th>\n      <td>1/3/2009</td>\n      <td>74.67</td>\n      <td>20.50</td>\n      <td>36.25</td>\n      <td>39.25</td>\n    </tr>\n    <tr>\n      <th>3</th>\n      <td>1/4/2009</td>\n      <td>72.00</td>\n      <td>17.30</td>\n      <td>46.44</td>\n      <td>34.38</td>\n    </tr>\n    <tr>\n      <th>4</th>\n      <td>1/5/2009</td>\n      <td>81.00</td>\n      <td>25.64</td>\n      <td>56.56</td>\n      <td>45.59</td>\n    </tr>\n  </tbody>\n</table>\n</div>"
     },
     "execution_count": 2,
     "metadata": {},
     "output_type": "execute_result"
    }
   ],
   "source": [
    "# Load the dataset\n",
    "dataset = pd.read_csv(\"resources/pollution_small.csv\")\n",
    "\n",
    "# Check the load\n",
    "dataset.head()"
   ],
   "metadata": {
    "collapsed": false,
    "pycharm": {
     "name": "#%%\n"
    }
   }
  },
  {
   "cell_type": "code",
   "execution_count": 3,
   "outputs": [
    {
     "name": "stdout",
     "output_type": "stream",
     "text": [
      "<class 'pandas.core.frame.DataFrame'>\n",
      "RangeIndex: 2188 entries, 0 to 2187\n",
      "Data columns (total 5 columns):\n",
      " #   Column  Non-Null Count  Dtype  \n",
      "---  ------  --------------  -----  \n",
      " 0   Date    2188 non-null   object \n",
      " 1   pm10    2188 non-null   float64\n",
      " 2   no2     2188 non-null   float64\n",
      " 3   so2     2188 non-null   float64\n",
      " 4   soot    2188 non-null   float64\n",
      "dtypes: float64(4), object(1)\n",
      "memory usage: 85.6+ KB\n"
     ]
    }
   ],
   "source": [
    "# Check the datastructure\n",
    "dataset.info()"
   ],
   "metadata": {
    "collapsed": false,
    "pycharm": {
     "name": "#%%\n"
    }
   }
  },
  {
   "cell_type": "code",
   "execution_count": 7,
   "outputs": [],
   "source": [
    "# we will divide the rows into training and test\n",
    "training_dataset = dataset[:1600]\n",
    "test_dataset = dataset[1600:]"
   ],
   "metadata": {
    "collapsed": false,
    "pycharm": {
     "name": "#%%\n"
    }
   }
  },
  {
   "cell_type": "code",
   "execution_count": 8,
   "outputs": [
    {
     "data": {
      "text/plain": "              pm10          no2          so2         soot\ncount  1600.000000  1600.000000  1600.000000  1600.000000\nmean     49.656494    30.980519    16.229981    21.551956\nstd      35.211906    12.400788    10.621896    12.127354\nmin       6.380000     9.740000     4.010000     6.000000\n25%      28.345000    22.567500     9.777500    14.400000\n50%      38.835000    28.715000    13.275000    18.630000\n75%      58.050000    36.370000    19.282500    24.072500\nmax     277.250000   138.010000   123.130000   107.650000",
      "text/html": "<div>\n<style scoped>\n    .dataframe tbody tr th:only-of-type {\n        vertical-align: middle;\n    }\n\n    .dataframe tbody tr th {\n        vertical-align: top;\n    }\n\n    .dataframe thead th {\n        text-align: right;\n    }\n</style>\n<table border=\"1\" class=\"dataframe\">\n  <thead>\n    <tr style=\"text-align: right;\">\n      <th></th>\n      <th>pm10</th>\n      <th>no2</th>\n      <th>so2</th>\n      <th>soot</th>\n    </tr>\n  </thead>\n  <tbody>\n    <tr>\n      <th>count</th>\n      <td>1600.000000</td>\n      <td>1600.000000</td>\n      <td>1600.000000</td>\n      <td>1600.000000</td>\n    </tr>\n    <tr>\n      <th>mean</th>\n      <td>49.656494</td>\n      <td>30.980519</td>\n      <td>16.229981</td>\n      <td>21.551956</td>\n    </tr>\n    <tr>\n      <th>std</th>\n      <td>35.211906</td>\n      <td>12.400788</td>\n      <td>10.621896</td>\n      <td>12.127354</td>\n    </tr>\n    <tr>\n      <th>min</th>\n      <td>6.380000</td>\n      <td>9.740000</td>\n      <td>4.010000</td>\n      <td>6.000000</td>\n    </tr>\n    <tr>\n      <th>25%</th>\n      <td>28.345000</td>\n      <td>22.567500</td>\n      <td>9.777500</td>\n      <td>14.400000</td>\n    </tr>\n    <tr>\n      <th>50%</th>\n      <td>38.835000</td>\n      <td>28.715000</td>\n      <td>13.275000</td>\n      <td>18.630000</td>\n    </tr>\n    <tr>\n      <th>75%</th>\n      <td>58.050000</td>\n      <td>36.370000</td>\n      <td>19.282500</td>\n      <td>24.072500</td>\n    </tr>\n    <tr>\n      <th>max</th>\n      <td>277.250000</td>\n      <td>138.010000</td>\n      <td>123.130000</td>\n      <td>107.650000</td>\n    </tr>\n  </tbody>\n</table>\n</div>"
     },
     "execution_count": 8,
     "metadata": {},
     "output_type": "execute_result"
    }
   ],
   "source": [
    "# Check the summary statistics of the training dataset\n",
    "training_dataset.describe()"
   ],
   "metadata": {
    "collapsed": false,
    "pycharm": {
     "name": "#%%\n"
    }
   }
  },
  {
   "cell_type": "code",
   "execution_count": 9,
   "outputs": [
    {
     "data": {
      "text/plain": "             pm10         no2         so2        soot\ncount  588.000000  588.000000  588.000000  588.000000\nmean    44.648248   37.296922   13.605170   18.441310\nstd     28.992087   10.940050    5.098944    6.596459\nmin     11.900000   15.070000    4.990000    8.000000\n25%     28.337500   29.217500   10.122500   14.410000\n50%     35.555000   35.815000   12.345000   17.090000\n75%     50.812500   43.872500   15.855000   20.962500\nmax    273.770000  106.030000   38.030000   87.210000",
      "text/html": "<div>\n<style scoped>\n    .dataframe tbody tr th:only-of-type {\n        vertical-align: middle;\n    }\n\n    .dataframe tbody tr th {\n        vertical-align: top;\n    }\n\n    .dataframe thead th {\n        text-align: right;\n    }\n</style>\n<table border=\"1\" class=\"dataframe\">\n  <thead>\n    <tr style=\"text-align: right;\">\n      <th></th>\n      <th>pm10</th>\n      <th>no2</th>\n      <th>so2</th>\n      <th>soot</th>\n    </tr>\n  </thead>\n  <tbody>\n    <tr>\n      <th>count</th>\n      <td>588.000000</td>\n      <td>588.000000</td>\n      <td>588.000000</td>\n      <td>588.000000</td>\n    </tr>\n    <tr>\n      <th>mean</th>\n      <td>44.648248</td>\n      <td>37.296922</td>\n      <td>13.605170</td>\n      <td>18.441310</td>\n    </tr>\n    <tr>\n      <th>std</th>\n      <td>28.992087</td>\n      <td>10.940050</td>\n      <td>5.098944</td>\n      <td>6.596459</td>\n    </tr>\n    <tr>\n      <th>min</th>\n      <td>11.900000</td>\n      <td>15.070000</td>\n      <td>4.990000</td>\n      <td>8.000000</td>\n    </tr>\n    <tr>\n      <th>25%</th>\n      <td>28.337500</td>\n      <td>29.217500</td>\n      <td>10.122500</td>\n      <td>14.410000</td>\n    </tr>\n    <tr>\n      <th>50%</th>\n      <td>35.555000</td>\n      <td>35.815000</td>\n      <td>12.345000</td>\n      <td>17.090000</td>\n    </tr>\n    <tr>\n      <th>75%</th>\n      <td>50.812500</td>\n      <td>43.872500</td>\n      <td>15.855000</td>\n      <td>20.962500</td>\n    </tr>\n    <tr>\n      <th>max</th>\n      <td>273.770000</td>\n      <td>106.030000</td>\n      <td>38.030000</td>\n      <td>87.210000</td>\n    </tr>\n  </tbody>\n</table>\n</div>"
     },
     "execution_count": 9,
     "metadata": {},
     "output_type": "execute_result"
    }
   ],
   "source": [
    "# Check the summary statistics of the test dataset'\n",
    "test_dataset.describe()"
   ],
   "metadata": {
    "collapsed": false,
    "pycharm": {
     "name": "#%%\n"
    }
   }
  },
  {
   "cell_type": "markdown",
   "source": [
    "## Data Analysis and Validation with TFDV"
   ],
   "metadata": {
    "collapsed": false,
    "pycharm": {
     "name": "#%% md\n"
    }
   }
  },
  {
   "cell_type": "markdown",
   "source": [
    "### Generate Training data statistics\n",
    "\n",
    "These statistics are much more detailed than the usual describe method"
   ],
   "metadata": {
    "collapsed": false,
    "pycharm": {
     "name": "#%% md\n"
    }
   }
  },
  {
   "cell_type": "code",
   "execution_count": 10,
   "outputs": [],
   "source": [
    "# We will perform this on the training dataset\n",
    "train_stats = tfdv.generate_statistics_from_dataframe(dataframe=dataset)"
   ],
   "metadata": {
    "collapsed": false,
    "pycharm": {
     "name": "#%%\n"
    }
   }
  },
  {
   "cell_type": "markdown",
   "source": [
    "### Inferring the Schema\n",
    "\n",
    "The generated statistics will return a schema object which will have every single information regarding our training dataset\n",
    "All data (test data) is going to be checked against this schema to denote any anomalies and the admitted to a pipeline"
   ],
   "metadata": {
    "collapsed": false,
    "pycharm": {
     "name": "#%% md\n"
    }
   }
  },
  {
   "cell_type": "code",
   "execution_count": 13,
   "outputs": [
    {
     "data": {
      "text/plain": "               Type  Presence Valency Domain\nFeature name                                \n'Date'        BYTES  required              -\n'pm10'        FLOAT  required              -\n'no2'         FLOAT  required              -\n'so2'         FLOAT  required              -\n'soot'        FLOAT  required              -",
      "text/html": "<div>\n<style scoped>\n    .dataframe tbody tr th:only-of-type {\n        vertical-align: middle;\n    }\n\n    .dataframe tbody tr th {\n        vertical-align: top;\n    }\n\n    .dataframe thead th {\n        text-align: right;\n    }\n</style>\n<table border=\"1\" class=\"dataframe\">\n  <thead>\n    <tr style=\"text-align: right;\">\n      <th></th>\n      <th>Type</th>\n      <th>Presence</th>\n      <th>Valency</th>\n      <th>Domain</th>\n    </tr>\n    <tr>\n      <th>Feature name</th>\n      <th></th>\n      <th></th>\n      <th></th>\n      <th></th>\n    </tr>\n  </thead>\n  <tbody>\n    <tr>\n      <th>'Date'</th>\n      <td>BYTES</td>\n      <td>required</td>\n      <td></td>\n      <td>-</td>\n    </tr>\n    <tr>\n      <th>'pm10'</th>\n      <td>FLOAT</td>\n      <td>required</td>\n      <td></td>\n      <td>-</td>\n    </tr>\n    <tr>\n      <th>'no2'</th>\n      <td>FLOAT</td>\n      <td>required</td>\n      <td></td>\n      <td>-</td>\n    </tr>\n    <tr>\n      <th>'so2'</th>\n      <td>FLOAT</td>\n      <td>required</td>\n      <td></td>\n      <td>-</td>\n    </tr>\n    <tr>\n      <th>'soot'</th>\n      <td>FLOAT</td>\n      <td>required</td>\n      <td></td>\n      <td>-</td>\n    </tr>\n  </tbody>\n</table>\n</div>"
     },
     "metadata": {},
     "output_type": "display_data"
    }
   ],
   "source": [
    "schema = tfdv.infer_schema(statistics=train_stats)\n",
    "tfdv.display_schema(schema)"
   ],
   "metadata": {
    "collapsed": false,
    "pycharm": {
     "name": "#%%\n"
    }
   }
  },
  {
   "cell_type": "markdown",
   "source": [
    "### Calculate Test Statistics"
   ],
   "metadata": {
    "collapsed": false,
    "pycharm": {
     "name": "#%% md\n"
    }
   }
  },
  {
   "cell_type": "code",
   "execution_count": 14,
   "outputs": [],
   "source": [
    "test_stats = tfdv.generate_statistics_from_dataframe(dataframe=test_dataset)"
   ],
   "metadata": {
    "collapsed": false,
    "pycharm": {
     "name": "#%%\n"
    }
   }
  },
  {
   "cell_type": "markdown",
   "source": [
    "### Compare Test Statistics with Schema"
   ],
   "metadata": {
    "collapsed": false,
    "pycharm": {
     "name": "#%% md\n"
    }
   }
  },
  {
   "cell_type": "code",
   "execution_count": 15,
   "outputs": [],
   "source": [
    "# Checking for anomalies in new data\n",
    "anomalies = tfdv.validate_statistics(statistics=test_stats, schema=schema)"
   ],
   "metadata": {
    "collapsed": false,
    "pycharm": {
     "name": "#%%\n"
    }
   }
  },
  {
   "cell_type": "markdown",
   "source": [
    "### Displaying all detected anomalies\n",
    "\n",
    "- Integer larger than 10\n",
    "- STRING type when expected INT type\n",
    "- FLOAT type when expected INT type\n",
    "- Integer smaller than 0"
   ],
   "metadata": {
    "collapsed": false,
    "pycharm": {
     "name": "#%% md\n"
    }
   }
  },
  {
   "cell_type": "code",
   "execution_count": 16,
   "outputs": [
    {
     "data": {
      "text/plain": "<IPython.core.display.HTML object>",
      "text/html": "<h4 style=\"color:green;\">No anomalies found.</h4>"
     },
     "metadata": {},
     "output_type": "display_data"
    }
   ],
   "source": [
    "tfdv.display_anomalies(anomalies)"
   ],
   "metadata": {
    "collapsed": false,
    "pycharm": {
     "name": "#%%\n"
    }
   }
  },
  {
   "cell_type": "markdown",
   "source": [
    "### New Data with Anomalies\n",
    "We introduce anomalies and check how the Tfdv detects the same"
   ],
   "metadata": {
    "collapsed": false,
    "pycharm": {
     "name": "#%% md\n"
    }
   }
  },
  {
   "cell_type": "code",
   "execution_count": 17,
   "outputs": [],
   "source": [
    "test_set_copy = test_dataset.copy()\n",
    "test_set_copy.drop('soot', axis=1, inplace=True)"
   ],
   "metadata": {
    "collapsed": false,
    "pycharm": {
     "name": "#%%\n"
    }
   }
  },
  {
   "cell_type": "code",
   "execution_count": 18,
   "outputs": [
    {
     "data": {
      "text/plain": "             Anomaly short description      Anomaly long description\nFeature name                                                        \n'soot'                  Column dropped  Column is completely missing",
      "text/html": "<div>\n<style scoped>\n    .dataframe tbody tr th:only-of-type {\n        vertical-align: middle;\n    }\n\n    .dataframe tbody tr th {\n        vertical-align: top;\n    }\n\n    .dataframe thead th {\n        text-align: right;\n    }\n</style>\n<table border=\"1\" class=\"dataframe\">\n  <thead>\n    <tr style=\"text-align: right;\">\n      <th></th>\n      <th>Anomaly short description</th>\n      <th>Anomaly long description</th>\n    </tr>\n    <tr>\n      <th>Feature name</th>\n      <th></th>\n      <th></th>\n    </tr>\n  </thead>\n  <tbody>\n    <tr>\n      <th>'soot'</th>\n      <td>Column dropped</td>\n      <td>Column is completely missing</td>\n    </tr>\n  </tbody>\n</table>\n</div>"
     },
     "metadata": {},
     "output_type": "display_data"
    }
   ],
   "source": [
    "# Now we generate statistics\n",
    "test_set_copy_stats = tfdv.generate_statistics_from_dataframe(dataframe=test_set_copy)\n",
    "anomalies_copy = tfdv.validate_statistics(statistics=test_set_copy_stats, schema=schema)\n",
    "tfdv.display_anomalies(anomalies_copy)"
   ],
   "metadata": {
    "collapsed": false,
    "pycharm": {
     "name": "#%%\n"
    }
   }
  },
  {
   "cell_type": "markdown",
   "source": [
    "## Prepare the Schema for Serving\n",
    "\n",
    "We can create different environments and mention what in schema will present in what environment"
   ],
   "metadata": {
    "collapsed": false,
    "pycharm": {
     "name": "#%% md\n"
    }
   }
  },
  {
   "cell_type": "code",
   "execution_count": 19,
   "outputs": [],
   "source": [
    "# Lets create the environments\n",
    "schema.default_environment.append('TRAINING')\n",
    "schema.default_environment.append('SERVING')"
   ],
   "metadata": {
    "collapsed": false,
    "pycharm": {
     "name": "#%%\n"
    }
   }
  },
  {
   "cell_type": "markdown",
   "source": [
    "### We will remove the target column from the serving schema as that is the colum we will predict"
   ],
   "metadata": {
    "collapsed": false,
    "pycharm": {
     "name": "#%% md\n"
    }
   }
  },
  {
   "cell_type": "code",
   "execution_count": 20,
   "outputs": [],
   "source": [
    "tfdv.get_feature(schema, \"soot\").not_in_environment.append(\"SERVING\") # target variable will not be present in the serving environment"
   ],
   "metadata": {
    "collapsed": false,
    "pycharm": {
     "name": "#%%\n"
    }
   }
  },
  {
   "cell_type": "markdown",
   "source": [
    "# Now we will check for anomalies between SERVING environment and new test set"
   ],
   "metadata": {
    "collapsed": false,
    "pycharm": {
     "name": "#%% md\n"
    }
   }
  },
  {
   "cell_type": "code",
   "execution_count": 22,
   "outputs": [
    {
     "data": {
      "text/plain": "<IPython.core.display.HTML object>",
      "text/html": "<h4 style=\"color:green;\">No anomalies found.</h4>"
     },
     "metadata": {},
     "output_type": "display_data"
    }
   ],
   "source": [
    "serving_env_anomalies = tfdv.validate_statistics(test_set_copy_stats, schema=schema, environment=\"SERVING\")\n",
    "tfdv.display_anomalies(serving_env_anomalies)"
   ],
   "metadata": {
    "collapsed": false,
    "pycharm": {
     "name": "#%%\n"
    }
   }
  },
  {
   "cell_type": "markdown",
   "source": [
    "## Freezing the schema for later use - Useful for end to end pipeline"
   ],
   "metadata": {
    "collapsed": false,
    "pycharm": {
     "name": "#%% md\n"
    }
   }
  },
  {
   "cell_type": "code",
   "execution_count": 23,
   "outputs": [],
   "source": [
    "tfdv.write_schema_text(schema=schema, output_path=\"pollution_schema.pbtxt\")"
   ],
   "metadata": {
    "collapsed": false,
    "pycharm": {
     "name": "#%%\n"
    }
   }
  },
  {
   "cell_type": "code",
   "execution_count": null,
   "outputs": [],
   "source": [],
   "metadata": {
    "collapsed": false,
    "pycharm": {
     "name": "#%%\n"
    }
   }
  }
 ],
 "metadata": {
  "kernelspec": {
   "display_name": "Python 3",
   "language": "python",
   "name": "python3"
  },
  "language_info": {
   "codemirror_mode": {
    "name": "ipython",
    "version": 2
   },
   "file_extension": ".py",
   "mimetype": "text/x-python",
   "name": "python",
   "nbconvert_exporter": "python",
   "pygments_lexer": "ipython2",
   "version": "2.7.6"
  }
 },
 "nbformat": 4,
 "nbformat_minor": 0
}