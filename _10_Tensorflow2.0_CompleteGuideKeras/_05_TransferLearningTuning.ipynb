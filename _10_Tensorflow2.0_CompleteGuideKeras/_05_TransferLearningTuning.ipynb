{
 "cells": [
  {
   "cell_type": "markdown",
   "source": [
    "# Demonstrate Transfer Learning and Tuning\n",
    "\n",
    "Transfer Learning and Tuning demonstration on Cats and Dogs filtered dataset\n",
    "\n",
    "![alt text](https://live.staticflickr.com/4544/38228876666_3782386ca7_b.jpg)"
   ],
   "metadata": {
    "collapsed": false,
    "pycharm": {
     "name": "#%% md\n"
    }
   }
  },
  {
   "cell_type": "markdown",
   "source": [
    "## Library Imports"
   ],
   "metadata": {
    "collapsed": false,
    "pycharm": {
     "name": "#%% md\n"
    }
   }
  },
  {
   "cell_type": "code",
   "execution_count": 5,
   "outputs": [],
   "source": [
    "import os\n",
    "import numpy as np\n",
    "import matplotlib.pyplot as plt\n",
    "\n",
    "import tensorflow as tf\n",
    "from tensorflow.keras.preprocessing.image import ImageDataGenerator\n",
    "from tqdm import tqdm_notebook\n",
    "from sklearn.metrics import classification_report, confusion_matrix"
   ],
   "metadata": {
    "collapsed": false,
    "pycharm": {
     "name": "#%%\n"
    }
   }
  },
  {
   "cell_type": "markdown",
   "source": [
    "## Load the image dataset"
   ],
   "metadata": {
    "collapsed": false,
    "pycharm": {
     "name": "#%% md\n"
    }
   }
  },
  {
   "cell_type": "code",
   "execution_count": 6,
   "outputs": [
    {
     "name": "stdout",
     "output_type": "stream",
     "text": [
      "/Users/suvosmac/OneDrive/Datasets/LargeDatasets/cats_and_dogs_filtered\n"
     ]
    }
   ],
   "source": [
    "PARENT_DIR = os.environ.get(\"ONE_DRIVE\")\n",
    "DATA_DIR = 'Datasets/LargeDatasets/cats_and_dogs_filtered'\n",
    "DATA_DIR = os.path.join(PARENT_DIR, DATA_DIR)\n",
    "print(DATA_DIR)"
   ],
   "metadata": {
    "collapsed": false,
    "pycharm": {
     "name": "#%%\n"
    }
   }
  },
  {
   "cell_type": "code",
   "execution_count": 10,
   "outputs": [
    {
     "name": "stdout",
     "output_type": "stream",
     "text": [
      "First 5 names of the cats training images - ['cat.952.jpg', 'cat.946.jpg', 'cat.6.jpg', 'cat.749.jpg', 'cat.991.jpg']\n",
      "First 5 names of the dogs training images - ['dog.2266.jpg', 'dog.2272.jpg', 'dog.2299.jpg', 'dog.2058.jpg', 'dog.2064.jpg']\n",
      "Total Training Cats Images - 1000\n",
      "Total training dogs Images - 1000\n",
      "Total validation cats Images - 500\n",
      "Total validation dogs Images - 500\n"
     ]
    }
   ],
   "source": [
    "# Define the training and validation paths\n",
    "\n",
    "train_dir = os.path.join(DATA_DIR, 'train')\n",
    "validation_dir = os.path.join(DATA_DIR, 'validation')\n",
    "\n",
    "# Directory for training images\n",
    "train_cats_dir = os.path.join(train_dir, 'cats')\n",
    "train_dogs_dir = os.path.join(train_dir, 'dogs')\n",
    "\n",
    "# Directory for validation images\n",
    "validation_cats_dir = os.path.join(validation_dir, 'cats')\n",
    "validation_dogs_dir = os.path.join(validation_dir, 'dogs')\n",
    "\n",
    "# Check the first five names of the cats ang dogs\n",
    "cats_fnames = os.listdir(train_cats_dir)\n",
    "dogs_fnames = os.listdir(validation_dogs_dir)\n",
    "\n",
    "print(f\"First 5 names of the cats training images - {cats_fnames[:5]}\")\n",
    "print(f\"First 5 names of the dogs training images - {dogs_fnames[:5]}\")\n",
    "\n",
    "print(f\"Total Training Cats Images - {len(os.listdir(train_cats_dir))}\")\n",
    "print(f\"Total training dogs Images - {len(os.listdir(train_dogs_dir))}\")\n",
    "print(f\"Total validation cats Images - {len(os.listdir(validation_cats_dir))}\")\n",
    "print(f\"Total validation dogs Images - {len(os.listdir(validation_dogs_dir))}\")"
   ],
   "metadata": {
    "collapsed": false,
    "pycharm": {
     "name": "#%%\n"
    }
   }
  },
  {
   "cell_type": "markdown",
   "source": [
    "### Build the Image Data Generators"
   ],
   "metadata": {
    "collapsed": false,
    "pycharm": {
     "name": "#%% md\n"
    }
   }
  },
  {
   "cell_type": "code",
   "execution_count": 11,
   "outputs": [
    {
     "name": "stdout",
     "output_type": "stream",
     "text": [
      "Found 2000 images belonging to 2 classes.\n",
      "Found 1000 images belonging to 2 classes.\n"
     ]
    }
   ],
   "source": [
    "# we will preprocess the image, before we will apply the image to model for training\n",
    "# Adding data augmentation parameters\n",
    "\n",
    "train_datagen = ImageDataGenerator(rescale=1.0/255.0,\n",
    "                                   rotation_range=40,\n",
    "                                   width_shift_range=0.2,\n",
    "                                   height_shift_range=0.2,\n",
    "                                   shear_range=0.2,\n",
    "                                   zoom_range=0.2,\n",
    "                                   horizontal_flip=True)\n",
    "\n",
    "# Note that validation data should not be augmented\n",
    "test_datagen = ImageDataGenerator(rescale=1.0/255.0)\n",
    "\n",
    "# Flow training images in the batches of 20 using train datagen generator\n",
    "train_generator = train_datagen.flow_from_directory(train_dir, batch_size=20, class_mode='binary', target_size=(150, 150))\n",
    "\n",
    "# Flow validation images in the batches of 20 using test datagen generator\n",
    "validation_generator = test_datagen.flow_from_directory(validation_dir, batch_size=20, class_mode='binary', target_size=(150, 150))"
   ],
   "metadata": {
    "collapsed": false,
    "pycharm": {
     "name": "#%%\n"
    }
   }
  },
  {
   "cell_type": "code",
   "execution_count": null,
   "outputs": [],
   "source": [],
   "metadata": {
    "collapsed": false,
    "pycharm": {
     "name": "#%%\n"
    }
   }
  }
 ],
 "metadata": {
  "kernelspec": {
   "display_name": "Python 3",
   "language": "python",
   "name": "python3"
  },
  "language_info": {
   "codemirror_mode": {
    "name": "ipython",
    "version": 2
   },
   "file_extension": ".py",
   "mimetype": "text/x-python",
   "name": "python",
   "nbconvert_exporter": "python",
   "pygments_lexer": "ipython2",
   "version": "2.7.6"
  }
 },
 "nbformat": 4,
 "nbformat_minor": 0
}