{
 "cells": [
  {
   "cell_type": "markdown",
   "metadata": {},
   "source": [
    "## Single Neuron Model to Convert Celsius to Farenheit\n",
    "\n",
    "* In this project, we will build a simple machine learning model to convert from <em>celsius to fahrenheit</em>.\n",
    "* The equation is as follows: **T(°F) = T(°C) × 9/5 + 32**\n",
    "* For Example, let's convert 0°C celsius temperature to Fahrenheit: **(0°C × 9/5) + 32 = 32°F**\n",
    "\n",
    "\n",
    "<table>\n",
    "  <tr><td>\n",
    "    <img src=\"https://upload.wikimedia.org/wikipedia/commons/7/70/Thermometer_CF.svg\"\n",
    "         alt=\"Fashion MNIST sprite\"  width=\"600\">\n",
    "  </td></tr>\n",
    "  <tr><td align=\"center\">\n",
    "    <b>Figure 1. Convert Celsius to Fahrenheit [Image Source: https://commons.wikimedia.org/wiki/File:Thermometer_CF.svg]\n",
    "  </td></tr>\n",
    "</table>"
   ]
  },
  {
   "cell_type": "code",
   "execution_count": 1,
   "metadata": {},
   "outputs": [],
   "source": [
    "# Library imports\n",
    "\n",
    "import numpy as np\n",
    "import pandas as pd\n",
    "import matplotlib.pyplot as plt\n",
    "%matplotlib inline\n",
    "import seaborn as sns\n",
    "\n",
    "import tensorflow as tf"
   ]
  },
  {
   "cell_type": "code",
   "execution_count": 2,
   "metadata": {},
   "outputs": [],
   "source": [
    "# Note this code is only valid if GPU is being used for training\n",
    "\n",
    "# Before we run the parameter tuning, we will work with little gpu memory allocation\n",
    "# we will only use that much of memory of gpu as it is needed - allow the growth of gpu memory as it is needed\n",
    "\n",
    "gpus = tf.config.experimental.list_physical_devices('GPU')\n",
    "if gpus:\n",
    "  try:\n",
    "    # Currently, memory growth needs to be the same across GPUs\n",
    "    for gpu in gpus:\n",
    "      tf.config.experimental.set_memory_growth(gpu, True)\n",
    "    logical_gpus = tf.config.experimental.list_logical_devices('GPU')\n",
    "    print(len(gpus), \"Physical GPUs,\", len(logical_gpus), \"Logical GPUs\")\n",
    "  except RuntimeError as e:\n",
    "    # Memory growth must be set before GPUs have been initialized\n",
    "    print(e)"
   ]
  },
  {
   "cell_type": "markdown",
   "metadata": {},
   "source": [
    "### Load the dataset"
   ]
  },
  {
   "cell_type": "code",
   "execution_count": 4,
   "metadata": {},
   "outputs": [
    {
     "data": {
      "text/html": [
       "<div>\n",
       "<style scoped>\n",
       "    .dataframe tbody tr th:only-of-type {\n",
       "        vertical-align: middle;\n",
       "    }\n",
       "\n",
       "    .dataframe tbody tr th {\n",
       "        vertical-align: top;\n",
       "    }\n",
       "\n",
       "    .dataframe thead th {\n",
       "        text-align: right;\n",
       "    }\n",
       "</style>\n",
       "<table border=\"1\" class=\"dataframe\">\n",
       "  <thead>\n",
       "    <tr style=\"text-align: right;\">\n",
       "      <th></th>\n",
       "      <th>Celsius</th>\n",
       "      <th>Fahrenheit</th>\n",
       "    </tr>\n",
       "  </thead>\n",
       "  <tbody>\n",
       "    <tr>\n",
       "      <th>0</th>\n",
       "      <td>-50</td>\n",
       "      <td>-58.0</td>\n",
       "    </tr>\n",
       "    <tr>\n",
       "      <th>1</th>\n",
       "      <td>-40</td>\n",
       "      <td>-40.0</td>\n",
       "    </tr>\n",
       "    <tr>\n",
       "      <th>2</th>\n",
       "      <td>-30</td>\n",
       "      <td>-22.0</td>\n",
       "    </tr>\n",
       "    <tr>\n",
       "      <th>3</th>\n",
       "      <td>-20</td>\n",
       "      <td>-4.0</td>\n",
       "    </tr>\n",
       "    <tr>\n",
       "      <th>4</th>\n",
       "      <td>-10</td>\n",
       "      <td>14.0</td>\n",
       "    </tr>\n",
       "  </tbody>\n",
       "</table>\n",
       "</div>"
      ],
      "text/plain": [
       "   Celsius  Fahrenheit\n",
       "0      -50       -58.0\n",
       "1      -40       -40.0\n",
       "2      -30       -22.0\n",
       "3      -20        -4.0\n",
       "4      -10        14.0"
      ]
     },
     "execution_count": 4,
     "metadata": {},
     "output_type": "execute_result"
    }
   ],
   "source": [
    "temperature_df = pd.read_csv(\"./resources/Celsius-to-Fahrenheit.csv\")\n",
    "temperature_df.reset_index(drop=True, inplace=True)\n",
    "\n",
    "temperature_df.head()"
   ]
  },
  {
   "cell_type": "code",
   "execution_count": 5,
   "metadata": {},
   "outputs": [
    {
     "name": "stdout",
     "output_type": "stream",
     "text": [
      "<class 'pandas.core.frame.DataFrame'>\n",
      "RangeIndex: 30 entries, 0 to 29\n",
      "Data columns (total 2 columns):\n",
      " #   Column      Non-Null Count  Dtype  \n",
      "---  ------      --------------  -----  \n",
      " 0   Celsius     30 non-null     int64  \n",
      " 1   Fahrenheit  30 non-null     float64\n",
      "dtypes: float64(1), int64(1)\n",
      "memory usage: 608.0 bytes\n"
     ]
    }
   ],
   "source": [
    "# dataframe structure\n",
    "\n",
    "temperature_df.info()"
   ]
  },
  {
   "cell_type": "code",
   "execution_count": 6,
   "metadata": {},
   "outputs": [
    {
     "data": {
      "text/html": [
       "<div>\n",
       "<style scoped>\n",
       "    .dataframe tbody tr th:only-of-type {\n",
       "        vertical-align: middle;\n",
       "    }\n",
       "\n",
       "    .dataframe tbody tr th {\n",
       "        vertical-align: top;\n",
       "    }\n",
       "\n",
       "    .dataframe thead th {\n",
       "        text-align: right;\n",
       "    }\n",
       "</style>\n",
       "<table border=\"1\" class=\"dataframe\">\n",
       "  <thead>\n",
       "    <tr style=\"text-align: right;\">\n",
       "      <th></th>\n",
       "      <th>Celsius</th>\n",
       "      <th>Fahrenheit</th>\n",
       "    </tr>\n",
       "  </thead>\n",
       "  <tbody>\n",
       "    <tr>\n",
       "      <th>count</th>\n",
       "      <td>30.000000</td>\n",
       "      <td>30.000000</td>\n",
       "    </tr>\n",
       "    <tr>\n",
       "      <th>mean</th>\n",
       "      <td>2.000000</td>\n",
       "      <td>35.600000</td>\n",
       "    </tr>\n",
       "    <tr>\n",
       "      <th>std</th>\n",
       "      <td>22.780815</td>\n",
       "      <td>41.005466</td>\n",
       "    </tr>\n",
       "    <tr>\n",
       "      <th>min</th>\n",
       "      <td>-50.000000</td>\n",
       "      <td>-58.000000</td>\n",
       "    </tr>\n",
       "    <tr>\n",
       "      <th>25%</th>\n",
       "      <td>-6.750000</td>\n",
       "      <td>19.850000</td>\n",
       "    </tr>\n",
       "    <tr>\n",
       "      <th>50%</th>\n",
       "      <td>0.500000</td>\n",
       "      <td>32.900000</td>\n",
       "    </tr>\n",
       "    <tr>\n",
       "      <th>75%</th>\n",
       "      <td>7.750000</td>\n",
       "      <td>45.950000</td>\n",
       "    </tr>\n",
       "    <tr>\n",
       "      <th>max</th>\n",
       "      <td>60.000000</td>\n",
       "      <td>140.000000</td>\n",
       "    </tr>\n",
       "  </tbody>\n",
       "</table>\n",
       "</div>"
      ],
      "text/plain": [
       "         Celsius  Fahrenheit\n",
       "count  30.000000   30.000000\n",
       "mean    2.000000   35.600000\n",
       "std    22.780815   41.005466\n",
       "min   -50.000000  -58.000000\n",
       "25%    -6.750000   19.850000\n",
       "50%     0.500000   32.900000\n",
       "75%     7.750000   45.950000\n",
       "max    60.000000  140.000000"
      ]
     },
     "execution_count": 6,
     "metadata": {},
     "output_type": "execute_result"
    }
   ],
   "source": [
    "# summary statistics\n",
    "\n",
    "temperature_df.describe()"
   ]
  },
  {
   "cell_type": "markdown",
   "metadata": {},
   "source": [
    "### Visualize the dataset"
   ]
  },
  {
   "cell_type": "code",
   "execution_count": 7,
   "metadata": {},
   "outputs": [
    {
     "data": {
      "text/plain": [
       "Text(0.5, 1.0, 'Celsius vs Fahrenheit')"
      ]
     },
     "execution_count": 7,
     "metadata": {},
     "output_type": "execute_result"
    },
    {
     "data": {
      "image/png": "[encoded data removed]",
      "text/plain": [
       "<Figure size 720x432 with 1 Axes>"
      ]
     },
     "metadata": {
      "needs_background": "light"
     },
     "output_type": "display_data"
    }
   ],
   "source": [
    "plt.figure(figsize=(10, 6))\n",
    "plt.grid()\n",
    "sns.scatterplot(x='Celsius', y='Fahrenheit', data=temperature_df)\n",
    "plt.title(\"Celsius vs Fahrenheit\")"
   ]
  },
  {
   "cell_type": "markdown",
   "metadata": {},
   "source": [
    "### Creating training and test dataset"
   ]
  },
  {
   "cell_type": "code",
   "execution_count": 8,
   "metadata": {},
   "outputs": [],
   "source": [
    "# The dataset is so simple, we dont have a test dataset\n",
    "X_train = temperature_df['Celsius']\n",
    "y_train = temperature_df['Fahrenheit']"
   ]
  },
  {
   "cell_type": "markdown",
   "metadata": {},
   "source": [
    "### Build and train the model"
   ]
  },
  {
   "cell_type": "code",
   "execution_count": 9,
   "metadata": {},
   "outputs": [
    {
     "data": {
      "text/plain": [
       "(30,)"
      ]
     },
     "execution_count": 9,
     "metadata": {},
     "output_type": "execute_result"
    }
   ],
   "source": [
    "X_train.shape"
   ]
  },
  {
   "cell_type": "code",
   "execution_count": 10,
   "metadata": {},
   "outputs": [
    {
     "data": {
      "text/plain": [
       "(30,)"
      ]
     },
     "execution_count": 10,
     "metadata": {},
     "output_type": "execute_result"
    }
   ],
   "source": [
    "y_train.shape"
   ]
  },
  {
   "cell_type": "code",
   "execution_count": 11,
   "metadata": {},
   "outputs": [
    {
     "name": "stderr",
     "output_type": "stream",
     "text": [
      "2022-07-12 13:52:05.314139: I tensorflow/core/platform/cpu_feature_guard.cc:142] This TensorFlow binary is optimized with oneAPI Deep Neural Network Library (oneDNN) to use the following CPU instructions in performance-critical operations:  SSE4.1 SSE4.2 AVX AVX2 FMA\n",
      "To enable them in other operations, rebuild TensorFlow with the appropriate compiler flags.\n"
     ]
    }
   ],
   "source": [
    "# build the model\n",
    "\n",
    "model = tf.keras.models.Sequential()\n",
    "# This will have only one layer with one neuron\n",
    "model.add(tf.keras.layers.Dense(units=1, input_shape=[1]))"
   ]
  },
  {
   "cell_type": "code",
   "execution_count": 12,
   "metadata": {},
   "outputs": [
    {
     "name": "stdout",
     "output_type": "stream",
     "text": [
      "Model: \"sequential\"\n",
      "_________________________________________________________________\n",
      "Layer (type)                 Output Shape              Param #   \n",
      "=================================================================\n",
      "dense (Dense)                (None, 1)                 2         \n",
      "=================================================================\n",
      "Total params: 2\n",
      "Trainable params: 2\n",
      "Non-trainable params: 0\n",
      "_________________________________________________________________\n"
     ]
    }
   ],
   "source": [
    "# Check the model\n",
    "\n",
    "model.summary()"
   ]
  },
  {
   "cell_type": "code",
   "execution_count": 13,
   "metadata": {},
   "outputs": [],
   "source": [
    "# Compile the model\n",
    "\n",
    "model.compile(optimizer=tf.keras.optimizers.Adam(learning_rate=0.9), loss='mean_squared_error')"
   ]
  },
  {
   "cell_type": "code",
   "execution_count": 14,
   "metadata": {
    "scrolled": false
   },
   "outputs": [
    {
     "name": "stderr",
     "output_type": "stream",
     "text": [
      "2022-07-12 13:52:09.984280: I tensorflow/compiler/mlir/mlir_graph_optimization_pass.cc:116] None of the MLIR optimization passes are enabled (registered 2)\n"
     ]
    },
    {
     "name": "stdout",
     "output_type": "stream",
     "text": [
      "Epoch 1/100\n",
      "1/1 [==============================] - 0s 288ms/step - loss: 2801.5029\n",
      "Epoch 2/100\n",
      "1/1 [==============================] - 0s 2ms/step - loss: 1440.8357\n",
      "Epoch 3/100\n",
      "1/1 [==============================] - 0s 2ms/step - loss: 913.2850\n",
      "Epoch 4/100\n",
      "1/1 [==============================] - 0s 1ms/step - loss: 1011.5443\n",
      "Epoch 5/100\n",
      "1/1 [==============================] - 0s 2ms/step - loss: 1281.0647\n",
      "Epoch 6/100\n",
      "1/1 [==============================] - 0s 1ms/step - loss: 1357.6447\n",
      "Epoch 7/100\n",
      "1/1 [==============================] - 0s 1ms/step - loss: 1204.6813\n",
      "Epoch 8/100\n",
      "1/1 [==============================] - 0s 2ms/step - loss: 945.6688\n",
      "Epoch 9/100\n",
      "1/1 [==============================] - 0s 2ms/step - loss: 710.3854\n",
      "Epoch 10/100\n",
      "1/1 [==============================] - 0s 2ms/step - loss: 578.5656\n",
      "Epoch 11/100\n",
      "1/1 [==============================] - 0s 3ms/step - loss: 562.9970\n",
      "Epoch 12/100\n",
      "1/1 [==============================] - 0s 2ms/step - loss: 616.3747\n",
      "Epoch 13/100\n",
      "1/1 [==============================] - 0s 2ms/step - loss: 665.8447\n",
      "Epoch 14/100\n",
      "1/1 [==============================] - 0s 3ms/step - loss: 658.8106\n",
      "Epoch 15/100\n",
      "1/1 [==============================] - 0s 2ms/step - loss: 586.7437\n",
      "Epoch 16/100\n",
      "1/1 [==============================] - 0s 2ms/step - loss: 477.3012\n",
      "Epoch 17/100\n",
      "1/1 [==============================] - 0s 1ms/step - loss: 371.3973\n",
      "Epoch 18/100\n",
      "1/1 [==============================] - 0s 2ms/step - loss: 301.4416\n",
      "Epoch 19/100\n",
      "1/1 [==============================] - 0s 3ms/step - loss: 277.9510\n",
      "Epoch 20/100\n",
      "1/1 [==============================] - 0s 2ms/step - loss: 287.6774\n",
      "Epoch 21/100\n",
      "1/1 [==============================] - 0s 2ms/step - loss: 303.5913\n",
      "Epoch 22/100\n",
      "1/1 [==============================] - 0s 2ms/step - loss: 301.1869\n",
      "Epoch 23/100\n",
      "1/1 [==============================] - 0s 2ms/step - loss: 271.0367\n",
      "Epoch 24/100\n",
      "1/1 [==============================] - 0s 2ms/step - loss: 220.8600\n",
      "Epoch 25/100\n",
      "1/1 [==============================] - 0s 2ms/step - loss: 168.2813\n",
      "Epoch 26/100\n",
      "1/1 [==============================] - 0s 2ms/step - loss: 130.0977\n",
      "Epoch 27/100\n",
      "1/1 [==============================] - 0s 1ms/step - loss: 113.7807\n",
      "Epoch 28/100\n",
      "1/1 [==============================] - 0s 2ms/step - loss: 114.8574\n",
      "Epoch 29/100\n",
      "1/1 [==============================] - 0s 2ms/step - loss: 120.9339\n",
      "Epoch 30/100\n",
      "1/1 [==============================] - 0s 2ms/step - loss: 119.6389\n",
      "Epoch 31/100\n",
      "1/1 [==============================] - 0s 3ms/step - loss: 105.4957\n",
      "Epoch 32/100\n",
      "1/1 [==============================] - 0s 3ms/step - loss: 81.8332\n",
      "Epoch 33/100\n",
      "1/1 [==============================] - 0s 2ms/step - loss: 57.4451\n",
      "Epoch 34/100\n",
      "1/1 [==============================] - 0s 2ms/step - loss: 40.7518\n",
      "Epoch 35/100\n",
      "1/1 [==============================] - 0s 2ms/step - loss: 35.0468\n",
      "Epoch 36/100\n",
      "1/1 [==============================] - 0s 2ms/step - loss: 37.3019\n",
      "Epoch 37/100\n",
      "1/1 [==============================] - 0s 2ms/step - loss: 40.8118\n",
      "Epoch 38/100\n",
      "1/1 [==============================] - 0s 3ms/step - loss: 39.6873\n",
      "Epoch 39/100\n",
      "1/1 [==============================] - 0s 2ms/step - loss: 32.2302\n",
      "Epoch 40/100\n",
      "1/1 [==============================] - 0s 6ms/step - loss: 21.2654\n",
      "Epoch 41/100\n",
      "1/1 [==============================] - 0s 3ms/step - loss: 11.6778\n",
      "Epoch 42/100\n",
      "1/1 [==============================] - 0s 2ms/step - loss: 7.0659\n",
      "Epoch 43/100\n",
      "1/1 [==============================] - 0s 4ms/step - loss: 7.6721\n",
      "Epoch 44/100\n",
      "1/1 [==============================] - 0s 3ms/step - loss: 10.6974\n",
      "Epoch 45/100\n",
      "1/1 [==============================] - 0s 2ms/step - loss: 12.5060\n",
      "Epoch 46/100\n",
      "1/1 [==============================] - 0s 2ms/step - loss: 11.0594\n",
      "Epoch 47/100\n",
      "1/1 [==============================] - 0s 2ms/step - loss: 6.9607\n",
      "Epoch 48/100\n",
      "1/1 [==============================] - 0s 2ms/step - loss: 2.6197\n",
      "Epoch 49/100\n",
      "1/1 [==============================] - 0s 2ms/step - loss: 0.3618\n",
      "Epoch 50/100\n",
      "1/1 [==============================] - 0s 2ms/step - loss: 0.8747\n",
      "Epoch 51/100\n",
      "1/1 [==============================] - 0s 2ms/step - loss: 2.9787\n",
      "Epoch 52/100\n",
      "1/1 [==============================] - 0s 2ms/step - loss: 4.6967\n",
      "Epoch 53/100\n",
      "1/1 [==============================] - 0s 2ms/step - loss: 4.7147\n",
      "Epoch 54/100\n",
      "1/1 [==============================] - 0s 4ms/step - loss: 3.1688\n",
      "Epoch 55/100\n",
      "1/1 [==============================] - 0s 7ms/step - loss: 1.3077\n",
      "Epoch 56/100\n",
      "1/1 [==============================] - 0s 2ms/step - loss: 0.4301\n",
      "Epoch 57/100\n",
      "1/1 [==============================] - 0s 2ms/step - loss: 0.9491\n",
      "Epoch 58/100\n",
      "1/1 [==============================] - 0s 2ms/step - loss: 2.2298\n",
      "Epoch 59/100\n",
      "1/1 [==============================] - 0s 2ms/step - loss: 3.2050\n",
      "Epoch 60/100\n",
      "1/1 [==============================] - 0s 2ms/step - loss: 3.2125\n",
      "Epoch 61/100\n",
      "1/1 [==============================] - 0s 2ms/step - loss: 2.4096\n",
      "Epoch 62/100\n",
      "1/1 [==============================] - 0s 2ms/step - loss: 1.5219\n",
      "Epoch 63/100\n",
      "1/1 [==============================] - 0s 2ms/step - loss: 1.2113\n",
      "Epoch 64/100\n",
      "1/1 [==============================] - 0s 2ms/step - loss: 1.5897\n",
      "Epoch 65/100\n",
      "1/1 [==============================] - 0s 2ms/step - loss: 2.2227\n",
      "Epoch 66/100\n",
      "1/1 [==============================] - 0s 2ms/step - loss: 2.5473\n",
      "Epoch 67/100\n",
      "1/1 [==============================] - 0s 2ms/step - loss: 2.3233\n",
      "Epoch 68/100\n",
      "1/1 [==============================] - 0s 2ms/step - loss: 1.7661\n",
      "Epoch 69/100\n",
      "1/1 [==============================] - 0s 2ms/step - loss: 1.3062\n",
      "Epoch 70/100\n",
      "1/1 [==============================] - 0s 2ms/step - loss: 1.2185\n",
      "Epoch 71/100\n",
      "1/1 [==============================] - 0s 2ms/step - loss: 1.4332\n",
      "Epoch 72/100\n",
      "1/1 [==============================] - 0s 2ms/step - loss: 1.6485\n",
      "Epoch 73/100\n",
      "1/1 [==============================] - 0s 2ms/step - loss: 1.6109\n",
      "Epoch 74/100\n",
      "1/1 [==============================] - 0s 2ms/step - loss: 1.3118\n",
      "Epoch 75/100\n",
      "1/1 [==============================] - 0s 2ms/step - loss: 0.9552\n",
      "Epoch 76/100\n",
      "1/1 [==============================] - 0s 2ms/step - loss: 0.7576\n",
      "Epoch 77/100\n",
      "1/1 [==============================] - 0s 3ms/step - loss: 0.7701\n",
      "Epoch 78/100\n",
      "1/1 [==============================] - 0s 2ms/step - loss: 0.8643\n",
      "Epoch 79/100\n",
      "1/1 [==============================] - 0s 2ms/step - loss: 0.8698\n",
      "Epoch 80/100\n",
      "1/1 [==============================] - 0s 2ms/step - loss: 0.7235\n",
      "Epoch 81/100\n",
      "1/1 [==============================] - 0s 2ms/step - loss: 0.5054\n",
      "Epoch 82/100\n",
      "1/1 [==============================] - 0s 2ms/step - loss: 0.3474\n",
      "Epoch 83/100\n",
      "1/1 [==============================] - 0s 2ms/step - loss: 0.3127\n",
      "Epoch 84/100\n",
      "1/1 [==============================] - 0s 2ms/step - loss: 0.3537\n",
      "Epoch 85/100\n",
      "1/1 [==============================] - 0s 2ms/step - loss: 0.3715\n",
      "Epoch 86/100\n",
      "1/1 [==============================] - 0s 2ms/step - loss: 0.3097\n",
      "Epoch 87/100\n",
      "1/1 [==============================] - 0s 2ms/step - loss: 0.1964\n",
      "Epoch 88/100\n",
      "1/1 [==============================] - 0s 2ms/step - loss: 0.1048\n",
      "Epoch 89/100\n",
      "1/1 [==============================] - 0s 8ms/step - loss: 0.0811\n",
      "Epoch 90/100\n",
      "1/1 [==============================] - 0s 2ms/step - loss: 0.1080\n",
      "Epoch 91/100\n",
      "1/1 [==============================] - 0s 3ms/step - loss: 0.1303\n",
      "Epoch 92/100\n",
      "1/1 [==============================] - 0s 2ms/step - loss: 0.1104\n",
      "Epoch 93/100\n",
      "1/1 [==============================] - 0s 2ms/step - loss: 0.0585\n",
      "Epoch 94/100\n",
      "1/1 [==============================] - 0s 1ms/step - loss: 0.0151\n",
      "Epoch 95/100\n",
      "1/1 [==============================] - 0s 2ms/step - loss: 0.0084\n",
      "Epoch 96/100\n",
      "1/1 [==============================] - 0s 2ms/step - loss: 0.0304\n",
      "Epoch 97/100\n",
      "1/1 [==============================] - 0s 2ms/step - loss: 0.0502\n",
      "Epoch 98/100\n",
      "1/1 [==============================] - 0s 2ms/step - loss: 0.0459\n",
      "Epoch 99/100\n",
      "1/1 [==============================] - 0s 2ms/step - loss: 0.0230\n",
      "Epoch 100/100\n",
      "1/1 [==============================] - 0s 2ms/step - loss: 0.0044\n"
     ]
    }
   ],
   "source": [
    "# train the model\n",
    "\n",
    "epochs_hist = model.fit(X_train, y_train, epochs=100)"
   ]
  },
  {
   "cell_type": "markdown",
   "metadata": {},
   "source": [
    "### Evaluating the model"
   ]
  },
  {
   "cell_type": "code",
   "execution_count": 15,
   "metadata": {},
   "outputs": [
    {
     "data": {
      "text/plain": [
       "dict_keys(['loss'])"
      ]
     },
     "execution_count": 15,
     "metadata": {},
     "output_type": "execute_result"
    }
   ],
   "source": [
    "# lets visualize the loss\n",
    "epochs_hist.history.keys()"
   ]
  },
  {
   "cell_type": "code",
   "execution_count": 16,
   "metadata": {},
   "outputs": [
    {
     "data": {
      "text/plain": [
       "<matplotlib.legend.Legend at 0x7fcdf4d866a0>"
      ]
     },
     "execution_count": 16,
     "metadata": {},
     "output_type": "execute_result"
    },
    {
     "data": {
      "image/png": "[encoded data removed]",
      "text/plain": [
       "<Figure size 720x432 with 1 Axes>"
      ]
     },
     "metadata": {
      "needs_background": "light"
     },
     "output_type": "display_data"
    }
   ],
   "source": [
    "plt.figure(figsize=(10, 6))\n",
    "plt.grid()\n",
    "plt.plot(epochs_hist.history['loss'])\n",
    "plt.title(\"Model Loss progress During Training\")\n",
    "plt.xlabel(\"Epochs\")\n",
    "plt.ylabel(\"Training Loss\")\n",
    "plt.legend(['Training Loss'])"
   ]
  },
  {
   "cell_type": "code",
   "execution_count": 17,
   "metadata": {},
   "outputs": [
    {
     "data": {
      "text/plain": [
       "[array([[1.8024687]], dtype=float32), array([31.94281], dtype=float32)]"
      ]
     },
     "execution_count": 17,
     "metadata": {},
     "output_type": "execute_result"
    }
   ],
   "source": [
    "# Now get the optimum weights the model has decided\n",
    "\n",
    "model.get_weights()"
   ]
  },
  {
   "cell_type": "code",
   "execution_count": 18,
   "metadata": {},
   "outputs": [
    {
     "name": "stdout",
     "output_type": "stream",
     "text": [
      "Temperature in degF using the trained ANN =  [[31.94281]]\n"
     ]
    }
   ],
   "source": [
    "# we will use this model for prediction\n",
    "\n",
    "Temp_C = 0\n",
    "\n",
    "Temp_F = model.predict([Temp_C])\n",
    "print(\"Temperature in degF using the trained ANN = \", Temp_F)"
   ]
  }
 ],
 "metadata": {
  "kernelspec": {
   "display_name": "Python 3.9.12 ('tensorflow')",
   "language": "python",
   "name": "python3"
  },
  "language_info": {
   "codemirror_mode": {
    "name": "ipython",
    "version": 3
   },
   "file_extension": ".py",
   "mimetype": "text/x-python",
   "name": "python",
   "nbconvert_exporter": "python",
   "pygments_lexer": "ipython3",
   "version": "3.9.12"
  },
  "vscode": {
   "interpreter": {
    "hash": "36d15a43ff7fd130b7acf4067b2348996c307563590126dfcb551aae98a1a484"
   }
  }
 },
 "nbformat": 4,
 "nbformat_minor": 2
}
