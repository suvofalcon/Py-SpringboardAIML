{
 "cells": [
  {
   "cell_type": "markdown",
   "metadata": {
    "collapsed": true,
    "pycharm": {
     "name": "#%% md\n"
    }
   },
   "source": [
    "# Demonstrate Tokenizer Basics"
   ]
  },
  {
   "cell_type": "code",
   "execution_count": 9,
   "outputs": [
    {
     "name": "stdout",
     "output_type": "stream",
     "text": [
      "Word Index - {'<OOV>': 1, 'my': 2, 'love': 3, 'dog': 4, 'i': 5, 'you': 6, 'cat': 7, 'do': 8, 'think': 9, 'is': 10, 'amazing': 11}\n",
      "\n",
      "Sentence Sequences\n",
      "[[5, 3, 2, 4], [5, 3, 2, 7], [6, 3, 2, 4], [8, 6, 9, 2, 4, 10, 11]]\n",
      "\n",
      "Padded Sequences\n",
      "[[ 5  3  2  4  0  0  0]\n",
      " [ 5  3  2  7  0  0  0]\n",
      " [ 6  3  2  4  0  0  0]\n",
      " [ 8  6  9  2  4 10 11]]\n"
     ]
    }
   ],
   "source": [
    "from tensorflow.keras.preprocessing.text import Tokenizer\n",
    "from tensorflow.keras.preprocessing.sequence import pad_sequences  # padding sequence will make all the sequences uniform length\n",
    "\n",
    "sentences = ['I love my dog',\n",
    "             'i love my cat',\n",
    "             'you love my dog!!',\n",
    "             'Do you think my dog is amazing?'\n",
    "             ]\n",
    "\n",
    "tokenizer = Tokenizer(num_words=100, oov_token=\"<OOV>\")\n",
    "tokenizer.fit_on_texts(sentences)\n",
    "word_index = tokenizer.word_index\n",
    "print(f\"Word Index - {word_index}\") # Every word is going to be assigned a unique token as key-value pair\n",
    "\n",
    "sequences = tokenizer.texts_to_sequences(sentences)\n",
    "padded = pad_sequences(sequences, padding='post')\n",
    "print(\"\\nSentence Sequences\")\n",
    "print(sequences) # using those token every sentence will be represented as a sequence of tokens\n",
    "print(\"\\nPadded Sequences\")\n",
    "print(padded)"
   ],
   "metadata": {
    "collapsed": false,
    "pycharm": {
     "name": "#%%\n"
    }
   }
  },
  {
   "cell_type": "code",
   "execution_count": 10,
   "outputs": [
    {
     "name": "stdout",
     "output_type": "stream",
     "text": [
      "\n",
      "Test Sentence Sequences\n",
      "[[5, 1, 3, 2, 4], [2, 4, 1, 2, 1, 1, 1, 1]]\n",
      "\n",
      "Test Sentence Padding\n",
      "[[5 1 3 2 4 0 0 0]\n",
      " [2 4 1 2 1 1 1 1]]\n"
     ]
    }
   ],
   "source": [
    "# Use the same tokenizer on some test data\n",
    "test_data = ['i really love my dog',\n",
    "             'my dog loves my mantee more than me']\n",
    "\n",
    "test_seq = tokenizer.texts_to_sequences(test_data)\n",
    "test_padded = pad_sequences(test_seq, padding='post')\n",
    "print(\"\\nTest Sentence Sequences\")\n",
    "print(test_seq) # The unseen word in the test_data will be assigned the token of the oov_token word.\n",
    "print(\"\\nTest Sentence Padding\")\n",
    "print(test_padded)"
   ],
   "metadata": {
    "collapsed": false,
    "pycharm": {
     "name": "#%%\n"
    }
   }
  },
  {
   "cell_type": "code",
   "execution_count": null,
   "outputs": [],
   "source": [],
   "metadata": {
    "collapsed": false,
    "pycharm": {
     "name": "#%%\n"
    }
   }
  }
 ],
 "metadata": {
  "kernelspec": {
   "display_name": "Python 3",
   "language": "python",
   "name": "python3"
  },
  "language_info": {
   "codemirror_mode": {
    "name": "ipython",
    "version": 2
   },
   "file_extension": ".py",
   "mimetype": "text/x-python",
   "name": "python",
   "nbconvert_exporter": "python",
   "pygments_lexer": "ipython2",
   "version": "2.7.6"
  }
 },
 "nbformat": 4,
 "nbformat_minor": 0
}