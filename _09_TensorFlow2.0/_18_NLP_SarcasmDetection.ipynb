{
 "cells": [
  {
   "cell_type": "markdown",
   "metadata": {
    "collapsed": true,
    "pycharm": {
     "name": "#%% md\n"
    }
   },
   "source": [
    "# Sarcasm Detection using Tensorflow\n",
    "\n",
    "Past studies in Sarcasm Detection mostly make use of Twitter datasets collected using hashtag based supervision but such datasets are noisy in terms of labels and language. Furthermore, many tweets are replies to other tweets and detecting sarcasm in these requires the availability of contextual tweets.\n",
    "\n",
    "To overcome the limitations related to noise in Twitter datasets, this News Headlines dataset for Sarcasm Detection is collected from two news website. TheOnion aims at producing sarcastic versions of current events and we collected all the headlines from News in Brief and News in Photos categories (which are sarcastic). We collect real (and non-sarcastic) news headlines from HuffPost.\n",
    "\n",
    "This new dataset has following advantages over the existing Twitter datasets:\n",
    "\n",
    "Since news headlines are written by professionals in a formal manner, there are no spelling mistakes and informal usage. This reduces the sparsity and also increases the chance of finding pre-trained embeddings.\n",
    "\n",
    "Furthermore, since the sole purpose of TheOnion is to publish sarcastic news, we get high-quality labels with much less noise as compared to Twitter datasets.\n",
    "\n",
    "Unlike tweets which are replies to other tweets, the news headlines we obtained are self-contained. This would help us in teasing apart the real sarcastic elements.\n",
    "\n",
    "**Content**\n",
    "Each record consists of three attributes:\n",
    "\n",
    "is_sarcastic: 1 if the record is sarcastic otherwise 0\n",
    "\n",
    "headline: the headline of the news article\n",
    "\n",
    "article_link: link to the original news article. Useful in collecting supplementary data\n",
    "\n",
    "***\n",
    "The concept is to perform tokenizing the words to get numeric values from them and then using Embeddings to group words of similar meaning,\n",
    "depending on how they are labelled resulting in a good but rough sentiment analysis\n",
    "***"
   ]
  },
  {
   "cell_type": "markdown",
   "source": [
    "### Load the json data"
   ],
   "metadata": {
    "collapsed": false,
    "pycharm": {
     "name": "#%% md\n"
    }
   }
  },
  {
   "cell_type": "code",
   "execution_count": 39,
   "outputs": [],
   "source": [
    "import json\n",
    "import numpy as np\n",
    "\n",
    "def parse_data(file):\n",
    "    for l in open(file,'r'):\n",
    "        yield json.loads(l)\n",
    "\n",
    "datastore = list(parse_data('resources/Sarcasm_Headlines_Dataset.json'))"
   ],
   "metadata": {
    "collapsed": false,
    "pycharm": {
     "name": "#%%\n"
    }
   }
  },
  {
   "cell_type": "code",
   "execution_count": 40,
   "outputs": [],
   "source": [
    "# define the attribues from the json data\n",
    "sentences = []\n",
    "labels = []\n",
    "urls = []\n",
    "\n",
    "for item in datastore:\n",
    "    sentences.append(item['headline'])\n",
    "    labels.append(item['is_sarcastic'])\n",
    "    urls.append(item['article_link'])"
   ],
   "metadata": {
    "collapsed": false,
    "pycharm": {
     "name": "#%%\n"
    }
   }
  },
  {
   "cell_type": "markdown",
   "source": [
    "### Now we have the relevant fields from the json in individual lists.. we would use the one which needed"
   ],
   "metadata": {
    "collapsed": false,
    "pycharm": {
     "name": "#%% md\n"
    }
   }
  },
  {
   "cell_type": "code",
   "execution_count": 41,
   "outputs": [],
   "source": [
    "# Define some hyper parameters\n",
    "vocab_size = 1000\n",
    "embedding_dim = 32\n",
    "max_length = 100\n",
    "trunc_type = 'post'\n",
    "padding_type = 'post'\n",
    "oov_tok = '<oov>'\n",
    "training_size = 20000"
   ],
   "metadata": {
    "collapsed": false,
    "pycharm": {
     "name": "#%%\n"
    }
   }
  },
  {
   "cell_type": "code",
   "execution_count": 42,
   "outputs": [],
   "source": [
    "# Split into training and validation data\n",
    "training_sentences = sentences[0:training_size]\n",
    "testing_sentences = sentences[training_size:]\n",
    "training_labels = labels[0:20000]\n",
    "testing_labels = labels[20000:]\n",
    "\n",
    "# Convert labels to numpy array for feeding into neural network\n",
    "training_labels = np.array(training_labels)\n",
    "testing_labels = np.array(testing_labels)"
   ],
   "metadata": {
    "collapsed": false,
    "pycharm": {
     "name": "#%%\n"
    }
   }
  },
  {
   "cell_type": "code",
   "execution_count": 43,
   "outputs": [],
   "source": [
    "import tensorflow as tf\n",
    "from tensorflow.keras.preprocessing.text import Tokenizer\n",
    "from tensorflow.keras.preprocessing.sequence import pad_sequences\n",
    "\n",
    "tokenizer = Tokenizer(num_words=vocab_size, oov_token=oov_tok)\n",
    "tokenizer.fit_on_texts(training_sentences)\n",
    "\n",
    "word_index = tokenizer.word_index\n",
    "\n",
    "training_sequences = tokenizer.texts_to_sequences(training_sentences)\n",
    "training_padded = pad_sequences(training_sequences, maxlen=max_length, padding=padding_type, truncating=trunc_type)\n",
    "\n",
    "testing_sequences = tokenizer.texts_to_sequences(testing_sentences)\n",
    "testing_padded = pad_sequences(testing_sequences, maxlen=max_length, padding=padding_type, truncating=trunc_type)"
   ],
   "metadata": {
    "collapsed": false,
    "pycharm": {
     "name": "#%%\n"
    }
   }
  },
  {
   "cell_type": "markdown",
   "source": [
    "### Build and train the Neural Network model"
   ],
   "metadata": {
    "collapsed": false,
    "pycharm": {
     "name": "#%% md\n"
    }
   }
  },
  {
   "cell_type": "code",
   "execution_count": 44,
   "outputs": [
    {
     "name": "stdout",
     "output_type": "stream",
     "text": [
      "Model: \"sequential_4\"\n",
      "_________________________________________________________________\n",
      "Layer (type)                 Output Shape              Param #   \n",
      "=================================================================\n",
      "embedding_4 (Embedding)      (None, 100, 32)           32000     \n",
      "_________________________________________________________________\n",
      "global_average_pooling1d_4 ( (None, 32)                0         \n",
      "_________________________________________________________________\n",
      "dense_8 (Dense)              (None, 24)                792       \n",
      "_________________________________________________________________\n",
      "dense_9 (Dense)              (None, 1)                 25        \n",
      "=================================================================\n",
      "Total params: 32,817\n",
      "Trainable params: 32,817\n",
      "Non-trainable params: 0\n",
      "_________________________________________________________________\n"
     ]
    }
   ],
   "source": [
    "model = tf.keras.Sequential([\n",
    "    tf.keras.layers.Embedding(vocab_size, embedding_dim, input_length=max_length),\n",
    "    tf.keras.layers.GlobalAveragePooling1D(),\n",
    "    tf.keras.layers.Dense(24, activation=tf.nn.relu),\n",
    "    tf.keras.layers.Dense(1, activation=tf.nn.sigmoid)\n",
    "])\n",
    "\n",
    "model.summary()"
   ],
   "metadata": {
    "collapsed": false,
    "pycharm": {
     "name": "#%%\n"
    }
   }
  },
  {
   "cell_type": "code",
   "execution_count": 45,
   "outputs": [
    {
     "name": "stdout",
     "output_type": "stream",
     "text": [
      "Epoch 1/30\n",
      "625/625 [==============================] - 1s 1ms/step - loss: 0.6751 - accuracy: 0.5726 - val_loss: 0.5184 - val_accuracy: 0.7719\n",
      "Epoch 2/30\n",
      "625/625 [==============================] - 1s 1ms/step - loss: 0.4618 - accuracy: 0.7981 - val_loss: 0.4227 - val_accuracy: 0.8034\n",
      "Epoch 3/30\n",
      "625/625 [==============================] - 1s 1ms/step - loss: 0.3924 - accuracy: 0.8225 - val_loss: 0.4052 - val_accuracy: 0.8126\n",
      "Epoch 4/30\n",
      "625/625 [==============================] - 1s 1ms/step - loss: 0.3721 - accuracy: 0.8312 - val_loss: 0.4027 - val_accuracy: 0.8147\n",
      "Epoch 5/30\n",
      "625/625 [==============================] - 1s 1ms/step - loss: 0.3638 - accuracy: 0.8354 - val_loss: 0.4014 - val_accuracy: 0.8158\n",
      "Epoch 6/30\n",
      "625/625 [==============================] - 1s 1ms/step - loss: 0.3568 - accuracy: 0.8399 - val_loss: 0.4045 - val_accuracy: 0.8101\n",
      "Epoch 7/30\n",
      "625/625 [==============================] - 1s 1ms/step - loss: 0.3547 - accuracy: 0.8398 - val_loss: 0.4028 - val_accuracy: 0.8147\n",
      "Epoch 8/30\n",
      "625/625 [==============================] - 1s 2ms/step - loss: 0.3564 - accuracy: 0.8363 - val_loss: 0.4047 - val_accuracy: 0.8106\n",
      "Epoch 9/30\n",
      "625/625 [==============================] - 1s 2ms/step - loss: 0.3486 - accuracy: 0.8416 - val_loss: 0.4053 - val_accuracy: 0.8150\n",
      "Epoch 10/30\n",
      "625/625 [==============================] - 1s 2ms/step - loss: 0.3449 - accuracy: 0.8450 - val_loss: 0.4107 - val_accuracy: 0.8094\n",
      "Epoch 11/30\n",
      "625/625 [==============================] - 1s 2ms/step - loss: 0.3460 - accuracy: 0.8442 - val_loss: 0.4119 - val_accuracy: 0.8120\n",
      "Epoch 12/30\n",
      "625/625 [==============================] - 1s 2ms/step - loss: 0.3475 - accuracy: 0.8431 - val_loss: 0.4102 - val_accuracy: 0.8134\n",
      "Epoch 13/30\n",
      "625/625 [==============================] - 1s 1ms/step - loss: 0.3543 - accuracy: 0.8354 - val_loss: 0.4099 - val_accuracy: 0.8116\n",
      "Epoch 14/30\n",
      "625/625 [==============================] - 1s 1ms/step - loss: 0.3495 - accuracy: 0.8400 - val_loss: 0.4118 - val_accuracy: 0.8106\n",
      "Epoch 15/30\n",
      "625/625 [==============================] - 1s 1ms/step - loss: 0.3492 - accuracy: 0.8397 - val_loss: 0.4099 - val_accuracy: 0.8144\n",
      "Epoch 16/30\n",
      "625/625 [==============================] - 1s 1ms/step - loss: 0.3479 - accuracy: 0.8397 - val_loss: 0.4160 - val_accuracy: 0.8074\n",
      "Epoch 17/30\n",
      "625/625 [==============================] - 1s 1ms/step - loss: 0.3444 - accuracy: 0.8430 - val_loss: 0.4296 - val_accuracy: 0.8058\n",
      "Epoch 18/30\n",
      "625/625 [==============================] - 1s 2ms/step - loss: 0.3446 - accuracy: 0.8430 - val_loss: 0.4240 - val_accuracy: 0.8083\n",
      "Epoch 19/30\n",
      "625/625 [==============================] - 1s 1ms/step - loss: 0.3470 - accuracy: 0.8420 - val_loss: 0.4110 - val_accuracy: 0.8129\n",
      "Epoch 20/30\n",
      "625/625 [==============================] - 1s 1ms/step - loss: 0.3510 - accuracy: 0.8378 - val_loss: 0.4174 - val_accuracy: 0.8070\n",
      "Epoch 21/30\n",
      "625/625 [==============================] - 1s 1ms/step - loss: 0.3500 - accuracy: 0.8425 - val_loss: 0.4138 - val_accuracy: 0.8113\n",
      "Epoch 22/30\n",
      "625/625 [==============================] - 1s 1ms/step - loss: 0.3435 - accuracy: 0.8425 - val_loss: 0.4197 - val_accuracy: 0.8055\n",
      "Epoch 23/30\n",
      "625/625 [==============================] - 1s 1ms/step - loss: 0.3431 - accuracy: 0.8435 - val_loss: 0.4122 - val_accuracy: 0.8103\n",
      "Epoch 24/30\n",
      "625/625 [==============================] - 1s 1ms/step - loss: 0.3484 - accuracy: 0.8423 - val_loss: 0.4123 - val_accuracy: 0.8123\n",
      "Epoch 25/30\n",
      "625/625 [==============================] - 1s 1ms/step - loss: 0.3505 - accuracy: 0.8391 - val_loss: 0.4205 - val_accuracy: 0.8062\n",
      "Epoch 26/30\n",
      "625/625 [==============================] - 1s 1ms/step - loss: 0.3508 - accuracy: 0.8357 - val_loss: 0.4176 - val_accuracy: 0.8067\n",
      "Epoch 27/30\n",
      "625/625 [==============================] - 1s 1ms/step - loss: 0.3382 - accuracy: 0.8462 - val_loss: 0.4123 - val_accuracy: 0.8113\n",
      "Epoch 28/30\n",
      "625/625 [==============================] - 1s 1ms/step - loss: 0.3440 - accuracy: 0.8431 - val_loss: 0.4133 - val_accuracy: 0.8101\n",
      "Epoch 29/30\n",
      "625/625 [==============================] - 1s 1ms/step - loss: 0.3458 - accuracy: 0.8429 - val_loss: 0.4124 - val_accuracy: 0.8122\n",
      "Epoch 30/30\n",
      "625/625 [==============================] - 1s 1ms/step - loss: 0.3483 - accuracy: 0.8395 - val_loss: 0.4235 - val_accuracy: 0.8040\n"
     ]
    }
   ],
   "source": [
    "model.compile(loss='binary_crossentropy', optimizer='adam', metrics=['accuracy'])\n",
    "num_epochs = 30\n",
    "\n",
    "history = model.fit(training_padded, training_labels, epochs=num_epochs,\n",
    "                    validation_data=(testing_padded, testing_labels), verbose=1)"
   ],
   "metadata": {
    "collapsed": false,
    "pycharm": {
     "name": "#%%\n"
    }
   }
  },
  {
   "cell_type": "markdown",
   "source": [
    "### Evaluate the accuracy and loss"
   ],
   "metadata": {
    "collapsed": false
   }
  },
  {
   "cell_type": "code",
   "execution_count": 46,
   "outputs": [
    {
     "data": {
      "text/plain": "<Figure size 432x288 with 1 Axes>",
      "image/png": "[encoded data removed]"
     },
     "metadata": {
      "needs_background": "light"
     },
     "output_type": "display_data"
    },
    {
     "data": {
      "text/plain": "<Figure size 432x288 with 1 Axes>",
      "image/png": "[encoded data removed]"
     },
     "metadata": {
      "needs_background": "light"
     },
     "output_type": "display_data"
    }
   ],
   "source": [
    "import matplotlib.pyplot as plt\n",
    "\n",
    "acc      = history.history['accuracy']\n",
    "val_acc  = history.history['val_accuracy']\n",
    "loss     = history.history['loss']\n",
    "val_loss = history.history['val_loss']\n",
    "\n",
    "epochs   = range(len(acc)) # Get number of epochs\n",
    "\n",
    "#------------------------------------------------\n",
    "# Plot training and validation accuracy per epoch\n",
    "#------------------------------------------------\n",
    "plt.plot  ( epochs, acc, label='Training Accuracy' )\n",
    "plt.plot  ( epochs, val_acc, label='Validation Accuracy' )\n",
    "plt.title ('Training and validation accuracy')\n",
    "plt.legend()\n",
    "plt.show()\n",
    "\n",
    "#------------------------------------------------\n",
    "# Plot training and validation loss per epoch\n",
    "#------------------------------------------------\n",
    "plt.plot  ( epochs, loss, label='Training Loss' )\n",
    "plt.plot  ( epochs, val_loss, label='Validation Loss' )\n",
    "plt.title ('Training and validation loss'   )\n",
    "plt.legend()\n",
    "plt.show()"
   ],
   "metadata": {
    "collapsed": false,
    "pycharm": {
     "name": "#%%\n"
    }
   }
  },
  {
   "cell_type": "markdown",
   "source": [
    "### Now we will evaluate with a new sentence"
   ],
   "metadata": {
    "collapsed": false
   }
  },
  {
   "cell_type": "code",
   "execution_count": 47,
   "outputs": [
    {
     "name": "stdout",
     "output_type": "stream",
     "text": [
      "[[0.2683537 ]\n",
      " [0.48872644]]\n"
     ]
    }
   ],
   "source": [
    "new_sentence = [\"granny starting to fear spiders in the garden might be real\",\n",
    "                \"game of thrones season finale showing this sunday night\"]\n",
    "\n",
    "new_sequence = tokenizer.texts_to_sequences(new_sentence)\n",
    "new_pad = pad_sequences(new_sequence, maxlen=max_length, padding=padding_type, truncating=trunc_type)\n",
    "print(model.predict(new_pad))"
   ],
   "metadata": {
    "collapsed": false,
    "pycharm": {
     "name": "#%%\n"
    }
   }
  },
  {
   "cell_type": "code",
   "execution_count": null,
   "outputs": [],
   "source": [],
   "metadata": {
    "collapsed": false,
    "pycharm": {
     "name": "#%%\n"
    }
   }
  }
 ],
 "metadata": {
  "kernelspec": {
   "display_name": "Python 3",
   "language": "python",
   "name": "python3"
  },
  "language_info": {
   "codemirror_mode": {
    "name": "ipython",
    "version": 2
   },
   "file_extension": ".py",
   "mimetype": "text/x-python",
   "name": "python",
   "nbconvert_exporter": "python",
   "pygments_lexer": "ipython2",
   "version": "2.7.6"
  }
 },
 "nbformat": 4,
 "nbformat_minor": 0
}