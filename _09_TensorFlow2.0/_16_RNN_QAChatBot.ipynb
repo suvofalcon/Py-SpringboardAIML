{
 "cells": [
  {
   "cell_type": "markdown",
   "metadata": {},
   "source": [
    "# Question and Answer Chat Bots"
   ]
  },
  {
   "cell_type": "markdown",
   "metadata": {},
   "source": [
    "## Loading the Data\n",
    "\n",
    "We will be working with the Babi Data Set from Facebook Research.\n",
    "\n",
    "Full Details: https://research.fb.com/downloads/babi/\n",
    "\n",
    "- Jason Weston, Antoine Bordes, Sumit Chopra, Tomas Mikolov, Alexander M. Rush,\n",
    "  \"Towards AI-Complete Question Answering: A Set of Prerequisite Toy Tasks\",\n",
    "  http://arxiv.org/abs/1502.05698\n"
   ]
  },
  {
   "cell_type": "code",
   "execution_count": 1,
   "metadata": {},
   "outputs": [],
   "source": [
    "import pickle\n",
    "import numpy as np"
   ]
  },
  {
   "cell_type": "code",
   "execution_count": 2,
   "metadata": {},
   "outputs": [],
   "source": [
    "with open('resources/train_qa.txt', \"rb\") as fp: # Unpickling\n",
    "    train_data = pickle.load(fp)"
   ]
  },
  {
   "cell_type": "code",
   "execution_count": 3,
   "metadata": {},
   "outputs": [],
   "source": [
    "with open('resources/test_qa.txt', \"rb\") as fp: # Unpickling\n",
    "    test_data = pickle.load(fp)"
   ]
  },
  {
   "cell_type": "markdown",
   "metadata": {},
   "source": [
    "## Exploring the Format of the Data"
   ]
  },
  {
   "cell_type": "code",
   "execution_count": 4,
   "metadata": {},
   "outputs": [
    {
     "name": "stdout",
     "output_type": "stream",
     "text": [
      "The type of train_data : <class 'list'>\n"
     ]
    }
   ],
   "source": [
    "# The type of the training and test data is a list\n",
    "print(f'The type of train_data : {type(train_data)}')"
   ]
  },
  {
   "cell_type": "code",
   "execution_count": 5,
   "metadata": {},
   "outputs": [
    {
     "name": "stdout",
     "output_type": "stream",
     "text": [
      "The length of train_data : 10000\n",
      "The length of test_data : 1000\n"
     ]
    }
   ],
   "source": [
    "# Length of the train and test data\n",
    "print(f'The length of train_data : {len(train_data)}')\n",
    "print(f'The length of test_data : {len(test_data)}')"
   ]
  },
  {
   "cell_type": "code",
   "execution_count": 12,
   "metadata": {},
   "outputs": [
    {
     "data": {
      "text/plain": [
       "(['Mary',\n",
       "  'moved',\n",
       "  'to',\n",
       "  'the',\n",
       "  'bathroom',\n",
       "  '.',\n",
       "  'Sandra',\n",
       "  'journeyed',\n",
       "  'to',\n",
       "  'the',\n",
       "  'bedroom',\n",
       "  '.'],\n",
       " ['Is', 'Sandra', 'in', 'the', 'hallway', '?'],\n",
       " 'no')"
      ]
     },
     "execution_count": 12,
     "metadata": {},
     "output_type": "execute_result"
    }
   ],
   "source": [
    "# Explore the first element of the list\n",
    "train_data[0]"
   ]
  },
  {
   "cell_type": "code",
   "execution_count": 13,
   "metadata": {},
   "outputs": [
    {
     "data": {
      "text/plain": [
       "['Mary',\n",
       " 'moved',\n",
       " 'to',\n",
       " 'the',\n",
       " 'bathroom',\n",
       " '.',\n",
       " 'Sandra',\n",
       " 'journeyed',\n",
       " 'to',\n",
       " 'the',\n",
       " 'bedroom',\n",
       " '.']"
      ]
     },
     "execution_count": 13,
     "metadata": {},
     "output_type": "execute_result"
    }
   ],
   "source": [
    "# Explore the story in the first element\n",
    "train_data[0][0]"
   ]
  },
  {
   "cell_type": "code",
   "execution_count": 14,
   "metadata": {},
   "outputs": [
    {
     "data": {
      "text/plain": [
       "['Is', 'Sandra', 'in', 'the', 'hallway', '?']"
      ]
     },
     "execution_count": 14,
     "metadata": {},
     "output_type": "execute_result"
    }
   ],
   "source": [
    "# Explore the Question in the first element\n",
    "train_data[0][1]"
   ]
  },
  {
   "cell_type": "code",
   "execution_count": 15,
   "metadata": {},
   "outputs": [
    {
     "data": {
      "text/plain": [
       "'no'"
      ]
     },
     "execution_count": 15,
     "metadata": {},
     "output_type": "execute_result"
    }
   ],
   "source": [
    "# Explore the response in the first element\n",
    "train_data[0][2]"
   ]
  },
  {
   "cell_type": "markdown",
   "metadata": {},
   "source": [
    "-----\n",
    "\n",
    "## Setting up Vocabulary of All Words"
   ]
  },
  {
   "cell_type": "code",
   "execution_count": 17,
   "metadata": {},
   "outputs": [],
   "source": [
    "# Now we will use a set in python which is an unordered collection of unique elements\n",
    "vocab = set()\n",
    "\n",
    "all_data = train_data + test_data"
   ]
  },
  {
   "cell_type": "code",
   "execution_count": 18,
   "metadata": {},
   "outputs": [],
   "source": [
    "for story, question, answer in all_data:\n",
    "    vocab = vocab.union(set(story))\n",
    "    vocab = vocab.union(set(question))"
   ]
  },
  {
   "cell_type": "code",
   "execution_count": 19,
   "metadata": {},
   "outputs": [],
   "source": [
    "vocab.add('no')\n",
    "vocab.add('yes')"
   ]
  },
  {
   "cell_type": "code",
   "execution_count": 20,
   "metadata": {},
   "outputs": [
    {
     "data": {
      "text/plain": [
       "{'.',\n",
       " '?',\n",
       " 'Daniel',\n",
       " 'Is',\n",
       " 'John',\n",
       " 'Mary',\n",
       " 'Sandra',\n",
       " 'apple',\n",
       " 'back',\n",
       " 'bathroom',\n",
       " 'bedroom',\n",
       " 'discarded',\n",
       " 'down',\n",
       " 'dropped',\n",
       " 'football',\n",
       " 'garden',\n",
       " 'got',\n",
       " 'grabbed',\n",
       " 'hallway',\n",
       " 'in',\n",
       " 'journeyed',\n",
       " 'kitchen',\n",
       " 'left',\n",
       " 'milk',\n",
       " 'moved',\n",
       " 'no',\n",
       " 'office',\n",
       " 'picked',\n",
       " 'put',\n",
       " 'the',\n",
       " 'there',\n",
       " 'to',\n",
       " 'took',\n",
       " 'travelled',\n",
       " 'up',\n",
       " 'went',\n",
       " 'yes'}"
      ]
     },
     "execution_count": 20,
     "metadata": {},
     "output_type": "execute_result"
    }
   ],
   "source": [
    "# To see the unique words\n",
    "vocab"
   ]
  },
  {
   "cell_type": "code",
   "execution_count": 21,
   "metadata": {},
   "outputs": [],
   "source": [
    "# To get the length of the vocab\n",
    "vocab_len = len(vocab) + 1 # we add an extra space to hold a 0 for Keras's pad_sequences"
   ]
  },
  {
   "cell_type": "code",
   "execution_count": 29,
   "metadata": {},
   "outputs": [
    {
     "data": {
      "text/plain": [
       "156"
      ]
     },
     "execution_count": 29,
     "metadata": {},
     "output_type": "execute_result"
    }
   ],
   "source": [
    "# To get the max story length - as the first element [0] is the story and second element is [1] is question\n",
    "max_story_len = max([len(data[0]) for data in all_data])\n",
    "max_story_len"
   ]
  },
  {
   "cell_type": "code",
   "execution_count": 31,
   "metadata": {},
   "outputs": [
    {
     "data": {
      "text/plain": [
       "6"
      ]
     },
     "execution_count": 31,
     "metadata": {},
     "output_type": "execute_result"
    }
   ],
   "source": [
    "max_question_len = max([len(data[1]) for data in all_data])\n",
    "max_question_len"
   ]
  },
  {
   "cell_type": "markdown",
   "metadata": {},
   "source": [
    "## Vectorizing the Data"
   ]
  },
  {
   "cell_type": "code",
   "execution_count": 32,
   "metadata": {},
   "outputs": [
    {
     "name": "stdout",
     "output_type": "stream",
     "text": [
      "1 Physical GPUs, 1 Logical GPUs\n"
     ]
    }
   ],
   "source": [
    "import tensorflow as tf\n",
    "\n",
    "gpus = tf.config.experimental.list_physical_devices('GPU')\n",
    "if gpus:\n",
    "  try:\n",
    "    # Currently, memory growth needs to be the same across GPUs\n",
    "    for gpu in gpus:\n",
    "      tf.config.experimental.set_memory_growth(gpu, True)\n",
    "    logical_gpus = tf.config.experimental.list_logical_devices('GPU')\n",
    "    print(len(gpus), \"Physical GPUs,\", len(logical_gpus), \"Logical GPUs\")\n",
    "  except RuntimeError as e:\n",
    "    # Memory growth must be set before GPUs have been initialized\n",
    "    print(e)"
   ]
  },
  {
   "cell_type": "code",
   "execution_count": 33,
   "metadata": {},
   "outputs": [],
   "source": [
    "# integer encode sequences of words\n",
    "tokenizer = tf.keras.preprocessing.text.Tokenizer(filters=[])\n",
    "tokenizer.fit_on_texts(vocab)"
   ]
  },
  {
   "cell_type": "code",
   "execution_count": 34,
   "metadata": {},
   "outputs": [
    {
     "data": {
      "text/plain": [
       "{'is': 1,\n",
       " 'up': 2,\n",
       " 'moved': 3,\n",
       " 'hallway': 4,\n",
       " 'back': 5,\n",
       " 'dropped': 6,\n",
       " 'milk': 7,\n",
       " 'there': 8,\n",
       " '.': 9,\n",
       " 'garden': 10,\n",
       " 'apple': 11,\n",
       " 'to': 12,\n",
       " 'put': 13,\n",
       " '?': 14,\n",
       " 'in': 15,\n",
       " 'no': 16,\n",
       " 'got': 17,\n",
       " 'took': 18,\n",
       " 'mary': 19,\n",
       " 'picked': 20,\n",
       " 'football': 21,\n",
       " 'office': 22,\n",
       " 'bedroom': 23,\n",
       " 'yes': 24,\n",
       " 'john': 25,\n",
       " 'journeyed': 26,\n",
       " 'travelled': 27,\n",
       " 'kitchen': 28,\n",
       " 'down': 29,\n",
       " 'sandra': 30,\n",
       " 'the': 31,\n",
       " 'daniel': 32,\n",
       " 'grabbed': 33,\n",
       " 'bathroom': 34,\n",
       " 'left': 35,\n",
       " 'discarded': 36,\n",
       " 'went': 37}"
      ]
     },
     "execution_count": 34,
     "metadata": {},
     "output_type": "execute_result"
    }
   ],
   "source": [
    "tokenizer.word_index"
   ]
  },
  {
   "cell_type": "code",
   "execution_count": 35,
   "metadata": {},
   "outputs": [],
   "source": [
    "train_story_text = []\n",
    "train_question_text = []\n",
    "train_answers = []\n",
    "\n",
    "for story,question,answer in train_data:\n",
    "    train_story_text.append(story)\n",
    "    train_question_text.append(question)"
   ]
  },
  {
   "cell_type": "code",
   "execution_count": 36,
   "metadata": {},
   "outputs": [],
   "source": [
    "train_story_seq = tokenizer.texts_to_sequences(train_story_text)"
   ]
  },
  {
   "cell_type": "code",
   "execution_count": 37,
   "metadata": {},
   "outputs": [
    {
     "data": {
      "text/plain": [
       "10000"
      ]
     },
     "execution_count": 37,
     "metadata": {},
     "output_type": "execute_result"
    }
   ],
   "source": [
    "len(train_story_text)"
   ]
  },
  {
   "cell_type": "code",
   "execution_count": 38,
   "metadata": {},
   "outputs": [
    {
     "data": {
      "text/plain": [
       "10000"
      ]
     },
     "execution_count": 38,
     "metadata": {},
     "output_type": "execute_result"
    }
   ],
   "source": [
    "len(train_story_seq)"
   ]
  },
  {
   "cell_type": "markdown",
   "metadata": {},
   "source": [
    "### Functionalize Vectorization"
   ]
  },
  {
   "cell_type": "code",
   "execution_count": 43,
   "metadata": {},
   "outputs": [],
   "source": [
    "def vectorize_stories(data, word_index=tokenizer.word_index, max_story_len=max_story_len,max_question_len=max_question_len):\n",
    "    '''\n",
    "    INPUT: \n",
    "    \n",
    "    data: consisting of Stories,Queries,and Answers\n",
    "    word_index: word index dictionary from tokenizer\n",
    "    max_story_len: the length of the longest story (used for pad_sequences function)\n",
    "    max_question_len: length of the longest question (used for pad_sequences function)\n",
    "\n",
    "\n",
    "    OUTPUT:\n",
    "    \n",
    "    Vectorizes the stories,questions, and answers into padded sequences. We first loop for every story, query , and\n",
    "    answer in the data. Then we convert the raw words to an word index value. Then we append each set to their appropriate\n",
    "    output list. Then once we have converted the words to numbers, we pad the sequences so they are all of equal length.\n",
    "    \n",
    "    Returns this in the form of a tuple (X,Xq,Y) (padded based on max lengths)\n",
    "    '''\n",
    "    \n",
    "    \n",
    "    # X = STORIES\n",
    "    X = []\n",
    "    # Xq = QUERY/QUESTION\n",
    "    Xq = []\n",
    "    # Y = CORRECT ANSWER\n",
    "    Y = []\n",
    "    \n",
    "    \n",
    "    for story, query, answer in data:\n",
    "        \n",
    "        # Grab the word index for every word in story\n",
    "        x = [word_index[word.lower()] for word in story]\n",
    "        # Grab the word index for every word in query\n",
    "        xq = [word_index[word.lower()] for word in query]\n",
    "        \n",
    "        # Grab the Answers (either Yes/No so we don't need to use list comprehension here)\n",
    "        # Index 0 is reserved so we're going to use + 1\n",
    "        y = np.zeros(len(word_index) + 1)\n",
    "        \n",
    "        # Now that y is all zeros and we know its just Yes/No , we can use numpy logic to create this assignment\n",
    "        #\n",
    "        y[word_index[answer]] = 1\n",
    "        \n",
    "        # Append each set of story,query, and answer to their respective holding lists\n",
    "        X.append(x)\n",
    "        Xq.append(xq)\n",
    "        Y.append(y)\n",
    "        \n",
    "    # Finally, pad the sequences based on their max length so the RNN can be trained on uniformly long sequences.\n",
    "        \n",
    "    # RETURN TUPLE FOR UNPACKING\n",
    "    return (tf.keras.preprocessing.sequence.pad_sequences(X, maxlen=max_story_len),\n",
    "            tf.keras.preprocessing.sequence.pad_sequences(Xq, maxlen=max_question_len), np.array(Y))"
   ]
  },
  {
   "cell_type": "code",
   "execution_count": 44,
   "metadata": {},
   "outputs": [],
   "source": [
    "inputs_train, queries_train, answers_train = vectorize_stories(train_data)"
   ]
  },
  {
   "cell_type": "code",
   "execution_count": 45,
   "metadata": {},
   "outputs": [],
   "source": [
    "inputs_test, queries_test, answers_test = vectorize_stories(test_data)"
   ]
  },
  {
   "cell_type": "code",
   "execution_count": 46,
   "metadata": {},
   "outputs": [
    {
     "data": {
      "text/plain": [
       "array([[ 0,  0,  0, ..., 31, 23,  9],\n",
       "       [ 0,  0,  0, ..., 31, 10,  9],\n",
       "       [ 0,  0,  0, ..., 31, 10,  9],\n",
       "       ...,\n",
       "       [ 0,  0,  0, ..., 31, 11,  9],\n",
       "       [ 0,  0,  0, ..., 31, 10,  9],\n",
       "       [ 0,  0,  0, ..., 11,  8,  9]])"
      ]
     },
     "execution_count": 46,
     "metadata": {},
     "output_type": "execute_result"
    }
   ],
   "source": [
    "inputs_test"
   ]
  },
  {
   "cell_type": "code",
   "execution_count": 47,
   "metadata": {},
   "outputs": [
    {
     "data": {
      "text/plain": [
       "array([[ 1, 25, 15, 31, 28, 14],\n",
       "       [ 1, 25, 15, 31, 28, 14],\n",
       "       [ 1, 25, 15, 31, 10, 14],\n",
       "       ...,\n",
       "       [ 1, 19, 15, 31, 23, 14],\n",
       "       [ 1, 30, 15, 31, 10, 14],\n",
       "       [ 1, 19, 15, 31, 10, 14]])"
      ]
     },
     "execution_count": 47,
     "metadata": {},
     "output_type": "execute_result"
    }
   ],
   "source": [
    "queries_test"
   ]
  },
  {
   "cell_type": "code",
   "execution_count": 48,
   "metadata": {},
   "outputs": [
    {
     "data": {
      "text/plain": [
       "array([[0., 0., 0., ..., 0., 0., 0.],\n",
       "       [0., 0., 0., ..., 0., 0., 0.],\n",
       "       [0., 0., 0., ..., 0., 0., 0.],\n",
       "       ...,\n",
       "       [0., 0., 0., ..., 0., 0., 0.],\n",
       "       [0., 0., 0., ..., 0., 0., 0.],\n",
       "       [0., 0., 0., ..., 0., 0., 0.]])"
      ]
     },
     "execution_count": 48,
     "metadata": {},
     "output_type": "execute_result"
    }
   ],
   "source": [
    "answers_test"
   ]
  },
  {
   "cell_type": "code",
   "execution_count": 49,
   "metadata": {},
   "outputs": [
    {
     "data": {
      "text/plain": [
       "array([  0.,   0.,   0.,   0.,   0.,   0.,   0.,   0.,   0.,   0.,   0.,\n",
       "         0.,   0.,   0.,   0.,   0., 503.,   0.,   0.,   0.,   0.,   0.,\n",
       "         0.,   0., 497.,   0.,   0.,   0.,   0.,   0.,   0.,   0.,   0.,\n",
       "         0.,   0.,   0.,   0.,   0.])"
      ]
     },
     "execution_count": 49,
     "metadata": {},
     "output_type": "execute_result"
    }
   ],
   "source": [
    "sum(answers_test)"
   ]
  },
  {
   "cell_type": "code",
   "execution_count": 50,
   "metadata": {},
   "outputs": [
    {
     "data": {
      "text/plain": [
       "24"
      ]
     },
     "execution_count": 50,
     "metadata": {},
     "output_type": "execute_result"
    }
   ],
   "source": [
    "tokenizer.word_index['yes']"
   ]
  },
  {
   "cell_type": "code",
   "execution_count": 51,
   "metadata": {},
   "outputs": [
    {
     "data": {
      "text/plain": [
       "16"
      ]
     },
     "execution_count": 51,
     "metadata": {},
     "output_type": "execute_result"
    }
   ],
   "source": [
    "tokenizer.word_index['no']"
   ]
  },
  {
   "cell_type": "markdown",
   "metadata": {},
   "source": [
    "## Creating the Model"
   ]
  },
  {
   "cell_type": "markdown",
   "metadata": {},
   "source": [
    "### Placeholders for Inputs\n",
    "\n",
    "Recall we technically have two inputs, stories and questions. So we need to use placeholders. `Input()` is used to instantiate a Keras tensor.\n"
   ]
  },
  {
   "cell_type": "code",
   "execution_count": 53,
   "metadata": {},
   "outputs": [],
   "source": [
    "input_sequence = tf.keras.layers.Input((max_story_len,))\n",
    "question = tf.keras.layers.Input((max_question_len,))"
   ]
  },
  {
   "cell_type": "markdown",
   "metadata": {},
   "source": [
    "### Building the Networks\n",
    "\n",
    "To understand why we chose this setup, make sure to read the paper we are using:\n",
    "\n",
    "* Sainbayar Sukhbaatar, Arthur Szlam, Jason Weston, Rob Fergus,\n",
    "  \"End-To-End Memory Networks\",\n",
    "  http://arxiv.org/abs/1503.08895"
   ]
  },
  {
   "cell_type": "markdown",
   "metadata": {},
   "source": [
    "## Encoders\n",
    "\n",
    "### Input Encoder m"
   ]
  },
  {
   "cell_type": "code",
   "execution_count": 56,
   "metadata": {},
   "outputs": [],
   "source": [
    "# Reserve 0 for pad_sequences\n",
    "vocab_size = len(vocab) + 1"
   ]
  },
  {
   "cell_type": "code",
   "execution_count": 57,
   "metadata": {},
   "outputs": [],
   "source": [
    "# Input gets embedded to a sequence of vectors\n",
    "input_encoder_m = tf.keras.models.Sequential()\n",
    "input_encoder_m.add(tf.keras.layers.Embedding(input_dim=vocab_size,output_dim=64))\n",
    "input_encoder_m.add(tf.keras.layers.Dropout(0.3))\n",
    "\n",
    "# This encoder will output:\n",
    "# (samples, story_maxlen, embedding_dim)"
   ]
  },
  {
   "cell_type": "markdown",
   "metadata": {},
   "source": [
    "### Input Encoder c"
   ]
  },
  {
   "cell_type": "code",
   "execution_count": 59,
   "metadata": {},
   "outputs": [],
   "source": [
    "# embed the input into a sequence of vectors of size query_maxlen\n",
    "input_encoder_c = tf.keras.models.Sequential()\n",
    "input_encoder_c.add(tf.keras.layers.Embedding(input_dim=vocab_size,output_dim=max_question_len))\n",
    "input_encoder_c.add(tf.keras.layers.Dropout(0.3))\n",
    "# output: (samples, story_maxlen, query_maxlen)"
   ]
  },
  {
   "cell_type": "markdown",
   "metadata": {},
   "source": [
    "### Question Encoder"
   ]
  },
  {
   "cell_type": "code",
   "execution_count": 60,
   "metadata": {},
   "outputs": [],
   "source": [
    "# embed the question into a sequence of vectors\n",
    "question_encoder = tf.keras.models.Sequential()\n",
    "question_encoder.add(tf.keras.layers.Embedding(input_dim=vocab_size,\n",
    "                               output_dim=64,\n",
    "                               input_length=max_question_len))\n",
    "question_encoder.add(tf.keras.layers.Dropout(0.3))\n",
    "# output: (samples, query_maxlen, embedding_dim)"
   ]
  },
  {
   "cell_type": "markdown",
   "metadata": {},
   "source": [
    "### Encode the Sequences"
   ]
  },
  {
   "cell_type": "code",
   "execution_count": 61,
   "metadata": {},
   "outputs": [],
   "source": [
    "# encode input sequence and questions (which are indices)\n",
    "# to sequences of dense vectors\n",
    "input_encoded_m = input_encoder_m(input_sequence)\n",
    "input_encoded_c = input_encoder_c(input_sequence)\n",
    "question_encoded = question_encoder(question)"
   ]
  },
  {
   "cell_type": "markdown",
   "metadata": {},
   "source": [
    "##### Use dot product to compute the match between first input vector seq and the query"
   ]
  },
  {
   "cell_type": "code",
   "execution_count": 64,
   "metadata": {},
   "outputs": [],
   "source": [
    "# shape: `(samples, story_maxlen, query_maxlen)`\n",
    "match = tf.keras.layers.dot([input_encoded_m, question_encoded], axes=(2, 2))\n",
    "match = tf.keras.layers.Activation('softmax')(match)"
   ]
  },
  {
   "cell_type": "markdown",
   "metadata": {},
   "source": [
    "#### Add this match matrix with the second input vector sequence"
   ]
  },
  {
   "cell_type": "code",
   "execution_count": 66,
   "metadata": {},
   "outputs": [],
   "source": [
    "# add the match matrix with the second input vector sequence\n",
    "response = tf.keras.layers.add([match, input_encoded_c])  # (samples, story_maxlen, query_maxlen)\n",
    "response = tf.keras.layers.Permute((2, 1))(response)  # (samples, query_maxlen, story_maxlen)"
   ]
  },
  {
   "cell_type": "markdown",
   "metadata": {},
   "source": [
    "#### Concatenate"
   ]
  },
  {
   "cell_type": "code",
   "execution_count": 69,
   "metadata": {},
   "outputs": [],
   "source": [
    "# concatenate the match matrix with the question vector sequence\n",
    "answer = tf.keras.layers.concatenate([response, question_encoded])"
   ]
  },
  {
   "cell_type": "code",
   "execution_count": 70,
   "metadata": {},
   "outputs": [
    {
     "data": {
      "text/plain": [
       "<tf.Tensor 'concatenate_1/Identity:0' shape=(None, 6, 220) dtype=float32>"
      ]
     },
     "execution_count": 70,
     "metadata": {},
     "output_type": "execute_result"
    }
   ],
   "source": [
    "answer"
   ]
  },
  {
   "cell_type": "code",
   "execution_count": 71,
   "metadata": {},
   "outputs": [],
   "source": [
    "# Reduce with RNN (LSTM)\n",
    "answer = tf.keras.layers.LSTM(32)(answer)  # (samples, 32)"
   ]
  },
  {
   "cell_type": "code",
   "execution_count": 72,
   "metadata": {},
   "outputs": [],
   "source": [
    "# Regularization with Dropout\n",
    "answer = tf.keras.layers.Dropout(0.5)(answer)\n",
    "answer = tf.keras.layers.Dense(vocab_size)(answer)  # (samples, vocab_size)"
   ]
  },
  {
   "cell_type": "code",
   "execution_count": 73,
   "metadata": {},
   "outputs": [],
   "source": [
    "# we output a probability distribution over the vocabulary\n",
    "answer = tf.keras.layers.Activation('softmax')(answer)\n",
    "\n",
    "# build the final model\n",
    "model = tf.keras.models.Model([input_sequence, question], answer)\n",
    "model.compile(optimizer='rmsprop', loss='categorical_crossentropy',\n",
    "              metrics=['accuracy'])"
   ]
  },
  {
   "cell_type": "code",
   "execution_count": 74,
   "metadata": {},
   "outputs": [
    {
     "name": "stdout",
     "output_type": "stream",
     "text": [
      "Model: \"model\"\n",
      "__________________________________________________________________________________________________\n",
      "Layer (type)                    Output Shape         Param #     Connected to                     \n",
      "==================================================================================================\n",
      "input_1 (InputLayer)            [(None, 156)]        0                                            \n",
      "__________________________________________________________________________________________________\n",
      "input_2 (InputLayer)            [(None, 6)]          0                                            \n",
      "__________________________________________________________________________________________________\n",
      "sequential_2 (Sequential)       multiple             2432        input_1[0][0]                    \n",
      "__________________________________________________________________________________________________\n",
      "sequential_4 (Sequential)       (None, 6, 64)        2432        input_2[0][0]                    \n",
      "__________________________________________________________________________________________________\n",
      "dot (Dot)                       (None, 156, 6)       0           sequential_2[1][0]               \n",
      "                                                                 sequential_4[1][0]               \n",
      "__________________________________________________________________________________________________\n",
      "activation (Activation)         (None, 156, 6)       0           dot[0][0]                        \n",
      "__________________________________________________________________________________________________\n",
      "sequential_3 (Sequential)       multiple             228         input_1[0][0]                    \n",
      "__________________________________________________________________________________________________\n",
      "add (Add)                       (None, 156, 6)       0           activation[0][0]                 \n",
      "                                                                 sequential_3[1][0]               \n",
      "__________________________________________________________________________________________________\n",
      "permute (Permute)               (None, 6, 156)       0           add[0][0]                        \n",
      "__________________________________________________________________________________________________\n",
      "concatenate_1 (Concatenate)     (None, 6, 220)       0           permute[0][0]                    \n",
      "                                                                 sequential_4[1][0]               \n",
      "__________________________________________________________________________________________________\n",
      "lstm (LSTM)                     (None, 32)           32384       concatenate_1[0][0]              \n",
      "__________________________________________________________________________________________________\n",
      "dropout_3 (Dropout)             (None, 32)           0           lstm[0][0]                       \n",
      "__________________________________________________________________________________________________\n",
      "dense (Dense)                   (None, 38)           1254        dropout_3[0][0]                  \n",
      "__________________________________________________________________________________________________\n",
      "activation_1 (Activation)       (None, 38)           0           dense[0][0]                      \n",
      "==================================================================================================\n",
      "Total params: 38,730\n",
      "Trainable params: 38,730\n",
      "Non-trainable params: 0\n",
      "__________________________________________________________________________________________________\n"
     ]
    }
   ],
   "source": [
    "model.summary()"
   ]
  },
  {
   "cell_type": "code",
   "execution_count": 75,
   "metadata": {},
   "outputs": [
    {
     "name": "stdout",
     "output_type": "stream",
     "text": [
      "Train on 10000 samples, validate on 1000 samples\n",
      "Epoch 1/120\n",
      "10000/10000 [==============================] - 13s 1ms/sample - loss: 0.9059 - accuracy: 0.4911 - val_loss: 0.6953 - val_accuracy: 0.5030\n",
      "Epoch 2/120\n",
      "10000/10000 [==============================] - 2s 199us/sample - loss: 0.7029 - accuracy: 0.5115 - val_loss: 0.6993 - val_accuracy: 0.5030\n",
      "Epoch 3/120\n",
      "10000/10000 [==============================] - 2s 199us/sample - loss: 0.6974 - accuracy: 0.4952 - val_loss: 0.6939 - val_accuracy: 0.4970\n",
      "Epoch 4/120\n",
      "10000/10000 [==============================] - 2s 202us/sample - loss: 0.6955 - accuracy: 0.4930 - val_loss: 0.6936 - val_accuracy: 0.5030\n",
      "Epoch 5/120\n",
      "10000/10000 [==============================] - 2s 203us/sample - loss: 0.6949 - accuracy: 0.4923 - val_loss: 0.6939 - val_accuracy: 0.5030\n",
      "Epoch 6/120\n",
      "10000/10000 [==============================] - 2s 201us/sample - loss: 0.6943 - accuracy: 0.5081 - val_loss: 0.6934 - val_accuracy: 0.4970\n",
      "Epoch 7/120\n",
      "10000/10000 [==============================] - 2s 202us/sample - loss: 0.6948 - accuracy: 0.4935 - val_loss: 0.6933 - val_accuracy: 0.4970\n",
      "Epoch 8/120\n",
      "10000/10000 [==============================] - 2s 203us/sample - loss: 0.6945 - accuracy: 0.5050 - val_loss: 0.6934 - val_accuracy: 0.4970\n",
      "Epoch 9/120\n",
      "10000/10000 [==============================] - 2s 202us/sample - loss: 0.6940 - accuracy: 0.5014 - val_loss: 0.6982 - val_accuracy: 0.4970\n",
      "Epoch 10/120\n",
      "10000/10000 [==============================] - 2s 201us/sample - loss: 0.6940 - accuracy: 0.5064 - val_loss: 0.6943 - val_accuracy: 0.4970\n",
      "Epoch 11/120\n",
      "10000/10000 [==============================] - 2s 201us/sample - loss: 0.6940 - accuracy: 0.5042 - val_loss: 0.6947 - val_accuracy: 0.4740\n",
      "Epoch 12/120\n",
      "10000/10000 [==============================] - 2s 204us/sample - loss: 0.6937 - accuracy: 0.5107 - val_loss: 0.6959 - val_accuracy: 0.4820\n",
      "Epoch 13/120\n",
      "10000/10000 [==============================] - 2s 203us/sample - loss: 0.6916 - accuracy: 0.5262 - val_loss: 0.6952 - val_accuracy: 0.5080\n",
      "Epoch 14/120\n",
      "10000/10000 [==============================] - 2s 203us/sample - loss: 0.6897 - accuracy: 0.5280 - val_loss: 0.6908 - val_accuracy: 0.5090\n",
      "Epoch 15/120\n",
      "10000/10000 [==============================] - 2s 204us/sample - loss: 0.6720 - accuracy: 0.5812 - val_loss: 0.6585 - val_accuracy: 0.6050\n",
      "Epoch 16/120\n",
      "10000/10000 [==============================] - 2s 204us/sample - loss: 0.6160 - accuracy: 0.6648 - val_loss: 0.5670 - val_accuracy: 0.7090\n",
      "Epoch 17/120\n",
      "10000/10000 [==============================] - 2s 201us/sample - loss: 0.5395 - accuracy: 0.7380 - val_loss: 0.5048 - val_accuracy: 0.7570\n",
      "Epoch 18/120\n",
      "10000/10000 [==============================] - 2s 201us/sample - loss: 0.4920 - accuracy: 0.7751 - val_loss: 0.4713 - val_accuracy: 0.7930\n",
      "Epoch 19/120\n",
      "10000/10000 [==============================] - 2s 202us/sample - loss: 0.4623 - accuracy: 0.7917 - val_loss: 0.4490 - val_accuracy: 0.7910\n",
      "Epoch 20/120\n",
      "10000/10000 [==============================] - 2s 201us/sample - loss: 0.4404 - accuracy: 0.8120 - val_loss: 0.4264 - val_accuracy: 0.8130\n",
      "Epoch 21/120\n",
      "10000/10000 [==============================] - 2s 203us/sample - loss: 0.4155 - accuracy: 0.8280 - val_loss: 0.4141 - val_accuracy: 0.8160\n",
      "Epoch 22/120\n",
      "10000/10000 [==============================] - 2s 202us/sample - loss: 0.3988 - accuracy: 0.8359 - val_loss: 0.3979 - val_accuracy: 0.8330\n",
      "Epoch 23/120\n",
      "10000/10000 [==============================] - 2s 204us/sample - loss: 0.3841 - accuracy: 0.8398 - val_loss: 0.3911 - val_accuracy: 0.8270\n",
      "Epoch 24/120\n",
      "10000/10000 [==============================] - 2s 205us/sample - loss: 0.3778 - accuracy: 0.8401 - val_loss: 0.4035 - val_accuracy: 0.8290\n",
      "Epoch 25/120\n",
      "10000/10000 [==============================] - 2s 201us/sample - loss: 0.3601 - accuracy: 0.8459 - val_loss: 0.3885 - val_accuracy: 0.8300\n",
      "Epoch 26/120\n",
      "10000/10000 [==============================] - 2s 202us/sample - loss: 0.3565 - accuracy: 0.8526 - val_loss: 0.3741 - val_accuracy: 0.8210\n",
      "Epoch 27/120\n",
      "10000/10000 [==============================] - 2s 201us/sample - loss: 0.3495 - accuracy: 0.8542 - val_loss: 0.3624 - val_accuracy: 0.8260\n",
      "Epoch 28/120\n",
      "10000/10000 [==============================] - 2s 203us/sample - loss: 0.3490 - accuracy: 0.8545 - val_loss: 0.3760 - val_accuracy: 0.8170\n",
      "Epoch 29/120\n",
      "10000/10000 [==============================] - 2s 201us/sample - loss: 0.3389 - accuracy: 0.8535 - val_loss: 0.3709 - val_accuracy: 0.8200\n",
      "Epoch 30/120\n",
      "10000/10000 [==============================] - 2s 200us/sample - loss: 0.3394 - accuracy: 0.8551 - val_loss: 0.3545 - val_accuracy: 0.8300\n",
      "Epoch 31/120\n",
      "10000/10000 [==============================] - 2s 200us/sample - loss: 0.3316 - accuracy: 0.8561 - val_loss: 0.3515 - val_accuracy: 0.8340\n",
      "Epoch 32/120\n",
      "10000/10000 [==============================] - 2s 201us/sample - loss: 0.3261 - accuracy: 0.8582 - val_loss: 0.3621 - val_accuracy: 0.8310\n",
      "Epoch 33/120\n",
      "10000/10000 [==============================] - 2s 204us/sample - loss: 0.3258 - accuracy: 0.8617 - val_loss: 0.3506 - val_accuracy: 0.8380\n",
      "Epoch 34/120\n",
      "10000/10000 [==============================] - 2s 205us/sample - loss: 0.3253 - accuracy: 0.8581 - val_loss: 0.3573 - val_accuracy: 0.8340\n",
      "Epoch 35/120\n",
      "10000/10000 [==============================] - 2s 200us/sample - loss: 0.3183 - accuracy: 0.8621 - val_loss: 0.3626 - val_accuracy: 0.8250\n",
      "Epoch 36/120\n",
      "10000/10000 [==============================] - 2s 205us/sample - loss: 0.3177 - accuracy: 0.8655 - val_loss: 0.3673 - val_accuracy: 0.8320\n",
      "Epoch 37/120\n",
      "10000/10000 [==============================] - 2s 204us/sample - loss: 0.3202 - accuracy: 0.8633 - val_loss: 0.3535 - val_accuracy: 0.8310\n",
      "Epoch 38/120\n",
      "10000/10000 [==============================] - 2s 203us/sample - loss: 0.3132 - accuracy: 0.8650 - val_loss: 0.3537 - val_accuracy: 0.8400\n",
      "Epoch 39/120\n",
      "10000/10000 [==============================] - 2s 203us/sample - loss: 0.3170 - accuracy: 0.8630 - val_loss: 0.3588 - val_accuracy: 0.8310\n",
      "Epoch 40/120\n",
      "10000/10000 [==============================] - 2s 202us/sample - loss: 0.3137 - accuracy: 0.8650 - val_loss: 0.3527 - val_accuracy: 0.8320\n",
      "Epoch 41/120\n",
      "10000/10000 [==============================] - 2s 204us/sample - loss: 0.3054 - accuracy: 0.8678 - val_loss: 0.3616 - val_accuracy: 0.8330\n",
      "Epoch 42/120\n",
      "10000/10000 [==============================] - 2s 202us/sample - loss: 0.3119 - accuracy: 0.8666 - val_loss: 0.3519 - val_accuracy: 0.8340\n",
      "Epoch 43/120\n",
      "10000/10000 [==============================] - 2s 202us/sample - loss: 0.3064 - accuracy: 0.8686 - val_loss: 0.3438 - val_accuracy: 0.8320\n",
      "Epoch 44/120\n",
      "10000/10000 [==============================] - 2s 203us/sample - loss: 0.3025 - accuracy: 0.8705 - val_loss: 0.3725 - val_accuracy: 0.8240\n",
      "Epoch 45/120\n",
      "10000/10000 [==============================] - 2s 202us/sample - loss: 0.3053 - accuracy: 0.8667 - val_loss: 0.3625 - val_accuracy: 0.8340\n",
      "Epoch 46/120\n",
      "10000/10000 [==============================] - 2s 203us/sample - loss: 0.3006 - accuracy: 0.8693 - val_loss: 0.3507 - val_accuracy: 0.8330\n",
      "Epoch 47/120\n",
      "10000/10000 [==============================] - 2s 202us/sample - loss: 0.2997 - accuracy: 0.8689 - val_loss: 0.3444 - val_accuracy: 0.8310\n",
      "Epoch 48/120\n",
      "10000/10000 [==============================] - 2s 203us/sample - loss: 0.2982 - accuracy: 0.8732 - val_loss: 0.3438 - val_accuracy: 0.8320\n",
      "Epoch 49/120\n",
      "10000/10000 [==============================] - 2s 201us/sample - loss: 0.3008 - accuracy: 0.8712 - val_loss: 0.3765 - val_accuracy: 0.8320\n",
      "Epoch 50/120\n",
      "10000/10000 [==============================] - 2s 202us/sample - loss: 0.2984 - accuracy: 0.8710 - val_loss: 0.3619 - val_accuracy: 0.8360\n",
      "Epoch 51/120\n",
      "10000/10000 [==============================] - 2s 201us/sample - loss: 0.3042 - accuracy: 0.8691 - val_loss: 0.3569 - val_accuracy: 0.8360\n",
      "Epoch 52/120\n",
      "10000/10000 [==============================] - 2s 202us/sample - loss: 0.2950 - accuracy: 0.8741 - val_loss: 0.3752 - val_accuracy: 0.8320\n",
      "Epoch 53/120\n",
      "10000/10000 [==============================] - 2s 202us/sample - loss: 0.2986 - accuracy: 0.8697 - val_loss: 0.3609 - val_accuracy: 0.8310\n",
      "Epoch 54/120\n"
     ]
    },
    {
     "name": "stdout",
     "output_type": "stream",
     "text": [
      "10000/10000 [==============================] - 2s 203us/sample - loss: 0.2924 - accuracy: 0.8718 - val_loss: 0.3569 - val_accuracy: 0.8290\n",
      "Epoch 55/120\n",
      "10000/10000 [==============================] - 2s 201us/sample - loss: 0.2926 - accuracy: 0.8738 - val_loss: 0.3759 - val_accuracy: 0.8300\n",
      "Epoch 56/120\n",
      "10000/10000 [==============================] - 2s 201us/sample - loss: 0.2868 - accuracy: 0.8756 - val_loss: 0.4116 - val_accuracy: 0.8210\n",
      "Epoch 57/120\n",
      "10000/10000 [==============================] - 2s 202us/sample - loss: 0.2917 - accuracy: 0.8717 - val_loss: 0.3785 - val_accuracy: 0.8270\n",
      "Epoch 58/120\n",
      "10000/10000 [==============================] - 2s 201us/sample - loss: 0.2894 - accuracy: 0.8745 - val_loss: 0.3653 - val_accuracy: 0.8350\n",
      "Epoch 59/120\n",
      "10000/10000 [==============================] - 2s 200us/sample - loss: 0.2889 - accuracy: 0.8749 - val_loss: 0.3838 - val_accuracy: 0.8300\n",
      "Epoch 60/120\n",
      "10000/10000 [==============================] - 2s 200us/sample - loss: 0.2868 - accuracy: 0.8759 - val_loss: 0.3707 - val_accuracy: 0.8340\n",
      "Epoch 61/120\n",
      "10000/10000 [==============================] - 2s 200us/sample - loss: 0.2888 - accuracy: 0.8760 - val_loss: 0.3866 - val_accuracy: 0.8200\n",
      "Epoch 62/120\n",
      "10000/10000 [==============================] - 2s 201us/sample - loss: 0.2872 - accuracy: 0.8764 - val_loss: 0.3789 - val_accuracy: 0.8350\n",
      "Epoch 63/120\n",
      "10000/10000 [==============================] - 2s 203us/sample - loss: 0.2851 - accuracy: 0.8742 - val_loss: 0.3725 - val_accuracy: 0.8330\n",
      "Epoch 64/120\n",
      "10000/10000 [==============================] - 2s 202us/sample - loss: 0.2788 - accuracy: 0.8782 - val_loss: 0.3723 - val_accuracy: 0.8340\n",
      "Epoch 65/120\n",
      "10000/10000 [==============================] - 2s 202us/sample - loss: 0.2826 - accuracy: 0.8777 - val_loss: 0.3666 - val_accuracy: 0.8370\n",
      "Epoch 66/120\n",
      "10000/10000 [==============================] - 2s 201us/sample - loss: 0.2853 - accuracy: 0.8790 - val_loss: 0.3957 - val_accuracy: 0.8240\n",
      "Epoch 67/120\n",
      "10000/10000 [==============================] - 2s 201us/sample - loss: 0.2813 - accuracy: 0.8756 - val_loss: 0.3842 - val_accuracy: 0.8320\n",
      "Epoch 68/120\n",
      "10000/10000 [==============================] - 2s 203us/sample - loss: 0.2791 - accuracy: 0.8793 - val_loss: 0.3849 - val_accuracy: 0.8300\n",
      "Epoch 69/120\n",
      "10000/10000 [==============================] - 2s 200us/sample - loss: 0.2756 - accuracy: 0.8811 - val_loss: 0.3804 - val_accuracy: 0.8300\n",
      "Epoch 70/120\n",
      "10000/10000 [==============================] - 2s 202us/sample - loss: 0.2744 - accuracy: 0.8825 - val_loss: 0.3770 - val_accuracy: 0.8370\n",
      "Epoch 71/120\n",
      "10000/10000 [==============================] - 2s 201us/sample - loss: 0.2771 - accuracy: 0.8837 - val_loss: 0.3838 - val_accuracy: 0.8270\n",
      "Epoch 72/120\n",
      "10000/10000 [==============================] - 2s 201us/sample - loss: 0.2727 - accuracy: 0.8812 - val_loss: 0.3973 - val_accuracy: 0.8330\n",
      "Epoch 73/120\n",
      "10000/10000 [==============================] - 2s 199us/sample - loss: 0.2727 - accuracy: 0.8813 - val_loss: 0.3828 - val_accuracy: 0.8210\n",
      "Epoch 74/120\n",
      "10000/10000 [==============================] - 2s 200us/sample - loss: 0.2733 - accuracy: 0.8798 - val_loss: 0.4151 - val_accuracy: 0.8280\n",
      "Epoch 75/120\n",
      "10000/10000 [==============================] - 2s 201us/sample - loss: 0.2666 - accuracy: 0.8831 - val_loss: 0.4008 - val_accuracy: 0.8250\n",
      "Epoch 76/120\n",
      "10000/10000 [==============================] - 2s 202us/sample - loss: 0.2705 - accuracy: 0.8806 - val_loss: 0.3993 - val_accuracy: 0.8370\n",
      "Epoch 77/120\n",
      "10000/10000 [==============================] - 2s 201us/sample - loss: 0.2657 - accuracy: 0.8849 - val_loss: 0.3946 - val_accuracy: 0.8340\n",
      "Epoch 78/120\n",
      "10000/10000 [==============================] - 2s 200us/sample - loss: 0.2623 - accuracy: 0.8842 - val_loss: 0.4148 - val_accuracy: 0.8360\n",
      "Epoch 79/120\n",
      "10000/10000 [==============================] - 2s 200us/sample - loss: 0.2633 - accuracy: 0.8858 - val_loss: 0.4281 - val_accuracy: 0.8280\n",
      "Epoch 80/120\n",
      "10000/10000 [==============================] - 2s 201us/sample - loss: 0.2720 - accuracy: 0.8827 - val_loss: 0.4134 - val_accuracy: 0.8280\n",
      "Epoch 81/120\n",
      "10000/10000 [==============================] - 2s 203us/sample - loss: 0.2655 - accuracy: 0.8857 - val_loss: 0.4248 - val_accuracy: 0.8240\n",
      "Epoch 82/120\n",
      "10000/10000 [==============================] - 2s 203us/sample - loss: 0.2594 - accuracy: 0.8891 - val_loss: 0.4091 - val_accuracy: 0.8280\n",
      "Epoch 83/120\n",
      "10000/10000 [==============================] - 2s 201us/sample - loss: 0.2593 - accuracy: 0.8881 - val_loss: 0.4263 - val_accuracy: 0.8330\n",
      "Epoch 84/120\n",
      "10000/10000 [==============================] - 2s 202us/sample - loss: 0.2583 - accuracy: 0.8904 - val_loss: 0.4210 - val_accuracy: 0.8310\n",
      "Epoch 85/120\n",
      "10000/10000 [==============================] - 2s 201us/sample - loss: 0.2607 - accuracy: 0.8900 - val_loss: 0.4298 - val_accuracy: 0.8330\n",
      "Epoch 86/120\n",
      "10000/10000 [==============================] - 2s 206us/sample - loss: 0.2592 - accuracy: 0.8890 - val_loss: 0.4172 - val_accuracy: 0.8270\n",
      "Epoch 87/120\n",
      "10000/10000 [==============================] - 2s 203us/sample - loss: 0.2559 - accuracy: 0.8884 - val_loss: 0.4306 - val_accuracy: 0.8250\n",
      "Epoch 88/120\n",
      "10000/10000 [==============================] - 2s 204us/sample - loss: 0.2531 - accuracy: 0.8909 - val_loss: 0.4049 - val_accuracy: 0.8340\n",
      "Epoch 89/120\n",
      "10000/10000 [==============================] - 2s 204us/sample - loss: 0.2566 - accuracy: 0.8885 - val_loss: 0.4334 - val_accuracy: 0.8230\n",
      "Epoch 90/120\n",
      "10000/10000 [==============================] - 2s 204us/sample - loss: 0.2510 - accuracy: 0.8917 - val_loss: 0.4366 - val_accuracy: 0.8350\n",
      "Epoch 91/120\n",
      "10000/10000 [==============================] - 2s 205us/sample - loss: 0.2520 - accuracy: 0.8922 - val_loss: 0.4310 - val_accuracy: 0.8290\n",
      "Epoch 92/120\n",
      "10000/10000 [==============================] - 2s 201us/sample - loss: 0.2490 - accuracy: 0.8909 - val_loss: 0.4627 - val_accuracy: 0.8330\n",
      "Epoch 93/120\n",
      "10000/10000 [==============================] - 2s 204us/sample - loss: 0.2497 - accuracy: 0.8907 - val_loss: 0.4358 - val_accuracy: 0.8360\n",
      "Epoch 94/120\n",
      "10000/10000 [==============================] - 2s 203us/sample - loss: 0.2452 - accuracy: 0.8939 - val_loss: 0.4280 - val_accuracy: 0.8320\n",
      "Epoch 95/120\n",
      "10000/10000 [==============================] - 2s 203us/sample - loss: 0.2481 - accuracy: 0.8905 - val_loss: 0.4477 - val_accuracy: 0.8330\n",
      "Epoch 96/120\n",
      "10000/10000 [==============================] - 2s 204us/sample - loss: 0.2452 - accuracy: 0.8949 - val_loss: 0.4517 - val_accuracy: 0.8320\n",
      "Epoch 97/120\n",
      "10000/10000 [==============================] - 2s 202us/sample - loss: 0.2434 - accuracy: 0.8925 - val_loss: 0.4551 - val_accuracy: 0.8270\n",
      "Epoch 98/120\n",
      "10000/10000 [==============================] - 2s 202us/sample - loss: 0.2441 - accuracy: 0.8977 - val_loss: 0.4341 - val_accuracy: 0.8310\n",
      "Epoch 99/120\n",
      "10000/10000 [==============================] - 2s 202us/sample - loss: 0.2402 - accuracy: 0.8964 - val_loss: 0.4668 - val_accuracy: 0.8260\n",
      "Epoch 100/120\n",
      "10000/10000 [==============================] - 2s 201us/sample - loss: 0.2433 - accuracy: 0.8972 - val_loss: 0.4592 - val_accuracy: 0.8270\n",
      "Epoch 101/120\n",
      "10000/10000 [==============================] - 2s 202us/sample - loss: 0.2376 - accuracy: 0.8978 - val_loss: 0.4356 - val_accuracy: 0.8250\n",
      "Epoch 102/120\n",
      "10000/10000 [==============================] - 2s 203us/sample - loss: 0.2376 - accuracy: 0.8958 - val_loss: 0.4630 - val_accuracy: 0.8240\n",
      "Epoch 103/120\n",
      "10000/10000 [==============================] - 2s 201us/sample - loss: 0.2350 - accuracy: 0.8994 - val_loss: 0.5185 - val_accuracy: 0.8280\n",
      "Epoch 104/120\n",
      "10000/10000 [==============================] - 2s 201us/sample - loss: 0.2383 - accuracy: 0.8980 - val_loss: 0.4770 - val_accuracy: 0.8230\n",
      "Epoch 105/120\n",
      "10000/10000 [==============================] - 2s 201us/sample - loss: 0.2314 - accuracy: 0.9003 - val_loss: 0.4965 - val_accuracy: 0.8190\n",
      "Epoch 106/120\n",
      "10000/10000 [==============================] - 2s 202us/sample - loss: 0.2370 - accuracy: 0.9000 - val_loss: 0.4537 - val_accuracy: 0.8290\n",
      "Epoch 107/120\n",
      "10000/10000 [==============================] - 2s 202us/sample - loss: 0.2263 - accuracy: 0.9054 - val_loss: 0.5313 - val_accuracy: 0.8200\n"
     ]
    },
    {
     "name": "stdout",
     "output_type": "stream",
     "text": [
      "Epoch 108/120\n",
      "10000/10000 [==============================] - 2s 203us/sample - loss: 0.2331 - accuracy: 0.8999 - val_loss: 0.4997 - val_accuracy: 0.8150\n",
      "Epoch 109/120\n",
      "10000/10000 [==============================] - 2s 199us/sample - loss: 0.2338 - accuracy: 0.9007 - val_loss: 0.4864 - val_accuracy: 0.8260\n",
      "Epoch 110/120\n",
      "10000/10000 [==============================] - 2s 201us/sample - loss: 0.2280 - accuracy: 0.9016 - val_loss: 0.4526 - val_accuracy: 0.8240\n",
      "Epoch 111/120\n",
      "10000/10000 [==============================] - 2s 200us/sample - loss: 0.2292 - accuracy: 0.9037 - val_loss: 0.5063 - val_accuracy: 0.8240\n",
      "Epoch 112/120\n",
      "10000/10000 [==============================] - 2s 201us/sample - loss: 0.2340 - accuracy: 0.8959 - val_loss: 0.4850 - val_accuracy: 0.8260\n",
      "Epoch 113/120\n",
      "10000/10000 [==============================] - 2s 200us/sample - loss: 0.2300 - accuracy: 0.9005 - val_loss: 0.5007 - val_accuracy: 0.8200\n",
      "Epoch 114/120\n",
      "10000/10000 [==============================] - 2s 201us/sample - loss: 0.2206 - accuracy: 0.9042 - val_loss: 0.4983 - val_accuracy: 0.8200\n",
      "Epoch 115/120\n",
      "10000/10000 [==============================] - 2s 201us/sample - loss: 0.2213 - accuracy: 0.9067 - val_loss: 0.5109 - val_accuracy: 0.8290\n",
      "Epoch 116/120\n",
      "10000/10000 [==============================] - 2s 202us/sample - loss: 0.2248 - accuracy: 0.9049 - val_loss: 0.5167 - val_accuracy: 0.8200\n",
      "Epoch 117/120\n",
      "10000/10000 [==============================] - 2s 202us/sample - loss: 0.2229 - accuracy: 0.9052 - val_loss: 0.5413 - val_accuracy: 0.8180\n",
      "Epoch 118/120\n",
      "10000/10000 [==============================] - 2s 200us/sample - loss: 0.2249 - accuracy: 0.9037 - val_loss: 0.5295 - val_accuracy: 0.8160\n",
      "Epoch 119/120\n",
      "10000/10000 [==============================] - 2s 201us/sample - loss: 0.2178 - accuracy: 0.9062 - val_loss: 0.5131 - val_accuracy: 0.8250\n",
      "Epoch 120/120\n",
      "10000/10000 [==============================] - 2s 202us/sample - loss: 0.2159 - accuracy: 0.9082 - val_loss: 0.5420 - val_accuracy: 0.8160\n"
     ]
    }
   ],
   "source": [
    "# train\n",
    "history = model.fit([inputs_train, queries_train], answers_train,batch_size=32, epochs=120, \n",
    "                    validation_data=([inputs_test, queries_test], answers_test))"
   ]
  },
  {
   "cell_type": "markdown",
   "metadata": {},
   "source": [
    "### Saving the Model"
   ]
  },
  {
   "cell_type": "code",
   "execution_count": 76,
   "metadata": {},
   "outputs": [],
   "source": [
    "filename = 'chatbot_120_epochs.h5'\n",
    "model.save(filename)"
   ]
  },
  {
   "cell_type": "markdown",
   "metadata": {},
   "source": [
    "## Evaluating the Model\n",
    "\n",
    "### Plotting Out Training History"
   ]
  },
  {
   "cell_type": "code",
   "execution_count": 93,
   "metadata": {},
   "outputs": [
    {
     "name": "stdout",
     "output_type": "stream",
     "text": [
      "dict_keys(['loss', 'accuracy', 'val_loss', 'val_accuracy'])\n"
     ]
    },
    {
     "data": {
      "image/png": "[encoded data removed]",
      "text/plain": [
       "<Figure size 432x288 with 1 Axes>"
      ]
     },
     "metadata": {
      "needs_background": "light"
     },
     "output_type": "display_data"
    }
   ],
   "source": [
    "import matplotlib.pyplot as plt\n",
    "%matplotlib inline\n",
    "print(history.history.keys())\n",
    "# summarize history for accuracy\n",
    "plt.plot(history.history['accuracy'])\n",
    "plt.plot(history.history['val_accuracy'])\n",
    "plt.title('model accuracy')\n",
    "plt.ylabel('accuracy')\n",
    "plt.xlabel('epochs')\n",
    "plt.legend(['train', 'test'], loc='upper left')\n",
    "plt.show()"
   ]
  },
  {
   "cell_type": "markdown",
   "metadata": {},
   "source": [
    "### Evaluating on Given Test Set"
   ]
  },
  {
   "cell_type": "code",
   "execution_count": 79,
   "metadata": {},
   "outputs": [],
   "source": [
    "model.load_weights(filename)\n",
    "pred_results = model.predict(([inputs_test, queries_test]))"
   ]
  },
  {
   "cell_type": "code",
   "execution_count": 80,
   "metadata": {},
   "outputs": [
    {
     "data": {
      "text/plain": [
       "['Mary',\n",
       " 'got',\n",
       " 'the',\n",
       " 'milk',\n",
       " 'there',\n",
       " '.',\n",
       " 'John',\n",
       " 'moved',\n",
       " 'to',\n",
       " 'the',\n",
       " 'bedroom',\n",
       " '.']"
      ]
     },
     "execution_count": 80,
     "metadata": {},
     "output_type": "execute_result"
    }
   ],
   "source": [
    "test_data[0][0]"
   ]
  },
  {
   "cell_type": "code",
   "execution_count": 81,
   "metadata": {},
   "outputs": [
    {
     "name": "stdout",
     "output_type": "stream",
     "text": [
      "Mary got the milk there . John moved to the bedroom .\n"
     ]
    }
   ],
   "source": [
    "story =' '.join(word for word in test_data[0][0])\n",
    "print(story)"
   ]
  },
  {
   "cell_type": "code",
   "execution_count": 82,
   "metadata": {},
   "outputs": [
    {
     "name": "stdout",
     "output_type": "stream",
     "text": [
      "Is John in the kitchen ?\n"
     ]
    }
   ],
   "source": [
    "query = ' '.join(word for word in test_data[0][1])\n",
    "print(query)"
   ]
  },
  {
   "cell_type": "code",
   "execution_count": 83,
   "metadata": {},
   "outputs": [
    {
     "name": "stdout",
     "output_type": "stream",
     "text": [
      "True Test Answer from Data is: no\n"
     ]
    }
   ],
   "source": [
    "print(\"True Test Answer from Data is:\",test_data[0][2])"
   ]
  },
  {
   "cell_type": "code",
   "execution_count": 84,
   "metadata": {},
   "outputs": [
    {
     "name": "stdout",
     "output_type": "stream",
     "text": [
      "Predicted answer is:  no\n",
      "Probability of certainty was:  0.99995375\n"
     ]
    }
   ],
   "source": [
    "#Generate prediction from model\n",
    "val_max = np.argmax(pred_results[0])\n",
    "\n",
    "for key, val in tokenizer.word_index.items():\n",
    "    if val == val_max:\n",
    "        k = key\n",
    "\n",
    "print(\"Predicted answer is: \", k)\n",
    "print(\"Probability of certainty was: \", pred_results[0][val_max])"
   ]
  },
  {
   "cell_type": "markdown",
   "metadata": {},
   "source": [
    "## Writing Your Own Stories and Questions\n",
    "\n",
    "Remember you can only use words from the existing vocab"
   ]
  },
  {
   "cell_type": "code",
   "execution_count": 85,
   "metadata": {},
   "outputs": [
    {
     "data": {
      "text/plain": [
       "{'.',\n",
       " '?',\n",
       " 'Daniel',\n",
       " 'Is',\n",
       " 'John',\n",
       " 'Mary',\n",
       " 'Sandra',\n",
       " 'apple',\n",
       " 'back',\n",
       " 'bathroom',\n",
       " 'bedroom',\n",
       " 'discarded',\n",
       " 'down',\n",
       " 'dropped',\n",
       " 'football',\n",
       " 'garden',\n",
       " 'got',\n",
       " 'grabbed',\n",
       " 'hallway',\n",
       " 'in',\n",
       " 'journeyed',\n",
       " 'kitchen',\n",
       " 'left',\n",
       " 'milk',\n",
       " 'moved',\n",
       " 'no',\n",
       " 'office',\n",
       " 'picked',\n",
       " 'put',\n",
       " 'the',\n",
       " 'there',\n",
       " 'to',\n",
       " 'took',\n",
       " 'travelled',\n",
       " 'up',\n",
       " 'went',\n",
       " 'yes'}"
      ]
     },
     "execution_count": 85,
     "metadata": {},
     "output_type": "execute_result"
    }
   ],
   "source": [
    "vocab"
   ]
  },
  {
   "cell_type": "code",
   "execution_count": 86,
   "metadata": {},
   "outputs": [
    {
     "data": {
      "text/plain": [
       "['John',\n",
       " 'left',\n",
       " 'the',\n",
       " 'kitchen',\n",
       " '.',\n",
       " 'Sandra',\n",
       " 'dropped',\n",
       " 'the',\n",
       " 'football',\n",
       " 'in',\n",
       " 'the',\n",
       " 'garden',\n",
       " '.']"
      ]
     },
     "execution_count": 86,
     "metadata": {},
     "output_type": "execute_result"
    }
   ],
   "source": [
    "# Note the whitespace of the periods\n",
    "my_story = \"John left the kitchen . Sandra dropped the football in the garden .\"\n",
    "my_story.split()"
   ]
  },
  {
   "cell_type": "code",
   "execution_count": 87,
   "metadata": {},
   "outputs": [],
   "source": [
    "my_question = \"Is the football in the garden ?\""
   ]
  },
  {
   "cell_type": "code",
   "execution_count": 88,
   "metadata": {},
   "outputs": [
    {
     "data": {
      "text/plain": [
       "['Is', 'the', 'football', 'in', 'the', 'garden', '?']"
      ]
     },
     "execution_count": 88,
     "metadata": {},
     "output_type": "execute_result"
    }
   ],
   "source": [
    "my_question.split()"
   ]
  },
  {
   "cell_type": "code",
   "execution_count": 89,
   "metadata": {},
   "outputs": [],
   "source": [
    "mydata = [(my_story.split(),my_question.split(),'yes')]"
   ]
  },
  {
   "cell_type": "code",
   "execution_count": 90,
   "metadata": {},
   "outputs": [],
   "source": [
    "my_story,my_ques,my_ans = vectorize_stories(mydata)"
   ]
  },
  {
   "cell_type": "code",
   "execution_count": 91,
   "metadata": {},
   "outputs": [],
   "source": [
    "pred_results = model.predict(([ my_story, my_ques]))"
   ]
  },
  {
   "cell_type": "code",
   "execution_count": 92,
   "metadata": {},
   "outputs": [
    {
     "name": "stdout",
     "output_type": "stream",
     "text": [
      "Predicted answer is:  yes\n",
      "Probability of certainty was:  0.68924487\n"
     ]
    }
   ],
   "source": [
    "#Generate prediction from model\n",
    "val_max = np.argmax(pred_results[0])\n",
    "\n",
    "for key, val in tokenizer.word_index.items():\n",
    "    if val == val_max:\n",
    "        k = key\n",
    "\n",
    "print(\"Predicted answer is: \", k)\n",
    "print(\"Probability of certainty was: \", pred_results[0][val_max])"
   ]
  }
 ],
 "metadata": {
  "kernelspec": {
   "display_name": "Python 3",
   "language": "python",
   "name": "python3"
  },
  "language_info": {
   "codemirror_mode": {
    "name": "ipython",
    "version": 3
   },
   "file_extension": ".py",
   "mimetype": "text/x-python",
   "name": "python",
   "nbconvert_exporter": "python",
   "pygments_lexer": "ipython3",
   "version": "3.7.5"
  }
 },
 "nbformat": 4,
 "nbformat_minor": 2
}
