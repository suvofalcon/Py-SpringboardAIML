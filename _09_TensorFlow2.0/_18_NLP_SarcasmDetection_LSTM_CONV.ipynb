{
 "cells": [
  {
   "cell_type": "markdown",
   "source": [
    "# Sarcasm Detection using Tensorflow - Bidirectional LSTMs and Convolutional 1D\n",
    "\n",
    "Past studies in Sarcasm Detection mostly make use of Twitter datasets collected using hashtag based supervision but such datasets are noisy in terms of labels and language. Furthermore, many tweets are replies to other tweets and detecting sarcasm in these requires the availability of contextual tweets.\n",
    "\n",
    "To overcome the limitations related to noise in Twitter datasets, this News Headlines dataset for Sarcasm Detection is collected from two news website. TheOnion aims at producing sarcastic versions of current events and we collected all the headlines from News in Brief and News in Photos categories (which are sarcastic). We collect real (and non-sarcastic) news headlines from HuffPost.\n",
    "\n",
    "This new dataset has following advantages over the existing Twitter datasets:\n",
    "\n",
    "Since news headlines are written by professionals in a formal manner, there are no spelling mistakes and informal usage. This reduces the sparsity and also increases the chance of finding pre-trained embeddings.\n",
    "\n",
    "Furthermore, since the sole purpose of TheOnion is to publish sarcastic news, we get high-quality labels with much less noise as compared to Twitter datasets.\n",
    "\n",
    "Unlike tweets which are replies to other tweets, the news headlines we obtained are self-contained. This would help us in teasing apart the real sarcastic elements.\n",
    "\n",
    "**Content**\n",
    "Each record consists of three attributes:\n",
    "\n",
    "is_sarcastic: 1 if the record is sarcastic otherwise 0\n",
    "\n",
    "headline: the headline of the news article\n",
    "\n",
    "article_link: link to the original news article. Useful in collecting supplementary data\n",
    "\n",
    "***\n",
    "The concept is to perform tokenizing the words to get numeric values from them and then using Embeddings to group words of similar meaning,\n",
    "depending on how they are labelled resulting in a good but rough sentiment analysis\n",
    "***"
   ],
   "metadata": {
    "collapsed": false
   }
  },
  {
   "cell_type": "code",
   "execution_count": 8,
   "outputs": [],
   "source": [
    "# Library imports\n",
    "\n",
    "import json\n",
    "import numpy as np\n",
    "import tensorflow as tf\n",
    "from tensorflow.keras.preprocessing.text import Tokenizer\n",
    "from tensorflow.keras.preprocessing.sequence import pad_sequences\n",
    "import matplotlib.pyplot as plt"
   ],
   "metadata": {
    "collapsed": false,
    "pycharm": {
     "name": "#%%\n"
    }
   }
  },
  {
   "cell_type": "code",
   "execution_count": 2,
   "metadata": {
    "collapsed": true
   },
   "outputs": [],
   "source": [
    "# Load the json data\n",
    "\n",
    "def parse_data(file):\n",
    "    for l in open(file,'r'):\n",
    "        yield json.loads(l)\n",
    "\n",
    "datastore = list(parse_data('resources/Sarcasm_Headlines_Dataset.json'))\n",
    "\n",
    "# define the attribues from the json data\n",
    "sentences = []\n",
    "labels = []\n",
    "urls = []\n",
    "\n",
    "for item in datastore:\n",
    "    sentences.append(item['headline'])\n",
    "    labels.append(item['is_sarcastic'])"
   ]
  },
  {
   "cell_type": "code",
   "execution_count": 3,
   "outputs": [],
   "source": [
    "# Define some global constants\n",
    "vocab_size = 1000\n",
    "embedding_dim = 16\n",
    "max_length = 120\n",
    "trunc_type = 'post'\n",
    "padding_type = 'post'\n",
    "oov_tok = \"<oov>\"\n",
    "training_size = 20000"
   ],
   "metadata": {
    "collapsed": false,
    "pycharm": {
     "name": "#%%\n"
    }
   }
  },
  {
   "cell_type": "code",
   "execution_count": 4,
   "outputs": [],
   "source": [
    "training_sentences = sentences[0:training_size]\n",
    "testing_sentences = sentences[training_size:]\n",
    "training_labels = labels[0:training_size]\n",
    "testing_labels = labels[training_size:]"
   ],
   "metadata": {
    "collapsed": false,
    "pycharm": {
     "name": "#%%\n"
    }
   }
  },
  {
   "cell_type": "code",
   "execution_count": 5,
   "outputs": [],
   "source": [
    "# Build the tokenizer\n",
    "tokenizer = Tokenizer(num_words=vocab_size, oov_token=oov_tok)\n",
    "tokenizer.fit_on_texts(training_sentences)\n",
    "word_index = tokenizer.word_index\n",
    "\n",
    "training_sequences = tokenizer.texts_to_sequences(training_sentences)\n",
    "training_padded = pad_sequences(training_sequences, maxlen=max_length, padding=padding_type, truncating=trunc_type)\n",
    "\n",
    "testing_sequences = tokenizer.texts_to_sequences(testing_sentences)\n",
    "testing_padded = pad_sequences(testing_sequences, maxlen=max_length, padding=padding_type, truncating=trunc_type)"
   ],
   "metadata": {
    "collapsed": false,
    "pycharm": {
     "name": "#%%\n"
    }
   }
  },
  {
   "cell_type": "code",
   "execution_count": 6,
   "outputs": [
    {
     "name": "stdout",
     "output_type": "stream",
     "text": [
      "Model: \"sequential\"\n",
      "_________________________________________________________________\n",
      "Layer (type)                 Output Shape              Param #   \n",
      "=================================================================\n",
      "embedding (Embedding)        (None, 120, 16)           16000     \n",
      "_________________________________________________________________\n",
      "bidirectional (Bidirectional (None, 64)                12544     \n",
      "_________________________________________________________________\n",
      "dense (Dense)                (None, 24)                1560      \n",
      "_________________________________________________________________\n",
      "dense_1 (Dense)              (None, 1)                 25        \n",
      "=================================================================\n",
      "Total params: 30,129\n",
      "Trainable params: 30,129\n",
      "Non-trainable params: 0\n",
      "_________________________________________________________________\n"
     ]
    }
   ],
   "source": [
    "# Build the LSTM model and compile\n",
    "model = tf.keras.Sequential([\n",
    "    tf.keras.layers.Embedding(input_dim=vocab_size, output_dim=embedding_dim, input_length=max_length),\n",
    "    tf.keras.layers.Bidirectional(tf.keras.layers.LSTM(32)),\n",
    "    tf.keras.layers.Dense(24, activation=tf.nn.relu),\n",
    "    tf.keras.layers.Dense(1, activation=tf.nn.sigmoid)\n",
    "])\n",
    "\n",
    "model.compile(loss='binary_crossentropy', optimizer='adam', metrics=['accuracy'])\n",
    "model.summary()"
   ],
   "metadata": {
    "collapsed": false,
    "pycharm": {
     "name": "#%%\n"
    }
   }
  },
  {
   "cell_type": "code",
   "execution_count": 7,
   "outputs": [
    {
     "name": "stdout",
     "output_type": "stream",
     "text": [
      "Epoch 1/50\n",
      "625/625 [==============================] - 17s 22ms/step - loss: 0.4499 - accuracy: 0.7713 - val_loss: 0.3920 - val_accuracy: 0.8231\n",
      "Epoch 2/50\n",
      "625/625 [==============================] - 14s 22ms/step - loss: 0.3484 - accuracy: 0.8415 - val_loss: 0.3743 - val_accuracy: 0.8249\n",
      "Epoch 3/50\n",
      "625/625 [==============================] - 13s 21ms/step - loss: 0.3277 - accuracy: 0.8522 - val_loss: 0.3797 - val_accuracy: 0.8216\n",
      "Epoch 4/50\n",
      "625/625 [==============================] - 14s 22ms/step - loss: 0.3122 - accuracy: 0.8607 - val_loss: 0.3732 - val_accuracy: 0.8331\n",
      "Epoch 5/50\n",
      "625/625 [==============================] - 13s 22ms/step - loss: 0.3029 - accuracy: 0.8658 - val_loss: 0.3770 - val_accuracy: 0.8343\n",
      "Epoch 6/50\n",
      "625/625 [==============================] - 12s 20ms/step - loss: 0.2953 - accuracy: 0.8701 - val_loss: 0.3782 - val_accuracy: 0.8313\n",
      "Epoch 7/50\n",
      "625/625 [==============================] - 12s 20ms/step - loss: 0.2858 - accuracy: 0.8732 - val_loss: 0.3784 - val_accuracy: 0.8326\n",
      "Epoch 8/50\n",
      "625/625 [==============================] - 12s 20ms/step - loss: 0.2803 - accuracy: 0.8770 - val_loss: 0.3849 - val_accuracy: 0.8299\n",
      "Epoch 9/50\n",
      "625/625 [==============================] - 12s 20ms/step - loss: 0.2707 - accuracy: 0.8825 - val_loss: 0.3957 - val_accuracy: 0.8301\n",
      "Epoch 10/50\n",
      "625/625 [==============================] - 12s 20ms/step - loss: 0.2638 - accuracy: 0.8853 - val_loss: 0.3870 - val_accuracy: 0.8308\n",
      "Epoch 11/50\n",
      "625/625 [==============================] - 12s 20ms/step - loss: 0.2559 - accuracy: 0.8892 - val_loss: 0.4071 - val_accuracy: 0.8253\n",
      "Epoch 12/50\n",
      "625/625 [==============================] - 13s 20ms/step - loss: 0.2465 - accuracy: 0.8930 - val_loss: 0.4038 - val_accuracy: 0.8295\n",
      "Epoch 13/50\n",
      "625/625 [==============================] - 12s 20ms/step - loss: 0.2394 - accuracy: 0.8978 - val_loss: 0.4181 - val_accuracy: 0.8222\n",
      "Epoch 14/50\n",
      "625/625 [==============================] - 13s 20ms/step - loss: 0.2307 - accuracy: 0.9013 - val_loss: 0.4486 - val_accuracy: 0.8228\n",
      "Epoch 15/50\n",
      "625/625 [==============================] - 12s 20ms/step - loss: 0.2232 - accuracy: 0.9056 - val_loss: 0.4357 - val_accuracy: 0.8232\n",
      "Epoch 16/50\n",
      "625/625 [==============================] - 12s 20ms/step - loss: 0.2179 - accuracy: 0.9064 - val_loss: 0.4642 - val_accuracy: 0.8225\n",
      "Epoch 17/50\n",
      "625/625 [==============================] - 12s 20ms/step - loss: 0.2092 - accuracy: 0.9130 - val_loss: 0.5010 - val_accuracy: 0.8204\n",
      "Epoch 18/50\n",
      "625/625 [==============================] - 12s 20ms/step - loss: 0.2006 - accuracy: 0.9168 - val_loss: 0.5080 - val_accuracy: 0.8190\n",
      "Epoch 19/50\n",
      "625/625 [==============================] - 13s 20ms/step - loss: 0.1957 - accuracy: 0.9191 - val_loss: 0.5338 - val_accuracy: 0.8141\n",
      "Epoch 20/50\n",
      "625/625 [==============================] - 13s 20ms/step - loss: 0.1885 - accuracy: 0.9215 - val_loss: 0.5724 - val_accuracy: 0.8131\n",
      "Epoch 21/50\n",
      "625/625 [==============================] - 12s 20ms/step - loss: 0.1803 - accuracy: 0.9261 - val_loss: 0.5869 - val_accuracy: 0.8143\n",
      "Epoch 22/50\n",
      "625/625 [==============================] - 13s 20ms/step - loss: 0.1743 - accuracy: 0.9298 - val_loss: 0.6353 - val_accuracy: 0.8095\n",
      "Epoch 23/50\n",
      "625/625 [==============================] - 14s 22ms/step - loss: 0.1681 - accuracy: 0.9299 - val_loss: 0.6566 - val_accuracy: 0.8089\n",
      "Epoch 24/50\n",
      "625/625 [==============================] - 14s 22ms/step - loss: 0.1587 - accuracy: 0.9355 - val_loss: 0.6271 - val_accuracy: 0.8076\n",
      "Epoch 25/50\n",
      "625/625 [==============================] - 14s 22ms/step - loss: 0.1532 - accuracy: 0.9360 - val_loss: 0.7491 - val_accuracy: 0.8061\n",
      "Epoch 26/50\n",
      "625/625 [==============================] - 14s 22ms/step - loss: 0.1457 - accuracy: 0.9396 - val_loss: 0.7509 - val_accuracy: 0.8070\n",
      "Epoch 27/50\n",
      "625/625 [==============================] - 14s 22ms/step - loss: 0.1385 - accuracy: 0.9445 - val_loss: 0.8175 - val_accuracy: 0.8065\n",
      "Epoch 28/50\n",
      "625/625 [==============================] - 13s 20ms/step - loss: 0.1354 - accuracy: 0.9447 - val_loss: 0.8384 - val_accuracy: 0.8052\n",
      "Epoch 29/50\n",
      "625/625 [==============================] - 14s 22ms/step - loss: 0.1317 - accuracy: 0.9459 - val_loss: 0.9031 - val_accuracy: 0.8037\n",
      "Epoch 30/50\n",
      "625/625 [==============================] - 14s 22ms/step - loss: 0.1232 - accuracy: 0.9497 - val_loss: 0.9370 - val_accuracy: 0.8065\n",
      "Epoch 31/50\n",
      "625/625 [==============================] - 14s 22ms/step - loss: 0.1202 - accuracy: 0.9497 - val_loss: 0.9526 - val_accuracy: 0.8037\n",
      "Epoch 32/50\n",
      "625/625 [==============================] - 13s 21ms/step - loss: 0.1138 - accuracy: 0.9536 - val_loss: 1.0502 - val_accuracy: 0.8015\n",
      "Epoch 33/50\n",
      "625/625 [==============================] - 13s 22ms/step - loss: 0.1099 - accuracy: 0.9551 - val_loss: 1.1811 - val_accuracy: 0.8010\n",
      "Epoch 34/50\n",
      "625/625 [==============================] - 14s 22ms/step - loss: 0.1045 - accuracy: 0.9569 - val_loss: 1.0454 - val_accuracy: 0.7994\n",
      "Epoch 35/50\n",
      "625/625 [==============================] - 13s 22ms/step - loss: 0.1011 - accuracy: 0.9587 - val_loss: 1.2291 - val_accuracy: 0.7994\n",
      "Epoch 36/50\n",
      "625/625 [==============================] - 14s 22ms/step - loss: 0.0992 - accuracy: 0.9602 - val_loss: 1.2370 - val_accuracy: 0.7967\n",
      "Epoch 37/50\n",
      "625/625 [==============================] - 13s 20ms/step - loss: 0.0953 - accuracy: 0.9610 - val_loss: 1.2340 - val_accuracy: 0.7962\n",
      "Epoch 38/50\n",
      "625/625 [==============================] - 12s 20ms/step - loss: 0.0909 - accuracy: 0.9616 - val_loss: 1.3177 - val_accuracy: 0.7953\n",
      "Epoch 39/50\n",
      "625/625 [==============================] - 13s 21ms/step - loss: 0.0834 - accuracy: 0.9656 - val_loss: 1.3650 - val_accuracy: 0.8000\n",
      "Epoch 40/50\n",
      "625/625 [==============================] - 12s 20ms/step - loss: 0.0900 - accuracy: 0.9628 - val_loss: 1.3112 - val_accuracy: 0.7980\n",
      "Epoch 41/50\n",
      "625/625 [==============================] - 12s 20ms/step - loss: 0.0828 - accuracy: 0.9645 - val_loss: 1.4065 - val_accuracy: 0.7979\n",
      "Epoch 42/50\n",
      "625/625 [==============================] - 13s 20ms/step - loss: 0.0762 - accuracy: 0.9674 - val_loss: 1.4947 - val_accuracy: 0.7982\n",
      "Epoch 43/50\n",
      "625/625 [==============================] - 13s 20ms/step - loss: 0.0813 - accuracy: 0.9660 - val_loss: 1.5617 - val_accuracy: 0.8007\n",
      "Epoch 44/50\n",
      "625/625 [==============================] - 13s 20ms/step - loss: 0.0788 - accuracy: 0.9664 - val_loss: 1.5596 - val_accuracy: 0.7991\n",
      "Epoch 45/50\n",
      "625/625 [==============================] - 13s 20ms/step - loss: 0.0712 - accuracy: 0.9689 - val_loss: 1.5636 - val_accuracy: 0.7936\n",
      "Epoch 46/50\n",
      "625/625 [==============================] - 12s 20ms/step - loss: 0.0744 - accuracy: 0.9678 - val_loss: 1.5967 - val_accuracy: 0.7925\n",
      "Epoch 47/50\n",
      "625/625 [==============================] - 13s 20ms/step - loss: 0.0687 - accuracy: 0.9707 - val_loss: 1.6815 - val_accuracy: 0.7912\n",
      "Epoch 48/50\n",
      "625/625 [==============================] - 13s 20ms/step - loss: 0.0706 - accuracy: 0.9706 - val_loss: 1.6112 - val_accuracy: 0.7922\n",
      "Epoch 49/50\n",
      "625/625 [==============================] - 13s 20ms/step - loss: 0.0648 - accuracy: 0.9715 - val_loss: 1.6637 - val_accuracy: 0.7986\n",
      "Epoch 50/50\n",
      "625/625 [==============================] - 13s 20ms/step - loss: 0.0609 - accuracy: 0.9729 - val_loss: 1.6964 - val_accuracy: 0.7952\n"
     ]
    }
   ],
   "source": [
    "# fit on the training data\n",
    "num_epochs = 50\n",
    "training_padded = np.array(training_padded)\n",
    "testing_padded = np.array(testing_padded)\n",
    "training_labels = np.array(training_labels)\n",
    "testing_labels = np.array(testing_labels)\n",
    "history = model.fit(training_padded, training_labels, epochs=num_epochs,\n",
    "                    validation_data=(testing_padded, testing_labels), verbose=1)"
   ],
   "metadata": {
    "collapsed": false,
    "pycharm": {
     "name": "#%%\n"
    }
   }
  },
  {
   "cell_type": "code",
   "execution_count": 9,
   "outputs": [
    {
     "data": {
      "text/plain": "<Figure size 432x288 with 1 Axes>",
      "image/png": "[encoded data removed]"
     },
     "metadata": {
      "needs_background": "light"
     },
     "output_type": "display_data"
    },
    {
     "data": {
      "text/plain": "<Figure size 432x288 with 1 Axes>",
      "image/png": "[encoded data removed]"
     },
     "metadata": {
      "needs_background": "light"
     },
     "output_type": "display_data"
    }
   ],
   "source": [
    "# lets evaluate the accuracy and loss\n",
    "acc      = history.history['accuracy']\n",
    "val_acc  = history.history['val_accuracy']\n",
    "loss     = history.history['loss']\n",
    "val_loss = history.history['val_loss']\n",
    "\n",
    "epochs   = range(len(acc)) # Get number of epochs\n",
    "\n",
    "#------------------------------------------------\n",
    "# Plot training and validation accuracy per epoch\n",
    "#------------------------------------------------\n",
    "plt.plot  ( epochs, acc, label='Training Accuracy' )\n",
    "plt.plot  ( epochs, val_acc, label='Validation Accuracy' )\n",
    "plt.title ('Training and validation accuracy')\n",
    "plt.legend()\n",
    "plt.show()\n",
    "\n",
    "#------------------------------------------------\n",
    "# Plot training and validation loss per epoch\n",
    "#------------------------------------------------\n",
    "plt.plot  ( epochs, loss, label='Training Loss' )\n",
    "plt.plot  ( epochs, val_loss, label='Validation Loss' )\n",
    "plt.title ('Training and validation loss'   )\n",
    "plt.legend()\n",
    "plt.show()"
   ],
   "metadata": {
    "collapsed": false,
    "pycharm": {
     "name": "#%%\n"
    }
   }
  },
  {
   "cell_type": "code",
   "execution_count": 10,
   "outputs": [
    {
     "name": "stdout",
     "output_type": "stream",
     "text": [
      "Model: \"sequential_1\"\n",
      "_________________________________________________________________\n",
      "Layer (type)                 Output Shape              Param #   \n",
      "=================================================================\n",
      "embedding_1 (Embedding)      (None, 120, 16)           16000     \n",
      "_________________________________________________________________\n",
      "conv1d (Conv1D)              (None, 116, 128)          10368     \n",
      "_________________________________________________________________\n",
      "global_max_pooling1d (Global (None, 128)               0         \n",
      "_________________________________________________________________\n",
      "dense_2 (Dense)              (None, 24)                3096      \n",
      "_________________________________________________________________\n",
      "dense_3 (Dense)              (None, 1)                 25        \n",
      "=================================================================\n",
      "Total params: 29,489\n",
      "Trainable params: 29,489\n",
      "Non-trainable params: 0\n",
      "_________________________________________________________________\n"
     ]
    }
   ],
   "source": [
    "# Build the Conv1D model and compile\n",
    "\n",
    "model_conv = tf.keras.Sequential([\n",
    "    tf.keras.layers.Embedding(vocab_size, embedding_dim, input_length=max_length),\n",
    "    tf.keras.layers.Conv1D(128, 5, activation=tf.nn.relu),\n",
    "    tf.keras.layers.GlobalMaxPooling1D(),\n",
    "    tf.keras.layers.Dense(24, activation=tf.nn.relu),\n",
    "    tf.keras.layers.Dense(1, activation=tf.nn.sigmoid)\n",
    "])\n",
    "model_conv.compile(loss='binary_crossentropy', optimizer='adam', metrics=['accuracy'])\n",
    "model_conv.summary()"
   ],
   "metadata": {
    "collapsed": false,
    "pycharm": {
     "name": "#%%\n"
    }
   }
  },
  {
   "cell_type": "code",
   "execution_count": 12,
   "outputs": [
    {
     "name": "stdout",
     "output_type": "stream",
     "text": [
      "Epoch 1/50\n",
      "625/625 [==============================] - 3s 4ms/step - loss: 0.0173 - accuracy: 0.9924 - val_loss: 2.4529 - val_accuracy: 0.7727\n",
      "Epoch 2/50\n",
      "625/625 [==============================] - 3s 4ms/step - loss: 0.0265 - accuracy: 0.9888 - val_loss: 2.5210 - val_accuracy: 0.7778\n",
      "Epoch 3/50\n",
      "625/625 [==============================] - 3s 4ms/step - loss: 0.0212 - accuracy: 0.9908 - val_loss: 2.5501 - val_accuracy: 0.7778\n",
      "Epoch 4/50\n",
      "625/625 [==============================] - 3s 4ms/step - loss: 0.0162 - accuracy: 0.9923 - val_loss: 2.5956 - val_accuracy: 0.7758\n",
      "Epoch 5/50\n",
      "625/625 [==============================] - 3s 4ms/step - loss: 0.0181 - accuracy: 0.9915 - val_loss: 2.6365 - val_accuracy: 0.7787\n",
      "Epoch 6/50\n",
      "625/625 [==============================] - 3s 4ms/step - loss: 0.0185 - accuracy: 0.9917 - val_loss: 2.6698 - val_accuracy: 0.7761\n",
      "Epoch 7/50\n",
      "625/625 [==============================] - 3s 4ms/step - loss: 0.0202 - accuracy: 0.9908 - val_loss: 2.7285 - val_accuracy: 0.7784\n",
      "Epoch 8/50\n",
      "625/625 [==============================] - 3s 4ms/step - loss: 0.0181 - accuracy: 0.9921 - val_loss: 2.7536 - val_accuracy: 0.7788\n",
      "Epoch 9/50\n",
      "625/625 [==============================] - 3s 4ms/step - loss: 0.0177 - accuracy: 0.9920 - val_loss: 2.6837 - val_accuracy: 0.7773\n",
      "Epoch 10/50\n",
      "625/625 [==============================] - 3s 4ms/step - loss: 0.0159 - accuracy: 0.9928 - val_loss: 2.8312 - val_accuracy: 0.7769\n",
      "Epoch 11/50\n",
      "625/625 [==============================] - 2s 4ms/step - loss: 0.0161 - accuracy: 0.9924 - val_loss: 2.7851 - val_accuracy: 0.7837\n",
      "Epoch 12/50\n",
      "625/625 [==============================] - 3s 4ms/step - loss: 0.0178 - accuracy: 0.9916 - val_loss: 2.8971 - val_accuracy: 0.7740\n",
      "Epoch 13/50\n",
      "625/625 [==============================] - 3s 4ms/step - loss: 0.0232 - accuracy: 0.9907 - val_loss: 2.6728 - val_accuracy: 0.7772\n",
      "Epoch 14/50\n",
      "625/625 [==============================] - 3s 4ms/step - loss: 0.0184 - accuracy: 0.9923 - val_loss: 2.7436 - val_accuracy: 0.7764\n",
      "Epoch 15/50\n",
      "625/625 [==============================] - 3s 4ms/step - loss: 0.0161 - accuracy: 0.9927 - val_loss: 2.6860 - val_accuracy: 0.7779\n",
      "Epoch 16/50\n",
      "625/625 [==============================] - 3s 5ms/step - loss: 0.0136 - accuracy: 0.9940 - val_loss: 3.0028 - val_accuracy: 0.7800\n",
      "Epoch 17/50\n",
      "625/625 [==============================] - 3s 5ms/step - loss: 0.0137 - accuracy: 0.9934 - val_loss: 2.9299 - val_accuracy: 0.7813\n",
      "Epoch 18/50\n",
      "625/625 [==============================] - 2s 4ms/step - loss: 0.0155 - accuracy: 0.9929 - val_loss: 2.9966 - val_accuracy: 0.7833\n",
      "Epoch 19/50\n",
      "625/625 [==============================] - 3s 4ms/step - loss: 0.0261 - accuracy: 0.9890 - val_loss: 2.8636 - val_accuracy: 0.7731\n",
      "Epoch 20/50\n",
      "625/625 [==============================] - 3s 4ms/step - loss: 0.0236 - accuracy: 0.9900 - val_loss: 2.8936 - val_accuracy: 0.7740\n",
      "Epoch 21/50\n",
      "625/625 [==============================] - 3s 4ms/step - loss: 0.0160 - accuracy: 0.9927 - val_loss: 2.9159 - val_accuracy: 0.7812\n",
      "Epoch 22/50\n",
      "625/625 [==============================] - 3s 4ms/step - loss: 0.0142 - accuracy: 0.9932 - val_loss: 3.0903 - val_accuracy: 0.7804\n",
      "Epoch 23/50\n",
      "625/625 [==============================] - 3s 4ms/step - loss: 0.0129 - accuracy: 0.9934 - val_loss: 3.1602 - val_accuracy: 0.7839\n",
      "Epoch 24/50\n",
      "625/625 [==============================] - 2s 4ms/step - loss: 0.0130 - accuracy: 0.9936 - val_loss: 3.1702 - val_accuracy: 0.7809\n",
      "Epoch 25/50\n",
      "625/625 [==============================] - 2s 4ms/step - loss: 0.0128 - accuracy: 0.9937 - val_loss: 3.2407 - val_accuracy: 0.7749\n",
      "Epoch 26/50\n",
      "625/625 [==============================] - 2s 4ms/step - loss: 0.0162 - accuracy: 0.9928 - val_loss: 3.0588 - val_accuracy: 0.7807\n",
      "Epoch 27/50\n",
      "625/625 [==============================] - 2s 4ms/step - loss: 0.0251 - accuracy: 0.9892 - val_loss: 2.8142 - val_accuracy: 0.7803\n",
      "Epoch 28/50\n",
      "625/625 [==============================] - 3s 4ms/step - loss: 0.0205 - accuracy: 0.9908 - val_loss: 2.9640 - val_accuracy: 0.7801\n",
      "Epoch 29/50\n",
      "625/625 [==============================] - 3s 4ms/step - loss: 0.0160 - accuracy: 0.9927 - val_loss: 3.0162 - val_accuracy: 0.7754\n",
      "Epoch 30/50\n",
      "625/625 [==============================] - 3s 4ms/step - loss: 0.0152 - accuracy: 0.9930 - val_loss: 3.2241 - val_accuracy: 0.7819\n",
      "Epoch 31/50\n",
      "625/625 [==============================] - 3s 4ms/step - loss: 0.0147 - accuracy: 0.9929 - val_loss: 3.1215 - val_accuracy: 0.7818\n",
      "Epoch 32/50\n",
      "625/625 [==============================] - 3s 4ms/step - loss: 0.0144 - accuracy: 0.9933 - val_loss: 3.0009 - val_accuracy: 0.7755\n",
      "Epoch 33/50\n",
      "625/625 [==============================] - 3s 4ms/step - loss: 0.0175 - accuracy: 0.9918 - val_loss: 2.9784 - val_accuracy: 0.7731\n",
      "Epoch 34/50\n",
      "625/625 [==============================] - 3s 4ms/step - loss: 0.0157 - accuracy: 0.9927 - val_loss: 3.0978 - val_accuracy: 0.7782\n",
      "Epoch 35/50\n",
      "625/625 [==============================] - 2s 4ms/step - loss: 0.0133 - accuracy: 0.9937 - val_loss: 3.1919 - val_accuracy: 0.7784\n",
      "Epoch 36/50\n",
      "625/625 [==============================] - 3s 4ms/step - loss: 0.0125 - accuracy: 0.9938 - val_loss: 3.4090 - val_accuracy: 0.7708\n",
      "Epoch 37/50\n",
      "625/625 [==============================] - 3s 4ms/step - loss: 0.0226 - accuracy: 0.9905 - val_loss: 2.9432 - val_accuracy: 0.7733\n",
      "Epoch 38/50\n",
      "625/625 [==============================] - 2s 4ms/step - loss: 0.0229 - accuracy: 0.9909 - val_loss: 2.8903 - val_accuracy: 0.7788\n",
      "Epoch 39/50\n",
      "625/625 [==============================] - 3s 4ms/step - loss: 0.0153 - accuracy: 0.9928 - val_loss: 3.1095 - val_accuracy: 0.7784\n",
      "Epoch 40/50\n",
      "625/625 [==============================] - 3s 4ms/step - loss: 0.0129 - accuracy: 0.9937 - val_loss: 3.2772 - val_accuracy: 0.7776\n",
      "Epoch 41/50\n",
      "625/625 [==============================] - 2s 4ms/step - loss: 0.0126 - accuracy: 0.9937 - val_loss: 3.3920 - val_accuracy: 0.7781\n",
      "Epoch 42/50\n",
      "625/625 [==============================] - 3s 4ms/step - loss: 0.0122 - accuracy: 0.9942 - val_loss: 3.2736 - val_accuracy: 0.7779\n",
      "Epoch 43/50\n",
      "625/625 [==============================] - 3s 4ms/step - loss: 0.0169 - accuracy: 0.9925 - val_loss: 3.5432 - val_accuracy: 0.7813\n",
      "Epoch 44/50\n",
      "625/625 [==============================] - 2s 4ms/step - loss: 0.0264 - accuracy: 0.9899 - val_loss: 3.4849 - val_accuracy: 0.7809\n",
      "Epoch 45/50\n",
      "625/625 [==============================] - 3s 4ms/step - loss: 0.0145 - accuracy: 0.9931 - val_loss: 3.3742 - val_accuracy: 0.7825\n",
      "Epoch 46/50\n",
      "625/625 [==============================] - 3s 4ms/step - loss: 0.0171 - accuracy: 0.9923 - val_loss: 3.3790 - val_accuracy: 0.7791\n",
      "Epoch 47/50\n",
      "625/625 [==============================] - 3s 4ms/step - loss: 0.0143 - accuracy: 0.9933 - val_loss: 3.3342 - val_accuracy: 0.7752\n",
      "Epoch 48/50\n",
      "625/625 [==============================] - 3s 4ms/step - loss: 0.0127 - accuracy: 0.9938 - val_loss: 3.5380 - val_accuracy: 0.7733\n",
      "Epoch 49/50\n",
      "625/625 [==============================] - 3s 4ms/step - loss: 0.0121 - accuracy: 0.9938 - val_loss: 3.5163 - val_accuracy: 0.7766\n",
      "Epoch 50/50\n",
      "625/625 [==============================] - 3s 4ms/step - loss: 0.0116 - accuracy: 0.9944 - val_loss: 3.5693 - val_accuracy: 0.7775\n"
     ]
    }
   ],
   "source": [
    "# fit on the training data\n",
    "history_conv = model_conv.fit(training_padded, training_labels, epochs=num_epochs,\n",
    "                    validation_data=(testing_padded, testing_labels), verbose=1)"
   ],
   "metadata": {
    "collapsed": false,
    "pycharm": {
     "name": "#%%\n"
    }
   }
  },
  {
   "cell_type": "code",
   "execution_count": 13,
   "outputs": [
    {
     "data": {
      "text/plain": "<Figure size 432x288 with 1 Axes>",
      "image/png": "[encoded data removed]"
     },
     "metadata": {
      "needs_background": "light"
     },
     "output_type": "display_data"
    },
    {
     "data": {
      "text/plain": "<Figure size 432x288 with 1 Axes>",
      "image/png": "[encoded data removed]"
     },
     "metadata": {
      "needs_background": "light"
     },
     "output_type": "display_data"
    }
   ],
   "source": [
    "# lets evaluate the accuracy and loss\n",
    "acc      = history_conv.history['accuracy']\n",
    "val_acc  = history_conv.history['val_accuracy']\n",
    "loss     = history_conv.history['loss']\n",
    "val_loss = history_conv.history['val_loss']\n",
    "\n",
    "epochs   = range(len(acc)) # Get number of epochs\n",
    "\n",
    "#------------------------------------------------\n",
    "# Plot training and validation accuracy per epoch\n",
    "#------------------------------------------------\n",
    "plt.plot  ( epochs, acc, label='Training Accuracy' )\n",
    "plt.plot  ( epochs, val_acc, label='Validation Accuracy' )\n",
    "plt.title ('Training and validation accuracy')\n",
    "plt.legend()\n",
    "plt.show()\n",
    "\n",
    "#------------------------------------------------\n",
    "# Plot training and validation loss per epoch\n",
    "#------------------------------------------------\n",
    "plt.plot  ( epochs, loss, label='Training Loss' )\n",
    "plt.plot  ( epochs, val_loss, label='Validation Loss' )\n",
    "plt.title ('Training and validation loss'   )\n",
    "plt.legend()\n",
    "plt.show()"
   ],
   "metadata": {
    "collapsed": false,
    "pycharm": {
     "name": "#%%\n"
    }
   }
  },
  {
   "cell_type": "code",
   "execution_count": null,
   "outputs": [],
   "source": [],
   "metadata": {
    "collapsed": false,
    "pycharm": {
     "name": "#%%\n"
    }
   }
  }
 ],
 "metadata": {
  "kernelspec": {
   "display_name": "Python 3",
   "language": "python",
   "name": "python3"
  },
  "language_info": {
   "codemirror_mode": {
    "name": "ipython",
    "version": 2
   },
   "file_extension": ".py",
   "mimetype": "text/x-python",
   "name": "python",
   "nbconvert_exporter": "python",
   "pygments_lexer": "ipython2",
   "version": "2.7.6"
  }
 },
 "nbformat": 4,
 "nbformat_minor": 0
}