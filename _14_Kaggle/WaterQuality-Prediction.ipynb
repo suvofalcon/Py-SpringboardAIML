{
 "metadata": {
  "language_info": {
   "codemirror_mode": {
    "name": "ipython",
    "version": 3
   },
   "file_extension": ".py",
   "mimetype": "text/x-python",
   "name": "python",
   "nbconvert_exporter": "python",
   "pygments_lexer": "ipython3",
   "version": "3.8.10"
  },
  "orig_nbformat": 4,
  "kernelspec": {
   "name": "python3",
   "display_name": "Python 3.8.10 64-bit ('tensorflow-gpu': conda)"
  },
  "interpreter": {
   "hash": "658eb51e50cabe43eb015cdee70e2f5d0c7abd5e29923e3e04ff83a044688658"
  }
 },
 "nbformat": 4,
 "nbformat_minor": 2,
 "cells": [
  {
   "source": [
    "# Water Quality Prediction\n",
    "\n",
    "#### Context\n",
    "Access to safe drinking-water is essential to health, a basic human right and a component of effective policy for health protection. This is important as a health and development issue at a national, regional and local level. In some regions, it has been shown that investments in water supply and sanitation can yield a net economic benefit, since the reductions in adverse health effects and health care costs outweigh the costs of undertaking the interventions.\n",
    "\n",
    "#### Content\n",
    "The <b>water_potability.csv</b> file contains water quality metrics for 3276 different water bodies.\n",
    "\n",
    "1. <b>pH value:</b><br>\n",
    "PH is an important parameter in evaluating the acid–base balance of water. It is also the indicator of acidic or alkaline condition of water status. WHO has recommended maximum permissible limit of pH from 6.5 to 8.5. The current investigation ranges were 6.52–6.83 which are in the range of WHO standards.\n",
    "\n",
    "2. <b>Hardness:</b><br>\n",
    "Hardness is mainly caused by calcium and magnesium salts. These salts are dissolved from geologic deposits through which water travels. The length of time water is in contact with hardness producing material helps determine how much hardness there is in raw water. Hardness was originally defined as the capacity of water to precipitate soap caused by Calcium and Magnesium.\n",
    "\n",
    "3. <b>Solids (Total dissolved solids - TDS):</b><br>\n",
    "Water has the ability to dissolve a wide range of inorganic and some organic minerals or salts such as potassium, calcium, sodium, bicarbonates, chlorides, magnesium, sulfates etc. These minerals produced un-wanted taste and diluted color in appearance of water. This is the important parameter for the use of water. The water with high TDS value indicates that water is highly mineralized. Desirable limit for TDS is 500 mg/l and maximum limit is 1000 mg/l which prescribed for drinking purpose.\n",
    "\n",
    "4. <b>Chloramines:</b><br>\n",
    "Chlorine and chloramine are the major disinfectants used in public water systems. Chloramines are most commonly formed when ammonia is added to chlorine to treat drinking water. Chlorine levels up to 4 milligrams per liter (mg/L or 4 parts per million (ppm)) are considered safe in drinking water.\n",
    "\n",
    "5. <b>Sulfate:</b><br>\n",
    "Sulfates are naturally occurring substances that are found in minerals, soil, and rocks. They are present in ambient air, groundwater, plants, and food. The principal commercial use of sulfate is in the chemical industry. Sulfate concentration in seawater is about 2,700 milligrams per liter (mg/L). It ranges from 3 to 30 mg/L in most freshwater supplies, although much higher concentrations (1000 mg/L) are found in some geographic locations.\n",
    "\n",
    "6. <b>Conductivity:</b><br>\n",
    "Pure water is not a good conductor of electric current rather’s a good insulator. Increase in ions concentration enhances the electrical conductivity of water. Generally, the amount of dissolved solids in water determines the electrical conductivity. Electrical conductivity (EC) actually measures the ionic process of a solution that enables it to transmit current. According to WHO standards, EC value should not exceeded 400 μS/cm.\n",
    "\n",
    "7. <b>Organic_carbon:</b><br>\n",
    "Total Organic Carbon (TOC) in source waters comes from decaying natural organic matter (NOM) as well as synthetic sources. TOC is a measure of the total amount of carbon in organic compounds in pure water. According to US EPA < 2 mg/L as TOC in treated / drinking water, and < 4 mg/Lit in source water which is use for treatment.\n",
    "\n",
    "8. <b>Trihalomethanes:</b><br>\n",
    "THMs are chemicals which may be found in water treated with chlorine. The concentration of THMs in drinking water varies according to the level of organic material in the water, the amount of chlorine required to treat the water, and the temperature of the water that is being treated. THM levels up to 80 ppm is considered safe in drinking water.\n",
    "\n",
    "9. <b>Turbidity:</b><br>\n",
    "The turbidity of water depends on the quantity of solid matter present in the suspended state. It is a measure of light emitting properties of water and the test is used to indicate the quality of waste discharge with respect to colloidal matter. The mean turbidity value obtained for Wondo Genet Campus (0.98 NTU) is lower than the WHO recommended value of 5.00 NTU.\n",
    "\n",
    "10. <b>Potability:</b><br>\n",
    "Indicates if water is safe for human consumption where 1 means Potable and 0 means Not potable.\n",
    "\n",
    "<br>\n",
    "https://www.kaggle.com/adityakadiwal/water-potability"
   ],
   "cell_type": "markdown",
   "metadata": {}
  },
  {
   "source": [
    "## Library Imports"
   ],
   "cell_type": "markdown",
   "metadata": {}
  },
  {
   "cell_type": "code",
   "execution_count": null,
   "metadata": {},
   "outputs": [],
   "source": [
    "import numpy as np\n",
    "import pandas as pd\n",
    "import matplotlib.pyplot as plt\n",
    "import seaborn as sns\n",
    "\n",
    "import warnings\n",
    "warnings.simplefilter(\"ignore\")"
   ]
  },
  {
   "source": [
    "## Load the dataset and validate the data load"
   ],
   "cell_type": "markdown",
   "metadata": {}
  },
  {
   "cell_type": "code",
   "execution_count": null,
   "metadata": {},
   "outputs": [],
   "source": [
    "waterpotability = pd.read_csv(\"resources/water_potability.csv\")\n",
    "\n",
    "# Check the data load\n",
    "waterpotability.head()"
   ]
  },
  {
   "cell_type": "code",
   "execution_count": null,
   "metadata": {},
   "outputs": [],
   "source": [
    "# Check the data structure\n",
    "waterpotability.info()"
   ]
  },
  {
   "cell_type": "code",
   "execution_count": null,
   "metadata": {},
   "outputs": [],
   "source": [
    "# Check for missing value\n",
    "waterpotability.isna().sum()"
   ]
  },
  {
   "source": [
    "There are missing values in ph, sulfate and Trihalomethanes"
   ],
   "cell_type": "markdown",
   "metadata": {}
  },
  {
   "source": [
    "## Exploratory Data Analysis"
   ],
   "cell_type": "markdown",
   "metadata": {}
  },
  {
   "cell_type": "code",
   "execution_count": null,
   "metadata": {},
   "outputs": [],
   "source": [
    "# Explore the target variable\n",
    "sns.countplot(waterpotability['Potability'])\n",
    "waterpotability['Potability'].value_counts()"
   ]
  },
  {
   "cell_type": "code",
   "execution_count": null,
   "metadata": {},
   "outputs": [],
   "source": [
    "# We will revist the correlation heatmap\n",
    "plt.figure(figsize=(12, 8))\n",
    "sns.heatmap(waterpotability.corr(), annot=True)"
   ]
  },
  {
   "source": [
    "The correlation between the attributes are fairly low and this suggests the attributes are independent"
   ],
   "cell_type": "markdown",
   "metadata": {}
  },
  {
   "cell_type": "code",
   "execution_count": null,
   "metadata": {},
   "outputs": [],
   "source": [
    "# Let us check the distribution of the attributes\n",
    "\n",
    "fig = plt.figure(figsize=(22, 11))\n",
    "fig.subplots_adjust(hspace=0.4, wspace=0.4)\n",
    "ax = fig.add_subplot(3, 3, 1)\n",
    "sns.distplot(waterpotability['ph'], hist_kws=dict(edgecolor='k', linewidth=1), bins=10)\n",
    "ax = fig.add_subplot(3, 3, 2)\n",
    "sns.distplot(waterpotability['Hardness'], hist_kws=dict(edgecolor='k', linewidth=1), bins=10)\n",
    "ax = fig.add_subplot(3, 3, 3)\n",
    "sns.distplot(waterpotability['Solids'], hist_kws=dict(edgecolor='k', linewidth=1), bins=10)\n",
    "ax = fig.add_subplot(3, 3, 4)\n",
    "sns.distplot(waterpotability['Chloramines'], hist_kws=dict(edgecolor='k', linewidth=1), bins=10)\n",
    "ax = fig.add_subplot(3, 3, 5)\n",
    "sns.distplot(waterpotability['Sulfate'], hist_kws=dict(edgecolor='k', linewidth=1), bins=10)\n",
    "ax = fig.add_subplot(3, 3, 6)\n",
    "sns.distplot(waterpotability['Conductivity'], hist_kws=dict(edgecolor='k', linewidth=1), bins=10)\n",
    "ax = fig.add_subplot(3, 3, 7)\n",
    "sns.distplot(waterpotability['Organic_carbon'], hist_kws=dict(edgecolor='k', linewidth=1), bins=10)\n",
    "ax = fig.add_subplot(3, 3, 8)\n",
    "sns.distplot(waterpotability['Trihalomethanes'], hist_kws=dict(edgecolor='k', linewidth=1), bins=10)\n",
    "ax = fig.add_subplot(3, 3, 9)\n",
    "sns.distplot(waterpotability['Turbidity'], hist_kws=dict(edgecolor='k', linewidth=1), bins=10)\n",
    "plt.show()"
   ]
  },
  {
   "source": [
    "All the distributions are fairly normal and distributed around the mean"
   ],
   "cell_type": "markdown",
   "metadata": {}
  },
  {
   "cell_type": "code",
   "execution_count": null,
   "metadata": {},
   "outputs": [],
   "source": [
    "# View the mean by the response variable\n",
    "\n",
    "waterpotability.groupby('Potability').mean()\n"
   ]
  },
  {
   "cell_type": "code",
   "execution_count": null,
   "metadata": {},
   "outputs": [],
   "source": [
    "# View the stdDev by the response variable\n",
    "waterpotability.groupby('Potability').std()"
   ]
  },
  {
   "source": [
    "The mean and standard deviations are also fairly close to each other against the response variable"
   ],
   "cell_type": "markdown",
   "metadata": {}
  },
  {
   "source": [
    "## Treat Missing values\n",
    "\n",
    "The approach is to substitue mean of the bmi by the target variable - Potability"
   ],
   "cell_type": "markdown",
   "metadata": {}
  },
  {
   "cell_type": "code",
   "execution_count": null,
   "metadata": {},
   "outputs": [],
   "source": [
    "waterpotability['ph'] = waterpotability['ph'].fillna(waterpotability.groupby('Potability')['ph'].transform('mean'))\n",
    "waterpotability['Sulfate'] = waterpotability['Sulfate'].fillna(waterpotability.groupby('Potability')['Sulfate'].transform('mean'))\n",
    "waterpotability['Trihalomethanes'] = waterpotability['Trihalomethanes'].fillna(waterpotability.groupby('Potability')['Trihalomethanes'].transform('mean'))\n",
    "waterpotability.isna().sum()"
   ]
  },
  {
   "source": [
    "## Train Test Split and Scaling of the data"
   ],
   "cell_type": "markdown",
   "metadata": {}
  },
  {
   "cell_type": "code",
   "execution_count": null,
   "metadata": {},
   "outputs": [],
   "source": [
    "from sklearn.model_selection import train_test_split\n",
    "from sklearn.preprocessing import StandardScaler\n",
    "\n",
    "features = waterpotability.drop(labels=['Potability'], axis=1)\n",
    "target = waterpotability['Potability']\n",
    "\n",
    "features_train, features_test, target_train, target_test = train_test_split(features, \n",
    "                                                                            target, \n",
    "                                                                            test_size=0.3, random_state=101,\n",
    "                                                                           stratify = target)"
   ]
  },
  {
   "cell_type": "code",
   "execution_count": null,
   "metadata": {},
   "outputs": [],
   "source": [
    "sc = StandardScaler()\n",
    "features_train = sc.fit_transform(features_train)\n",
    "features_test = sc.transform(features_test)"
   ]
  },
  {
   "source": [
    "## Model Building"
   ],
   "cell_type": "markdown",
   "metadata": {}
  },
  {
   "cell_type": "code",
   "execution_count": null,
   "metadata": {},
   "outputs": [],
   "source": [
    "# Model imports\n",
    "from sklearn.naive_bayes import GaussianNB\n",
    "from sklearn.ensemble import RandomForestClassifier\n",
    "from sklearn.discriminant_analysis import LinearDiscriminantAnalysis\n",
    "from xgboost import XGBClassifier\n",
    "\n",
    "from sklearn.model_selection import GridSearchCV\n",
    "from sklearn.metrics import confusion_matrix, classification_report, f1_score, accuracy_score"
   ]
  },
  {
   "source": [
    "### Model - Gaussian Naive Bayes"
   ],
   "cell_type": "markdown",
   "metadata": {}
  },
  {
   "cell_type": "code",
   "execution_count": null,
   "metadata": {},
   "outputs": [],
   "source": [
    "gaussianNBClassifier = GaussianNB()\n",
    "gaussianNBClassifier.fit(features_train, target_train)"
   ]
  },
  {
   "cell_type": "code",
   "execution_count": null,
   "metadata": {},
   "outputs": [],
   "source": [
    "predictionsGaussianNB = gaussianNBClassifier.predict(features_test)\n",
    "print(\"Confusion Matrix - GaussianNB\")\n",
    "print(confusion_matrix(target_test, predictionsGaussianNB))\n",
    "print(\"\\n\")\n",
    "print(\"Accuracy Score - GaussianNB\")\n",
    "print(accuracy_score(target_test, predictionsGaussianNB))\n",
    "print(\"\\n\")\n",
    "print(\"Classification Report - GaussianNB\")\n",
    "print(classification_report(target_test, predictionsGaussianNB))\n",
    "print(\"F1 Score \\n\")\n",
    "print(f1_score(target_test, predictionsGaussianNB))"
   ]
  },
  {
   "source": [
    "### Random Forest Classifier"
   ],
   "cell_type": "markdown",
   "metadata": {}
  },
  {
   "cell_type": "code",
   "execution_count": null,
   "metadata": {},
   "outputs": [],
   "source": [
    "param_grid = {'n_estimators': [100, 200, 300], 'max_features': ['auto', 'sqrt'], 'bootstrap': [True, False], 'criterion':['entropy', 'gini']}\n",
    "rfcgrid = GridSearchCV(RandomForestClassifier(random_state=101), param_grid, verbose=100, cv=10, n_jobs=-2)\n",
    "rfcgrid.fit(features_train, target_train)"
   ]
  },
  {
   "cell_type": "code",
   "execution_count": null,
   "metadata": {},
   "outputs": [],
   "source": [
    "# Best params of Random Forest\n",
    "rfcgrid.best_params_"
   ]
  },
  {
   "cell_type": "code",
   "execution_count": null,
   "metadata": {},
   "outputs": [],
   "source": [
    "rfcpredictions = rfcgrid.predict(features_test)\n",
    "\n",
    "print(\"Confusion Matrix - Random Forest Using Entropy Index\")\n",
    "print(confusion_matrix(target_test,rfcpredictions))\n",
    "print(\"\\n\")\n",
    "print(\"Accuracy Score - Random Forest\")\n",
    "print(accuracy_score(target_test, rfcpredictions))\n",
    "print(\"\\n\")\n",
    "print(\"Classification Report - Random Forest\")\n",
    "print(classification_report(target_test,rfcpredictions))\n",
    "print(\"\\n\")\n",
    "print(\"F1 Score - Random Forest\")\n",
    "print(f1_score(target_test, rfcpredictions))"
   ]
  },
  {
   "source": [
    "### XGBoost Classifier"
   ],
   "cell_type": "markdown",
   "metadata": {}
  },
  {
   "cell_type": "code",
   "execution_count": null,
   "metadata": {},
   "outputs": [],
   "source": [
    "from xgboost import XGBClassifier\n",
    "\n",
    "param_grid = {'n_estimators':[50, 100, 200, 300], 'max_depth' : [3, 4, 5], 'learning_rate':[0.001, 0.01, 0.1, 1, 10]}\n",
    "xggrid = GridSearchCV(XGBClassifier(), param_grid, verbose=1, cv=10, n_jobs=10)\n",
    "xggrid.fit(features_train, target_train)"
   ]
  },
  {
   "cell_type": "code",
   "execution_count": null,
   "metadata": {},
   "outputs": [],
   "source": [
    "# Check the best params\n",
    "xggrid.best_params_"
   ]
  },
  {
   "cell_type": "code",
   "execution_count": null,
   "metadata": {},
   "outputs": [],
   "source": [
    "xggrid_predictions = xggrid.predict(features_test)\n",
    "\n",
    "print(\"Confusion Matrix\")\n",
    "print(confusion_matrix(target_test, xggrid_predictions))\n",
    "print(\"\\n\")\n",
    "print(\"Accuracy Score\")\n",
    "print(accuracy_score(target_test, xggrid_predictions))\n",
    "print(\"\\n\")\n",
    "print(\"Classification Report\")\n",
    "print(classification_report(target_test, xggrid_predictions))\n",
    "print(\"F1 Score \\n\")\n",
    "print(f1_score(target_test, xggrid_predictions))"
   ]
  }
 ]
}