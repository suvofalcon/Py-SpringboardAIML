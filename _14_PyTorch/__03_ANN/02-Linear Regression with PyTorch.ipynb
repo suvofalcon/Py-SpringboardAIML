{
 "cells": [
  {
   "cell_type": "markdown",
   "source": [
    "# Linear Regression with PyTorch\n",
    "In this section we'll use PyTorch's machine learning model to progressively develop a best-fit line for a given set of data points. Like most linear regression algorithms, we're seeking to minimize the error between our model and the actual data, using a <em>loss function</em> like mean-squared-error.\n",
    "\n",
    "<img src='../Images/linear-regression-residuals.png' width='400' style=\"display: inline-block\"><br>\n",
    "\n",
    "Image source: <a href='https://commons.wikimedia.org/wiki/File:Residuals_for_Linear_Regression_Fit.png'>https://commons.wikimedia.org/wiki/File:Residuals_for_Linear_Regression_Fit.png</a>\n",
    "\n",
    "To start, we'll develop a collection of data points that appear random, but that fit a known linear equation $y = 2x+1$"
   ],
   "metadata": {
    "collapsed": false,
    "pycharm": {
     "name": "#%% md\n"
    }
   }
  },
  {
   "cell_type": "markdown",
   "source": [
    "## Library Imports"
   ],
   "metadata": {
    "collapsed": false,
    "pycharm": {
     "name": "#%% md\n"
    }
   }
  },
  {
   "cell_type": "code",
   "execution_count": 93,
   "outputs": [],
   "source": [
    "import numpy as np\n",
    "import matplotlib.pyplot as plt\n",
    "%matplotlib inline\n",
    "\n",
    "import torch\n",
    "import torch.nn as nn"
   ],
   "metadata": {
    "collapsed": false,
    "pycharm": {
     "name": "#%%\n"
    }
   }
  },
  {
   "cell_type": "markdown",
   "source": [
    "## We will create a column matrix of X values - features"
   ],
   "metadata": {
    "collapsed": false,
    "pycharm": {
     "name": "#%% md\n"
    }
   }
  },
  {
   "cell_type": "code",
   "execution_count": 94,
   "outputs": [
    {
     "name": "stdout",
     "output_type": "stream",
     "text": [
      "tensor([[ 1.],\n",
      "        [ 2.],\n",
      "        [ 3.],\n",
      "        [ 4.],\n",
      "        [ 5.],\n",
      "        [ 6.],\n",
      "        [ 7.],\n",
      "        [ 8.],\n",
      "        [ 9.],\n",
      "        [10.],\n",
      "        [11.],\n",
      "        [12.],\n",
      "        [13.],\n",
      "        [14.],\n",
      "        [15.],\n",
      "        [16.],\n",
      "        [17.],\n",
      "        [18.],\n",
      "        [19.],\n",
      "        [20.],\n",
      "        [21.],\n",
      "        [22.],\n",
      "        [23.],\n",
      "        [24.],\n",
      "        [25.],\n",
      "        [26.],\n",
      "        [27.],\n",
      "        [28.],\n",
      "        [29.],\n",
      "        [30.],\n",
      "        [31.],\n",
      "        [32.],\n",
      "        [33.],\n",
      "        [34.],\n",
      "        [35.],\n",
      "        [36.],\n",
      "        [37.],\n",
      "        [38.],\n",
      "        [39.],\n",
      "        [40.],\n",
      "        [41.],\n",
      "        [42.],\n",
      "        [43.],\n",
      "        [44.],\n",
      "        [45.],\n",
      "        [46.],\n",
      "        [47.],\n",
      "        [48.],\n",
      "        [49.],\n",
      "        [50.]])\n"
     ]
    }
   ],
   "source": [
    "X = torch.linspace(1, 50, 50).reshape(-1, 1)\n",
    "print(X)"
   ],
   "metadata": {
    "collapsed": false,
    "pycharm": {
     "name": "#%%\n"
    }
   }
  },
  {
   "cell_type": "markdown",
   "source": [
    "## Create a \"random\" array of error values\n",
    "We want 50 random integer values that collectively cancel each other out."
   ],
   "metadata": {
    "collapsed": false,
    "pycharm": {
     "name": "#%% md\n"
    }
   }
  },
  {
   "cell_type": "code",
   "execution_count": 95,
   "outputs": [
    {
     "name": "stdout",
     "output_type": "stream",
     "text": [
      "tensor(0.)\n"
     ]
    }
   ],
   "source": [
    "torch.manual_seed(71) # to get reproducible results\n",
    "e = torch.randint(-8, 9, size = (50, 1), dtype=torch.float)\n",
    "print(e.sum()) # it will be zero because randint is from uniform distribution"
   ],
   "metadata": {
    "collapsed": false,
    "pycharm": {
     "name": "#%%\n"
    }
   }
  },
  {
   "cell_type": "code",
   "execution_count": 96,
   "outputs": [
    {
     "data": {
      "text/plain": "tensor([[ 2.],\n        [ 7.],\n        [ 2.],\n        [ 6.],\n        [ 2.],\n        [-4.],\n        [ 2.],\n        [-5.],\n        [ 4.],\n        [ 1.],\n        [ 2.],\n        [ 3.],\n        [ 1.],\n        [-8.],\n        [ 5.],\n        [ 5.],\n        [-6.],\n        [ 0.],\n        [-7.],\n        [-8.],\n        [-3.],\n        [-1.],\n        [ 2.],\n        [-6.],\n        [-3.],\n        [ 3.],\n        [ 2.],\n        [ 3.],\n        [ 4.],\n        [ 5.],\n        [ 1.],\n        [ 7.],\n        [ 6.],\n        [-1.],\n        [-6.],\n        [-5.],\n        [-3.],\n        [ 7.],\n        [ 0.],\n        [ 8.],\n        [-1.],\n        [-2.],\n        [ 2.],\n        [-8.],\n        [-1.],\n        [ 6.],\n        [-8.],\n        [-3.],\n        [-7.],\n        [-2.]])"
     },
     "execution_count": 96,
     "metadata": {},
     "output_type": "execute_result"
    }
   ],
   "source": [
    "# Let's print the random error values\n",
    "e"
   ],
   "metadata": {
    "collapsed": false,
    "pycharm": {
     "name": "#%%\n"
    }
   }
  },
  {
   "cell_type": "markdown",
   "source": [
    "## Create a column matrix of y values\n",
    "Here we'll set our own parameters of $\\mathrm {weight} = 2,\\; \\mathrm {bias} = 1$, plus the error amount.<br><strong><tt>y</tt></strong> will have the same shape as <strong><tt>X</tt></strong> and <strong><tt>e</tt></strong>"
   ],
   "metadata": {
    "collapsed": false,
    "pycharm": {
     "name": "#%% md\n"
    }
   }
  },
  {
   "cell_type": "code",
   "execution_count": 97,
   "outputs": [
    {
     "name": "stdout",
     "output_type": "stream",
     "text": [
      "tensor([[ 5.],\n",
      "        [12.],\n",
      "        [ 9.],\n",
      "        [15.],\n",
      "        [13.],\n",
      "        [ 9.],\n",
      "        [17.],\n",
      "        [12.],\n",
      "        [23.],\n",
      "        [22.],\n",
      "        [25.],\n",
      "        [28.],\n",
      "        [28.],\n",
      "        [21.],\n",
      "        [36.],\n",
      "        [38.],\n",
      "        [29.],\n",
      "        [37.],\n",
      "        [32.],\n",
      "        [33.],\n",
      "        [40.],\n",
      "        [44.],\n",
      "        [49.],\n",
      "        [43.],\n",
      "        [48.],\n",
      "        [56.],\n",
      "        [57.],\n",
      "        [60.],\n",
      "        [63.],\n",
      "        [66.],\n",
      "        [64.],\n",
      "        [72.],\n",
      "        [73.],\n",
      "        [68.],\n",
      "        [65.],\n",
      "        [68.],\n",
      "        [72.],\n",
      "        [84.],\n",
      "        [79.],\n",
      "        [89.],\n",
      "        [82.],\n",
      "        [83.],\n",
      "        [89.],\n",
      "        [81.],\n",
      "        [90.],\n",
      "        [99.],\n",
      "        [87.],\n",
      "        [94.],\n",
      "        [92.],\n",
      "        [99.]])\n"
     ]
    }
   ],
   "source": [
    "y = 2*X + 1 + e # adding e allows us to enter a little noise\n",
    "print(y)"
   ],
   "metadata": {
    "collapsed": false,
    "pycharm": {
     "name": "#%%\n"
    }
   }
  },
  {
   "cell_type": "markdown",
   "source": [
    "## Plot the results\n",
    "We have to convert tensors to NumPy arrays just for plotting."
   ],
   "metadata": {
    "collapsed": false,
    "pycharm": {
     "name": "#%% md\n"
    }
   }
  },
  {
   "cell_type": "code",
   "execution_count": 98,
   "outputs": [
    {
     "data": {
      "text/plain": "<Figure size 432x288 with 1 Axes>",
      "image/png": "[encoded data removed]"
     },
     "metadata": {
      "needs_background": "light"
     },
     "output_type": "display_data"
    }
   ],
   "source": [
    "plt.scatter(X.numpy(), y.numpy())\n",
    "plt.ylabel('y')\n",
    "plt.xlabel('X')\n",
    "plt.grid(True)"
   ],
   "metadata": {
    "collapsed": false,
    "pycharm": {
     "name": "#%%\n"
    }
   }
  },
  {
   "cell_type": "markdown",
   "source": [
    "Note that when we created tensor $X$, we did <em>not</em> pass <tt>requires_grad=True</tt>. This means that $y$ doesn't have a gradient function, and <tt>y.backward()</tt> won't work. Since PyTorch is not tracking operations, it doesn't know the relationship between $X$ and $y$."
   ],
   "metadata": {
    "collapsed": false,
    "pycharm": {
     "name": "#%% md\n"
    }
   }
  },
  {
   "cell_type": "markdown",
   "source": [
    "## Simple linear model\n",
    "As a quick demonstration we'll show how the built-in <tt>nn.Linear()</tt> model preselects weight and bias values at random."
   ],
   "metadata": {
    "collapsed": false,
    "pycharm": {
     "name": "#%% md\n"
    }
   }
  },
  {
   "cell_type": "code",
   "execution_count": 99,
   "outputs": [
    {
     "name": "stdout",
     "output_type": "stream",
     "text": [
      "Parameter containing:\n",
      "tensor([[0.1060]], requires_grad=True)\n",
      "Parameter containing:\n",
      "tensor([0.9638], requires_grad=True)\n"
     ]
    }
   ],
   "source": [
    "torch.manual_seed(59)\n",
    "\n",
    "model = nn.Linear(in_features=1, out_features=1)\n",
    "print(model.weight)\n",
    "print(model.bias)"
   ],
   "metadata": {
    "collapsed": false,
    "pycharm": {
     "name": "#%%\n"
    }
   }
  },
  {
   "cell_type": "markdown",
   "source": [
    "Without seeing any data, the model sets a random weight of 0.1060 and a bias of 0.9638."
   ],
   "metadata": {
    "collapsed": false,
    "pycharm": {
     "name": "#%% md\n"
    }
   }
  },
  {
   "cell_type": "markdown",
   "source": [
    "## Model classes\n",
    "PyTorch lets us define models as object classes that can store multiple model layers. In upcoming sections we'll set up several neural network layers, and determine how each layer should perform its forward pass to the next layer. For now, though, we only need a single <tt>linear</tt> layer. <br><br>\n",
    "\n",
    "<div class=\"alert alert-info\"><strong>NOTE:</strong> The \"Linear\" model layer used here doesn't really refer to linear regression. Instead, it describes the type of neural network layer employed. Linear layers are also called \"fully connected\" or \"dense\" layers. Going forward our models may contain linear layers, convolutional layers, and more.</div>"
   ],
   "metadata": {
    "collapsed": false,
    "pycharm": {
     "name": "#%% md\n"
    }
   }
  },
  {
   "cell_type": "code",
   "execution_count": 100,
   "outputs": [],
   "source": [
    "class Model(nn.Module):\n",
    "    def __init__(self, in_features, out_features):\n",
    "        super().__init__()\n",
    "        self.linear = nn.Linear(in_features, out_features)\n",
    "\n",
    "    def forward(self, x):\n",
    "        y_pred = self.linear(x)\n",
    "        return y_pred"
   ],
   "metadata": {
    "collapsed": false,
    "pycharm": {
     "name": "#%%\n"
    }
   }
  },
  {
   "cell_type": "markdown",
   "source": [
    "When <tt>Model</tt> is instantiated, we need to pass in the size (dimensions) of the incoming and outgoing features. For our purposes we'll use (1,1).<br>As above, we can see the initial hyperparameters."
   ],
   "metadata": {
    "collapsed": false,
    "pycharm": {
     "name": "#%% md\n"
    }
   }
  },
  {
   "cell_type": "code",
   "execution_count": 101,
   "outputs": [
    {
     "name": "stdout",
     "output_type": "stream",
     "text": [
      "Model(\n",
      "  (linear): Linear(in_features=1, out_features=1, bias=True)\n",
      ")\n",
      "Weight - 0.10597813129425049\n",
      "Bias = 0.9637961387634277\n"
     ]
    }
   ],
   "source": [
    "torch.manual_seed(59)\n",
    "model = Model(1, 1)\n",
    "print(model)\n",
    "\n",
    "# Let's see the random weights and bias as decided by torch framework\n",
    "print(f'Weight - {model.linear.weight.item()}')\n",
    "print(f'Bias = {model.linear.bias.item()}')"
   ],
   "metadata": {
    "collapsed": false,
    "pycharm": {
     "name": "#%%\n"
    }
   }
  },
  {
   "cell_type": "code",
   "execution_count": 102,
   "outputs": [
    {
     "name": "stdout",
     "output_type": "stream",
     "text": [
      "linear.weight \t 0.10597813129425049\n",
      "linear.bias \t 0.9637961387634277\n"
     ]
    }
   ],
   "source": [
    "# As models becomes more complex - we can also iterate over all the model parameters\n",
    "for name, param in model.named_parameters():\n",
    "    print(name, '\\t', param.item())"
   ],
   "metadata": {
    "collapsed": false,
    "pycharm": {
     "name": "#%%\n"
    }
   }
  },
  {
   "cell_type": "markdown",
   "source": [
    "<div class=\"alert alert-info\"><strong>NOTE:</strong> In the above example we had our Model class accept arguments for the number of input and output features.<br>For simplicity we can hardcode them into the Model:\n",
    "\n",
    "<tt><font color=black>\n",
    "class Model(torch.nn.Module):<br>\n",
    "&nbsp;&nbsp;&nbsp;&nbsp;def \\_\\_init\\_\\_(self):<br>\n",
    "&nbsp;&nbsp;&nbsp;&nbsp;&nbsp;&nbsp;&nbsp;&nbsp;super().\\_\\_init\\_\\_()<br>\n",
    "&nbsp;&nbsp;&nbsp;&nbsp;&nbsp;&nbsp;&nbsp;&nbsp;self.linear = Linear(1,1)<br><br>\n",
    "model = Model()\n",
    "</font></tt><br><br>\n",
    "\n",
    "Alternatively we can use default arguments:\n",
    "\n",
    "<tt><font color=black>\n",
    "class Model(torch.nn.Module):<br>\n",
    "&nbsp;&nbsp;&nbsp;&nbsp;def \\_\\_init\\_\\_(self, in_dim=1, out_dim=1):<br>\n",
    "&nbsp;&nbsp;&nbsp;&nbsp;&nbsp;&nbsp;&nbsp;&nbsp;super().\\_\\_init\\_\\_()<br>\n",
    "&nbsp;&nbsp;&nbsp;&nbsp;&nbsp;&nbsp;&nbsp;&nbsp;self.linear = Linear(in_dim,out_dim)<br><br>\n",
    "model = Model()<br>\n",
    "<em>\\# or</em><br>\n",
    "model = Model(i,o)</font></tt>\n",
    "</div>"
   ],
   "metadata": {
    "collapsed": false,
    "pycharm": {
     "name": "#%% md\n"
    }
   }
  },
  {
   "cell_type": "markdown",
   "source": [
    "Now let's see the result when we pass a tensor into the model."
   ],
   "metadata": {
    "collapsed": false,
    "pycharm": {
     "name": "#%% md\n"
    }
   }
  },
  {
   "cell_type": "code",
   "execution_count": 103,
   "outputs": [
    {
     "name": "stdout",
     "output_type": "stream",
     "text": [
      "Passing Tensor to the model - tensor([1.1758], grad_fn=<AddBackward0>)\n"
     ]
    }
   ],
   "source": [
    "x = torch.tensor([2.0])\n",
    "print(f\"Passing Tensor to the model - {model.forward(x)}\") # same as print(model(x))"
   ],
   "metadata": {
    "collapsed": false,
    "pycharm": {
     "name": "#%%\n"
    }
   }
  },
  {
   "cell_type": "markdown",
   "source": [
    "which is confirmed with $f(x) = (0.1060)(2.0)+(0.9638) = 1.1758$"
   ],
   "metadata": {
    "collapsed": false,
    "pycharm": {
     "name": "#%% md\n"
    }
   }
  },
  {
   "cell_type": "markdown",
   "source": [
    "## Plot the initial model\n",
    "We can plot the untrained model against our dataset to get an idea of our starting point.\n",
    "\n",
    "Without setting any loss function, or optimizer function, lets check how the model performs for a variety of values"
   ],
   "metadata": {
    "collapsed": false,
    "pycharm": {
     "name": "#%% md\n"
    }
   }
  },
  {
   "cell_type": "code",
   "execution_count": 104,
   "outputs": [
    {
     "data": {
      "text/plain": "array([ 0.        ,  1.02040816,  2.04081633,  3.06122449,  4.08163265,\n        5.10204082,  6.12244898,  7.14285714,  8.16326531,  9.18367347,\n       10.20408163, 11.2244898 , 12.24489796, 13.26530612, 14.28571429,\n       15.30612245, 16.32653061, 17.34693878, 18.36734694, 19.3877551 ,\n       20.40816327, 21.42857143, 22.44897959, 23.46938776, 24.48979592,\n       25.51020408, 26.53061224, 27.55102041, 28.57142857, 29.59183673,\n       30.6122449 , 31.63265306, 32.65306122, 33.67346939, 34.69387755,\n       35.71428571, 36.73469388, 37.75510204, 38.7755102 , 39.79591837,\n       40.81632653, 41.83673469, 42.85714286, 43.87755102, 44.89795918,\n       45.91836735, 46.93877551, 47.95918367, 48.97959184, 50.        ])"
     },
     "execution_count": 104,
     "metadata": {},
     "output_type": "execute_result"
    }
   ],
   "source": [
    "x1 = np.linspace(0.0, 50.0)\n",
    "x1"
   ],
   "metadata": {
    "collapsed": false,
    "pycharm": {
     "name": "#%%\n"
    }
   }
  },
  {
   "cell_type": "code",
   "execution_count": 105,
   "outputs": [
    {
     "name": "stdout",
     "output_type": "stream",
     "text": [
      "Initial Random weight - 0.10597813129425049 and bias - 0.9637961387634277\n"
     ]
    }
   ],
   "source": [
    "# So the prediction will be based on the first random weights and bias without any optimizer function\n",
    "w1, b1 = model.linear.weight.item(), model.linear.bias.item()\n",
    "print(f\"Initial Random weight - {w1} and bias - {b1}\")"
   ],
   "metadata": {
    "collapsed": false,
    "pycharm": {
     "name": "#%%\n"
    }
   }
  },
  {
   "cell_type": "code",
   "execution_count": 106,
   "outputs": [
    {
     "name": "stdout",
     "output_type": "stream",
     "text": [
      "[0.96379614 1.07193709 1.18007804 1.28821899 1.39635994 1.50450089\n",
      " 1.61264184 1.72078279 1.82892374 1.93706469 2.04520564 2.15334659\n",
      " 2.26148754 2.36962849 2.47776944 2.58591039 2.69405134 2.80219229\n",
      " 2.91033324 3.01847419 3.12661514 3.2347561  3.34289705 3.451038\n",
      " 3.55917895 3.6673199  3.77546085 3.8836018  3.99174275 4.0998837\n",
      " 4.20802465 4.3161656  4.42430655 4.5324475  4.64058845 4.7487294\n",
      " 4.85687035 4.9650113  5.07315225 5.1812932  5.28943415 5.3975751\n",
      " 5.50571605 5.613857   5.72199795 5.8301389  5.93827985 6.0464208\n",
      " 6.15456175 6.2627027 ]\n"
     ]
    }
   ],
   "source": [
    "# So predicted values y for the given values x\n",
    "y1 = w1*x1 + b1\n",
    "print(y1)"
   ],
   "metadata": {
    "collapsed": false,
    "pycharm": {
     "name": "#%%\n"
    }
   }
  },
  {
   "cell_type": "code",
   "execution_count": 107,
   "outputs": [
    {
     "data": {
      "text/plain": "[<matplotlib.lines.Line2D at 0x7fbdaec64cd0>]"
     },
     "execution_count": 107,
     "metadata": {},
     "output_type": "execute_result"
    },
    {
     "data": {
      "text/plain": "<Figure size 432x288 with 1 Axes>",
      "image/png": "[encoded data removed]"
     },
     "metadata": {
      "needs_background": "light"
     },
     "output_type": "display_data"
    }
   ],
   "source": [
    "# Now lets do the plotting and see how well it has predicted based on the random weights and bias without any optimizer and loss function\n",
    "plt.scatter(X.numpy(), y.numpy())\n",
    "plt.plot(x1, y1, 'r')"
   ],
   "metadata": {
    "collapsed": false,
    "pycharm": {
     "name": "#%%\n"
    }
   }
  },
  {
   "cell_type": "markdown",
   "source": [
    "So we see the model performs very poorly with the random weight and bias .."
   ],
   "metadata": {
    "collapsed": false,
    "pycharm": {
     "name": "#%% md\n"
    }
   }
  },
  {
   "cell_type": "markdown",
   "source": [
    "## Set the loss function\n",
    "We could write our own function to apply a Mean Squared Error (MSE) that follows<br>\n",
    "\n",
    "$\\begin{split}MSE &= \\frac {1} {n} \\sum_{i=1}^n {(y_i - \\hat y_i)}^2 \\\\\n",
    "&= \\frac {1} {n} \\sum_{i=1}^n {(y_i - (wx_i + b))}^2\\end{split}$<br>\n",
    "\n",
    "Fortunately PyTorch has it built in.<br>\n",
    "<em>By convention, you'll see the variable name \"criterion\" used, but feel free to use something like \"linear_loss_func\" if that's clearer.</em>"
   ],
   "metadata": {
    "collapsed": false,
    "pycharm": {
     "name": "#%% md\n"
    }
   }
  },
  {
   "cell_type": "code",
   "execution_count": 108,
   "outputs": [],
   "source": [
    "criterion = nn.MSELoss() # Declare the loss function we are going to use"
   ],
   "metadata": {
    "collapsed": false,
    "pycharm": {
     "name": "#%%\n"
    }
   }
  },
  {
   "cell_type": "markdown",
   "source": [
    "## Set the optimization\n",
    "Here we'll use <a href='https://en.wikipedia.org/wiki/Stochastic_gradient_descent'>Stochastic Gradient Descent</a> (SGD) with an applied <a href='https://en.wikipedia.org/wiki/Learning_rate'>learning rate</a> (lr) of 0.001. Recall that the learning rate tells the optimizer how much to adjust each parameter on the next round of calculations. Too large a step and we run the risk of overshooting the minimum, causing the algorithm to diverge. Too small and it will take a long time to converge.\n",
    "\n",
    "For more complicated (multivariate) data, you might also consider passing optional <a href='https://en.wikipedia.org/wiki/Stochastic_gradient_descent#Momentum'><tt>momentum</tt></a> and <a href='https://en.wikipedia.org/wiki/Tikhonov_regularization'><tt>weight_decay</tt></a> arguments. Momentum allows the algorithm to \"roll over\" small bumps to avoid local minima that can cause convergence too soon. Weight decay (also called an L2 penalty) applies to biases.\n",
    "\n",
    "For more information, see <a href='https://pytorch.org/docs/stable/optim.html'><strong><tt>torch.optim</tt></strong></a>"
   ],
   "metadata": {
    "collapsed": false,
    "pycharm": {
     "name": "#%% md\n"
    }
   }
  },
  {
   "cell_type": "code",
   "execution_count": 109,
   "outputs": [],
   "source": [
    "optimizer = torch.optim.SGD(model.parameters(), lr=0.001)"
   ],
   "metadata": {
    "collapsed": false,
    "pycharm": {
     "name": "#%%\n"
    }
   }
  },
  {
   "cell_type": "markdown",
   "source": [
    "## Train the model\n",
    "An <em>epoch</em> is a single pass through the entire dataset. We want to pick a sufficiently large number of epochs to reach a plateau close to our known parameters of $\\mathrm {weight} = 2,\\; \\mathrm {bias} = 1$\n",
    "<br>\n",
    "<div class=\"alert alert-info\"><strong>Let's walk through the steps we're about to take:</strong><br>\n",
    "\n",
    "1. Set a reasonably large number of passes<br>\n",
    "<tt><font color=black>epochs = 50</font></tt><br>\n",
    "2. Create a list to store loss values. This will let us view our progress afterward.<br>\n",
    "<tt><font color=black>losses = []</font></tt><br>\n",
    "<tt><font color=black>for i in range(epochs):</font></tt><br>\n",
    "3. Bump \"i\" so that the printed report starts at 1<br>\n",
    "<tt><font color=black>&nbsp;&nbsp;&nbsp;&nbsp;i+=1</font></tt><br>\n",
    "4. Create a prediction set by running \"X\" through the current model parameters<br>\n",
    "<tt><font color=black>&nbsp;&nbsp;&nbsp;&nbsp;y_pred = model.forward(X)</font></tt><br>\n",
    "5. Calculate the loss<br>\n",
    "<tt><font color=black>&nbsp;&nbsp;&nbsp;&nbsp;loss = criterion(y_pred, y)</font></tt><br>\n",
    "6. Add the loss value to our tracking list<br>\n",
    "<tt><font color=black>&nbsp;&nbsp;&nbsp;&nbsp;losses.append(loss)</font></tt><br>\n",
    "7. Print the current line of results<br>\n",
    "<tt><font color=black>&nbsp;&nbsp;&nbsp;&nbsp;print(f'epoch: {i:2} loss: {loss.item():10.8f}')</font></tt><br>\n",
    "8. Gradients accumulate with every backprop. To prevent compounding we need to reset the stored gradient for each new epoch.<br>\n",
    "<tt><font color=black>&nbsp;&nbsp;&nbsp;&nbsp;optimizer.zero_grad()</font></tt><br>\n",
    "9. Now we can backprop<br>\n",
    "<tt><font color=black>&nbsp;&nbsp;&nbsp;&nbsp;loss.backward()</font></tt><br>\n",
    "10. Finally, we can update the hyperparameters of our model<br>\n",
    "<tt><font color=black>&nbsp;&nbsp;&nbsp;&nbsp;optimizer.step()</font></tt>\n",
    "</div>"
   ],
   "metadata": {
    "collapsed": false,
    "pycharm": {
     "name": "#%% md\n"
    }
   }
  },
  {
   "cell_type": "code",
   "execution_count": 110,
   "outputs": [
    {
     "name": "stdout",
     "output_type": "stream",
     "text": [
      "Epoch - 1, loss - 3057.216796875, weight - 0.10597813129425049, bias - 0.9637961387634277\n",
      "Epoch - 2, loss - 1588.5311279296875, weight - 3.334900379180908, bias - 1.0604636669158936\n",
      "Epoch - 3, loss - 830.2999877929688, weight - 1.0148327350616455, bias - 0.9922628402709961\n",
      "Epoch - 4, loss - 438.8524169921875, weight - 2.6817996501922607, bias - 1.0425218343734741\n",
      "Epoch - 5, loss - 236.7615203857422, weight - 1.4840211868286133, bias - 1.0076650381088257\n",
      "Epoch - 6, loss - 132.4291229248047, weight - 2.3446059226989746, bias - 1.0339646339416504\n",
      "Epoch - 7, loss - 78.56572723388672, weight - 1.7262253761291504, bias - 1.0163217782974243\n",
      "Epoch - 8, loss - 50.75775909423828, weight - 2.170504093170166, bias - 1.0302516222000122\n",
      "Epoch - 9, loss - 36.4012336730957, weight - 1.8512457609176636, bias - 1.0214954614639282\n",
      "Epoch - 10, loss - 28.989229202270508, weight - 2.0806007385253906, bias - 1.029038906097412\n",
      "Epoch - 11, loss - 25.162382125854492, weight - 1.9157683849334717, bias - 1.0248701572418213\n",
      "Epoch - 12, loss - 23.186473846435547, weight - 2.034165620803833, bias - 1.0291162729263306\n",
      "Epoch - 13, loss - 22.166126251220703, weight - 1.9490584135055542, bias - 1.027315616607666\n",
      "Epoch - 14, loss - 21.639110565185547, weight - 2.010172128677368, bias - 1.0298590660095215\n",
      "Epoch - 15, loss - 21.366771697998047, weight - 1.9662237167358398, bias - 1.0292805433273315\n",
      "Epoch - 16, loss - 21.22591781616211, weight - 1.997764229774475, bias - 1.030944585800171\n",
      "Epoch - 17, loss - 21.15294647216797, weight - 1.9750648736953735, bias - 1.0309966802597046\n",
      "Epoch - 18, loss - 21.115009307861328, weight - 1.991337537765503, bias - 1.032206416130066\n",
      "Epoch - 19, loss - 21.095176696777344, weight - 1.9796085357666016, bias - 1.0325838327407837\n",
      "Epoch - 20, loss - 21.084684371948242, weight - 1.9879988431930542, bias - 1.0335586071014404\n",
      "Epoch - 21, loss - 21.07901382446289, weight - 1.981933355331421, bias - 1.034103512763977\n",
      "Epoch - 22, loss - 21.075830459594727, weight - 1.9862544536590576, bias - 1.034956693649292\n",
      "Epoch - 23, loss - 21.073938369750977, weight - 1.9831126928329468, bias - 1.0355877876281738\n",
      "Epoch - 24, loss - 21.07270050048828, weight - 1.9853330850601196, bias - 1.0363779067993164\n",
      "Epoch - 25, loss - 21.071819305419922, weight - 1.9837009906768799, bias - 1.037053108215332\n",
      "Epoch - 26, loss - 21.07110595703125, weight - 1.9848365783691406, bias - 1.037810206413269\n",
      "Epoch - 27, loss - 21.070486068725586, weight - 1.9839837551116943, bias - 1.0385079383850098\n",
      "Epoch - 28, loss - 21.069913864135742, weight - 1.9845597743988037, bias - 1.039247751235962\n",
      "Epoch - 29, loss - 21.069368362426758, weight - 1.9841090440750122, bias - 1.0399566888809204\n",
      "Epoch - 30, loss - 21.068838119506836, weight - 1.9843961000442505, bias - 1.0406872034072876\n",
      "Epoch - 31, loss - 21.068307876586914, weight - 1.984152913093567, bias - 1.0414016246795654\n",
      "Epoch - 32, loss - 21.067781448364258, weight - 1.9842908382415771, bias - 1.042127013206482\n",
      "Epoch - 33, loss - 21.0672607421875, weight - 1.9841549396514893, bias - 1.0428439378738403\n",
      "Epoch - 34, loss - 21.066740036010742, weight - 1.9842157363891602, bias - 1.043566346168518\n",
      "Epoch - 35, loss - 21.066225051879883, weight - 1.9841355085372925, bias - 1.0442842245101929\n",
      "Epoch - 36, loss - 21.06570816040039, weight - 1.9841564893722534, bias - 1.0450047254562378\n",
      "Epoch - 37, loss - 21.065187454223633, weight - 1.9841045141220093, bias - 1.0457227230072021\n",
      "Epoch - 38, loss - 21.064668655395508, weight - 1.9841052293777466, bias - 1.046441912651062\n",
      "Epoch - 39, loss - 21.064157485961914, weight - 1.9840680360794067, bias - 1.0471596717834473\n",
      "Epoch - 40, loss - 21.063636779785156, weight - 1.984058141708374, bias - 1.0478779077529907\n",
      "Epoch - 41, loss - 21.063125610351562, weight - 1.984028697013855, bias - 1.0485951900482178\n",
      "Epoch - 42, loss - 21.062606811523438, weight - 1.9840131998062134, bias - 1.0493125915527344\n",
      "Epoch - 43, loss - 21.062095642089844, weight - 1.98398756980896, bias - 1.0500292778015137\n",
      "Epoch - 44, loss - 21.06157684326172, weight - 1.9839695692062378, bias - 1.0507458448410034\n",
      "Epoch - 45, loss - 21.06106948852539, weight - 1.9839458465576172, bias - 1.051461935043335\n",
      "Epoch - 46, loss - 21.06055450439453, weight - 1.9839262962341309, bias - 1.0521777868270874\n",
      "Epoch - 47, loss - 21.060043334960938, weight - 1.9839037656784058, bias - 1.0528931617736816\n",
      "Epoch - 48, loss - 21.059532165527344, weight - 1.9838833808898926, bias - 1.0536082983016968\n",
      "Epoch - 49, loss - 21.05901336669922, weight - 1.9838614463806152, bias - 1.0543230772018433\n",
      "Epoch - 50, loss - 21.058509826660156, weight - 1.9838409423828125, bias - 1.055037498474121\n"
     ]
    }
   ],
   "source": [
    "epochs = 50 # Number of complete passes on the training data\n",
    "losses = []\n",
    "\n",
    "for i in range(epochs):\n",
    "    i+=1\n",
    "    y_pred = model.forward(X)\n",
    "    loss = criterion(y_pred, y)\n",
    "    losses.append(loss.item()) # Every loss entry is a tensor, so we just need the value from the same to append in the list\n",
    "    print(f\"Epoch - {i}, loss - {loss.item()}, weight - {model.linear.weight.item()}, bias - {model.linear.bias.item()}\")\n",
    "    optimizer.zero_grad() # gradients accumulate with each new epoch and not prevent compounding, we need to reset the gradient for every new epoch\n",
    "    loss.backward() # Perform the back propagation\n",
    "    optimizer.step() # Updates the hyperparameters"
   ],
   "metadata": {
    "collapsed": false,
    "pycharm": {
     "name": "#%%\n"
    }
   }
  },
  {
   "cell_type": "markdown",
   "source": [
    "## Plot the loss values\n",
    "Let's see how loss changed over time"
   ],
   "metadata": {
    "collapsed": false,
    "pycharm": {
     "name": "#%% md\n"
    }
   }
  },
  {
   "cell_type": "code",
   "execution_count": 115,
   "outputs": [
    {
     "data": {
      "text/plain": "Text(0.5, 0, 'epoch')"
     },
     "execution_count": 115,
     "metadata": {},
     "output_type": "execute_result"
    },
    {
     "data": {
      "text/plain": "<Figure size 432x288 with 1 Axes>",
      "image/png": "[encoded data removed]"
     },
     "metadata": {
      "needs_background": "light"
     },
     "output_type": "display_data"
    }
   ],
   "source": [
    "plt.plot(range(epochs), losses)\n",
    "plt.ylabel('MSE Loss')\n",
    "plt.xlabel('epoch')"
   ],
   "metadata": {
    "collapsed": false,
    "pycharm": {
     "name": "#%%\n"
    }
   }
  },
  {
   "cell_type": "code",
   "execution_count": 112,
   "outputs": [
    {
     "data": {
      "text/plain": "[3057.216796875,\n 1588.5311279296875,\n 830.2999877929688,\n 438.8524169921875,\n 236.7615203857422,\n 132.4291229248047,\n 78.56572723388672,\n 50.75775909423828,\n 36.4012336730957,\n 28.989229202270508,\n 25.162382125854492,\n 23.186473846435547,\n 22.166126251220703,\n 21.639110565185547,\n 21.366771697998047,\n 21.22591781616211,\n 21.15294647216797,\n 21.115009307861328,\n 21.095176696777344,\n 21.084684371948242,\n 21.07901382446289,\n 21.075830459594727,\n 21.073938369750977,\n 21.07270050048828,\n 21.071819305419922,\n 21.07110595703125,\n 21.070486068725586,\n 21.069913864135742,\n 21.069368362426758,\n 21.068838119506836,\n 21.068307876586914,\n 21.067781448364258,\n 21.0672607421875,\n 21.066740036010742,\n 21.066225051879883,\n 21.06570816040039,\n 21.065187454223633,\n 21.064668655395508,\n 21.064157485961914,\n 21.063636779785156,\n 21.063125610351562,\n 21.062606811523438,\n 21.062095642089844,\n 21.06157684326172,\n 21.06106948852539,\n 21.06055450439453,\n 21.060043334960938,\n 21.059532165527344,\n 21.05901336669922,\n 21.058509826660156]"
     },
     "execution_count": 112,
     "metadata": {},
     "output_type": "execute_result"
    }
   ],
   "source": [
    "# Lets view the loss values\n",
    "losses"
   ],
   "metadata": {
    "collapsed": false,
    "pycharm": {
     "name": "#%%\n"
    }
   }
  },
  {
   "cell_type": "markdown",
   "source": [
    "## Plot the result\n",
    "Now we'll derive <tt>y1</tt> from the new model to plot the most recent best-fit line."
   ],
   "metadata": {
    "collapsed": false,
    "pycharm": {
     "name": "#%% md\n"
    }
   }
  },
  {
   "cell_type": "code",
   "execution_count": 113,
   "outputs": [
    {
     "name": "stdout",
     "output_type": "stream",
     "text": [
      "Current weight - 1.9838191270828247 and Current bias - 1.0557515621185303\n",
      "[ 0.          1.02040816  2.04081633  3.06122449  4.08163265  5.10204082\n",
      "  6.12244898  7.14285714  8.16326531  9.18367347 10.20408163 11.2244898\n",
      " 12.24489796 13.26530612 14.28571429 15.30612245 16.32653061 17.34693878\n",
      " 18.36734694 19.3877551  20.40816327 21.42857143 22.44897959 23.46938776\n",
      " 24.48979592 25.51020408 26.53061224 27.55102041 28.57142857 29.59183673\n",
      " 30.6122449  31.63265306 32.65306122 33.67346939 34.69387755 35.71428571\n",
      " 36.73469388 37.75510204 38.7755102  39.79591837 40.81632653 41.83673469\n",
      " 42.85714286 43.87755102 44.89795918 45.91836735 46.93877551 47.95918367\n",
      " 48.97959184 50.        ]\n",
      "[  1.05575156   3.08005679   5.10436203   7.12866726   9.15297249\n",
      "  11.17727772  13.20158295  15.22588818  17.25019342  19.27449865\n",
      "  21.29880388  23.32310911  25.34741434  27.37171957  29.39602481\n",
      "  31.42033004  33.44463527  35.4689405   37.49324573  39.51755096\n",
      "  41.5418562   43.56616143  45.59046666  47.61477189  49.63907712\n",
      "  51.66338236  53.68768759  55.71199282  57.73629805  59.76060328\n",
      "  61.78490851  63.80921375  65.83351898  67.85782421  69.88212944\n",
      "  71.90643467  73.9307399   75.95504514  77.97935037  80.0036556\n",
      "  82.02796083  84.05226606  86.07657129  88.10087653  90.12518176\n",
      "  92.14948699  94.17379222  96.19809745  98.22240268 100.24670792]\n"
     ]
    }
   ],
   "source": [
    "w1, b1 = model.linear.weight.item(), model.linear.bias.item()\n",
    "print(f\"Current weight - {w1} and Current bias - {b1}\")\n",
    "\n",
    "y1 = x1*w1 + b1\n",
    "print(x1)\n",
    "print(y1)"
   ],
   "metadata": {
    "collapsed": false,
    "pycharm": {
     "name": "#%%\n"
    }
   }
  },
  {
   "cell_type": "code",
   "execution_count": 114,
   "outputs": [
    {
     "data": {
      "text/plain": "<Figure size 432x288 with 1 Axes>",
      "image/png": "[encoded data removed]"
     },
     "metadata": {
      "needs_background": "light"
     },
     "output_type": "display_data"
    }
   ],
   "source": [
    "# How does it fare against the original values\n",
    "plt.scatter(X.numpy(), y.numpy())\n",
    "plt.plot(x1,y1,'r')\n",
    "plt.title('Current Model')\n",
    "plt.ylabel('y')\n",
    "plt.xlabel('x');"
   ],
   "metadata": {
    "collapsed": false,
    "pycharm": {
     "name": "#%%\n"
    }
   }
  }
 ],
 "metadata": {
  "kernelspec": {
   "display_name": "Python 3",
   "language": "python",
   "name": "python3"
  },
  "language_info": {
   "codemirror_mode": {
    "name": "ipython",
    "version": 2
   },
   "file_extension": ".py",
   "mimetype": "text/x-python",
   "name": "python",
   "nbconvert_exporter": "python",
   "pygments_lexer": "ipython2",
   "version": "2.7.6"
  }
 },
 "nbformat": 4,
 "nbformat_minor": 0
}