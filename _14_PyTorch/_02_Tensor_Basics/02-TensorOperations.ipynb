{
 "cells": [
  {
   "cell_type": "markdown",
   "source": [
    "# Tensor Operations\r\n",
    "This section covers:\r\n",
    "* Indexing and slicing\r\n",
    "* Reshaping tensors (tensor views)\r\n",
    "* Tensor arithmetic and basic operations\r\n",
    "* Dot products\r\n",
    "* Matrix multiplication\r\n",
    "* Additional, more advanced operations\r\n",
    "\r\n",
    "## Perform standard imports"
   ],
   "metadata": {}
  },
  {
   "cell_type": "code",
   "execution_count": 2,
   "source": [
    "import numpy as np\r\n",
    "import torch"
   ],
   "outputs": [],
   "metadata": {}
  },
  {
   "cell_type": "markdown",
   "source": [
    "## Indexing and slicing\r\n",
    "Extracting specific values from a tensor works just the same as with NumPy arrays<br>\r\n",
    "<img src='../Images/arrayslicing.png' width=\"500\" style=\"display: inline-block\"><br><br>\r\n",
    "Image source: http://www.scipy-lectures.org/_images/numpy_indexing.png"
   ],
   "metadata": {}
  },
  {
   "cell_type": "code",
   "execution_count": null,
   "source": [],
   "outputs": [],
   "metadata": {}
  }
 ],
 "metadata": {
  "orig_nbformat": 4,
  "language_info": {
   "name": "python",
   "version": "3.8.11",
   "mimetype": "text/x-python",
   "codemirror_mode": {
    "name": "ipython",
    "version": 3
   },
   "pygments_lexer": "ipython3",
   "nbconvert_exporter": "python",
   "file_extension": ".py"
  },
  "kernelspec": {
   "name": "python3",
   "display_name": "Python 3.8.11 64-bit ('pytorch-gpu': conda)"
  },
  "interpreter": {
   "hash": "3e1efc7545cd46da8113c1188a7f61bc3259aaf8f10b04b41145a683344e547b"
  }
 },
 "nbformat": 4,
 "nbformat_minor": 2
}