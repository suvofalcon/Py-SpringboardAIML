{
 "cells": [
  {
   "cell_type": "markdown",
   "metadata": {},
   "source": [
    "# Stop Words\n",
    "Words like \"a\" and \"the\" appear so frequently that they don't require tagging as thoroughly as nouns, verbs and modifiers. We call these *stop words*, and they can be filtered from the text to be processed. spaCy holds a built-in list of some 305 English stop words."
   ]
  },
  {
   "cell_type": "code",
   "execution_count": 1,
   "metadata": {},
   "outputs": [],
   "source": [
    "# Perform standard imports:\n",
    "import spacy\n",
    "nlp = spacy.load('en_core_web_sm')"
   ]
  },
  {
   "cell_type": "code",
   "execution_count": 2,
   "metadata": {},
   "outputs": [
    {
     "name": "stdout",
     "output_type": "stream",
     "text": [
      "{'same', 'before', 'full', 'back', 'empty', 'due', 'whoever', 'although', 'take', 'i', 'seems', 'herself', 'though', 'all', 'our', 'various', 'whose', 'does', 'nine', 'you', 'twelve', 'nor', 'four', 'us', 'whom', 'sometimes', 'almost', 'were', 'both', 'at', 'also', 'alone', 'fifteen', 'such', \"'d\", 'can', '‘ve', 'please', 'less', 'too', 'whereupon', 'therefore', 'these', 'any', 'but', 'anyone', 'whence', 'him', 'well', 'either', 'first', '‘s', 'rather', 'else', 'least', 'an', 'to', 'along', 'am', 'beforehand', 'via', 'twenty', 'everything', 'third', 'as', 'is', 'within', 'bottom', 'whole', 'herein', 'made', 'thereafter', 'becomes', 'because', 'they', 'namely', \"'re\", 'anyhow', 'whatever', 'should', 'beyond', 'ever', 'above', 'top', 'move', '’m', 'your', 'may', 'afterwards', 'ourselves', 'hereafter', 'towards', 'be', 'already', 'seem', 'besides', 'further', 'doing', 'yourselves', 'hers', 'very', 'why', 'few', 'onto', 'hereby', 'hence', 'moreover', 'show', 'give', 'perhaps', 'another', 'become', 'together', 'against', 'there', 'everywhere', 'a', \"'ll\", 'otherwise', 'last', 'not', 'she', 'must', 'again', 'each', 'became', 'who', 'during', \"'m\", '‘re', 'every', 'those', 'wherever', 'thereby', 'until', 'former', 'since', 'whither', 'my', 'side', 'yours', 'how', 'so', 'more', '’ve', 'only', 'into', 'around', 'where', 'now', 'others', 'say', 'something', '‘d', 'indeed', 'no', 'sometime', 'this', 'seeming', 'myself', 'really', 'his', 'amongst', 'me', 'some', 'when', 'would', 'using', 'for', 'thru', 'of', 'here', 'nevertheless', 'per', '’ll', 'forty', 'whereas', 'always', '’s', 'out', 'serious', 'next', 'two', 'keep', 'five', \"n't\", 'ten', 'meanwhile', 'other', 'could', 'quite', 'then', 'latter', 'one', 'seemed', 'eleven', '’re', 'still', 'about', 're', 'see', 'several', 'among', 'get', 'in', 'somehow', 'which', 'front', 'n‘t', 'except', 'being', 'most', \"'s\", 'was', 'under', 'used', 'up', 'someone', 'do', 'it', 'through', 'none', 'much', 'ca', 'throughout', 'did', 'never', 'will', 'after', 'yourself', '‘ll', 'own', 'elsewhere', 'anything', 'go', 'hereupon', 'anyway', 'off', 'n’t', 'while', 'themselves', 'unless', 'or', 'down', 'part', 'have', 'however', 'formerly', 'are', 'mine', 'whenever', 'nobody', 'regarding', 'below', 'been', 'sixty', 'if', 'than', 'might', 'ours', 'everyone', 'neither', 'the', 'name', 'by', 'toward', 'six', \"'ve\", 'we', 'therein', 'thence', 'upon', 'enough', 'done', 'anywhere', 'just', 'becoming', 'cannot', 'latterly', 'across', 'amount', 'wherein', 'with', 'its', 'on', 'yet', 'he', 'mostly', 'whether', 'once', '’d', 'her', 'from', 'put', 'eight', 'noone', 'whereby', 'often', 'whereafter', 'behind', 'many', 'thereupon', 'thus', 'over', 'between', 'without', 'somewhere', 'make', 'them', 'and', 'three', 'their', 'fifty', 'call', 'even', 'himself', 'beside', '‘m', 'nothing', 'hundred', 'what', 'had', 'that', 'has', 'nowhere', 'itself'}\n"
     ]
    }
   ],
   "source": [
    "# Print the set of spaCy's default stop words (remember that sets are unordered):\n",
    "print(nlp.Defaults.stop_words)"
   ]
  },
  {
   "cell_type": "code",
   "execution_count": 3,
   "metadata": {},
   "outputs": [
    {
     "data": {
      "text/plain": [
       "326"
      ]
     },
     "execution_count": 3,
     "metadata": {},
     "output_type": "execute_result"
    }
   ],
   "source": [
    "# to see the count\n",
    "len(nlp.Defaults.stop_words)"
   ]
  },
  {
   "cell_type": "markdown",
   "metadata": {},
   "source": [
    "## To see if a word is a stop word"
   ]
  },
  {
   "cell_type": "code",
   "execution_count": 4,
   "metadata": {},
   "outputs": [
    {
     "data": {
      "text/plain": [
       "True"
      ]
     },
     "execution_count": 4,
     "metadata": {},
     "output_type": "execute_result"
    }
   ],
   "source": [
    "nlp.vocab['myself'].is_stop"
   ]
  },
  {
   "cell_type": "code",
   "execution_count": 5,
   "metadata": {},
   "outputs": [
    {
     "data": {
      "text/plain": [
       "False"
      ]
     },
     "execution_count": 5,
     "metadata": {},
     "output_type": "execute_result"
    }
   ],
   "source": [
    "nlp.vocab['mystery'].is_stop"
   ]
  },
  {
   "cell_type": "markdown",
   "metadata": {},
   "source": [
    "## To add a stop word\n",
    "There may be times when you wish to add a stop word to the default set. Perhaps you decide that `'btw'` (common shorthand for \"by the way\") should be considered a stop word."
   ]
  },
  {
   "cell_type": "code",
   "execution_count": 6,
   "metadata": {},
   "outputs": [],
   "source": [
    "# Add the word to the set of stop words. Use lowercase!\n",
    "nlp.Defaults.stop_words.add('btw')\n",
    "\n",
    "# Set the stop_word tag on the lexeme\n",
    "nlp.vocab['btw'].is_stop = True"
   ]
  },
  {
   "cell_type": "code",
   "execution_count": 7,
   "metadata": {},
   "outputs": [
    {
     "data": {
      "text/plain": [
       "327"
      ]
     },
     "execution_count": 7,
     "metadata": {},
     "output_type": "execute_result"
    }
   ],
   "source": [
    "# Check the length now\n",
    "len(nlp.Defaults.stop_words)"
   ]
  },
  {
   "cell_type": "code",
   "execution_count": 8,
   "metadata": {},
   "outputs": [
    {
     "data": {
      "text/plain": [
       "True"
      ]
     },
     "execution_count": 8,
     "metadata": {},
     "output_type": "execute_result"
    }
   ],
   "source": [
    "nlp.vocab['btw'].is_stop"
   ]
  },
  {
   "cell_type": "markdown",
   "metadata": {},
   "source": [
    "<font color=blue>When adding stop words, always use lowercase. Lexemes are converted to lowercase before being added to **vocab**.</font>"
   ]
  },
  {
   "cell_type": "markdown",
   "metadata": {},
   "source": [
    "## To remove a stop word\n",
    "Alternatively, you may decide that `'beyond'` should not be considered a stop word."
   ]
  },
  {
   "cell_type": "code",
   "execution_count": 9,
   "metadata": {},
   "outputs": [],
   "source": [
    "# Remove the word from the set of stop words\n",
    "nlp.Defaults.stop_words.remove('beyond')\n",
    "\n",
    "# Remove the stop_word tag from the lexeme\n",
    "nlp.vocab['beyond'].is_stop = False"
   ]
  },
  {
   "cell_type": "code",
   "execution_count": 12,
   "metadata": {},
   "outputs": [
    {
     "data": {
      "text/plain": [
       "326"
      ]
     },
     "execution_count": 12,
     "metadata": {},
     "output_type": "execute_result"
    }
   ],
   "source": [
    "# Check the length again\n",
    "len(nlp.Defaults.stop_words)"
   ]
  },
  {
   "cell_type": "code",
   "execution_count": 13,
   "metadata": {},
   "outputs": [
    {
     "data": {
      "text/plain": [
       "False"
      ]
     },
     "execution_count": 13,
     "metadata": {},
     "output_type": "execute_result"
    }
   ],
   "source": [
    "nlp.vocab['beyond'].is_stop"
   ]
  },
  {
   "cell_type": "code",
   "execution_count": null,
   "metadata": {},
   "outputs": [],
   "source": []
  }
 ],
 "metadata": {
  "kernelspec": {
   "display_name": "Python 3",
   "language": "python",
   "name": "python3"
  },
  "language_info": {
   "codemirror_mode": {
    "name": "ipython",
    "version": 3
   },
   "file_extension": ".py",
   "mimetype": "text/x-python",
   "name": "python",
   "nbconvert_exporter": "python",
   "pygments_lexer": "ipython3",
   "version": "3.7.5"
  }
 },
 "nbformat": 4,
 "nbformat_minor": 2
}
