{
 "cells": [
  {
   "cell_type": "markdown",
   "id": "surrounded-closure",
   "metadata": {},
   "source": [
    "# TOPIC MODELLING ON NIPS PAPERS - KAGGLE\n",
    "\n",
    "Topic Modelling of ML Papers using LDA (Latent Dirichlet Allocation)\n",
    "\n",
    "https://www.kaggle.com/rowhitswami/nips-papers-1987-2019-updated/tasks?taskId=2960"
   ]
  },
  {
   "cell_type": "markdown",
   "id": "facial-shelter",
   "metadata": {},
   "source": [
    "### Library Imports"
   ]
  },
  {
   "cell_type": "code",
   "execution_count": 1,
   "id": "changed-desperate",
   "metadata": {},
   "outputs": [],
   "source": [
    "import numpy as np\n",
    "import pandas as pd"
   ]
  },
  {
   "cell_type": "markdown",
   "id": "shaped-density",
   "metadata": {},
   "source": [
    "### Load the datasets and verify the data load"
   ]
  },
  {
   "cell_type": "code",
   "execution_count": 2,
   "id": "illegal-arkansas",
   "metadata": {},
   "outputs": [
    {
     "data": {
      "text/html": [
       "<div>\n",
       "<style scoped>\n",
       "    .dataframe tbody tr th:only-of-type {\n",
       "        vertical-align: middle;\n",
       "    }\n",
       "\n",
       "    .dataframe tbody tr th {\n",
       "        vertical-align: top;\n",
       "    }\n",
       "\n",
       "    .dataframe thead th {\n",
       "        text-align: right;\n",
       "    }\n",
       "</style>\n",
       "<table border=\"1\" class=\"dataframe\">\n",
       "  <thead>\n",
       "    <tr style=\"text-align: right;\">\n",
       "      <th></th>\n",
       "      <th>source_id</th>\n",
       "      <th>first_name</th>\n",
       "      <th>last_name</th>\n",
       "      <th>institution</th>\n",
       "    </tr>\n",
       "  </thead>\n",
       "  <tbody>\n",
       "    <tr>\n",
       "      <th>0</th>\n",
       "      <td>27</td>\n",
       "      <td>Alan</td>\n",
       "      <td>Murray</td>\n",
       "      <td>NaN</td>\n",
       "    </tr>\n",
       "    <tr>\n",
       "      <th>1</th>\n",
       "      <td>27</td>\n",
       "      <td>Anthony</td>\n",
       "      <td>Smith</td>\n",
       "      <td>NaN</td>\n",
       "    </tr>\n",
       "    <tr>\n",
       "      <th>2</th>\n",
       "      <td>27</td>\n",
       "      <td>Zoe</td>\n",
       "      <td>Butler</td>\n",
       "      <td>NaN</td>\n",
       "    </tr>\n",
       "    <tr>\n",
       "      <th>3</th>\n",
       "      <td>63</td>\n",
       "      <td>Yaser</td>\n",
       "      <td>Abu-Mostafa</td>\n",
       "      <td>NaN</td>\n",
       "    </tr>\n",
       "    <tr>\n",
       "      <th>4</th>\n",
       "      <td>60</td>\n",
       "      <td>Michael</td>\n",
       "      <td>Fleisher</td>\n",
       "      <td>NaN</td>\n",
       "    </tr>\n",
       "  </tbody>\n",
       "</table>\n",
       "</div>"
      ],
      "text/plain": [
       "   source_id first_name    last_name institution\n",
       "0         27       Alan       Murray         NaN\n",
       "1         27    Anthony        Smith         NaN\n",
       "2         27        Zoe       Butler         NaN\n",
       "3         63      Yaser  Abu-Mostafa         NaN\n",
       "4         60    Michael     Fleisher         NaN"
      ]
     },
     "execution_count": 2,
     "metadata": {},
     "output_type": "execute_result"
    }
   ],
   "source": [
    "authors = pd.read_csv(\"D:\\\\ML-Datasets\\\\Kaggle\\\\NIPS\\\\authors.csv\")\n",
    "\n",
    "authors.head()"
   ]
  },
  {
   "cell_type": "code",
   "execution_count": 3,
   "id": "designing-bunch",
   "metadata": {},
   "outputs": [
    {
     "name": "stdout",
     "output_type": "stream",
     "text": [
      "<class 'pandas.core.frame.DataFrame'>\n",
      "RangeIndex: 30237 entries, 0 to 30236\n",
      "Data columns (total 4 columns):\n",
      " #   Column       Non-Null Count  Dtype \n",
      "---  ------       --------------  ----- \n",
      " 0   source_id    30237 non-null  int64 \n",
      " 1   first_name   30236 non-null  object\n",
      " 2   last_name    30234 non-null  object\n",
      " 3   institution  17303 non-null  object\n",
      "dtypes: int64(1), object(3)\n",
      "memory usage: 945.0+ KB\n"
     ]
    },
    {
     "data": {
      "text/plain": [
       "source_id          0\n",
       "first_name         1\n",
       "last_name          3\n",
       "institution    12934\n",
       "dtype: int64"
      ]
     },
     "execution_count": 3,
     "metadata": {},
     "output_type": "execute_result"
    }
   ],
   "source": [
    "# A quick look on the data structure and missing values\n",
    "\n",
    "authors.info()\n",
    "\n",
    "authors.isna().sum()"
   ]
  },
  {
   "cell_type": "code",
   "execution_count": 4,
   "id": "emotional-franklin",
   "metadata": {},
   "outputs": [
    {
     "data": {
      "text/html": [
       "<div>\n",
       "<style scoped>\n",
       "    .dataframe tbody tr th:only-of-type {\n",
       "        vertical-align: middle;\n",
       "    }\n",
       "\n",
       "    .dataframe tbody tr th {\n",
       "        vertical-align: top;\n",
       "    }\n",
       "\n",
       "    .dataframe thead th {\n",
       "        text-align: right;\n",
       "    }\n",
       "</style>\n",
       "<table border=\"1\" class=\"dataframe\">\n",
       "  <thead>\n",
       "    <tr style=\"text-align: right;\">\n",
       "      <th></th>\n",
       "      <th>source_id</th>\n",
       "      <th>year</th>\n",
       "      <th>title</th>\n",
       "      <th>abstract</th>\n",
       "      <th>full_text</th>\n",
       "    </tr>\n",
       "  </thead>\n",
       "  <tbody>\n",
       "    <tr>\n",
       "      <th>0</th>\n",
       "      <td>27</td>\n",
       "      <td>1987</td>\n",
       "      <td>Bit-Serial Neural Networks</td>\n",
       "      <td>NaN</td>\n",
       "      <td>573 \\n\\nBIT - SERIAL NEURAL  NETWORKS \\n\\nAlan...</td>\n",
       "    </tr>\n",
       "    <tr>\n",
       "      <th>1</th>\n",
       "      <td>63</td>\n",
       "      <td>1987</td>\n",
       "      <td>Connectivity Versus Entropy</td>\n",
       "      <td>NaN</td>\n",
       "      <td>1 \\n\\nCONNECTIVITY VERSUS ENTROPY \\n\\nYaser  S...</td>\n",
       "    </tr>\n",
       "    <tr>\n",
       "      <th>2</th>\n",
       "      <td>60</td>\n",
       "      <td>1987</td>\n",
       "      <td>The Hopfield Model with Multi-Level Neurons</td>\n",
       "      <td>NaN</td>\n",
       "      <td>278 \\n\\nTHE HOPFIELD MODEL WITH MUL TI-LEVEL N...</td>\n",
       "    </tr>\n",
       "    <tr>\n",
       "      <th>3</th>\n",
       "      <td>59</td>\n",
       "      <td>1987</td>\n",
       "      <td>How Neural Nets Work</td>\n",
       "      <td>NaN</td>\n",
       "      <td>442 \\n\\nAlan  Lapedes \\nRobert  Farber \\n\\nThe...</td>\n",
       "    </tr>\n",
       "    <tr>\n",
       "      <th>4</th>\n",
       "      <td>69</td>\n",
       "      <td>1987</td>\n",
       "      <td>Spatial Organization of Neural Networks: A Pro...</td>\n",
       "      <td>NaN</td>\n",
       "      <td>740 \\n\\nSPATIAL  ORGANIZATION  OF  NEURAL  NEn...</td>\n",
       "    </tr>\n",
       "  </tbody>\n",
       "</table>\n",
       "</div>"
      ],
      "text/plain": [
       "   source_id  year                                              title  \\\n",
       "0         27  1987                         Bit-Serial Neural Networks   \n",
       "1         63  1987                        Connectivity Versus Entropy   \n",
       "2         60  1987        The Hopfield Model with Multi-Level Neurons   \n",
       "3         59  1987                               How Neural Nets Work   \n",
       "4         69  1987  Spatial Organization of Neural Networks: A Pro...   \n",
       "\n",
       "  abstract                                          full_text  \n",
       "0      NaN  573 \\n\\nBIT - SERIAL NEURAL  NETWORKS \\n\\nAlan...  \n",
       "1      NaN  1 \\n\\nCONNECTIVITY VERSUS ENTROPY \\n\\nYaser  S...  \n",
       "2      NaN  278 \\n\\nTHE HOPFIELD MODEL WITH MUL TI-LEVEL N...  \n",
       "3      NaN  442 \\n\\nAlan  Lapedes \\nRobert  Farber \\n\\nThe...  \n",
       "4      NaN  740 \\n\\nSPATIAL  ORGANIZATION  OF  NEURAL  NEn...  "
      ]
     },
     "execution_count": 4,
     "metadata": {},
     "output_type": "execute_result"
    }
   ],
   "source": [
    "# Load the papers dataset\n",
    "\n",
    "papers = pd.read_csv(\"D:\\\\ML-Datasets\\\\Kaggle\\\\NIPS\\\\papers.csv\")\n",
    "\n",
    "papers.head()"
   ]
  },
  {
   "cell_type": "code",
   "execution_count": 5,
   "id": "clean-sweden",
   "metadata": {},
   "outputs": [
    {
     "name": "stdout",
     "output_type": "stream",
     "text": [
      "<class 'pandas.core.frame.DataFrame'>\n",
      "RangeIndex: 9680 entries, 0 to 9679\n",
      "Data columns (total 5 columns):\n",
      " #   Column     Non-Null Count  Dtype \n",
      "---  ------     --------------  ----- \n",
      " 0   source_id  9680 non-null   int64 \n",
      " 1   year       9680 non-null   int64 \n",
      " 2   title      9680 non-null   object\n",
      " 3   abstract   6361 non-null   object\n",
      " 4   full_text  9677 non-null   object\n",
      "dtypes: int64(2), object(3)\n",
      "memory usage: 378.2+ KB\n"
     ]
    },
    {
     "data": {
      "text/plain": [
       "source_id       0\n",
       "year            0\n",
       "title           0\n",
       "abstract     3319\n",
       "full_text       3\n",
       "dtype: int64"
      ]
     },
     "execution_count": 5,
     "metadata": {},
     "output_type": "execute_result"
    }
   ],
   "source": [
    "# A quick look on the papers data structure and missing values by columns\n",
    "\n",
    "papers.info()\n",
    "\n",
    "papers.isna().sum()"
   ]
  },
  {
   "cell_type": "markdown",
   "id": "collaborative-employer",
   "metadata": {},
   "source": [
    "Since we would be doing topic modelling on full_text column, we would need to perform missing value treatment there\n",
    "We would replace the null values with the corresponding title"
   ]
  },
  {
   "cell_type": "code",
   "execution_count": 6,
   "id": "basic-grocery",
   "metadata": {},
   "outputs": [
    {
     "data": {
      "text/html": [
       "<div>\n",
       "<style scoped>\n",
       "    .dataframe tbody tr th:only-of-type {\n",
       "        vertical-align: middle;\n",
       "    }\n",
       "\n",
       "    .dataframe tbody tr th {\n",
       "        vertical-align: top;\n",
       "    }\n",
       "\n",
       "    .dataframe thead th {\n",
       "        text-align: right;\n",
       "    }\n",
       "</style>\n",
       "<table border=\"1\" class=\"dataframe\">\n",
       "  <thead>\n",
       "    <tr style=\"text-align: right;\">\n",
       "      <th></th>\n",
       "      <th>source_id</th>\n",
       "      <th>year</th>\n",
       "      <th>title</th>\n",
       "      <th>abstract</th>\n",
       "      <th>full_text</th>\n",
       "    </tr>\n",
       "  </thead>\n",
       "  <tbody>\n",
       "    <tr>\n",
       "      <th>4481</th>\n",
       "      <td>5218</td>\n",
       "      <td>2012</td>\n",
       "      <td>A dynamic excitatory-inhibitory network in a V...</td>\n",
       "      <td>NaN</td>\n",
       "      <td>NaN</td>\n",
       "    </tr>\n",
       "    <tr>\n",
       "      <th>4686</th>\n",
       "      <td>5219</td>\n",
       "      <td>2012</td>\n",
       "      <td>An Integer Optimization Approach to Associativ...</td>\n",
       "      <td>NaN</td>\n",
       "      <td>NaN</td>\n",
       "    </tr>\n",
       "    <tr>\n",
       "      <th>6211</th>\n",
       "      <td>1017</td>\n",
       "      <td>2016</td>\n",
       "      <td>Only H is left: Near-tight Episodic PAC RL</td>\n",
       "      <td>In many applications such as advertisement pla...</td>\n",
       "      <td>NaN</td>\n",
       "    </tr>\n",
       "  </tbody>\n",
       "</table>\n",
       "</div>"
      ],
      "text/plain": [
       "      source_id  year                                              title  \\\n",
       "4481       5218  2012  A dynamic excitatory-inhibitory network in a V...   \n",
       "4686       5219  2012  An Integer Optimization Approach to Associativ...   \n",
       "6211       1017  2016         Only H is left: Near-tight Episodic PAC RL   \n",
       "\n",
       "                                               abstract full_text  \n",
       "4481                                                NaN       NaN  \n",
       "4686                                                NaN       NaN  \n",
       "6211  In many applications such as advertisement pla...       NaN  "
      ]
     },
     "execution_count": 6,
     "metadata": {},
     "output_type": "execute_result"
    }
   ],
   "source": [
    "# Check the missing full_text rows\n",
    "\n",
    "papers[papers['full_text'].isna()] "
   ]
  },
  {
   "cell_type": "code",
   "execution_count": 7,
   "id": "timely-surge",
   "metadata": {},
   "outputs": [],
   "source": [
    "# perform the missing imputations on both full_text and abstract\n",
    "\n",
    "papers['full_text'] = np.where(papers['full_text'].isna(), papers['title'], papers['full_text'])\n",
    "papers['abstract'] = np.where(papers['abstract'].isna(), papers['title'], papers['abstract'])\n",
    "\n",
    "# alternative approach - using lambda expression\n",
    "# papers['full_text'] = papers.apply(lambda x: x['title'] if pd.isnull(x['full_text']) else x['full_text'], axis=1)"
   ]
  },
  {
   "cell_type": "code",
   "execution_count": 8,
   "id": "athletic-means",
   "metadata": {},
   "outputs": [
    {
     "data": {
      "text/plain": [
       "source_id    0\n",
       "year         0\n",
       "title        0\n",
       "abstract     0\n",
       "full_text    0\n",
       "dtype: int64"
      ]
     },
     "execution_count": 8,
     "metadata": {},
     "output_type": "execute_result"
    }
   ],
   "source": [
    "papers.isna().sum()"
   ]
  },
  {
   "cell_type": "markdown",
   "id": "constant-macro",
   "metadata": {},
   "source": [
    "### Preprocessing\n",
    "\n",
    "#### Task: Use TF-IDF Vectorization to create a vectorized document term matrix. We may want to explore the max_df and min_df parameters."
   ]
  },
  {
   "cell_type": "code",
   "execution_count": 9,
   "id": "informational-syracuse",
   "metadata": {},
   "outputs": [
    {
     "data": {
      "text/plain": [
       "<9680x3397 sparse matrix of type '<class 'numpy.float64'>'\n",
       "\twith 57450 stored elements in Compressed Sparse Row format>"
      ]
     },
     "execution_count": 9,
     "metadata": {},
     "output_type": "execute_result"
    }
   ],
   "source": [
    "from sklearn.feature_extraction.text import TfidfVectorizer\n",
    "\n",
    "tfidf = TfidfVectorizer(max_df=0.9, min_df=2, stop_words='english', token_pattern=r'(?u)\\b[A-Za-z]+\\b')\n",
    "dtm = tfidf.fit_transform(papers['title'])\n",
    "\n",
    "dtm"
   ]
  },
  {
   "cell_type": "markdown",
   "id": "numeric-venue",
   "metadata": {},
   "source": [
    "### Latent Drichilet Allocation"
   ]
  },
  {
   "cell_type": "code",
   "execution_count": 10,
   "id": "breeding-picking",
   "metadata": {},
   "outputs": [
    {
     "data": {
      "text/plain": [
       "LatentDirichletAllocation(n_components=7, random_state=101)"
      ]
     },
     "execution_count": 10,
     "metadata": {},
     "output_type": "execute_result"
    }
   ],
   "source": [
    "from sklearn.decomposition import LatentDirichletAllocation\n",
    "\n",
    "LDA = LatentDirichletAllocation(n_components=7, random_state=101)\n",
    "\n",
    "# This can take a while, we are dealing with large number of documents here\n",
    "LDA.fit(dtm)"
   ]
  },
  {
   "cell_type": "code",
   "execution_count": 11,
   "id": "renewable-palace",
   "metadata": {},
   "outputs": [
    {
     "data": {
      "text/plain": [
       "(7, 3397)"
      ]
     },
     "execution_count": 11,
     "metadata": {},
     "output_type": "execute_result"
    }
   ],
   "source": [
    "# Check the shape of the numpy array - This matches with 10 components which we wanted and columns equal to the sparse matrix\n",
    "LDA.components_.shape"
   ]
  },
  {
   "cell_type": "markdown",
   "id": "associate-peeing",
   "metadata": {},
   "source": [
    "#### Now we will setup a loop which will print out the top 10 words with highest probabilities for all the ten topics"
   ]
  },
  {
   "cell_type": "code",
   "execution_count": 12,
   "id": "sexual-tulsa",
   "metadata": {},
   "outputs": [
    {
     "name": "stdout",
     "output_type": "stream",
     "text": [
      "THE TOP 15 WORDS FOR TOPIC #0\n",
      "['deep', 'network', 'using', 'speech', 'object', 'image', 'networks', 'recognition', 'neural', 'learning']\n",
      "\n",
      "\n",
      "THE TOP 15 WORDS FOR TOPIC #1\n",
      "['efficient', 'optimal', 'metric', 'sparse', 'task', 'kernel', 'boosting', 'reinforcement', 'multi', 'learning']\n",
      "\n",
      "\n",
      "THE TOP 15 WORDS FOR TOPIC #2\n",
      "['submodular', 'reduction', 'minimization', 'classification', 'analysis', 'adversarial', 'semi', 'bounds', 'supervised', 'learning']\n",
      "\n",
      "\n",
      "THE TOP 15 WORDS FOR TOPIC #3\n",
      "['visual', 'regression', 'model', 'process', 'models', 'processes', 'markov', 'gaussian', 'decision', 'learning']\n",
      "\n",
      "\n",
      "THE TOP 15 WORDS FOR TOPIC #4\n",
      "['stochastic', 'online', 'gradient', 'recurrent', 'policy', 'network', 'optimization', 'learning', 'networks', 'neural']\n",
      "\n",
      "\n",
      "THE TOP 15 WORDS FOR TOPIC #5\n",
      "['time', 'data', 'stochastic', 'rank', 'learning', 'variational', 'matrix', 'estimation', 'inference', 'models']\n",
      "\n",
      "\n",
      "THE TOP 15 WORDS FOR TOPIC #6\n",
      "['models', 'spiking', 'search', 'neurons', 'model', 'deep', 'memory', 'neural', 'learning', 'networks']\n",
      "\n",
      "\n"
     ]
    }
   ],
   "source": [
    "for index, topic in enumerate(LDA.components_):\n",
    "    print(f\"THE TOP 15 WORDS FOR TOPIC #{index}\")\n",
    "    list_keywords = [tfidf.get_feature_names()[index] for index in topic.argsort()[-10:]]\n",
    "    print(list_keywords)\n",
    "    print(\"\\n\")"
   ]
  },
  {
   "cell_type": "code",
   "execution_count": 13,
   "id": "otherwise-rally",
   "metadata": {},
   "outputs": [
    {
     "data": {
      "text/plain": [
       "(9680, 7)"
      ]
     },
     "execution_count": 13,
     "metadata": {},
     "output_type": "execute_result"
    }
   ],
   "source": [
    "# Now we will attach the topic numbers to the original articles\n",
    "\n",
    "# In order to do this, we would need to apply the transform method on our LDA model and DTM to associate the topic to each\n",
    "# article\n",
    "topic_results = LDA.transform(dtm)\n",
    "\n",
    "# Now we will check the shape\n",
    "topic_results.shape"
   ]
  },
  {
   "cell_type": "code",
   "execution_count": 14,
   "id": "warming-blond",
   "metadata": {},
   "outputs": [
    {
     "data": {
      "text/plain": [
       "array([0.05072517, 0.05017318, 0.05022285, 0.0502368 , 0.6981991 ,\n",
       "       0.05017391, 0.05026899])"
      ]
     },
     "execution_count": 14,
     "metadata": {},
     "output_type": "execute_result"
    }
   ],
   "source": [
    "# If we check the first element, we will get the probabilities of each of the articles belonging to one of the 7 topics\n",
    "topic_results[0]"
   ]
  },
  {
   "cell_type": "markdown",
   "id": "figured-dairy",
   "metadata": {},
   "source": [
    "There is a 69% probability, that it should belong to the 5th topic"
   ]
  },
  {
   "cell_type": "code",
   "execution_count": 15,
   "id": "unauthorized-cornell",
   "metadata": {},
   "outputs": [
    {
     "data": {
      "text/plain": [
       "4"
      ]
     },
     "execution_count": 15,
     "metadata": {},
     "output_type": "execute_result"
    }
   ],
   "source": [
    "# We will grab the index position of the highest probability\n",
    "topic_results[0].argmax()"
   ]
  },
  {
   "cell_type": "code",
   "execution_count": 16,
   "id": "literary-formula",
   "metadata": {},
   "outputs": [
    {
     "data": {
      "text/html": [
       "<div>\n",
       "<style scoped>\n",
       "    .dataframe tbody tr th:only-of-type {\n",
       "        vertical-align: middle;\n",
       "    }\n",
       "\n",
       "    .dataframe tbody tr th {\n",
       "        vertical-align: top;\n",
       "    }\n",
       "\n",
       "    .dataframe thead th {\n",
       "        text-align: right;\n",
       "    }\n",
       "</style>\n",
       "<table border=\"1\" class=\"dataframe\">\n",
       "  <thead>\n",
       "    <tr style=\"text-align: right;\">\n",
       "      <th></th>\n",
       "      <th>source_id</th>\n",
       "      <th>year</th>\n",
       "      <th>title</th>\n",
       "      <th>abstract</th>\n",
       "      <th>full_text</th>\n",
       "      <th>Topic</th>\n",
       "    </tr>\n",
       "  </thead>\n",
       "  <tbody>\n",
       "    <tr>\n",
       "      <th>0</th>\n",
       "      <td>27</td>\n",
       "      <td>1987</td>\n",
       "      <td>Bit-Serial Neural Networks</td>\n",
       "      <td>Bit-Serial Neural Networks</td>\n",
       "      <td>573 \\n\\nBIT - SERIAL NEURAL  NETWORKS \\n\\nAlan...</td>\n",
       "      <td>4</td>\n",
       "    </tr>\n",
       "    <tr>\n",
       "      <th>1</th>\n",
       "      <td>63</td>\n",
       "      <td>1987</td>\n",
       "      <td>Connectivity Versus Entropy</td>\n",
       "      <td>Connectivity Versus Entropy</td>\n",
       "      <td>1 \\n\\nCONNECTIVITY VERSUS ENTROPY \\n\\nYaser  S...</td>\n",
       "      <td>1</td>\n",
       "    </tr>\n",
       "    <tr>\n",
       "      <th>2</th>\n",
       "      <td>60</td>\n",
       "      <td>1987</td>\n",
       "      <td>The Hopfield Model with Multi-Level Neurons</td>\n",
       "      <td>The Hopfield Model with Multi-Level Neurons</td>\n",
       "      <td>278 \\n\\nTHE HOPFIELD MODEL WITH MUL TI-LEVEL N...</td>\n",
       "      <td>6</td>\n",
       "    </tr>\n",
       "    <tr>\n",
       "      <th>3</th>\n",
       "      <td>59</td>\n",
       "      <td>1987</td>\n",
       "      <td>How Neural Nets Work</td>\n",
       "      <td>How Neural Nets Work</td>\n",
       "      <td>442 \\n\\nAlan  Lapedes \\nRobert  Farber \\n\\nThe...</td>\n",
       "      <td>3</td>\n",
       "    </tr>\n",
       "    <tr>\n",
       "      <th>4</th>\n",
       "      <td>69</td>\n",
       "      <td>1987</td>\n",
       "      <td>Spatial Organization of Neural Networks: A Pro...</td>\n",
       "      <td>Spatial Organization of Neural Networks: A Pro...</td>\n",
       "      <td>740 \\n\\nSPATIAL  ORGANIZATION  OF  NEURAL  NEn...</td>\n",
       "      <td>4</td>\n",
       "    </tr>\n",
       "    <tr>\n",
       "      <th>5</th>\n",
       "      <td>6</td>\n",
       "      <td>1987</td>\n",
       "      <td>A Neural-Network Solution to the Concentrator ...</td>\n",
       "      <td>A Neural-Network Solution to the Concentrator ...</td>\n",
       "      <td>775 \\n\\nA  NEURAL-NETWORK  SOLUTION TO  THE  C...</td>\n",
       "      <td>0</td>\n",
       "    </tr>\n",
       "    <tr>\n",
       "      <th>6</th>\n",
       "      <td>33</td>\n",
       "      <td>1987</td>\n",
       "      <td>LEARNING BY STATE RECURRENCE DETECTION</td>\n",
       "      <td>LEARNING BY STATE RECURRENCE DETECTION</td>\n",
       "      <td>642 \\n\\nLEARNING BY ST ATE RECURRENCE DETECfIO...</td>\n",
       "      <td>1</td>\n",
       "    </tr>\n",
       "    <tr>\n",
       "      <th>7</th>\n",
       "      <td>36</td>\n",
       "      <td>1987</td>\n",
       "      <td>Stability Results for Neural Networks</td>\n",
       "      <td>Stability Results for Neural Networks</td>\n",
       "      <td>554 \\n\\nSTABILITY RESULTS  FOR NEURAL  NETWORK...</td>\n",
       "      <td>4</td>\n",
       "    </tr>\n",
       "    <tr>\n",
       "      <th>8</th>\n",
       "      <td>35</td>\n",
       "      <td>1987</td>\n",
       "      <td>Introduction to a System for Implementing Neur...</td>\n",
       "      <td>Introduction to a System for Implementing Neur...</td>\n",
       "      <td>804 \\n\\nINTRODUCTION TO A  SYSTEM FOR IMPLEMEN...</td>\n",
       "      <td>4</td>\n",
       "    </tr>\n",
       "    <tr>\n",
       "      <th>9</th>\n",
       "      <td>19</td>\n",
       "      <td>1987</td>\n",
       "      <td>Optimization with Artificial Neural Network Sy...</td>\n",
       "      <td>Optimization with Artificial Neural Network Sy...</td>\n",
       "      <td>474 \\n\\nOPTIMIZA nON WITH ARTIFICIAL NEURAL NE...</td>\n",
       "      <td>4</td>\n",
       "    </tr>\n",
       "  </tbody>\n",
       "</table>\n",
       "</div>"
      ],
      "text/plain": [
       "   source_id  year                                              title  \\\n",
       "0         27  1987                         Bit-Serial Neural Networks   \n",
       "1         63  1987                        Connectivity Versus Entropy   \n",
       "2         60  1987        The Hopfield Model with Multi-Level Neurons   \n",
       "3         59  1987                               How Neural Nets Work   \n",
       "4         69  1987  Spatial Organization of Neural Networks: A Pro...   \n",
       "5          6  1987  A Neural-Network Solution to the Concentrator ...   \n",
       "6         33  1987             LEARNING BY STATE RECURRENCE DETECTION   \n",
       "7         36  1987              Stability Results for Neural Networks   \n",
       "8         35  1987  Introduction to a System for Implementing Neur...   \n",
       "9         19  1987  Optimization with Artificial Neural Network Sy...   \n",
       "\n",
       "                                            abstract  \\\n",
       "0                         Bit-Serial Neural Networks   \n",
       "1                        Connectivity Versus Entropy   \n",
       "2        The Hopfield Model with Multi-Level Neurons   \n",
       "3                               How Neural Nets Work   \n",
       "4  Spatial Organization of Neural Networks: A Pro...   \n",
       "5  A Neural-Network Solution to the Concentrator ...   \n",
       "6             LEARNING BY STATE RECURRENCE DETECTION   \n",
       "7              Stability Results for Neural Networks   \n",
       "8  Introduction to a System for Implementing Neur...   \n",
       "9  Optimization with Artificial Neural Network Sy...   \n",
       "\n",
       "                                           full_text  Topic  \n",
       "0  573 \\n\\nBIT - SERIAL NEURAL  NETWORKS \\n\\nAlan...      4  \n",
       "1  1 \\n\\nCONNECTIVITY VERSUS ENTROPY \\n\\nYaser  S...      1  \n",
       "2  278 \\n\\nTHE HOPFIELD MODEL WITH MUL TI-LEVEL N...      6  \n",
       "3  442 \\n\\nAlan  Lapedes \\nRobert  Farber \\n\\nThe...      3  \n",
       "4  740 \\n\\nSPATIAL  ORGANIZATION  OF  NEURAL  NEn...      4  \n",
       "5  775 \\n\\nA  NEURAL-NETWORK  SOLUTION TO  THE  C...      0  \n",
       "6  642 \\n\\nLEARNING BY ST ATE RECURRENCE DETECfIO...      1  \n",
       "7  554 \\n\\nSTABILITY RESULTS  FOR NEURAL  NETWORK...      4  \n",
       "8  804 \\n\\nINTRODUCTION TO A  SYSTEM FOR IMPLEMEN...      4  \n",
       "9  474 \\n\\nOPTIMIZA nON WITH ARTIFICIAL NEURAL NE...      4  "
      ]
     },
     "execution_count": 16,
     "metadata": {},
     "output_type": "execute_result"
    }
   ],
   "source": [
    "# Associating topic to each of the documents\n",
    "\n",
    "papers['Topic'] = topic_results.argmax(axis=1)\n",
    "\n",
    "papers.head(10)"
   ]
  },
  {
   "cell_type": "code",
   "execution_count": 17,
   "id": "perfect-prospect",
   "metadata": {},
   "outputs": [
    {
     "data": {
      "text/plain": [
       "2    1665\n",
       "0    1511\n",
       "5    1419\n",
       "4    1397\n",
       "1    1277\n",
       "6    1220\n",
       "3    1191\n",
       "Name: Topic, dtype: int64"
      ]
     },
     "execution_count": 17,
     "metadata": {},
     "output_type": "execute_result"
    },
    {
     "data": {
      "image/png": "[encoded data removed]",
      "text/plain": [
       "<Figure size 432x288 with 1 Axes>"
      ]
     },
     "metadata": {
      "needs_background": "light"
     },
     "output_type": "display_data"
    }
   ],
   "source": [
    "import seaborn as sns\n",
    "\n",
    "sns.countplot(x = 'Topic',\n",
    "              data = papers,\n",
    "              order = papers['Topic'].value_counts().index)\n",
    "\n",
    "papers['Topic'].value_counts().sort_values(ascending=False)"
   ]
  },
  {
   "cell_type": "code",
   "execution_count": null,
   "id": "iraqi-season",
   "metadata": {},
   "outputs": [],
   "source": []
  }
 ],
 "metadata": {
  "kernelspec": {
   "display_name": "Python 3",
   "language": "python",
   "name": "python3"
  },
  "language_info": {
   "codemirror_mode": {
    "name": "ipython",
    "version": 3
   },
   "file_extension": ".py",
   "mimetype": "text/x-python",
   "name": "python",
   "nbconvert_exporter": "python",
   "pygments_lexer": "ipython3",
   "version": "3.8.5"
  }
 },
 "nbformat": 4,
 "nbformat_minor": 5
}
