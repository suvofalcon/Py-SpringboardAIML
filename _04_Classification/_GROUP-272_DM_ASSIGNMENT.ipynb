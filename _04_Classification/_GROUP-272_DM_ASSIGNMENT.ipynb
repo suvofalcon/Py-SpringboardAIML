{
 "cells": [
  {
   "cell_type": "markdown",
   "metadata": {},
   "source": [
    "# Group 272 - DM Assignment\n",
    "## Assignment - 2\n",
    "\n",
    "### Classification techniques to predict whether a gene is from a plant or an animal from the relevant genomic data extracted from \n",
    "**http://www.global-engage.com/agricultural-biotechnology/best-plant-genome-database/’<br>\n",
    "http://www.plantgdb.org/**\n",
    "\n",
    "Depending upon various genetic characterists, classification of a gene belonging to Plant or Animal to be predicted"
   ]
  },
  {
   "cell_type": "markdown",
   "metadata": {},
   "source": [
    "## Load Dataset and Check the data load"
   ]
  },
  {
   "cell_type": "markdown",
   "metadata": {},
   "source": [
    "Library imports"
   ]
  },
  {
   "cell_type": "code",
   "execution_count": 1,
   "metadata": {},
   "outputs": [],
   "source": [
    "import numpy as np\n",
    "import pandas as pd\n",
    "import matplotlib.pyplot as plt\n",
    "%matplotlib inline\n",
    "import seaborn as sns\n",
    "\n",
    "# Adding a global style to seaborn plots\n",
    "sns.set(style=\"darkgrid\")"
   ]
  },
  {
   "cell_type": "markdown",
   "metadata": {},
   "source": [
    "Load the gene dataset"
   ]
  },
  {
   "cell_type": "code",
   "execution_count": 2,
   "metadata": {},
   "outputs": [
    {
     "data": {
      "text/html": [
       "<div>\n",
       "<style scoped>\n",
       "    .dataframe tbody tr th:only-of-type {\n",
       "        vertical-align: middle;\n",
       "    }\n",
       "\n",
       "    .dataframe tbody tr th {\n",
       "        vertical-align: top;\n",
       "    }\n",
       "\n",
       "    .dataframe thead th {\n",
       "        text-align: right;\n",
       "    }\n",
       "</style>\n",
       "<table border=\"1\" class=\"dataframe\">\n",
       "  <thead>\n",
       "    <tr style=\"text-align: right;\">\n",
       "      <th></th>\n",
       "      <th>Colour</th>\n",
       "      <th>Cell_Cycle_Cat</th>\n",
       "      <th>Cell_Cycle_Number</th>\n",
       "      <th>Gene_Induction</th>\n",
       "      <th>chromosome</th>\n",
       "      <th>description</th>\n",
       "      <th>type_of_gene</th>\n",
       "      <th>Class</th>\n",
       "    </tr>\n",
       "  </thead>\n",
       "  <tbody>\n",
       "    <tr>\n",
       "      <th>0</th>\n",
       "      <td>Yellow</td>\n",
       "      <td>21-28</td>\n",
       "      <td>21</td>\n",
       "      <td>1</td>\n",
       "      <td>2</td>\n",
       "      <td>insulin like growth factor 2 receptor</td>\n",
       "      <td>protein-coding</td>\n",
       "      <td>Animal</td>\n",
       "    </tr>\n",
       "    <tr>\n",
       "      <th>1</th>\n",
       "      <td>Yellow</td>\n",
       "      <td>13-20</td>\n",
       "      <td>17</td>\n",
       "      <td>1</td>\n",
       "      <td>20</td>\n",
       "      <td>coagulation factor X</td>\n",
       "      <td>protein-coding</td>\n",
       "      <td>Animal</td>\n",
       "    </tr>\n",
       "    <tr>\n",
       "      <th>2</th>\n",
       "      <td>Yellow</td>\n",
       "      <td>13-20</td>\n",
       "      <td>19</td>\n",
       "      <td>1</td>\n",
       "      <td>X1</td>\n",
       "      <td>complement factor D</td>\n",
       "      <td>protein-coding</td>\n",
       "      <td>Animal</td>\n",
       "    </tr>\n",
       "    <tr>\n",
       "      <th>3</th>\n",
       "      <td>Green</td>\n",
       "      <td>21-28</td>\n",
       "      <td>28</td>\n",
       "      <td>0</td>\n",
       "      <td>11</td>\n",
       "      <td>sperm autoantigenic protein 17</td>\n",
       "      <td>protein-coding</td>\n",
       "      <td>Animal</td>\n",
       "    </tr>\n",
       "    <tr>\n",
       "      <th>4</th>\n",
       "      <td>Red</td>\n",
       "      <td>13-20</td>\n",
       "      <td>16</td>\n",
       "      <td>1</td>\n",
       "      <td>3</td>\n",
       "      <td>insulin like growth factor 2</td>\n",
       "      <td>protein-coding</td>\n",
       "      <td>Animal</td>\n",
       "    </tr>\n",
       "  </tbody>\n",
       "</table>\n",
       "</div>"
      ],
      "text/plain": [
       "   Colour Cell_Cycle_Cat  Cell_Cycle_Number  Gene_Induction chromosome  \\\n",
       "0  Yellow          21-28                 21               1          2   \n",
       "1  Yellow          13-20                 17               1         20   \n",
       "2  Yellow          13-20                 19               1         X1   \n",
       "3   Green          21-28                 28               0         11   \n",
       "4     Red          13-20                 16               1          3   \n",
       "\n",
       "                             description    type_of_gene   Class  \n",
       "0  insulin like growth factor 2 receptor  protein-coding  Animal  \n",
       "1                   coagulation factor X  protein-coding  Animal  \n",
       "2                    complement factor D  protein-coding  Animal  \n",
       "3         sperm autoantigenic protein 17  protein-coding  Animal  \n",
       "4           insulin like growth factor 2  protein-coding  Animal  "
      ]
     },
     "execution_count": 2,
     "metadata": {},
     "output_type": "execute_result"
    }
   ],
   "source": [
    "# Load the data\n",
    "\n",
    "gene_data = pd.read_csv(\"SampleGeneticData.csv\")\n",
    "\n",
    "# Check the initial rows of the data and verify the data load\n",
    "gene_data.head()"
   ]
  },
  {
   "cell_type": "markdown",
   "metadata": {},
   "source": [
    "We will take a quick look at the data set structure"
   ]
  },
  {
   "cell_type": "code",
   "execution_count": 3,
   "metadata": {},
   "outputs": [
    {
     "name": "stdout",
     "output_type": "stream",
     "text": [
      "<class 'pandas.core.frame.DataFrame'>\n",
      "RangeIndex: 4000 entries, 0 to 3999\n",
      "Data columns (total 8 columns):\n",
      " #   Column             Non-Null Count  Dtype \n",
      "---  ------             --------------  ----- \n",
      " 0   Colour             4000 non-null   object\n",
      " 1   Cell_Cycle_Cat     4000 non-null   object\n",
      " 2   Cell_Cycle_Number  4000 non-null   int64 \n",
      " 3   Gene_Induction     4000 non-null   int64 \n",
      " 4   chromosome         4000 non-null   object\n",
      " 5   description        4000 non-null   object\n",
      " 6   type_of_gene       4000 non-null   object\n",
      " 7   Class              4000 non-null   object\n",
      "dtypes: int64(2), object(6)\n",
      "memory usage: 250.1+ KB\n"
     ]
    }
   ],
   "source": [
    "gene_data.info()"
   ]
  },
  {
   "cell_type": "markdown",
   "metadata": {},
   "source": [
    "We would check for missing values by columns in case there are any"
   ]
  },
  {
   "cell_type": "code",
   "execution_count": 4,
   "metadata": {},
   "outputs": [
    {
     "data": {
      "text/plain": [
       "Colour               0\n",
       "Cell_Cycle_Cat       0\n",
       "Cell_Cycle_Number    0\n",
       "Gene_Induction       0\n",
       "chromosome           0\n",
       "description          0\n",
       "type_of_gene         0\n",
       "Class                0\n",
       "dtype: int64"
      ]
     },
     "execution_count": 4,
     "metadata": {},
     "output_type": "execute_result"
    }
   ],
   "source": [
    "gene_data.isna().sum()"
   ]
  },
  {
   "cell_type": "markdown",
   "metadata": {},
   "source": [
    "we do not see any missing values, however individual columns need to be explored for any inconsistencies"
   ]
  },
  {
   "cell_type": "markdown",
   "metadata": {},
   "source": [
    "## Data Preprocessing and Data Exploration"
   ]
  },
  {
   "cell_type": "markdown",
   "metadata": {},
   "source": [
    "We will perform some column coversions before we begin our exploration"
   ]
  },
  {
   "cell_type": "markdown",
   "metadata": {},
   "source": [
    "### Exploration of the target variable - 'Class'"
   ]
  },
  {
   "cell_type": "code",
   "execution_count": 5,
   "metadata": {},
   "outputs": [
    {
     "name": "stdout",
     "output_type": "stream",
     "text": [
      "Animal    2000\n",
      "Plant     2000\n",
      "Name: Class, dtype: int64\n"
     ]
    },
    {
     "data": {
      "text/plain": [
       "<AxesSubplot:xlabel='Class', ylabel='count'>"
      ]
     },
     "execution_count": 5,
     "metadata": {},
     "output_type": "execute_result"
    },
    {
     "data": {
      "image/png": "[encoded data removed]",
      "text/plain": [
       "<Figure size 648x360 with 1 Axes>"
      ]
     },
     "metadata": {},
     "output_type": "display_data"
    }
   ],
   "source": [
    "print(gene_data['Class'].value_counts())\n",
    "plt.figure(figsize=(9, 5))\n",
    "sns.countplot(gene_data['Class'])"
   ]
  },
  {
   "cell_type": "markdown",
   "metadata": {},
   "source": [
    "The target class distibution in the dataset is very balanced, which is a good scenario for classification as the algorithm(s) getting used will have equal data points to be trained in both the class variables"
   ]
  },
  {
   "cell_type": "markdown",
   "metadata": {},
   "source": [
    "### Exploration of the Colour Attribute"
   ]
  },
  {
   "cell_type": "markdown",
   "metadata": {},
   "source": [
    "We will explore this variable distribution by the target class variable"
   ]
  },
  {
   "cell_type": "code",
   "execution_count": 6,
   "metadata": {},
   "outputs": [
    {
     "data": {
      "text/plain": [
       "Class   Colour\n",
       "Animal  Yellow    1063\n",
       "        Red        676\n",
       "        Green      261\n",
       "Plant   Green     1461\n",
       "        Yellow     438\n",
       "        Red        101\n",
       "Name: Colour, dtype: int64"
      ]
     },
     "execution_count": 6,
     "metadata": {},
     "output_type": "execute_result"
    }
   ],
   "source": [
    "gene_data.groupby('Class')['Colour'].value_counts()"
   ]
  },
  {
   "cell_type": "code",
   "execution_count": 7,
   "metadata": {},
   "outputs": [
    {
     "data": {
      "image/png": "[encoded data removed]",
      "text/plain": [
       "<Figure size 648x360 with 1 Axes>"
      ]
     },
     "metadata": {},
     "output_type": "display_data"
    }
   ],
   "source": [
    "# A quick visualization of the same\n",
    "plt.figure(figsize=(9, 5))\n",
    "sns.countplot(x='Colour', hue='Class', data=gene_data);"
   ]
  },
  {
   "cell_type": "markdown",
   "metadata": {},
   "source": [
    "Observations which can be made from the above visualization\n",
    "- Amongst all Green colouration in gene , majority belongs to Plant category (which is valid - because of the presence of chlorophyll)\n",
    "\n",
    "- In Red and Yellow coloration in genes, Animal proportions is more"
   ]
  },
  {
   "cell_type": "markdown",
   "metadata": {},
   "source": [
    "### Exploration of the Cell_Cycle_Cat Attribute"
   ]
  },
  {
   "cell_type": "code",
   "execution_count": 8,
   "metadata": {},
   "outputs": [
    {
     "data": {
      "text/plain": [
       "13-20     1946\n",
       "21-28     1269\n",
       "05-Dec     785\n",
       "Name: Cell_Cycle_Cat, dtype: int64"
      ]
     },
     "execution_count": 8,
     "metadata": {},
     "output_type": "execute_result"
    }
   ],
   "source": [
    "# We will see the frequency table of this attribute\n",
    "gene_data['Cell_Cycle_Cat'].value_counts()"
   ]
  },
  {
   "cell_type": "markdown",
   "metadata": {},
   "source": [
    "*The data **05-Dec** seems to be an erroneous data on the **Cell_Cycle_Cat column**, which needs to be corrected*\n",
    "\n",
    "One of the approach to correct the data <br>\n",
    "- This column is related to the immediate adjacent column \"Cell_Cycle_Number\"\n",
    "- We will check the minimum and max value for this column when \"Cell_Cyle_Cat\" is \"05-Dec\"\n",
    "- Depending on the values we may reuse the existing categories or assign a new category"
   ]
  },
  {
   "cell_type": "code",
   "execution_count": 9,
   "metadata": {},
   "outputs": [
    {
     "name": "stdout",
     "output_type": "stream",
     "text": [
      "Miniumum Value - 5\n",
      "Maximum Value - 12\n"
     ]
    }
   ],
   "source": [
    "# Minimum and maximum value of Cell_Cylcle_Number where Cell_Cycle_Cat is '05-Nov'\n",
    "min_value = min(gene_data[gene_data['Cell_Cycle_Cat'] == '05-Dec']['Cell_Cycle_Number'])\n",
    "max_value = max(gene_data[gene_data['Cell_Cycle_Cat'] == '05-Dec']['Cell_Cycle_Number'])\n",
    "print(f\"Miniumum Value - {min_value}\")\n",
    "print(f\"Maximum Value - {max_value}\")"
   ]
  },
  {
   "cell_type": "markdown",
   "metadata": {},
   "source": [
    "We will create a new category as \"5-12\" and replace this value to maintain the consistent correlation between Cell_Cycle_Cat and Cell_Cycle_Number"
   ]
  },
  {
   "cell_type": "code",
   "execution_count": 10,
   "metadata": {},
   "outputs": [],
   "source": [
    "replace_value = str(min_value)+'-'+str(max_value)\n",
    "gene_data.loc[:, 'Cell_Cycle_Cat'].replace('05-Dec', replace_value, inplace=True)"
   ]
  },
  {
   "cell_type": "code",
   "execution_count": 11,
   "metadata": {},
   "outputs": [
    {
     "data": {
      "text/plain": [
       "Class   Cell_Cycle_Cat\n",
       "Animal  21-28              986\n",
       "        13-20              817\n",
       "        5-12               197\n",
       "Plant   13-20             1129\n",
       "        5-12               588\n",
       "        21-28              283\n",
       "Name: Cell_Cycle_Cat, dtype: int64"
      ]
     },
     "execution_count": 11,
     "metadata": {},
     "output_type": "execute_result"
    }
   ],
   "source": [
    "# Now we will visualize the frequency distribution by the target variable\n",
    "gene_data.groupby('Class')['Cell_Cycle_Cat'].value_counts()"
   ]
  },
  {
   "cell_type": "code",
   "execution_count": 12,
   "metadata": {},
   "outputs": [
    {
     "data": {
      "image/png": "[encoded data removed]",
      "text/plain": [
       "<Figure size 648x360 with 1 Axes>"
      ]
     },
     "metadata": {},
     "output_type": "display_data"
    }
   ],
   "source": [
    "# A quick visualization of the same\n",
    "plt.figure(figsize=(9, 5))\n",
    "sns.countplot(x='Cell_Cycle_Cat', hue='Class', data=gene_data);"
   ]
  },
  {
   "cell_type": "markdown",
   "metadata": {},
   "source": [
    "### Exploration of Cell_Cycle_Number"
   ]
  },
  {
   "cell_type": "code",
   "execution_count": 13,
   "metadata": {},
   "outputs": [
    {
     "data": {
      "image/png": "[encoded data removed]",
      "text/plain": [
       "<Figure size 720x360 with 2 Axes>"
      ]
     },
     "metadata": {},
     "output_type": "display_data"
    }
   ],
   "source": [
    "# A quick visualization of the same\n",
    "g = sns.FacetGrid(data=gene_data, col='Class', height=5)\n",
    "g.map(sns.distplot, 'Cell_Cycle_Number')\n",
    "plt.show()\n",
    "\n",
    "#sns.distplot(gene_data['Cell_Cycle_Number'])"
   ]
  },
  {
   "cell_type": "markdown",
   "metadata": {},
   "source": [
    "From both the distributions, we conclude there there are marginally skewed distributions amongst plant genes in our dataset"
   ]
  },
  {
   "cell_type": "code",
   "execution_count": 14,
   "metadata": {},
   "outputs": [
    {
     "name": "stdout",
     "output_type": "stream",
     "text": [
      "<class 'pandas.core.frame.DataFrame'>\n",
      "RangeIndex: 4000 entries, 0 to 3999\n",
      "Data columns (total 8 columns):\n",
      " #   Column             Non-Null Count  Dtype \n",
      "---  ------             --------------  ----- \n",
      " 0   Colour             4000 non-null   object\n",
      " 1   Cell_Cycle_Cat     4000 non-null   object\n",
      " 2   Cell_Cycle_Number  4000 non-null   int64 \n",
      " 3   Gene_Induction     4000 non-null   int64 \n",
      " 4   chromosome         4000 non-null   object\n",
      " 5   description        4000 non-null   object\n",
      " 6   type_of_gene       4000 non-null   object\n",
      " 7   Class              4000 non-null   object\n",
      "dtypes: int64(2), object(6)\n",
      "memory usage: 250.1+ KB\n"
     ]
    }
   ],
   "source": [
    "gene_data.info()"
   ]
  },
  {
   "cell_type": "markdown",
   "metadata": {},
   "source": [
    "### Exploration of Gene_Induction"
   ]
  },
  {
   "cell_type": "code",
   "execution_count": 15,
   "metadata": {},
   "outputs": [
    {
     "data": {
      "text/plain": [
       "Class   Gene_Induction\n",
       "Animal  1                 1622\n",
       "        0                  378\n",
       "Plant   1                 1040\n",
       "        0                  960\n",
       "Name: Gene_Induction, dtype: int64"
      ]
     },
     "execution_count": 15,
     "metadata": {},
     "output_type": "execute_result"
    }
   ],
   "source": [
    "gene_data.groupby('Class')['Gene_Induction'].value_counts()"
   ]
  },
  {
   "cell_type": "code",
   "execution_count": 16,
   "metadata": {},
   "outputs": [
    {
     "data": {
      "image/png": "[encoded data removed]",
      "text/plain": [
       "<Figure size 648x360 with 1 Axes>"
      ]
     },
     "metadata": {},
     "output_type": "display_data"
    }
   ],
   "source": [
    "# A quick visualization of the same\n",
    "plt.figure(figsize=(9, 5))\n",
    "sns.countplot(x='Gene_Induction', hue='Class', data=gene_data);"
   ]
  },
  {
   "cell_type": "markdown",
   "metadata": {},
   "source": [
    "It is getting observed that gene induction on Animal genes are much more than that of Plant genes"
   ]
  },
  {
   "cell_type": "markdown",
   "metadata": {},
   "source": [
    "### Exploration of Chromosome"
   ]
  },
  {
   "cell_type": "code",
   "execution_count": 17,
   "metadata": {},
   "outputs": [
    {
     "data": {
      "text/plain": [
       "array(['2', '20', 'X1', '11', '3', '13', '8', '6', '18', 'MT', '-', '1',\n",
       "       '10', '12', 'X2', '4', '5', '7', '19', '21', '14', 'X5', '17',\n",
       "       '15', 'Un', '9', 'X3', 'X4', '16'], dtype=object)"
      ]
     },
     "execution_count": 17,
     "metadata": {},
     "output_type": "execute_result"
    }
   ],
   "source": [
    "gene_data['chromosome'].unique()"
   ]
  },
  {
   "cell_type": "markdown",
   "metadata": {},
   "source": [
    "It is observed that *some of the Chromosome has data as \"-\"....We will replace the data as \"NA\" (Not available)* ... Decision trees and Random Forests and Naive Bayes would simply treat it as a different category and would categorise "
   ]
  },
  {
   "cell_type": "code",
   "execution_count": 18,
   "metadata": {},
   "outputs": [
    {
     "data": {
      "text/plain": [
       "Class   chromosome\n",
       "Animal  2             208\n",
       "        X1            195\n",
       "        4             192\n",
       "        1             173\n",
       "        3             172\n",
       "        5             111\n",
       "        8              99\n",
       "        X5             92\n",
       "        13             73\n",
       "        11             72\n",
       "        14             70\n",
       "        7              58\n",
       "        X2             55\n",
       "        10             46\n",
       "        19             46\n",
       "        12             40\n",
       "        6              39\n",
       "        15             38\n",
       "        17             37\n",
       "        X3             29\n",
       "        NA             27\n",
       "        Un             27\n",
       "        21             25\n",
       "        16             20\n",
       "        18             16\n",
       "        20             13\n",
       "        MT             13\n",
       "        9               7\n",
       "        X4              7\n",
       "Plant   NA            284\n",
       "        Un            255\n",
       "        5             218\n",
       "        2             188\n",
       "        7             176\n",
       "        1             164\n",
       "        3             163\n",
       "        4             127\n",
       "        8             124\n",
       "        6             120\n",
       "        9             110\n",
       "        MT             71\n",
       "Name: chromosome, dtype: int64"
      ]
     },
     "execution_count": 18,
     "metadata": {},
     "output_type": "execute_result"
    }
   ],
   "source": [
    "gene_data.loc[:, 'chromosome'].replace('-', 'NA', inplace=True)\n",
    "\n",
    "# We will re-execute the frequency \n",
    "gene_data.groupby('Class')['chromosome'].value_counts()"
   ]
  },
  {
   "cell_type": "code",
   "execution_count": 19,
   "metadata": {},
   "outputs": [
    {
     "data": {
      "text/plain": [
       "<Figure size 648x360 with 0 Axes>"
      ]
     },
     "metadata": {},
     "output_type": "display_data"
    },
    {
     "data": {
      "image/png": "[encoded data removed]",
      "text/plain": [
       "<Figure size 721.475x648 with 1 Axes>"
      ]
     },
     "metadata": {},
     "output_type": "display_data"
    }
   ],
   "source": [
    "# We will attempt to visualize this distribution\n",
    "plt.figure(figsize=(9,5))\n",
    "sns.catplot(y='chromosome', hue='Class', kind='count', palette=\"dark\", edgecolor=\".6\", height = 9, data=gene_data);"
   ]
  },
  {
   "cell_type": "markdown",
   "metadata": {},
   "source": [
    "*A very interesting observation is emerging out* - **X chromosomes are available for only Animal Species**"
   ]
  },
  {
   "cell_type": "markdown",
   "metadata": {},
   "source": [
    "### Exploration of type_of_gene Column"
   ]
  },
  {
   "cell_type": "code",
   "execution_count": 20,
   "metadata": {},
   "outputs": [
    {
     "data": {
      "text/plain": [
       "Class   type_of_gene  \n",
       "Animal  protein-coding    1943\n",
       "        pseudo              54\n",
       "        ncRNA                2\n",
       "        other                1\n",
       "Plant   protein-coding    1714\n",
       "        tRNA               117\n",
       "        ncRNA               85\n",
       "        pseudo              64\n",
       "        rRNA                19\n",
       "        other                1\n",
       "Name: type_of_gene, dtype: int64"
      ]
     },
     "execution_count": 20,
     "metadata": {},
     "output_type": "execute_result"
    }
   ],
   "source": [
    "gene_data.groupby('Class')['type_of_gene'].value_counts()"
   ]
  },
  {
   "cell_type": "code",
   "execution_count": 21,
   "metadata": {},
   "outputs": [
    {
     "data": {
      "image/png": "[encoded data removed]",
      "text/plain": [
       "<Figure size 648x360 with 1 Axes>"
      ]
     },
     "metadata": {},
     "output_type": "display_data"
    }
   ],
   "source": [
    "# A quick visualization of the same\n",
    "plt.figure(figsize=(9, 5))\n",
    "sns.countplot(x='type_of_gene', hue='Class', data=gene_data);"
   ]
  },
  {
   "cell_type": "markdown",
   "metadata": {},
   "source": [
    "*protein-coding* type of gene dominates the distribution"
   ]
  },
  {
   "cell_type": "markdown",
   "metadata": {},
   "source": [
    "### Exploration of the Text Column - \"Descripion\"\n",
    "\n",
    "One of the approach to explore this column is to apply NLP based text modelling approach - Latent Drichilet Allocation to divide each of the descriptions into a distinct \"n\" number of topics and then apply that distinct topic column for further classification"
   ]
  },
  {
   "cell_type": "code",
   "execution_count": 22,
   "metadata": {},
   "outputs": [],
   "source": [
    "from sklearn.feature_extraction.text import CountVectorizer"
   ]
  },
  {
   "cell_type": "markdown",
   "metadata": {},
   "source": [
    "We would want to ignore certain words which are common across almost all of the documents, this is in order to have the \n",
    "**LDA identify the topics correctly**\n",
    "\n",
    "This says we ignore words which are present across 95% of the documents and ignore words which are present in less than 2 documents, which means for a word to be considered, it has to be present in atleast 2 documents"
   ]
  },
  {
   "cell_type": "code",
   "execution_count": 23,
   "metadata": {},
   "outputs": [
    {
     "data": {
      "text/plain": [
       "<4000x1161 sparse matrix of type '<class 'numpy.int64'>'\n",
       "\twith 13005 stored elements in Compressed Sparse Row format>"
      ]
     },
     "execution_count": 23,
     "metadata": {},
     "output_type": "execute_result"
    }
   ],
   "source": [
    "cv = CountVectorizer(max_df=0.95, min_df=2, stop_words='english')\n",
    "# Now we will apply the count vectorizer and generate a document term matrix\n",
    "dtm = cv.fit_transform(gene_data['description'])\n",
    "\n",
    "# Check the dtm\n",
    "dtm"
   ]
  },
  {
   "cell_type": "markdown",
   "metadata": {},
   "source": [
    "**Now we will run the LDA**"
   ]
  },
  {
   "cell_type": "code",
   "execution_count": 24,
   "metadata": {},
   "outputs": [],
   "source": [
    "from sklearn.decomposition import LatentDirichletAllocation\n",
    "\n",
    "# We will select 5 distinct topics\n",
    "LDA = LatentDirichletAllocation(n_components=7, random_state=101)"
   ]
  },
  {
   "cell_type": "code",
   "execution_count": 25,
   "metadata": {},
   "outputs": [
    {
     "data": {
      "text/plain": [
       "LatentDirichletAllocation(n_components=7, random_state=101)"
      ]
     },
     "execution_count": 25,
     "metadata": {},
     "output_type": "execute_result"
    }
   ],
   "source": [
    "# This can take a while, we are dealing with large number of documents here\n",
    "LDA.fit(dtm)"
   ]
  },
  {
   "cell_type": "markdown",
   "metadata": {},
   "source": [
    "**We will interpret the LDA Results**"
   ]
  },
  {
   "cell_type": "code",
   "execution_count": 26,
   "metadata": {},
   "outputs": [
    {
     "data": {
      "text/plain": [
       "1161"
      ]
     },
     "execution_count": 26,
     "metadata": {},
     "output_type": "execute_result"
    }
   ],
   "source": [
    "# Get the vocabulary of words\n",
    "\n",
    "len(cv.get_feature_names()) # This also matches with the number of columns in our sparse matrix"
   ]
  },
  {
   "cell_type": "code",
   "execution_count": 27,
   "metadata": {},
   "outputs": [
    {
     "data": {
      "text/plain": [
       "'biosynthesis'"
      ]
     },
     "execution_count": 27,
     "metadata": {},
     "output_type": "execute_result"
    }
   ],
   "source": [
    "# get a random feature name\n",
    "cv.get_feature_names()[220]"
   ]
  },
  {
   "cell_type": "code",
   "execution_count": 28,
   "metadata": {},
   "outputs": [
    {
     "data": {
      "text/plain": [
       "(4000, 7)"
      ]
     },
     "execution_count": 28,
     "metadata": {},
     "output_type": "execute_result"
    }
   ],
   "source": [
    "# Now we will attach the topic numbers to the original articles\n",
    "\n",
    "# In order to do this, we would need to apply the transform method on our LDA model and DTM to associate the topic to each\n",
    "# article\n",
    "topic_results = LDA.transform(dtm)\n",
    "\n",
    "# Now we will check the shape\n",
    "topic_results.shape"
   ]
  },
  {
   "cell_type": "markdown",
   "metadata": {},
   "source": [
    "If we check the first element, we will get the probabilities of each of the 11992 articles belonging to one of the 5 topics"
   ]
  },
  {
   "cell_type": "code",
   "execution_count": 29,
   "metadata": {},
   "outputs": [
    {
     "data": {
      "text/plain": [
       "array([0.02, 0.02, 0.02, 0.02, 0.02, 0.02, 0.86])"
      ]
     },
     "execution_count": 29,
     "metadata": {},
     "output_type": "execute_result"
    }
   ],
   "source": [
    "# to see this better\n",
    "topic_results[0].round(2)"
   ]
  },
  {
   "cell_type": "markdown",
   "metadata": {},
   "source": [
    "It has 87% probability of belonging to topic 5"
   ]
  },
  {
   "cell_type": "code",
   "execution_count": 30,
   "metadata": {},
   "outputs": [
    {
     "data": {
      "text/plain": [
       "6"
      ]
     },
     "execution_count": 30,
     "metadata": {},
     "output_type": "execute_result"
    }
   ],
   "source": [
    "# We will grab the index position of the highest probability\n",
    "topic_results[0].argmax()"
   ]
  },
  {
   "cell_type": "markdown",
   "metadata": {},
   "source": [
    "Now we will setup a loop which will print out the top 10 words with highest probabilities for each of the decided topics"
   ]
  },
  {
   "cell_type": "code",
   "execution_count": 31,
   "metadata": {},
   "outputs": [
    {
     "name": "stdout",
     "output_type": "stream",
     "text": [
      "THE TOP 10 WORDS FOR TOPIC #0\n",
      "['atpase', 'serine', 'probable', 'beta', 'mitochondrial', 'trna', 'kinase', 'protein', 'complex', 'subunit']\n",
      "\n",
      "\n",
      "THE TOP 10 WORDS FOR TOPIC #1\n",
      "['ankyrin', 'coiled', 'coil', 'type', 'repeat', 'zinc', 'finger', 'protein', 'domain', 'containing']\n",
      "\n",
      "\n",
      "THE TOP 10 WORDS FOR TOPIC #2\n",
      "['chloroplastic', 'probable', 'rna', 'ii', 'synthase', 'photosystem', 'hypothetical', 'binding', 'ribosomal', 'protein']\n",
      "\n",
      "\n",
      "THE TOP 10 WORDS FOR TOPIC #3\n",
      "['e3', 'oxidase', 'repeat', 'pentatricopeptide', 'alpha', 'subunit', 'ligase', 'protein', 'ubiquitin', 'uncharacterized']\n",
      "\n",
      "\n",
      "THE TOP 10 WORDS FOR TOPIC #4\n",
      "['factor', 'homolog', 'box', 'interacting', 'binding', 'chloroplastic', 'associated', 'kinase', 'like', 'protein']\n",
      "\n",
      "\n",
      "THE TOP 10 WORDS FOR TOPIC #5\n",
      "['ornanav1r', 'pseudogene', 'like', 'solute', 'carrier', 'vomeronasal', 'dehydrogenase', 'family', 'receptor', 'member']\n",
      "\n",
      "\n",
      "THE TOP 10 WORDS FOR TOPIC #6\n",
      "['type', 'leucine', 'kinase', 'rich', 'serine', 'subunit', 'receptor', 'transcription', 'like', 'factor']\n",
      "\n",
      "\n"
     ]
    }
   ],
   "source": [
    "for index, topic in enumerate(LDA.components_):\n",
    "    print(f\"THE TOP 10 WORDS FOR TOPIC #{index}\")\n",
    "    print([cv.get_feature_names()[index] for index in topic.argsort()[-10:]])\n",
    "    print(\"\\n\")"
   ]
  },
  {
   "cell_type": "code",
   "execution_count": 32,
   "metadata": {},
   "outputs": [
    {
     "data": {
      "text/html": [
       "<div>\n",
       "<style scoped>\n",
       "    .dataframe tbody tr th:only-of-type {\n",
       "        vertical-align: middle;\n",
       "    }\n",
       "\n",
       "    .dataframe tbody tr th {\n",
       "        vertical-align: top;\n",
       "    }\n",
       "\n",
       "    .dataframe thead th {\n",
       "        text-align: right;\n",
       "    }\n",
       "</style>\n",
       "<table border=\"1\" class=\"dataframe\">\n",
       "  <thead>\n",
       "    <tr style=\"text-align: right;\">\n",
       "      <th></th>\n",
       "      <th>Colour</th>\n",
       "      <th>Cell_Cycle_Cat</th>\n",
       "      <th>Cell_Cycle_Number</th>\n",
       "      <th>Gene_Induction</th>\n",
       "      <th>chromosome</th>\n",
       "      <th>description</th>\n",
       "      <th>type_of_gene</th>\n",
       "      <th>Class</th>\n",
       "      <th>Description_Topic</th>\n",
       "    </tr>\n",
       "  </thead>\n",
       "  <tbody>\n",
       "    <tr>\n",
       "      <th>0</th>\n",
       "      <td>Yellow</td>\n",
       "      <td>21-28</td>\n",
       "      <td>21</td>\n",
       "      <td>1</td>\n",
       "      <td>2</td>\n",
       "      <td>insulin like growth factor 2 receptor</td>\n",
       "      <td>protein-coding</td>\n",
       "      <td>Animal</td>\n",
       "      <td>6</td>\n",
       "    </tr>\n",
       "    <tr>\n",
       "      <th>1</th>\n",
       "      <td>Yellow</td>\n",
       "      <td>13-20</td>\n",
       "      <td>17</td>\n",
       "      <td>1</td>\n",
       "      <td>20</td>\n",
       "      <td>coagulation factor X</td>\n",
       "      <td>protein-coding</td>\n",
       "      <td>Animal</td>\n",
       "      <td>6</td>\n",
       "    </tr>\n",
       "    <tr>\n",
       "      <th>2</th>\n",
       "      <td>Yellow</td>\n",
       "      <td>13-20</td>\n",
       "      <td>19</td>\n",
       "      <td>1</td>\n",
       "      <td>X1</td>\n",
       "      <td>complement factor D</td>\n",
       "      <td>protein-coding</td>\n",
       "      <td>Animal</td>\n",
       "      <td>6</td>\n",
       "    </tr>\n",
       "    <tr>\n",
       "      <th>3</th>\n",
       "      <td>Green</td>\n",
       "      <td>21-28</td>\n",
       "      <td>28</td>\n",
       "      <td>0</td>\n",
       "      <td>11</td>\n",
       "      <td>sperm autoantigenic protein 17</td>\n",
       "      <td>protein-coding</td>\n",
       "      <td>Animal</td>\n",
       "      <td>2</td>\n",
       "    </tr>\n",
       "    <tr>\n",
       "      <th>4</th>\n",
       "      <td>Red</td>\n",
       "      <td>13-20</td>\n",
       "      <td>16</td>\n",
       "      <td>1</td>\n",
       "      <td>3</td>\n",
       "      <td>insulin like growth factor 2</td>\n",
       "      <td>protein-coding</td>\n",
       "      <td>Animal</td>\n",
       "      <td>6</td>\n",
       "    </tr>\n",
       "  </tbody>\n",
       "</table>\n",
       "</div>"
      ],
      "text/plain": [
       "   Colour Cell_Cycle_Cat  Cell_Cycle_Number  Gene_Induction chromosome  \\\n",
       "0  Yellow          21-28                 21               1          2   \n",
       "1  Yellow          13-20                 17               1         20   \n",
       "2  Yellow          13-20                 19               1         X1   \n",
       "3   Green          21-28                 28               0         11   \n",
       "4     Red          13-20                 16               1          3   \n",
       "\n",
       "                             description    type_of_gene   Class  \\\n",
       "0  insulin like growth factor 2 receptor  protein-coding  Animal   \n",
       "1                   coagulation factor X  protein-coding  Animal   \n",
       "2                    complement factor D  protein-coding  Animal   \n",
       "3         sperm autoantigenic protein 17  protein-coding  Animal   \n",
       "4           insulin like growth factor 2  protein-coding  Animal   \n",
       "\n",
       "   Description_Topic  \n",
       "0                  6  \n",
       "1                  6  \n",
       "2                  6  \n",
       "3                  2  \n",
       "4                  6  "
      ]
     },
     "execution_count": 32,
     "metadata": {},
     "output_type": "execute_result"
    }
   ],
   "source": [
    "# Associating topic to each of the documents\n",
    "\n",
    "gene_data['Description_Topic'] = topic_results.argmax(axis=1)\n",
    "\n",
    "gene_data.head()"
   ]
  },
  {
   "cell_type": "markdown",
   "metadata": {},
   "source": [
    "## Data Preparation for Modelling"
   ]
  },
  {
   "cell_type": "code",
   "execution_count": 33,
   "metadata": {},
   "outputs": [
    {
     "data": {
      "text/plain": [
       "Index(['Colour', 'Cell_Cycle_Cat', 'Gene_Induction', 'chromosome',\n",
       "       'type_of_gene', 'Class', 'Description_Topic'],\n",
       "      dtype='object')"
      ]
     },
     "execution_count": 33,
     "metadata": {},
     "output_type": "execute_result"
    }
   ],
   "source": [
    "# We will create a specific dataset for modelling\n",
    "# We will drop the columns \"Cell_Cycle_Number because of its strong Correlation with Cell_Cycle_Cat\"\n",
    "# We will use the Description_topic column which has been introduced by performing LDA on Description Column\n",
    "\n",
    "df_model = gene_data.drop(['Cell_Cycle_Number', 'description'], axis=1)\n",
    "df_model.columns"
   ]
  },
  {
   "cell_type": "markdown",
   "metadata": {},
   "source": [
    "We will numerically encode the categorical variables for modelling - using Sklearn Label Encoder"
   ]
  },
  {
   "cell_type": "code",
   "execution_count": 34,
   "metadata": {},
   "outputs": [],
   "source": [
    "from sklearn.preprocessing import LabelEncoder\n",
    " \n",
    "# Initialize the label encoder\n",
    "label_encoder = LabelEncoder() \n",
    "\n",
    "# Encode labels in column 'species'. \n",
    "df_model['Colour'] = label_encoder.fit_transform(df_model['Colour']) \n",
    "df_model['Cell_Cycle_Cat'] = label_encoder.fit_transform(df_model['Cell_Cycle_Cat'])\n",
    "df_model['chromosome'] = label_encoder.fit_transform(df_model['chromosome'])\n",
    "df_model['type_of_gene'] = label_encoder.fit_transform(df_model['type_of_gene'])"
   ]
  },
  {
   "cell_type": "markdown",
   "metadata": {},
   "source": [
    "## Train-Test Split"
   ]
  },
  {
   "cell_type": "markdown",
   "metadata": {},
   "source": [
    "Before we run the train test split, we will need to shuffle the dataframe because the target variables are arranged in sequential order, which may create unbalanced distribution of the target variable in training and test dataset"
   ]
  },
  {
   "cell_type": "code",
   "execution_count": 35,
   "metadata": {},
   "outputs": [
    {
     "data": {
      "text/html": [
       "<div>\n",
       "<style scoped>\n",
       "    .dataframe tbody tr th:only-of-type {\n",
       "        vertical-align: middle;\n",
       "    }\n",
       "\n",
       "    .dataframe tbody tr th {\n",
       "        vertical-align: top;\n",
       "    }\n",
       "\n",
       "    .dataframe thead th {\n",
       "        text-align: right;\n",
       "    }\n",
       "</style>\n",
       "<table border=\"1\" class=\"dataframe\">\n",
       "  <thead>\n",
       "    <tr style=\"text-align: right;\">\n",
       "      <th></th>\n",
       "      <th>Colour</th>\n",
       "      <th>Cell_Cycle_Cat</th>\n",
       "      <th>Gene_Induction</th>\n",
       "      <th>chromosome</th>\n",
       "      <th>type_of_gene</th>\n",
       "      <th>Class</th>\n",
       "      <th>Description_Topic</th>\n",
       "    </tr>\n",
       "  </thead>\n",
       "  <tbody>\n",
       "    <tr>\n",
       "      <th>3017</th>\n",
       "      <td>2</td>\n",
       "      <td>0</td>\n",
       "      <td>0</td>\n",
       "      <td>19</td>\n",
       "      <td>2</td>\n",
       "      <td>Plant</td>\n",
       "      <td>6</td>\n",
       "    </tr>\n",
       "    <tr>\n",
       "      <th>386</th>\n",
       "      <td>2</td>\n",
       "      <td>0</td>\n",
       "      <td>1</td>\n",
       "      <td>5</td>\n",
       "      <td>2</td>\n",
       "      <td>Animal</td>\n",
       "      <td>6</td>\n",
       "    </tr>\n",
       "    <tr>\n",
       "      <th>1995</th>\n",
       "      <td>2</td>\n",
       "      <td>1</td>\n",
       "      <td>1</td>\n",
       "      <td>4</td>\n",
       "      <td>2</td>\n",
       "      <td>Animal</td>\n",
       "      <td>3</td>\n",
       "    </tr>\n",
       "    <tr>\n",
       "      <th>3524</th>\n",
       "      <td>0</td>\n",
       "      <td>2</td>\n",
       "      <td>1</td>\n",
       "      <td>0</td>\n",
       "      <td>2</td>\n",
       "      <td>Plant</td>\n",
       "      <td>3</td>\n",
       "    </tr>\n",
       "    <tr>\n",
       "      <th>2389</th>\n",
       "      <td>0</td>\n",
       "      <td>0</td>\n",
       "      <td>0</td>\n",
       "      <td>20</td>\n",
       "      <td>2</td>\n",
       "      <td>Plant</td>\n",
       "      <td>0</td>\n",
       "    </tr>\n",
       "  </tbody>\n",
       "</table>\n",
       "</div>"
      ],
      "text/plain": [
       "      Colour  Cell_Cycle_Cat  Gene_Induction  chromosome  type_of_gene  \\\n",
       "3017       2               0               0          19             2   \n",
       "386        2               0               1           5             2   \n",
       "1995       2               1               1           4             2   \n",
       "3524       0               2               1           0             2   \n",
       "2389       0               0               0          20             2   \n",
       "\n",
       "       Class  Description_Topic  \n",
       "3017   Plant                  6  \n",
       "386   Animal                  6  \n",
       "1995  Animal                  3  \n",
       "3524   Plant                  3  \n",
       "2389   Plant                  0  "
      ]
     },
     "execution_count": 35,
     "metadata": {},
     "output_type": "execute_result"
    }
   ],
   "source": [
    "df_model = df_model.sample(frac=1)\n",
    "\n",
    "# Check the shuffled rows\n",
    "df_model.head()"
   ]
  },
  {
   "cell_type": "code",
   "execution_count": 36,
   "metadata": {},
   "outputs": [],
   "source": [
    "# Now we will perform the split\n",
    "\n",
    "from sklearn.model_selection import train_test_split\n",
    "features = df_model.drop('Class',axis=1)\n",
    "target = df_model['Class']\n",
    "\n",
    "features_train, features_test, target_train, target_test = train_test_split(features, target, \n",
    "                                                                            test_size=0.30, random_state=101)"
   ]
  },
  {
   "cell_type": "markdown",
   "metadata": {},
   "source": [
    "## Classification Model - Decision Tree"
   ]
  },
  {
   "cell_type": "code",
   "execution_count": 37,
   "metadata": {},
   "outputs": [
    {
     "data": {
      "text/plain": [
       "DecisionTreeClassifier(criterion='entropy')"
      ]
     },
     "execution_count": 37,
     "metadata": {},
     "output_type": "execute_result"
    }
   ],
   "source": [
    "from sklearn.tree import DecisionTreeClassifier\n",
    "\n",
    "# Initializing the classifier\n",
    "\n",
    "# We will build using both gini and entropy index\n",
    "\n",
    "dtree_gini = DecisionTreeClassifier(criterion='gini', splitter='best')\n",
    "# Fit on the training data\n",
    "dtree_gini.fit(features_train, target_train)\n",
    "\n",
    "dtree_entropy = DecisionTreeClassifier(criterion='entropy', splitter='best')\n",
    "# Fit on the training data\n",
    "dtree_entropy.fit(features_train, target_train)"
   ]
  },
  {
   "cell_type": "markdown",
   "metadata": {},
   "source": [
    "### Predictions and Evaluation of Decision Tree"
   ]
  },
  {
   "cell_type": "code",
   "execution_count": 40,
   "metadata": {},
   "outputs": [
    {
     "name": "stdout",
     "output_type": "stream",
     "text": [
      "Classification Report - Decision Tree Using Gini Index \n",
      "\n",
      "              precision    recall  f1-score   support\n",
      "\n",
      "      Animal       0.83      0.87      0.85       587\n",
      "       Plant       0.87      0.83      0.85       613\n",
      "\n",
      "    accuracy                           0.85      1200\n",
      "   macro avg       0.85      0.85      0.85      1200\n",
      "weighted avg       0.85      0.85      0.85      1200\n",
      "\n",
      "Confusion Matrix - Decision Tree Using Gini Index\n",
      "\n",
      "[[509  78]\n",
      " [106 507]]\n",
      "\n",
      "\n",
      "Classification Report - Decision Tree Using Entropy \n",
      "\n",
      "              precision    recall  f1-score   support\n",
      "\n",
      "      Animal       0.82      0.87      0.84       587\n",
      "       Plant       0.86      0.82      0.84       613\n",
      "\n",
      "    accuracy                           0.84      1200\n",
      "   macro avg       0.84      0.84      0.84      1200\n",
      "weighted avg       0.84      0.84      0.84      1200\n",
      "\n",
      "Confusion Matrix - Decision Tree Using Entropy\n",
      "\n",
      "[[508  79]\n",
      " [109 504]]\n"
     ]
    }
   ],
   "source": [
    "predictions_gini = dtree_gini.predict(features_test)\n",
    "predictions_entropy = dtree_entropy.predict(features_test)\n",
    "\n",
    "from sklearn.metrics import classification_report,confusion_matrix\n",
    "\n",
    "print(\"Classification Report - Decision Tree Using Gini Index \\n\")\n",
    "print(classification_report(target_test,predictions_gini))\n",
    "print(\"Confusion Matrix - Decision Tree Using Gini Index\\n\")\n",
    "print(confusion_matrix(target_test,predictions_gini))\n",
    "print(\"\\n\")\n",
    "print(\"Classification Report - Decision Tree Using Entropy \\n\")\n",
    "print(classification_report(target_test,predictions_entropy))\n",
    "print(\"Confusion Matrix - Decision Tree Using Entropy\\n\")\n",
    "print(confusion_matrix(target_test,predictions_entropy))"
   ]
  },
  {
   "cell_type": "markdown",
   "metadata": {},
   "source": [
    "### Conclusion from Decision Tree\n",
    "\n",
    "**Decision Tree** results, gives us the following **conclusions**\n",
    "\n",
    "1. The **overall accuracy** is *85%* with **Gini Index** and *84%* with **Entropy (Information Gain)**\n",
    "2. Both Gini and Entropy and Gini also shows comparable **Precision and Recall** at *85% and 84%* respectively\n",
    "3. This shows a predictable **consistency in the classification - which is a favorable condition for ML based approach**\n",
    "\n",
    "**Gini Index performs marginally better than Entropy in Decision Tree**"
   ]
  },
  {
   "cell_type": "markdown",
   "metadata": {},
   "source": [
    "## Classification Model - Random Forests"
   ]
  },
  {
   "cell_type": "code",
   "execution_count": 41,
   "metadata": {},
   "outputs": [
    {
     "data": {
      "text/plain": [
       "RandomForestClassifier(criterion='entropy')"
      ]
     },
     "execution_count": 41,
     "metadata": {},
     "output_type": "execute_result"
    }
   ],
   "source": [
    "# Training the Random Forest model\n",
    "from sklearn.ensemble import RandomForestClassifier\n",
    "\n",
    "# we will build the random forest classifier both using entropy and gini index\n",
    "rfc_gini = RandomForestClassifier(n_estimators=100, criterion='gini')\n",
    "rfc_gini.fit(features_train, target_train)\n",
    "\n",
    "rfc_entropy = RandomForestClassifier(n_estimators=100, criterion='entropy')\n",
    "rfc_entropy.fit(features_train, target_train)"
   ]
  },
  {
   "cell_type": "markdown",
   "metadata": {},
   "source": [
    "### Predictions and Evaluation of Random Forest"
   ]
  },
  {
   "cell_type": "code",
   "execution_count": 42,
   "metadata": {},
   "outputs": [
    {
     "name": "stdout",
     "output_type": "stream",
     "text": [
      "Classification Report - Random Forest Using Gini Index \n",
      "\n",
      "              precision    recall  f1-score   support\n",
      "\n",
      "      Animal       0.85      0.85      0.85       587\n",
      "       Plant       0.85      0.86      0.86       613\n",
      "\n",
      "    accuracy                           0.85      1200\n",
      "   macro avg       0.85      0.85      0.85      1200\n",
      "weighted avg       0.85      0.85      0.85      1200\n",
      "\n",
      "Confusion Matrix - Random Forest Using Gini Index\n",
      "\n",
      "[[497  90]\n",
      " [ 85 528]]\n",
      "\n",
      "\n",
      "Classification Report - Random Forest Using Entropy \n",
      "\n",
      "              precision    recall  f1-score   support\n",
      "\n",
      "      Animal       0.85      0.86      0.85       587\n",
      "       Plant       0.86      0.86      0.86       613\n",
      "\n",
      "    accuracy                           0.86      1200\n",
      "   macro avg       0.86      0.86      0.86      1200\n",
      "weighted avg       0.86      0.86      0.86      1200\n",
      "\n",
      "Confusion Matrix - Random Forest Using Entropy\n",
      "\n",
      "[[502  85]\n",
      " [ 88 525]]\n"
     ]
    }
   ],
   "source": [
    "# Predictions and Evaluation\n",
    "\n",
    "predictions_gini = rfc_gini.predict(features_test)\n",
    "predictions_entropy = rfc_entropy.predict(features_test)\n",
    "\n",
    "from sklearn.metrics import classification_report,confusion_matrix\n",
    "\n",
    "print(\"Classification Report - Random Forest Using Gini Index \\n\")\n",
    "print(classification_report(target_test,predictions_gini))\n",
    "print(\"Confusion Matrix - Random Forest Using Gini Index\\n\")\n",
    "print(confusion_matrix(target_test,predictions_gini))\n",
    "print(\"\\n\")\n",
    "print(\"Classification Report - Random Forest Using Entropy \\n\")\n",
    "print(classification_report(target_test,predictions_entropy))\n",
    "print(\"Confusion Matrix - Random Forest Using Entropy\\n\")\n",
    "print(confusion_matrix(target_test,predictions_entropy))"
   ]
  },
  {
   "cell_type": "markdown",
   "metadata": {},
   "source": [
    "### Conclusion from Random Forest\n",
    "\n",
    "**Random Forest** results, gives us the following **conclusions**\n",
    "\n",
    "1. The **overall accuracy** is *85%* with **Gini Index** and *86%* with **Entropy (Information Gain)**\n",
    "2. Both Gini and Entropy and Gini also shows comparable **Precision and Recall** at *85% and 86%* respectively\n",
    "3. This shows a predictable **consistency in the classification - which is a favorable condition for ML based approach**\n",
    "\n",
    "**Entropy (Information Gain) performs marginally better than Gini Index in Random Forest**"
   ]
  },
  {
   "cell_type": "markdown",
   "metadata": {},
   "source": [
    "## Classification Model - Naive Bayes Classifier"
   ]
  },
  {
   "cell_type": "code",
   "execution_count": 43,
   "metadata": {},
   "outputs": [
    {
     "data": {
      "text/plain": [
       "GaussianNB()"
      ]
     },
     "execution_count": 43,
     "metadata": {},
     "output_type": "execute_result"
    }
   ],
   "source": [
    "# We will run the model with Naive Bayes Classifier\n",
    "\n",
    "from sklearn.naive_bayes import GaussianNB\n",
    "bayes_model = GaussianNB()\n",
    "\n",
    "bayes_model.fit(features_test, target_test)"
   ]
  },
  {
   "cell_type": "markdown",
   "metadata": {},
   "source": [
    "### Predictions and Evaluation of Naive Bayes Classifier"
   ]
  },
  {
   "cell_type": "code",
   "execution_count": 44,
   "metadata": {},
   "outputs": [
    {
     "name": "stdout",
     "output_type": "stream",
     "text": [
      "Classification Report - Naive Bayes \n",
      "\n",
      "              precision    recall  f1-score   support\n",
      "\n",
      "      Animal       0.65      0.92      0.76       587\n",
      "       Plant       0.87      0.53      0.66       613\n",
      "\n",
      "    accuracy                           0.72      1200\n",
      "   macro avg       0.76      0.72      0.71      1200\n",
      "weighted avg       0.76      0.72      0.71      1200\n",
      "\n",
      "Confusion Matrix - Naive Bayes \n",
      "\n",
      "[[539  48]\n",
      " [288 325]]\n"
     ]
    }
   ],
   "source": [
    "# Predictions and Evaluation\n",
    "\n",
    "predictions_bayes = bayes_model.predict(features_test)\n",
    "\n",
    "from sklearn.metrics import classification_report,confusion_matrix\n",
    "\n",
    "print(\"Classification Report - Naive Bayes \\n\")\n",
    "print(classification_report(target_test,predictions_bayes))\n",
    "print(\"Confusion Matrix - Naive Bayes \\n\")\n",
    "print(confusion_matrix(target_test,predictions_bayes))\n"
   ]
  },
  {
   "cell_type": "markdown",
   "metadata": {},
   "source": [
    "### Conclusion from Naive Bayes Classifier\n",
    "\n",
    "**Naive Bayes** results, gives us the following **conclusions**\n",
    "\n",
    "1. The **overall accuracy** is *76%* with **Naive Bayes Classifier**\n",
    "2. Both **Precision and Recall** at *76% and 72%* respectively\n",
    "\n",
    "3. However it is being shown from the classification report that **Precision in classifying is considerably lower for Animals as compared to Plants**. *The alogorithm is missing to classify Animals as compared to Plants*.\n",
    "\n",
    "3. This Algorithm is not a favorable algorithm due to many missclassifications in *Animal*\n",
    "\n",
    "**Naive Bayes performs worse than Both Decision Trees and Random Forest due to many miss classification in Animal Genes**"
   ]
  },
  {
   "cell_type": "markdown",
   "metadata": {},
   "source": [
    "## Overall Conclusion and Recommendation"
   ]
  },
  {
   "cell_type": "markdown",
   "metadata": {},
   "source": [
    "**Both Tree based approaches performs well and provides consistent results**\n",
    "\n",
    "1. If **extraction of rules are important for downstream business systems - Decision Tree is recommended**\n",
    "\n",
    "2. If **rules extraction are not necessity - We should used Random Forest**"
   ]
  },
  {
   "cell_type": "code",
   "execution_count": null,
   "metadata": {},
   "outputs": [],
   "source": []
  }
 ],
 "metadata": {
  "kernelspec": {
   "display_name": "Python 3",
   "language": "python",
   "name": "python3"
  },
  "language_info": {
   "codemirror_mode": {
    "name": "ipython",
    "version": 3
   },
   "file_extension": ".py",
   "mimetype": "text/x-python",
   "name": "python",
   "nbconvert_exporter": "python",
   "pygments_lexer": "ipython3",
   "version": "3.7.7"
  }
 },
 "nbformat": 4,
 "nbformat_minor": 4
}
